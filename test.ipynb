{
 "cells": [
  {
   "cell_type": "code",
   "execution_count": 1,
   "metadata": {},
   "outputs": [],
   "source": [
    "from lookback_ops import *"
   ]
  },
  {
   "cell_type": "code",
   "execution_count": 2,
   "metadata": {},
   "outputs": [
    {
     "ename": "IndentationError",
     "evalue": "unexpected indent (<ipython-input-2-a1aea29d4474>, line 7)",
     "output_type": "error",
     "traceback": [
      "\u001b[0;36m  File \u001b[0;32m\"<ipython-input-2-a1aea29d4474>\"\u001b[0;36m, line \u001b[0;32m7\u001b[0m\n\u001b[0;31m    config.finish()\u001b[0m\n\u001b[0m    ^\u001b[0m\n\u001b[0;31mIndentationError\u001b[0m\u001b[0;31m:\u001b[0m unexpected indent\n"
     ]
    }
   ],
   "source": [
    "config = ModelConfig(max_sequence_length=15, annotation_number=10,\n",
    "                       adaption_layer_filters=[1024, 1024, 1024],\n",
    "                       net_global_dim=[64, 256],\n",
    "                       net_max_features_nums=512,\n",
    "                       stages=[6]\n",
    "                       )\n",
    "  config.finish()"
   ]
  },
  {
   "cell_type": "code",
   "execution_count": 3,
   "metadata": {},
   "outputs": [
    {
     "ename": "FileNotFoundError",
     "evalue": "[Errno 2] No such file or directory: '/home/litiange/prp_file/model/6-10'",
     "output_type": "error",
     "traceback": [
      "\u001b[0;31m---------------------------------------------------------------------------\u001b[0m",
      "\u001b[0;31mFileNotFoundError\u001b[0m                         Traceback (most recent call last)",
      "\u001b[0;32m<ipython-input-3-8c35b69351fd>\u001b[0m in \u001b[0;36m<module>\u001b[0;34m()\u001b[0m\n\u001b[1;32m      5\u001b[0m                        \u001b[0mstages\u001b[0m\u001b[0;34m=\u001b[0m\u001b[0;34m[\u001b[0m\u001b[0;36m6\u001b[0m\u001b[0;34m]\u001b[0m\u001b[0;34m\u001b[0m\u001b[0m\n\u001b[1;32m      6\u001b[0m                        )\n\u001b[0;32m----> 7\u001b[0;31m \u001b[0mconfig\u001b[0m\u001b[0;34m.\u001b[0m\u001b[0mfinish\u001b[0m\u001b[0;34m(\u001b[0m\u001b[0;34m)\u001b[0m\u001b[0;34m\u001b[0m\u001b[0m\n\u001b[0m",
      "\u001b[0;32m~/Desktop/keras_model/config.py\u001b[0m in \u001b[0;36mfinish\u001b[0;34m(self)\u001b[0m\n\u001b[1;32m    117\u001b[0m     \u001b[0mself\u001b[0m\u001b[0;34m.\u001b[0m\u001b[0mPARENT_PATH\u001b[0m \u001b[0;34m=\u001b[0m \u001b[0mos\u001b[0m\u001b[0;34m.\u001b[0m\u001b[0mpath\u001b[0m\u001b[0;34m.\u001b[0m\u001b[0mjoin\u001b[0m\u001b[0;34m(\u001b[0m\u001b[0mself\u001b[0m\u001b[0;34m.\u001b[0m\u001b[0mGRAND_PARENT_PATH\u001b[0m\u001b[0;34m,\u001b[0m \u001b[0;34m'model/'\u001b[0m \u001b[0;34m+\u001b[0m \u001b[0mstage_str\u001b[0m \u001b[0;34m+\u001b[0m \u001b[0;34m'-'\u001b[0m \u001b[0;34m+\u001b[0m \u001b[0mstr\u001b[0m\u001b[0;34m(\u001b[0m\u001b[0mself\u001b[0m\u001b[0;34m.\u001b[0m\u001b[0mannotation_number\u001b[0m\u001b[0;34m)\u001b[0m\u001b[0;34m)\u001b[0m\u001b[0;34m\u001b[0m\u001b[0m\n\u001b[1;32m    118\u001b[0m     \u001b[0;32mif\u001b[0m \u001b[0;32mnot\u001b[0m \u001b[0mos\u001b[0m\u001b[0;34m.\u001b[0m\u001b[0mpath\u001b[0m\u001b[0;34m.\u001b[0m\u001b[0misdir\u001b[0m\u001b[0;34m(\u001b[0m\u001b[0mself\u001b[0m\u001b[0;34m.\u001b[0m\u001b[0mPARENT_PATH\u001b[0m\u001b[0;34m)\u001b[0m\u001b[0;34m:\u001b[0m\u001b[0;34m\u001b[0m\u001b[0m\n\u001b[0;32m--> 119\u001b[0;31m       \u001b[0mos\u001b[0m\u001b[0;34m.\u001b[0m\u001b[0mmkdir\u001b[0m\u001b[0;34m(\u001b[0m\u001b[0mself\u001b[0m\u001b[0;34m.\u001b[0m\u001b[0mPARENT_PATH\u001b[0m\u001b[0;34m)\u001b[0m\u001b[0;34m\u001b[0m\u001b[0m\n\u001b[0m\u001b[1;32m    120\u001b[0m \u001b[0;34m\u001b[0m\u001b[0m\n\u001b[1;32m    121\u001b[0m     \u001b[0;31m# where to save dataset: self.raw_dataset, self.vocab, after load_data\u001b[0m\u001b[0;34m\u001b[0m\u001b[0;34m\u001b[0m\u001b[0m\n",
      "\u001b[0;31mFileNotFoundError\u001b[0m: [Errno 2] No such file or directory: '/home/litiange/prp_file/model/6-10'"
     ]
    }
   ],
   "source": [
    "config = ModelConfig(max_sequence_length=15, annotation_number=10,\n",
    "                       adaption_layer_filters=[1024, 1024, 1024],\n",
    "                       net_global_dim=[64, 256],\n",
    "                       net_max_features_nums=512,\n",
    "                       stages=[6]\n",
    "                       )\n",
    "config.finish()"
   ]
  },
  {
   "cell_type": "code",
   "execution_count": 4,
   "metadata": {},
   "outputs": [],
   "source": [
    "config = ModelConfig(max_sequence_length=15, annotation_number=10,\n",
    "                       adaption_layer_filters=[1024, 1024, 512],\n",
    "                       net_global_dim=[128, 256],\n",
    "                       net_max_features_nums=512,\n",
    "                       stages=[6],\n",
    "                       GRAND_PARENT_PATH='/Users/junr/Documents/prp/pic_data',\n",
    "                       IMAGE_PARENT_PATH='/Users/junr/Documents/prp/pic_data/pic_data'\n",
    "                       )\n",
    "config.finish()"
   ]
  },
  {
   "cell_type": "code",
   "execution_count": 5,
   "metadata": {},
   "outputs": [
    {
     "ename": "ValueError",
     "evalue": "Dimensions must be equal, but are 64 and 128 for 'BiasAdd' (op: 'BiasAdd') with input shapes: [1,128,320,64], [128].",
     "output_type": "error",
     "traceback": [
      "\u001b[0;31m---------------------------------------------------------------------------\u001b[0m",
      "\u001b[0;31mInvalidArgumentError\u001b[0m                      Traceback (most recent call last)",
      "\u001b[0;32m~/pyenv/tf_py3/lib/python3.6/site-packages/tensorflow/python/framework/common_shapes.py\u001b[0m in \u001b[0;36m_call_cpp_shape_fn_impl\u001b[0;34m(op, input_tensors_needed, input_tensors_as_shapes_needed, require_shape_fn)\u001b[0m\n\u001b[1;32m    653\u001b[0m           \u001b[0mgraph_def_version\u001b[0m\u001b[0;34m,\u001b[0m \u001b[0mnode_def_str\u001b[0m\u001b[0;34m,\u001b[0m \u001b[0minput_shapes\u001b[0m\u001b[0;34m,\u001b[0m \u001b[0minput_tensors\u001b[0m\u001b[0;34m,\u001b[0m\u001b[0;34m\u001b[0m\u001b[0m\n\u001b[0;32m--> 654\u001b[0;31m           input_tensors_as_shapes, status)\n\u001b[0m\u001b[1;32m    655\u001b[0m   \u001b[0;32mexcept\u001b[0m \u001b[0merrors\u001b[0m\u001b[0;34m.\u001b[0m\u001b[0mInvalidArgumentError\u001b[0m \u001b[0;32mas\u001b[0m \u001b[0merr\u001b[0m\u001b[0;34m:\u001b[0m\u001b[0;34m\u001b[0m\u001b[0m\n",
      "\u001b[0;32m/usr/local/Cellar/python3/3.6.2/Frameworks/Python.framework/Versions/3.6/lib/python3.6/contextlib.py\u001b[0m in \u001b[0;36m__exit__\u001b[0;34m(self, type, value, traceback)\u001b[0m\n\u001b[1;32m     87\u001b[0m             \u001b[0;32mtry\u001b[0m\u001b[0;34m:\u001b[0m\u001b[0;34m\u001b[0m\u001b[0m\n\u001b[0;32m---> 88\u001b[0;31m                 \u001b[0mnext\u001b[0m\u001b[0;34m(\u001b[0m\u001b[0mself\u001b[0m\u001b[0;34m.\u001b[0m\u001b[0mgen\u001b[0m\u001b[0;34m)\u001b[0m\u001b[0;34m\u001b[0m\u001b[0m\n\u001b[0m\u001b[1;32m     89\u001b[0m             \u001b[0;32mexcept\u001b[0m \u001b[0mStopIteration\u001b[0m\u001b[0;34m:\u001b[0m\u001b[0;34m\u001b[0m\u001b[0m\n",
      "\u001b[0;32m~/pyenv/tf_py3/lib/python3.6/site-packages/tensorflow/python/framework/errors_impl.py\u001b[0m in \u001b[0;36mraise_exception_on_not_ok_status\u001b[0;34m()\u001b[0m\n\u001b[1;32m    465\u001b[0m           \u001b[0mcompat\u001b[0m\u001b[0;34m.\u001b[0m\u001b[0mas_text\u001b[0m\u001b[0;34m(\u001b[0m\u001b[0mpywrap_tensorflow\u001b[0m\u001b[0;34m.\u001b[0m\u001b[0mTF_Message\u001b[0m\u001b[0;34m(\u001b[0m\u001b[0mstatus\u001b[0m\u001b[0;34m)\u001b[0m\u001b[0;34m)\u001b[0m\u001b[0;34m,\u001b[0m\u001b[0;34m\u001b[0m\u001b[0m\n\u001b[0;32m--> 466\u001b[0;31m           pywrap_tensorflow.TF_GetCode(status))\n\u001b[0m\u001b[1;32m    467\u001b[0m   \u001b[0;32mfinally\u001b[0m\u001b[0;34m:\u001b[0m\u001b[0;34m\u001b[0m\u001b[0m\n",
      "\u001b[0;31mInvalidArgumentError\u001b[0m: Dimensions must be equal, but are 64 and 128 for 'BiasAdd' (op: 'BiasAdd') with input shapes: [1,128,320,64], [128].",
      "\nDuring handling of the above exception, another exception occurred:\n",
      "\u001b[0;31mValueError\u001b[0m                                Traceback (most recent call last)",
      "\u001b[0;32m<ipython-input-5-5b616b1c8809>\u001b[0m in \u001b[0;36m<module>\u001b[0;34m()\u001b[0m\n\u001b[0;32m----> 1\u001b[0;31m \u001b[0ml\u001b[0m \u001b[0;34m=\u001b[0m \u001b[0mtest_lb_vgg\u001b[0m\u001b[0;34m(\u001b[0m\u001b[0mconfig\u001b[0m\u001b[0;34m)\u001b[0m\u001b[0;34m\u001b[0m\u001b[0m\n\u001b[0m",
      "\u001b[0;32m~/Desktop/keras_model/lookback_ops.py\u001b[0m in \u001b[0;36mtest_lb_vgg\u001b[0;34m(config, output_layer, top_k_activation)\u001b[0m\n\u001b[1;32m    282\u001b[0m   \u001b[0mfeed_m2\u001b[0m \u001b[0;34m=\u001b[0m \u001b[0mtf\u001b[0m\u001b[0;34m.\u001b[0m\u001b[0mplaceholder\u001b[0m\u001b[0;34m(\u001b[0m\u001b[0mtf\u001b[0m\u001b[0;34m.\u001b[0m\u001b[0mfloat32\u001b[0m\u001b[0;34m,\u001b[0m \u001b[0mshape\u001b[0m\u001b[0;34m=\u001b[0m\u001b[0;34m[\u001b[0m\u001b[0;36m1\u001b[0m\u001b[0;34m,\u001b[0m \u001b[0;36m64\u001b[0m\u001b[0;34m,\u001b[0m \u001b[0;36m160\u001b[0m\u001b[0;34m,\u001b[0m \u001b[0;36m128\u001b[0m\u001b[0;34m]\u001b[0m\u001b[0;34m)\u001b[0m \u001b[0;31m# mask for vgg/conv2\u001b[0m\u001b[0;34m\u001b[0m\u001b[0m\n\u001b[1;32m    283\u001b[0m   \u001b[0mfeed_m3\u001b[0m \u001b[0;34m=\u001b[0m \u001b[0mtf\u001b[0m\u001b[0;34m.\u001b[0m\u001b[0mplaceholder\u001b[0m\u001b[0;34m(\u001b[0m\u001b[0mtf\u001b[0m\u001b[0;34m.\u001b[0m\u001b[0mfloat32\u001b[0m\u001b[0;34m,\u001b[0m \u001b[0mshape\u001b[0m\u001b[0;34m=\u001b[0m\u001b[0;34m[\u001b[0m\u001b[0;36m1\u001b[0m\u001b[0;34m,\u001b[0m \u001b[0;36m32\u001b[0m\u001b[0;34m,\u001b[0m \u001b[0;36m80\u001b[0m\u001b[0;34m,\u001b[0m \u001b[0;36m256\u001b[0m\u001b[0;34m]\u001b[0m\u001b[0;34m)\u001b[0m  \u001b[0;31m# mask for vgg/conv3\u001b[0m\u001b[0;34m\u001b[0m\u001b[0m\n\u001b[0;32m--> 284\u001b[0;31m   \u001b[0mori_img_output\u001b[0m \u001b[0;34m=\u001b[0m \u001b[0mlb_tf_vgg\u001b[0m\u001b[0;34m(\u001b[0m\u001b[0mfeed_input\u001b[0m\u001b[0;34m,\u001b[0m \u001b[0;34m[\u001b[0m\u001b[0mfeed_m1\u001b[0m\u001b[0;34m,\u001b[0m \u001b[0mfeed_m2\u001b[0m\u001b[0;34m,\u001b[0m \u001b[0mfeed_m3\u001b[0m\u001b[0;34m]\u001b[0m\u001b[0;34m,\u001b[0m \u001b[0moutput_layer\u001b[0m\u001b[0;34m)\u001b[0m\u001b[0;34m\u001b[0m\u001b[0m\n\u001b[0m\u001b[1;32m    285\u001b[0m \u001b[0;34m\u001b[0m\u001b[0m\n\u001b[1;32m    286\u001b[0m   \u001b[0;31m# build sess\u001b[0m\u001b[0;34m\u001b[0m\u001b[0;34m\u001b[0m\u001b[0m\n",
      "\u001b[0;32m~/Desktop/keras_model/lookback_ops.py\u001b[0m in \u001b[0;36mlb_tf_vgg\u001b[0;34m(net, mask, output_layer)\u001b[0m\n\u001b[1;32m    219\u001b[0m       \u001b[0mnet\u001b[0m \u001b[0;34m=\u001b[0m \u001b[0mtf\u001b[0m\u001b[0;34m.\u001b[0m\u001b[0mnn\u001b[0m\u001b[0;34m.\u001b[0m\u001b[0mrelu\u001b[0m\u001b[0;34m(\u001b[0m\u001b[0mnet\u001b[0m\u001b[0;34m)\u001b[0m\u001b[0;34m\u001b[0m\u001b[0m\n\u001b[1;32m    220\u001b[0m       \u001b[0;31m# unbiases\u001b[0m\u001b[0;34m\u001b[0m\u001b[0;34m\u001b[0m\u001b[0m\n\u001b[0;32m--> 221\u001b[0;31m       \u001b[0mnet\u001b[0m \u001b[0;34m=\u001b[0m \u001b[0mtf\u001b[0m\u001b[0;34m.\u001b[0m\u001b[0mnn\u001b[0m\u001b[0;34m.\u001b[0m\u001b[0mbias_add\u001b[0m\u001b[0;34m(\u001b[0m\u001b[0mnet\u001b[0m\u001b[0;34m,\u001b[0m \u001b[0mtf\u001b[0m\u001b[0;34m.\u001b[0m\u001b[0mnegative\u001b[0m\u001b[0;34m(\u001b[0m\u001b[0mbias_tensor\u001b[0m\u001b[0;34m)\u001b[0m\u001b[0;34m)\u001b[0m\u001b[0;34m\u001b[0m\u001b[0m\n\u001b[0m\u001b[1;32m    222\u001b[0m       \u001b[0;31m# unconv\u001b[0m\u001b[0;34m\u001b[0m\u001b[0;34m\u001b[0m\u001b[0m\n\u001b[1;32m    223\u001b[0m       net = tf.nn.conv2d_transpose(net, w_tensor,\n",
      "\u001b[0;32m~/pyenv/tf_py3/lib/python3.6/site-packages/tensorflow/python/ops/nn_ops.py\u001b[0m in \u001b[0;36mbias_add\u001b[0;34m(value, bias, data_format, name)\u001b[0m\n\u001b[1;32m   1290\u001b[0m     \u001b[0mvalue\u001b[0m \u001b[0;34m=\u001b[0m \u001b[0mops\u001b[0m\u001b[0;34m.\u001b[0m\u001b[0mconvert_to_tensor\u001b[0m\u001b[0;34m(\u001b[0m\u001b[0mvalue\u001b[0m\u001b[0;34m,\u001b[0m \u001b[0mname\u001b[0m\u001b[0;34m=\u001b[0m\u001b[0;34m\"input\"\u001b[0m\u001b[0;34m)\u001b[0m\u001b[0;34m\u001b[0m\u001b[0m\n\u001b[1;32m   1291\u001b[0m     \u001b[0mbias\u001b[0m \u001b[0;34m=\u001b[0m \u001b[0mops\u001b[0m\u001b[0;34m.\u001b[0m\u001b[0mconvert_to_tensor\u001b[0m\u001b[0;34m(\u001b[0m\u001b[0mbias\u001b[0m\u001b[0;34m,\u001b[0m \u001b[0mdtype\u001b[0m\u001b[0;34m=\u001b[0m\u001b[0mvalue\u001b[0m\u001b[0;34m.\u001b[0m\u001b[0mdtype\u001b[0m\u001b[0;34m,\u001b[0m \u001b[0mname\u001b[0m\u001b[0;34m=\u001b[0m\u001b[0;34m\"bias\"\u001b[0m\u001b[0;34m)\u001b[0m\u001b[0;34m\u001b[0m\u001b[0m\n\u001b[0;32m-> 1292\u001b[0;31m     \u001b[0;32mreturn\u001b[0m \u001b[0mgen_nn_ops\u001b[0m\u001b[0;34m.\u001b[0m\u001b[0m_bias_add\u001b[0m\u001b[0;34m(\u001b[0m\u001b[0mvalue\u001b[0m\u001b[0;34m,\u001b[0m \u001b[0mbias\u001b[0m\u001b[0;34m,\u001b[0m \u001b[0mdata_format\u001b[0m\u001b[0;34m=\u001b[0m\u001b[0mdata_format\u001b[0m\u001b[0;34m,\u001b[0m \u001b[0mname\u001b[0m\u001b[0;34m=\u001b[0m\u001b[0mname\u001b[0m\u001b[0;34m)\u001b[0m\u001b[0;34m\u001b[0m\u001b[0m\n\u001b[0m\u001b[1;32m   1293\u001b[0m \u001b[0;34m\u001b[0m\u001b[0m\n\u001b[1;32m   1294\u001b[0m \u001b[0;34m\u001b[0m\u001b[0m\n",
      "\u001b[0;32m~/pyenv/tf_py3/lib/python3.6/site-packages/tensorflow/python/ops/gen_nn_ops.py\u001b[0m in \u001b[0;36m_bias_add\u001b[0;34m(value, bias, data_format, name)\u001b[0m\n\u001b[1;32m    279\u001b[0m   \"\"\"\n\u001b[1;32m    280\u001b[0m   result = _op_def_lib.apply_op(\"BiasAdd\", value=value, bias=bias,\n\u001b[0;32m--> 281\u001b[0;31m                                 data_format=data_format, name=name)\n\u001b[0m\u001b[1;32m    282\u001b[0m   \u001b[0;32mreturn\u001b[0m \u001b[0mresult\u001b[0m\u001b[0;34m\u001b[0m\u001b[0m\n\u001b[1;32m    283\u001b[0m \u001b[0;34m\u001b[0m\u001b[0m\n",
      "\u001b[0;32m~/pyenv/tf_py3/lib/python3.6/site-packages/tensorflow/python/framework/op_def_library.py\u001b[0m in \u001b[0;36mapply_op\u001b[0;34m(self, op_type_name, name, **keywords)\u001b[0m\n\u001b[1;32m    765\u001b[0m         op = g.create_op(op_type_name, inputs, output_types, name=scope,\n\u001b[1;32m    766\u001b[0m                          \u001b[0minput_types\u001b[0m\u001b[0;34m=\u001b[0m\u001b[0minput_types\u001b[0m\u001b[0;34m,\u001b[0m \u001b[0mattrs\u001b[0m\u001b[0;34m=\u001b[0m\u001b[0mattr_protos\u001b[0m\u001b[0;34m,\u001b[0m\u001b[0;34m\u001b[0m\u001b[0m\n\u001b[0;32m--> 767\u001b[0;31m                          op_def=op_def)\n\u001b[0m\u001b[1;32m    768\u001b[0m         \u001b[0;32mif\u001b[0m \u001b[0moutput_structure\u001b[0m\u001b[0;34m:\u001b[0m\u001b[0;34m\u001b[0m\u001b[0m\n\u001b[1;32m    769\u001b[0m           \u001b[0moutputs\u001b[0m \u001b[0;34m=\u001b[0m \u001b[0mop\u001b[0m\u001b[0;34m.\u001b[0m\u001b[0moutputs\u001b[0m\u001b[0;34m\u001b[0m\u001b[0m\n",
      "\u001b[0;32m~/pyenv/tf_py3/lib/python3.6/site-packages/tensorflow/python/framework/ops.py\u001b[0m in \u001b[0;36mcreate_op\u001b[0;34m(self, op_type, inputs, dtypes, input_types, name, attrs, op_def, compute_shapes, compute_device)\u001b[0m\n\u001b[1;32m   2630\u001b[0m                     original_op=self._default_original_op, op_def=op_def)\n\u001b[1;32m   2631\u001b[0m     \u001b[0;32mif\u001b[0m \u001b[0mcompute_shapes\u001b[0m\u001b[0;34m:\u001b[0m\u001b[0;34m\u001b[0m\u001b[0m\n\u001b[0;32m-> 2632\u001b[0;31m       \u001b[0mset_shapes_for_outputs\u001b[0m\u001b[0;34m(\u001b[0m\u001b[0mret\u001b[0m\u001b[0;34m)\u001b[0m\u001b[0;34m\u001b[0m\u001b[0m\n\u001b[0m\u001b[1;32m   2633\u001b[0m     \u001b[0mself\u001b[0m\u001b[0;34m.\u001b[0m\u001b[0m_add_op\u001b[0m\u001b[0;34m(\u001b[0m\u001b[0mret\u001b[0m\u001b[0;34m)\u001b[0m\u001b[0;34m\u001b[0m\u001b[0m\n\u001b[1;32m   2634\u001b[0m     \u001b[0mself\u001b[0m\u001b[0;34m.\u001b[0m\u001b[0m_record_op_seen_by_control_dependencies\u001b[0m\u001b[0;34m(\u001b[0m\u001b[0mret\u001b[0m\u001b[0;34m)\u001b[0m\u001b[0;34m\u001b[0m\u001b[0m\n",
      "\u001b[0;32m~/pyenv/tf_py3/lib/python3.6/site-packages/tensorflow/python/framework/ops.py\u001b[0m in \u001b[0;36mset_shapes_for_outputs\u001b[0;34m(op)\u001b[0m\n\u001b[1;32m   1909\u001b[0m       \u001b[0mshape_func\u001b[0m \u001b[0;34m=\u001b[0m \u001b[0m_call_cpp_shape_fn_and_require_op\u001b[0m\u001b[0;34m\u001b[0m\u001b[0m\n\u001b[1;32m   1910\u001b[0m \u001b[0;34m\u001b[0m\u001b[0m\n\u001b[0;32m-> 1911\u001b[0;31m   \u001b[0mshapes\u001b[0m \u001b[0;34m=\u001b[0m \u001b[0mshape_func\u001b[0m\u001b[0;34m(\u001b[0m\u001b[0mop\u001b[0m\u001b[0;34m)\u001b[0m\u001b[0;34m\u001b[0m\u001b[0m\n\u001b[0m\u001b[1;32m   1912\u001b[0m   \u001b[0;32mif\u001b[0m \u001b[0mshapes\u001b[0m \u001b[0;32mis\u001b[0m \u001b[0;32mNone\u001b[0m\u001b[0;34m:\u001b[0m\u001b[0;34m\u001b[0m\u001b[0m\n\u001b[1;32m   1913\u001b[0m     raise RuntimeError(\n",
      "\u001b[0;32m~/pyenv/tf_py3/lib/python3.6/site-packages/tensorflow/python/framework/ops.py\u001b[0m in \u001b[0;36mcall_with_requiring\u001b[0;34m(op)\u001b[0m\n\u001b[1;32m   1859\u001b[0m \u001b[0;34m\u001b[0m\u001b[0m\n\u001b[1;32m   1860\u001b[0m   \u001b[0;32mdef\u001b[0m \u001b[0mcall_with_requiring\u001b[0m\u001b[0;34m(\u001b[0m\u001b[0mop\u001b[0m\u001b[0;34m)\u001b[0m\u001b[0;34m:\u001b[0m\u001b[0;34m\u001b[0m\u001b[0m\n\u001b[0;32m-> 1861\u001b[0;31m     \u001b[0;32mreturn\u001b[0m \u001b[0mcall_cpp_shape_fn\u001b[0m\u001b[0;34m(\u001b[0m\u001b[0mop\u001b[0m\u001b[0;34m,\u001b[0m \u001b[0mrequire_shape_fn\u001b[0m\u001b[0;34m=\u001b[0m\u001b[0;32mTrue\u001b[0m\u001b[0;34m)\u001b[0m\u001b[0;34m\u001b[0m\u001b[0m\n\u001b[0m\u001b[1;32m   1862\u001b[0m \u001b[0;34m\u001b[0m\u001b[0m\n\u001b[1;32m   1863\u001b[0m   \u001b[0m_call_cpp_shape_fn_and_require_op\u001b[0m \u001b[0;34m=\u001b[0m \u001b[0mcall_with_requiring\u001b[0m\u001b[0;34m\u001b[0m\u001b[0m\n",
      "\u001b[0;32m~/pyenv/tf_py3/lib/python3.6/site-packages/tensorflow/python/framework/common_shapes.py\u001b[0m in \u001b[0;36mcall_cpp_shape_fn\u001b[0;34m(op, require_shape_fn)\u001b[0m\n\u001b[1;32m    593\u001b[0m     res = _call_cpp_shape_fn_impl(op, input_tensors_needed,\n\u001b[1;32m    594\u001b[0m                                   \u001b[0minput_tensors_as_shapes_needed\u001b[0m\u001b[0;34m,\u001b[0m\u001b[0;34m\u001b[0m\u001b[0m\n\u001b[0;32m--> 595\u001b[0;31m                                   require_shape_fn)\n\u001b[0m\u001b[1;32m    596\u001b[0m     \u001b[0;32mif\u001b[0m \u001b[0;32mnot\u001b[0m \u001b[0misinstance\u001b[0m\u001b[0;34m(\u001b[0m\u001b[0mres\u001b[0m\u001b[0;34m,\u001b[0m \u001b[0mdict\u001b[0m\u001b[0;34m)\u001b[0m\u001b[0;34m:\u001b[0m\u001b[0;34m\u001b[0m\u001b[0m\n\u001b[1;32m    597\u001b[0m       \u001b[0;31m# Handles the case where _call_cpp_shape_fn_impl calls unknown_shape(op).\u001b[0m\u001b[0;34m\u001b[0m\u001b[0;34m\u001b[0m\u001b[0m\n",
      "\u001b[0;32m~/pyenv/tf_py3/lib/python3.6/site-packages/tensorflow/python/framework/common_shapes.py\u001b[0m in \u001b[0;36m_call_cpp_shape_fn_impl\u001b[0;34m(op, input_tensors_needed, input_tensors_as_shapes_needed, require_shape_fn)\u001b[0m\n\u001b[1;32m    657\u001b[0m       \u001b[0mmissing_shape_fn\u001b[0m \u001b[0;34m=\u001b[0m \u001b[0;32mTrue\u001b[0m\u001b[0;34m\u001b[0m\u001b[0m\n\u001b[1;32m    658\u001b[0m     \u001b[0;32melse\u001b[0m\u001b[0;34m:\u001b[0m\u001b[0;34m\u001b[0m\u001b[0m\n\u001b[0;32m--> 659\u001b[0;31m       \u001b[0;32mraise\u001b[0m \u001b[0mValueError\u001b[0m\u001b[0;34m(\u001b[0m\u001b[0merr\u001b[0m\u001b[0;34m.\u001b[0m\u001b[0mmessage\u001b[0m\u001b[0;34m)\u001b[0m\u001b[0;34m\u001b[0m\u001b[0m\n\u001b[0m\u001b[1;32m    660\u001b[0m \u001b[0;34m\u001b[0m\u001b[0m\n\u001b[1;32m    661\u001b[0m   \u001b[0;32mif\u001b[0m \u001b[0mmissing_shape_fn\u001b[0m\u001b[0;34m:\u001b[0m\u001b[0;34m\u001b[0m\u001b[0m\n",
      "\u001b[0;31mValueError\u001b[0m: Dimensions must be equal, but are 64 and 128 for 'BiasAdd' (op: 'BiasAdd') with input shapes: [1,128,320,64], [128]."
     ]
    }
   ],
   "source": [
    "l = test_lb_vgg(config)"
   ]
  },
  {
   "cell_type": "code",
   "execution_count": 1,
   "metadata": {},
   "outputs": [],
   "source": [
    "from lookback_ops import *"
   ]
  },
  {
   "cell_type": "code",
   "execution_count": 2,
   "metadata": {},
   "outputs": [],
   "source": [
    "def return_a_config():\n",
    "  config = ModelConfig(max_sequence_length=15, annotation_number=10,\n",
    "                       adaption_layer_filters=[1024, 1024, 512],\n",
    "                       net_global_dim=[128, 256],\n",
    "                       net_max_features_nums=512,\n",
    "                       stages=[6],\n",
    "                       GRAND_PARENT_PATH='/Users/junr/Documents/prp/pic_data',\n",
    "                       IMAGE_PARENT_PATH='/Users/junr/Documents/prp/pic_data/pic_data'\n",
    "                       )\n",
    "  config.finish()\n",
    "  return config"
   ]
  },
  {
   "cell_type": "code",
   "execution_count": 3,
   "metadata": {},
   "outputs": [],
   "source": [
    "config = return_a_config()"
   ]
  },
  {
   "cell_type": "code",
   "execution_count": 4,
   "metadata": {},
   "outputs": [
    {
     "ename": "ValueError",
     "evalue": "Dimensions must be equal, but are 64 and 128 for 'BiasAdd' (op: 'BiasAdd') with input shapes: [1,128,320,64], [128].",
     "output_type": "error",
     "traceback": [
      "\u001b[0;31m---------------------------------------------------------------------------\u001b[0m",
      "\u001b[0;31mInvalidArgumentError\u001b[0m                      Traceback (most recent call last)",
      "\u001b[0;32m~/pyenv/tf_py3/lib/python3.6/site-packages/tensorflow/python/framework/common_shapes.py\u001b[0m in \u001b[0;36m_call_cpp_shape_fn_impl\u001b[0;34m(op, input_tensors_needed, input_tensors_as_shapes_needed, require_shape_fn)\u001b[0m\n\u001b[1;32m    653\u001b[0m           \u001b[0mgraph_def_version\u001b[0m\u001b[0;34m,\u001b[0m \u001b[0mnode_def_str\u001b[0m\u001b[0;34m,\u001b[0m \u001b[0minput_shapes\u001b[0m\u001b[0;34m,\u001b[0m \u001b[0minput_tensors\u001b[0m\u001b[0;34m,\u001b[0m\u001b[0;34m\u001b[0m\u001b[0m\n\u001b[0;32m--> 654\u001b[0;31m           input_tensors_as_shapes, status)\n\u001b[0m\u001b[1;32m    655\u001b[0m   \u001b[0;32mexcept\u001b[0m \u001b[0merrors\u001b[0m\u001b[0;34m.\u001b[0m\u001b[0mInvalidArgumentError\u001b[0m \u001b[0;32mas\u001b[0m \u001b[0merr\u001b[0m\u001b[0;34m:\u001b[0m\u001b[0;34m\u001b[0m\u001b[0m\n",
      "\u001b[0;32m/usr/local/Cellar/python3/3.6.2/Frameworks/Python.framework/Versions/3.6/lib/python3.6/contextlib.py\u001b[0m in \u001b[0;36m__exit__\u001b[0;34m(self, type, value, traceback)\u001b[0m\n\u001b[1;32m     87\u001b[0m             \u001b[0;32mtry\u001b[0m\u001b[0;34m:\u001b[0m\u001b[0;34m\u001b[0m\u001b[0m\n\u001b[0;32m---> 88\u001b[0;31m                 \u001b[0mnext\u001b[0m\u001b[0;34m(\u001b[0m\u001b[0mself\u001b[0m\u001b[0;34m.\u001b[0m\u001b[0mgen\u001b[0m\u001b[0;34m)\u001b[0m\u001b[0;34m\u001b[0m\u001b[0m\n\u001b[0m\u001b[1;32m     89\u001b[0m             \u001b[0;32mexcept\u001b[0m \u001b[0mStopIteration\u001b[0m\u001b[0;34m:\u001b[0m\u001b[0;34m\u001b[0m\u001b[0m\n",
      "\u001b[0;32m~/pyenv/tf_py3/lib/python3.6/site-packages/tensorflow/python/framework/errors_impl.py\u001b[0m in \u001b[0;36mraise_exception_on_not_ok_status\u001b[0;34m()\u001b[0m\n\u001b[1;32m    465\u001b[0m           \u001b[0mcompat\u001b[0m\u001b[0;34m.\u001b[0m\u001b[0mas_text\u001b[0m\u001b[0;34m(\u001b[0m\u001b[0mpywrap_tensorflow\u001b[0m\u001b[0;34m.\u001b[0m\u001b[0mTF_Message\u001b[0m\u001b[0;34m(\u001b[0m\u001b[0mstatus\u001b[0m\u001b[0;34m)\u001b[0m\u001b[0;34m)\u001b[0m\u001b[0;34m,\u001b[0m\u001b[0;34m\u001b[0m\u001b[0m\n\u001b[0;32m--> 466\u001b[0;31m           pywrap_tensorflow.TF_GetCode(status))\n\u001b[0m\u001b[1;32m    467\u001b[0m   \u001b[0;32mfinally\u001b[0m\u001b[0;34m:\u001b[0m\u001b[0;34m\u001b[0m\u001b[0m\n",
      "\u001b[0;31mInvalidArgumentError\u001b[0m: Dimensions must be equal, but are 64 and 128 for 'BiasAdd' (op: 'BiasAdd') with input shapes: [1,128,320,64], [128].",
      "\nDuring handling of the above exception, another exception occurred:\n",
      "\u001b[0;31mValueError\u001b[0m                                Traceback (most recent call last)",
      "\u001b[0;32m<ipython-input-4-135bd65cb5b6>\u001b[0m in \u001b[0;36m<module>\u001b[0;34m()\u001b[0m\n\u001b[0;32m----> 1\u001b[0;31m \u001b[0ma\u001b[0m \u001b[0;34m=\u001b[0m \u001b[0mtest_lb_vgg\u001b[0m\u001b[0;34m(\u001b[0m\u001b[0mconfig\u001b[0m\u001b[0;34m)\u001b[0m\u001b[0;34m\u001b[0m\u001b[0m\n\u001b[0m",
      "\u001b[0;32m~/Desktop/keras_model/lookback_ops.py\u001b[0m in \u001b[0;36mtest_lb_vgg\u001b[0;34m(config, output_layer, top_k_activation)\u001b[0m\n\u001b[1;32m    282\u001b[0m   \u001b[0mfeed_m2\u001b[0m \u001b[0;34m=\u001b[0m \u001b[0mtf\u001b[0m\u001b[0;34m.\u001b[0m\u001b[0mplaceholder\u001b[0m\u001b[0;34m(\u001b[0m\u001b[0mtf\u001b[0m\u001b[0;34m.\u001b[0m\u001b[0mfloat32\u001b[0m\u001b[0;34m,\u001b[0m \u001b[0mshape\u001b[0m\u001b[0;34m=\u001b[0m\u001b[0;34m[\u001b[0m\u001b[0;36m1\u001b[0m\u001b[0;34m,\u001b[0m \u001b[0;36m64\u001b[0m\u001b[0;34m,\u001b[0m \u001b[0;36m160\u001b[0m\u001b[0;34m,\u001b[0m \u001b[0;36m128\u001b[0m\u001b[0;34m]\u001b[0m\u001b[0;34m)\u001b[0m \u001b[0;31m# mask for vgg/conv2\u001b[0m\u001b[0;34m\u001b[0m\u001b[0m\n\u001b[1;32m    283\u001b[0m   \u001b[0mfeed_m3\u001b[0m \u001b[0;34m=\u001b[0m \u001b[0mtf\u001b[0m\u001b[0;34m.\u001b[0m\u001b[0mplaceholder\u001b[0m\u001b[0;34m(\u001b[0m\u001b[0mtf\u001b[0m\u001b[0;34m.\u001b[0m\u001b[0mfloat32\u001b[0m\u001b[0;34m,\u001b[0m \u001b[0mshape\u001b[0m\u001b[0;34m=\u001b[0m\u001b[0;34m[\u001b[0m\u001b[0;36m1\u001b[0m\u001b[0;34m,\u001b[0m \u001b[0;36m32\u001b[0m\u001b[0;34m,\u001b[0m \u001b[0;36m80\u001b[0m\u001b[0;34m,\u001b[0m \u001b[0;36m256\u001b[0m\u001b[0;34m]\u001b[0m\u001b[0;34m)\u001b[0m  \u001b[0;31m# mask for vgg/conv3\u001b[0m\u001b[0;34m\u001b[0m\u001b[0m\n\u001b[0;32m--> 284\u001b[0;31m   \u001b[0mori_img_output\u001b[0m \u001b[0;34m=\u001b[0m \u001b[0mlb_tf_vgg\u001b[0m\u001b[0;34m(\u001b[0m\u001b[0mfeed_input\u001b[0m\u001b[0;34m,\u001b[0m \u001b[0;34m[\u001b[0m\u001b[0mfeed_m1\u001b[0m\u001b[0;34m,\u001b[0m \u001b[0mfeed_m2\u001b[0m\u001b[0;34m,\u001b[0m \u001b[0mfeed_m3\u001b[0m\u001b[0;34m]\u001b[0m\u001b[0;34m,\u001b[0m \u001b[0moutput_layer\u001b[0m\u001b[0;34m)\u001b[0m\u001b[0;34m\u001b[0m\u001b[0m\n\u001b[0m\u001b[1;32m    285\u001b[0m \u001b[0;34m\u001b[0m\u001b[0m\n\u001b[1;32m    286\u001b[0m   \u001b[0;31m# build sess\u001b[0m\u001b[0;34m\u001b[0m\u001b[0;34m\u001b[0m\u001b[0m\n",
      "\u001b[0;32m~/Desktop/keras_model/lookback_ops.py\u001b[0m in \u001b[0;36mlb_tf_vgg\u001b[0;34m(net, mask, output_layer)\u001b[0m\n\u001b[1;32m    219\u001b[0m       \u001b[0mnet\u001b[0m \u001b[0;34m=\u001b[0m \u001b[0mtf\u001b[0m\u001b[0;34m.\u001b[0m\u001b[0mnn\u001b[0m\u001b[0;34m.\u001b[0m\u001b[0mrelu\u001b[0m\u001b[0;34m(\u001b[0m\u001b[0mnet\u001b[0m\u001b[0;34m)\u001b[0m\u001b[0;34m\u001b[0m\u001b[0m\n\u001b[1;32m    220\u001b[0m       \u001b[0;31m# unbiases\u001b[0m\u001b[0;34m\u001b[0m\u001b[0;34m\u001b[0m\u001b[0m\n\u001b[0;32m--> 221\u001b[0;31m       \u001b[0mnet\u001b[0m \u001b[0;34m=\u001b[0m \u001b[0mtf\u001b[0m\u001b[0;34m.\u001b[0m\u001b[0mnn\u001b[0m\u001b[0;34m.\u001b[0m\u001b[0mbias_add\u001b[0m\u001b[0;34m(\u001b[0m\u001b[0mnet\u001b[0m\u001b[0;34m,\u001b[0m \u001b[0mtf\u001b[0m\u001b[0;34m.\u001b[0m\u001b[0mnegative\u001b[0m\u001b[0;34m(\u001b[0m\u001b[0mbias_tensor\u001b[0m\u001b[0;34m)\u001b[0m\u001b[0;34m)\u001b[0m\u001b[0;34m\u001b[0m\u001b[0m\n\u001b[0m\u001b[1;32m    222\u001b[0m       \u001b[0;31m# unconv\u001b[0m\u001b[0;34m\u001b[0m\u001b[0;34m\u001b[0m\u001b[0m\n\u001b[1;32m    223\u001b[0m       net = tf.nn.conv2d_transpose(net, w_tensor,\n",
      "\u001b[0;32m~/pyenv/tf_py3/lib/python3.6/site-packages/tensorflow/python/ops/nn_ops.py\u001b[0m in \u001b[0;36mbias_add\u001b[0;34m(value, bias, data_format, name)\u001b[0m\n\u001b[1;32m   1290\u001b[0m     \u001b[0mvalue\u001b[0m \u001b[0;34m=\u001b[0m \u001b[0mops\u001b[0m\u001b[0;34m.\u001b[0m\u001b[0mconvert_to_tensor\u001b[0m\u001b[0;34m(\u001b[0m\u001b[0mvalue\u001b[0m\u001b[0;34m,\u001b[0m \u001b[0mname\u001b[0m\u001b[0;34m=\u001b[0m\u001b[0;34m\"input\"\u001b[0m\u001b[0;34m)\u001b[0m\u001b[0;34m\u001b[0m\u001b[0m\n\u001b[1;32m   1291\u001b[0m     \u001b[0mbias\u001b[0m \u001b[0;34m=\u001b[0m \u001b[0mops\u001b[0m\u001b[0;34m.\u001b[0m\u001b[0mconvert_to_tensor\u001b[0m\u001b[0;34m(\u001b[0m\u001b[0mbias\u001b[0m\u001b[0;34m,\u001b[0m \u001b[0mdtype\u001b[0m\u001b[0;34m=\u001b[0m\u001b[0mvalue\u001b[0m\u001b[0;34m.\u001b[0m\u001b[0mdtype\u001b[0m\u001b[0;34m,\u001b[0m \u001b[0mname\u001b[0m\u001b[0;34m=\u001b[0m\u001b[0;34m\"bias\"\u001b[0m\u001b[0;34m)\u001b[0m\u001b[0;34m\u001b[0m\u001b[0m\n\u001b[0;32m-> 1292\u001b[0;31m     \u001b[0;32mreturn\u001b[0m \u001b[0mgen_nn_ops\u001b[0m\u001b[0;34m.\u001b[0m\u001b[0m_bias_add\u001b[0m\u001b[0;34m(\u001b[0m\u001b[0mvalue\u001b[0m\u001b[0;34m,\u001b[0m \u001b[0mbias\u001b[0m\u001b[0;34m,\u001b[0m \u001b[0mdata_format\u001b[0m\u001b[0;34m=\u001b[0m\u001b[0mdata_format\u001b[0m\u001b[0;34m,\u001b[0m \u001b[0mname\u001b[0m\u001b[0;34m=\u001b[0m\u001b[0mname\u001b[0m\u001b[0;34m)\u001b[0m\u001b[0;34m\u001b[0m\u001b[0m\n\u001b[0m\u001b[1;32m   1293\u001b[0m \u001b[0;34m\u001b[0m\u001b[0m\n\u001b[1;32m   1294\u001b[0m \u001b[0;34m\u001b[0m\u001b[0m\n",
      "\u001b[0;32m~/pyenv/tf_py3/lib/python3.6/site-packages/tensorflow/python/ops/gen_nn_ops.py\u001b[0m in \u001b[0;36m_bias_add\u001b[0;34m(value, bias, data_format, name)\u001b[0m\n\u001b[1;32m    279\u001b[0m   \"\"\"\n\u001b[1;32m    280\u001b[0m   result = _op_def_lib.apply_op(\"BiasAdd\", value=value, bias=bias,\n\u001b[0;32m--> 281\u001b[0;31m                                 data_format=data_format, name=name)\n\u001b[0m\u001b[1;32m    282\u001b[0m   \u001b[0;32mreturn\u001b[0m \u001b[0mresult\u001b[0m\u001b[0;34m\u001b[0m\u001b[0m\n\u001b[1;32m    283\u001b[0m \u001b[0;34m\u001b[0m\u001b[0m\n",
      "\u001b[0;32m~/pyenv/tf_py3/lib/python3.6/site-packages/tensorflow/python/framework/op_def_library.py\u001b[0m in \u001b[0;36mapply_op\u001b[0;34m(self, op_type_name, name, **keywords)\u001b[0m\n\u001b[1;32m    765\u001b[0m         op = g.create_op(op_type_name, inputs, output_types, name=scope,\n\u001b[1;32m    766\u001b[0m                          \u001b[0minput_types\u001b[0m\u001b[0;34m=\u001b[0m\u001b[0minput_types\u001b[0m\u001b[0;34m,\u001b[0m \u001b[0mattrs\u001b[0m\u001b[0;34m=\u001b[0m\u001b[0mattr_protos\u001b[0m\u001b[0;34m,\u001b[0m\u001b[0;34m\u001b[0m\u001b[0m\n\u001b[0;32m--> 767\u001b[0;31m                          op_def=op_def)\n\u001b[0m\u001b[1;32m    768\u001b[0m         \u001b[0;32mif\u001b[0m \u001b[0moutput_structure\u001b[0m\u001b[0;34m:\u001b[0m\u001b[0;34m\u001b[0m\u001b[0m\n\u001b[1;32m    769\u001b[0m           \u001b[0moutputs\u001b[0m \u001b[0;34m=\u001b[0m \u001b[0mop\u001b[0m\u001b[0;34m.\u001b[0m\u001b[0moutputs\u001b[0m\u001b[0;34m\u001b[0m\u001b[0m\n",
      "\u001b[0;32m~/pyenv/tf_py3/lib/python3.6/site-packages/tensorflow/python/framework/ops.py\u001b[0m in \u001b[0;36mcreate_op\u001b[0;34m(self, op_type, inputs, dtypes, input_types, name, attrs, op_def, compute_shapes, compute_device)\u001b[0m\n\u001b[1;32m   2630\u001b[0m                     original_op=self._default_original_op, op_def=op_def)\n\u001b[1;32m   2631\u001b[0m     \u001b[0;32mif\u001b[0m \u001b[0mcompute_shapes\u001b[0m\u001b[0;34m:\u001b[0m\u001b[0;34m\u001b[0m\u001b[0m\n\u001b[0;32m-> 2632\u001b[0;31m       \u001b[0mset_shapes_for_outputs\u001b[0m\u001b[0;34m(\u001b[0m\u001b[0mret\u001b[0m\u001b[0;34m)\u001b[0m\u001b[0;34m\u001b[0m\u001b[0m\n\u001b[0m\u001b[1;32m   2633\u001b[0m     \u001b[0mself\u001b[0m\u001b[0;34m.\u001b[0m\u001b[0m_add_op\u001b[0m\u001b[0;34m(\u001b[0m\u001b[0mret\u001b[0m\u001b[0;34m)\u001b[0m\u001b[0;34m\u001b[0m\u001b[0m\n\u001b[1;32m   2634\u001b[0m     \u001b[0mself\u001b[0m\u001b[0;34m.\u001b[0m\u001b[0m_record_op_seen_by_control_dependencies\u001b[0m\u001b[0;34m(\u001b[0m\u001b[0mret\u001b[0m\u001b[0;34m)\u001b[0m\u001b[0;34m\u001b[0m\u001b[0m\n",
      "\u001b[0;32m~/pyenv/tf_py3/lib/python3.6/site-packages/tensorflow/python/framework/ops.py\u001b[0m in \u001b[0;36mset_shapes_for_outputs\u001b[0;34m(op)\u001b[0m\n\u001b[1;32m   1909\u001b[0m       \u001b[0mshape_func\u001b[0m \u001b[0;34m=\u001b[0m \u001b[0m_call_cpp_shape_fn_and_require_op\u001b[0m\u001b[0;34m\u001b[0m\u001b[0m\n\u001b[1;32m   1910\u001b[0m \u001b[0;34m\u001b[0m\u001b[0m\n\u001b[0;32m-> 1911\u001b[0;31m   \u001b[0mshapes\u001b[0m \u001b[0;34m=\u001b[0m \u001b[0mshape_func\u001b[0m\u001b[0;34m(\u001b[0m\u001b[0mop\u001b[0m\u001b[0;34m)\u001b[0m\u001b[0;34m\u001b[0m\u001b[0m\n\u001b[0m\u001b[1;32m   1912\u001b[0m   \u001b[0;32mif\u001b[0m \u001b[0mshapes\u001b[0m \u001b[0;32mis\u001b[0m \u001b[0;32mNone\u001b[0m\u001b[0;34m:\u001b[0m\u001b[0;34m\u001b[0m\u001b[0m\n\u001b[1;32m   1913\u001b[0m     raise RuntimeError(\n",
      "\u001b[0;32m~/pyenv/tf_py3/lib/python3.6/site-packages/tensorflow/python/framework/ops.py\u001b[0m in \u001b[0;36mcall_with_requiring\u001b[0;34m(op)\u001b[0m\n\u001b[1;32m   1859\u001b[0m \u001b[0;34m\u001b[0m\u001b[0m\n\u001b[1;32m   1860\u001b[0m   \u001b[0;32mdef\u001b[0m \u001b[0mcall_with_requiring\u001b[0m\u001b[0;34m(\u001b[0m\u001b[0mop\u001b[0m\u001b[0;34m)\u001b[0m\u001b[0;34m:\u001b[0m\u001b[0;34m\u001b[0m\u001b[0m\n\u001b[0;32m-> 1861\u001b[0;31m     \u001b[0;32mreturn\u001b[0m \u001b[0mcall_cpp_shape_fn\u001b[0m\u001b[0;34m(\u001b[0m\u001b[0mop\u001b[0m\u001b[0;34m,\u001b[0m \u001b[0mrequire_shape_fn\u001b[0m\u001b[0;34m=\u001b[0m\u001b[0;32mTrue\u001b[0m\u001b[0;34m)\u001b[0m\u001b[0;34m\u001b[0m\u001b[0m\n\u001b[0m\u001b[1;32m   1862\u001b[0m \u001b[0;34m\u001b[0m\u001b[0m\n\u001b[1;32m   1863\u001b[0m   \u001b[0m_call_cpp_shape_fn_and_require_op\u001b[0m \u001b[0;34m=\u001b[0m \u001b[0mcall_with_requiring\u001b[0m\u001b[0;34m\u001b[0m\u001b[0m\n",
      "\u001b[0;32m~/pyenv/tf_py3/lib/python3.6/site-packages/tensorflow/python/framework/common_shapes.py\u001b[0m in \u001b[0;36mcall_cpp_shape_fn\u001b[0;34m(op, require_shape_fn)\u001b[0m\n\u001b[1;32m    593\u001b[0m     res = _call_cpp_shape_fn_impl(op, input_tensors_needed,\n\u001b[1;32m    594\u001b[0m                                   \u001b[0minput_tensors_as_shapes_needed\u001b[0m\u001b[0;34m,\u001b[0m\u001b[0;34m\u001b[0m\u001b[0m\n\u001b[0;32m--> 595\u001b[0;31m                                   require_shape_fn)\n\u001b[0m\u001b[1;32m    596\u001b[0m     \u001b[0;32mif\u001b[0m \u001b[0;32mnot\u001b[0m \u001b[0misinstance\u001b[0m\u001b[0;34m(\u001b[0m\u001b[0mres\u001b[0m\u001b[0;34m,\u001b[0m \u001b[0mdict\u001b[0m\u001b[0;34m)\u001b[0m\u001b[0;34m:\u001b[0m\u001b[0;34m\u001b[0m\u001b[0m\n\u001b[1;32m    597\u001b[0m       \u001b[0;31m# Handles the case where _call_cpp_shape_fn_impl calls unknown_shape(op).\u001b[0m\u001b[0;34m\u001b[0m\u001b[0;34m\u001b[0m\u001b[0m\n",
      "\u001b[0;32m~/pyenv/tf_py3/lib/python3.6/site-packages/tensorflow/python/framework/common_shapes.py\u001b[0m in \u001b[0;36m_call_cpp_shape_fn_impl\u001b[0;34m(op, input_tensors_needed, input_tensors_as_shapes_needed, require_shape_fn)\u001b[0m\n\u001b[1;32m    657\u001b[0m       \u001b[0mmissing_shape_fn\u001b[0m \u001b[0;34m=\u001b[0m \u001b[0;32mTrue\u001b[0m\u001b[0;34m\u001b[0m\u001b[0m\n\u001b[1;32m    658\u001b[0m     \u001b[0;32melse\u001b[0m\u001b[0;34m:\u001b[0m\u001b[0;34m\u001b[0m\u001b[0m\n\u001b[0;32m--> 659\u001b[0;31m       \u001b[0;32mraise\u001b[0m \u001b[0mValueError\u001b[0m\u001b[0;34m(\u001b[0m\u001b[0merr\u001b[0m\u001b[0;34m.\u001b[0m\u001b[0mmessage\u001b[0m\u001b[0;34m)\u001b[0m\u001b[0;34m\u001b[0m\u001b[0m\n\u001b[0m\u001b[1;32m    660\u001b[0m \u001b[0;34m\u001b[0m\u001b[0m\n\u001b[1;32m    661\u001b[0m   \u001b[0;32mif\u001b[0m \u001b[0mmissing_shape_fn\u001b[0m\u001b[0;34m:\u001b[0m\u001b[0;34m\u001b[0m\u001b[0m\n",
      "\u001b[0;31mValueError\u001b[0m: Dimensions must be equal, but are 64 and 128 for 'BiasAdd' (op: 'BiasAdd') with input shapes: [1,128,320,64], [128]."
     ]
    }
   ],
   "source": [
    "a = test_lb_vgg(config)"
   ]
  },
  {
   "cell_type": "code",
   "execution_count": 5,
   "metadata": {},
   "outputs": [],
   "source": [
    "def lb_tf_vgg(net, mask, output_layer):\n",
    "  \"\"\"\n",
    "  net: tensor\n",
    "  mask: placeholder need to be feeded\n",
    "  output_layer: like 'conv1' 'vgg_16/conv1', '1'\n",
    "  \"\"\"\n",
    "  # has to be one of ['vgg_16/conv4', 'vgg_16/conv3', 'vgg_16/conv2', 'vgg_16/conv1']\n",
    "  # vgg part\n",
    "  vgg_output_layer = int(output_layer[-1])\n",
    "  vgg_conv = [[1, [2, 1]],\n",
    "              [2, [2, 1]],\n",
    "              [3, [3, 2, 1]],\n",
    "              [4, [3, 2, 1]]]\n",
    "  # vgg part\n",
    "  for first_conv_idx in range(vgg_output_layer-1, -1, -1):\n",
    "    first_conv = vgg_conv[first_conv_idx][0]\n",
    "    for second_conv in vgg_conv[first_conv_idx][1]:\n",
    "      conv_name = 'vgg_16/conv%s/conv%s_%s/' % (str(first_conv), str(first_conv), str(second_conv))\n",
    "      weights = conv_name + 'weights:0'\n",
    "      bias = conv_name + 'biases:0'\n",
    "      # get tensor\n",
    "      w_tensor = my_get_variables_by_name(weights)[0]\n",
    "      bias_tensor = my_get_variables_by_name(bias)[0]\n",
    "      # output_shape, for filters, shape[-2] is the input, [-1] is the output in inference\n",
    "      # but for lookback, [-2] is the output, [-1] is the input\n",
    "      output_filters = w_tensor.get_shape().as_list()[-2]\n",
    "      output_shape = [1, int(128 / (2 ** (first_conv - 1))), int(320 / (2 ** (first_conv - 1))), output_filters]\n",
    "      # unrelu\n",
    "      net = tf.nn.relu(net)\n",
    "      # unbiases\n",
    "      net = tf.nn.bias_add(net, tf.negative(bias_tensor))\n",
    "      # unconv\n",
    "      net = tf.nn.conv2d_transpose(net, w_tensor,\n",
    "                                   output_shape=output_shape,\n",
    "                                   strides=[1, 1, 1, 1])\n",
    "    if first_conv != 1:\n",
    "      # unpool\n",
    "      net = unpool2x2(net, mask[first_conv - 2])\n",
    "  return net"
   ]
  },
  {
   "cell_type": "code",
   "execution_count": 6,
   "metadata": {},
   "outputs": [
    {
     "ename": "ValueError",
     "evalue": "Variable vgg_16/conv1/conv1_1/weights already exists, disallowed. Did you mean to set reuse=True in VarScope? Originally defined at:\n\n  File \"/Users/junr/pyenv/tf_py3/lib/python3.6/site-packages/tensorflow/contrib/framework/python/ops/variables.py\", line 216, in variable\n    use_resource=use_resource)\n  File \"/Users/junr/pyenv/tf_py3/lib/python3.6/site-packages/tensorflow/contrib/framework/python/ops/arg_scope.py\", line 181, in func_with_args\n    return func(*args, **current_args)\n  File \"/Users/junr/pyenv/tf_py3/lib/python3.6/site-packages/tensorflow/contrib/framework/python/ops/variables.py\", line 261, in model_variable\n    use_resource=use_resource)\n",
     "output_type": "error",
     "traceback": [
      "\u001b[0;31m---------------------------------------------------------------------------\u001b[0m",
      "\u001b[0;31mValueError\u001b[0m                                Traceback (most recent call last)",
      "\u001b[0;32m<ipython-input-6-135bd65cb5b6>\u001b[0m in \u001b[0;36m<module>\u001b[0;34m()\u001b[0m\n\u001b[0;32m----> 1\u001b[0;31m \u001b[0ma\u001b[0m \u001b[0;34m=\u001b[0m \u001b[0mtest_lb_vgg\u001b[0m\u001b[0;34m(\u001b[0m\u001b[0mconfig\u001b[0m\u001b[0;34m)\u001b[0m\u001b[0;34m\u001b[0m\u001b[0m\n\u001b[0m",
      "\u001b[0;32m~/Desktop/keras_model/lookback_ops.py\u001b[0m in \u001b[0;36mtest_lb_vgg\u001b[0;34m(config, output_layer, top_k_activation)\u001b[0m\n\u001b[1;32m    275\u001b[0m   \u001b[0;31m# build forward model\u001b[0m\u001b[0;34m\u001b[0m\u001b[0;34m\u001b[0m\u001b[0m\n\u001b[1;32m    276\u001b[0m   \u001b[0mimages\u001b[0m \u001b[0;34m=\u001b[0m \u001b[0mtf\u001b[0m\u001b[0;34m.\u001b[0m\u001b[0mplaceholder\u001b[0m\u001b[0;34m(\u001b[0m\u001b[0mtf\u001b[0m\u001b[0;34m.\u001b[0m\u001b[0mfloat32\u001b[0m\u001b[0;34m,\u001b[0m \u001b[0;34m[\u001b[0m\u001b[0mconfig\u001b[0m\u001b[0;34m.\u001b[0m\u001b[0mmax_sequence_length\u001b[0m\u001b[0;34m,\u001b[0m \u001b[0;36m128\u001b[0m\u001b[0;34m,\u001b[0m \u001b[0;36m320\u001b[0m\u001b[0;34m,\u001b[0m \u001b[0;36m3\u001b[0m\u001b[0;34m]\u001b[0m\u001b[0;34m)\u001b[0m\u001b[0;34m\u001b[0m\u001b[0m\n\u001b[0;32m--> 277\u001b[0;31m   \u001b[0madaption_output\u001b[0m\u001b[0;34m,\u001b[0m \u001b[0mnet1m\u001b[0m\u001b[0;34m,\u001b[0m \u001b[0mnet2m\u001b[0m\u001b[0;34m,\u001b[0m \u001b[0mnet3m\u001b[0m\u001b[0;34m,\u001b[0m \u001b[0mnet_max_feature\u001b[0m \u001b[0;34m=\u001b[0m \u001b[0mforward_model\u001b[0m\u001b[0;34m(\u001b[0m\u001b[0mimages\u001b[0m\u001b[0;34m,\u001b[0m \u001b[0mconfig\u001b[0m\u001b[0;34m)\u001b[0m\u001b[0;34m\u001b[0m\u001b[0m\n\u001b[0m\u001b[1;32m    278\u001b[0m \u001b[0;34m\u001b[0m\u001b[0m\n\u001b[1;32m    279\u001b[0m   \u001b[0;31m# build model\u001b[0m\u001b[0;34m\u001b[0m\u001b[0;34m\u001b[0m\u001b[0m\n",
      "\u001b[0;32m~/Desktop/keras_model/lookback_ops.py\u001b[0m in \u001b[0;36mforward_model\u001b[0;34m(images, config)\u001b[0m\n\u001b[1;32m    257\u001b[0m     \u001b[0mimages\u001b[0m\u001b[0;34m:\u001b[0m \u001b[0mplaceholder\u001b[0m\u001b[0;34m\u001b[0m\u001b[0m\n\u001b[1;32m    258\u001b[0m   \"\"\"\n\u001b[0;32m--> 259\u001b[0;31m   \u001b[0madaption_output\u001b[0m\u001b[0;34m,\u001b[0m \u001b[0mnet1m\u001b[0m\u001b[0;34m,\u001b[0m \u001b[0mnet2m\u001b[0m\u001b[0;34m,\u001b[0m \u001b[0mnet3m\u001b[0m\u001b[0;34m,\u001b[0m \u001b[0mnet_max_feature\u001b[0m \u001b[0;34m=\u001b[0m \u001b[0mmax_model\u001b[0m\u001b[0;34m(\u001b[0m\u001b[0mimages\u001b[0m\u001b[0;34m,\u001b[0m \u001b[0mconfig\u001b[0m\u001b[0;34m)\u001b[0m\u001b[0;34m\u001b[0m\u001b[0m\n\u001b[0m\u001b[1;32m    260\u001b[0m   \u001b[0;32mreturn\u001b[0m \u001b[0madaption_output\u001b[0m\u001b[0;34m,\u001b[0m \u001b[0mnet1m\u001b[0m\u001b[0;34m,\u001b[0m \u001b[0mnet2m\u001b[0m\u001b[0;34m,\u001b[0m \u001b[0mnet3m\u001b[0m\u001b[0;34m,\u001b[0m \u001b[0mnet_max_feature\u001b[0m\u001b[0;34m\u001b[0m\u001b[0m\n\u001b[1;32m    261\u001b[0m \u001b[0;34m\u001b[0m\u001b[0m\n",
      "\u001b[0;32m~/Desktop/keras_model/lookback_ops.py\u001b[0m in \u001b[0;36mmax_model\u001b[0;34m(images, config)\u001b[0m\n\u001b[1;32m     66\u001b[0m      \u001b[0madaption_output\u001b[0m\u001b[0;34m,\u001b[0m \u001b[0mnet1m\u001b[0m\u001b[0;34m,\u001b[0m \u001b[0mnet2m\u001b[0m\u001b[0;34m,\u001b[0m \u001b[0mnet3m\u001b[0m\u001b[0;34m,\u001b[0m \u001b[0mnet4m\u001b[0m\u001b[0;34m,\u001b[0m \u001b[0mnet_max_feature\u001b[0m\u001b[0;34m\u001b[0m\u001b[0m\n\u001b[1;32m     67\u001b[0m   \"\"\"\n\u001b[0;32m---> 68\u001b[0;31m   \u001b[0mnet\u001b[0m\u001b[0;34m,\u001b[0m \u001b[0mnet1m\u001b[0m\u001b[0;34m,\u001b[0m \u001b[0mnet2m\u001b[0m\u001b[0;34m,\u001b[0m \u001b[0mnet3m\u001b[0m\u001b[0;34m,\u001b[0m \u001b[0mnet4m\u001b[0m \u001b[0;34m=\u001b[0m \u001b[0mextract_feature\u001b[0m\u001b[0;34m(\u001b[0m\u001b[0mimages\u001b[0m\u001b[0;34m)\u001b[0m\u001b[0;34m\u001b[0m\u001b[0m\n\u001b[0m\u001b[1;32m     69\u001b[0m   \u001b[0;31m# if output_layer.startswith('vgg_16/'):\u001b[0m\u001b[0;34m\u001b[0m\u001b[0;34m\u001b[0m\u001b[0m\n\u001b[1;32m     70\u001b[0m   \u001b[0;31m#   return net, net1m, net2m, net3m, None\u001b[0m\u001b[0;34m\u001b[0m\u001b[0;34m\u001b[0m\u001b[0m\n",
      "\u001b[0;32m~/Desktop/keras_model/lookback_ops.py\u001b[0m in \u001b[0;36mextract_feature\u001b[0;34m(images, output_layer, stddev)\u001b[0m\n\u001b[1;32m     54\u001b[0m                         biases_initializer=tf.zeros_initializer()):\n\u001b[1;32m     55\u001b[0m       \u001b[0;32mwith\u001b[0m \u001b[0mslim\u001b[0m\u001b[0;34m.\u001b[0m\u001b[0marg_scope\u001b[0m\u001b[0;34m(\u001b[0m\u001b[0;34m[\u001b[0m\u001b[0mslim\u001b[0m\u001b[0;34m.\u001b[0m\u001b[0mconv2d\u001b[0m\u001b[0;34m]\u001b[0m\u001b[0;34m,\u001b[0m \u001b[0mpadding\u001b[0m\u001b[0;34m=\u001b[0m\u001b[0;34m'SAME'\u001b[0m\u001b[0;34m)\u001b[0m\u001b[0;34m:\u001b[0m\u001b[0;34m\u001b[0m\u001b[0m\n\u001b[0;32m---> 56\u001b[0;31m         \u001b[0mnet\u001b[0m\u001b[0;34m,\u001b[0m \u001b[0mend_points\u001b[0m\u001b[0;34m,\u001b[0m \u001b[0mnet1m\u001b[0m\u001b[0;34m,\u001b[0m \u001b[0mnet2m\u001b[0m\u001b[0;34m,\u001b[0m \u001b[0mnet3m\u001b[0m\u001b[0;34m,\u001b[0m \u001b[0mnet4m\u001b[0m \u001b[0;34m=\u001b[0m \u001b[0mvgg_16\u001b[0m\u001b[0;34m(\u001b[0m\u001b[0mimages\u001b[0m\u001b[0;34m)\u001b[0m\u001b[0;34m\u001b[0m\u001b[0m\n\u001b[0m\u001b[1;32m     57\u001b[0m         \u001b[0moutput\u001b[0m \u001b[0;34m=\u001b[0m \u001b[0mend_points\u001b[0m\u001b[0;34m[\u001b[0m\u001b[0;34m'vgg_16/'\u001b[0m \u001b[0;34m+\u001b[0m \u001b[0moutput_layer\u001b[0m\u001b[0;34m]\u001b[0m\u001b[0;34m\u001b[0m\u001b[0m\n\u001b[1;32m     58\u001b[0m   \u001b[0;32mreturn\u001b[0m \u001b[0moutput\u001b[0m\u001b[0;34m,\u001b[0m \u001b[0mnet1m\u001b[0m\u001b[0;34m,\u001b[0m \u001b[0mnet2m\u001b[0m\u001b[0;34m,\u001b[0m \u001b[0mnet3m\u001b[0m\u001b[0;34m,\u001b[0m \u001b[0mnet4m\u001b[0m\u001b[0;34m\u001b[0m\u001b[0m\n",
      "\u001b[0;32m~/Desktop/keras_model/lookback_ops.py\u001b[0m in \u001b[0;36mvgg_16\u001b[0;34m(inputs, scope)\u001b[0m\n\u001b[1;32m     25\u001b[0m     with slim.arg_scope([slim.conv2d, slim.fully_connected, slim.max_pool2d],\n\u001b[1;32m     26\u001b[0m                         outputs_collections=end_points_collection):\n\u001b[0;32m---> 27\u001b[0;31m       \u001b[0mnet1\u001b[0m \u001b[0;34m=\u001b[0m \u001b[0mslim\u001b[0m\u001b[0;34m.\u001b[0m\u001b[0mrepeat\u001b[0m\u001b[0;34m(\u001b[0m\u001b[0minputs\u001b[0m\u001b[0;34m,\u001b[0m \u001b[0;36m2\u001b[0m\u001b[0;34m,\u001b[0m \u001b[0mslim\u001b[0m\u001b[0;34m.\u001b[0m\u001b[0mconv2d\u001b[0m\u001b[0;34m,\u001b[0m \u001b[0;36m64\u001b[0m\u001b[0;34m,\u001b[0m \u001b[0;34m[\u001b[0m\u001b[0;36m3\u001b[0m\u001b[0;34m,\u001b[0m \u001b[0;36m3\u001b[0m\u001b[0;34m]\u001b[0m\u001b[0;34m,\u001b[0m \u001b[0mscope\u001b[0m\u001b[0;34m=\u001b[0m\u001b[0;34m'conv1'\u001b[0m\u001b[0;34m)\u001b[0m\u001b[0;34m\u001b[0m\u001b[0m\n\u001b[0m\u001b[1;32m     28\u001b[0m       \u001b[0mnet1m\u001b[0m \u001b[0;34m=\u001b[0m \u001b[0mslim\u001b[0m\u001b[0;34m.\u001b[0m\u001b[0mmax_pool2d\u001b[0m\u001b[0;34m(\u001b[0m\u001b[0mnet1\u001b[0m\u001b[0;34m,\u001b[0m \u001b[0;34m[\u001b[0m\u001b[0;36m2\u001b[0m\u001b[0;34m,\u001b[0m \u001b[0;36m2\u001b[0m\u001b[0;34m]\u001b[0m\u001b[0;34m,\u001b[0m \u001b[0mscope\u001b[0m\u001b[0;34m=\u001b[0m\u001b[0;34m'pool1'\u001b[0m\u001b[0;34m)\u001b[0m\u001b[0;34m\u001b[0m\u001b[0m\n\u001b[1;32m     29\u001b[0m       \u001b[0mnet2\u001b[0m \u001b[0;34m=\u001b[0m \u001b[0mslim\u001b[0m\u001b[0;34m.\u001b[0m\u001b[0mrepeat\u001b[0m\u001b[0;34m(\u001b[0m\u001b[0mnet1m\u001b[0m\u001b[0;34m,\u001b[0m \u001b[0;36m2\u001b[0m\u001b[0;34m,\u001b[0m \u001b[0mslim\u001b[0m\u001b[0;34m.\u001b[0m\u001b[0mconv2d\u001b[0m\u001b[0;34m,\u001b[0m \u001b[0;36m128\u001b[0m\u001b[0;34m,\u001b[0m \u001b[0;34m[\u001b[0m\u001b[0;36m3\u001b[0m\u001b[0;34m,\u001b[0m \u001b[0;36m3\u001b[0m\u001b[0;34m]\u001b[0m\u001b[0;34m,\u001b[0m \u001b[0mscope\u001b[0m\u001b[0;34m=\u001b[0m\u001b[0;34m'conv2'\u001b[0m\u001b[0;34m)\u001b[0m\u001b[0;34m\u001b[0m\u001b[0m\n",
      "\u001b[0;32m~/pyenv/tf_py3/lib/python3.6/site-packages/tensorflow/contrib/layers/python/layers/layers.py\u001b[0m in \u001b[0;36mrepeat\u001b[0;34m(inputs, repetitions, layer, *args, **kwargs)\u001b[0m\n\u001b[1;32m   2058\u001b[0m     \u001b[0;32mfor\u001b[0m \u001b[0mi\u001b[0m \u001b[0;32min\u001b[0m \u001b[0mrange\u001b[0m\u001b[0;34m(\u001b[0m\u001b[0mrepetitions\u001b[0m\u001b[0;34m)\u001b[0m\u001b[0;34m:\u001b[0m\u001b[0;34m\u001b[0m\u001b[0m\n\u001b[1;32m   2059\u001b[0m       \u001b[0mkwargs\u001b[0m\u001b[0;34m[\u001b[0m\u001b[0;34m'scope'\u001b[0m\u001b[0;34m]\u001b[0m \u001b[0;34m=\u001b[0m \u001b[0mscope\u001b[0m \u001b[0;34m+\u001b[0m \u001b[0;34m'_'\u001b[0m \u001b[0;34m+\u001b[0m \u001b[0mstr\u001b[0m\u001b[0;34m(\u001b[0m\u001b[0mi\u001b[0m\u001b[0;34m+\u001b[0m\u001b[0;36m1\u001b[0m\u001b[0;34m)\u001b[0m\u001b[0;34m\u001b[0m\u001b[0m\n\u001b[0;32m-> 2060\u001b[0;31m       \u001b[0moutputs\u001b[0m \u001b[0;34m=\u001b[0m \u001b[0mlayer\u001b[0m\u001b[0;34m(\u001b[0m\u001b[0moutputs\u001b[0m\u001b[0;34m,\u001b[0m \u001b[0;34m*\u001b[0m\u001b[0margs\u001b[0m\u001b[0;34m,\u001b[0m \u001b[0;34m**\u001b[0m\u001b[0mkwargs\u001b[0m\u001b[0;34m)\u001b[0m\u001b[0;34m\u001b[0m\u001b[0m\n\u001b[0m\u001b[1;32m   2061\u001b[0m     \u001b[0;32mreturn\u001b[0m \u001b[0moutputs\u001b[0m\u001b[0;34m\u001b[0m\u001b[0m\n\u001b[1;32m   2062\u001b[0m \u001b[0;34m\u001b[0m\u001b[0m\n",
      "\u001b[0;32m~/pyenv/tf_py3/lib/python3.6/site-packages/tensorflow/contrib/framework/python/ops/arg_scope.py\u001b[0m in \u001b[0;36mfunc_with_args\u001b[0;34m(*args, **kwargs)\u001b[0m\n\u001b[1;32m    179\u001b[0m       \u001b[0mcurrent_args\u001b[0m \u001b[0;34m=\u001b[0m \u001b[0mcurrent_scope\u001b[0m\u001b[0;34m[\u001b[0m\u001b[0mkey_func\u001b[0m\u001b[0;34m]\u001b[0m\u001b[0;34m.\u001b[0m\u001b[0mcopy\u001b[0m\u001b[0;34m(\u001b[0m\u001b[0;34m)\u001b[0m\u001b[0;34m\u001b[0m\u001b[0m\n\u001b[1;32m    180\u001b[0m       \u001b[0mcurrent_args\u001b[0m\u001b[0;34m.\u001b[0m\u001b[0mupdate\u001b[0m\u001b[0;34m(\u001b[0m\u001b[0mkwargs\u001b[0m\u001b[0;34m)\u001b[0m\u001b[0;34m\u001b[0m\u001b[0m\n\u001b[0;32m--> 181\u001b[0;31m     \u001b[0;32mreturn\u001b[0m \u001b[0mfunc\u001b[0m\u001b[0;34m(\u001b[0m\u001b[0;34m*\u001b[0m\u001b[0margs\u001b[0m\u001b[0;34m,\u001b[0m \u001b[0;34m**\u001b[0m\u001b[0mcurrent_args\u001b[0m\u001b[0;34m)\u001b[0m\u001b[0;34m\u001b[0m\u001b[0m\n\u001b[0m\u001b[1;32m    182\u001b[0m   \u001b[0m_add_op\u001b[0m\u001b[0;34m(\u001b[0m\u001b[0mfunc\u001b[0m\u001b[0;34m)\u001b[0m\u001b[0;34m\u001b[0m\u001b[0m\n\u001b[1;32m    183\u001b[0m   \u001b[0msetattr\u001b[0m\u001b[0;34m(\u001b[0m\u001b[0mfunc_with_args\u001b[0m\u001b[0;34m,\u001b[0m \u001b[0;34m'_key_op'\u001b[0m\u001b[0;34m,\u001b[0m \u001b[0m_key_op\u001b[0m\u001b[0;34m(\u001b[0m\u001b[0mfunc\u001b[0m\u001b[0;34m)\u001b[0m\u001b[0;34m)\u001b[0m\u001b[0;34m\u001b[0m\u001b[0m\n",
      "\u001b[0;32m~/pyenv/tf_py3/lib/python3.6/site-packages/tensorflow/contrib/layers/python/layers/layers.py\u001b[0m in \u001b[0;36mconvolution\u001b[0;34m(inputs, num_outputs, kernel_size, stride, padding, data_format, rate, activation_fn, normalizer_fn, normalizer_params, weights_initializer, weights_regularizer, biases_initializer, biases_regularizer, reuse, variables_collections, outputs_collections, trainable, scope)\u001b[0m\n\u001b[1;32m   1025\u001b[0m                         \u001b[0m_scope\u001b[0m\u001b[0;34m=\u001b[0m\u001b[0msc\u001b[0m\u001b[0;34m,\u001b[0m\u001b[0;34m\u001b[0m\u001b[0m\n\u001b[1;32m   1026\u001b[0m                         _reuse=reuse)\n\u001b[0;32m-> 1027\u001b[0;31m     \u001b[0moutputs\u001b[0m \u001b[0;34m=\u001b[0m \u001b[0mlayer\u001b[0m\u001b[0;34m.\u001b[0m\u001b[0mapply\u001b[0m\u001b[0;34m(\u001b[0m\u001b[0minputs\u001b[0m\u001b[0;34m)\u001b[0m\u001b[0;34m\u001b[0m\u001b[0m\n\u001b[0m\u001b[1;32m   1028\u001b[0m \u001b[0;34m\u001b[0m\u001b[0m\n\u001b[1;32m   1029\u001b[0m     \u001b[0;31m# Add variables to collections.\u001b[0m\u001b[0;34m\u001b[0m\u001b[0;34m\u001b[0m\u001b[0m\n",
      "\u001b[0;32m~/pyenv/tf_py3/lib/python3.6/site-packages/tensorflow/python/layers/base.py\u001b[0m in \u001b[0;36mapply\u001b[0;34m(self, inputs, *args, **kwargs)\u001b[0m\n\u001b[1;32m    501\u001b[0m       \u001b[0mOutput\u001b[0m \u001b[0mtensor\u001b[0m\u001b[0;34m(\u001b[0m\u001b[0ms\u001b[0m\u001b[0;34m)\u001b[0m\u001b[0;34m.\u001b[0m\u001b[0;34m\u001b[0m\u001b[0m\n\u001b[1;32m    502\u001b[0m     \"\"\"\n\u001b[0;32m--> 503\u001b[0;31m     \u001b[0;32mreturn\u001b[0m \u001b[0mself\u001b[0m\u001b[0;34m.\u001b[0m\u001b[0m__call__\u001b[0m\u001b[0;34m(\u001b[0m\u001b[0minputs\u001b[0m\u001b[0;34m,\u001b[0m \u001b[0;34m*\u001b[0m\u001b[0margs\u001b[0m\u001b[0;34m,\u001b[0m \u001b[0;34m**\u001b[0m\u001b[0mkwargs\u001b[0m\u001b[0;34m)\u001b[0m\u001b[0;34m\u001b[0m\u001b[0m\n\u001b[0m\u001b[1;32m    504\u001b[0m \u001b[0;34m\u001b[0m\u001b[0m\n\u001b[1;32m    505\u001b[0m   \u001b[0;32mdef\u001b[0m \u001b[0m_assert_input_compatibility\u001b[0m\u001b[0;34m(\u001b[0m\u001b[0mself\u001b[0m\u001b[0;34m,\u001b[0m \u001b[0minputs\u001b[0m\u001b[0;34m)\u001b[0m\u001b[0;34m:\u001b[0m\u001b[0;34m\u001b[0m\u001b[0m\n",
      "\u001b[0;32m~/pyenv/tf_py3/lib/python3.6/site-packages/tensorflow/python/layers/base.py\u001b[0m in \u001b[0;36m__call__\u001b[0;34m(self, inputs, *args, **kwargs)\u001b[0m\n\u001b[1;32m    441\u001b[0m           \u001b[0minput_shapes\u001b[0m \u001b[0;34m=\u001b[0m \u001b[0;34m[\u001b[0m\u001b[0mx\u001b[0m\u001b[0;34m.\u001b[0m\u001b[0mget_shape\u001b[0m\u001b[0;34m(\u001b[0m\u001b[0;34m)\u001b[0m \u001b[0;32mfor\u001b[0m \u001b[0mx\u001b[0m \u001b[0;32min\u001b[0m \u001b[0minput_list\u001b[0m\u001b[0;34m]\u001b[0m\u001b[0;34m\u001b[0m\u001b[0m\n\u001b[1;32m    442\u001b[0m           \u001b[0;32mif\u001b[0m \u001b[0mlen\u001b[0m\u001b[0;34m(\u001b[0m\u001b[0minput_shapes\u001b[0m\u001b[0;34m)\u001b[0m \u001b[0;34m==\u001b[0m \u001b[0;36m1\u001b[0m\u001b[0;34m:\u001b[0m\u001b[0;34m\u001b[0m\u001b[0m\n\u001b[0;32m--> 443\u001b[0;31m             \u001b[0mself\u001b[0m\u001b[0;34m.\u001b[0m\u001b[0mbuild\u001b[0m\u001b[0;34m(\u001b[0m\u001b[0minput_shapes\u001b[0m\u001b[0;34m[\u001b[0m\u001b[0;36m0\u001b[0m\u001b[0;34m]\u001b[0m\u001b[0;34m)\u001b[0m\u001b[0;34m\u001b[0m\u001b[0m\n\u001b[0m\u001b[1;32m    444\u001b[0m           \u001b[0;32melse\u001b[0m\u001b[0;34m:\u001b[0m\u001b[0;34m\u001b[0m\u001b[0m\n\u001b[1;32m    445\u001b[0m             \u001b[0mself\u001b[0m\u001b[0;34m.\u001b[0m\u001b[0mbuild\u001b[0m\u001b[0;34m(\u001b[0m\u001b[0minput_shapes\u001b[0m\u001b[0;34m)\u001b[0m\u001b[0;34m\u001b[0m\u001b[0m\n",
      "\u001b[0;32m~/pyenv/tf_py3/lib/python3.6/site-packages/tensorflow/python/layers/convolutional.py\u001b[0m in \u001b[0;36mbuild\u001b[0;34m(self, input_shape)\u001b[0m\n\u001b[1;32m    135\u001b[0m                                     \u001b[0mregularizer\u001b[0m\u001b[0;34m=\u001b[0m\u001b[0mself\u001b[0m\u001b[0;34m.\u001b[0m\u001b[0mkernel_regularizer\u001b[0m\u001b[0;34m,\u001b[0m\u001b[0;34m\u001b[0m\u001b[0m\n\u001b[1;32m    136\u001b[0m                                     \u001b[0mtrainable\u001b[0m\u001b[0;34m=\u001b[0m\u001b[0;32mTrue\u001b[0m\u001b[0;34m,\u001b[0m\u001b[0;34m\u001b[0m\u001b[0m\n\u001b[0;32m--> 137\u001b[0;31m                                     dtype=self.dtype)\n\u001b[0m\u001b[1;32m    138\u001b[0m     \u001b[0;32mif\u001b[0m \u001b[0mself\u001b[0m\u001b[0;34m.\u001b[0m\u001b[0muse_bias\u001b[0m\u001b[0;34m:\u001b[0m\u001b[0;34m\u001b[0m\u001b[0m\n\u001b[1;32m    139\u001b[0m       self.bias = self.add_variable(name='bias',\n",
      "\u001b[0;32m~/pyenv/tf_py3/lib/python3.6/site-packages/tensorflow/python/layers/base.py\u001b[0m in \u001b[0;36madd_variable\u001b[0;34m(self, name, shape, dtype, initializer, regularizer, trainable)\u001b[0m\n\u001b[1;32m    381\u001b[0m                                    \u001b[0minitializer\u001b[0m\u001b[0;34m=\u001b[0m\u001b[0minitializer\u001b[0m\u001b[0;34m,\u001b[0m\u001b[0;34m\u001b[0m\u001b[0m\n\u001b[1;32m    382\u001b[0m                                    \u001b[0mdtype\u001b[0m\u001b[0;34m=\u001b[0m\u001b[0mdtypes\u001b[0m\u001b[0;34m.\u001b[0m\u001b[0mas_dtype\u001b[0m\u001b[0;34m(\u001b[0m\u001b[0mdtype\u001b[0m\u001b[0;34m)\u001b[0m\u001b[0;34m,\u001b[0m\u001b[0;34m\u001b[0m\u001b[0m\n\u001b[0;32m--> 383\u001b[0;31m                                    trainable=trainable and self.trainable)\n\u001b[0m\u001b[1;32m    384\u001b[0m         \u001b[0;32mif\u001b[0m \u001b[0mvariable\u001b[0m \u001b[0;32min\u001b[0m \u001b[0mexisting_variables\u001b[0m\u001b[0;34m:\u001b[0m\u001b[0;34m\u001b[0m\u001b[0m\n\u001b[1;32m    385\u001b[0m           \u001b[0;32mreturn\u001b[0m \u001b[0mvariable\u001b[0m\u001b[0;34m\u001b[0m\u001b[0m\n",
      "\u001b[0;32m~/pyenv/tf_py3/lib/python3.6/site-packages/tensorflow/python/ops/variable_scope.py\u001b[0m in \u001b[0;36mget_variable\u001b[0;34m(name, shape, dtype, initializer, regularizer, trainable, collections, caching_device, partitioner, validate_shape, use_resource, custom_getter)\u001b[0m\n\u001b[1;32m   1063\u001b[0m       \u001b[0mcollections\u001b[0m\u001b[0;34m=\u001b[0m\u001b[0mcollections\u001b[0m\u001b[0;34m,\u001b[0m \u001b[0mcaching_device\u001b[0m\u001b[0;34m=\u001b[0m\u001b[0mcaching_device\u001b[0m\u001b[0;34m,\u001b[0m\u001b[0;34m\u001b[0m\u001b[0m\n\u001b[1;32m   1064\u001b[0m       \u001b[0mpartitioner\u001b[0m\u001b[0;34m=\u001b[0m\u001b[0mpartitioner\u001b[0m\u001b[0;34m,\u001b[0m \u001b[0mvalidate_shape\u001b[0m\u001b[0;34m=\u001b[0m\u001b[0mvalidate_shape\u001b[0m\u001b[0;34m,\u001b[0m\u001b[0;34m\u001b[0m\u001b[0m\n\u001b[0;32m-> 1065\u001b[0;31m       use_resource=use_resource, custom_getter=custom_getter)\n\u001b[0m\u001b[1;32m   1066\u001b[0m get_variable_or_local_docstring = (\n\u001b[1;32m   1067\u001b[0m     \"\"\"%s\n",
      "\u001b[0;32m~/pyenv/tf_py3/lib/python3.6/site-packages/tensorflow/python/ops/variable_scope.py\u001b[0m in \u001b[0;36mget_variable\u001b[0;34m(self, var_store, name, shape, dtype, initializer, regularizer, reuse, trainable, collections, caching_device, partitioner, validate_shape, use_resource, custom_getter)\u001b[0m\n\u001b[1;32m    960\u001b[0m           \u001b[0mcollections\u001b[0m\u001b[0;34m=\u001b[0m\u001b[0mcollections\u001b[0m\u001b[0;34m,\u001b[0m \u001b[0mcaching_device\u001b[0m\u001b[0;34m=\u001b[0m\u001b[0mcaching_device\u001b[0m\u001b[0;34m,\u001b[0m\u001b[0;34m\u001b[0m\u001b[0m\n\u001b[1;32m    961\u001b[0m           \u001b[0mpartitioner\u001b[0m\u001b[0;34m=\u001b[0m\u001b[0mpartitioner\u001b[0m\u001b[0;34m,\u001b[0m \u001b[0mvalidate_shape\u001b[0m\u001b[0;34m=\u001b[0m\u001b[0mvalidate_shape\u001b[0m\u001b[0;34m,\u001b[0m\u001b[0;34m\u001b[0m\u001b[0m\n\u001b[0;32m--> 962\u001b[0;31m           use_resource=use_resource, custom_getter=custom_getter)\n\u001b[0m\u001b[1;32m    963\u001b[0m \u001b[0;34m\u001b[0m\u001b[0m\n\u001b[1;32m    964\u001b[0m   def _get_partitioned_variable(self,\n",
      "\u001b[0;32m~/pyenv/tf_py3/lib/python3.6/site-packages/tensorflow/python/ops/variable_scope.py\u001b[0m in \u001b[0;36mget_variable\u001b[0;34m(self, name, shape, dtype, initializer, regularizer, reuse, trainable, collections, caching_device, partitioner, validate_shape, use_resource, custom_getter)\u001b[0m\n\u001b[1;32m    358\u001b[0m           \u001b[0mreuse\u001b[0m\u001b[0;34m=\u001b[0m\u001b[0mreuse\u001b[0m\u001b[0;34m,\u001b[0m \u001b[0mtrainable\u001b[0m\u001b[0;34m=\u001b[0m\u001b[0mtrainable\u001b[0m\u001b[0;34m,\u001b[0m \u001b[0mcollections\u001b[0m\u001b[0;34m=\u001b[0m\u001b[0mcollections\u001b[0m\u001b[0;34m,\u001b[0m\u001b[0;34m\u001b[0m\u001b[0m\n\u001b[1;32m    359\u001b[0m           \u001b[0mcaching_device\u001b[0m\u001b[0;34m=\u001b[0m\u001b[0mcaching_device\u001b[0m\u001b[0;34m,\u001b[0m \u001b[0mpartitioner\u001b[0m\u001b[0;34m=\u001b[0m\u001b[0mpartitioner\u001b[0m\u001b[0;34m,\u001b[0m\u001b[0;34m\u001b[0m\u001b[0m\n\u001b[0;32m--> 360\u001b[0;31m           validate_shape=validate_shape, use_resource=use_resource)\n\u001b[0m\u001b[1;32m    361\u001b[0m     \u001b[0;32melse\u001b[0m\u001b[0;34m:\u001b[0m\u001b[0;34m\u001b[0m\u001b[0m\n\u001b[1;32m    362\u001b[0m       return _true_getter(\n",
      "\u001b[0;32m~/pyenv/tf_py3/lib/python3.6/site-packages/tensorflow/contrib/layers/python/layers/layers.py\u001b[0m in \u001b[0;36mlayer_variable_getter\u001b[0;34m(getter, *args, **kwargs)\u001b[0m\n\u001b[1;32m   1559\u001b[0m   \u001b[0;32mdef\u001b[0m \u001b[0mlayer_variable_getter\u001b[0m\u001b[0;34m(\u001b[0m\u001b[0mgetter\u001b[0m\u001b[0;34m,\u001b[0m \u001b[0;34m*\u001b[0m\u001b[0margs\u001b[0m\u001b[0;34m,\u001b[0m \u001b[0;34m**\u001b[0m\u001b[0mkwargs\u001b[0m\u001b[0;34m)\u001b[0m\u001b[0;34m:\u001b[0m\u001b[0;34m\u001b[0m\u001b[0m\n\u001b[1;32m   1560\u001b[0m     \u001b[0mkwargs\u001b[0m\u001b[0;34m[\u001b[0m\u001b[0;34m'rename'\u001b[0m\u001b[0;34m]\u001b[0m \u001b[0;34m=\u001b[0m \u001b[0mrename\u001b[0m\u001b[0;34m\u001b[0m\u001b[0m\n\u001b[0;32m-> 1561\u001b[0;31m     \u001b[0;32mreturn\u001b[0m \u001b[0m_model_variable_getter\u001b[0m\u001b[0;34m(\u001b[0m\u001b[0mgetter\u001b[0m\u001b[0;34m,\u001b[0m \u001b[0;34m*\u001b[0m\u001b[0margs\u001b[0m\u001b[0;34m,\u001b[0m \u001b[0;34m**\u001b[0m\u001b[0mkwargs\u001b[0m\u001b[0;34m)\u001b[0m\u001b[0;34m\u001b[0m\u001b[0m\n\u001b[0m\u001b[1;32m   1562\u001b[0m   \u001b[0;32mreturn\u001b[0m \u001b[0mlayer_variable_getter\u001b[0m\u001b[0;34m\u001b[0m\u001b[0m\n\u001b[1;32m   1563\u001b[0m \u001b[0;34m\u001b[0m\u001b[0m\n",
      "\u001b[0;32m~/pyenv/tf_py3/lib/python3.6/site-packages/tensorflow/contrib/layers/python/layers/layers.py\u001b[0m in \u001b[0;36m_model_variable_getter\u001b[0;34m(getter, name, shape, dtype, initializer, regularizer, trainable, collections, caching_device, partitioner, rename, use_resource, **_)\u001b[0m\n\u001b[1;32m   1551\u001b[0m       \u001b[0mregularizer\u001b[0m\u001b[0;34m=\u001b[0m\u001b[0mregularizer\u001b[0m\u001b[0;34m,\u001b[0m \u001b[0mcollections\u001b[0m\u001b[0;34m=\u001b[0m\u001b[0mcollections\u001b[0m\u001b[0;34m,\u001b[0m \u001b[0mtrainable\u001b[0m\u001b[0;34m=\u001b[0m\u001b[0mtrainable\u001b[0m\u001b[0;34m,\u001b[0m\u001b[0;34m\u001b[0m\u001b[0m\n\u001b[1;32m   1552\u001b[0m       \u001b[0mcaching_device\u001b[0m\u001b[0;34m=\u001b[0m\u001b[0mcaching_device\u001b[0m\u001b[0;34m,\u001b[0m \u001b[0mpartitioner\u001b[0m\u001b[0;34m=\u001b[0m\u001b[0mpartitioner\u001b[0m\u001b[0;34m,\u001b[0m\u001b[0;34m\u001b[0m\u001b[0m\n\u001b[0;32m-> 1553\u001b[0;31m       custom_getter=getter, use_resource=use_resource)\n\u001b[0m\u001b[1;32m   1554\u001b[0m \u001b[0;34m\u001b[0m\u001b[0m\n\u001b[1;32m   1555\u001b[0m \u001b[0;34m\u001b[0m\u001b[0m\n",
      "\u001b[0;32m~/pyenv/tf_py3/lib/python3.6/site-packages/tensorflow/contrib/framework/python/ops/arg_scope.py\u001b[0m in \u001b[0;36mfunc_with_args\u001b[0;34m(*args, **kwargs)\u001b[0m\n\u001b[1;32m    179\u001b[0m       \u001b[0mcurrent_args\u001b[0m \u001b[0;34m=\u001b[0m \u001b[0mcurrent_scope\u001b[0m\u001b[0;34m[\u001b[0m\u001b[0mkey_func\u001b[0m\u001b[0;34m]\u001b[0m\u001b[0;34m.\u001b[0m\u001b[0mcopy\u001b[0m\u001b[0;34m(\u001b[0m\u001b[0;34m)\u001b[0m\u001b[0;34m\u001b[0m\u001b[0m\n\u001b[1;32m    180\u001b[0m       \u001b[0mcurrent_args\u001b[0m\u001b[0;34m.\u001b[0m\u001b[0mupdate\u001b[0m\u001b[0;34m(\u001b[0m\u001b[0mkwargs\u001b[0m\u001b[0;34m)\u001b[0m\u001b[0;34m\u001b[0m\u001b[0m\n\u001b[0;32m--> 181\u001b[0;31m     \u001b[0;32mreturn\u001b[0m \u001b[0mfunc\u001b[0m\u001b[0;34m(\u001b[0m\u001b[0;34m*\u001b[0m\u001b[0margs\u001b[0m\u001b[0;34m,\u001b[0m \u001b[0;34m**\u001b[0m\u001b[0mcurrent_args\u001b[0m\u001b[0;34m)\u001b[0m\u001b[0;34m\u001b[0m\u001b[0m\n\u001b[0m\u001b[1;32m    182\u001b[0m   \u001b[0m_add_op\u001b[0m\u001b[0;34m(\u001b[0m\u001b[0mfunc\u001b[0m\u001b[0;34m)\u001b[0m\u001b[0;34m\u001b[0m\u001b[0m\n\u001b[1;32m    183\u001b[0m   \u001b[0msetattr\u001b[0m\u001b[0;34m(\u001b[0m\u001b[0mfunc_with_args\u001b[0m\u001b[0;34m,\u001b[0m \u001b[0;34m'_key_op'\u001b[0m\u001b[0;34m,\u001b[0m \u001b[0m_key_op\u001b[0m\u001b[0;34m(\u001b[0m\u001b[0mfunc\u001b[0m\u001b[0;34m)\u001b[0m\u001b[0;34m)\u001b[0m\u001b[0;34m\u001b[0m\u001b[0m\n",
      "\u001b[0;32m~/pyenv/tf_py3/lib/python3.6/site-packages/tensorflow/contrib/framework/python/ops/variables.py\u001b[0m in \u001b[0;36mmodel_variable\u001b[0;34m(name, shape, dtype, initializer, regularizer, trainable, collections, caching_device, device, partitioner, custom_getter, use_resource)\u001b[0m\n\u001b[1;32m    259\u001b[0m                  \u001b[0mcaching_device\u001b[0m\u001b[0;34m=\u001b[0m\u001b[0mcaching_device\u001b[0m\u001b[0;34m,\u001b[0m \u001b[0mdevice\u001b[0m\u001b[0;34m=\u001b[0m\u001b[0mdevice\u001b[0m\u001b[0;34m,\u001b[0m\u001b[0;34m\u001b[0m\u001b[0m\n\u001b[1;32m    260\u001b[0m                  \u001b[0mpartitioner\u001b[0m\u001b[0;34m=\u001b[0m\u001b[0mpartitioner\u001b[0m\u001b[0;34m,\u001b[0m \u001b[0mcustom_getter\u001b[0m\u001b[0;34m=\u001b[0m\u001b[0mcustom_getter\u001b[0m\u001b[0;34m,\u001b[0m\u001b[0;34m\u001b[0m\u001b[0m\n\u001b[0;32m--> 261\u001b[0;31m                  use_resource=use_resource)\n\u001b[0m\u001b[1;32m    262\u001b[0m   \u001b[0;32mreturn\u001b[0m \u001b[0mvar\u001b[0m\u001b[0;34m\u001b[0m\u001b[0m\n\u001b[1;32m    263\u001b[0m \u001b[0;34m\u001b[0m\u001b[0m\n",
      "\u001b[0;32m~/pyenv/tf_py3/lib/python3.6/site-packages/tensorflow/contrib/framework/python/ops/arg_scope.py\u001b[0m in \u001b[0;36mfunc_with_args\u001b[0;34m(*args, **kwargs)\u001b[0m\n\u001b[1;32m    179\u001b[0m       \u001b[0mcurrent_args\u001b[0m \u001b[0;34m=\u001b[0m \u001b[0mcurrent_scope\u001b[0m\u001b[0;34m[\u001b[0m\u001b[0mkey_func\u001b[0m\u001b[0;34m]\u001b[0m\u001b[0;34m.\u001b[0m\u001b[0mcopy\u001b[0m\u001b[0;34m(\u001b[0m\u001b[0;34m)\u001b[0m\u001b[0;34m\u001b[0m\u001b[0m\n\u001b[1;32m    180\u001b[0m       \u001b[0mcurrent_args\u001b[0m\u001b[0;34m.\u001b[0m\u001b[0mupdate\u001b[0m\u001b[0;34m(\u001b[0m\u001b[0mkwargs\u001b[0m\u001b[0;34m)\u001b[0m\u001b[0;34m\u001b[0m\u001b[0m\n\u001b[0;32m--> 181\u001b[0;31m     \u001b[0;32mreturn\u001b[0m \u001b[0mfunc\u001b[0m\u001b[0;34m(\u001b[0m\u001b[0;34m*\u001b[0m\u001b[0margs\u001b[0m\u001b[0;34m,\u001b[0m \u001b[0;34m**\u001b[0m\u001b[0mcurrent_args\u001b[0m\u001b[0;34m)\u001b[0m\u001b[0;34m\u001b[0m\u001b[0m\n\u001b[0m\u001b[1;32m    182\u001b[0m   \u001b[0m_add_op\u001b[0m\u001b[0;34m(\u001b[0m\u001b[0mfunc\u001b[0m\u001b[0;34m)\u001b[0m\u001b[0;34m\u001b[0m\u001b[0m\n\u001b[1;32m    183\u001b[0m   \u001b[0msetattr\u001b[0m\u001b[0;34m(\u001b[0m\u001b[0mfunc_with_args\u001b[0m\u001b[0;34m,\u001b[0m \u001b[0;34m'_key_op'\u001b[0m\u001b[0;34m,\u001b[0m \u001b[0m_key_op\u001b[0m\u001b[0;34m(\u001b[0m\u001b[0mfunc\u001b[0m\u001b[0;34m)\u001b[0m\u001b[0;34m)\u001b[0m\u001b[0;34m\u001b[0m\u001b[0m\n",
      "\u001b[0;32m~/pyenv/tf_py3/lib/python3.6/site-packages/tensorflow/contrib/framework/python/ops/variables.py\u001b[0m in \u001b[0;36mvariable\u001b[0;34m(name, shape, dtype, initializer, regularizer, trainable, collections, caching_device, device, partitioner, custom_getter, use_resource)\u001b[0m\n\u001b[1;32m    214\u001b[0m                   \u001b[0mcaching_device\u001b[0m\u001b[0;34m=\u001b[0m\u001b[0mcaching_device\u001b[0m\u001b[0;34m,\u001b[0m\u001b[0;34m\u001b[0m\u001b[0m\n\u001b[1;32m    215\u001b[0m                   \u001b[0mpartitioner\u001b[0m\u001b[0;34m=\u001b[0m\u001b[0mpartitioner\u001b[0m\u001b[0;34m,\u001b[0m\u001b[0;34m\u001b[0m\u001b[0m\n\u001b[0;32m--> 216\u001b[0;31m                   use_resource=use_resource)\n\u001b[0m\u001b[1;32m    217\u001b[0m \u001b[0;34m\u001b[0m\u001b[0m\n\u001b[1;32m    218\u001b[0m \u001b[0;34m\u001b[0m\u001b[0m\n",
      "\u001b[0;32m~/pyenv/tf_py3/lib/python3.6/site-packages/tensorflow/python/ops/variable_scope.py\u001b[0m in \u001b[0;36m_true_getter\u001b[0;34m(name, shape, dtype, initializer, regularizer, reuse, trainable, collections, caching_device, partitioner, validate_shape, use_resource)\u001b[0m\n\u001b[1;32m    350\u001b[0m           \u001b[0mtrainable\u001b[0m\u001b[0;34m=\u001b[0m\u001b[0mtrainable\u001b[0m\u001b[0;34m,\u001b[0m \u001b[0mcollections\u001b[0m\u001b[0;34m=\u001b[0m\u001b[0mcollections\u001b[0m\u001b[0;34m,\u001b[0m\u001b[0;34m\u001b[0m\u001b[0m\n\u001b[1;32m    351\u001b[0m           \u001b[0mcaching_device\u001b[0m\u001b[0;34m=\u001b[0m\u001b[0mcaching_device\u001b[0m\u001b[0;34m,\u001b[0m \u001b[0mvalidate_shape\u001b[0m\u001b[0;34m=\u001b[0m\u001b[0mvalidate_shape\u001b[0m\u001b[0;34m,\u001b[0m\u001b[0;34m\u001b[0m\u001b[0m\n\u001b[0;32m--> 352\u001b[0;31m           use_resource=use_resource)\n\u001b[0m\u001b[1;32m    353\u001b[0m \u001b[0;34m\u001b[0m\u001b[0m\n\u001b[1;32m    354\u001b[0m     \u001b[0;32mif\u001b[0m \u001b[0mcustom_getter\u001b[0m \u001b[0;32mis\u001b[0m \u001b[0;32mnot\u001b[0m \u001b[0;32mNone\u001b[0m\u001b[0;34m:\u001b[0m\u001b[0;34m\u001b[0m\u001b[0m\n",
      "\u001b[0;32m~/pyenv/tf_py3/lib/python3.6/site-packages/tensorflow/python/ops/variable_scope.py\u001b[0m in \u001b[0;36m_get_single_variable\u001b[0;34m(self, name, shape, dtype, initializer, regularizer, partition_info, reuse, trainable, collections, caching_device, validate_shape, use_resource)\u001b[0m\n\u001b[1;32m    662\u001b[0m                          \u001b[0;34m\" Did you mean to set reuse=True in VarScope? \"\u001b[0m\u001b[0;34m\u001b[0m\u001b[0m\n\u001b[1;32m    663\u001b[0m                          \"Originally defined at:\\n\\n%s\" % (\n\u001b[0;32m--> 664\u001b[0;31m                              name, \"\".join(traceback.format_list(tb))))\n\u001b[0m\u001b[1;32m    665\u001b[0m       \u001b[0mfound_var\u001b[0m \u001b[0;34m=\u001b[0m \u001b[0mself\u001b[0m\u001b[0;34m.\u001b[0m\u001b[0m_vars\u001b[0m\u001b[0;34m[\u001b[0m\u001b[0mname\u001b[0m\u001b[0;34m]\u001b[0m\u001b[0;34m\u001b[0m\u001b[0m\n\u001b[1;32m    666\u001b[0m       \u001b[0;32mif\u001b[0m \u001b[0;32mnot\u001b[0m \u001b[0mshape\u001b[0m\u001b[0;34m.\u001b[0m\u001b[0mis_compatible_with\u001b[0m\u001b[0;34m(\u001b[0m\u001b[0mfound_var\u001b[0m\u001b[0;34m.\u001b[0m\u001b[0mget_shape\u001b[0m\u001b[0;34m(\u001b[0m\u001b[0;34m)\u001b[0m\u001b[0;34m)\u001b[0m\u001b[0;34m:\u001b[0m\u001b[0;34m\u001b[0m\u001b[0m\n",
      "\u001b[0;31mValueError\u001b[0m: Variable vgg_16/conv1/conv1_1/weights already exists, disallowed. Did you mean to set reuse=True in VarScope? Originally defined at:\n\n  File \"/Users/junr/pyenv/tf_py3/lib/python3.6/site-packages/tensorflow/contrib/framework/python/ops/variables.py\", line 216, in variable\n    use_resource=use_resource)\n  File \"/Users/junr/pyenv/tf_py3/lib/python3.6/site-packages/tensorflow/contrib/framework/python/ops/arg_scope.py\", line 181, in func_with_args\n    return func(*args, **current_args)\n  File \"/Users/junr/pyenv/tf_py3/lib/python3.6/site-packages/tensorflow/contrib/framework/python/ops/variables.py\", line 261, in model_variable\n    use_resource=use_resource)\n"
     ]
    }
   ],
   "source": [
    "a = test_lb_vgg(config)"
   ]
  },
  {
   "cell_type": "code",
   "execution_count": 1,
   "metadata": {},
   "outputs": [],
   "source": [
    "from lookback_ops import *"
   ]
  },
  {
   "cell_type": "code",
   "execution_count": 2,
   "metadata": {},
   "outputs": [],
   "source": [
    "config = return_a_config()"
   ]
  },
  {
   "cell_type": "code",
   "execution_count": 3,
   "metadata": {},
   "outputs": [
    {
     "ename": "TypeError",
     "evalue": "'Dataset' object does not support indexing",
     "output_type": "error",
     "traceback": [
      "\u001b[0;31m---------------------------------------------------------------------------\u001b[0m",
      "\u001b[0;31mTypeError\u001b[0m                                 Traceback (most recent call last)",
      "\u001b[0;32m<ipython-input-3-135bd65cb5b6>\u001b[0m in \u001b[0;36m<module>\u001b[0;34m()\u001b[0m\n\u001b[0;32m----> 1\u001b[0;31m \u001b[0ma\u001b[0m \u001b[0;34m=\u001b[0m \u001b[0mtest_lb_vgg\u001b[0m\u001b[0;34m(\u001b[0m\u001b[0mconfig\u001b[0m\u001b[0;34m)\u001b[0m\u001b[0;34m\u001b[0m\u001b[0m\n\u001b[0m",
      "\u001b[0;32m~/Desktop/keras_model/lookback_ops.py\u001b[0m in \u001b[0;36mtest_lb_vgg\u001b[0;34m(config, output_layer, top_k_activation)\u001b[0m\n\u001b[1;32m    290\u001b[0m   \u001b[0mds\u001b[0m \u001b[0;34m=\u001b[0m \u001b[0mconfig_to_dataset\u001b[0m\u001b[0;34m(\u001b[0m\u001b[0mconfig\u001b[0m\u001b[0;34m)\u001b[0m\u001b[0;34m\u001b[0m\u001b[0m\n\u001b[1;32m    291\u001b[0m   \u001b[0mbinarizer\u001b[0m \u001b[0;34m=\u001b[0m \u001b[0mMultiLabelBinarizer\u001b[0m\u001b[0;34m(\u001b[0m\u001b[0mclasses\u001b[0m\u001b[0;34m=\u001b[0m\u001b[0mds\u001b[0m\u001b[0;34m.\u001b[0m\u001b[0mvocab\u001b[0m\u001b[0;34m)\u001b[0m\u001b[0;34m\u001b[0m\u001b[0m\n\u001b[0;32m--> 292\u001b[0;31m   \u001b[0mi\u001b[0m\u001b[0;34m,\u001b[0m \u001b[0ml\u001b[0m \u001b[0;34m=\u001b[0m \u001b[0mdataset_element_to_batch_data\u001b[0m\u001b[0;34m(\u001b[0m\u001b[0mds\u001b[0m\u001b[0;34m[\u001b[0m\u001b[0;36m66\u001b[0m\u001b[0;34m]\u001b[0m\u001b[0;34m,\u001b[0m \u001b[0mbinarizer\u001b[0m\u001b[0;34m,\u001b[0m \u001b[0mconfig\u001b[0m\u001b[0;34m)\u001b[0m \u001b[0;31m# just pick one randomly\u001b[0m\u001b[0;34m\u001b[0m\u001b[0m\n\u001b[0m\u001b[1;32m    293\u001b[0m \u001b[0;34m\u001b[0m\u001b[0m\n\u001b[1;32m    294\u001b[0m   \u001b[0;31m# run forward model\u001b[0m\u001b[0;34m\u001b[0m\u001b[0;34m\u001b[0m\u001b[0m\n",
      "\u001b[0;31mTypeError\u001b[0m: 'Dataset' object does not support indexing"
     ]
    }
   ],
   "source": [
    "a = test_lb_vgg(config)"
   ]
  },
  {
   "cell_type": "code",
   "execution_count": 1,
   "metadata": {},
   "outputs": [
    {
     "ename": "FailedPreconditionError",
     "evalue": "Attempting to use uninitialized value adaption/adaption_output/bias\n\t [[Node: adaption/adaption_output/bias/read = Identity[T=DT_FLOAT, _class=[\"loc:@adaption/adaption_output/bias\"], _device=\"/job:localhost/replica:0/task:0/cpu:0\"](adaption/adaption_output/bias)]]\n\nCaused by op 'adaption/adaption_output/bias/read', defined at:\n  File \"/usr/local/Cellar/python3/3.6.2/Frameworks/Python.framework/Versions/3.6/lib/python3.6/runpy.py\", line 193, in _run_module_as_main\n    \"__main__\", mod_spec)\n  File \"/usr/local/Cellar/python3/3.6.2/Frameworks/Python.framework/Versions/3.6/lib/python3.6/runpy.py\", line 85, in _run_code\n    exec(code, run_globals)\n  File \"/Users/junr/pyenv/tf_py3/lib/python3.6/site-packages/ipykernel_launcher.py\", line 16, in <module>\n    app.launch_new_instance()\n  File \"/Users/junr/pyenv/tf_py3/lib/python3.6/site-packages/traitlets/config/application.py\", line 658, in launch_instance\n    app.start()\n  File \"/Users/junr/pyenv/tf_py3/lib/python3.6/site-packages/ipykernel/kernelapp.py\", line 477, in start\n    ioloop.IOLoop.instance().start()\n  File \"/Users/junr/pyenv/tf_py3/lib/python3.6/site-packages/zmq/eventloop/ioloop.py\", line 177, in start\n    super(ZMQIOLoop, self).start()\n  File \"/Users/junr/pyenv/tf_py3/lib/python3.6/site-packages/tornado/ioloop.py\", line 888, in start\n    handler_func(fd_obj, events)\n  File \"/Users/junr/pyenv/tf_py3/lib/python3.6/site-packages/tornado/stack_context.py\", line 277, in null_wrapper\n    return fn(*args, **kwargs)\n  File \"/Users/junr/pyenv/tf_py3/lib/python3.6/site-packages/zmq/eventloop/zmqstream.py\", line 440, in _handle_events\n    self._handle_recv()\n  File \"/Users/junr/pyenv/tf_py3/lib/python3.6/site-packages/zmq/eventloop/zmqstream.py\", line 472, in _handle_recv\n    self._run_callback(callback, msg)\n  File \"/Users/junr/pyenv/tf_py3/lib/python3.6/site-packages/zmq/eventloop/zmqstream.py\", line 414, in _run_callback\n    callback(*args, **kwargs)\n  File \"/Users/junr/pyenv/tf_py3/lib/python3.6/site-packages/tornado/stack_context.py\", line 277, in null_wrapper\n    return fn(*args, **kwargs)\n  File \"/Users/junr/pyenv/tf_py3/lib/python3.6/site-packages/ipykernel/kernelbase.py\", line 283, in dispatcher\n    return self.dispatch_shell(stream, msg)\n  File \"/Users/junr/pyenv/tf_py3/lib/python3.6/site-packages/ipykernel/kernelbase.py\", line 235, in dispatch_shell\n    handler(stream, idents, msg)\n  File \"/Users/junr/pyenv/tf_py3/lib/python3.6/site-packages/ipykernel/kernelbase.py\", line 399, in execute_request\n    user_expressions, allow_stdin)\n  File \"/Users/junr/pyenv/tf_py3/lib/python3.6/site-packages/ipykernel/ipkernel.py\", line 196, in do_execute\n    res = shell.run_cell(code, store_history=store_history, silent=silent)\n  File \"/Users/junr/pyenv/tf_py3/lib/python3.6/site-packages/ipykernel/zmqshell.py\", line 533, in run_cell\n    return super(ZMQInteractiveShell, self).run_cell(*args, **kwargs)\n  File \"/Users/junr/pyenv/tf_py3/lib/python3.6/site-packages/IPython/core/interactiveshell.py\", line 2728, in run_cell\n    interactivity=interactivity, compiler=compiler, result=result)\n  File \"/Users/junr/pyenv/tf_py3/lib/python3.6/site-packages/IPython/core/interactiveshell.py\", line 2850, in run_ast_nodes\n    if self.run_code(code, result):\n  File \"/Users/junr/pyenv/tf_py3/lib/python3.6/site-packages/IPython/core/interactiveshell.py\", line 2910, in run_code\n    exec(code_obj, self.user_global_ns, self.user_ns)\n  File \"<ipython-input-1-d2d28597c303>\", line 3, in <module>\n    a = test_lb_vgg(config)\n  File \"/Users/junr/Desktop/keras_model/lookback_ops.py\", line 277, in test_lb_vgg\n    adaption_output, net1m, net2m, net3m, net_max_feature = forward_model(images, config)\n  File \"/Users/junr/Desktop/keras_model/lookback_ops.py\", line 259, in forward_model\n    adaption_output, net1m, net2m, net3m, net_max_feature = max_model(images, config)\n  File \"/Users/junr/Desktop/keras_model/lookback_ops.py\", line 113, in max_model\n    activation=None, name='adaption_output')\n  File \"/Users/junr/pyenv/tf_py3/lib/python3.6/site-packages/tensorflow/python/layers/core.py\", line 215, in dense\n    return layer.apply(inputs)\n  File \"/Users/junr/pyenv/tf_py3/lib/python3.6/site-packages/tensorflow/python/layers/base.py\", line 503, in apply\n    return self.__call__(inputs, *args, **kwargs)\n  File \"/Users/junr/pyenv/tf_py3/lib/python3.6/site-packages/tensorflow/python/layers/base.py\", line 443, in __call__\n    self.build(input_shapes[0])\n  File \"/Users/junr/pyenv/tf_py3/lib/python3.6/site-packages/tensorflow/python/layers/core.py\", line 125, in build\n    trainable=True)\n  File \"/Users/junr/pyenv/tf_py3/lib/python3.6/site-packages/tensorflow/python/layers/base.py\", line 383, in add_variable\n    trainable=trainable and self.trainable)\n  File \"/Users/junr/pyenv/tf_py3/lib/python3.6/site-packages/tensorflow/python/ops/variable_scope.py\", line 1065, in get_variable\n    use_resource=use_resource, custom_getter=custom_getter)\n  File \"/Users/junr/pyenv/tf_py3/lib/python3.6/site-packages/tensorflow/python/ops/variable_scope.py\", line 962, in get_variable\n    use_resource=use_resource, custom_getter=custom_getter)\n  File \"/Users/junr/pyenv/tf_py3/lib/python3.6/site-packages/tensorflow/python/ops/variable_scope.py\", line 367, in get_variable\n    validate_shape=validate_shape, use_resource=use_resource)\n  File \"/Users/junr/pyenv/tf_py3/lib/python3.6/site-packages/tensorflow/python/ops/variable_scope.py\", line 352, in _true_getter\n    use_resource=use_resource)\n  File \"/Users/junr/pyenv/tf_py3/lib/python3.6/site-packages/tensorflow/python/ops/variable_scope.py\", line 725, in _get_single_variable\n    validate_shape=validate_shape)\n  File \"/Users/junr/pyenv/tf_py3/lib/python3.6/site-packages/tensorflow/python/ops/variables.py\", line 199, in __init__\n    expected_shape=expected_shape)\n  File \"/Users/junr/pyenv/tf_py3/lib/python3.6/site-packages/tensorflow/python/ops/variables.py\", line 330, in _init_from_args\n    self._snapshot = array_ops.identity(self._variable, name=\"read\")\n  File \"/Users/junr/pyenv/tf_py3/lib/python3.6/site-packages/tensorflow/python/ops/gen_array_ops.py\", line 1400, in identity\n    result = _op_def_lib.apply_op(\"Identity\", input=input, name=name)\n  File \"/Users/junr/pyenv/tf_py3/lib/python3.6/site-packages/tensorflow/python/framework/op_def_library.py\", line 767, in apply_op\n    op_def=op_def)\n  File \"/Users/junr/pyenv/tf_py3/lib/python3.6/site-packages/tensorflow/python/framework/ops.py\", line 2630, in create_op\n    original_op=self._default_original_op, op_def=op_def)\n  File \"/Users/junr/pyenv/tf_py3/lib/python3.6/site-packages/tensorflow/python/framework/ops.py\", line 1204, in __init__\n    self._traceback = self._graph._extract_stack()  # pylint: disable=protected-access\n\nFailedPreconditionError (see above for traceback): Attempting to use uninitialized value adaption/adaption_output/bias\n\t [[Node: adaption/adaption_output/bias/read = Identity[T=DT_FLOAT, _class=[\"loc:@adaption/adaption_output/bias\"], _device=\"/job:localhost/replica:0/task:0/cpu:0\"](adaption/adaption_output/bias)]]\n",
     "output_type": "error",
     "traceback": [
      "\u001b[0;31m---------------------------------------------------------------------------\u001b[0m",
      "\u001b[0;31mFailedPreconditionError\u001b[0m                   Traceback (most recent call last)",
      "\u001b[0;32m~/pyenv/tf_py3/lib/python3.6/site-packages/tensorflow/python/client/session.py\u001b[0m in \u001b[0;36m_do_call\u001b[0;34m(self, fn, *args)\u001b[0m\n\u001b[1;32m   1326\u001b[0m     \u001b[0;32mtry\u001b[0m\u001b[0;34m:\u001b[0m\u001b[0;34m\u001b[0m\u001b[0m\n\u001b[0;32m-> 1327\u001b[0;31m       \u001b[0;32mreturn\u001b[0m \u001b[0mfn\u001b[0m\u001b[0;34m(\u001b[0m\u001b[0;34m*\u001b[0m\u001b[0margs\u001b[0m\u001b[0;34m)\u001b[0m\u001b[0;34m\u001b[0m\u001b[0m\n\u001b[0m\u001b[1;32m   1328\u001b[0m     \u001b[0;32mexcept\u001b[0m \u001b[0merrors\u001b[0m\u001b[0;34m.\u001b[0m\u001b[0mOpError\u001b[0m \u001b[0;32mas\u001b[0m \u001b[0me\u001b[0m\u001b[0;34m:\u001b[0m\u001b[0;34m\u001b[0m\u001b[0m\n",
      "\u001b[0;32m~/pyenv/tf_py3/lib/python3.6/site-packages/tensorflow/python/client/session.py\u001b[0m in \u001b[0;36m_run_fn\u001b[0;34m(session, feed_dict, fetch_list, target_list, options, run_metadata)\u001b[0m\n\u001b[1;32m   1305\u001b[0m                                    \u001b[0mfeed_dict\u001b[0m\u001b[0;34m,\u001b[0m \u001b[0mfetch_list\u001b[0m\u001b[0;34m,\u001b[0m \u001b[0mtarget_list\u001b[0m\u001b[0;34m,\u001b[0m\u001b[0;34m\u001b[0m\u001b[0m\n\u001b[0;32m-> 1306\u001b[0;31m                                    status, run_metadata)\n\u001b[0m\u001b[1;32m   1307\u001b[0m \u001b[0;34m\u001b[0m\u001b[0m\n",
      "\u001b[0;32m/usr/local/Cellar/python3/3.6.2/Frameworks/Python.framework/Versions/3.6/lib/python3.6/contextlib.py\u001b[0m in \u001b[0;36m__exit__\u001b[0;34m(self, type, value, traceback)\u001b[0m\n\u001b[1;32m     87\u001b[0m             \u001b[0;32mtry\u001b[0m\u001b[0;34m:\u001b[0m\u001b[0;34m\u001b[0m\u001b[0m\n\u001b[0;32m---> 88\u001b[0;31m                 \u001b[0mnext\u001b[0m\u001b[0;34m(\u001b[0m\u001b[0mself\u001b[0m\u001b[0;34m.\u001b[0m\u001b[0mgen\u001b[0m\u001b[0;34m)\u001b[0m\u001b[0;34m\u001b[0m\u001b[0m\n\u001b[0m\u001b[1;32m     89\u001b[0m             \u001b[0;32mexcept\u001b[0m \u001b[0mStopIteration\u001b[0m\u001b[0;34m:\u001b[0m\u001b[0;34m\u001b[0m\u001b[0m\n",
      "\u001b[0;32m~/pyenv/tf_py3/lib/python3.6/site-packages/tensorflow/python/framework/errors_impl.py\u001b[0m in \u001b[0;36mraise_exception_on_not_ok_status\u001b[0;34m()\u001b[0m\n\u001b[1;32m    465\u001b[0m           \u001b[0mcompat\u001b[0m\u001b[0;34m.\u001b[0m\u001b[0mas_text\u001b[0m\u001b[0;34m(\u001b[0m\u001b[0mpywrap_tensorflow\u001b[0m\u001b[0;34m.\u001b[0m\u001b[0mTF_Message\u001b[0m\u001b[0;34m(\u001b[0m\u001b[0mstatus\u001b[0m\u001b[0;34m)\u001b[0m\u001b[0;34m)\u001b[0m\u001b[0;34m,\u001b[0m\u001b[0;34m\u001b[0m\u001b[0m\n\u001b[0;32m--> 466\u001b[0;31m           pywrap_tensorflow.TF_GetCode(status))\n\u001b[0m\u001b[1;32m    467\u001b[0m   \u001b[0;32mfinally\u001b[0m\u001b[0;34m:\u001b[0m\u001b[0;34m\u001b[0m\u001b[0m\n",
      "\u001b[0;31mFailedPreconditionError\u001b[0m: Attempting to use uninitialized value adaption/adaption_output/bias\n\t [[Node: adaption/adaption_output/bias/read = Identity[T=DT_FLOAT, _class=[\"loc:@adaption/adaption_output/bias\"], _device=\"/job:localhost/replica:0/task:0/cpu:0\"](adaption/adaption_output/bias)]]",
      "\nDuring handling of the above exception, another exception occurred:\n",
      "\u001b[0;31mFailedPreconditionError\u001b[0m                   Traceback (most recent call last)",
      "\u001b[0;32m<ipython-input-1-d2d28597c303>\u001b[0m in \u001b[0;36m<module>\u001b[0;34m()\u001b[0m\n\u001b[1;32m      1\u001b[0m \u001b[0;32mfrom\u001b[0m \u001b[0mlookback_ops\u001b[0m \u001b[0;32mimport\u001b[0m \u001b[0;34m*\u001b[0m\u001b[0;34m\u001b[0m\u001b[0m\n\u001b[1;32m      2\u001b[0m \u001b[0mconfig\u001b[0m \u001b[0;34m=\u001b[0m \u001b[0mreturn_a_config\u001b[0m\u001b[0;34m(\u001b[0m\u001b[0;34m)\u001b[0m\u001b[0;34m\u001b[0m\u001b[0m\n\u001b[0;32m----> 3\u001b[0;31m \u001b[0ma\u001b[0m \u001b[0;34m=\u001b[0m \u001b[0mtest_lb_vgg\u001b[0m\u001b[0;34m(\u001b[0m\u001b[0mconfig\u001b[0m\u001b[0;34m)\u001b[0m\u001b[0;34m\u001b[0m\u001b[0m\n\u001b[0m",
      "\u001b[0;32m~/Desktop/keras_model/lookback_ops.py\u001b[0m in \u001b[0;36mtest_lb_vgg\u001b[0;34m(config, output_layer, top_k_activation)\u001b[0m\n\u001b[1;32m    295\u001b[0m   infer_output = sess.run([adaption_output, net1m, net2m, net3m, net_max_feature],\n\u001b[1;32m    296\u001b[0m                           feed_dict={\n\u001b[0;32m--> 297\u001b[0;31m                             \u001b[0mimages\u001b[0m\u001b[0;34m:\u001b[0m \u001b[0mi\u001b[0m\u001b[0;34m\u001b[0m\u001b[0m\n\u001b[0m\u001b[1;32m    298\u001b[0m                           })\n\u001b[1;32m    299\u001b[0m \u001b[0;34m\u001b[0m\u001b[0m\n",
      "\u001b[0;32m~/pyenv/tf_py3/lib/python3.6/site-packages/tensorflow/python/client/session.py\u001b[0m in \u001b[0;36mrun\u001b[0;34m(self, fetches, feed_dict, options, run_metadata)\u001b[0m\n\u001b[1;32m    893\u001b[0m     \u001b[0;32mtry\u001b[0m\u001b[0;34m:\u001b[0m\u001b[0;34m\u001b[0m\u001b[0m\n\u001b[1;32m    894\u001b[0m       result = self._run(None, fetches, feed_dict, options_ptr,\n\u001b[0;32m--> 895\u001b[0;31m                          run_metadata_ptr)\n\u001b[0m\u001b[1;32m    896\u001b[0m       \u001b[0;32mif\u001b[0m \u001b[0mrun_metadata\u001b[0m\u001b[0;34m:\u001b[0m\u001b[0;34m\u001b[0m\u001b[0m\n\u001b[1;32m    897\u001b[0m         \u001b[0mproto_data\u001b[0m \u001b[0;34m=\u001b[0m \u001b[0mtf_session\u001b[0m\u001b[0;34m.\u001b[0m\u001b[0mTF_GetBuffer\u001b[0m\u001b[0;34m(\u001b[0m\u001b[0mrun_metadata_ptr\u001b[0m\u001b[0;34m)\u001b[0m\u001b[0;34m\u001b[0m\u001b[0m\n",
      "\u001b[0;32m~/pyenv/tf_py3/lib/python3.6/site-packages/tensorflow/python/client/session.py\u001b[0m in \u001b[0;36m_run\u001b[0;34m(self, handle, fetches, feed_dict, options, run_metadata)\u001b[0m\n\u001b[1;32m   1122\u001b[0m     \u001b[0;32mif\u001b[0m \u001b[0mfinal_fetches\u001b[0m \u001b[0;32mor\u001b[0m \u001b[0mfinal_targets\u001b[0m \u001b[0;32mor\u001b[0m \u001b[0;34m(\u001b[0m\u001b[0mhandle\u001b[0m \u001b[0;32mand\u001b[0m \u001b[0mfeed_dict_tensor\u001b[0m\u001b[0;34m)\u001b[0m\u001b[0;34m:\u001b[0m\u001b[0;34m\u001b[0m\u001b[0m\n\u001b[1;32m   1123\u001b[0m       results = self._do_run(handle, final_targets, final_fetches,\n\u001b[0;32m-> 1124\u001b[0;31m                              feed_dict_tensor, options, run_metadata)\n\u001b[0m\u001b[1;32m   1125\u001b[0m     \u001b[0;32melse\u001b[0m\u001b[0;34m:\u001b[0m\u001b[0;34m\u001b[0m\u001b[0m\n\u001b[1;32m   1126\u001b[0m       \u001b[0mresults\u001b[0m \u001b[0;34m=\u001b[0m \u001b[0;34m[\u001b[0m\u001b[0;34m]\u001b[0m\u001b[0;34m\u001b[0m\u001b[0m\n",
      "\u001b[0;32m~/pyenv/tf_py3/lib/python3.6/site-packages/tensorflow/python/client/session.py\u001b[0m in \u001b[0;36m_do_run\u001b[0;34m(self, handle, target_list, fetch_list, feed_dict, options, run_metadata)\u001b[0m\n\u001b[1;32m   1319\u001b[0m     \u001b[0;32mif\u001b[0m \u001b[0mhandle\u001b[0m \u001b[0;32mis\u001b[0m \u001b[0;32mNone\u001b[0m\u001b[0;34m:\u001b[0m\u001b[0;34m\u001b[0m\u001b[0m\n\u001b[1;32m   1320\u001b[0m       return self._do_call(_run_fn, self._session, feeds, fetches, targets,\n\u001b[0;32m-> 1321\u001b[0;31m                            options, run_metadata)\n\u001b[0m\u001b[1;32m   1322\u001b[0m     \u001b[0;32melse\u001b[0m\u001b[0;34m:\u001b[0m\u001b[0;34m\u001b[0m\u001b[0m\n\u001b[1;32m   1323\u001b[0m       \u001b[0;32mreturn\u001b[0m \u001b[0mself\u001b[0m\u001b[0;34m.\u001b[0m\u001b[0m_do_call\u001b[0m\u001b[0;34m(\u001b[0m\u001b[0m_prun_fn\u001b[0m\u001b[0;34m,\u001b[0m \u001b[0mself\u001b[0m\u001b[0;34m.\u001b[0m\u001b[0m_session\u001b[0m\u001b[0;34m,\u001b[0m \u001b[0mhandle\u001b[0m\u001b[0;34m,\u001b[0m \u001b[0mfeeds\u001b[0m\u001b[0;34m,\u001b[0m \u001b[0mfetches\u001b[0m\u001b[0;34m)\u001b[0m\u001b[0;34m\u001b[0m\u001b[0m\n",
      "\u001b[0;32m~/pyenv/tf_py3/lib/python3.6/site-packages/tensorflow/python/client/session.py\u001b[0m in \u001b[0;36m_do_call\u001b[0;34m(self, fn, *args)\u001b[0m\n\u001b[1;32m   1338\u001b[0m         \u001b[0;32mexcept\u001b[0m \u001b[0mKeyError\u001b[0m\u001b[0;34m:\u001b[0m\u001b[0;34m\u001b[0m\u001b[0m\n\u001b[1;32m   1339\u001b[0m           \u001b[0;32mpass\u001b[0m\u001b[0;34m\u001b[0m\u001b[0m\n\u001b[0;32m-> 1340\u001b[0;31m       \u001b[0;32mraise\u001b[0m \u001b[0mtype\u001b[0m\u001b[0;34m(\u001b[0m\u001b[0me\u001b[0m\u001b[0;34m)\u001b[0m\u001b[0;34m(\u001b[0m\u001b[0mnode_def\u001b[0m\u001b[0;34m,\u001b[0m \u001b[0mop\u001b[0m\u001b[0;34m,\u001b[0m \u001b[0mmessage\u001b[0m\u001b[0;34m)\u001b[0m\u001b[0;34m\u001b[0m\u001b[0m\n\u001b[0m\u001b[1;32m   1341\u001b[0m \u001b[0;34m\u001b[0m\u001b[0m\n\u001b[1;32m   1342\u001b[0m   \u001b[0;32mdef\u001b[0m \u001b[0m_extend_graph\u001b[0m\u001b[0;34m(\u001b[0m\u001b[0mself\u001b[0m\u001b[0;34m)\u001b[0m\u001b[0;34m:\u001b[0m\u001b[0;34m\u001b[0m\u001b[0m\n",
      "\u001b[0;31mFailedPreconditionError\u001b[0m: Attempting to use uninitialized value adaption/adaption_output/bias\n\t [[Node: adaption/adaption_output/bias/read = Identity[T=DT_FLOAT, _class=[\"loc:@adaption/adaption_output/bias\"], _device=\"/job:localhost/replica:0/task:0/cpu:0\"](adaption/adaption_output/bias)]]\n\nCaused by op 'adaption/adaption_output/bias/read', defined at:\n  File \"/usr/local/Cellar/python3/3.6.2/Frameworks/Python.framework/Versions/3.6/lib/python3.6/runpy.py\", line 193, in _run_module_as_main\n    \"__main__\", mod_spec)\n  File \"/usr/local/Cellar/python3/3.6.2/Frameworks/Python.framework/Versions/3.6/lib/python3.6/runpy.py\", line 85, in _run_code\n    exec(code, run_globals)\n  File \"/Users/junr/pyenv/tf_py3/lib/python3.6/site-packages/ipykernel_launcher.py\", line 16, in <module>\n    app.launch_new_instance()\n  File \"/Users/junr/pyenv/tf_py3/lib/python3.6/site-packages/traitlets/config/application.py\", line 658, in launch_instance\n    app.start()\n  File \"/Users/junr/pyenv/tf_py3/lib/python3.6/site-packages/ipykernel/kernelapp.py\", line 477, in start\n    ioloop.IOLoop.instance().start()\n  File \"/Users/junr/pyenv/tf_py3/lib/python3.6/site-packages/zmq/eventloop/ioloop.py\", line 177, in start\n    super(ZMQIOLoop, self).start()\n  File \"/Users/junr/pyenv/tf_py3/lib/python3.6/site-packages/tornado/ioloop.py\", line 888, in start\n    handler_func(fd_obj, events)\n  File \"/Users/junr/pyenv/tf_py3/lib/python3.6/site-packages/tornado/stack_context.py\", line 277, in null_wrapper\n    return fn(*args, **kwargs)\n  File \"/Users/junr/pyenv/tf_py3/lib/python3.6/site-packages/zmq/eventloop/zmqstream.py\", line 440, in _handle_events\n    self._handle_recv()\n  File \"/Users/junr/pyenv/tf_py3/lib/python3.6/site-packages/zmq/eventloop/zmqstream.py\", line 472, in _handle_recv\n    self._run_callback(callback, msg)\n  File \"/Users/junr/pyenv/tf_py3/lib/python3.6/site-packages/zmq/eventloop/zmqstream.py\", line 414, in _run_callback\n    callback(*args, **kwargs)\n  File \"/Users/junr/pyenv/tf_py3/lib/python3.6/site-packages/tornado/stack_context.py\", line 277, in null_wrapper\n    return fn(*args, **kwargs)\n  File \"/Users/junr/pyenv/tf_py3/lib/python3.6/site-packages/ipykernel/kernelbase.py\", line 283, in dispatcher\n    return self.dispatch_shell(stream, msg)\n  File \"/Users/junr/pyenv/tf_py3/lib/python3.6/site-packages/ipykernel/kernelbase.py\", line 235, in dispatch_shell\n    handler(stream, idents, msg)\n  File \"/Users/junr/pyenv/tf_py3/lib/python3.6/site-packages/ipykernel/kernelbase.py\", line 399, in execute_request\n    user_expressions, allow_stdin)\n  File \"/Users/junr/pyenv/tf_py3/lib/python3.6/site-packages/ipykernel/ipkernel.py\", line 196, in do_execute\n    res = shell.run_cell(code, store_history=store_history, silent=silent)\n  File \"/Users/junr/pyenv/tf_py3/lib/python3.6/site-packages/ipykernel/zmqshell.py\", line 533, in run_cell\n    return super(ZMQInteractiveShell, self).run_cell(*args, **kwargs)\n  File \"/Users/junr/pyenv/tf_py3/lib/python3.6/site-packages/IPython/core/interactiveshell.py\", line 2728, in run_cell\n    interactivity=interactivity, compiler=compiler, result=result)\n  File \"/Users/junr/pyenv/tf_py3/lib/python3.6/site-packages/IPython/core/interactiveshell.py\", line 2850, in run_ast_nodes\n    if self.run_code(code, result):\n  File \"/Users/junr/pyenv/tf_py3/lib/python3.6/site-packages/IPython/core/interactiveshell.py\", line 2910, in run_code\n    exec(code_obj, self.user_global_ns, self.user_ns)\n  File \"<ipython-input-1-d2d28597c303>\", line 3, in <module>\n    a = test_lb_vgg(config)\n  File \"/Users/junr/Desktop/keras_model/lookback_ops.py\", line 277, in test_lb_vgg\n    adaption_output, net1m, net2m, net3m, net_max_feature = forward_model(images, config)\n  File \"/Users/junr/Desktop/keras_model/lookback_ops.py\", line 259, in forward_model\n    adaption_output, net1m, net2m, net3m, net_max_feature = max_model(images, config)\n  File \"/Users/junr/Desktop/keras_model/lookback_ops.py\", line 113, in max_model\n    activation=None, name='adaption_output')\n  File \"/Users/junr/pyenv/tf_py3/lib/python3.6/site-packages/tensorflow/python/layers/core.py\", line 215, in dense\n    return layer.apply(inputs)\n  File \"/Users/junr/pyenv/tf_py3/lib/python3.6/site-packages/tensorflow/python/layers/base.py\", line 503, in apply\n    return self.__call__(inputs, *args, **kwargs)\n  File \"/Users/junr/pyenv/tf_py3/lib/python3.6/site-packages/tensorflow/python/layers/base.py\", line 443, in __call__\n    self.build(input_shapes[0])\n  File \"/Users/junr/pyenv/tf_py3/lib/python3.6/site-packages/tensorflow/python/layers/core.py\", line 125, in build\n    trainable=True)\n  File \"/Users/junr/pyenv/tf_py3/lib/python3.6/site-packages/tensorflow/python/layers/base.py\", line 383, in add_variable\n    trainable=trainable and self.trainable)\n  File \"/Users/junr/pyenv/tf_py3/lib/python3.6/site-packages/tensorflow/python/ops/variable_scope.py\", line 1065, in get_variable\n    use_resource=use_resource, custom_getter=custom_getter)\n  File \"/Users/junr/pyenv/tf_py3/lib/python3.6/site-packages/tensorflow/python/ops/variable_scope.py\", line 962, in get_variable\n    use_resource=use_resource, custom_getter=custom_getter)\n  File \"/Users/junr/pyenv/tf_py3/lib/python3.6/site-packages/tensorflow/python/ops/variable_scope.py\", line 367, in get_variable\n    validate_shape=validate_shape, use_resource=use_resource)\n  File \"/Users/junr/pyenv/tf_py3/lib/python3.6/site-packages/tensorflow/python/ops/variable_scope.py\", line 352, in _true_getter\n    use_resource=use_resource)\n  File \"/Users/junr/pyenv/tf_py3/lib/python3.6/site-packages/tensorflow/python/ops/variable_scope.py\", line 725, in _get_single_variable\n    validate_shape=validate_shape)\n  File \"/Users/junr/pyenv/tf_py3/lib/python3.6/site-packages/tensorflow/python/ops/variables.py\", line 199, in __init__\n    expected_shape=expected_shape)\n  File \"/Users/junr/pyenv/tf_py3/lib/python3.6/site-packages/tensorflow/python/ops/variables.py\", line 330, in _init_from_args\n    self._snapshot = array_ops.identity(self._variable, name=\"read\")\n  File \"/Users/junr/pyenv/tf_py3/lib/python3.6/site-packages/tensorflow/python/ops/gen_array_ops.py\", line 1400, in identity\n    result = _op_def_lib.apply_op(\"Identity\", input=input, name=name)\n  File \"/Users/junr/pyenv/tf_py3/lib/python3.6/site-packages/tensorflow/python/framework/op_def_library.py\", line 767, in apply_op\n    op_def=op_def)\n  File \"/Users/junr/pyenv/tf_py3/lib/python3.6/site-packages/tensorflow/python/framework/ops.py\", line 2630, in create_op\n    original_op=self._default_original_op, op_def=op_def)\n  File \"/Users/junr/pyenv/tf_py3/lib/python3.6/site-packages/tensorflow/python/framework/ops.py\", line 1204, in __init__\n    self._traceback = self._graph._extract_stack()  # pylint: disable=protected-access\n\nFailedPreconditionError (see above for traceback): Attempting to use uninitialized value adaption/adaption_output/bias\n\t [[Node: adaption/adaption_output/bias/read = Identity[T=DT_FLOAT, _class=[\"loc:@adaption/adaption_output/bias\"], _device=\"/job:localhost/replica:0/task:0/cpu:0\"](adaption/adaption_output/bias)]]\n"
     ]
    }
   ],
   "source": [
    "from lookback_ops import *\n",
    "config = return_a_config()\n",
    "a = test_lb_vgg(config)"
   ]
  },
  {
   "cell_type": "code",
   "execution_count": 1,
   "metadata": {},
   "outputs": [
    {
     "name": "stdout",
     "output_type": "stream",
     "text": [
      "INFO:tensorflow:Restoring parameters from /Users/junr/Documents/prp/pic_data/model/6-10/max.ckpt\n"
     ]
    },
    {
     "ename": "ValueError",
     "evalue": "Cannot feed value of shape (15, 128, 320, 64) for Tensor 'Placeholder_2:0', which has shape '(1, 128, 320, 64)'",
     "output_type": "error",
     "traceback": [
      "\u001b[0;31m---------------------------------------------------------------------------\u001b[0m",
      "\u001b[0;31mValueError\u001b[0m                                Traceback (most recent call last)",
      "\u001b[0;32m<ipython-input-1-d2d28597c303>\u001b[0m in \u001b[0;36m<module>\u001b[0;34m()\u001b[0m\n\u001b[1;32m      1\u001b[0m \u001b[0;32mfrom\u001b[0m \u001b[0mlookback_ops\u001b[0m \u001b[0;32mimport\u001b[0m \u001b[0;34m*\u001b[0m\u001b[0;34m\u001b[0m\u001b[0m\n\u001b[1;32m      2\u001b[0m \u001b[0mconfig\u001b[0m \u001b[0;34m=\u001b[0m \u001b[0mreturn_a_config\u001b[0m\u001b[0;34m(\u001b[0m\u001b[0;34m)\u001b[0m\u001b[0;34m\u001b[0m\u001b[0m\n\u001b[0;32m----> 3\u001b[0;31m \u001b[0ma\u001b[0m \u001b[0;34m=\u001b[0m \u001b[0mtest_lb_vgg\u001b[0m\u001b[0;34m(\u001b[0m\u001b[0mconfig\u001b[0m\u001b[0;34m)\u001b[0m\u001b[0;34m\u001b[0m\u001b[0m\n\u001b[0m",
      "\u001b[0;32m~/Desktop/keras_model/lookback_ops.py\u001b[0m in \u001b[0;36mtest_lb_vgg\u001b[0;34m(config, output_layer, top_k_activation)\u001b[0m\n\u001b[1;32m    329\u001b[0m         \u001b[0mfeed_m1\u001b[0m\u001b[0;34m:\u001b[0m \u001b[0marray_to_mask\u001b[0m\u001b[0;34m(\u001b[0m\u001b[0mvgg_conv_output\u001b[0m\u001b[0;34m[\u001b[0m\u001b[0;36m0\u001b[0m\u001b[0;34m]\u001b[0m\u001b[0;34m)\u001b[0m\u001b[0;34m,\u001b[0m\u001b[0;34m\u001b[0m\u001b[0m\n\u001b[1;32m    330\u001b[0m         \u001b[0mfeed_m2\u001b[0m\u001b[0;34m:\u001b[0m \u001b[0marray_to_mask\u001b[0m\u001b[0;34m(\u001b[0m\u001b[0mvgg_conv_output\u001b[0m\u001b[0;34m[\u001b[0m\u001b[0;36m1\u001b[0m\u001b[0;34m]\u001b[0m\u001b[0;34m)\u001b[0m\u001b[0;34m,\u001b[0m\u001b[0;34m\u001b[0m\u001b[0m\n\u001b[0;32m--> 331\u001b[0;31m         \u001b[0mfeed_m3\u001b[0m\u001b[0;34m:\u001b[0m \u001b[0marray_to_mask\u001b[0m\u001b[0;34m(\u001b[0m\u001b[0mvgg_conv_output\u001b[0m\u001b[0;34m[\u001b[0m\u001b[0;36m2\u001b[0m\u001b[0;34m]\u001b[0m\u001b[0;34m)\u001b[0m\u001b[0;34m\u001b[0m\u001b[0m\n\u001b[0m\u001b[1;32m    332\u001b[0m       })\n\u001b[1;32m    333\u001b[0m       \u001b[0mimg_list\u001b[0m\u001b[0;34m.\u001b[0m\u001b[0mappend\u001b[0m\u001b[0;34m(\u001b[0m\u001b[0msess_output\u001b[0m\u001b[0;34m[\u001b[0m\u001b[0;36m0\u001b[0m\u001b[0;34m]\u001b[0m\u001b[0;34m[\u001b[0m\u001b[0;36m0\u001b[0m\u001b[0;34m]\u001b[0m\u001b[0;34m)\u001b[0m\u001b[0;34m\u001b[0m\u001b[0m\n",
      "\u001b[0;32m~/pyenv/tf_py3/lib/python3.6/site-packages/tensorflow/python/client/session.py\u001b[0m in \u001b[0;36mrun\u001b[0;34m(self, fetches, feed_dict, options, run_metadata)\u001b[0m\n\u001b[1;32m    893\u001b[0m     \u001b[0;32mtry\u001b[0m\u001b[0;34m:\u001b[0m\u001b[0;34m\u001b[0m\u001b[0m\n\u001b[1;32m    894\u001b[0m       result = self._run(None, fetches, feed_dict, options_ptr,\n\u001b[0;32m--> 895\u001b[0;31m                          run_metadata_ptr)\n\u001b[0m\u001b[1;32m    896\u001b[0m       \u001b[0;32mif\u001b[0m \u001b[0mrun_metadata\u001b[0m\u001b[0;34m:\u001b[0m\u001b[0;34m\u001b[0m\u001b[0m\n\u001b[1;32m    897\u001b[0m         \u001b[0mproto_data\u001b[0m \u001b[0;34m=\u001b[0m \u001b[0mtf_session\u001b[0m\u001b[0;34m.\u001b[0m\u001b[0mTF_GetBuffer\u001b[0m\u001b[0;34m(\u001b[0m\u001b[0mrun_metadata_ptr\u001b[0m\u001b[0;34m)\u001b[0m\u001b[0;34m\u001b[0m\u001b[0m\n",
      "\u001b[0;32m~/pyenv/tf_py3/lib/python3.6/site-packages/tensorflow/python/client/session.py\u001b[0m in \u001b[0;36m_run\u001b[0;34m(self, handle, fetches, feed_dict, options, run_metadata)\u001b[0m\n\u001b[1;32m   1098\u001b[0m                 \u001b[0;34m'Cannot feed value of shape %r for Tensor %r, '\u001b[0m\u001b[0;34m\u001b[0m\u001b[0m\n\u001b[1;32m   1099\u001b[0m                 \u001b[0;34m'which has shape %r'\u001b[0m\u001b[0;34m\u001b[0m\u001b[0m\n\u001b[0;32m-> 1100\u001b[0;31m                 % (np_val.shape, subfeed_t.name, str(subfeed_t.get_shape())))\n\u001b[0m\u001b[1;32m   1101\u001b[0m           \u001b[0;32mif\u001b[0m \u001b[0;32mnot\u001b[0m \u001b[0mself\u001b[0m\u001b[0;34m.\u001b[0m\u001b[0mgraph\u001b[0m\u001b[0;34m.\u001b[0m\u001b[0mis_feedable\u001b[0m\u001b[0;34m(\u001b[0m\u001b[0msubfeed_t\u001b[0m\u001b[0;34m)\u001b[0m\u001b[0;34m:\u001b[0m\u001b[0;34m\u001b[0m\u001b[0m\n\u001b[1;32m   1102\u001b[0m             \u001b[0;32mraise\u001b[0m \u001b[0mValueError\u001b[0m\u001b[0;34m(\u001b[0m\u001b[0;34m'Tensor %s may not be fed.'\u001b[0m \u001b[0;34m%\u001b[0m \u001b[0msubfeed_t\u001b[0m\u001b[0;34m)\u001b[0m\u001b[0;34m\u001b[0m\u001b[0m\n",
      "\u001b[0;31mValueError\u001b[0m: Cannot feed value of shape (15, 128, 320, 64) for Tensor 'Placeholder_2:0', which has shape '(1, 128, 320, 64)'"
     ]
    }
   ],
   "source": [
    "from lookback_ops import *\n",
    "config = return_a_config()\n",
    "a = test_lb_vgg(config)"
   ]
  },
  {
   "cell_type": "code",
   "execution_count": 1,
   "metadata": {},
   "outputs": [
    {
     "name": "stdout",
     "output_type": "stream",
     "text": [
      "INFO:tensorflow:Restoring parameters from /Users/junr/Documents/prp/pic_data/model/6-10/max.ckpt\n"
     ]
    }
   ],
   "source": [
    "from lookback_ops import *\n",
    "config = return_a_config()\n",
    "a = test_lb_vgg(config)"
   ]
  },
  {
   "cell_type": "code",
   "execution_count": 2,
   "metadata": {},
   "outputs": [
    {
     "ename": "AttributeError",
     "evalue": "'list' object has no attribute 'shape'",
     "output_type": "error",
     "traceback": [
      "\u001b[0;31m---------------------------------------------------------------------------\u001b[0m",
      "\u001b[0;31mAttributeError\u001b[0m                            Traceback (most recent call last)",
      "\u001b[0;32m<ipython-input-2-d74f1bcdd37c>\u001b[0m in \u001b[0;36m<module>\u001b[0;34m()\u001b[0m\n\u001b[0;32m----> 1\u001b[0;31m \u001b[0ma\u001b[0m\u001b[0;34m.\u001b[0m\u001b[0mshape\u001b[0m\u001b[0;34m\u001b[0m\u001b[0m\n\u001b[0m",
      "\u001b[0;31mAttributeError\u001b[0m: 'list' object has no attribute 'shape'"
     ]
    }
   ],
   "source": [
    "a.shape"
   ]
  },
  {
   "cell_type": "code",
   "execution_count": 3,
   "metadata": {},
   "outputs": [
    {
     "data": {
      "text/plain": [
       "15"
      ]
     },
     "execution_count": 3,
     "metadata": {},
     "output_type": "execute_result"
    }
   ],
   "source": [
    "len(a)"
   ]
  },
  {
   "cell_type": "code",
   "execution_count": 4,
   "metadata": {},
   "outputs": [],
   "source": [
    "b = a[0]"
   ]
  },
  {
   "cell_type": "code",
   "execution_count": 5,
   "metadata": {},
   "outputs": [
    {
     "ename": "AttributeError",
     "evalue": "'list' object has no attribute 'shape'",
     "output_type": "error",
     "traceback": [
      "\u001b[0;31m---------------------------------------------------------------------------\u001b[0m",
      "\u001b[0;31mAttributeError\u001b[0m                            Traceback (most recent call last)",
      "\u001b[0;32m<ipython-input-5-a8244287b6af>\u001b[0m in \u001b[0;36m<module>\u001b[0;34m()\u001b[0m\n\u001b[0;32m----> 1\u001b[0;31m \u001b[0mb\u001b[0m\u001b[0;34m.\u001b[0m\u001b[0mshape\u001b[0m\u001b[0;34m\u001b[0m\u001b[0m\n\u001b[0m",
      "\u001b[0;31mAttributeError\u001b[0m: 'list' object has no attribute 'shape'"
     ]
    }
   ],
   "source": [
    "b.shape"
   ]
  },
  {
   "cell_type": "code",
   "execution_count": 6,
   "metadata": {},
   "outputs": [
    {
     "data": {
      "text/plain": [
       "(128, 320, 3)"
      ]
     },
     "execution_count": 6,
     "metadata": {},
     "output_type": "execute_result"
    }
   ],
   "source": [
    "b[0].shape"
   ]
  },
  {
   "cell_type": "code",
   "execution_count": 7,
   "metadata": {},
   "outputs": [],
   "source": [
    "import matplotlib.pyplot as plt\n",
    "%matplotlib inline"
   ]
  },
  {
   "cell_type": "code",
   "execution_count": 8,
   "metadata": {},
   "outputs": [],
   "source": [
    "tmp_img = b[0]"
   ]
  },
  {
   "cell_type": "code",
   "execution_count": 9,
   "metadata": {},
   "outputs": [
    {
     "ename": "NameError",
     "evalue": "name 'tmp_img_' is not defined",
     "output_type": "error",
     "traceback": [
      "\u001b[0;31m---------------------------------------------------------------------------\u001b[0m",
      "\u001b[0;31mNameError\u001b[0m                                 Traceback (most recent call last)",
      "\u001b[0;32m<ipython-input-9-f47719048ef6>\u001b[0m in \u001b[0;36m<module>\u001b[0;34m()\u001b[0m\n\u001b[0;32m----> 1\u001b[0;31m \u001b[0mnp\u001b[0m\u001b[0;34m.\u001b[0m\u001b[0mmax\u001b[0m\u001b[0;34m(\u001b[0m\u001b[0mtmp_img_\u001b[0m\u001b[0;34m)\u001b[0m\u001b[0;34m\u001b[0m\u001b[0m\n\u001b[0m",
      "\u001b[0;31mNameError\u001b[0m: name 'tmp_img_' is not defined"
     ]
    }
   ],
   "source": [
    "np.max(tmp_img_)"
   ]
  },
  {
   "cell_type": "code",
   "execution_count": 10,
   "metadata": {},
   "outputs": [
    {
     "data": {
      "text/plain": [
       "90.723625"
      ]
     },
     "execution_count": 10,
     "metadata": {},
     "output_type": "execute_result"
    }
   ],
   "source": [
    "np.max(tmp_img)"
   ]
  },
  {
   "cell_type": "code",
   "execution_count": 11,
   "metadata": {},
   "outputs": [
    {
     "data": {
      "text/plain": [
       "-151.05327"
      ]
     },
     "execution_count": 11,
     "metadata": {},
     "output_type": "execute_result"
    }
   ],
   "source": [
    "np.min(tmp_img)"
   ]
  },
  {
   "cell_type": "code",
   "execution_count": 12,
   "metadata": {},
   "outputs": [],
   "source": [
    "def normalize(imgs):\n",
    "  min = np.min(imgs)\n",
    "  max = np.max(imgs)\n",
    "  return (imgs - min) / (max - min)"
   ]
  },
  {
   "cell_type": "code",
   "execution_count": 13,
   "metadata": {},
   "outputs": [
    {
     "data": {
      "text/plain": [
       "<matplotlib.image.AxesImage at 0x113121c50>"
      ]
     },
     "execution_count": 13,
     "metadata": {},
     "output_type": "execute_result"
    },
    {
     "data": {
      "image/png": "[encoded data removed]",
      "text/plain": [
       "<matplotlib.figure.Figure at 0x1039e8358>"
      ]
     },
     "metadata": {},
     "output_type": "display_data"
    }
   ],
   "source": [
    "plt.imshow(normalize(tmp_img))"
   ]
  },
  {
   "cell_type": "code",
   "execution_count": 14,
   "metadata": {},
   "outputs": [
    {
     "data": {
      "text/plain": [
       "<matplotlib.image.AxesImage at 0x11314e8d0>"
      ]
     },
     "execution_count": 14,
     "metadata": {},
     "output_type": "execute_result"
    },
    {
     "data": {
      "image/png": "[encoded data removed]",
      "text/plain": [
       "<matplotlib.figure.Figure at 0x112e1d3c8>"
      ]
     },
     "metadata": {},
     "output_type": "display_data"
    }
   ],
   "source": [
    "plt.imshow(normalize(tmp_img[...,0]))"
   ]
  },
  {
   "cell_type": "code",
   "execution_count": 15,
   "metadata": {},
   "outputs": [
    {
     "data": {
      "text/plain": [
       "<matplotlib.image.AxesImage at 0x112a61f28>"
      ]
     },
     "execution_count": 15,
     "metadata": {},
     "output_type": "execute_result"
    },
    {
     "data": {
      "image/png": "[encoded data removed]",
      "text/plain": [
       "<matplotlib.figure.Figure at 0x102717b00>"
      ]
     },
     "metadata": {},
     "output_type": "display_data"
    }
   ],
   "source": [
    "plt.imshow(normalize(tmp_img[...,1]))"
   ]
  },
  {
   "cell_type": "code",
   "execution_count": 16,
   "metadata": {},
   "outputs": [
    {
     "data": {
      "text/plain": [
       "<matplotlib.image.AxesImage at 0x112c9c470>"
      ]
     },
     "execution_count": 16,
     "metadata": {},
     "output_type": "execute_result"
    },
    {
     "data": {
      "image/png": "[encoded data removed]",
      "text/plain": [
       "<matplotlib.figure.Figure at 0x112b19c50>"
      ]
     },
     "metadata": {},
     "output_type": "display_data"
    }
   ],
   "source": [
    "plt.imshow(normalize(tmp_img[..., 1]), cmap ='gray')"
   ]
  },
  {
   "cell_type": "code",
   "execution_count": 17,
   "metadata": {},
   "outputs": [],
   "source": [
    "def get_top_activation2d(img, top_k=10):\n",
    "  \"\"\"Get the top activation in 2d image.\n",
    "  Return: img with only top_k numbers kept.\n",
    "  \"\"\"\n",
    "  tmp = img.flatten()\n",
    "  tmp[np.argsort(tmp)[:-top_k]] = 0\n",
    "  return tmp.reshape(img.shape)"
   ]
  },
  {
   "cell_type": "code",
   "execution_count": 18,
   "metadata": {},
   "outputs": [],
   "source": [
    "a = np.array([[1,2,3,4],[4,5,6,7]])"
   ]
  },
  {
   "cell_type": "code",
   "execution_count": 19,
   "metadata": {},
   "outputs": [
    {
     "data": {
      "text/plain": [
       "array([[1, 2, 3, 4],\n",
       "       [4, 5, 6, 7]])"
      ]
     },
     "execution_count": 19,
     "metadata": {},
     "output_type": "execute_result"
    }
   ],
   "source": [
    "a"
   ]
  },
  {
   "cell_type": "code",
   "execution_count": 20,
   "metadata": {},
   "outputs": [],
   "source": [
    "v=get_top_activation2d(a, 3)"
   ]
  },
  {
   "cell_type": "code",
   "execution_count": 21,
   "metadata": {},
   "outputs": [
    {
     "data": {
      "text/plain": [
       "array([[0, 0, 0, 0],\n",
       "       [0, 5, 6, 7]])"
      ]
     },
     "execution_count": 21,
     "metadata": {},
     "output_type": "execute_result"
    }
   ],
   "source": [
    "v"
   ]
  },
  {
   "cell_type": "code",
   "execution_count": 22,
   "metadata": {},
   "outputs": [
    {
     "data": {
      "text/plain": [
       "<config.ModelConfig at 0x102d58908>"
      ]
     },
     "execution_count": 22,
     "metadata": {},
     "output_type": "execute_result"
    }
   ],
   "source": [
    "config"
   ]
  },
  {
   "cell_type": "code",
   "execution_count": 23,
   "metadata": {},
   "outputs": [],
   "source": [
    "def test_lb_vgg(config, output_layer='conv1', top_k_activation=5):\n",
    "  \"\"\"Give an image, get the output of conv1, return the\n",
    "  look back image of it.\n",
    "  Args:\n",
    "    conv1_output: output of a group(batch) of images through vgg model,\n",
    "                  which is infer_output[1] in lookback.py\n",
    "    vgg_conv_output: ndarray, used to get mask\n",
    "    netXm: output of vgg/conv* before max pooling\n",
    "  \"\"\"\n",
    "  # get the index of vgg output layer\n",
    "  vgg_output_layer = int(output_layer[-1])\n",
    "  shape_feed = [1, 128, 320, 32 * (2 ** vgg_output_layer)]\n",
    "\n",
    "  # build forward model\n",
    "  images = tf.placeholder(tf.float32, [config.max_sequence_length, 128, 320, 3])\n",
    "  adaption_output, net1m, net2m, net3m, net_max_feature = forward_model(images, config)\n",
    "\n",
    "  # build model\n",
    "  feed_input = tf.placeholder(tf.float32, shape_feed) # input for deconv model\n",
    "  feed_m1 = tf.placeholder(tf.float32, shape=[1, 128, 320, 64]) # mask for vgg/conv1\n",
    "  feed_m2 = tf.placeholder(tf.float32, shape=[1, 64, 160, 128]) # mask for vgg/conv2\n",
    "  feed_m3 = tf.placeholder(tf.float32, shape=[1, 32, 80, 256])  # mask for vgg/conv3\n",
    "  ori_img_output = lb_tf_vgg(feed_input, [feed_m1, feed_m2, feed_m3], output_layer)\n",
    "\n",
    "  # build sess\n",
    "  sess = tf.Session()\n",
    "\n",
    "  # restore\n",
    "  all_vars = tf.global_variables()\n",
    "  saver = tf.train.Saver(all_vars)\n",
    "  saver.restore(sess, '/Users/junr/Documents/prp/pic_data/model/6-10/max.ckpt')\n",
    "\n",
    "  # prepare the data\n",
    "  ds = config_to_dataset(config)\n",
    "  binarizer = MultiLabelBinarizer(classes=ds.vocab)\n",
    "  i, l = dataset_element_to_batch_data(ds.raw_dataset[66], binarizer, config) # just pick one randomly\n",
    "\n",
    "  # run forward model\n",
    "  infer_output = sess.run([adaption_output, net1m, net2m, net3m, net_max_feature],\n",
    "                          feed_dict={\n",
    "                            images: i\n",
    "                          })\n",
    "\n",
    "  # conv1_output: output of a group(batch) of images through vgg model,\n",
    "  #                 which is infer_output[1] in lookback.py\n",
    "  # vgg_conv_output: ndarray, used to get mask\n",
    "  vgg_conv_output = [infer_output[1], infer_output[2], infer_output[3]]\n",
    "  conv_output = vgg_conv_output[vgg_output_layer - 1]\n",
    "\n",
    "  # batch_img_list: element for every batch\n",
    "  batch_img_list = []\n",
    "  for single_batch in range(conv_output.shape[0]):\n",
    "    # top_activation: [1, 128, 320, top_k_activation]\n",
    "    # this is top activated among kernels, but what if we want to get\n",
    "    # top activated in a single image.\n",
    "    # do that in inner loop\n",
    "    top_activation, top_activation_index = get_top_activation(\n",
    "                conv_output[single_batch][None, :], top_k=top_k_activation)\n",
    "\n",
    "    # img_list: element for every top activation img\n",
    "    img_list = []\n",
    "    for idx in range(top_k_activation):\n",
    "      # build feed dict for deconv model\n",
    "      img_to_feed = top_activation[..., idx]\n",
    "      # img_to_feed means top activation among different kernels\n",
    "      # next we want get top activation in an img\n",
    "      # img_to_feed has batch 1\n",
    "      img_to_feed[0] = get_top_activation2d(img_to_feed[0], 5)\n",
    "\n",
    "      img_to_feed_idx = top_activation_index[idx]\n",
    "      tensor_to_feed = np.zeros(shape_feed)\n",
    "      tensor_to_feed[..., img_to_feed_idx] = img_to_feed\n",
    "\n",
    "      sess_output = sess.run([ori_img_output], feed_dict={\n",
    "        feed_input: tensor_to_feed,\n",
    "        feed_m1: array_to_mask(vgg_conv_output[0][single_batch, ...][None, :]),\n",
    "        feed_m2: array_to_mask(vgg_conv_output[1][single_batch, ...][None, :]),\n",
    "        feed_m3: array_to_mask(vgg_conv_output[2][single_batch, ...][None, :])\n",
    "      })\n",
    "      img_list.append(sess_output[0][0])\n",
    "    batch_img_list.append([img_list, i[single_batch]])\n",
    "  return batch_img_list"
   ]
  },
  {
   "cell_type": "code",
   "execution_count": 24,
   "metadata": {},
   "outputs": [
    {
     "ename": "ValueError",
     "evalue": "Variable vgg_16/conv1/conv1_1/weights already exists, disallowed. Did you mean to set reuse=True in VarScope? Originally defined at:\n\n  File \"/Users/junr/pyenv/tf_py3/lib/python3.6/site-packages/tensorflow/contrib/framework/python/ops/variables.py\", line 216, in variable\n    use_resource=use_resource)\n  File \"/Users/junr/pyenv/tf_py3/lib/python3.6/site-packages/tensorflow/contrib/framework/python/ops/arg_scope.py\", line 181, in func_with_args\n    return func(*args, **current_args)\n  File \"/Users/junr/pyenv/tf_py3/lib/python3.6/site-packages/tensorflow/contrib/framework/python/ops/variables.py\", line 261, in model_variable\n    use_resource=use_resource)\n",
     "output_type": "error",
     "traceback": [
      "\u001b[0;31m---------------------------------------------------------------------------\u001b[0m",
      "\u001b[0;31mValueError\u001b[0m                                Traceback (most recent call last)",
      "\u001b[0;32m<ipython-input-24-135bd65cb5b6>\u001b[0m in \u001b[0;36m<module>\u001b[0;34m()\u001b[0m\n\u001b[0;32m----> 1\u001b[0;31m \u001b[0ma\u001b[0m \u001b[0;34m=\u001b[0m \u001b[0mtest_lb_vgg\u001b[0m\u001b[0;34m(\u001b[0m\u001b[0mconfig\u001b[0m\u001b[0;34m)\u001b[0m\u001b[0;34m\u001b[0m\u001b[0m\n\u001b[0m",
      "\u001b[0;32m<ipython-input-23-d5ded6c9eb2f>\u001b[0m in \u001b[0;36mtest_lb_vgg\u001b[0;34m(config, output_layer, top_k_activation)\u001b[0m\n\u001b[1;32m     14\u001b[0m   \u001b[0;31m# build forward model\u001b[0m\u001b[0;34m\u001b[0m\u001b[0;34m\u001b[0m\u001b[0m\n\u001b[1;32m     15\u001b[0m   \u001b[0mimages\u001b[0m \u001b[0;34m=\u001b[0m \u001b[0mtf\u001b[0m\u001b[0;34m.\u001b[0m\u001b[0mplaceholder\u001b[0m\u001b[0;34m(\u001b[0m\u001b[0mtf\u001b[0m\u001b[0;34m.\u001b[0m\u001b[0mfloat32\u001b[0m\u001b[0;34m,\u001b[0m \u001b[0;34m[\u001b[0m\u001b[0mconfig\u001b[0m\u001b[0;34m.\u001b[0m\u001b[0mmax_sequence_length\u001b[0m\u001b[0;34m,\u001b[0m \u001b[0;36m128\u001b[0m\u001b[0;34m,\u001b[0m \u001b[0;36m320\u001b[0m\u001b[0;34m,\u001b[0m \u001b[0;36m3\u001b[0m\u001b[0;34m]\u001b[0m\u001b[0;34m)\u001b[0m\u001b[0;34m\u001b[0m\u001b[0m\n\u001b[0;32m---> 16\u001b[0;31m   \u001b[0madaption_output\u001b[0m\u001b[0;34m,\u001b[0m \u001b[0mnet1m\u001b[0m\u001b[0;34m,\u001b[0m \u001b[0mnet2m\u001b[0m\u001b[0;34m,\u001b[0m \u001b[0mnet3m\u001b[0m\u001b[0;34m,\u001b[0m \u001b[0mnet_max_feature\u001b[0m \u001b[0;34m=\u001b[0m \u001b[0mforward_model\u001b[0m\u001b[0;34m(\u001b[0m\u001b[0mimages\u001b[0m\u001b[0;34m,\u001b[0m \u001b[0mconfig\u001b[0m\u001b[0;34m)\u001b[0m\u001b[0;34m\u001b[0m\u001b[0m\n\u001b[0m\u001b[1;32m     17\u001b[0m \u001b[0;34m\u001b[0m\u001b[0m\n\u001b[1;32m     18\u001b[0m   \u001b[0;31m# build model\u001b[0m\u001b[0;34m\u001b[0m\u001b[0;34m\u001b[0m\u001b[0m\n",
      "\u001b[0;32m~/Desktop/keras_model/lookback_ops.py\u001b[0m in \u001b[0;36mforward_model\u001b[0;34m(images, config)\u001b[0m\n\u001b[1;32m    257\u001b[0m   \u001b[0mimgs\u001b[0m \u001b[0;34m=\u001b[0m \u001b[0mnp\u001b[0m\u001b[0;34m.\u001b[0m\u001b[0marray\u001b[0m\u001b[0;34m(\u001b[0m\u001b[0mimgs\u001b[0m\u001b[0;34m)\u001b[0m\u001b[0;34m\u001b[0m\u001b[0m\n\u001b[1;32m    258\u001b[0m   \u001b[0mtemp_image\u001b[0m \u001b[0;34m=\u001b[0m \u001b[0mimgs\u001b[0m\u001b[0;34m\u001b[0m\u001b[0m\n\u001b[0;32m--> 259\u001b[0;31m   \u001b[0;32mfor\u001b[0m \u001b[0mtmp_idx\u001b[0m \u001b[0;32min\u001b[0m \u001b[0mrange\u001b[0m\u001b[0;34m(\u001b[0m\u001b[0mint\u001b[0m\u001b[0;34m(\u001b[0m\u001b[0mconfig\u001b[0m\u001b[0;34m.\u001b[0m\u001b[0mmax_sequence_length\u001b[0m \u001b[0;34m/\u001b[0m \u001b[0mimgs\u001b[0m\u001b[0;34m.\u001b[0m\u001b[0mshape\u001b[0m\u001b[0;34m[\u001b[0m\u001b[0;36m0\u001b[0m\u001b[0;34m]\u001b[0m \u001b[0;34m+\u001b[0m \u001b[0;36m1\u001b[0m\u001b[0;34m)\u001b[0m\u001b[0;34m)\u001b[0m\u001b[0;34m:\u001b[0m\u001b[0;34m\u001b[0m\u001b[0m\n\u001b[0m\u001b[1;32m    260\u001b[0m     \u001b[0mtemp_image\u001b[0m \u001b[0;34m=\u001b[0m \u001b[0mnp\u001b[0m\u001b[0;34m.\u001b[0m\u001b[0mconcatenate\u001b[0m\u001b[0;34m(\u001b[0m\u001b[0;34m(\u001b[0m\u001b[0mtemp_image\u001b[0m\u001b[0;34m,\u001b[0m \u001b[0mimgs\u001b[0m\u001b[0;34m)\u001b[0m\u001b[0;34m)\u001b[0m\u001b[0;34m\u001b[0m\u001b[0m\n\u001b[1;32m    261\u001b[0m   \u001b[0mi\u001b[0m \u001b[0;34m=\u001b[0m \u001b[0mtemp_image\u001b[0m\u001b[0;34m[\u001b[0m\u001b[0;34m:\u001b[0m\u001b[0mconfig\u001b[0m\u001b[0;34m.\u001b[0m\u001b[0mmax_sequence_length\u001b[0m\u001b[0;34m]\u001b[0m  \u001b[0;31m# [15, 128, 320, 3]\u001b[0m\u001b[0;34m\u001b[0m\u001b[0m\n",
      "\u001b[0;32m~/Desktop/keras_model/lookback_ops.py\u001b[0m in \u001b[0;36mmax_model\u001b[0;34m(images, config)\u001b[0m\n\u001b[1;32m     66\u001b[0m   \u001b[0mNo\u001b[0m \u001b[0mneed\u001b[0m \u001b[0;32mfor\u001b[0m \u001b[0mtraining\u001b[0m\u001b[0;34m.\u001b[0m\u001b[0;34m\u001b[0m\u001b[0m\n\u001b[1;32m     67\u001b[0m   \u001b[0mReturn\u001b[0m\u001b[0;34m:\u001b[0m\u001b[0;34m\u001b[0m\u001b[0m\n\u001b[0;32m---> 68\u001b[0;31m      \u001b[0madaption_output\u001b[0m\u001b[0;34m,\u001b[0m \u001b[0mnet1m\u001b[0m\u001b[0;34m,\u001b[0m \u001b[0mnet2m\u001b[0m\u001b[0;34m,\u001b[0m \u001b[0mnet3m\u001b[0m\u001b[0;34m,\u001b[0m \u001b[0mnet4m\u001b[0m\u001b[0;34m,\u001b[0m \u001b[0mnet_max_feature\u001b[0m\u001b[0;34m\u001b[0m\u001b[0m\n\u001b[0m\u001b[1;32m     69\u001b[0m   \"\"\"\n\u001b[1;32m     70\u001b[0m   \u001b[0mnet\u001b[0m\u001b[0;34m,\u001b[0m \u001b[0mnet1m\u001b[0m\u001b[0;34m,\u001b[0m \u001b[0mnet2m\u001b[0m\u001b[0;34m,\u001b[0m \u001b[0mnet3m\u001b[0m\u001b[0;34m,\u001b[0m \u001b[0mnet4m\u001b[0m \u001b[0;34m=\u001b[0m \u001b[0mextract_feature\u001b[0m\u001b[0;34m(\u001b[0m\u001b[0mimages\u001b[0m\u001b[0;34m)\u001b[0m\u001b[0;34m\u001b[0m\u001b[0m\n",
      "\u001b[0;32m~/Desktop/keras_model/lookback_ops.py\u001b[0m in \u001b[0;36mextract_feature\u001b[0;34m(images, output_layer, stddev)\u001b[0m\n\u001b[1;32m     54\u001b[0m                         \u001b[0mactivation_fn\u001b[0m\u001b[0;34m=\u001b[0m\u001b[0mtf\u001b[0m\u001b[0;34m.\u001b[0m\u001b[0mnn\u001b[0m\u001b[0;34m.\u001b[0m\u001b[0mrelu\u001b[0m\u001b[0;34m,\u001b[0m\u001b[0;34m\u001b[0m\u001b[0m\n\u001b[1;32m     55\u001b[0m                         \u001b[0mweights_initializer\u001b[0m\u001b[0;34m=\u001b[0m\u001b[0mtf\u001b[0m\u001b[0;34m.\u001b[0m\u001b[0mtruncated_normal_initializer\u001b[0m\u001b[0;34m(\u001b[0m\u001b[0mstddev\u001b[0m\u001b[0;34m=\u001b[0m\u001b[0mstddev\u001b[0m\u001b[0;34m)\u001b[0m\u001b[0;34m,\u001b[0m\u001b[0;34m\u001b[0m\u001b[0m\n\u001b[0;32m---> 56\u001b[0;31m                         biases_initializer=tf.zeros_initializer()):\n\u001b[0m\u001b[1;32m     57\u001b[0m       \u001b[0;32mwith\u001b[0m \u001b[0mslim\u001b[0m\u001b[0;34m.\u001b[0m\u001b[0marg_scope\u001b[0m\u001b[0;34m(\u001b[0m\u001b[0;34m[\u001b[0m\u001b[0mslim\u001b[0m\u001b[0;34m.\u001b[0m\u001b[0mconv2d\u001b[0m\u001b[0;34m]\u001b[0m\u001b[0;34m,\u001b[0m \u001b[0mpadding\u001b[0m\u001b[0;34m=\u001b[0m\u001b[0;34m'SAME'\u001b[0m\u001b[0;34m)\u001b[0m\u001b[0;34m:\u001b[0m\u001b[0;34m\u001b[0m\u001b[0m\n\u001b[1;32m     58\u001b[0m         \u001b[0mnet\u001b[0m\u001b[0;34m,\u001b[0m \u001b[0mend_points\u001b[0m\u001b[0;34m,\u001b[0m \u001b[0mnet1m\u001b[0m\u001b[0;34m,\u001b[0m \u001b[0mnet2m\u001b[0m\u001b[0;34m,\u001b[0m \u001b[0mnet3m\u001b[0m\u001b[0;34m,\u001b[0m \u001b[0mnet4m\u001b[0m \u001b[0;34m=\u001b[0m \u001b[0mvgg_16\u001b[0m\u001b[0;34m(\u001b[0m\u001b[0mimages\u001b[0m\u001b[0;34m)\u001b[0m\u001b[0;34m\u001b[0m\u001b[0m\n",
      "\u001b[0;32m~/Desktop/keras_model/lookback_ops.py\u001b[0m in \u001b[0;36mvgg_16\u001b[0;34m(inputs, scope)\u001b[0m\n\u001b[1;32m     25\u001b[0m     \u001b[0mend_points_collection\u001b[0m \u001b[0;34m=\u001b[0m \u001b[0msc\u001b[0m\u001b[0;34m.\u001b[0m\u001b[0mname\u001b[0m \u001b[0;34m+\u001b[0m \u001b[0;34m'_end_points'\u001b[0m\u001b[0;34m\u001b[0m\u001b[0m\n\u001b[1;32m     26\u001b[0m     \u001b[0;31m# Collect outputs for conv2d, fully_connected and max_pool2d.\u001b[0m\u001b[0;34m\u001b[0m\u001b[0;34m\u001b[0m\u001b[0m\n\u001b[0;32m---> 27\u001b[0;31m     with slim.arg_scope([slim.conv2d, slim.fully_connected, slim.max_pool2d],\n\u001b[0m\u001b[1;32m     28\u001b[0m                         outputs_collections=end_points_collection):\n\u001b[1;32m     29\u001b[0m       \u001b[0mnet1\u001b[0m \u001b[0;34m=\u001b[0m \u001b[0mslim\u001b[0m\u001b[0;34m.\u001b[0m\u001b[0mrepeat\u001b[0m\u001b[0;34m(\u001b[0m\u001b[0minputs\u001b[0m\u001b[0;34m,\u001b[0m \u001b[0;36m2\u001b[0m\u001b[0;34m,\u001b[0m \u001b[0mslim\u001b[0m\u001b[0;34m.\u001b[0m\u001b[0mconv2d\u001b[0m\u001b[0;34m,\u001b[0m \u001b[0;36m64\u001b[0m\u001b[0;34m,\u001b[0m \u001b[0;34m[\u001b[0m\u001b[0;36m3\u001b[0m\u001b[0;34m,\u001b[0m \u001b[0;36m3\u001b[0m\u001b[0;34m]\u001b[0m\u001b[0;34m,\u001b[0m \u001b[0mscope\u001b[0m\u001b[0;34m=\u001b[0m\u001b[0;34m'conv1'\u001b[0m\u001b[0;34m)\u001b[0m\u001b[0;34m\u001b[0m\u001b[0m\n",
      "\u001b[0;32m~/pyenv/tf_py3/lib/python3.6/site-packages/tensorflow/contrib/layers/python/layers/layers.py\u001b[0m in \u001b[0;36mrepeat\u001b[0;34m(inputs, repetitions, layer, *args, **kwargs)\u001b[0m\n\u001b[1;32m   2058\u001b[0m     \u001b[0;32mfor\u001b[0m \u001b[0mi\u001b[0m \u001b[0;32min\u001b[0m \u001b[0mrange\u001b[0m\u001b[0;34m(\u001b[0m\u001b[0mrepetitions\u001b[0m\u001b[0;34m)\u001b[0m\u001b[0;34m:\u001b[0m\u001b[0;34m\u001b[0m\u001b[0m\n\u001b[1;32m   2059\u001b[0m       \u001b[0mkwargs\u001b[0m\u001b[0;34m[\u001b[0m\u001b[0;34m'scope'\u001b[0m\u001b[0;34m]\u001b[0m \u001b[0;34m=\u001b[0m \u001b[0mscope\u001b[0m \u001b[0;34m+\u001b[0m \u001b[0;34m'_'\u001b[0m \u001b[0;34m+\u001b[0m \u001b[0mstr\u001b[0m\u001b[0;34m(\u001b[0m\u001b[0mi\u001b[0m\u001b[0;34m+\u001b[0m\u001b[0;36m1\u001b[0m\u001b[0;34m)\u001b[0m\u001b[0;34m\u001b[0m\u001b[0m\n\u001b[0;32m-> 2060\u001b[0;31m       \u001b[0moutputs\u001b[0m \u001b[0;34m=\u001b[0m \u001b[0mlayer\u001b[0m\u001b[0;34m(\u001b[0m\u001b[0moutputs\u001b[0m\u001b[0;34m,\u001b[0m \u001b[0;34m*\u001b[0m\u001b[0margs\u001b[0m\u001b[0;34m,\u001b[0m \u001b[0;34m**\u001b[0m\u001b[0mkwargs\u001b[0m\u001b[0;34m)\u001b[0m\u001b[0;34m\u001b[0m\u001b[0m\n\u001b[0m\u001b[1;32m   2061\u001b[0m     \u001b[0;32mreturn\u001b[0m \u001b[0moutputs\u001b[0m\u001b[0;34m\u001b[0m\u001b[0m\n\u001b[1;32m   2062\u001b[0m \u001b[0;34m\u001b[0m\u001b[0m\n",
      "\u001b[0;32m~/pyenv/tf_py3/lib/python3.6/site-packages/tensorflow/contrib/framework/python/ops/arg_scope.py\u001b[0m in \u001b[0;36mfunc_with_args\u001b[0;34m(*args, **kwargs)\u001b[0m\n\u001b[1;32m    179\u001b[0m       \u001b[0mcurrent_args\u001b[0m \u001b[0;34m=\u001b[0m \u001b[0mcurrent_scope\u001b[0m\u001b[0;34m[\u001b[0m\u001b[0mkey_func\u001b[0m\u001b[0;34m]\u001b[0m\u001b[0;34m.\u001b[0m\u001b[0mcopy\u001b[0m\u001b[0;34m(\u001b[0m\u001b[0;34m)\u001b[0m\u001b[0;34m\u001b[0m\u001b[0m\n\u001b[1;32m    180\u001b[0m       \u001b[0mcurrent_args\u001b[0m\u001b[0;34m.\u001b[0m\u001b[0mupdate\u001b[0m\u001b[0;34m(\u001b[0m\u001b[0mkwargs\u001b[0m\u001b[0;34m)\u001b[0m\u001b[0;34m\u001b[0m\u001b[0m\n\u001b[0;32m--> 181\u001b[0;31m     \u001b[0;32mreturn\u001b[0m \u001b[0mfunc\u001b[0m\u001b[0;34m(\u001b[0m\u001b[0;34m*\u001b[0m\u001b[0margs\u001b[0m\u001b[0;34m,\u001b[0m \u001b[0;34m**\u001b[0m\u001b[0mcurrent_args\u001b[0m\u001b[0;34m)\u001b[0m\u001b[0;34m\u001b[0m\u001b[0m\n\u001b[0m\u001b[1;32m    182\u001b[0m   \u001b[0m_add_op\u001b[0m\u001b[0;34m(\u001b[0m\u001b[0mfunc\u001b[0m\u001b[0;34m)\u001b[0m\u001b[0;34m\u001b[0m\u001b[0m\n\u001b[1;32m    183\u001b[0m   \u001b[0msetattr\u001b[0m\u001b[0;34m(\u001b[0m\u001b[0mfunc_with_args\u001b[0m\u001b[0;34m,\u001b[0m \u001b[0;34m'_key_op'\u001b[0m\u001b[0;34m,\u001b[0m \u001b[0m_key_op\u001b[0m\u001b[0;34m(\u001b[0m\u001b[0mfunc\u001b[0m\u001b[0;34m)\u001b[0m\u001b[0;34m)\u001b[0m\u001b[0;34m\u001b[0m\u001b[0m\n",
      "\u001b[0;32m~/pyenv/tf_py3/lib/python3.6/site-packages/tensorflow/contrib/layers/python/layers/layers.py\u001b[0m in \u001b[0;36mconvolution\u001b[0;34m(inputs, num_outputs, kernel_size, stride, padding, data_format, rate, activation_fn, normalizer_fn, normalizer_params, weights_initializer, weights_regularizer, biases_initializer, biases_regularizer, reuse, variables_collections, outputs_collections, trainable, scope)\u001b[0m\n\u001b[1;32m   1025\u001b[0m                         \u001b[0m_scope\u001b[0m\u001b[0;34m=\u001b[0m\u001b[0msc\u001b[0m\u001b[0;34m,\u001b[0m\u001b[0;34m\u001b[0m\u001b[0m\n\u001b[1;32m   1026\u001b[0m                         _reuse=reuse)\n\u001b[0;32m-> 1027\u001b[0;31m     \u001b[0moutputs\u001b[0m \u001b[0;34m=\u001b[0m \u001b[0mlayer\u001b[0m\u001b[0;34m.\u001b[0m\u001b[0mapply\u001b[0m\u001b[0;34m(\u001b[0m\u001b[0minputs\u001b[0m\u001b[0;34m)\u001b[0m\u001b[0;34m\u001b[0m\u001b[0m\n\u001b[0m\u001b[1;32m   1028\u001b[0m \u001b[0;34m\u001b[0m\u001b[0m\n\u001b[1;32m   1029\u001b[0m     \u001b[0;31m# Add variables to collections.\u001b[0m\u001b[0;34m\u001b[0m\u001b[0;34m\u001b[0m\u001b[0m\n",
      "\u001b[0;32m~/pyenv/tf_py3/lib/python3.6/site-packages/tensorflow/python/layers/base.py\u001b[0m in \u001b[0;36mapply\u001b[0;34m(self, inputs, *args, **kwargs)\u001b[0m\n\u001b[1;32m    501\u001b[0m       \u001b[0mOutput\u001b[0m \u001b[0mtensor\u001b[0m\u001b[0;34m(\u001b[0m\u001b[0ms\u001b[0m\u001b[0;34m)\u001b[0m\u001b[0;34m.\u001b[0m\u001b[0;34m\u001b[0m\u001b[0m\n\u001b[1;32m    502\u001b[0m     \"\"\"\n\u001b[0;32m--> 503\u001b[0;31m     \u001b[0;32mreturn\u001b[0m \u001b[0mself\u001b[0m\u001b[0;34m.\u001b[0m\u001b[0m__call__\u001b[0m\u001b[0;34m(\u001b[0m\u001b[0minputs\u001b[0m\u001b[0;34m,\u001b[0m \u001b[0;34m*\u001b[0m\u001b[0margs\u001b[0m\u001b[0;34m,\u001b[0m \u001b[0;34m**\u001b[0m\u001b[0mkwargs\u001b[0m\u001b[0;34m)\u001b[0m\u001b[0;34m\u001b[0m\u001b[0m\n\u001b[0m\u001b[1;32m    504\u001b[0m \u001b[0;34m\u001b[0m\u001b[0m\n\u001b[1;32m    505\u001b[0m   \u001b[0;32mdef\u001b[0m \u001b[0m_assert_input_compatibility\u001b[0m\u001b[0;34m(\u001b[0m\u001b[0mself\u001b[0m\u001b[0;34m,\u001b[0m \u001b[0minputs\u001b[0m\u001b[0;34m)\u001b[0m\u001b[0;34m:\u001b[0m\u001b[0;34m\u001b[0m\u001b[0m\n",
      "\u001b[0;32m~/pyenv/tf_py3/lib/python3.6/site-packages/tensorflow/python/layers/base.py\u001b[0m in \u001b[0;36m__call__\u001b[0;34m(self, inputs, *args, **kwargs)\u001b[0m\n\u001b[1;32m    441\u001b[0m           \u001b[0minput_shapes\u001b[0m \u001b[0;34m=\u001b[0m \u001b[0;34m[\u001b[0m\u001b[0mx\u001b[0m\u001b[0;34m.\u001b[0m\u001b[0mget_shape\u001b[0m\u001b[0;34m(\u001b[0m\u001b[0;34m)\u001b[0m \u001b[0;32mfor\u001b[0m \u001b[0mx\u001b[0m \u001b[0;32min\u001b[0m \u001b[0minput_list\u001b[0m\u001b[0;34m]\u001b[0m\u001b[0;34m\u001b[0m\u001b[0m\n\u001b[1;32m    442\u001b[0m           \u001b[0;32mif\u001b[0m \u001b[0mlen\u001b[0m\u001b[0;34m(\u001b[0m\u001b[0minput_shapes\u001b[0m\u001b[0;34m)\u001b[0m \u001b[0;34m==\u001b[0m \u001b[0;36m1\u001b[0m\u001b[0;34m:\u001b[0m\u001b[0;34m\u001b[0m\u001b[0m\n\u001b[0;32m--> 443\u001b[0;31m             \u001b[0mself\u001b[0m\u001b[0;34m.\u001b[0m\u001b[0mbuild\u001b[0m\u001b[0;34m(\u001b[0m\u001b[0minput_shapes\u001b[0m\u001b[0;34m[\u001b[0m\u001b[0;36m0\u001b[0m\u001b[0;34m]\u001b[0m\u001b[0;34m)\u001b[0m\u001b[0;34m\u001b[0m\u001b[0m\n\u001b[0m\u001b[1;32m    444\u001b[0m           \u001b[0;32melse\u001b[0m\u001b[0;34m:\u001b[0m\u001b[0;34m\u001b[0m\u001b[0m\n\u001b[1;32m    445\u001b[0m             \u001b[0mself\u001b[0m\u001b[0;34m.\u001b[0m\u001b[0mbuild\u001b[0m\u001b[0;34m(\u001b[0m\u001b[0minput_shapes\u001b[0m\u001b[0;34m)\u001b[0m\u001b[0;34m\u001b[0m\u001b[0m\n",
      "\u001b[0;32m~/pyenv/tf_py3/lib/python3.6/site-packages/tensorflow/python/layers/convolutional.py\u001b[0m in \u001b[0;36mbuild\u001b[0;34m(self, input_shape)\u001b[0m\n\u001b[1;32m    135\u001b[0m                                     \u001b[0mregularizer\u001b[0m\u001b[0;34m=\u001b[0m\u001b[0mself\u001b[0m\u001b[0;34m.\u001b[0m\u001b[0mkernel_regularizer\u001b[0m\u001b[0;34m,\u001b[0m\u001b[0;34m\u001b[0m\u001b[0m\n\u001b[1;32m    136\u001b[0m                                     \u001b[0mtrainable\u001b[0m\u001b[0;34m=\u001b[0m\u001b[0;32mTrue\u001b[0m\u001b[0;34m,\u001b[0m\u001b[0;34m\u001b[0m\u001b[0m\n\u001b[0;32m--> 137\u001b[0;31m                                     dtype=self.dtype)\n\u001b[0m\u001b[1;32m    138\u001b[0m     \u001b[0;32mif\u001b[0m \u001b[0mself\u001b[0m\u001b[0;34m.\u001b[0m\u001b[0muse_bias\u001b[0m\u001b[0;34m:\u001b[0m\u001b[0;34m\u001b[0m\u001b[0m\n\u001b[1;32m    139\u001b[0m       self.bias = self.add_variable(name='bias',\n",
      "\u001b[0;32m~/pyenv/tf_py3/lib/python3.6/site-packages/tensorflow/python/layers/base.py\u001b[0m in \u001b[0;36madd_variable\u001b[0;34m(self, name, shape, dtype, initializer, regularizer, trainable)\u001b[0m\n\u001b[1;32m    381\u001b[0m                                    \u001b[0minitializer\u001b[0m\u001b[0;34m=\u001b[0m\u001b[0minitializer\u001b[0m\u001b[0;34m,\u001b[0m\u001b[0;34m\u001b[0m\u001b[0m\n\u001b[1;32m    382\u001b[0m                                    \u001b[0mdtype\u001b[0m\u001b[0;34m=\u001b[0m\u001b[0mdtypes\u001b[0m\u001b[0;34m.\u001b[0m\u001b[0mas_dtype\u001b[0m\u001b[0;34m(\u001b[0m\u001b[0mdtype\u001b[0m\u001b[0;34m)\u001b[0m\u001b[0;34m,\u001b[0m\u001b[0;34m\u001b[0m\u001b[0m\n\u001b[0;32m--> 383\u001b[0;31m                                    trainable=trainable and self.trainable)\n\u001b[0m\u001b[1;32m    384\u001b[0m         \u001b[0;32mif\u001b[0m \u001b[0mvariable\u001b[0m \u001b[0;32min\u001b[0m \u001b[0mexisting_variables\u001b[0m\u001b[0;34m:\u001b[0m\u001b[0;34m\u001b[0m\u001b[0m\n\u001b[1;32m    385\u001b[0m           \u001b[0;32mreturn\u001b[0m \u001b[0mvariable\u001b[0m\u001b[0;34m\u001b[0m\u001b[0m\n",
      "\u001b[0;32m~/pyenv/tf_py3/lib/python3.6/site-packages/tensorflow/python/ops/variable_scope.py\u001b[0m in \u001b[0;36mget_variable\u001b[0;34m(name, shape, dtype, initializer, regularizer, trainable, collections, caching_device, partitioner, validate_shape, use_resource, custom_getter)\u001b[0m\n\u001b[1;32m   1063\u001b[0m       \u001b[0mcollections\u001b[0m\u001b[0;34m=\u001b[0m\u001b[0mcollections\u001b[0m\u001b[0;34m,\u001b[0m \u001b[0mcaching_device\u001b[0m\u001b[0;34m=\u001b[0m\u001b[0mcaching_device\u001b[0m\u001b[0;34m,\u001b[0m\u001b[0;34m\u001b[0m\u001b[0m\n\u001b[1;32m   1064\u001b[0m       \u001b[0mpartitioner\u001b[0m\u001b[0;34m=\u001b[0m\u001b[0mpartitioner\u001b[0m\u001b[0;34m,\u001b[0m \u001b[0mvalidate_shape\u001b[0m\u001b[0;34m=\u001b[0m\u001b[0mvalidate_shape\u001b[0m\u001b[0;34m,\u001b[0m\u001b[0;34m\u001b[0m\u001b[0m\n\u001b[0;32m-> 1065\u001b[0;31m       use_resource=use_resource, custom_getter=custom_getter)\n\u001b[0m\u001b[1;32m   1066\u001b[0m get_variable_or_local_docstring = (\n\u001b[1;32m   1067\u001b[0m     \"\"\"%s\n",
      "\u001b[0;32m~/pyenv/tf_py3/lib/python3.6/site-packages/tensorflow/python/ops/variable_scope.py\u001b[0m in \u001b[0;36mget_variable\u001b[0;34m(self, var_store, name, shape, dtype, initializer, regularizer, reuse, trainable, collections, caching_device, partitioner, validate_shape, use_resource, custom_getter)\u001b[0m\n\u001b[1;32m    960\u001b[0m           \u001b[0mcollections\u001b[0m\u001b[0;34m=\u001b[0m\u001b[0mcollections\u001b[0m\u001b[0;34m,\u001b[0m \u001b[0mcaching_device\u001b[0m\u001b[0;34m=\u001b[0m\u001b[0mcaching_device\u001b[0m\u001b[0;34m,\u001b[0m\u001b[0;34m\u001b[0m\u001b[0m\n\u001b[1;32m    961\u001b[0m           \u001b[0mpartitioner\u001b[0m\u001b[0;34m=\u001b[0m\u001b[0mpartitioner\u001b[0m\u001b[0;34m,\u001b[0m \u001b[0mvalidate_shape\u001b[0m\u001b[0;34m=\u001b[0m\u001b[0mvalidate_shape\u001b[0m\u001b[0;34m,\u001b[0m\u001b[0;34m\u001b[0m\u001b[0m\n\u001b[0;32m--> 962\u001b[0;31m           use_resource=use_resource, custom_getter=custom_getter)\n\u001b[0m\u001b[1;32m    963\u001b[0m \u001b[0;34m\u001b[0m\u001b[0m\n\u001b[1;32m    964\u001b[0m   def _get_partitioned_variable(self,\n",
      "\u001b[0;32m~/pyenv/tf_py3/lib/python3.6/site-packages/tensorflow/python/ops/variable_scope.py\u001b[0m in \u001b[0;36mget_variable\u001b[0;34m(self, name, shape, dtype, initializer, regularizer, reuse, trainable, collections, caching_device, partitioner, validate_shape, use_resource, custom_getter)\u001b[0m\n\u001b[1;32m    358\u001b[0m           \u001b[0mreuse\u001b[0m\u001b[0;34m=\u001b[0m\u001b[0mreuse\u001b[0m\u001b[0;34m,\u001b[0m \u001b[0mtrainable\u001b[0m\u001b[0;34m=\u001b[0m\u001b[0mtrainable\u001b[0m\u001b[0;34m,\u001b[0m \u001b[0mcollections\u001b[0m\u001b[0;34m=\u001b[0m\u001b[0mcollections\u001b[0m\u001b[0;34m,\u001b[0m\u001b[0;34m\u001b[0m\u001b[0m\n\u001b[1;32m    359\u001b[0m           \u001b[0mcaching_device\u001b[0m\u001b[0;34m=\u001b[0m\u001b[0mcaching_device\u001b[0m\u001b[0;34m,\u001b[0m \u001b[0mpartitioner\u001b[0m\u001b[0;34m=\u001b[0m\u001b[0mpartitioner\u001b[0m\u001b[0;34m,\u001b[0m\u001b[0;34m\u001b[0m\u001b[0m\n\u001b[0;32m--> 360\u001b[0;31m           validate_shape=validate_shape, use_resource=use_resource)\n\u001b[0m\u001b[1;32m    361\u001b[0m     \u001b[0;32melse\u001b[0m\u001b[0;34m:\u001b[0m\u001b[0;34m\u001b[0m\u001b[0m\n\u001b[1;32m    362\u001b[0m       return _true_getter(\n",
      "\u001b[0;32m~/pyenv/tf_py3/lib/python3.6/site-packages/tensorflow/contrib/layers/python/layers/layers.py\u001b[0m in \u001b[0;36mlayer_variable_getter\u001b[0;34m(getter, *args, **kwargs)\u001b[0m\n\u001b[1;32m   1559\u001b[0m   \u001b[0;32mdef\u001b[0m \u001b[0mlayer_variable_getter\u001b[0m\u001b[0;34m(\u001b[0m\u001b[0mgetter\u001b[0m\u001b[0;34m,\u001b[0m \u001b[0;34m*\u001b[0m\u001b[0margs\u001b[0m\u001b[0;34m,\u001b[0m \u001b[0;34m**\u001b[0m\u001b[0mkwargs\u001b[0m\u001b[0;34m)\u001b[0m\u001b[0;34m:\u001b[0m\u001b[0;34m\u001b[0m\u001b[0m\n\u001b[1;32m   1560\u001b[0m     \u001b[0mkwargs\u001b[0m\u001b[0;34m[\u001b[0m\u001b[0;34m'rename'\u001b[0m\u001b[0;34m]\u001b[0m \u001b[0;34m=\u001b[0m \u001b[0mrename\u001b[0m\u001b[0;34m\u001b[0m\u001b[0m\n\u001b[0;32m-> 1561\u001b[0;31m     \u001b[0;32mreturn\u001b[0m \u001b[0m_model_variable_getter\u001b[0m\u001b[0;34m(\u001b[0m\u001b[0mgetter\u001b[0m\u001b[0;34m,\u001b[0m \u001b[0;34m*\u001b[0m\u001b[0margs\u001b[0m\u001b[0;34m,\u001b[0m \u001b[0;34m**\u001b[0m\u001b[0mkwargs\u001b[0m\u001b[0;34m)\u001b[0m\u001b[0;34m\u001b[0m\u001b[0m\n\u001b[0m\u001b[1;32m   1562\u001b[0m   \u001b[0;32mreturn\u001b[0m \u001b[0mlayer_variable_getter\u001b[0m\u001b[0;34m\u001b[0m\u001b[0m\n\u001b[1;32m   1563\u001b[0m \u001b[0;34m\u001b[0m\u001b[0m\n",
      "\u001b[0;32m~/pyenv/tf_py3/lib/python3.6/site-packages/tensorflow/contrib/layers/python/layers/layers.py\u001b[0m in \u001b[0;36m_model_variable_getter\u001b[0;34m(getter, name, shape, dtype, initializer, regularizer, trainable, collections, caching_device, partitioner, rename, use_resource, **_)\u001b[0m\n\u001b[1;32m   1551\u001b[0m       \u001b[0mregularizer\u001b[0m\u001b[0;34m=\u001b[0m\u001b[0mregularizer\u001b[0m\u001b[0;34m,\u001b[0m \u001b[0mcollections\u001b[0m\u001b[0;34m=\u001b[0m\u001b[0mcollections\u001b[0m\u001b[0;34m,\u001b[0m \u001b[0mtrainable\u001b[0m\u001b[0;34m=\u001b[0m\u001b[0mtrainable\u001b[0m\u001b[0;34m,\u001b[0m\u001b[0;34m\u001b[0m\u001b[0m\n\u001b[1;32m   1552\u001b[0m       \u001b[0mcaching_device\u001b[0m\u001b[0;34m=\u001b[0m\u001b[0mcaching_device\u001b[0m\u001b[0;34m,\u001b[0m \u001b[0mpartitioner\u001b[0m\u001b[0;34m=\u001b[0m\u001b[0mpartitioner\u001b[0m\u001b[0;34m,\u001b[0m\u001b[0;34m\u001b[0m\u001b[0m\n\u001b[0;32m-> 1553\u001b[0;31m       custom_getter=getter, use_resource=use_resource)\n\u001b[0m\u001b[1;32m   1554\u001b[0m \u001b[0;34m\u001b[0m\u001b[0m\n\u001b[1;32m   1555\u001b[0m \u001b[0;34m\u001b[0m\u001b[0m\n",
      "\u001b[0;32m~/pyenv/tf_py3/lib/python3.6/site-packages/tensorflow/contrib/framework/python/ops/arg_scope.py\u001b[0m in \u001b[0;36mfunc_with_args\u001b[0;34m(*args, **kwargs)\u001b[0m\n\u001b[1;32m    179\u001b[0m       \u001b[0mcurrent_args\u001b[0m \u001b[0;34m=\u001b[0m \u001b[0mcurrent_scope\u001b[0m\u001b[0;34m[\u001b[0m\u001b[0mkey_func\u001b[0m\u001b[0;34m]\u001b[0m\u001b[0;34m.\u001b[0m\u001b[0mcopy\u001b[0m\u001b[0;34m(\u001b[0m\u001b[0;34m)\u001b[0m\u001b[0;34m\u001b[0m\u001b[0m\n\u001b[1;32m    180\u001b[0m       \u001b[0mcurrent_args\u001b[0m\u001b[0;34m.\u001b[0m\u001b[0mupdate\u001b[0m\u001b[0;34m(\u001b[0m\u001b[0mkwargs\u001b[0m\u001b[0;34m)\u001b[0m\u001b[0;34m\u001b[0m\u001b[0m\n\u001b[0;32m--> 181\u001b[0;31m     \u001b[0;32mreturn\u001b[0m \u001b[0mfunc\u001b[0m\u001b[0;34m(\u001b[0m\u001b[0;34m*\u001b[0m\u001b[0margs\u001b[0m\u001b[0;34m,\u001b[0m \u001b[0;34m**\u001b[0m\u001b[0mcurrent_args\u001b[0m\u001b[0;34m)\u001b[0m\u001b[0;34m\u001b[0m\u001b[0m\n\u001b[0m\u001b[1;32m    182\u001b[0m   \u001b[0m_add_op\u001b[0m\u001b[0;34m(\u001b[0m\u001b[0mfunc\u001b[0m\u001b[0;34m)\u001b[0m\u001b[0;34m\u001b[0m\u001b[0m\n\u001b[1;32m    183\u001b[0m   \u001b[0msetattr\u001b[0m\u001b[0;34m(\u001b[0m\u001b[0mfunc_with_args\u001b[0m\u001b[0;34m,\u001b[0m \u001b[0;34m'_key_op'\u001b[0m\u001b[0;34m,\u001b[0m \u001b[0m_key_op\u001b[0m\u001b[0;34m(\u001b[0m\u001b[0mfunc\u001b[0m\u001b[0;34m)\u001b[0m\u001b[0;34m)\u001b[0m\u001b[0;34m\u001b[0m\u001b[0m\n",
      "\u001b[0;32m~/pyenv/tf_py3/lib/python3.6/site-packages/tensorflow/contrib/framework/python/ops/variables.py\u001b[0m in \u001b[0;36mmodel_variable\u001b[0;34m(name, shape, dtype, initializer, regularizer, trainable, collections, caching_device, device, partitioner, custom_getter, use_resource)\u001b[0m\n\u001b[1;32m    259\u001b[0m                  \u001b[0mcaching_device\u001b[0m\u001b[0;34m=\u001b[0m\u001b[0mcaching_device\u001b[0m\u001b[0;34m,\u001b[0m \u001b[0mdevice\u001b[0m\u001b[0;34m=\u001b[0m\u001b[0mdevice\u001b[0m\u001b[0;34m,\u001b[0m\u001b[0;34m\u001b[0m\u001b[0m\n\u001b[1;32m    260\u001b[0m                  \u001b[0mpartitioner\u001b[0m\u001b[0;34m=\u001b[0m\u001b[0mpartitioner\u001b[0m\u001b[0;34m,\u001b[0m \u001b[0mcustom_getter\u001b[0m\u001b[0;34m=\u001b[0m\u001b[0mcustom_getter\u001b[0m\u001b[0;34m,\u001b[0m\u001b[0;34m\u001b[0m\u001b[0m\n\u001b[0;32m--> 261\u001b[0;31m                  use_resource=use_resource)\n\u001b[0m\u001b[1;32m    262\u001b[0m   \u001b[0;32mreturn\u001b[0m \u001b[0mvar\u001b[0m\u001b[0;34m\u001b[0m\u001b[0m\n\u001b[1;32m    263\u001b[0m \u001b[0;34m\u001b[0m\u001b[0m\n",
      "\u001b[0;32m~/pyenv/tf_py3/lib/python3.6/site-packages/tensorflow/contrib/framework/python/ops/arg_scope.py\u001b[0m in \u001b[0;36mfunc_with_args\u001b[0;34m(*args, **kwargs)\u001b[0m\n\u001b[1;32m    179\u001b[0m       \u001b[0mcurrent_args\u001b[0m \u001b[0;34m=\u001b[0m \u001b[0mcurrent_scope\u001b[0m\u001b[0;34m[\u001b[0m\u001b[0mkey_func\u001b[0m\u001b[0;34m]\u001b[0m\u001b[0;34m.\u001b[0m\u001b[0mcopy\u001b[0m\u001b[0;34m(\u001b[0m\u001b[0;34m)\u001b[0m\u001b[0;34m\u001b[0m\u001b[0m\n\u001b[1;32m    180\u001b[0m       \u001b[0mcurrent_args\u001b[0m\u001b[0;34m.\u001b[0m\u001b[0mupdate\u001b[0m\u001b[0;34m(\u001b[0m\u001b[0mkwargs\u001b[0m\u001b[0;34m)\u001b[0m\u001b[0;34m\u001b[0m\u001b[0m\n\u001b[0;32m--> 181\u001b[0;31m     \u001b[0;32mreturn\u001b[0m \u001b[0mfunc\u001b[0m\u001b[0;34m(\u001b[0m\u001b[0;34m*\u001b[0m\u001b[0margs\u001b[0m\u001b[0;34m,\u001b[0m \u001b[0;34m**\u001b[0m\u001b[0mcurrent_args\u001b[0m\u001b[0;34m)\u001b[0m\u001b[0;34m\u001b[0m\u001b[0m\n\u001b[0m\u001b[1;32m    182\u001b[0m   \u001b[0m_add_op\u001b[0m\u001b[0;34m(\u001b[0m\u001b[0mfunc\u001b[0m\u001b[0;34m)\u001b[0m\u001b[0;34m\u001b[0m\u001b[0m\n\u001b[1;32m    183\u001b[0m   \u001b[0msetattr\u001b[0m\u001b[0;34m(\u001b[0m\u001b[0mfunc_with_args\u001b[0m\u001b[0;34m,\u001b[0m \u001b[0;34m'_key_op'\u001b[0m\u001b[0;34m,\u001b[0m \u001b[0m_key_op\u001b[0m\u001b[0;34m(\u001b[0m\u001b[0mfunc\u001b[0m\u001b[0;34m)\u001b[0m\u001b[0;34m)\u001b[0m\u001b[0;34m\u001b[0m\u001b[0m\n",
      "\u001b[0;32m~/pyenv/tf_py3/lib/python3.6/site-packages/tensorflow/contrib/framework/python/ops/variables.py\u001b[0m in \u001b[0;36mvariable\u001b[0;34m(name, shape, dtype, initializer, regularizer, trainable, collections, caching_device, device, partitioner, custom_getter, use_resource)\u001b[0m\n\u001b[1;32m    214\u001b[0m                   \u001b[0mcaching_device\u001b[0m\u001b[0;34m=\u001b[0m\u001b[0mcaching_device\u001b[0m\u001b[0;34m,\u001b[0m\u001b[0;34m\u001b[0m\u001b[0m\n\u001b[1;32m    215\u001b[0m                   \u001b[0mpartitioner\u001b[0m\u001b[0;34m=\u001b[0m\u001b[0mpartitioner\u001b[0m\u001b[0;34m,\u001b[0m\u001b[0;34m\u001b[0m\u001b[0m\n\u001b[0;32m--> 216\u001b[0;31m                   use_resource=use_resource)\n\u001b[0m\u001b[1;32m    217\u001b[0m \u001b[0;34m\u001b[0m\u001b[0m\n\u001b[1;32m    218\u001b[0m \u001b[0;34m\u001b[0m\u001b[0m\n",
      "\u001b[0;32m~/pyenv/tf_py3/lib/python3.6/site-packages/tensorflow/python/ops/variable_scope.py\u001b[0m in \u001b[0;36m_true_getter\u001b[0;34m(name, shape, dtype, initializer, regularizer, reuse, trainable, collections, caching_device, partitioner, validate_shape, use_resource)\u001b[0m\n\u001b[1;32m    350\u001b[0m           \u001b[0mtrainable\u001b[0m\u001b[0;34m=\u001b[0m\u001b[0mtrainable\u001b[0m\u001b[0;34m,\u001b[0m \u001b[0mcollections\u001b[0m\u001b[0;34m=\u001b[0m\u001b[0mcollections\u001b[0m\u001b[0;34m,\u001b[0m\u001b[0;34m\u001b[0m\u001b[0m\n\u001b[1;32m    351\u001b[0m           \u001b[0mcaching_device\u001b[0m\u001b[0;34m=\u001b[0m\u001b[0mcaching_device\u001b[0m\u001b[0;34m,\u001b[0m \u001b[0mvalidate_shape\u001b[0m\u001b[0;34m=\u001b[0m\u001b[0mvalidate_shape\u001b[0m\u001b[0;34m,\u001b[0m\u001b[0;34m\u001b[0m\u001b[0m\n\u001b[0;32m--> 352\u001b[0;31m           use_resource=use_resource)\n\u001b[0m\u001b[1;32m    353\u001b[0m \u001b[0;34m\u001b[0m\u001b[0m\n\u001b[1;32m    354\u001b[0m     \u001b[0;32mif\u001b[0m \u001b[0mcustom_getter\u001b[0m \u001b[0;32mis\u001b[0m \u001b[0;32mnot\u001b[0m \u001b[0;32mNone\u001b[0m\u001b[0;34m:\u001b[0m\u001b[0;34m\u001b[0m\u001b[0m\n",
      "\u001b[0;32m~/pyenv/tf_py3/lib/python3.6/site-packages/tensorflow/python/ops/variable_scope.py\u001b[0m in \u001b[0;36m_get_single_variable\u001b[0;34m(self, name, shape, dtype, initializer, regularizer, partition_info, reuse, trainable, collections, caching_device, validate_shape, use_resource)\u001b[0m\n\u001b[1;32m    662\u001b[0m                          \u001b[0;34m\" Did you mean to set reuse=True in VarScope? \"\u001b[0m\u001b[0;34m\u001b[0m\u001b[0m\n\u001b[1;32m    663\u001b[0m                          \"Originally defined at:\\n\\n%s\" % (\n\u001b[0;32m--> 664\u001b[0;31m                              name, \"\".join(traceback.format_list(tb))))\n\u001b[0m\u001b[1;32m    665\u001b[0m       \u001b[0mfound_var\u001b[0m \u001b[0;34m=\u001b[0m \u001b[0mself\u001b[0m\u001b[0;34m.\u001b[0m\u001b[0m_vars\u001b[0m\u001b[0;34m[\u001b[0m\u001b[0mname\u001b[0m\u001b[0;34m]\u001b[0m\u001b[0;34m\u001b[0m\u001b[0m\n\u001b[1;32m    666\u001b[0m       \u001b[0;32mif\u001b[0m \u001b[0;32mnot\u001b[0m \u001b[0mshape\u001b[0m\u001b[0;34m.\u001b[0m\u001b[0mis_compatible_with\u001b[0m\u001b[0;34m(\u001b[0m\u001b[0mfound_var\u001b[0m\u001b[0;34m.\u001b[0m\u001b[0mget_shape\u001b[0m\u001b[0;34m(\u001b[0m\u001b[0;34m)\u001b[0m\u001b[0;34m)\u001b[0m\u001b[0;34m:\u001b[0m\u001b[0;34m\u001b[0m\u001b[0m\n",
      "\u001b[0;31mValueError\u001b[0m: Variable vgg_16/conv1/conv1_1/weights already exists, disallowed. Did you mean to set reuse=True in VarScope? Originally defined at:\n\n  File \"/Users/junr/pyenv/tf_py3/lib/python3.6/site-packages/tensorflow/contrib/framework/python/ops/variables.py\", line 216, in variable\n    use_resource=use_resource)\n  File \"/Users/junr/pyenv/tf_py3/lib/python3.6/site-packages/tensorflow/contrib/framework/python/ops/arg_scope.py\", line 181, in func_with_args\n    return func(*args, **current_args)\n  File \"/Users/junr/pyenv/tf_py3/lib/python3.6/site-packages/tensorflow/contrib/framework/python/ops/variables.py\", line 261, in model_variable\n    use_resource=use_resource)\n"
     ]
    }
   ],
   "source": [
    "a = test_lb_vgg(config)"
   ]
  },
  {
   "cell_type": "code",
   "execution_count": 1,
   "metadata": {},
   "outputs": [
    {
     "name": "stdout",
     "output_type": "stream",
     "text": [
      "INFO:tensorflow:Restoring parameters from /Users/junr/Documents/prp/pic_data/model/6-10/max.ckpt\n"
     ]
    },
    {
     "data": {
      "text/plain": [
       "[[[array([[[-2.28044844,  0.49457717, -1.9583627 ],\n",
       "           [-5.48278618, -1.74174953, -5.09784126],\n",
       "           [-6.31425667, -2.77920866, -5.79542685],\n",
       "           ..., \n",
       "           [-6.31425667, -2.77920866, -5.79542685],\n",
       "           [-5.46829748, -1.76422811, -4.95740986],\n",
       "           [-4.30620766, -1.82883024, -3.61231971]],\n",
       "   \n",
       "          [[ 0.20059264,  4.36650085, -0.24547505],\n",
       "           [-2.58756208,  3.0385077 , -3.45700693],\n",
       "           [-3.64870238,  1.67860866, -4.39372253],\n",
       "           ..., \n",
       "           [-3.64870238,  1.67860866, -4.39372253],\n",
       "           [-2.31245565,  3.29749918, -3.03393006],\n",
       "           [-2.57740641,  1.1649667 , -2.48324513]],\n",
       "   \n",
       "          [[ 1.52714419,  5.69832039,  0.62802637],\n",
       "           [-0.68558073,  4.94700241, -2.27060366],\n",
       "           [-1.85801291,  3.4586494 , -3.34421706],\n",
       "           ..., \n",
       "           [-1.85801291,  3.4586494 , -3.34421706],\n",
       "           [-0.52453709,  5.09367609, -1.91807961],\n",
       "           [-1.65465999,  2.05710411, -1.91462374]],\n",
       "   \n",
       "          ..., \n",
       "          [[ 1.52714419,  5.69832039,  0.62802637],\n",
       "           [-0.68558073,  4.94700241, -2.27060366],\n",
       "           [-1.85801291,  3.4586494 , -3.34421706],\n",
       "           ..., \n",
       "           [-1.85801291,  3.4586494 , -3.34421706],\n",
       "           [-0.52453709,  5.09367609, -1.91807961],\n",
       "           [-1.65465999,  2.05710411, -1.91462374]],\n",
       "   \n",
       "          [[ 1.78585649,  5.97109222,  1.00246167],\n",
       "           [ 0.22617602,  5.91436672, -1.24965966],\n",
       "           [-0.86797071,  4.49914694, -2.23730707],\n",
       "           ..., \n",
       "           [-0.86797071,  4.49914694, -2.23730707],\n",
       "           [ 0.35217339,  6.05464506, -0.97702229],\n",
       "           [-0.94428313,  2.85663223, -1.20831323]],\n",
       "   \n",
       "          [[ 3.98033881,  7.057652  ,  3.14730716],\n",
       "           [ 4.38331318,  8.61648941,  2.90633965],\n",
       "           [ 3.71419668,  7.73366451,  2.28064108],\n",
       "           ..., \n",
       "           [ 3.71419668,  7.73366451,  2.28064108],\n",
       "           [ 4.5531497 ,  8.81365967,  3.1586175 ],\n",
       "           [ 2.47189689,  5.3288784 ,  1.95598435]]], dtype=float32),\n",
       "   array([[[-2.28044844,  0.49457717, -1.9583627 ],\n",
       "           [-5.48278618, -1.74174953, -5.09784126],\n",
       "           [-6.31425667, -2.77920866, -5.79542685],\n",
       "           ..., \n",
       "           [-4.46262503, -0.77540874, -4.44567013],\n",
       "           [ 0.53354204,  4.66960716, -0.2232182 ],\n",
       "           [ 0.05982906,  2.70758986, -0.11790776]],\n",
       "   \n",
       "          [[ 0.20059264,  4.36650085, -0.24547505],\n",
       "           [-2.58756208,  3.0385077 , -3.45700693],\n",
       "           [-3.64870238,  1.67860866, -4.39372253],\n",
       "           ..., \n",
       "           [-3.96618843,  1.44007564, -5.09960365],\n",
       "           [ 2.58172822,  8.68701744,  0.38904852],\n",
       "           [ 2.11890531,  6.11169147,  1.09202051]],\n",
       "   \n",
       "          [[ 1.52714419,  5.69832039,  0.62802637],\n",
       "           [-0.68558073,  4.94700241, -2.27060366],\n",
       "           [-1.85801291,  3.4586494 , -3.34421706],\n",
       "           ..., \n",
       "           [-4.89764023,  0.27231157, -6.13741446],\n",
       "           [-1.26876545,  4.4334197 , -2.88815641],\n",
       "           [-1.25157928,  2.49246454, -1.77998865]],\n",
       "   \n",
       "          ..., \n",
       "          [[ 1.52714419,  5.69832039,  0.62802637],\n",
       "           [-0.68558073,  4.94700241, -2.27060366],\n",
       "           [-1.85801291,  3.4586494 , -3.34421706],\n",
       "           ..., \n",
       "           [-1.85801291,  3.4586494 , -3.34421706],\n",
       "           [-0.52453709,  5.09367609, -1.91807961],\n",
       "           [-1.65465999,  2.05710411, -1.91462374]],\n",
       "   \n",
       "          [[ 1.78585649,  5.97109222,  1.00246167],\n",
       "           [ 0.22617602,  5.91436672, -1.24965966],\n",
       "           [-0.86797071,  4.49914694, -2.23730707],\n",
       "           ..., \n",
       "           [-0.86797071,  4.49914694, -2.23730707],\n",
       "           [ 0.35217339,  6.05464506, -0.97702229],\n",
       "           [-0.94428313,  2.85663223, -1.20831323]],\n",
       "   \n",
       "          [[ 3.98033881,  7.057652  ,  3.14730716],\n",
       "           [ 4.38331318,  8.61648941,  2.90633965],\n",
       "           [ 3.71419668,  7.73366451,  2.28064108],\n",
       "           ..., \n",
       "           [ 3.71419668,  7.73366451,  2.28064108],\n",
       "           [ 4.5531497 ,  8.81365967,  3.1586175 ],\n",
       "           [ 2.47189689,  5.3288784 ,  1.95598435]]], dtype=float32),\n",
       "   array([[[-2.28044844,  0.49457717, -1.9583627 ],\n",
       "           [-5.48278618, -1.74174953, -5.09784126],\n",
       "           [-6.31425667, -2.77920866, -5.79542685],\n",
       "           ..., \n",
       "           [-6.31425667, -2.77920866, -5.79542685],\n",
       "           [-5.46829748, -1.76422811, -4.95740986],\n",
       "           [-4.30620766, -1.82883024, -3.61231971]],\n",
       "   \n",
       "          [[ 0.20059264,  4.36650085, -0.24547505],\n",
       "           [-2.58756208,  3.0385077 , -3.45700693],\n",
       "           [-3.64870238,  1.67860866, -4.39372253],\n",
       "           ..., \n",
       "           [-3.64870238,  1.67860866, -4.39372253],\n",
       "           [-2.31245565,  3.29749918, -3.03393006],\n",
       "           [-2.57740641,  1.1649667 , -2.48324513]],\n",
       "   \n",
       "          [[ 1.52714419,  5.69832039,  0.62802637],\n",
       "           [-0.68558073,  4.94700241, -2.27060366],\n",
       "           [-1.85801291,  3.4586494 , -3.34421706],\n",
       "           ..., \n",
       "           [-1.85801291,  3.4586494 , -3.34421706],\n",
       "           [-0.52453709,  5.09367609, -1.91807961],\n",
       "           [-1.65465999,  2.05710411, -1.91462374]],\n",
       "   \n",
       "          ..., \n",
       "          [[ 1.52714419,  5.69832039,  0.62802637],\n",
       "           [-0.68558073,  4.94700241, -2.27060366],\n",
       "           [-1.85801291,  3.4586494 , -3.34421706],\n",
       "           ..., \n",
       "           [-1.85801291,  3.4586494 , -3.34421706],\n",
       "           [-0.52453709,  5.09367609, -1.91807961],\n",
       "           [-1.65465999,  2.05710411, -1.91462374]],\n",
       "   \n",
       "          [[ 1.78585649,  5.97109222,  1.00246167],\n",
       "           [ 0.22617602,  5.91436672, -1.24965966],\n",
       "           [-0.86797071,  4.49914694, -2.23730707],\n",
       "           ..., \n",
       "           [-0.86797071,  4.49914694, -2.23730707],\n",
       "           [ 0.35217339,  6.05464506, -0.97702229],\n",
       "           [-0.94428313,  2.85663223, -1.20831323]],\n",
       "   \n",
       "          [[ 3.98033881,  7.057652  ,  3.14730716],\n",
       "           [ 4.38331318,  8.61648941,  2.90633965],\n",
       "           [ 3.71419668,  7.73366451,  2.28064108],\n",
       "           ..., \n",
       "           [ 3.71419668,  7.73366451,  2.28064108],\n",
       "           [ 4.5531497 ,  8.81365967,  3.1586175 ],\n",
       "           [ 2.47189689,  5.3288784 ,  1.95598435]]], dtype=float32),\n",
       "   array([[[-2.28044844,  0.49457717, -1.9583627 ],\n",
       "           [-5.48278618, -1.74174953, -5.09784126],\n",
       "           [-6.31425667, -2.77920866, -5.79542685],\n",
       "           ..., \n",
       "           [-6.31425667, -2.77920866, -5.79542685],\n",
       "           [-5.46829748, -1.76422811, -4.95740986],\n",
       "           [-4.30620766, -1.82883024, -3.61231971]],\n",
       "   \n",
       "          [[ 0.20059264,  4.36650085, -0.24547505],\n",
       "           [-2.58756208,  3.0385077 , -3.45700693],\n",
       "           [-3.64870238,  1.67860866, -4.39372253],\n",
       "           ..., \n",
       "           [-3.64870238,  1.67860866, -4.39372253],\n",
       "           [-2.31245565,  3.29749918, -3.03393006],\n",
       "           [-2.57740641,  1.1649667 , -2.48324513]],\n",
       "   \n",
       "          [[ 1.52714419,  5.69832039,  0.62802637],\n",
       "           [-0.68558073,  4.94700241, -2.27060366],\n",
       "           [-1.85801291,  3.4586494 , -3.34421706],\n",
       "           ..., \n",
       "           [-1.85801291,  3.4586494 , -3.34421706],\n",
       "           [-0.52453709,  5.09367609, -1.91807961],\n",
       "           [-1.65465999,  2.05710411, -1.91462374]],\n",
       "   \n",
       "          ..., \n",
       "          [[ 1.52714419,  5.69832039,  0.62802637],\n",
       "           [-0.68558073,  4.94700241, -2.27060366],\n",
       "           [-1.85801291,  3.4586494 , -3.34421706],\n",
       "           ..., \n",
       "           [-1.85801291,  3.4586494 , -3.34421706],\n",
       "           [-0.52453709,  5.09367609, -1.91807961],\n",
       "           [-1.65465999,  2.05710411, -1.91462374]],\n",
       "   \n",
       "          [[ 1.78585649,  5.97109222,  1.00246167],\n",
       "           [ 0.22617602,  5.91436672, -1.24965966],\n",
       "           [-0.86797071,  4.49914694, -2.23730707],\n",
       "           ..., \n",
       "           [-0.86797071,  4.49914694, -2.23730707],\n",
       "           [ 0.35217339,  6.05464506, -0.97702229],\n",
       "           [-0.94428313,  2.85663223, -1.20831323]],\n",
       "   \n",
       "          [[ 3.98033881,  7.057652  ,  3.14730716],\n",
       "           [ 4.38331318,  8.61648941,  2.90633965],\n",
       "           [ 3.71419668,  7.73366451,  2.28064108],\n",
       "           ..., \n",
       "           [ 3.71419668,  7.73366451,  2.28064108],\n",
       "           [ 4.5531497 ,  8.81365967,  3.1586175 ],\n",
       "           [ 2.47189689,  5.3288784 ,  1.95598435]]], dtype=float32),\n",
       "   array([[[-2.28044844,  0.49457717, -1.9583627 ],\n",
       "           [-5.48278618, -1.74174953, -5.09784126],\n",
       "           [-6.31425667, -2.77920866, -5.79542685],\n",
       "           ..., \n",
       "           [-6.31425667, -2.77920866, -5.79542685],\n",
       "           [-5.46829748, -1.76422811, -4.95740986],\n",
       "           [-4.30620766, -1.82883024, -3.61231971]],\n",
       "   \n",
       "          [[ 0.20059264,  4.36650085, -0.24547505],\n",
       "           [-2.58756208,  3.0385077 , -3.45700693],\n",
       "           [-3.64870238,  1.67860866, -4.39372253],\n",
       "           ..., \n",
       "           [-3.64870238,  1.67860866, -4.39372253],\n",
       "           [-2.31245565,  3.29749918, -3.03393006],\n",
       "           [-2.57740641,  1.1649667 , -2.48324513]],\n",
       "   \n",
       "          [[ 1.52714419,  5.69832039,  0.62802637],\n",
       "           [-0.68558073,  4.94700241, -2.27060366],\n",
       "           [-1.85801291,  3.4586494 , -3.34421706],\n",
       "           ..., \n",
       "           [-1.85801291,  3.4586494 , -3.34421706],\n",
       "           [-0.52453709,  5.09367609, -1.91807961],\n",
       "           [-1.65465999,  2.05710411, -1.91462374]],\n",
       "   \n",
       "          ..., \n",
       "          [[ 1.52714419,  5.69832039,  0.62802637],\n",
       "           [-0.68558073,  4.94700241, -2.27060366],\n",
       "           [-1.85801291,  3.4586494 , -3.34421706],\n",
       "           ..., \n",
       "           [-1.85801291,  3.4586494 , -3.34421706],\n",
       "           [-0.52453709,  5.09367609, -1.91807961],\n",
       "           [-1.65465999,  2.05710411, -1.91462374]],\n",
       "   \n",
       "          [[ 1.78585649,  5.97109222,  1.00246167],\n",
       "           [ 0.22617602,  5.91436672, -1.24965966],\n",
       "           [-0.86797071,  4.49914694, -2.23730707],\n",
       "           ..., \n",
       "           [-0.86797071,  4.49914694, -2.23730707],\n",
       "           [ 0.35217339,  6.05464506, -0.97702229],\n",
       "           [-0.94428313,  2.85663223, -1.20831323]],\n",
       "   \n",
       "          [[ 3.98033881,  7.057652  ,  3.14730716],\n",
       "           [ 4.38331318,  8.61648941,  2.90633965],\n",
       "           [ 3.71419668,  7.73366451,  2.28064108],\n",
       "           ..., \n",
       "           [ 3.71419668,  7.73366451,  2.28064108],\n",
       "           [ 4.5531497 ,  8.81365967,  3.1586175 ],\n",
       "           [ 2.47189689,  5.3288784 ,  1.95598435]]], dtype=float32)],\n",
       "  array([[[ 1.,  1.,  1.],\n",
       "          [ 1.,  1.,  1.],\n",
       "          [ 1.,  1.,  1.],\n",
       "          ..., \n",
       "          [ 1.,  1.,  1.],\n",
       "          [ 1.,  1.,  1.],\n",
       "          [ 1.,  1.,  1.]],\n",
       "  \n",
       "         [[ 1.,  1.,  1.],\n",
       "          [ 1.,  1.,  1.],\n",
       "          [ 1.,  1.,  1.],\n",
       "          ..., \n",
       "          [ 1.,  1.,  1.],\n",
       "          [ 1.,  1.,  1.],\n",
       "          [ 1.,  1.,  1.]],\n",
       "  \n",
       "         [[ 1.,  1.,  1.],\n",
       "          [ 1.,  1.,  1.],\n",
       "          [ 1.,  1.,  1.],\n",
       "          ..., \n",
       "          [ 1.,  1.,  1.],\n",
       "          [ 1.,  1.,  1.],\n",
       "          [ 1.,  1.,  1.]],\n",
       "  \n",
       "         ..., \n",
       "         [[ 1.,  1.,  1.],\n",
       "          [ 1.,  1.,  1.],\n",
       "          [ 1.,  1.,  1.],\n",
       "          ..., \n",
       "          [ 1.,  1.,  1.],\n",
       "          [ 1.,  1.,  1.],\n",
       "          [ 1.,  1.,  1.]],\n",
       "  \n",
       "         [[ 1.,  1.,  1.],\n",
       "          [ 1.,  1.,  1.],\n",
       "          [ 1.,  1.,  1.],\n",
       "          ..., \n",
       "          [ 1.,  1.,  1.],\n",
       "          [ 1.,  1.,  1.],\n",
       "          [ 1.,  1.,  1.]],\n",
       "  \n",
       "         [[ 1.,  1.,  1.],\n",
       "          [ 1.,  1.,  1.],\n",
       "          [ 1.,  1.,  1.],\n",
       "          ..., \n",
       "          [ 1.,  1.,  1.],\n",
       "          [ 1.,  1.,  1.],\n",
       "          [ 1.,  1.,  1.]]])],\n",
       " [[array([[[-2.28044844,  0.49457717, -1.9583627 ],\n",
       "           [-5.48278618, -1.74174953, -5.09784126],\n",
       "           [-6.31425667, -2.77920866, -5.79542685],\n",
       "           ..., \n",
       "           [-6.31425667, -2.77920866, -5.79542685],\n",
       "           [-5.46829748, -1.76422811, -4.95740986],\n",
       "           [-4.30620766, -1.82883024, -3.61231971]],\n",
       "   \n",
       "          [[ 0.20059264,  4.36650085, -0.24547505],\n",
       "           [-2.58756208,  3.0385077 , -3.45700693],\n",
       "           [-3.64870238,  1.67860866, -4.39372253],\n",
       "           ..., \n",
       "           [-3.64870238,  1.67860866, -4.39372253],\n",
       "           [-2.31245565,  3.29749918, -3.03393006],\n",
       "           [-2.57740641,  1.1649667 , -2.48324513]],\n",
       "   \n",
       "          [[ 1.52714419,  5.69832039,  0.62802637],\n",
       "           [-0.68558073,  4.94700241, -2.27060366],\n",
       "           [-1.85801291,  3.4586494 , -3.34421706],\n",
       "           ..., \n",
       "           [-1.85801291,  3.4586494 , -3.34421706],\n",
       "           [-0.52453709,  5.09367609, -1.91807961],\n",
       "           [-1.65465999,  2.05710411, -1.91462374]],\n",
       "   \n",
       "          ..., \n",
       "          [[ 1.52714419,  5.69832039,  0.62802637],\n",
       "           [-0.68558073,  4.94700241, -2.27060366],\n",
       "           [-1.85801291,  3.4586494 , -3.34421706],\n",
       "           ..., \n",
       "           [-1.85801291,  3.4586494 , -3.34421706],\n",
       "           [-0.52453709,  5.09367609, -1.91807961],\n",
       "           [-1.65465999,  2.05710411, -1.91462374]],\n",
       "   \n",
       "          [[ 1.78585649,  5.97109222,  1.00246167],\n",
       "           [ 0.22617602,  5.91436672, -1.24965966],\n",
       "           [-0.86797071,  4.49914694, -2.23730707],\n",
       "           ..., \n",
       "           [-0.86797071,  4.49914694, -2.23730707],\n",
       "           [ 0.35217339,  6.05464506, -0.97702229],\n",
       "           [-0.94428313,  2.85663223, -1.20831323]],\n",
       "   \n",
       "          [[ 3.98033881,  7.057652  ,  3.14730716],\n",
       "           [ 4.38331318,  8.61648941,  2.90633965],\n",
       "           [ 3.71419668,  7.73366451,  2.28064108],\n",
       "           ..., \n",
       "           [ 3.71419668,  7.73366451,  2.28064108],\n",
       "           [ 4.5531497 ,  8.81365967,  3.1586175 ],\n",
       "           [ 2.47189689,  5.3288784 ,  1.95598435]]], dtype=float32),\n",
       "   array([[[-2.28044844,  0.49457717, -1.9583627 ],\n",
       "           [-5.48278618, -1.74174953, -5.09784126],\n",
       "           [-6.31425667, -2.77920866, -5.79542685],\n",
       "           ..., \n",
       "           [-4.46262503, -0.77540874, -4.44567013],\n",
       "           [ 0.53354204,  4.66960716, -0.2232182 ],\n",
       "           [ 0.05982906,  2.70758986, -0.11790776]],\n",
       "   \n",
       "          [[ 0.20059264,  4.36650085, -0.24547505],\n",
       "           [-2.58756208,  3.0385077 , -3.45700693],\n",
       "           [-3.64870238,  1.67860866, -4.39372253],\n",
       "           ..., \n",
       "           [-3.96618843,  1.44007564, -5.09960365],\n",
       "           [ 2.58172822,  8.68701744,  0.38904852],\n",
       "           [ 2.11890531,  6.11169147,  1.09202051]],\n",
       "   \n",
       "          [[ 1.52714419,  5.69832039,  0.62802637],\n",
       "           [-0.68558073,  4.94700241, -2.27060366],\n",
       "           [-1.85801291,  3.4586494 , -3.34421706],\n",
       "           ..., \n",
       "           [-4.89764023,  0.27231157, -6.13741446],\n",
       "           [-1.26876545,  4.4334197 , -2.88815641],\n",
       "           [-1.25157928,  2.49246454, -1.77998865]],\n",
       "   \n",
       "          ..., \n",
       "          [[ 1.52714419,  5.69832039,  0.62802637],\n",
       "           [-0.68558073,  4.94700241, -2.27060366],\n",
       "           [-1.85801291,  3.4586494 , -3.34421706],\n",
       "           ..., \n",
       "           [-1.85801291,  3.4586494 , -3.34421706],\n",
       "           [-0.52453709,  5.09367609, -1.91807961],\n",
       "           [-1.65465999,  2.05710411, -1.91462374]],\n",
       "   \n",
       "          [[ 1.78585649,  5.97109222,  1.00246167],\n",
       "           [ 0.22617602,  5.91436672, -1.24965966],\n",
       "           [-0.86797071,  4.49914694, -2.23730707],\n",
       "           ..., \n",
       "           [-0.86797071,  4.49914694, -2.23730707],\n",
       "           [ 0.35217339,  6.05464506, -0.97702229],\n",
       "           [-0.94428313,  2.85663223, -1.20831323]],\n",
       "   \n",
       "          [[ 3.98033881,  7.057652  ,  3.14730716],\n",
       "           [ 4.38331318,  8.61648941,  2.90633965],\n",
       "           [ 3.71419668,  7.73366451,  2.28064108],\n",
       "           ..., \n",
       "           [ 3.71419668,  7.73366451,  2.28064108],\n",
       "           [ 4.5531497 ,  8.81365967,  3.1586175 ],\n",
       "           [ 2.47189689,  5.3288784 ,  1.95598435]]], dtype=float32),\n",
       "   array([[[-2.28044844,  0.49457717, -1.9583627 ],\n",
       "           [-5.48278618, -1.74174953, -5.09784126],\n",
       "           [-6.31425667, -2.77920866, -5.79542685],\n",
       "           ..., \n",
       "           [-6.31425667, -2.77920866, -5.79542685],\n",
       "           [-5.46829748, -1.76422811, -4.95740986],\n",
       "           [-4.30620766, -1.82883024, -3.61231971]],\n",
       "   \n",
       "          [[ 0.20059264,  4.36650085, -0.24547505],\n",
       "           [-2.58756208,  3.0385077 , -3.45700693],\n",
       "           [-3.64870238,  1.67860866, -4.39372253],\n",
       "           ..., \n",
       "           [-3.64870238,  1.67860866, -4.39372253],\n",
       "           [-2.31245565,  3.29749918, -3.03393006],\n",
       "           [-2.57740641,  1.1649667 , -2.48324513]],\n",
       "   \n",
       "          [[ 1.52714419,  5.69832039,  0.62802637],\n",
       "           [-0.68558073,  4.94700241, -2.27060366],\n",
       "           [-1.85801291,  3.4586494 , -3.34421706],\n",
       "           ..., \n",
       "           [-1.85801291,  3.4586494 , -3.34421706],\n",
       "           [-0.52453709,  5.09367609, -1.91807961],\n",
       "           [-1.65465999,  2.05710411, -1.91462374]],\n",
       "   \n",
       "          ..., \n",
       "          [[ 1.52714419,  5.69832039,  0.62802637],\n",
       "           [-0.68558073,  4.94700241, -2.27060366],\n",
       "           [-1.85801291,  3.4586494 , -3.34421706],\n",
       "           ..., \n",
       "           [-1.85801291,  3.4586494 , -3.34421706],\n",
       "           [-0.52453709,  5.09367609, -1.91807961],\n",
       "           [-1.65465999,  2.05710411, -1.91462374]],\n",
       "   \n",
       "          [[ 1.78585649,  5.97109222,  1.00246167],\n",
       "           [ 0.22617602,  5.91436672, -1.24965966],\n",
       "           [-0.86797071,  4.49914694, -2.23730707],\n",
       "           ..., \n",
       "           [-0.86797071,  4.49914694, -2.23730707],\n",
       "           [ 0.35217339,  6.05464506, -0.97702229],\n",
       "           [-0.94428313,  2.85663223, -1.20831323]],\n",
       "   \n",
       "          [[ 3.98033881,  7.057652  ,  3.14730716],\n",
       "           [ 4.38331318,  8.61648941,  2.90633965],\n",
       "           [ 3.71419668,  7.73366451,  2.28064108],\n",
       "           ..., \n",
       "           [ 3.71419668,  7.73366451,  2.28064108],\n",
       "           [ 4.5531497 ,  8.81365967,  3.1586175 ],\n",
       "           [ 2.47189689,  5.3288784 ,  1.95598435]]], dtype=float32),\n",
       "   array([[[-2.28044844,  0.49457717, -1.9583627 ],\n",
       "           [-5.48278618, -1.74174953, -5.09784126],\n",
       "           [-6.31425667, -2.77920866, -5.79542685],\n",
       "           ..., \n",
       "           [-6.31425667, -2.77920866, -5.79542685],\n",
       "           [-5.46829748, -1.76422811, -4.95740986],\n",
       "           [-4.30620766, -1.82883024, -3.61231971]],\n",
       "   \n",
       "          [[ 0.20059264,  4.36650085, -0.24547505],\n",
       "           [-2.58756208,  3.0385077 , -3.45700693],\n",
       "           [-3.64870238,  1.67860866, -4.39372253],\n",
       "           ..., \n",
       "           [-3.64870238,  1.67860866, -4.39372253],\n",
       "           [-2.31245565,  3.29749918, -3.03393006],\n",
       "           [-2.57740641,  1.1649667 , -2.48324513]],\n",
       "   \n",
       "          [[ 1.52714419,  5.69832039,  0.62802637],\n",
       "           [-0.68558073,  4.94700241, -2.27060366],\n",
       "           [-1.85801291,  3.4586494 , -3.34421706],\n",
       "           ..., \n",
       "           [-1.85801291,  3.4586494 , -3.34421706],\n",
       "           [-0.52453709,  5.09367609, -1.91807961],\n",
       "           [-1.65465999,  2.05710411, -1.91462374]],\n",
       "   \n",
       "          ..., \n",
       "          [[ 1.52714419,  5.69832039,  0.62802637],\n",
       "           [-0.68558073,  4.94700241, -2.27060366],\n",
       "           [-1.85801291,  3.4586494 , -3.34421706],\n",
       "           ..., \n",
       "           [-1.85801291,  3.4586494 , -3.34421706],\n",
       "           [-0.52453709,  5.09367609, -1.91807961],\n",
       "           [-1.65465999,  2.05710411, -1.91462374]],\n",
       "   \n",
       "          [[ 1.78585649,  5.97109222,  1.00246167],\n",
       "           [ 0.22617602,  5.91436672, -1.24965966],\n",
       "           [-0.86797071,  4.49914694, -2.23730707],\n",
       "           ..., \n",
       "           [-0.86797071,  4.49914694, -2.23730707],\n",
       "           [ 0.35217339,  6.05464506, -0.97702229],\n",
       "           [-0.94428313,  2.85663223, -1.20831323]],\n",
       "   \n",
       "          [[ 3.98033881,  7.057652  ,  3.14730716],\n",
       "           [ 4.38331318,  8.61648941,  2.90633965],\n",
       "           [ 3.71419668,  7.73366451,  2.28064108],\n",
       "           ..., \n",
       "           [ 3.71419668,  7.73366451,  2.28064108],\n",
       "           [ 4.5531497 ,  8.81365967,  3.1586175 ],\n",
       "           [ 2.47189689,  5.3288784 ,  1.95598435]]], dtype=float32),\n",
       "   array([[[-2.28044844,  0.49457717, -1.9583627 ],\n",
       "           [-5.48278618, -1.74174953, -5.09784126],\n",
       "           [-6.31425667, -2.77920866, -5.79542685],\n",
       "           ..., \n",
       "           [-6.31425667, -2.77920866, -5.79542685],\n",
       "           [-5.46829748, -1.76422811, -4.95740986],\n",
       "           [-4.30620766, -1.82883024, -3.61231971]],\n",
       "   \n",
       "          [[ 0.20059264,  4.36650085, -0.24547505],\n",
       "           [-2.58756208,  3.0385077 , -3.45700693],\n",
       "           [-3.64870238,  1.67860866, -4.39372253],\n",
       "           ..., \n",
       "           [-3.64870238,  1.67860866, -4.39372253],\n",
       "           [-2.31245565,  3.29749918, -3.03393006],\n",
       "           [-2.57740641,  1.1649667 , -2.48324513]],\n",
       "   \n",
       "          [[ 1.52714419,  5.69832039,  0.62802637],\n",
       "           [-0.68558073,  4.94700241, -2.27060366],\n",
       "           [-1.85801291,  3.4586494 , -3.34421706],\n",
       "           ..., \n",
       "           [-1.85801291,  3.4586494 , -3.34421706],\n",
       "           [-0.52453709,  5.09367609, -1.91807961],\n",
       "           [-1.65465999,  2.05710411, -1.91462374]],\n",
       "   \n",
       "          ..., \n",
       "          [[ 1.52714419,  5.69832039,  0.62802637],\n",
       "           [-0.68558073,  4.94700241, -2.27060366],\n",
       "           [-1.85801291,  3.4586494 , -3.34421706],\n",
       "           ..., \n",
       "           [-1.85801291,  3.4586494 , -3.34421706],\n",
       "           [-0.52453709,  5.09367609, -1.91807961],\n",
       "           [-1.65465999,  2.05710411, -1.91462374]],\n",
       "   \n",
       "          [[ 1.78585649,  5.97109222,  1.00246167],\n",
       "           [ 0.22617602,  5.91436672, -1.24965966],\n",
       "           [-0.86797071,  4.49914694, -2.23730707],\n",
       "           ..., \n",
       "           [-0.86797071,  4.49914694, -2.23730707],\n",
       "           [ 0.35217339,  6.05464506, -0.97702229],\n",
       "           [-0.94428313,  2.85663223, -1.20831323]],\n",
       "   \n",
       "          [[ 3.98033881,  7.057652  ,  3.14730716],\n",
       "           [ 4.38331318,  8.61648941,  2.90633965],\n",
       "           [ 3.71419668,  7.73366451,  2.28064108],\n",
       "           ..., \n",
       "           [ 3.71419668,  7.73366451,  2.28064108],\n",
       "           [ 4.5531497 ,  8.81365967,  3.1586175 ],\n",
       "           [ 2.47189689,  5.3288784 ,  1.95598435]]], dtype=float32)],\n",
       "  array([[[ 1.,  1.,  1.],\n",
       "          [ 1.,  1.,  1.],\n",
       "          [ 1.,  1.,  1.],\n",
       "          ..., \n",
       "          [ 1.,  1.,  1.],\n",
       "          [ 1.,  1.,  1.],\n",
       "          [ 1.,  1.,  1.]],\n",
       "  \n",
       "         [[ 1.,  1.,  1.],\n",
       "          [ 1.,  1.,  1.],\n",
       "          [ 1.,  1.,  1.],\n",
       "          ..., \n",
       "          [ 1.,  1.,  1.],\n",
       "          [ 1.,  1.,  1.],\n",
       "          [ 1.,  1.,  1.]],\n",
       "  \n",
       "         [[ 1.,  1.,  1.],\n",
       "          [ 1.,  1.,  1.],\n",
       "          [ 1.,  1.,  1.],\n",
       "          ..., \n",
       "          [ 1.,  1.,  1.],\n",
       "          [ 1.,  1.,  1.],\n",
       "          [ 1.,  1.,  1.]],\n",
       "  \n",
       "         ..., \n",
       "         [[ 1.,  1.,  1.],\n",
       "          [ 1.,  1.,  1.],\n",
       "          [ 1.,  1.,  1.],\n",
       "          ..., \n",
       "          [ 1.,  1.,  1.],\n",
       "          [ 1.,  1.,  1.],\n",
       "          [ 1.,  1.,  1.]],\n",
       "  \n",
       "         [[ 1.,  1.,  1.],\n",
       "          [ 1.,  1.,  1.],\n",
       "          [ 1.,  1.,  1.],\n",
       "          ..., \n",
       "          [ 1.,  1.,  1.],\n",
       "          [ 1.,  1.,  1.],\n",
       "          [ 1.,  1.,  1.]],\n",
       "  \n",
       "         [[ 1.,  1.,  1.],\n",
       "          [ 1.,  1.,  1.],\n",
       "          [ 1.,  1.,  1.],\n",
       "          ..., \n",
       "          [ 1.,  1.,  1.],\n",
       "          [ 1.,  1.,  1.],\n",
       "          [ 1.,  1.,  1.]]])],\n",
       " [[array([[[-2.28044844,  0.49457717, -1.9583627 ],\n",
       "           [-5.48278618, -1.74174953, -5.09784126],\n",
       "           [-6.31425667, -2.77920866, -5.79542685],\n",
       "           ..., \n",
       "           [-6.31425667, -2.77920866, -5.79542685],\n",
       "           [-5.46829748, -1.76422811, -4.95740986],\n",
       "           [-4.30620766, -1.82883024, -3.61231971]],\n",
       "   \n",
       "          [[ 0.20059264,  4.36650085, -0.24547505],\n",
       "           [-2.58756208,  3.0385077 , -3.45700693],\n",
       "           [-3.64870238,  1.67860866, -4.39372253],\n",
       "           ..., \n",
       "           [-3.64870238,  1.67860866, -4.39372253],\n",
       "           [-2.31245565,  3.29749918, -3.03393006],\n",
       "           [-2.57740641,  1.1649667 , -2.48324513]],\n",
       "   \n",
       "          [[ 1.52714419,  5.69832039,  0.62802637],\n",
       "           [-0.68558073,  4.94700241, -2.27060366],\n",
       "           [-1.85801291,  3.4586494 , -3.34421706],\n",
       "           ..., \n",
       "           [-1.85801291,  3.4586494 , -3.34421706],\n",
       "           [-0.52453709,  5.09367609, -1.91807961],\n",
       "           [-1.65465999,  2.05710411, -1.91462374]],\n",
       "   \n",
       "          ..., \n",
       "          [[ 1.52714419,  5.69832039,  0.62802637],\n",
       "           [-0.68558073,  4.94700241, -2.27060366],\n",
       "           [-1.85801291,  3.4586494 , -3.34421706],\n",
       "           ..., \n",
       "           [-1.85801291,  3.4586494 , -3.34421706],\n",
       "           [-0.52453709,  5.09367609, -1.91807961],\n",
       "           [-1.65465999,  2.05710411, -1.91462374]],\n",
       "   \n",
       "          [[ 1.78585649,  5.97109222,  1.00246167],\n",
       "           [ 0.22617602,  5.91436672, -1.24965966],\n",
       "           [-0.86797071,  4.49914694, -2.23730707],\n",
       "           ..., \n",
       "           [-0.86797071,  4.49914694, -2.23730707],\n",
       "           [ 0.35217339,  6.05464506, -0.97702229],\n",
       "           [-0.94428313,  2.85663223, -1.20831323]],\n",
       "   \n",
       "          [[ 3.98033881,  7.057652  ,  3.14730716],\n",
       "           [ 4.38331318,  8.61648941,  2.90633965],\n",
       "           [ 3.71419668,  7.73366451,  2.28064108],\n",
       "           ..., \n",
       "           [ 3.71419668,  7.73366451,  2.28064108],\n",
       "           [ 4.5531497 ,  8.81365967,  3.1586175 ],\n",
       "           [ 2.47189689,  5.3288784 ,  1.95598435]]], dtype=float32),\n",
       "   array([[[-2.28044844,  0.49457717, -1.9583627 ],\n",
       "           [-5.48278618, -1.74174953, -5.09784126],\n",
       "           [-6.31425667, -2.77920866, -5.79542685],\n",
       "           ..., \n",
       "           [-6.31425667, -2.77920866, -5.79542685],\n",
       "           [-5.46829748, -1.76422811, -4.95740986],\n",
       "           [-4.30620766, -1.82883024, -3.61231971]],\n",
       "   \n",
       "          [[ 0.20059264,  4.36650085, -0.24547505],\n",
       "           [-2.58756208,  3.0385077 , -3.45700693],\n",
       "           [-3.64870238,  1.67860866, -4.39372253],\n",
       "           ..., \n",
       "           [-3.64870238,  1.67860866, -4.39372253],\n",
       "           [-2.31245565,  3.29749918, -3.03393006],\n",
       "           [-2.57740641,  1.1649667 , -2.48324513]],\n",
       "   \n",
       "          [[ 1.52714419,  5.69832039,  0.62802637],\n",
       "           [-0.68558073,  4.94700241, -2.27060366],\n",
       "           [-1.85801291,  3.4586494 , -3.34421706],\n",
       "           ..., \n",
       "           [-1.85801291,  3.4586494 , -3.34421706],\n",
       "           [-0.52453709,  5.09367609, -1.91807961],\n",
       "           [-1.65465999,  2.05710411, -1.91462374]],\n",
       "   \n",
       "          ..., \n",
       "          [[ 1.52714419,  5.69832039,  0.62802637],\n",
       "           [-0.68558073,  4.94700241, -2.27060366],\n",
       "           [-1.85801291,  3.4586494 , -3.34421706],\n",
       "           ..., \n",
       "           [-1.85801291,  3.4586494 , -3.34421706],\n",
       "           [-0.52453709,  5.09367609, -1.91807961],\n",
       "           [-1.65465999,  2.05710411, -1.91462374]],\n",
       "   \n",
       "          [[ 1.78585649,  5.97109222,  1.00246167],\n",
       "           [ 0.22617602,  5.91436672, -1.24965966],\n",
       "           [-0.86797071,  4.49914694, -2.23730707],\n",
       "           ..., \n",
       "           [-0.86797071,  4.49914694, -2.23730707],\n",
       "           [ 0.35217339,  6.05464506, -0.97702229],\n",
       "           [-0.94428313,  2.85663223, -1.20831323]],\n",
       "   \n",
       "          [[ 3.98033881,  7.057652  ,  3.14730716],\n",
       "           [ 4.38331318,  8.61648941,  2.90633965],\n",
       "           [ 3.71419668,  7.73366451,  2.28064108],\n",
       "           ..., \n",
       "           [ 3.71419668,  7.73366451,  2.28064108],\n",
       "           [ 4.5531497 ,  8.81365967,  3.1586175 ],\n",
       "           [ 2.47189689,  5.3288784 ,  1.95598435]]], dtype=float32),\n",
       "   array([[[-2.28044844,  0.49457717, -1.9583627 ],\n",
       "           [-5.48278618, -1.74174953, -5.09784126],\n",
       "           [-6.31425667, -2.77920866, -5.79542685],\n",
       "           ..., \n",
       "           [-6.31425667, -2.77920866, -5.79542685],\n",
       "           [-5.46829748, -1.76422811, -4.95740986],\n",
       "           [-4.30620766, -1.82883024, -3.61231971]],\n",
       "   \n",
       "          [[ 0.20059264,  4.36650085, -0.24547505],\n",
       "           [-2.58756208,  3.0385077 , -3.45700693],\n",
       "           [-3.64870238,  1.67860866, -4.39372253],\n",
       "           ..., \n",
       "           [-3.64870238,  1.67860866, -4.39372253],\n",
       "           [-2.31245565,  3.29749918, -3.03393006],\n",
       "           [-2.57740641,  1.1649667 , -2.48324513]],\n",
       "   \n",
       "          [[ 1.52714419,  5.69832039,  0.62802637],\n",
       "           [-0.68558073,  4.94700241, -2.27060366],\n",
       "           [-1.85801291,  3.4586494 , -3.34421706],\n",
       "           ..., \n",
       "           [-1.85801291,  3.4586494 , -3.34421706],\n",
       "           [-0.52453709,  5.09367609, -1.91807961],\n",
       "           [-1.65465999,  2.05710411, -1.91462374]],\n",
       "   \n",
       "          ..., \n",
       "          [[ 1.52714419,  5.69832039,  0.62802637],\n",
       "           [-0.68558073,  4.94700241, -2.27060366],\n",
       "           [-1.85801291,  3.4586494 , -3.34421706],\n",
       "           ..., \n",
       "           [-1.85801291,  3.4586494 , -3.34421706],\n",
       "           [-0.52453709,  5.09367609, -1.91807961],\n",
       "           [-1.65465999,  2.05710411, -1.91462374]],\n",
       "   \n",
       "          [[ 1.78585649,  5.97109222,  1.00246167],\n",
       "           [ 0.22617602,  5.91436672, -1.24965966],\n",
       "           [-0.86797071,  4.49914694, -2.23730707],\n",
       "           ..., \n",
       "           [-0.86797071,  4.49914694, -2.23730707],\n",
       "           [ 0.35217339,  6.05464506, -0.97702229],\n",
       "           [-0.94428313,  2.85663223, -1.20831323]],\n",
       "   \n",
       "          [[ 3.98033881,  7.057652  ,  3.14730716],\n",
       "           [ 4.38331318,  8.61648941,  2.90633965],\n",
       "           [ 3.71419668,  7.73366451,  2.28064108],\n",
       "           ..., \n",
       "           [ 3.71419668,  7.73366451,  2.28064108],\n",
       "           [ 4.5531497 ,  8.81365967,  3.1586175 ],\n",
       "           [ 2.47189689,  5.3288784 ,  1.95598435]]], dtype=float32),\n",
       "   array([[[-2.28044844,  0.49457717, -1.9583627 ],\n",
       "           [-5.48278618, -1.74174953, -5.09784126],\n",
       "           [-6.31425667, -2.77920866, -5.79542685],\n",
       "           ..., \n",
       "           [-6.31425667, -2.77920866, -5.79542685],\n",
       "           [-5.46829748, -1.76422811, -4.95740986],\n",
       "           [-4.30620766, -1.82883024, -3.61231971]],\n",
       "   \n",
       "          [[ 0.20059264,  4.36650085, -0.24547505],\n",
       "           [-2.58756208,  3.0385077 , -3.45700693],\n",
       "           [-3.64870238,  1.67860866, -4.39372253],\n",
       "           ..., \n",
       "           [-3.64870238,  1.67860866, -4.39372253],\n",
       "           [-2.31245565,  3.29749918, -3.03393006],\n",
       "           [-2.57740641,  1.1649667 , -2.48324513]],\n",
       "   \n",
       "          [[ 1.52714419,  5.69832039,  0.62802637],\n",
       "           [-0.68558073,  4.94700241, -2.27060366],\n",
       "           [-1.85801291,  3.4586494 , -3.34421706],\n",
       "           ..., \n",
       "           [-1.85801291,  3.4586494 , -3.34421706],\n",
       "           [-0.52453709,  5.09367609, -1.91807961],\n",
       "           [-1.65465999,  2.05710411, -1.91462374]],\n",
       "   \n",
       "          ..., \n",
       "          [[ 1.52714419,  5.69832039,  0.62802637],\n",
       "           [-0.68558073,  4.94700241, -2.27060366],\n",
       "           [-1.85801291,  3.4586494 , -3.34421706],\n",
       "           ..., \n",
       "           [-1.85801291,  3.4586494 , -3.34421706],\n",
       "           [-0.52453709,  5.09367609, -1.91807961],\n",
       "           [-1.65465999,  2.05710411, -1.91462374]],\n",
       "   \n",
       "          [[ 1.78585649,  5.97109222,  1.00246167],\n",
       "           [ 0.22617602,  5.91436672, -1.24965966],\n",
       "           [-0.86797071,  4.49914694, -2.23730707],\n",
       "           ..., \n",
       "           [-0.86797071,  4.49914694, -2.23730707],\n",
       "           [ 0.35217339,  6.05464506, -0.97702229],\n",
       "           [-0.94428313,  2.85663223, -1.20831323]],\n",
       "   \n",
       "          [[ 3.98033881,  7.057652  ,  3.14730716],\n",
       "           [ 4.38331318,  8.61648941,  2.90633965],\n",
       "           [ 3.71419668,  7.73366451,  2.28064108],\n",
       "           ..., \n",
       "           [ 3.71419668,  7.73366451,  2.28064108],\n",
       "           [ 4.5531497 ,  8.81365967,  3.1586175 ],\n",
       "           [ 2.47189689,  5.3288784 ,  1.95598435]]], dtype=float32),\n",
       "   array([[[-2.28044844,  0.49457717, -1.9583627 ],\n",
       "           [-5.48278618, -1.74174953, -5.09784126],\n",
       "           [-6.31425667, -2.77920866, -5.79542685],\n",
       "           ..., \n",
       "           [-6.31425667, -2.77920866, -5.79542685],\n",
       "           [-5.46829748, -1.76422811, -4.95740986],\n",
       "           [-4.30620766, -1.82883024, -3.61231971]],\n",
       "   \n",
       "          [[ 0.20059264,  4.36650085, -0.24547505],\n",
       "           [-2.58756208,  3.0385077 , -3.45700693],\n",
       "           [-3.64870238,  1.67860866, -4.39372253],\n",
       "           ..., \n",
       "           [-3.64870238,  1.67860866, -4.39372253],\n",
       "           [-2.31245565,  3.29749918, -3.03393006],\n",
       "           [-2.57740641,  1.1649667 , -2.48324513]],\n",
       "   \n",
       "          [[ 1.52714419,  5.69832039,  0.62802637],\n",
       "           [-0.68558073,  4.94700241, -2.27060366],\n",
       "           [-1.85801291,  3.4586494 , -3.34421706],\n",
       "           ..., \n",
       "           [-1.85801291,  3.4586494 , -3.34421706],\n",
       "           [-0.52453709,  5.09367609, -1.91807961],\n",
       "           [-1.65465999,  2.05710411, -1.91462374]],\n",
       "   \n",
       "          ..., \n",
       "          [[ 1.52714419,  5.69832039,  0.62802637],\n",
       "           [-0.68558073,  4.94700241, -2.27060366],\n",
       "           [-1.85801291,  3.4586494 , -3.34421706],\n",
       "           ..., \n",
       "           [-1.85801291,  3.4586494 , -3.34421706],\n",
       "           [-0.52453709,  5.09367609, -1.91807961],\n",
       "           [-1.65465999,  2.05710411, -1.91462374]],\n",
       "   \n",
       "          [[ 1.78585649,  5.97109222,  1.00246167],\n",
       "           [ 0.22617602,  5.91436672, -1.24965966],\n",
       "           [-0.86797071,  4.49914694, -2.23730707],\n",
       "           ..., \n",
       "           [-0.86797071,  4.49914694, -2.23730707],\n",
       "           [ 0.35217339,  6.05464506, -0.97702229],\n",
       "           [-0.94428313,  2.85663223, -1.20831323]],\n",
       "   \n",
       "          [[ 3.98033881,  7.057652  ,  3.14730716],\n",
       "           [ 4.38331318,  8.61648941,  2.90633965],\n",
       "           [ 3.71419668,  7.73366451,  2.28064108],\n",
       "           ..., \n",
       "           [ 3.71419668,  7.73366451,  2.28064108],\n",
       "           [ 4.5531497 ,  8.81365967,  3.1586175 ],\n",
       "           [ 2.47189689,  5.3288784 ,  1.95598435]]], dtype=float32)],\n",
       "  array([[[ 1.,  1.,  1.],\n",
       "          [ 1.,  1.,  1.],\n",
       "          [ 1.,  1.,  1.],\n",
       "          ..., \n",
       "          [ 1.,  1.,  1.],\n",
       "          [ 1.,  1.,  1.],\n",
       "          [ 1.,  1.,  1.]],\n",
       "  \n",
       "         [[ 1.,  1.,  1.],\n",
       "          [ 1.,  1.,  1.],\n",
       "          [ 1.,  1.,  1.],\n",
       "          ..., \n",
       "          [ 1.,  1.,  1.],\n",
       "          [ 1.,  1.,  1.],\n",
       "          [ 1.,  1.,  1.]],\n",
       "  \n",
       "         [[ 1.,  1.,  1.],\n",
       "          [ 1.,  1.,  1.],\n",
       "          [ 1.,  1.,  1.],\n",
       "          ..., \n",
       "          [ 1.,  1.,  1.],\n",
       "          [ 1.,  1.,  1.],\n",
       "          [ 1.,  1.,  1.]],\n",
       "  \n",
       "         ..., \n",
       "         [[ 1.,  1.,  1.],\n",
       "          [ 1.,  1.,  1.],\n",
       "          [ 1.,  1.,  1.],\n",
       "          ..., \n",
       "          [ 1.,  1.,  1.],\n",
       "          [ 1.,  1.,  1.],\n",
       "          [ 1.,  1.,  1.]],\n",
       "  \n",
       "         [[ 1.,  1.,  1.],\n",
       "          [ 1.,  1.,  1.],\n",
       "          [ 1.,  1.,  1.],\n",
       "          ..., \n",
       "          [ 1.,  1.,  1.],\n",
       "          [ 1.,  1.,  1.],\n",
       "          [ 1.,  1.,  1.]],\n",
       "  \n",
       "         [[ 1.,  1.,  1.],\n",
       "          [ 1.,  1.,  1.],\n",
       "          [ 1.,  1.,  1.],\n",
       "          ..., \n",
       "          [ 1.,  1.,  1.],\n",
       "          [ 1.,  1.,  1.],\n",
       "          [ 1.,  1.,  1.]]])],\n",
       " [[array([[[-2.28044844,  0.49457717, -1.9583627 ],\n",
       "           [-5.48278618, -1.74174953, -5.09784126],\n",
       "           [-6.31425667, -2.77920866, -5.79542685],\n",
       "           ..., \n",
       "           [-6.31425667, -2.77920866, -5.79542685],\n",
       "           [-5.46829748, -1.76422811, -4.95740986],\n",
       "           [-4.30620766, -1.82883024, -3.61231971]],\n",
       "   \n",
       "          [[ 0.20059264,  4.36650085, -0.24547505],\n",
       "           [-2.58756208,  3.0385077 , -3.45700693],\n",
       "           [-3.64870238,  1.67860866, -4.39372253],\n",
       "           ..., \n",
       "           [-3.64870238,  1.67860866, -4.39372253],\n",
       "           [-2.31245565,  3.29749918, -3.03393006],\n",
       "           [-2.57740641,  1.1649667 , -2.48324513]],\n",
       "   \n",
       "          [[ 1.52714419,  5.69832039,  0.62802637],\n",
       "           [-0.68558073,  4.94700241, -2.27060366],\n",
       "           [-1.85801291,  3.4586494 , -3.34421706],\n",
       "           ..., \n",
       "           [-1.85801291,  3.4586494 , -3.34421706],\n",
       "           [-0.52453709,  5.09367609, -1.91807961],\n",
       "           [-1.65465999,  2.05710411, -1.91462374]],\n",
       "   \n",
       "          ..., \n",
       "          [[ 1.52714419,  5.69832039,  0.62802637],\n",
       "           [-0.68558073,  4.94700241, -2.27060366],\n",
       "           [-1.85801291,  3.4586494 , -3.34421706],\n",
       "           ..., \n",
       "           [-1.85801291,  3.4586494 , -3.34421706],\n",
       "           [-0.52453709,  5.09367609, -1.91807961],\n",
       "           [-1.65465999,  2.05710411, -1.91462374]],\n",
       "   \n",
       "          [[ 1.78585649,  5.97109222,  1.00246167],\n",
       "           [ 0.22617602,  5.91436672, -1.24965966],\n",
       "           [-0.86797071,  4.49914694, -2.23730707],\n",
       "           ..., \n",
       "           [-0.86797071,  4.49914694, -2.23730707],\n",
       "           [ 0.35217339,  6.05464506, -0.97702229],\n",
       "           [-0.94428313,  2.85663223, -1.20831323]],\n",
       "   \n",
       "          [[ 3.98033881,  7.057652  ,  3.14730716],\n",
       "           [ 4.38331318,  8.61648941,  2.90633965],\n",
       "           [ 3.71419668,  7.73366451,  2.28064108],\n",
       "           ..., \n",
       "           [ 3.71419668,  7.73366451,  2.28064108],\n",
       "           [ 4.5531497 ,  8.81365967,  3.1586175 ],\n",
       "           [ 2.47189689,  5.3288784 ,  1.95598435]]], dtype=float32),\n",
       "   array([[[-2.28044844,  0.49457717, -1.9583627 ],\n",
       "           [-5.48278618, -1.74174953, -5.09784126],\n",
       "           [-6.31425667, -2.77920866, -5.79542685],\n",
       "           ..., \n",
       "           [-4.46262503, -0.77540874, -4.44567013],\n",
       "           [ 0.53354204,  4.66960716, -0.2232182 ],\n",
       "           [ 0.05982906,  2.70758986, -0.11790776]],\n",
       "   \n",
       "          [[ 0.20059264,  4.36650085, -0.24547505],\n",
       "           [-2.58756208,  3.0385077 , -3.45700693],\n",
       "           [-3.64870238,  1.67860866, -4.39372253],\n",
       "           ..., \n",
       "           [-3.96618843,  1.44007564, -5.09960365],\n",
       "           [ 2.58172822,  8.68701744,  0.38904852],\n",
       "           [ 2.11890531,  6.11169147,  1.09202051]],\n",
       "   \n",
       "          [[ 1.52714419,  5.69832039,  0.62802637],\n",
       "           [-0.68558073,  4.94700241, -2.27060366],\n",
       "           [-1.85801291,  3.4586494 , -3.34421706],\n",
       "           ..., \n",
       "           [-4.89764023,  0.27231157, -6.13741446],\n",
       "           [-1.26876545,  4.4334197 , -2.88815641],\n",
       "           [-1.25157928,  2.49246454, -1.77998865]],\n",
       "   \n",
       "          ..., \n",
       "          [[ 1.52714419,  5.69832039,  0.62802637],\n",
       "           [-0.68558073,  4.94700241, -2.27060366],\n",
       "           [-1.85801291,  3.4586494 , -3.34421706],\n",
       "           ..., \n",
       "           [-1.85801291,  3.4586494 , -3.34421706],\n",
       "           [-0.52453709,  5.09367609, -1.91807961],\n",
       "           [-1.65465999,  2.05710411, -1.91462374]],\n",
       "   \n",
       "          [[ 1.78585649,  5.97109222,  1.00246167],\n",
       "           [ 0.22617602,  5.91436672, -1.24965966],\n",
       "           [-0.86797071,  4.49914694, -2.23730707],\n",
       "           ..., \n",
       "           [-0.86797071,  4.49914694, -2.23730707],\n",
       "           [ 0.35217339,  6.05464506, -0.97702229],\n",
       "           [-0.94428313,  2.85663223, -1.20831323]],\n",
       "   \n",
       "          [[ 3.98033881,  7.057652  ,  3.14730716],\n",
       "           [ 4.38331318,  8.61648941,  2.90633965],\n",
       "           [ 3.71419668,  7.73366451,  2.28064108],\n",
       "           ..., \n",
       "           [ 3.71419668,  7.73366451,  2.28064108],\n",
       "           [ 4.5531497 ,  8.81365967,  3.1586175 ],\n",
       "           [ 2.47189689,  5.3288784 ,  1.95598435]]], dtype=float32),\n",
       "   array([[[-2.28044844,  0.49457717, -1.9583627 ],\n",
       "           [-5.48278618, -1.74174953, -5.09784126],\n",
       "           [-6.31425667, -2.77920866, -5.79542685],\n",
       "           ..., \n",
       "           [-6.31425667, -2.77920866, -5.79542685],\n",
       "           [-5.46829748, -1.76422811, -4.95740986],\n",
       "           [-4.30620766, -1.82883024, -3.61231971]],\n",
       "   \n",
       "          [[ 0.20059264,  4.36650085, -0.24547505],\n",
       "           [-2.58756208,  3.0385077 , -3.45700693],\n",
       "           [-3.64870238,  1.67860866, -4.39372253],\n",
       "           ..., \n",
       "           [-3.64870238,  1.67860866, -4.39372253],\n",
       "           [-2.31245565,  3.29749918, -3.03393006],\n",
       "           [-2.57740641,  1.1649667 , -2.48324513]],\n",
       "   \n",
       "          [[ 1.52714419,  5.69832039,  0.62802637],\n",
       "           [-0.68558073,  4.94700241, -2.27060366],\n",
       "           [-1.85801291,  3.4586494 , -3.34421706],\n",
       "           ..., \n",
       "           [-1.85801291,  3.4586494 , -3.34421706],\n",
       "           [-0.52453709,  5.09367609, -1.91807961],\n",
       "           [-1.65465999,  2.05710411, -1.91462374]],\n",
       "   \n",
       "          ..., \n",
       "          [[ 1.52714419,  5.69832039,  0.62802637],\n",
       "           [-0.68558073,  4.94700241, -2.27060366],\n",
       "           [-1.85801291,  3.4586494 , -3.34421706],\n",
       "           ..., \n",
       "           [-1.85801291,  3.4586494 , -3.34421706],\n",
       "           [-0.52453709,  5.09367609, -1.91807961],\n",
       "           [-1.65465999,  2.05710411, -1.91462374]],\n",
       "   \n",
       "          [[ 1.78585649,  5.97109222,  1.00246167],\n",
       "           [ 0.22617602,  5.91436672, -1.24965966],\n",
       "           [-0.86797071,  4.49914694, -2.23730707],\n",
       "           ..., \n",
       "           [-0.86797071,  4.49914694, -2.23730707],\n",
       "           [ 0.35217339,  6.05464506, -0.97702229],\n",
       "           [-0.94428313,  2.85663223, -1.20831323]],\n",
       "   \n",
       "          [[ 3.98033881,  7.057652  ,  3.14730716],\n",
       "           [ 4.38331318,  8.61648941,  2.90633965],\n",
       "           [ 3.71419668,  7.73366451,  2.28064108],\n",
       "           ..., \n",
       "           [ 3.71419668,  7.73366451,  2.28064108],\n",
       "           [ 4.5531497 ,  8.81365967,  3.1586175 ],\n",
       "           [ 2.47189689,  5.3288784 ,  1.95598435]]], dtype=float32),\n",
       "   array([[[-2.28044844,  0.49457717, -1.9583627 ],\n",
       "           [-5.48278618, -1.74174953, -5.09784126],\n",
       "           [-6.31425667, -2.77920866, -5.79542685],\n",
       "           ..., \n",
       "           [-6.31425667, -2.77920866, -5.79542685],\n",
       "           [-5.46829748, -1.76422811, -4.95740986],\n",
       "           [-4.30620766, -1.82883024, -3.61231971]],\n",
       "   \n",
       "          [[ 0.20059264,  4.36650085, -0.24547505],\n",
       "           [-2.58756208,  3.0385077 , -3.45700693],\n",
       "           [-3.64870238,  1.67860866, -4.39372253],\n",
       "           ..., \n",
       "           [-3.64870238,  1.67860866, -4.39372253],\n",
       "           [-2.31245565,  3.29749918, -3.03393006],\n",
       "           [-2.57740641,  1.1649667 , -2.48324513]],\n",
       "   \n",
       "          [[ 1.52714419,  5.69832039,  0.62802637],\n",
       "           [-0.68558073,  4.94700241, -2.27060366],\n",
       "           [-1.85801291,  3.4586494 , -3.34421706],\n",
       "           ..., \n",
       "           [-1.85801291,  3.4586494 , -3.34421706],\n",
       "           [-0.52453709,  5.09367609, -1.91807961],\n",
       "           [-1.65465999,  2.05710411, -1.91462374]],\n",
       "   \n",
       "          ..., \n",
       "          [[ 1.52714419,  5.69832039,  0.62802637],\n",
       "           [-0.68558073,  4.94700241, -2.27060366],\n",
       "           [-1.85801291,  3.4586494 , -3.34421706],\n",
       "           ..., \n",
       "           [-1.85801291,  3.4586494 , -3.34421706],\n",
       "           [-0.52453709,  5.09367609, -1.91807961],\n",
       "           [-1.65465999,  2.05710411, -1.91462374]],\n",
       "   \n",
       "          [[ 1.78585649,  5.97109222,  1.00246167],\n",
       "           [ 0.22617602,  5.91436672, -1.24965966],\n",
       "           [-0.86797071,  4.49914694, -2.23730707],\n",
       "           ..., \n",
       "           [-0.86797071,  4.49914694, -2.23730707],\n",
       "           [ 0.35217339,  6.05464506, -0.97702229],\n",
       "           [-0.94428313,  2.85663223, -1.20831323]],\n",
       "   \n",
       "          [[ 3.98033881,  7.057652  ,  3.14730716],\n",
       "           [ 4.38331318,  8.61648941,  2.90633965],\n",
       "           [ 3.71419668,  7.73366451,  2.28064108],\n",
       "           ..., \n",
       "           [ 3.71419668,  7.73366451,  2.28064108],\n",
       "           [ 4.5531497 ,  8.81365967,  3.1586175 ],\n",
       "           [ 2.47189689,  5.3288784 ,  1.95598435]]], dtype=float32),\n",
       "   array([[[-2.28044844,  0.49457717, -1.9583627 ],\n",
       "           [-5.48278618, -1.74174953, -5.09784126],\n",
       "           [-6.31425667, -2.77920866, -5.79542685],\n",
       "           ..., \n",
       "           [-6.31425667, -2.77920866, -5.79542685],\n",
       "           [-5.46829748, -1.76422811, -4.95740986],\n",
       "           [-4.30620766, -1.82883024, -3.61231971]],\n",
       "   \n",
       "          [[ 0.20059264,  4.36650085, -0.24547505],\n",
       "           [-2.58756208,  3.0385077 , -3.45700693],\n",
       "           [-3.64870238,  1.67860866, -4.39372253],\n",
       "           ..., \n",
       "           [-3.64870238,  1.67860866, -4.39372253],\n",
       "           [-2.31245565,  3.29749918, -3.03393006],\n",
       "           [-2.57740641,  1.1649667 , -2.48324513]],\n",
       "   \n",
       "          [[ 1.52714419,  5.69832039,  0.62802637],\n",
       "           [-0.68558073,  4.94700241, -2.27060366],\n",
       "           [-1.85801291,  3.4586494 , -3.34421706],\n",
       "           ..., \n",
       "           [-1.85801291,  3.4586494 , -3.34421706],\n",
       "           [-0.52453709,  5.09367609, -1.91807961],\n",
       "           [-1.65465999,  2.05710411, -1.91462374]],\n",
       "   \n",
       "          ..., \n",
       "          [[ 1.52714419,  5.69832039,  0.62802637],\n",
       "           [-0.68558073,  4.94700241, -2.27060366],\n",
       "           [-1.85801291,  3.4586494 , -3.34421706],\n",
       "           ..., \n",
       "           [-1.85801291,  3.4586494 , -3.34421706],\n",
       "           [-0.52453709,  5.09367609, -1.91807961],\n",
       "           [-1.65465999,  2.05710411, -1.91462374]],\n",
       "   \n",
       "          [[ 1.78585649,  5.97109222,  1.00246167],\n",
       "           [ 0.22617602,  5.91436672, -1.24965966],\n",
       "           [-0.86797071,  4.49914694, -2.23730707],\n",
       "           ..., \n",
       "           [-0.86797071,  4.49914694, -2.23730707],\n",
       "           [ 0.35217339,  6.05464506, -0.97702229],\n",
       "           [-0.94428313,  2.85663223, -1.20831323]],\n",
       "   \n",
       "          [[ 3.98033881,  7.057652  ,  3.14730716],\n",
       "           [ 4.38331318,  8.61648941,  2.90633965],\n",
       "           [ 3.71419668,  7.73366451,  2.28064108],\n",
       "           ..., \n",
       "           [ 3.71419668,  7.73366451,  2.28064108],\n",
       "           [ 4.5531497 ,  8.81365967,  3.1586175 ],\n",
       "           [ 2.47189689,  5.3288784 ,  1.95598435]]], dtype=float32)],\n",
       "  array([[[ 1.,  1.,  1.],\n",
       "          [ 1.,  1.,  1.],\n",
       "          [ 1.,  1.,  1.],\n",
       "          ..., \n",
       "          [ 1.,  1.,  1.],\n",
       "          [ 1.,  1.,  1.],\n",
       "          [ 1.,  1.,  1.]],\n",
       "  \n",
       "         [[ 1.,  1.,  1.],\n",
       "          [ 1.,  1.,  1.],\n",
       "          [ 1.,  1.,  1.],\n",
       "          ..., \n",
       "          [ 1.,  1.,  1.],\n",
       "          [ 1.,  1.,  1.],\n",
       "          [ 1.,  1.,  1.]],\n",
       "  \n",
       "         [[ 1.,  1.,  1.],\n",
       "          [ 1.,  1.,  1.],\n",
       "          [ 1.,  1.,  1.],\n",
       "          ..., \n",
       "          [ 1.,  1.,  1.],\n",
       "          [ 1.,  1.,  1.],\n",
       "          [ 1.,  1.,  1.]],\n",
       "  \n",
       "         ..., \n",
       "         [[ 1.,  1.,  1.],\n",
       "          [ 1.,  1.,  1.],\n",
       "          [ 1.,  1.,  1.],\n",
       "          ..., \n",
       "          [ 1.,  1.,  1.],\n",
       "          [ 1.,  1.,  1.],\n",
       "          [ 1.,  1.,  1.]],\n",
       "  \n",
       "         [[ 1.,  1.,  1.],\n",
       "          [ 1.,  1.,  1.],\n",
       "          [ 1.,  1.,  1.],\n",
       "          ..., \n",
       "          [ 1.,  1.,  1.],\n",
       "          [ 1.,  1.,  1.],\n",
       "          [ 1.,  1.,  1.]],\n",
       "  \n",
       "         [[ 1.,  1.,  1.],\n",
       "          [ 1.,  1.,  1.],\n",
       "          [ 1.,  1.,  1.],\n",
       "          ..., \n",
       "          [ 1.,  1.,  1.],\n",
       "          [ 1.,  1.,  1.],\n",
       "          [ 1.,  1.,  1.]]])],\n",
       " [[array([[[-2.28044844,  0.49457717, -1.9583627 ],\n",
       "           [-5.48278618, -1.74174953, -5.09784126],\n",
       "           [-6.31425667, -2.77920866, -5.79542685],\n",
       "           ..., \n",
       "           [-6.31425667, -2.77920866, -5.79542685],\n",
       "           [-5.46829748, -1.76422811, -4.95740986],\n",
       "           [-4.30620766, -1.82883024, -3.61231971]],\n",
       "   \n",
       "          [[ 0.20059264,  4.36650085, -0.24547505],\n",
       "           [-2.58756208,  3.0385077 , -3.45700693],\n",
       "           [-3.64870238,  1.67860866, -4.39372253],\n",
       "           ..., \n",
       "           [-3.64870238,  1.67860866, -4.39372253],\n",
       "           [-2.31245565,  3.29749918, -3.03393006],\n",
       "           [-2.57740641,  1.1649667 , -2.48324513]],\n",
       "   \n",
       "          [[ 1.52714419,  5.69832039,  0.62802637],\n",
       "           [-0.68558073,  4.94700241, -2.27060366],\n",
       "           [-1.85801291,  3.4586494 , -3.34421706],\n",
       "           ..., \n",
       "           [-1.85801291,  3.4586494 , -3.34421706],\n",
       "           [-0.52453709,  5.09367609, -1.91807961],\n",
       "           [-1.65465999,  2.05710411, -1.91462374]],\n",
       "   \n",
       "          ..., \n",
       "          [[ 1.52714419,  5.69832039,  0.62802637],\n",
       "           [-0.68558073,  4.94700241, -2.27060366],\n",
       "           [-1.85801291,  3.4586494 , -3.34421706],\n",
       "           ..., \n",
       "           [-1.85801291,  3.4586494 , -3.34421706],\n",
       "           [-0.52453709,  5.09367609, -1.91807961],\n",
       "           [-1.65465999,  2.05710411, -1.91462374]],\n",
       "   \n",
       "          [[ 1.78585649,  5.97109222,  1.00246167],\n",
       "           [ 0.22617602,  5.91436672, -1.24965966],\n",
       "           [-0.86797071,  4.49914694, -2.23730707],\n",
       "           ..., \n",
       "           [-0.86797071,  4.49914694, -2.23730707],\n",
       "           [ 0.35217339,  6.05464506, -0.97702229],\n",
       "           [-0.94428313,  2.85663223, -1.20831323]],\n",
       "   \n",
       "          [[ 3.98033881,  7.057652  ,  3.14730716],\n",
       "           [ 4.38331318,  8.61648941,  2.90633965],\n",
       "           [ 3.71419668,  7.73366451,  2.28064108],\n",
       "           ..., \n",
       "           [ 3.71419668,  7.73366451,  2.28064108],\n",
       "           [ 4.5531497 ,  8.81365967,  3.1586175 ],\n",
       "           [ 2.47189689,  5.3288784 ,  1.95598435]]], dtype=float32),\n",
       "   array([[[-2.28044844,  0.49457717, -1.9583627 ],\n",
       "           [-5.48278618, -1.74174953, -5.09784126],\n",
       "           [-6.31425667, -2.77920866, -5.79542685],\n",
       "           ..., \n",
       "           [-4.46262503, -0.77540874, -4.44567013],\n",
       "           [ 0.53354204,  4.66960716, -0.2232182 ],\n",
       "           [ 0.05982906,  2.70758986, -0.11790776]],\n",
       "   \n",
       "          [[ 0.20059264,  4.36650085, -0.24547505],\n",
       "           [-2.58756208,  3.0385077 , -3.45700693],\n",
       "           [-3.64870238,  1.67860866, -4.39372253],\n",
       "           ..., \n",
       "           [-3.96618843,  1.44007564, -5.09960365],\n",
       "           [ 2.58172822,  8.68701744,  0.38904852],\n",
       "           [ 2.11890531,  6.11169147,  1.09202051]],\n",
       "   \n",
       "          [[ 1.52714419,  5.69832039,  0.62802637],\n",
       "           [-0.68558073,  4.94700241, -2.27060366],\n",
       "           [-1.85801291,  3.4586494 , -3.34421706],\n",
       "           ..., \n",
       "           [-4.89764023,  0.27231157, -6.13741446],\n",
       "           [-1.26876545,  4.4334197 , -2.88815641],\n",
       "           [-1.25157928,  2.49246454, -1.77998865]],\n",
       "   \n",
       "          ..., \n",
       "          [[ 1.52714419,  5.69832039,  0.62802637],\n",
       "           [-0.68558073,  4.94700241, -2.27060366],\n",
       "           [-1.85801291,  3.4586494 , -3.34421706],\n",
       "           ..., \n",
       "           [-1.85801291,  3.4586494 , -3.34421706],\n",
       "           [-0.52453709,  5.09367609, -1.91807961],\n",
       "           [-1.65465999,  2.05710411, -1.91462374]],\n",
       "   \n",
       "          [[ 1.78585649,  5.97109222,  1.00246167],\n",
       "           [ 0.22617602,  5.91436672, -1.24965966],\n",
       "           [-0.86797071,  4.49914694, -2.23730707],\n",
       "           ..., \n",
       "           [-0.86797071,  4.49914694, -2.23730707],\n",
       "           [ 0.35217339,  6.05464506, -0.97702229],\n",
       "           [-0.94428313,  2.85663223, -1.20831323]],\n",
       "   \n",
       "          [[ 3.98033881,  7.057652  ,  3.14730716],\n",
       "           [ 4.38331318,  8.61648941,  2.90633965],\n",
       "           [ 3.71419668,  7.73366451,  2.28064108],\n",
       "           ..., \n",
       "           [ 3.71419668,  7.73366451,  2.28064108],\n",
       "           [ 4.5531497 ,  8.81365967,  3.1586175 ],\n",
       "           [ 2.47189689,  5.3288784 ,  1.95598435]]], dtype=float32),\n",
       "   array([[[-2.28044844,  0.49457717, -1.9583627 ],\n",
       "           [-5.48278618, -1.74174953, -5.09784126],\n",
       "           [-6.31425667, -2.77920866, -5.79542685],\n",
       "           ..., \n",
       "           [-6.31425667, -2.77920866, -5.79542685],\n",
       "           [-5.46829748, -1.76422811, -4.95740986],\n",
       "           [-4.30620766, -1.82883024, -3.61231971]],\n",
       "   \n",
       "          [[ 0.20059264,  4.36650085, -0.24547505],\n",
       "           [-2.58756208,  3.0385077 , -3.45700693],\n",
       "           [-3.64870238,  1.67860866, -4.39372253],\n",
       "           ..., \n",
       "           [-3.64870238,  1.67860866, -4.39372253],\n",
       "           [-2.31245565,  3.29749918, -3.03393006],\n",
       "           [-2.57740641,  1.1649667 , -2.48324513]],\n",
       "   \n",
       "          [[ 1.52714419,  5.69832039,  0.62802637],\n",
       "           [-0.68558073,  4.94700241, -2.27060366],\n",
       "           [-1.85801291,  3.4586494 , -3.34421706],\n",
       "           ..., \n",
       "           [-1.85801291,  3.4586494 , -3.34421706],\n",
       "           [-0.52453709,  5.09367609, -1.91807961],\n",
       "           [-1.65465999,  2.05710411, -1.91462374]],\n",
       "   \n",
       "          ..., \n",
       "          [[ 1.52714419,  5.69832039,  0.62802637],\n",
       "           [-0.68558073,  4.94700241, -2.27060366],\n",
       "           [-1.85801291,  3.4586494 , -3.34421706],\n",
       "           ..., \n",
       "           [-1.85801291,  3.4586494 , -3.34421706],\n",
       "           [-0.52453709,  5.09367609, -1.91807961],\n",
       "           [-1.65465999,  2.05710411, -1.91462374]],\n",
       "   \n",
       "          [[ 1.78585649,  5.97109222,  1.00246167],\n",
       "           [ 0.22617602,  5.91436672, -1.24965966],\n",
       "           [-0.86797071,  4.49914694, -2.23730707],\n",
       "           ..., \n",
       "           [-0.86797071,  4.49914694, -2.23730707],\n",
       "           [ 0.35217339,  6.05464506, -0.97702229],\n",
       "           [-0.94428313,  2.85663223, -1.20831323]],\n",
       "   \n",
       "          [[ 3.98033881,  7.057652  ,  3.14730716],\n",
       "           [ 4.38331318,  8.61648941,  2.90633965],\n",
       "           [ 3.71419668,  7.73366451,  2.28064108],\n",
       "           ..., \n",
       "           [ 3.71419668,  7.73366451,  2.28064108],\n",
       "           [ 4.5531497 ,  8.81365967,  3.1586175 ],\n",
       "           [ 2.47189689,  5.3288784 ,  1.95598435]]], dtype=float32),\n",
       "   array([[[-2.28044844,  0.49457717, -1.9583627 ],\n",
       "           [-5.48278618, -1.74174953, -5.09784126],\n",
       "           [-6.31425667, -2.77920866, -5.79542685],\n",
       "           ..., \n",
       "           [-6.31425667, -2.77920866, -5.79542685],\n",
       "           [-5.46829748, -1.76422811, -4.95740986],\n",
       "           [-4.30620766, -1.82883024, -3.61231971]],\n",
       "   \n",
       "          [[ 0.20059264,  4.36650085, -0.24547505],\n",
       "           [-2.58756208,  3.0385077 , -3.45700693],\n",
       "           [-3.64870238,  1.67860866, -4.39372253],\n",
       "           ..., \n",
       "           [-3.64870238,  1.67860866, -4.39372253],\n",
       "           [-2.31245565,  3.29749918, -3.03393006],\n",
       "           [-2.57740641,  1.1649667 , -2.48324513]],\n",
       "   \n",
       "          [[ 1.52714419,  5.69832039,  0.62802637],\n",
       "           [-0.68558073,  4.94700241, -2.27060366],\n",
       "           [-1.85801291,  3.4586494 , -3.34421706],\n",
       "           ..., \n",
       "           [-1.85801291,  3.4586494 , -3.34421706],\n",
       "           [-0.52453709,  5.09367609, -1.91807961],\n",
       "           [-1.65465999,  2.05710411, -1.91462374]],\n",
       "   \n",
       "          ..., \n",
       "          [[ 1.52714419,  5.69832039,  0.62802637],\n",
       "           [-0.68558073,  4.94700241, -2.27060366],\n",
       "           [-1.85801291,  3.4586494 , -3.34421706],\n",
       "           ..., \n",
       "           [-1.85801291,  3.4586494 , -3.34421706],\n",
       "           [-0.52453709,  5.09367609, -1.91807961],\n",
       "           [-1.65465999,  2.05710411, -1.91462374]],\n",
       "   \n",
       "          [[ 1.78585649,  5.97109222,  1.00246167],\n",
       "           [ 0.22617602,  5.91436672, -1.24965966],\n",
       "           [-0.86797071,  4.49914694, -2.23730707],\n",
       "           ..., \n",
       "           [-0.86797071,  4.49914694, -2.23730707],\n",
       "           [ 0.35217339,  6.05464506, -0.97702229],\n",
       "           [-0.94428313,  2.85663223, -1.20831323]],\n",
       "   \n",
       "          [[ 3.98033881,  7.057652  ,  3.14730716],\n",
       "           [ 4.38331318,  8.61648941,  2.90633965],\n",
       "           [ 3.71419668,  7.73366451,  2.28064108],\n",
       "           ..., \n",
       "           [ 3.71419668,  7.73366451,  2.28064108],\n",
       "           [ 4.5531497 ,  8.81365967,  3.1586175 ],\n",
       "           [ 2.47189689,  5.3288784 ,  1.95598435]]], dtype=float32),\n",
       "   array([[[-2.28044844,  0.49457717, -1.9583627 ],\n",
       "           [-5.48278618, -1.74174953, -5.09784126],\n",
       "           [-6.31425667, -2.77920866, -5.79542685],\n",
       "           ..., \n",
       "           [-6.31425667, -2.77920866, -5.79542685],\n",
       "           [-5.46829748, -1.76422811, -4.95740986],\n",
       "           [-4.30620766, -1.82883024, -3.61231971]],\n",
       "   \n",
       "          [[ 0.20059264,  4.36650085, -0.24547505],\n",
       "           [-2.58756208,  3.0385077 , -3.45700693],\n",
       "           [-3.64870238,  1.67860866, -4.39372253],\n",
       "           ..., \n",
       "           [-3.64870238,  1.67860866, -4.39372253],\n",
       "           [-2.31245565,  3.29749918, -3.03393006],\n",
       "           [-2.57740641,  1.1649667 , -2.48324513]],\n",
       "   \n",
       "          [[ 1.52714419,  5.69832039,  0.62802637],\n",
       "           [-0.68558073,  4.94700241, -2.27060366],\n",
       "           [-1.85801291,  3.4586494 , -3.34421706],\n",
       "           ..., \n",
       "           [-1.85801291,  3.4586494 , -3.34421706],\n",
       "           [-0.52453709,  5.09367609, -1.91807961],\n",
       "           [-1.65465999,  2.05710411, -1.91462374]],\n",
       "   \n",
       "          ..., \n",
       "          [[ 1.52714419,  5.69832039,  0.62802637],\n",
       "           [-0.68558073,  4.94700241, -2.27060366],\n",
       "           [-1.85801291,  3.4586494 , -3.34421706],\n",
       "           ..., \n",
       "           [-1.85801291,  3.4586494 , -3.34421706],\n",
       "           [-0.52453709,  5.09367609, -1.91807961],\n",
       "           [-1.65465999,  2.05710411, -1.91462374]],\n",
       "   \n",
       "          [[ 1.78585649,  5.97109222,  1.00246167],\n",
       "           [ 0.22617602,  5.91436672, -1.24965966],\n",
       "           [-0.86797071,  4.49914694, -2.23730707],\n",
       "           ..., \n",
       "           [-0.86797071,  4.49914694, -2.23730707],\n",
       "           [ 0.35217339,  6.05464506, -0.97702229],\n",
       "           [-0.94428313,  2.85663223, -1.20831323]],\n",
       "   \n",
       "          [[ 3.98033881,  7.057652  ,  3.14730716],\n",
       "           [ 4.38331318,  8.61648941,  2.90633965],\n",
       "           [ 3.71419668,  7.73366451,  2.28064108],\n",
       "           ..., \n",
       "           [ 3.71419668,  7.73366451,  2.28064108],\n",
       "           [ 4.5531497 ,  8.81365967,  3.1586175 ],\n",
       "           [ 2.47189689,  5.3288784 ,  1.95598435]]], dtype=float32)],\n",
       "  array([[[ 1.,  1.,  1.],\n",
       "          [ 1.,  1.,  1.],\n",
       "          [ 1.,  1.,  1.],\n",
       "          ..., \n",
       "          [ 1.,  1.,  1.],\n",
       "          [ 1.,  1.,  1.],\n",
       "          [ 1.,  1.,  1.]],\n",
       "  \n",
       "         [[ 1.,  1.,  1.],\n",
       "          [ 1.,  1.,  1.],\n",
       "          [ 1.,  1.,  1.],\n",
       "          ..., \n",
       "          [ 1.,  1.,  1.],\n",
       "          [ 1.,  1.,  1.],\n",
       "          [ 1.,  1.,  1.]],\n",
       "  \n",
       "         [[ 1.,  1.,  1.],\n",
       "          [ 1.,  1.,  1.],\n",
       "          [ 1.,  1.,  1.],\n",
       "          ..., \n",
       "          [ 1.,  1.,  1.],\n",
       "          [ 1.,  1.,  1.],\n",
       "          [ 1.,  1.,  1.]],\n",
       "  \n",
       "         ..., \n",
       "         [[ 1.,  1.,  1.],\n",
       "          [ 1.,  1.,  1.],\n",
       "          [ 1.,  1.,  1.],\n",
       "          ..., \n",
       "          [ 1.,  1.,  1.],\n",
       "          [ 1.,  1.,  1.],\n",
       "          [ 1.,  1.,  1.]],\n",
       "  \n",
       "         [[ 1.,  1.,  1.],\n",
       "          [ 1.,  1.,  1.],\n",
       "          [ 1.,  1.,  1.],\n",
       "          ..., \n",
       "          [ 1.,  1.,  1.],\n",
       "          [ 1.,  1.,  1.],\n",
       "          [ 1.,  1.,  1.]],\n",
       "  \n",
       "         [[ 1.,  1.,  1.],\n",
       "          [ 1.,  1.,  1.],\n",
       "          [ 1.,  1.,  1.],\n",
       "          ..., \n",
       "          [ 1.,  1.,  1.],\n",
       "          [ 1.,  1.,  1.],\n",
       "          [ 1.,  1.,  1.]]])],\n",
       " [[array([[[-2.28044844,  0.49457717, -1.9583627 ],\n",
       "           [-5.48278618, -1.74174953, -5.09784126],\n",
       "           [-6.31425667, -2.77920866, -5.79542685],\n",
       "           ..., \n",
       "           [-6.31425667, -2.77920866, -5.79542685],\n",
       "           [-5.46829748, -1.76422811, -4.95740986],\n",
       "           [-4.30620766, -1.82883024, -3.61231971]],\n",
       "   \n",
       "          [[ 0.20059264,  4.36650085, -0.24547505],\n",
       "           [-2.58756208,  3.0385077 , -3.45700693],\n",
       "           [-3.64870238,  1.67860866, -4.39372253],\n",
       "           ..., \n",
       "           [-3.64870238,  1.67860866, -4.39372253],\n",
       "           [-2.31245565,  3.29749918, -3.03393006],\n",
       "           [-2.57740641,  1.1649667 , -2.48324513]],\n",
       "   \n",
       "          [[ 1.52714419,  5.69832039,  0.62802637],\n",
       "           [-0.68558073,  4.94700241, -2.27060366],\n",
       "           [-1.85801291,  3.4586494 , -3.34421706],\n",
       "           ..., \n",
       "           [-1.85801291,  3.4586494 , -3.34421706],\n",
       "           [-0.52453709,  5.09367609, -1.91807961],\n",
       "           [-1.65465999,  2.05710411, -1.91462374]],\n",
       "   \n",
       "          ..., \n",
       "          [[ 1.52714419,  5.69832039,  0.62802637],\n",
       "           [-0.68558073,  4.94700241, -2.27060366],\n",
       "           [-1.85801291,  3.4586494 , -3.34421706],\n",
       "           ..., \n",
       "           [-1.85801291,  3.4586494 , -3.34421706],\n",
       "           [-0.52453709,  5.09367609, -1.91807961],\n",
       "           [-1.65465999,  2.05710411, -1.91462374]],\n",
       "   \n",
       "          [[ 1.78585649,  5.97109222,  1.00246167],\n",
       "           [ 0.22617602,  5.91436672, -1.24965966],\n",
       "           [-0.86797071,  4.49914694, -2.23730707],\n",
       "           ..., \n",
       "           [-0.86797071,  4.49914694, -2.23730707],\n",
       "           [ 0.35217339,  6.05464506, -0.97702229],\n",
       "           [-0.94428313,  2.85663223, -1.20831323]],\n",
       "   \n",
       "          [[ 3.98033881,  7.057652  ,  3.14730716],\n",
       "           [ 4.38331318,  8.61648941,  2.90633965],\n",
       "           [ 3.71419668,  7.73366451,  2.28064108],\n",
       "           ..., \n",
       "           [ 3.71419668,  7.73366451,  2.28064108],\n",
       "           [ 4.5531497 ,  8.81365967,  3.1586175 ],\n",
       "           [ 2.47189689,  5.3288784 ,  1.95598435]]], dtype=float32),\n",
       "   array([[[-2.28044844,  0.49457717, -1.9583627 ],\n",
       "           [-5.48278618, -1.74174953, -5.09784126],\n",
       "           [-6.31425667, -2.77920866, -5.79542685],\n",
       "           ..., \n",
       "           [-6.31425667, -2.77920866, -5.79542685],\n",
       "           [-5.46829748, -1.76422811, -4.95740986],\n",
       "           [-4.30620766, -1.82883024, -3.61231971]],\n",
       "   \n",
       "          [[ 0.20059264,  4.36650085, -0.24547505],\n",
       "           [-2.58756208,  3.0385077 , -3.45700693],\n",
       "           [-3.64870238,  1.67860866, -4.39372253],\n",
       "           ..., \n",
       "           [-3.64870238,  1.67860866, -4.39372253],\n",
       "           [-2.31245565,  3.29749918, -3.03393006],\n",
       "           [-2.57740641,  1.1649667 , -2.48324513]],\n",
       "   \n",
       "          [[ 1.52714419,  5.69832039,  0.62802637],\n",
       "           [-0.68558073,  4.94700241, -2.27060366],\n",
       "           [-1.85801291,  3.4586494 , -3.34421706],\n",
       "           ..., \n",
       "           [-1.85801291,  3.4586494 , -3.34421706],\n",
       "           [-0.52453709,  5.09367609, -1.91807961],\n",
       "           [-1.65465999,  2.05710411, -1.91462374]],\n",
       "   \n",
       "          ..., \n",
       "          [[ 1.52714419,  5.69832039,  0.62802637],\n",
       "           [-0.68558073,  4.94700241, -2.27060366],\n",
       "           [-1.85801291,  3.4586494 , -3.34421706],\n",
       "           ..., \n",
       "           [-1.85801291,  3.4586494 , -3.34421706],\n",
       "           [-0.52453709,  5.09367609, -1.91807961],\n",
       "           [-1.65465999,  2.05710411, -1.91462374]],\n",
       "   \n",
       "          [[ 1.78585649,  5.97109222,  1.00246167],\n",
       "           [ 0.22617602,  5.91436672, -1.24965966],\n",
       "           [-0.86797071,  4.49914694, -2.23730707],\n",
       "           ..., \n",
       "           [-0.86797071,  4.49914694, -2.23730707],\n",
       "           [ 0.35217339,  6.05464506, -0.97702229],\n",
       "           [-0.94428313,  2.85663223, -1.20831323]],\n",
       "   \n",
       "          [[ 3.98033881,  7.057652  ,  3.14730716],\n",
       "           [ 4.38331318,  8.61648941,  2.90633965],\n",
       "           [ 3.71419668,  7.73366451,  2.28064108],\n",
       "           ..., \n",
       "           [ 3.71419668,  7.73366451,  2.28064108],\n",
       "           [ 4.5531497 ,  8.81365967,  3.1586175 ],\n",
       "           [ 2.47189689,  5.3288784 ,  1.95598435]]], dtype=float32),\n",
       "   array([[[-2.28044844,  0.49457717, -1.9583627 ],\n",
       "           [-5.48278618, -1.74174953, -5.09784126],\n",
       "           [-6.31425667, -2.77920866, -5.79542685],\n",
       "           ..., \n",
       "           [-6.31425667, -2.77920866, -5.79542685],\n",
       "           [-5.46829748, -1.76422811, -4.95740986],\n",
       "           [-4.30620766, -1.82883024, -3.61231971]],\n",
       "   \n",
       "          [[ 0.20059264,  4.36650085, -0.24547505],\n",
       "           [-2.58756208,  3.0385077 , -3.45700693],\n",
       "           [-3.64870238,  1.67860866, -4.39372253],\n",
       "           ..., \n",
       "           [-3.64870238,  1.67860866, -4.39372253],\n",
       "           [-2.31245565,  3.29749918, -3.03393006],\n",
       "           [-2.57740641,  1.1649667 , -2.48324513]],\n",
       "   \n",
       "          [[ 1.52714419,  5.69832039,  0.62802637],\n",
       "           [-0.68558073,  4.94700241, -2.27060366],\n",
       "           [-1.85801291,  3.4586494 , -3.34421706],\n",
       "           ..., \n",
       "           [-1.85801291,  3.4586494 , -3.34421706],\n",
       "           [-0.52453709,  5.09367609, -1.91807961],\n",
       "           [-1.65465999,  2.05710411, -1.91462374]],\n",
       "   \n",
       "          ..., \n",
       "          [[ 1.52714419,  5.69832039,  0.62802637],\n",
       "           [-0.68558073,  4.94700241, -2.27060366],\n",
       "           [-1.85801291,  3.4586494 , -3.34421706],\n",
       "           ..., \n",
       "           [-1.85801291,  3.4586494 , -3.34421706],\n",
       "           [-0.52453709,  5.09367609, -1.91807961],\n",
       "           [-1.65465999,  2.05710411, -1.91462374]],\n",
       "   \n",
       "          [[ 1.78585649,  5.97109222,  1.00246167],\n",
       "           [ 0.22617602,  5.91436672, -1.24965966],\n",
       "           [-0.86797071,  4.49914694, -2.23730707],\n",
       "           ..., \n",
       "           [-0.86797071,  4.49914694, -2.23730707],\n",
       "           [ 0.35217339,  6.05464506, -0.97702229],\n",
       "           [-0.94428313,  2.85663223, -1.20831323]],\n",
       "   \n",
       "          [[ 3.98033881,  7.057652  ,  3.14730716],\n",
       "           [ 4.38331318,  8.61648941,  2.90633965],\n",
       "           [ 3.71419668,  7.73366451,  2.28064108],\n",
       "           ..., \n",
       "           [ 3.71419668,  7.73366451,  2.28064108],\n",
       "           [ 4.5531497 ,  8.81365967,  3.1586175 ],\n",
       "           [ 2.47189689,  5.3288784 ,  1.95598435]]], dtype=float32),\n",
       "   array([[[-2.28044844,  0.49457717, -1.9583627 ],\n",
       "           [-5.48278618, -1.74174953, -5.09784126],\n",
       "           [-6.31425667, -2.77920866, -5.79542685],\n",
       "           ..., \n",
       "           [-6.31425667, -2.77920866, -5.79542685],\n",
       "           [-5.46829748, -1.76422811, -4.95740986],\n",
       "           [-4.30620766, -1.82883024, -3.61231971]],\n",
       "   \n",
       "          [[ 0.20059264,  4.36650085, -0.24547505],\n",
       "           [-2.58756208,  3.0385077 , -3.45700693],\n",
       "           [-3.64870238,  1.67860866, -4.39372253],\n",
       "           ..., \n",
       "           [-3.64870238,  1.67860866, -4.39372253],\n",
       "           [-2.31245565,  3.29749918, -3.03393006],\n",
       "           [-2.57740641,  1.1649667 , -2.48324513]],\n",
       "   \n",
       "          [[ 1.52714419,  5.69832039,  0.62802637],\n",
       "           [-0.68558073,  4.94700241, -2.27060366],\n",
       "           [-1.85801291,  3.4586494 , -3.34421706],\n",
       "           ..., \n",
       "           [-1.85801291,  3.4586494 , -3.34421706],\n",
       "           [-0.52453709,  5.09367609, -1.91807961],\n",
       "           [-1.65465999,  2.05710411, -1.91462374]],\n",
       "   \n",
       "          ..., \n",
       "          [[ 1.52714419,  5.69832039,  0.62802637],\n",
       "           [-0.68558073,  4.94700241, -2.27060366],\n",
       "           [-1.85801291,  3.4586494 , -3.34421706],\n",
       "           ..., \n",
       "           [-1.85801291,  3.4586494 , -3.34421706],\n",
       "           [-0.52453709,  5.09367609, -1.91807961],\n",
       "           [-1.65465999,  2.05710411, -1.91462374]],\n",
       "   \n",
       "          [[ 1.78585649,  5.97109222,  1.00246167],\n",
       "           [ 0.22617602,  5.91436672, -1.24965966],\n",
       "           [-0.86797071,  4.49914694, -2.23730707],\n",
       "           ..., \n",
       "           [-0.86797071,  4.49914694, -2.23730707],\n",
       "           [ 0.35217339,  6.05464506, -0.97702229],\n",
       "           [-0.94428313,  2.85663223, -1.20831323]],\n",
       "   \n",
       "          [[ 3.98033881,  7.057652  ,  3.14730716],\n",
       "           [ 4.38331318,  8.61648941,  2.90633965],\n",
       "           [ 3.71419668,  7.73366451,  2.28064108],\n",
       "           ..., \n",
       "           [ 3.71419668,  7.73366451,  2.28064108],\n",
       "           [ 4.5531497 ,  8.81365967,  3.1586175 ],\n",
       "           [ 2.47189689,  5.3288784 ,  1.95598435]]], dtype=float32),\n",
       "   array([[[-2.28044844,  0.49457717, -1.9583627 ],\n",
       "           [-5.48278618, -1.74174953, -5.09784126],\n",
       "           [-6.31425667, -2.77920866, -5.79542685],\n",
       "           ..., \n",
       "           [-6.31425667, -2.77920866, -5.79542685],\n",
       "           [-5.46829748, -1.76422811, -4.95740986],\n",
       "           [-4.30620766, -1.82883024, -3.61231971]],\n",
       "   \n",
       "          [[ 0.20059264,  4.36650085, -0.24547505],\n",
       "           [-2.58756208,  3.0385077 , -3.45700693],\n",
       "           [-3.64870238,  1.67860866, -4.39372253],\n",
       "           ..., \n",
       "           [-3.64870238,  1.67860866, -4.39372253],\n",
       "           [-2.31245565,  3.29749918, -3.03393006],\n",
       "           [-2.57740641,  1.1649667 , -2.48324513]],\n",
       "   \n",
       "          [[ 1.52714419,  5.69832039,  0.62802637],\n",
       "           [-0.68558073,  4.94700241, -2.27060366],\n",
       "           [-1.85801291,  3.4586494 , -3.34421706],\n",
       "           ..., \n",
       "           [-1.85801291,  3.4586494 , -3.34421706],\n",
       "           [-0.52453709,  5.09367609, -1.91807961],\n",
       "           [-1.65465999,  2.05710411, -1.91462374]],\n",
       "   \n",
       "          ..., \n",
       "          [[ 1.52714419,  5.69832039,  0.62802637],\n",
       "           [-0.68558073,  4.94700241, -2.27060366],\n",
       "           [-1.85801291,  3.4586494 , -3.34421706],\n",
       "           ..., \n",
       "           [-1.85801291,  3.4586494 , -3.34421706],\n",
       "           [-0.52453709,  5.09367609, -1.91807961],\n",
       "           [-1.65465999,  2.05710411, -1.91462374]],\n",
       "   \n",
       "          [[ 1.78585649,  5.97109222,  1.00246167],\n",
       "           [ 0.22617602,  5.91436672, -1.24965966],\n",
       "           [-0.86797071,  4.49914694, -2.23730707],\n",
       "           ..., \n",
       "           [-0.86797071,  4.49914694, -2.23730707],\n",
       "           [ 0.35217339,  6.05464506, -0.97702229],\n",
       "           [-0.94428313,  2.85663223, -1.20831323]],\n",
       "   \n",
       "          [[ 3.98033881,  7.057652  ,  3.14730716],\n",
       "           [ 4.38331318,  8.61648941,  2.90633965],\n",
       "           [ 3.71419668,  7.73366451,  2.28064108],\n",
       "           ..., \n",
       "           [ 3.71419668,  7.73366451,  2.28064108],\n",
       "           [ 4.5531497 ,  8.81365967,  3.1586175 ],\n",
       "           [ 2.47189689,  5.3288784 ,  1.95598435]]], dtype=float32)],\n",
       "  array([[[ 1.,  1.,  1.],\n",
       "          [ 1.,  1.,  1.],\n",
       "          [ 1.,  1.,  1.],\n",
       "          ..., \n",
       "          [ 1.,  1.,  1.],\n",
       "          [ 1.,  1.,  1.],\n",
       "          [ 1.,  1.,  1.]],\n",
       "  \n",
       "         [[ 1.,  1.,  1.],\n",
       "          [ 1.,  1.,  1.],\n",
       "          [ 1.,  1.,  1.],\n",
       "          ..., \n",
       "          [ 1.,  1.,  1.],\n",
       "          [ 1.,  1.,  1.],\n",
       "          [ 1.,  1.,  1.]],\n",
       "  \n",
       "         [[ 1.,  1.,  1.],\n",
       "          [ 1.,  1.,  1.],\n",
       "          [ 1.,  1.,  1.],\n",
       "          ..., \n",
       "          [ 1.,  1.,  1.],\n",
       "          [ 1.,  1.,  1.],\n",
       "          [ 1.,  1.,  1.]],\n",
       "  \n",
       "         ..., \n",
       "         [[ 1.,  1.,  1.],\n",
       "          [ 1.,  1.,  1.],\n",
       "          [ 1.,  1.,  1.],\n",
       "          ..., \n",
       "          [ 1.,  1.,  1.],\n",
       "          [ 1.,  1.,  1.],\n",
       "          [ 1.,  1.,  1.]],\n",
       "  \n",
       "         [[ 1.,  1.,  1.],\n",
       "          [ 1.,  1.,  1.],\n",
       "          [ 1.,  1.,  1.],\n",
       "          ..., \n",
       "          [ 1.,  1.,  1.],\n",
       "          [ 1.,  1.,  1.],\n",
       "          [ 1.,  1.,  1.]],\n",
       "  \n",
       "         [[ 1.,  1.,  1.],\n",
       "          [ 1.,  1.,  1.],\n",
       "          [ 1.,  1.,  1.],\n",
       "          ..., \n",
       "          [ 1.,  1.,  1.],\n",
       "          [ 1.,  1.,  1.],\n",
       "          [ 1.,  1.,  1.]]])],\n",
       " [[array([[[-2.28044844,  0.49457717, -1.9583627 ],\n",
       "           [-5.48278618, -1.74174953, -5.09784126],\n",
       "           [-6.31425667, -2.77920866, -5.79542685],\n",
       "           ..., \n",
       "           [-6.31425667, -2.77920866, -5.79542685],\n",
       "           [-5.46829748, -1.76422811, -4.95740986],\n",
       "           [-4.30620766, -1.82883024, -3.61231971]],\n",
       "   \n",
       "          [[ 0.20059264,  4.36650085, -0.24547505],\n",
       "           [-2.58756208,  3.0385077 , -3.45700693],\n",
       "           [-3.64870238,  1.67860866, -4.39372253],\n",
       "           ..., \n",
       "           [-3.64870238,  1.67860866, -4.39372253],\n",
       "           [-2.31245565,  3.29749918, -3.03393006],\n",
       "           [-2.57740641,  1.1649667 , -2.48324513]],\n",
       "   \n",
       "          [[ 1.52714419,  5.69832039,  0.62802637],\n",
       "           [-0.68558073,  4.94700241, -2.27060366],\n",
       "           [-1.85801291,  3.4586494 , -3.34421706],\n",
       "           ..., \n",
       "           [-1.85801291,  3.4586494 , -3.34421706],\n",
       "           [-0.52453709,  5.09367609, -1.91807961],\n",
       "           [-1.65465999,  2.05710411, -1.91462374]],\n",
       "   \n",
       "          ..., \n",
       "          [[ 1.52714419,  5.69832039,  0.62802637],\n",
       "           [-0.68558073,  4.94700241, -2.27060366],\n",
       "           [-1.85801291,  3.4586494 , -3.34421706],\n",
       "           ..., \n",
       "           [-1.85801291,  3.4586494 , -3.34421706],\n",
       "           [-0.52453709,  5.09367609, -1.91807961],\n",
       "           [-1.65465999,  2.05710411, -1.91462374]],\n",
       "   \n",
       "          [[ 1.78585649,  5.97109222,  1.00246167],\n",
       "           [ 0.22617602,  5.91436672, -1.24965966],\n",
       "           [-0.86797071,  4.49914694, -2.23730707],\n",
       "           ..., \n",
       "           [-0.86797071,  4.49914694, -2.23730707],\n",
       "           [ 0.35217339,  6.05464506, -0.97702229],\n",
       "           [-0.94428313,  2.85663223, -1.20831323]],\n",
       "   \n",
       "          [[ 3.98033881,  7.057652  ,  3.14730716],\n",
       "           [ 4.38331318,  8.61648941,  2.90633965],\n",
       "           [ 3.71419668,  7.73366451,  2.28064108],\n",
       "           ..., \n",
       "           [ 3.71419668,  7.73366451,  2.28064108],\n",
       "           [ 4.5531497 ,  8.81365967,  3.1586175 ],\n",
       "           [ 2.47189689,  5.3288784 ,  1.95598435]]], dtype=float32),\n",
       "   array([[[-2.28044844,  0.49457717, -1.9583627 ],\n",
       "           [-5.48278618, -1.74174953, -5.09784126],\n",
       "           [-6.31425667, -2.77920866, -5.79542685],\n",
       "           ..., \n",
       "           [-4.46262503, -0.77540874, -4.44567013],\n",
       "           [ 0.53354204,  4.66960716, -0.2232182 ],\n",
       "           [ 0.05982906,  2.70758986, -0.11790776]],\n",
       "   \n",
       "          [[ 0.20059264,  4.36650085, -0.24547505],\n",
       "           [-2.58756208,  3.0385077 , -3.45700693],\n",
       "           [-3.64870238,  1.67860866, -4.39372253],\n",
       "           ..., \n",
       "           [-3.96618843,  1.44007564, -5.09960365],\n",
       "           [ 2.58172822,  8.68701744,  0.38904852],\n",
       "           [ 2.11890531,  6.11169147,  1.09202051]],\n",
       "   \n",
       "          [[ 1.52714419,  5.69832039,  0.62802637],\n",
       "           [-0.68558073,  4.94700241, -2.27060366],\n",
       "           [-1.85801291,  3.4586494 , -3.34421706],\n",
       "           ..., \n",
       "           [-4.89764023,  0.27231157, -6.13741446],\n",
       "           [-1.26876545,  4.4334197 , -2.88815641],\n",
       "           [-1.25157928,  2.49246454, -1.77998865]],\n",
       "   \n",
       "          ..., \n",
       "          [[ 1.52714419,  5.69832039,  0.62802637],\n",
       "           [-0.68558073,  4.94700241, -2.27060366],\n",
       "           [-1.85801291,  3.4586494 , -3.34421706],\n",
       "           ..., \n",
       "           [-1.85801291,  3.4586494 , -3.34421706],\n",
       "           [-0.52453709,  5.09367609, -1.91807961],\n",
       "           [-1.65465999,  2.05710411, -1.91462374]],\n",
       "   \n",
       "          [[ 1.78585649,  5.97109222,  1.00246167],\n",
       "           [ 0.22617602,  5.91436672, -1.24965966],\n",
       "           [-0.86797071,  4.49914694, -2.23730707],\n",
       "           ..., \n",
       "           [-0.86797071,  4.49914694, -2.23730707],\n",
       "           [ 0.35217339,  6.05464506, -0.97702229],\n",
       "           [-0.94428313,  2.85663223, -1.20831323]],\n",
       "   \n",
       "          [[ 3.98033881,  7.057652  ,  3.14730716],\n",
       "           [ 4.38331318,  8.61648941,  2.90633965],\n",
       "           [ 3.71419668,  7.73366451,  2.28064108],\n",
       "           ..., \n",
       "           [ 3.71419668,  7.73366451,  2.28064108],\n",
       "           [ 4.5531497 ,  8.81365967,  3.1586175 ],\n",
       "           [ 2.47189689,  5.3288784 ,  1.95598435]]], dtype=float32),\n",
       "   array([[[-2.28044844,  0.49457717, -1.9583627 ],\n",
       "           [-5.48278618, -1.74174953, -5.09784126],\n",
       "           [-6.31425667, -2.77920866, -5.79542685],\n",
       "           ..., \n",
       "           [-6.31425667, -2.77920866, -5.79542685],\n",
       "           [-5.46829748, -1.76422811, -4.95740986],\n",
       "           [-4.30620766, -1.82883024, -3.61231971]],\n",
       "   \n",
       "          [[ 0.20059264,  4.36650085, -0.24547505],\n",
       "           [-2.58756208,  3.0385077 , -3.45700693],\n",
       "           [-3.64870238,  1.67860866, -4.39372253],\n",
       "           ..., \n",
       "           [-3.64870238,  1.67860866, -4.39372253],\n",
       "           [-2.31245565,  3.29749918, -3.03393006],\n",
       "           [-2.57740641,  1.1649667 , -2.48324513]],\n",
       "   \n",
       "          [[ 1.52714419,  5.69832039,  0.62802637],\n",
       "           [-0.68558073,  4.94700241, -2.27060366],\n",
       "           [-1.85801291,  3.4586494 , -3.34421706],\n",
       "           ..., \n",
       "           [-1.85801291,  3.4586494 , -3.34421706],\n",
       "           [-0.52453709,  5.09367609, -1.91807961],\n",
       "           [-1.65465999,  2.05710411, -1.91462374]],\n",
       "   \n",
       "          ..., \n",
       "          [[ 1.52714419,  5.69832039,  0.62802637],\n",
       "           [-0.68558073,  4.94700241, -2.27060366],\n",
       "           [-1.85801291,  3.4586494 , -3.34421706],\n",
       "           ..., \n",
       "           [-1.85801291,  3.4586494 , -3.34421706],\n",
       "           [-0.52453709,  5.09367609, -1.91807961],\n",
       "           [-1.65465999,  2.05710411, -1.91462374]],\n",
       "   \n",
       "          [[ 1.78585649,  5.97109222,  1.00246167],\n",
       "           [ 0.22617602,  5.91436672, -1.24965966],\n",
       "           [-0.86797071,  4.49914694, -2.23730707],\n",
       "           ..., \n",
       "           [-0.86797071,  4.49914694, -2.23730707],\n",
       "           [ 0.35217339,  6.05464506, -0.97702229],\n",
       "           [-0.94428313,  2.85663223, -1.20831323]],\n",
       "   \n",
       "          [[ 3.98033881,  7.057652  ,  3.14730716],\n",
       "           [ 4.38331318,  8.61648941,  2.90633965],\n",
       "           [ 3.71419668,  7.73366451,  2.28064108],\n",
       "           ..., \n",
       "           [ 3.71419668,  7.73366451,  2.28064108],\n",
       "           [ 4.5531497 ,  8.81365967,  3.1586175 ],\n",
       "           [ 2.47189689,  5.3288784 ,  1.95598435]]], dtype=float32),\n",
       "   array([[[-2.28044844,  0.49457717, -1.9583627 ],\n",
       "           [-5.48278618, -1.74174953, -5.09784126],\n",
       "           [-6.31425667, -2.77920866, -5.79542685],\n",
       "           ..., \n",
       "           [-6.31425667, -2.77920866, -5.79542685],\n",
       "           [-5.46829748, -1.76422811, -4.95740986],\n",
       "           [-4.30620766, -1.82883024, -3.61231971]],\n",
       "   \n",
       "          [[ 0.20059264,  4.36650085, -0.24547505],\n",
       "           [-2.58756208,  3.0385077 , -3.45700693],\n",
       "           [-3.64870238,  1.67860866, -4.39372253],\n",
       "           ..., \n",
       "           [-3.64870238,  1.67860866, -4.39372253],\n",
       "           [-2.31245565,  3.29749918, -3.03393006],\n",
       "           [-2.57740641,  1.1649667 , -2.48324513]],\n",
       "   \n",
       "          [[ 1.52714419,  5.69832039,  0.62802637],\n",
       "           [-0.68558073,  4.94700241, -2.27060366],\n",
       "           [-1.85801291,  3.4586494 , -3.34421706],\n",
       "           ..., \n",
       "           [-1.85801291,  3.4586494 , -3.34421706],\n",
       "           [-0.52453709,  5.09367609, -1.91807961],\n",
       "           [-1.65465999,  2.05710411, -1.91462374]],\n",
       "   \n",
       "          ..., \n",
       "          [[ 1.52714419,  5.69832039,  0.62802637],\n",
       "           [-0.68558073,  4.94700241, -2.27060366],\n",
       "           [-1.85801291,  3.4586494 , -3.34421706],\n",
       "           ..., \n",
       "           [-1.85801291,  3.4586494 , -3.34421706],\n",
       "           [-0.52453709,  5.09367609, -1.91807961],\n",
       "           [-1.65465999,  2.05710411, -1.91462374]],\n",
       "   \n",
       "          [[ 1.78585649,  5.97109222,  1.00246167],\n",
       "           [ 0.22617602,  5.91436672, -1.24965966],\n",
       "           [-0.86797071,  4.49914694, -2.23730707],\n",
       "           ..., \n",
       "           [-0.86797071,  4.49914694, -2.23730707],\n",
       "           [ 0.35217339,  6.05464506, -0.97702229],\n",
       "           [-0.94428313,  2.85663223, -1.20831323]],\n",
       "   \n",
       "          [[ 3.98033881,  7.057652  ,  3.14730716],\n",
       "           [ 4.38331318,  8.61648941,  2.90633965],\n",
       "           [ 3.71419668,  7.73366451,  2.28064108],\n",
       "           ..., \n",
       "           [ 3.71419668,  7.73366451,  2.28064108],\n",
       "           [ 4.5531497 ,  8.81365967,  3.1586175 ],\n",
       "           [ 2.47189689,  5.3288784 ,  1.95598435]]], dtype=float32),\n",
       "   array([[[-2.28044844,  0.49457717, -1.9583627 ],\n",
       "           [-5.48278618, -1.74174953, -5.09784126],\n",
       "           [-6.31425667, -2.77920866, -5.79542685],\n",
       "           ..., \n",
       "           [-6.31425667, -2.77920866, -5.79542685],\n",
       "           [-5.46829748, -1.76422811, -4.95740986],\n",
       "           [-4.30620766, -1.82883024, -3.61231971]],\n",
       "   \n",
       "          [[ 0.20059264,  4.36650085, -0.24547505],\n",
       "           [-2.58756208,  3.0385077 , -3.45700693],\n",
       "           [-3.64870238,  1.67860866, -4.39372253],\n",
       "           ..., \n",
       "           [-3.64870238,  1.67860866, -4.39372253],\n",
       "           [-2.31245565,  3.29749918, -3.03393006],\n",
       "           [-2.57740641,  1.1649667 , -2.48324513]],\n",
       "   \n",
       "          [[ 1.52714419,  5.69832039,  0.62802637],\n",
       "           [-0.68558073,  4.94700241, -2.27060366],\n",
       "           [-1.85801291,  3.4586494 , -3.34421706],\n",
       "           ..., \n",
       "           [-1.85801291,  3.4586494 , -3.34421706],\n",
       "           [-0.52453709,  5.09367609, -1.91807961],\n",
       "           [-1.65465999,  2.05710411, -1.91462374]],\n",
       "   \n",
       "          ..., \n",
       "          [[ 1.52714419,  5.69832039,  0.62802637],\n",
       "           [-0.68558073,  4.94700241, -2.27060366],\n",
       "           [-1.85801291,  3.4586494 , -3.34421706],\n",
       "           ..., \n",
       "           [-1.85801291,  3.4586494 , -3.34421706],\n",
       "           [-0.52453709,  5.09367609, -1.91807961],\n",
       "           [-1.65465999,  2.05710411, -1.91462374]],\n",
       "   \n",
       "          [[ 1.78585649,  5.97109222,  1.00246167],\n",
       "           [ 0.22617602,  5.91436672, -1.24965966],\n",
       "           [-0.86797071,  4.49914694, -2.23730707],\n",
       "           ..., \n",
       "           [-0.86797071,  4.49914694, -2.23730707],\n",
       "           [ 0.35217339,  6.05464506, -0.97702229],\n",
       "           [-0.94428313,  2.85663223, -1.20831323]],\n",
       "   \n",
       "          [[ 3.98033881,  7.057652  ,  3.14730716],\n",
       "           [ 4.38331318,  8.61648941,  2.90633965],\n",
       "           [ 3.71419668,  7.73366451,  2.28064108],\n",
       "           ..., \n",
       "           [ 3.71419668,  7.73366451,  2.28064108],\n",
       "           [ 4.5531497 ,  8.81365967,  3.1586175 ],\n",
       "           [ 2.47189689,  5.3288784 ,  1.95598435]]], dtype=float32)],\n",
       "  array([[[ 1.,  1.,  1.],\n",
       "          [ 1.,  1.,  1.],\n",
       "          [ 1.,  1.,  1.],\n",
       "          ..., \n",
       "          [ 1.,  1.,  1.],\n",
       "          [ 1.,  1.,  1.],\n",
       "          [ 1.,  1.,  1.]],\n",
       "  \n",
       "         [[ 1.,  1.,  1.],\n",
       "          [ 1.,  1.,  1.],\n",
       "          [ 1.,  1.,  1.],\n",
       "          ..., \n",
       "          [ 1.,  1.,  1.],\n",
       "          [ 1.,  1.,  1.],\n",
       "          [ 1.,  1.,  1.]],\n",
       "  \n",
       "         [[ 1.,  1.,  1.],\n",
       "          [ 1.,  1.,  1.],\n",
       "          [ 1.,  1.,  1.],\n",
       "          ..., \n",
       "          [ 1.,  1.,  1.],\n",
       "          [ 1.,  1.,  1.],\n",
       "          [ 1.,  1.,  1.]],\n",
       "  \n",
       "         ..., \n",
       "         [[ 1.,  1.,  1.],\n",
       "          [ 1.,  1.,  1.],\n",
       "          [ 1.,  1.,  1.],\n",
       "          ..., \n",
       "          [ 1.,  1.,  1.],\n",
       "          [ 1.,  1.,  1.],\n",
       "          [ 1.,  1.,  1.]],\n",
       "  \n",
       "         [[ 1.,  1.,  1.],\n",
       "          [ 1.,  1.,  1.],\n",
       "          [ 1.,  1.,  1.],\n",
       "          ..., \n",
       "          [ 1.,  1.,  1.],\n",
       "          [ 1.,  1.,  1.],\n",
       "          [ 1.,  1.,  1.]],\n",
       "  \n",
       "         [[ 1.,  1.,  1.],\n",
       "          [ 1.,  1.,  1.],\n",
       "          [ 1.,  1.,  1.],\n",
       "          ..., \n",
       "          [ 1.,  1.,  1.],\n",
       "          [ 1.,  1.,  1.],\n",
       "          [ 1.,  1.,  1.]]])],\n",
       " [[array([[[-2.28044844,  0.49457717, -1.9583627 ],\n",
       "           [-5.48278618, -1.74174953, -5.09784126],\n",
       "           [-6.31425667, -2.77920866, -5.79542685],\n",
       "           ..., \n",
       "           [-6.31425667, -2.77920866, -5.79542685],\n",
       "           [-5.46829748, -1.76422811, -4.95740986],\n",
       "           [-4.30620766, -1.82883024, -3.61231971]],\n",
       "   \n",
       "          [[ 0.20059264,  4.36650085, -0.24547505],\n",
       "           [-2.58756208,  3.0385077 , -3.45700693],\n",
       "           [-3.64870238,  1.67860866, -4.39372253],\n",
       "           ..., \n",
       "           [-3.64870238,  1.67860866, -4.39372253],\n",
       "           [-2.31245565,  3.29749918, -3.03393006],\n",
       "           [-2.57740641,  1.1649667 , -2.48324513]],\n",
       "   \n",
       "          [[ 1.52714419,  5.69832039,  0.62802637],\n",
       "           [-0.68558073,  4.94700241, -2.27060366],\n",
       "           [-1.85801291,  3.4586494 , -3.34421706],\n",
       "           ..., \n",
       "           [-1.85801291,  3.4586494 , -3.34421706],\n",
       "           [-0.52453709,  5.09367609, -1.91807961],\n",
       "           [-1.65465999,  2.05710411, -1.91462374]],\n",
       "   \n",
       "          ..., \n",
       "          [[ 1.52714419,  5.69832039,  0.62802637],\n",
       "           [-0.68558073,  4.94700241, -2.27060366],\n",
       "           [-1.85801291,  3.4586494 , -3.34421706],\n",
       "           ..., \n",
       "           [-1.85801291,  3.4586494 , -3.34421706],\n",
       "           [-0.52453709,  5.09367609, -1.91807961],\n",
       "           [-1.65465999,  2.05710411, -1.91462374]],\n",
       "   \n",
       "          [[ 1.78585649,  5.97109222,  1.00246167],\n",
       "           [ 0.22617602,  5.91436672, -1.24965966],\n",
       "           [-0.86797071,  4.49914694, -2.23730707],\n",
       "           ..., \n",
       "           [-0.86797071,  4.49914694, -2.23730707],\n",
       "           [ 0.35217339,  6.05464506, -0.97702229],\n",
       "           [-0.94428313,  2.85663223, -1.20831323]],\n",
       "   \n",
       "          [[ 3.98033881,  7.057652  ,  3.14730716],\n",
       "           [ 4.38331318,  8.61648941,  2.90633965],\n",
       "           [ 3.71419668,  7.73366451,  2.28064108],\n",
       "           ..., \n",
       "           [ 3.71419668,  7.73366451,  2.28064108],\n",
       "           [ 4.5531497 ,  8.81365967,  3.1586175 ],\n",
       "           [ 2.47189689,  5.3288784 ,  1.95598435]]], dtype=float32),\n",
       "   array([[[-2.28044844,  0.49457717, -1.9583627 ],\n",
       "           [-5.48278618, -1.74174953, -5.09784126],\n",
       "           [-6.31425667, -2.77920866, -5.79542685],\n",
       "           ..., \n",
       "           [-4.46262503, -0.77540874, -4.44567013],\n",
       "           [ 0.53354204,  4.66960716, -0.2232182 ],\n",
       "           [ 0.05982906,  2.70758986, -0.11790776]],\n",
       "   \n",
       "          [[ 0.20059264,  4.36650085, -0.24547505],\n",
       "           [-2.58756208,  3.0385077 , -3.45700693],\n",
       "           [-3.64870238,  1.67860866, -4.39372253],\n",
       "           ..., \n",
       "           [-3.96618843,  1.44007564, -5.09960365],\n",
       "           [ 2.58172822,  8.68701744,  0.38904852],\n",
       "           [ 2.11890531,  6.11169147,  1.09202051]],\n",
       "   \n",
       "          [[ 1.52714419,  5.69832039,  0.62802637],\n",
       "           [-0.68558073,  4.94700241, -2.27060366],\n",
       "           [-1.85801291,  3.4586494 , -3.34421706],\n",
       "           ..., \n",
       "           [-4.89764023,  0.27231157, -6.13741446],\n",
       "           [-1.26876545,  4.4334197 , -2.88815641],\n",
       "           [-1.25157928,  2.49246454, -1.77998865]],\n",
       "   \n",
       "          ..., \n",
       "          [[ 1.52714419,  5.69832039,  0.62802637],\n",
       "           [-0.68558073,  4.94700241, -2.27060366],\n",
       "           [-1.85801291,  3.4586494 , -3.34421706],\n",
       "           ..., \n",
       "           [-1.85801291,  3.4586494 , -3.34421706],\n",
       "           [-0.52453709,  5.09367609, -1.91807961],\n",
       "           [-1.65465999,  2.05710411, -1.91462374]],\n",
       "   \n",
       "          [[ 1.78585649,  5.97109222,  1.00246167],\n",
       "           [ 0.22617602,  5.91436672, -1.24965966],\n",
       "           [-0.86797071,  4.49914694, -2.23730707],\n",
       "           ..., \n",
       "           [-0.86797071,  4.49914694, -2.23730707],\n",
       "           [ 0.35217339,  6.05464506, -0.97702229],\n",
       "           [-0.94428313,  2.85663223, -1.20831323]],\n",
       "   \n",
       "          [[ 3.98033881,  7.057652  ,  3.14730716],\n",
       "           [ 4.38331318,  8.61648941,  2.90633965],\n",
       "           [ 3.71419668,  7.73366451,  2.28064108],\n",
       "           ..., \n",
       "           [ 3.71419668,  7.73366451,  2.28064108],\n",
       "           [ 4.5531497 ,  8.81365967,  3.1586175 ],\n",
       "           [ 2.47189689,  5.3288784 ,  1.95598435]]], dtype=float32),\n",
       "   array([[[-2.28044844,  0.49457717, -1.9583627 ],\n",
       "           [-5.48278618, -1.74174953, -5.09784126],\n",
       "           [-6.31425667, -2.77920866, -5.79542685],\n",
       "           ..., \n",
       "           [-6.31425667, -2.77920866, -5.79542685],\n",
       "           [-5.46829748, -1.76422811, -4.95740986],\n",
       "           [-4.30620766, -1.82883024, -3.61231971]],\n",
       "   \n",
       "          [[ 0.20059264,  4.36650085, -0.24547505],\n",
       "           [-2.58756208,  3.0385077 , -3.45700693],\n",
       "           [-3.64870238,  1.67860866, -4.39372253],\n",
       "           ..., \n",
       "           [-3.64870238,  1.67860866, -4.39372253],\n",
       "           [-2.31245565,  3.29749918, -3.03393006],\n",
       "           [-2.57740641,  1.1649667 , -2.48324513]],\n",
       "   \n",
       "          [[ 1.52714419,  5.69832039,  0.62802637],\n",
       "           [-0.68558073,  4.94700241, -2.27060366],\n",
       "           [-1.85801291,  3.4586494 , -3.34421706],\n",
       "           ..., \n",
       "           [-1.85801291,  3.4586494 , -3.34421706],\n",
       "           [-0.52453709,  5.09367609, -1.91807961],\n",
       "           [-1.65465999,  2.05710411, -1.91462374]],\n",
       "   \n",
       "          ..., \n",
       "          [[ 1.52714419,  5.69832039,  0.62802637],\n",
       "           [-0.68558073,  4.94700241, -2.27060366],\n",
       "           [-1.85801291,  3.4586494 , -3.34421706],\n",
       "           ..., \n",
       "           [-1.85801291,  3.4586494 , -3.34421706],\n",
       "           [-0.52453709,  5.09367609, -1.91807961],\n",
       "           [-1.65465999,  2.05710411, -1.91462374]],\n",
       "   \n",
       "          [[ 1.78585649,  5.97109222,  1.00246167],\n",
       "           [ 0.22617602,  5.91436672, -1.24965966],\n",
       "           [-0.86797071,  4.49914694, -2.23730707],\n",
       "           ..., \n",
       "           [-0.86797071,  4.49914694, -2.23730707],\n",
       "           [ 0.35217339,  6.05464506, -0.97702229],\n",
       "           [-0.94428313,  2.85663223, -1.20831323]],\n",
       "   \n",
       "          [[ 3.98033881,  7.057652  ,  3.14730716],\n",
       "           [ 4.38331318,  8.61648941,  2.90633965],\n",
       "           [ 3.71419668,  7.73366451,  2.28064108],\n",
       "           ..., \n",
       "           [ 3.71419668,  7.73366451,  2.28064108],\n",
       "           [ 4.5531497 ,  8.81365967,  3.1586175 ],\n",
       "           [ 2.47189689,  5.3288784 ,  1.95598435]]], dtype=float32),\n",
       "   array([[[-2.28044844,  0.49457717, -1.9583627 ],\n",
       "           [-5.48278618, -1.74174953, -5.09784126],\n",
       "           [-6.31425667, -2.77920866, -5.79542685],\n",
       "           ..., \n",
       "           [-6.31425667, -2.77920866, -5.79542685],\n",
       "           [-5.46829748, -1.76422811, -4.95740986],\n",
       "           [-4.30620766, -1.82883024, -3.61231971]],\n",
       "   \n",
       "          [[ 0.20059264,  4.36650085, -0.24547505],\n",
       "           [-2.58756208,  3.0385077 , -3.45700693],\n",
       "           [-3.64870238,  1.67860866, -4.39372253],\n",
       "           ..., \n",
       "           [-3.64870238,  1.67860866, -4.39372253],\n",
       "           [-2.31245565,  3.29749918, -3.03393006],\n",
       "           [-2.57740641,  1.1649667 , -2.48324513]],\n",
       "   \n",
       "          [[ 1.52714419,  5.69832039,  0.62802637],\n",
       "           [-0.68558073,  4.94700241, -2.27060366],\n",
       "           [-1.85801291,  3.4586494 , -3.34421706],\n",
       "           ..., \n",
       "           [-1.85801291,  3.4586494 , -3.34421706],\n",
       "           [-0.52453709,  5.09367609, -1.91807961],\n",
       "           [-1.65465999,  2.05710411, -1.91462374]],\n",
       "   \n",
       "          ..., \n",
       "          [[ 1.52714419,  5.69832039,  0.62802637],\n",
       "           [-0.68558073,  4.94700241, -2.27060366],\n",
       "           [-1.85801291,  3.4586494 , -3.34421706],\n",
       "           ..., \n",
       "           [-1.85801291,  3.4586494 , -3.34421706],\n",
       "           [-0.52453709,  5.09367609, -1.91807961],\n",
       "           [-1.65465999,  2.05710411, -1.91462374]],\n",
       "   \n",
       "          [[ 1.78585649,  5.97109222,  1.00246167],\n",
       "           [ 0.22617602,  5.91436672, -1.24965966],\n",
       "           [-0.86797071,  4.49914694, -2.23730707],\n",
       "           ..., \n",
       "           [-0.86797071,  4.49914694, -2.23730707],\n",
       "           [ 0.35217339,  6.05464506, -0.97702229],\n",
       "           [-0.94428313,  2.85663223, -1.20831323]],\n",
       "   \n",
       "          [[ 3.98033881,  7.057652  ,  3.14730716],\n",
       "           [ 4.38331318,  8.61648941,  2.90633965],\n",
       "           [ 3.71419668,  7.73366451,  2.28064108],\n",
       "           ..., \n",
       "           [ 3.71419668,  7.73366451,  2.28064108],\n",
       "           [ 4.5531497 ,  8.81365967,  3.1586175 ],\n",
       "           [ 2.47189689,  5.3288784 ,  1.95598435]]], dtype=float32),\n",
       "   array([[[-2.28044844,  0.49457717, -1.9583627 ],\n",
       "           [-5.48278618, -1.74174953, -5.09784126],\n",
       "           [-6.31425667, -2.77920866, -5.79542685],\n",
       "           ..., \n",
       "           [-6.31425667, -2.77920866, -5.79542685],\n",
       "           [-5.46829748, -1.76422811, -4.95740986],\n",
       "           [-4.30620766, -1.82883024, -3.61231971]],\n",
       "   \n",
       "          [[ 0.20059264,  4.36650085, -0.24547505],\n",
       "           [-2.58756208,  3.0385077 , -3.45700693],\n",
       "           [-3.64870238,  1.67860866, -4.39372253],\n",
       "           ..., \n",
       "           [-3.64870238,  1.67860866, -4.39372253],\n",
       "           [-2.31245565,  3.29749918, -3.03393006],\n",
       "           [-2.57740641,  1.1649667 , -2.48324513]],\n",
       "   \n",
       "          [[ 1.52714419,  5.69832039,  0.62802637],\n",
       "           [-0.68558073,  4.94700241, -2.27060366],\n",
       "           [-1.85801291,  3.4586494 , -3.34421706],\n",
       "           ..., \n",
       "           [-1.85801291,  3.4586494 , -3.34421706],\n",
       "           [-0.52453709,  5.09367609, -1.91807961],\n",
       "           [-1.65465999,  2.05710411, -1.91462374]],\n",
       "   \n",
       "          ..., \n",
       "          [[ 1.52714419,  5.69832039,  0.62802637],\n",
       "           [-0.68558073,  4.94700241, -2.27060366],\n",
       "           [-1.85801291,  3.4586494 , -3.34421706],\n",
       "           ..., \n",
       "           [-1.85801291,  3.4586494 , -3.34421706],\n",
       "           [-0.52453709,  5.09367609, -1.91807961],\n",
       "           [-1.65465999,  2.05710411, -1.91462374]],\n",
       "   \n",
       "          [[ 1.78585649,  5.97109222,  1.00246167],\n",
       "           [ 0.22617602,  5.91436672, -1.24965966],\n",
       "           [-0.86797071,  4.49914694, -2.23730707],\n",
       "           ..., \n",
       "           [-0.86797071,  4.49914694, -2.23730707],\n",
       "           [ 0.35217339,  6.05464506, -0.97702229],\n",
       "           [-0.94428313,  2.85663223, -1.20831323]],\n",
       "   \n",
       "          [[ 3.98033881,  7.057652  ,  3.14730716],\n",
       "           [ 4.38331318,  8.61648941,  2.90633965],\n",
       "           [ 3.71419668,  7.73366451,  2.28064108],\n",
       "           ..., \n",
       "           [ 3.71419668,  7.73366451,  2.28064108],\n",
       "           [ 4.5531497 ,  8.81365967,  3.1586175 ],\n",
       "           [ 2.47189689,  5.3288784 ,  1.95598435]]], dtype=float32)],\n",
       "  array([[[ 1.,  1.,  1.],\n",
       "          [ 1.,  1.,  1.],\n",
       "          [ 1.,  1.,  1.],\n",
       "          ..., \n",
       "          [ 1.,  1.,  1.],\n",
       "          [ 1.,  1.,  1.],\n",
       "          [ 1.,  1.,  1.]],\n",
       "  \n",
       "         [[ 1.,  1.,  1.],\n",
       "          [ 1.,  1.,  1.],\n",
       "          [ 1.,  1.,  1.],\n",
       "          ..., \n",
       "          [ 1.,  1.,  1.],\n",
       "          [ 1.,  1.,  1.],\n",
       "          [ 1.,  1.,  1.]],\n",
       "  \n",
       "         [[ 1.,  1.,  1.],\n",
       "          [ 1.,  1.,  1.],\n",
       "          [ 1.,  1.,  1.],\n",
       "          ..., \n",
       "          [ 1.,  1.,  1.],\n",
       "          [ 1.,  1.,  1.],\n",
       "          [ 1.,  1.,  1.]],\n",
       "  \n",
       "         ..., \n",
       "         [[ 1.,  1.,  1.],\n",
       "          [ 1.,  1.,  1.],\n",
       "          [ 1.,  1.,  1.],\n",
       "          ..., \n",
       "          [ 1.,  1.,  1.],\n",
       "          [ 1.,  1.,  1.],\n",
       "          [ 1.,  1.,  1.]],\n",
       "  \n",
       "         [[ 1.,  1.,  1.],\n",
       "          [ 1.,  1.,  1.],\n",
       "          [ 1.,  1.,  1.],\n",
       "          ..., \n",
       "          [ 1.,  1.,  1.],\n",
       "          [ 1.,  1.,  1.],\n",
       "          [ 1.,  1.,  1.]],\n",
       "  \n",
       "         [[ 1.,  1.,  1.],\n",
       "          [ 1.,  1.,  1.],\n",
       "          [ 1.,  1.,  1.],\n",
       "          ..., \n",
       "          [ 1.,  1.,  1.],\n",
       "          [ 1.,  1.,  1.],\n",
       "          [ 1.,  1.,  1.]]])],\n",
       " [[array([[[-2.28044844,  0.49457717, -1.9583627 ],\n",
       "           [-5.48278618, -1.74174953, -5.09784126],\n",
       "           [-6.31425667, -2.77920866, -5.79542685],\n",
       "           ..., \n",
       "           [-6.31425667, -2.77920866, -5.79542685],\n",
       "           [-5.46829748, -1.76422811, -4.95740986],\n",
       "           [-4.30620766, -1.82883024, -3.61231971]],\n",
       "   \n",
       "          [[ 0.20059264,  4.36650085, -0.24547505],\n",
       "           [-2.58756208,  3.0385077 , -3.45700693],\n",
       "           [-3.64870238,  1.67860866, -4.39372253],\n",
       "           ..., \n",
       "           [-3.64870238,  1.67860866, -4.39372253],\n",
       "           [-2.31245565,  3.29749918, -3.03393006],\n",
       "           [-2.57740641,  1.1649667 , -2.48324513]],\n",
       "   \n",
       "          [[ 1.52714419,  5.69832039,  0.62802637],\n",
       "           [-0.68558073,  4.94700241, -2.27060366],\n",
       "           [-1.85801291,  3.4586494 , -3.34421706],\n",
       "           ..., \n",
       "           [-1.85801291,  3.4586494 , -3.34421706],\n",
       "           [-0.52453709,  5.09367609, -1.91807961],\n",
       "           [-1.65465999,  2.05710411, -1.91462374]],\n",
       "   \n",
       "          ..., \n",
       "          [[ 1.52714419,  5.69832039,  0.62802637],\n",
       "           [-0.68558073,  4.94700241, -2.27060366],\n",
       "           [-1.85801291,  3.4586494 , -3.34421706],\n",
       "           ..., \n",
       "           [-1.85801291,  3.4586494 , -3.34421706],\n",
       "           [-0.52453709,  5.09367609, -1.91807961],\n",
       "           [-1.65465999,  2.05710411, -1.91462374]],\n",
       "   \n",
       "          [[ 1.78585649,  5.97109222,  1.00246167],\n",
       "           [ 0.22617602,  5.91436672, -1.24965966],\n",
       "           [-0.86797071,  4.49914694, -2.23730707],\n",
       "           ..., \n",
       "           [-0.86797071,  4.49914694, -2.23730707],\n",
       "           [ 0.35217339,  6.05464506, -0.97702229],\n",
       "           [-0.94428313,  2.85663223, -1.20831323]],\n",
       "   \n",
       "          [[ 3.98033881,  7.057652  ,  3.14730716],\n",
       "           [ 4.38331318,  8.61648941,  2.90633965],\n",
       "           [ 3.71419668,  7.73366451,  2.28064108],\n",
       "           ..., \n",
       "           [ 3.71419668,  7.73366451,  2.28064108],\n",
       "           [ 4.5531497 ,  8.81365967,  3.1586175 ],\n",
       "           [ 2.47189689,  5.3288784 ,  1.95598435]]], dtype=float32),\n",
       "   array([[[-2.28044844,  0.49457717, -1.9583627 ],\n",
       "           [-5.48278618, -1.74174953, -5.09784126],\n",
       "           [-6.31425667, -2.77920866, -5.79542685],\n",
       "           ..., \n",
       "           [-6.31425667, -2.77920866, -5.79542685],\n",
       "           [-5.46829748, -1.76422811, -4.95740986],\n",
       "           [-4.30620766, -1.82883024, -3.61231971]],\n",
       "   \n",
       "          [[ 0.20059264,  4.36650085, -0.24547505],\n",
       "           [-2.58756208,  3.0385077 , -3.45700693],\n",
       "           [-3.64870238,  1.67860866, -4.39372253],\n",
       "           ..., \n",
       "           [-3.64870238,  1.67860866, -4.39372253],\n",
       "           [-2.31245565,  3.29749918, -3.03393006],\n",
       "           [-2.57740641,  1.1649667 , -2.48324513]],\n",
       "   \n",
       "          [[ 1.52714419,  5.69832039,  0.62802637],\n",
       "           [-0.68558073,  4.94700241, -2.27060366],\n",
       "           [-1.85801291,  3.4586494 , -3.34421706],\n",
       "           ..., \n",
       "           [-1.85801291,  3.4586494 , -3.34421706],\n",
       "           [-0.52453709,  5.09367609, -1.91807961],\n",
       "           [-1.65465999,  2.05710411, -1.91462374]],\n",
       "   \n",
       "          ..., \n",
       "          [[ 1.52714419,  5.69832039,  0.62802637],\n",
       "           [-0.68558073,  4.94700241, -2.27060366],\n",
       "           [-1.85801291,  3.4586494 , -3.34421706],\n",
       "           ..., \n",
       "           [-1.85801291,  3.4586494 , -3.34421706],\n",
       "           [-0.52453709,  5.09367609, -1.91807961],\n",
       "           [-1.65465999,  2.05710411, -1.91462374]],\n",
       "   \n",
       "          [[ 1.78585649,  5.97109222,  1.00246167],\n",
       "           [ 0.22617602,  5.91436672, -1.24965966],\n",
       "           [-0.86797071,  4.49914694, -2.23730707],\n",
       "           ..., \n",
       "           [-0.86797071,  4.49914694, -2.23730707],\n",
       "           [ 0.35217339,  6.05464506, -0.97702229],\n",
       "           [-0.94428313,  2.85663223, -1.20831323]],\n",
       "   \n",
       "          [[ 3.98033881,  7.057652  ,  3.14730716],\n",
       "           [ 4.38331318,  8.61648941,  2.90633965],\n",
       "           [ 3.71419668,  7.73366451,  2.28064108],\n",
       "           ..., \n",
       "           [ 3.71419668,  7.73366451,  2.28064108],\n",
       "           [ 4.5531497 ,  8.81365967,  3.1586175 ],\n",
       "           [ 2.47189689,  5.3288784 ,  1.95598435]]], dtype=float32),\n",
       "   array([[[-2.28044844,  0.49457717, -1.9583627 ],\n",
       "           [-5.48278618, -1.74174953, -5.09784126],\n",
       "           [-6.31425667, -2.77920866, -5.79542685],\n",
       "           ..., \n",
       "           [-6.31425667, -2.77920866, -5.79542685],\n",
       "           [-5.46829748, -1.76422811, -4.95740986],\n",
       "           [-4.30620766, -1.82883024, -3.61231971]],\n",
       "   \n",
       "          [[ 0.20059264,  4.36650085, -0.24547505],\n",
       "           [-2.58756208,  3.0385077 , -3.45700693],\n",
       "           [-3.64870238,  1.67860866, -4.39372253],\n",
       "           ..., \n",
       "           [-3.64870238,  1.67860866, -4.39372253],\n",
       "           [-2.31245565,  3.29749918, -3.03393006],\n",
       "           [-2.57740641,  1.1649667 , -2.48324513]],\n",
       "   \n",
       "          [[ 1.52714419,  5.69832039,  0.62802637],\n",
       "           [-0.68558073,  4.94700241, -2.27060366],\n",
       "           [-1.85801291,  3.4586494 , -3.34421706],\n",
       "           ..., \n",
       "           [-1.85801291,  3.4586494 , -3.34421706],\n",
       "           [-0.52453709,  5.09367609, -1.91807961],\n",
       "           [-1.65465999,  2.05710411, -1.91462374]],\n",
       "   \n",
       "          ..., \n",
       "          [[ 1.52714419,  5.69832039,  0.62802637],\n",
       "           [-0.68558073,  4.94700241, -2.27060366],\n",
       "           [-1.85801291,  3.4586494 , -3.34421706],\n",
       "           ..., \n",
       "           [-1.85801291,  3.4586494 , -3.34421706],\n",
       "           [-0.52453709,  5.09367609, -1.91807961],\n",
       "           [-1.65465999,  2.05710411, -1.91462374]],\n",
       "   \n",
       "          [[ 1.78585649,  5.97109222,  1.00246167],\n",
       "           [ 0.22617602,  5.91436672, -1.24965966],\n",
       "           [-0.86797071,  4.49914694, -2.23730707],\n",
       "           ..., \n",
       "           [-0.86797071,  4.49914694, -2.23730707],\n",
       "           [ 0.35217339,  6.05464506, -0.97702229],\n",
       "           [-0.94428313,  2.85663223, -1.20831323]],\n",
       "   \n",
       "          [[ 3.98033881,  7.057652  ,  3.14730716],\n",
       "           [ 4.38331318,  8.61648941,  2.90633965],\n",
       "           [ 3.71419668,  7.73366451,  2.28064108],\n",
       "           ..., \n",
       "           [ 3.71419668,  7.73366451,  2.28064108],\n",
       "           [ 4.5531497 ,  8.81365967,  3.1586175 ],\n",
       "           [ 2.47189689,  5.3288784 ,  1.95598435]]], dtype=float32),\n",
       "   array([[[-2.28044844,  0.49457717, -1.9583627 ],\n",
       "           [-5.48278618, -1.74174953, -5.09784126],\n",
       "           [-6.31425667, -2.77920866, -5.79542685],\n",
       "           ..., \n",
       "           [-6.31425667, -2.77920866, -5.79542685],\n",
       "           [-5.46829748, -1.76422811, -4.95740986],\n",
       "           [-4.30620766, -1.82883024, -3.61231971]],\n",
       "   \n",
       "          [[ 0.20059264,  4.36650085, -0.24547505],\n",
       "           [-2.58756208,  3.0385077 , -3.45700693],\n",
       "           [-3.64870238,  1.67860866, -4.39372253],\n",
       "           ..., \n",
       "           [-3.64870238,  1.67860866, -4.39372253],\n",
       "           [-2.31245565,  3.29749918, -3.03393006],\n",
       "           [-2.57740641,  1.1649667 , -2.48324513]],\n",
       "   \n",
       "          [[ 1.52714419,  5.69832039,  0.62802637],\n",
       "           [-0.68558073,  4.94700241, -2.27060366],\n",
       "           [-1.85801291,  3.4586494 , -3.34421706],\n",
       "           ..., \n",
       "           [-1.85801291,  3.4586494 , -3.34421706],\n",
       "           [-0.52453709,  5.09367609, -1.91807961],\n",
       "           [-1.65465999,  2.05710411, -1.91462374]],\n",
       "   \n",
       "          ..., \n",
       "          [[ 1.52714419,  5.69832039,  0.62802637],\n",
       "           [-0.68558073,  4.94700241, -2.27060366],\n",
       "           [-1.85801291,  3.4586494 , -3.34421706],\n",
       "           ..., \n",
       "           [-1.85801291,  3.4586494 , -3.34421706],\n",
       "           [-0.52453709,  5.09367609, -1.91807961],\n",
       "           [-1.65465999,  2.05710411, -1.91462374]],\n",
       "   \n",
       "          [[ 1.78585649,  5.97109222,  1.00246167],\n",
       "           [ 0.22617602,  5.91436672, -1.24965966],\n",
       "           [-0.86797071,  4.49914694, -2.23730707],\n",
       "           ..., \n",
       "           [-0.86797071,  4.49914694, -2.23730707],\n",
       "           [ 0.35217339,  6.05464506, -0.97702229],\n",
       "           [-0.94428313,  2.85663223, -1.20831323]],\n",
       "   \n",
       "          [[ 3.98033881,  7.057652  ,  3.14730716],\n",
       "           [ 4.38331318,  8.61648941,  2.90633965],\n",
       "           [ 3.71419668,  7.73366451,  2.28064108],\n",
       "           ..., \n",
       "           [ 3.71419668,  7.73366451,  2.28064108],\n",
       "           [ 4.5531497 ,  8.81365967,  3.1586175 ],\n",
       "           [ 2.47189689,  5.3288784 ,  1.95598435]]], dtype=float32),\n",
       "   array([[[-2.28044844,  0.49457717, -1.9583627 ],\n",
       "           [-5.48278618, -1.74174953, -5.09784126],\n",
       "           [-6.31425667, -2.77920866, -5.79542685],\n",
       "           ..., \n",
       "           [-6.31425667, -2.77920866, -5.79542685],\n",
       "           [-5.46829748, -1.76422811, -4.95740986],\n",
       "           [-4.30620766, -1.82883024, -3.61231971]],\n",
       "   \n",
       "          [[ 0.20059264,  4.36650085, -0.24547505],\n",
       "           [-2.58756208,  3.0385077 , -3.45700693],\n",
       "           [-3.64870238,  1.67860866, -4.39372253],\n",
       "           ..., \n",
       "           [-3.64870238,  1.67860866, -4.39372253],\n",
       "           [-2.31245565,  3.29749918, -3.03393006],\n",
       "           [-2.57740641,  1.1649667 , -2.48324513]],\n",
       "   \n",
       "          [[ 1.52714419,  5.69832039,  0.62802637],\n",
       "           [-0.68558073,  4.94700241, -2.27060366],\n",
       "           [-1.85801291,  3.4586494 , -3.34421706],\n",
       "           ..., \n",
       "           [-1.85801291,  3.4586494 , -3.34421706],\n",
       "           [-0.52453709,  5.09367609, -1.91807961],\n",
       "           [-1.65465999,  2.05710411, -1.91462374]],\n",
       "   \n",
       "          ..., \n",
       "          [[ 1.52714419,  5.69832039,  0.62802637],\n",
       "           [-0.68558073,  4.94700241, -2.27060366],\n",
       "           [-1.85801291,  3.4586494 , -3.34421706],\n",
       "           ..., \n",
       "           [-1.85801291,  3.4586494 , -3.34421706],\n",
       "           [-0.52453709,  5.09367609, -1.91807961],\n",
       "           [-1.65465999,  2.05710411, -1.91462374]],\n",
       "   \n",
       "          [[ 1.78585649,  5.97109222,  1.00246167],\n",
       "           [ 0.22617602,  5.91436672, -1.24965966],\n",
       "           [-0.86797071,  4.49914694, -2.23730707],\n",
       "           ..., \n",
       "           [-0.86797071,  4.49914694, -2.23730707],\n",
       "           [ 0.35217339,  6.05464506, -0.97702229],\n",
       "           [-0.94428313,  2.85663223, -1.20831323]],\n",
       "   \n",
       "          [[ 3.98033881,  7.057652  ,  3.14730716],\n",
       "           [ 4.38331318,  8.61648941,  2.90633965],\n",
       "           [ 3.71419668,  7.73366451,  2.28064108],\n",
       "           ..., \n",
       "           [ 3.71419668,  7.73366451,  2.28064108],\n",
       "           [ 4.5531497 ,  8.81365967,  3.1586175 ],\n",
       "           [ 2.47189689,  5.3288784 ,  1.95598435]]], dtype=float32)],\n",
       "  array([[[ 1.,  1.,  1.],\n",
       "          [ 1.,  1.,  1.],\n",
       "          [ 1.,  1.,  1.],\n",
       "          ..., \n",
       "          [ 1.,  1.,  1.],\n",
       "          [ 1.,  1.,  1.],\n",
       "          [ 1.,  1.,  1.]],\n",
       "  \n",
       "         [[ 1.,  1.,  1.],\n",
       "          [ 1.,  1.,  1.],\n",
       "          [ 1.,  1.,  1.],\n",
       "          ..., \n",
       "          [ 1.,  1.,  1.],\n",
       "          [ 1.,  1.,  1.],\n",
       "          [ 1.,  1.,  1.]],\n",
       "  \n",
       "         [[ 1.,  1.,  1.],\n",
       "          [ 1.,  1.,  1.],\n",
       "          [ 1.,  1.,  1.],\n",
       "          ..., \n",
       "          [ 1.,  1.,  1.],\n",
       "          [ 1.,  1.,  1.],\n",
       "          [ 1.,  1.,  1.]],\n",
       "  \n",
       "         ..., \n",
       "         [[ 1.,  1.,  1.],\n",
       "          [ 1.,  1.,  1.],\n",
       "          [ 1.,  1.,  1.],\n",
       "          ..., \n",
       "          [ 1.,  1.,  1.],\n",
       "          [ 1.,  1.,  1.],\n",
       "          [ 1.,  1.,  1.]],\n",
       "  \n",
       "         [[ 1.,  1.,  1.],\n",
       "          [ 1.,  1.,  1.],\n",
       "          [ 1.,  1.,  1.],\n",
       "          ..., \n",
       "          [ 1.,  1.,  1.],\n",
       "          [ 1.,  1.,  1.],\n",
       "          [ 1.,  1.,  1.]],\n",
       "  \n",
       "         [[ 1.,  1.,  1.],\n",
       "          [ 1.,  1.,  1.],\n",
       "          [ 1.,  1.,  1.],\n",
       "          ..., \n",
       "          [ 1.,  1.,  1.],\n",
       "          [ 1.,  1.,  1.],\n",
       "          [ 1.,  1.,  1.]]])],\n",
       " [[array([[[-2.28044844,  0.49457717, -1.9583627 ],\n",
       "           [-5.48278618, -1.74174953, -5.09784126],\n",
       "           [-6.31425667, -2.77920866, -5.79542685],\n",
       "           ..., \n",
       "           [-6.31425667, -2.77920866, -5.79542685],\n",
       "           [-5.46829748, -1.76422811, -4.95740986],\n",
       "           [-4.30620766, -1.82883024, -3.61231971]],\n",
       "   \n",
       "          [[ 0.20059264,  4.36650085, -0.24547505],\n",
       "           [-2.58756208,  3.0385077 , -3.45700693],\n",
       "           [-3.64870238,  1.67860866, -4.39372253],\n",
       "           ..., \n",
       "           [-3.64870238,  1.67860866, -4.39372253],\n",
       "           [-2.31245565,  3.29749918, -3.03393006],\n",
       "           [-2.57740641,  1.1649667 , -2.48324513]],\n",
       "   \n",
       "          [[ 1.52714419,  5.69832039,  0.62802637],\n",
       "           [-0.68558073,  4.94700241, -2.27060366],\n",
       "           [-1.85801291,  3.4586494 , -3.34421706],\n",
       "           ..., \n",
       "           [-1.85801291,  3.4586494 , -3.34421706],\n",
       "           [-0.52453709,  5.09367609, -1.91807961],\n",
       "           [-1.65465999,  2.05710411, -1.91462374]],\n",
       "   \n",
       "          ..., \n",
       "          [[ 1.52714419,  5.69832039,  0.62802637],\n",
       "           [-0.68558073,  4.94700241, -2.27060366],\n",
       "           [-1.85801291,  3.4586494 , -3.34421706],\n",
       "           ..., \n",
       "           [-1.85801291,  3.4586494 , -3.34421706],\n",
       "           [-0.52453709,  5.09367609, -1.91807961],\n",
       "           [-1.65465999,  2.05710411, -1.91462374]],\n",
       "   \n",
       "          [[ 1.78585649,  5.97109222,  1.00246167],\n",
       "           [ 0.22617602,  5.91436672, -1.24965966],\n",
       "           [-0.86797071,  4.49914694, -2.23730707],\n",
       "           ..., \n",
       "           [-0.86797071,  4.49914694, -2.23730707],\n",
       "           [ 0.35217339,  6.05464506, -0.97702229],\n",
       "           [-0.94428313,  2.85663223, -1.20831323]],\n",
       "   \n",
       "          [[ 3.98033881,  7.057652  ,  3.14730716],\n",
       "           [ 4.38331318,  8.61648941,  2.90633965],\n",
       "           [ 3.71419668,  7.73366451,  2.28064108],\n",
       "           ..., \n",
       "           [ 3.71419668,  7.73366451,  2.28064108],\n",
       "           [ 4.5531497 ,  8.81365967,  3.1586175 ],\n",
       "           [ 2.47189689,  5.3288784 ,  1.95598435]]], dtype=float32),\n",
       "   array([[[-2.28044844,  0.49457717, -1.9583627 ],\n",
       "           [-5.48278618, -1.74174953, -5.09784126],\n",
       "           [-6.31425667, -2.77920866, -5.79542685],\n",
       "           ..., \n",
       "           [-4.46262503, -0.77540874, -4.44567013],\n",
       "           [ 0.53354204,  4.66960716, -0.2232182 ],\n",
       "           [ 0.05982906,  2.70758986, -0.11790776]],\n",
       "   \n",
       "          [[ 0.20059264,  4.36650085, -0.24547505],\n",
       "           [-2.58756208,  3.0385077 , -3.45700693],\n",
       "           [-3.64870238,  1.67860866, -4.39372253],\n",
       "           ..., \n",
       "           [-3.96618843,  1.44007564, -5.09960365],\n",
       "           [ 2.58172822,  8.68701744,  0.38904852],\n",
       "           [ 2.11890531,  6.11169147,  1.09202051]],\n",
       "   \n",
       "          [[ 1.52714419,  5.69832039,  0.62802637],\n",
       "           [-0.68558073,  4.94700241, -2.27060366],\n",
       "           [-1.85801291,  3.4586494 , -3.34421706],\n",
       "           ..., \n",
       "           [-4.89764023,  0.27231157, -6.13741446],\n",
       "           [-1.26876545,  4.4334197 , -2.88815641],\n",
       "           [-1.25157928,  2.49246454, -1.77998865]],\n",
       "   \n",
       "          ..., \n",
       "          [[ 1.52714419,  5.69832039,  0.62802637],\n",
       "           [-0.68558073,  4.94700241, -2.27060366],\n",
       "           [-1.85801291,  3.4586494 , -3.34421706],\n",
       "           ..., \n",
       "           [-1.85801291,  3.4586494 , -3.34421706],\n",
       "           [-0.52453709,  5.09367609, -1.91807961],\n",
       "           [-1.65465999,  2.05710411, -1.91462374]],\n",
       "   \n",
       "          [[ 1.78585649,  5.97109222,  1.00246167],\n",
       "           [ 0.22617602,  5.91436672, -1.24965966],\n",
       "           [-0.86797071,  4.49914694, -2.23730707],\n",
       "           ..., \n",
       "           [-0.86797071,  4.49914694, -2.23730707],\n",
       "           [ 0.35217339,  6.05464506, -0.97702229],\n",
       "           [-0.94428313,  2.85663223, -1.20831323]],\n",
       "   \n",
       "          [[ 3.98033881,  7.057652  ,  3.14730716],\n",
       "           [ 4.38331318,  8.61648941,  2.90633965],\n",
       "           [ 3.71419668,  7.73366451,  2.28064108],\n",
       "           ..., \n",
       "           [ 3.71419668,  7.73366451,  2.28064108],\n",
       "           [ 4.5531497 ,  8.81365967,  3.1586175 ],\n",
       "           [ 2.47189689,  5.3288784 ,  1.95598435]]], dtype=float32),\n",
       "   array([[[-2.28044844,  0.49457717, -1.9583627 ],\n",
       "           [-5.48278618, -1.74174953, -5.09784126],\n",
       "           [-6.31425667, -2.77920866, -5.79542685],\n",
       "           ..., \n",
       "           [-6.31425667, -2.77920866, -5.79542685],\n",
       "           [-5.46829748, -1.76422811, -4.95740986],\n",
       "           [-4.30620766, -1.82883024, -3.61231971]],\n",
       "   \n",
       "          [[ 0.20059264,  4.36650085, -0.24547505],\n",
       "           [-2.58756208,  3.0385077 , -3.45700693],\n",
       "           [-3.64870238,  1.67860866, -4.39372253],\n",
       "           ..., \n",
       "           [-3.64870238,  1.67860866, -4.39372253],\n",
       "           [-2.31245565,  3.29749918, -3.03393006],\n",
       "           [-2.57740641,  1.1649667 , -2.48324513]],\n",
       "   \n",
       "          [[ 1.52714419,  5.69832039,  0.62802637],\n",
       "           [-0.68558073,  4.94700241, -2.27060366],\n",
       "           [-1.85801291,  3.4586494 , -3.34421706],\n",
       "           ..., \n",
       "           [-1.85801291,  3.4586494 , -3.34421706],\n",
       "           [-0.52453709,  5.09367609, -1.91807961],\n",
       "           [-1.65465999,  2.05710411, -1.91462374]],\n",
       "   \n",
       "          ..., \n",
       "          [[ 1.52714419,  5.69832039,  0.62802637],\n",
       "           [-0.68558073,  4.94700241, -2.27060366],\n",
       "           [-1.85801291,  3.4586494 , -3.34421706],\n",
       "           ..., \n",
       "           [-1.85801291,  3.4586494 , -3.34421706],\n",
       "           [-0.52453709,  5.09367609, -1.91807961],\n",
       "           [-1.65465999,  2.05710411, -1.91462374]],\n",
       "   \n",
       "          [[ 1.78585649,  5.97109222,  1.00246167],\n",
       "           [ 0.22617602,  5.91436672, -1.24965966],\n",
       "           [-0.86797071,  4.49914694, -2.23730707],\n",
       "           ..., \n",
       "           [-0.86797071,  4.49914694, -2.23730707],\n",
       "           [ 0.35217339,  6.05464506, -0.97702229],\n",
       "           [-0.94428313,  2.85663223, -1.20831323]],\n",
       "   \n",
       "          [[ 3.98033881,  7.057652  ,  3.14730716],\n",
       "           [ 4.38331318,  8.61648941,  2.90633965],\n",
       "           [ 3.71419668,  7.73366451,  2.28064108],\n",
       "           ..., \n",
       "           [ 3.71419668,  7.73366451,  2.28064108],\n",
       "           [ 4.5531497 ,  8.81365967,  3.1586175 ],\n",
       "           [ 2.47189689,  5.3288784 ,  1.95598435]]], dtype=float32),\n",
       "   array([[[-2.28044844,  0.49457717, -1.9583627 ],\n",
       "           [-5.48278618, -1.74174953, -5.09784126],\n",
       "           [-6.31425667, -2.77920866, -5.79542685],\n",
       "           ..., \n",
       "           [-6.31425667, -2.77920866, -5.79542685],\n",
       "           [-5.46829748, -1.76422811, -4.95740986],\n",
       "           [-4.30620766, -1.82883024, -3.61231971]],\n",
       "   \n",
       "          [[ 0.20059264,  4.36650085, -0.24547505],\n",
       "           [-2.58756208,  3.0385077 , -3.45700693],\n",
       "           [-3.64870238,  1.67860866, -4.39372253],\n",
       "           ..., \n",
       "           [-3.64870238,  1.67860866, -4.39372253],\n",
       "           [-2.31245565,  3.29749918, -3.03393006],\n",
       "           [-2.57740641,  1.1649667 , -2.48324513]],\n",
       "   \n",
       "          [[ 1.52714419,  5.69832039,  0.62802637],\n",
       "           [-0.68558073,  4.94700241, -2.27060366],\n",
       "           [-1.85801291,  3.4586494 , -3.34421706],\n",
       "           ..., \n",
       "           [-1.85801291,  3.4586494 , -3.34421706],\n",
       "           [-0.52453709,  5.09367609, -1.91807961],\n",
       "           [-1.65465999,  2.05710411, -1.91462374]],\n",
       "   \n",
       "          ..., \n",
       "          [[ 1.52714419,  5.69832039,  0.62802637],\n",
       "           [-0.68558073,  4.94700241, -2.27060366],\n",
       "           [-1.85801291,  3.4586494 , -3.34421706],\n",
       "           ..., \n",
       "           [-1.85801291,  3.4586494 , -3.34421706],\n",
       "           [-0.52453709,  5.09367609, -1.91807961],\n",
       "           [-1.65465999,  2.05710411, -1.91462374]],\n",
       "   \n",
       "          [[ 1.78585649,  5.97109222,  1.00246167],\n",
       "           [ 0.22617602,  5.91436672, -1.24965966],\n",
       "           [-0.86797071,  4.49914694, -2.23730707],\n",
       "           ..., \n",
       "           [-0.86797071,  4.49914694, -2.23730707],\n",
       "           [ 0.35217339,  6.05464506, -0.97702229],\n",
       "           [-0.94428313,  2.85663223, -1.20831323]],\n",
       "   \n",
       "          [[ 3.98033881,  7.057652  ,  3.14730716],\n",
       "           [ 4.38331318,  8.61648941,  2.90633965],\n",
       "           [ 3.71419668,  7.73366451,  2.28064108],\n",
       "           ..., \n",
       "           [ 3.71419668,  7.73366451,  2.28064108],\n",
       "           [ 4.5531497 ,  8.81365967,  3.1586175 ],\n",
       "           [ 2.47189689,  5.3288784 ,  1.95598435]]], dtype=float32),\n",
       "   array([[[-2.28044844,  0.49457717, -1.9583627 ],\n",
       "           [-5.48278618, -1.74174953, -5.09784126],\n",
       "           [-6.31425667, -2.77920866, -5.79542685],\n",
       "           ..., \n",
       "           [-6.31425667, -2.77920866, -5.79542685],\n",
       "           [-5.46829748, -1.76422811, -4.95740986],\n",
       "           [-4.30620766, -1.82883024, -3.61231971]],\n",
       "   \n",
       "          [[ 0.20059264,  4.36650085, -0.24547505],\n",
       "           [-2.58756208,  3.0385077 , -3.45700693],\n",
       "           [-3.64870238,  1.67860866, -4.39372253],\n",
       "           ..., \n",
       "           [-3.64870238,  1.67860866, -4.39372253],\n",
       "           [-2.31245565,  3.29749918, -3.03393006],\n",
       "           [-2.57740641,  1.1649667 , -2.48324513]],\n",
       "   \n",
       "          [[ 1.52714419,  5.69832039,  0.62802637],\n",
       "           [-0.68558073,  4.94700241, -2.27060366],\n",
       "           [-1.85801291,  3.4586494 , -3.34421706],\n",
       "           ..., \n",
       "           [-1.85801291,  3.4586494 , -3.34421706],\n",
       "           [-0.52453709,  5.09367609, -1.91807961],\n",
       "           [-1.65465999,  2.05710411, -1.91462374]],\n",
       "   \n",
       "          ..., \n",
       "          [[ 1.52714419,  5.69832039,  0.62802637],\n",
       "           [-0.68558073,  4.94700241, -2.27060366],\n",
       "           [-1.85801291,  3.4586494 , -3.34421706],\n",
       "           ..., \n",
       "           [-1.85801291,  3.4586494 , -3.34421706],\n",
       "           [-0.52453709,  5.09367609, -1.91807961],\n",
       "           [-1.65465999,  2.05710411, -1.91462374]],\n",
       "   \n",
       "          [[ 1.78585649,  5.97109222,  1.00246167],\n",
       "           [ 0.22617602,  5.91436672, -1.24965966],\n",
       "           [-0.86797071,  4.49914694, -2.23730707],\n",
       "           ..., \n",
       "           [-0.86797071,  4.49914694, -2.23730707],\n",
       "           [ 0.35217339,  6.05464506, -0.97702229],\n",
       "           [-0.94428313,  2.85663223, -1.20831323]],\n",
       "   \n",
       "          [[ 3.98033881,  7.057652  ,  3.14730716],\n",
       "           [ 4.38331318,  8.61648941,  2.90633965],\n",
       "           [ 3.71419668,  7.73366451,  2.28064108],\n",
       "           ..., \n",
       "           [ 3.71419668,  7.73366451,  2.28064108],\n",
       "           [ 4.5531497 ,  8.81365967,  3.1586175 ],\n",
       "           [ 2.47189689,  5.3288784 ,  1.95598435]]], dtype=float32)],\n",
       "  array([[[ 1.,  1.,  1.],\n",
       "          [ 1.,  1.,  1.],\n",
       "          [ 1.,  1.,  1.],\n",
       "          ..., \n",
       "          [ 1.,  1.,  1.],\n",
       "          [ 1.,  1.,  1.],\n",
       "          [ 1.,  1.,  1.]],\n",
       "  \n",
       "         [[ 1.,  1.,  1.],\n",
       "          [ 1.,  1.,  1.],\n",
       "          [ 1.,  1.,  1.],\n",
       "          ..., \n",
       "          [ 1.,  1.,  1.],\n",
       "          [ 1.,  1.,  1.],\n",
       "          [ 1.,  1.,  1.]],\n",
       "  \n",
       "         [[ 1.,  1.,  1.],\n",
       "          [ 1.,  1.,  1.],\n",
       "          [ 1.,  1.,  1.],\n",
       "          ..., \n",
       "          [ 1.,  1.,  1.],\n",
       "          [ 1.,  1.,  1.],\n",
       "          [ 1.,  1.,  1.]],\n",
       "  \n",
       "         ..., \n",
       "         [[ 1.,  1.,  1.],\n",
       "          [ 1.,  1.,  1.],\n",
       "          [ 1.,  1.,  1.],\n",
       "          ..., \n",
       "          [ 1.,  1.,  1.],\n",
       "          [ 1.,  1.,  1.],\n",
       "          [ 1.,  1.,  1.]],\n",
       "  \n",
       "         [[ 1.,  1.,  1.],\n",
       "          [ 1.,  1.,  1.],\n",
       "          [ 1.,  1.,  1.],\n",
       "          ..., \n",
       "          [ 1.,  1.,  1.],\n",
       "          [ 1.,  1.,  1.],\n",
       "          [ 1.,  1.,  1.]],\n",
       "  \n",
       "         [[ 1.,  1.,  1.],\n",
       "          [ 1.,  1.,  1.],\n",
       "          [ 1.,  1.,  1.],\n",
       "          ..., \n",
       "          [ 1.,  1.,  1.],\n",
       "          [ 1.,  1.,  1.],\n",
       "          [ 1.,  1.,  1.]]])],\n",
       " [[array([[[-2.28044844,  0.49457717, -1.9583627 ],\n",
       "           [-5.48278618, -1.74174953, -5.09784126],\n",
       "           [-6.31425667, -2.77920866, -5.79542685],\n",
       "           ..., \n",
       "           [-6.31425667, -2.77920866, -5.79542685],\n",
       "           [-5.46829748, -1.76422811, -4.95740986],\n",
       "           [-4.30620766, -1.82883024, -3.61231971]],\n",
       "   \n",
       "          [[ 0.20059264,  4.36650085, -0.24547505],\n",
       "           [-2.58756208,  3.0385077 , -3.45700693],\n",
       "           [-3.64870238,  1.67860866, -4.39372253],\n",
       "           ..., \n",
       "           [-3.64870238,  1.67860866, -4.39372253],\n",
       "           [-2.31245565,  3.29749918, -3.03393006],\n",
       "           [-2.57740641,  1.1649667 , -2.48324513]],\n",
       "   \n",
       "          [[ 1.52714419,  5.69832039,  0.62802637],\n",
       "           [-0.68558073,  4.94700241, -2.27060366],\n",
       "           [-1.85801291,  3.4586494 , -3.34421706],\n",
       "           ..., \n",
       "           [-1.85801291,  3.4586494 , -3.34421706],\n",
       "           [-0.52453709,  5.09367609, -1.91807961],\n",
       "           [-1.65465999,  2.05710411, -1.91462374]],\n",
       "   \n",
       "          ..., \n",
       "          [[ 1.52714419,  5.69832039,  0.62802637],\n",
       "           [-0.68558073,  4.94700241, -2.27060366],\n",
       "           [-1.85801291,  3.4586494 , -3.34421706],\n",
       "           ..., \n",
       "           [-1.85801291,  3.4586494 , -3.34421706],\n",
       "           [-0.52453709,  5.09367609, -1.91807961],\n",
       "           [-1.65465999,  2.05710411, -1.91462374]],\n",
       "   \n",
       "          [[ 1.78585649,  5.97109222,  1.00246167],\n",
       "           [ 0.22617602,  5.91436672, -1.24965966],\n",
       "           [-0.86797071,  4.49914694, -2.23730707],\n",
       "           ..., \n",
       "           [-0.86797071,  4.49914694, -2.23730707],\n",
       "           [ 0.35217339,  6.05464506, -0.97702229],\n",
       "           [-0.94428313,  2.85663223, -1.20831323]],\n",
       "   \n",
       "          [[ 3.98033881,  7.057652  ,  3.14730716],\n",
       "           [ 4.38331318,  8.61648941,  2.90633965],\n",
       "           [ 3.71419668,  7.73366451,  2.28064108],\n",
       "           ..., \n",
       "           [ 3.71419668,  7.73366451,  2.28064108],\n",
       "           [ 4.5531497 ,  8.81365967,  3.1586175 ],\n",
       "           [ 2.47189689,  5.3288784 ,  1.95598435]]], dtype=float32),\n",
       "   array([[[-2.28044844,  0.49457717, -1.9583627 ],\n",
       "           [-5.48278618, -1.74174953, -5.09784126],\n",
       "           [-6.31425667, -2.77920866, -5.79542685],\n",
       "           ..., \n",
       "           [-4.46262503, -0.77540874, -4.44567013],\n",
       "           [ 0.53354204,  4.66960716, -0.2232182 ],\n",
       "           [ 0.05982906,  2.70758986, -0.11790776]],\n",
       "   \n",
       "          [[ 0.20059264,  4.36650085, -0.24547505],\n",
       "           [-2.58756208,  3.0385077 , -3.45700693],\n",
       "           [-3.64870238,  1.67860866, -4.39372253],\n",
       "           ..., \n",
       "           [-3.96618843,  1.44007564, -5.09960365],\n",
       "           [ 2.58172822,  8.68701744,  0.38904852],\n",
       "           [ 2.11890531,  6.11169147,  1.09202051]],\n",
       "   \n",
       "          [[ 1.52714419,  5.69832039,  0.62802637],\n",
       "           [-0.68558073,  4.94700241, -2.27060366],\n",
       "           [-1.85801291,  3.4586494 , -3.34421706],\n",
       "           ..., \n",
       "           [-4.89764023,  0.27231157, -6.13741446],\n",
       "           [-1.26876545,  4.4334197 , -2.88815641],\n",
       "           [-1.25157928,  2.49246454, -1.77998865]],\n",
       "   \n",
       "          ..., \n",
       "          [[ 1.52714419,  5.69832039,  0.62802637],\n",
       "           [-0.68558073,  4.94700241, -2.27060366],\n",
       "           [-1.85801291,  3.4586494 , -3.34421706],\n",
       "           ..., \n",
       "           [-1.85801291,  3.4586494 , -3.34421706],\n",
       "           [-0.52453709,  5.09367609, -1.91807961],\n",
       "           [-1.65465999,  2.05710411, -1.91462374]],\n",
       "   \n",
       "          [[ 1.78585649,  5.97109222,  1.00246167],\n",
       "           [ 0.22617602,  5.91436672, -1.24965966],\n",
       "           [-0.86797071,  4.49914694, -2.23730707],\n",
       "           ..., \n",
       "           [-0.86797071,  4.49914694, -2.23730707],\n",
       "           [ 0.35217339,  6.05464506, -0.97702229],\n",
       "           [-0.94428313,  2.85663223, -1.20831323]],\n",
       "   \n",
       "          [[ 3.98033881,  7.057652  ,  3.14730716],\n",
       "           [ 4.38331318,  8.61648941,  2.90633965],\n",
       "           [ 3.71419668,  7.73366451,  2.28064108],\n",
       "           ..., \n",
       "           [ 3.71419668,  7.73366451,  2.28064108],\n",
       "           [ 4.5531497 ,  8.81365967,  3.1586175 ],\n",
       "           [ 2.47189689,  5.3288784 ,  1.95598435]]], dtype=float32),\n",
       "   array([[[-2.28044844,  0.49457717, -1.9583627 ],\n",
       "           [-5.48278618, -1.74174953, -5.09784126],\n",
       "           [-6.31425667, -2.77920866, -5.79542685],\n",
       "           ..., \n",
       "           [-6.31425667, -2.77920866, -5.79542685],\n",
       "           [-5.46829748, -1.76422811, -4.95740986],\n",
       "           [-4.30620766, -1.82883024, -3.61231971]],\n",
       "   \n",
       "          [[ 0.20059264,  4.36650085, -0.24547505],\n",
       "           [-2.58756208,  3.0385077 , -3.45700693],\n",
       "           [-3.64870238,  1.67860866, -4.39372253],\n",
       "           ..., \n",
       "           [-3.64870238,  1.67860866, -4.39372253],\n",
       "           [-2.31245565,  3.29749918, -3.03393006],\n",
       "           [-2.57740641,  1.1649667 , -2.48324513]],\n",
       "   \n",
       "          [[ 1.52714419,  5.69832039,  0.62802637],\n",
       "           [-0.68558073,  4.94700241, -2.27060366],\n",
       "           [-1.85801291,  3.4586494 , -3.34421706],\n",
       "           ..., \n",
       "           [-1.85801291,  3.4586494 , -3.34421706],\n",
       "           [-0.52453709,  5.09367609, -1.91807961],\n",
       "           [-1.65465999,  2.05710411, -1.91462374]],\n",
       "   \n",
       "          ..., \n",
       "          [[ 1.52714419,  5.69832039,  0.62802637],\n",
       "           [-0.68558073,  4.94700241, -2.27060366],\n",
       "           [-1.85801291,  3.4586494 , -3.34421706],\n",
       "           ..., \n",
       "           [-1.85801291,  3.4586494 , -3.34421706],\n",
       "           [-0.52453709,  5.09367609, -1.91807961],\n",
       "           [-1.65465999,  2.05710411, -1.91462374]],\n",
       "   \n",
       "          [[ 1.78585649,  5.97109222,  1.00246167],\n",
       "           [ 0.22617602,  5.91436672, -1.24965966],\n",
       "           [-0.86797071,  4.49914694, -2.23730707],\n",
       "           ..., \n",
       "           [-0.86797071,  4.49914694, -2.23730707],\n",
       "           [ 0.35217339,  6.05464506, -0.97702229],\n",
       "           [-0.94428313,  2.85663223, -1.20831323]],\n",
       "   \n",
       "          [[ 3.98033881,  7.057652  ,  3.14730716],\n",
       "           [ 4.38331318,  8.61648941,  2.90633965],\n",
       "           [ 3.71419668,  7.73366451,  2.28064108],\n",
       "           ..., \n",
       "           [ 3.71419668,  7.73366451,  2.28064108],\n",
       "           [ 4.5531497 ,  8.81365967,  3.1586175 ],\n",
       "           [ 2.47189689,  5.3288784 ,  1.95598435]]], dtype=float32),\n",
       "   array([[[-2.28044844,  0.49457717, -1.9583627 ],\n",
       "           [-5.48278618, -1.74174953, -5.09784126],\n",
       "           [-6.31425667, -2.77920866, -5.79542685],\n",
       "           ..., \n",
       "           [-6.31425667, -2.77920866, -5.79542685],\n",
       "           [-5.46829748, -1.76422811, -4.95740986],\n",
       "           [-4.30620766, -1.82883024, -3.61231971]],\n",
       "   \n",
       "          [[ 0.20059264,  4.36650085, -0.24547505],\n",
       "           [-2.58756208,  3.0385077 , -3.45700693],\n",
       "           [-3.64870238,  1.67860866, -4.39372253],\n",
       "           ..., \n",
       "           [-3.64870238,  1.67860866, -4.39372253],\n",
       "           [-2.31245565,  3.29749918, -3.03393006],\n",
       "           [-2.57740641,  1.1649667 , -2.48324513]],\n",
       "   \n",
       "          [[ 1.52714419,  5.69832039,  0.62802637],\n",
       "           [-0.68558073,  4.94700241, -2.27060366],\n",
       "           [-1.85801291,  3.4586494 , -3.34421706],\n",
       "           ..., \n",
       "           [-1.85801291,  3.4586494 , -3.34421706],\n",
       "           [-0.52453709,  5.09367609, -1.91807961],\n",
       "           [-1.65465999,  2.05710411, -1.91462374]],\n",
       "   \n",
       "          ..., \n",
       "          [[ 1.52714419,  5.69832039,  0.62802637],\n",
       "           [-0.68558073,  4.94700241, -2.27060366],\n",
       "           [-1.85801291,  3.4586494 , -3.34421706],\n",
       "           ..., \n",
       "           [-1.85801291,  3.4586494 , -3.34421706],\n",
       "           [-0.52453709,  5.09367609, -1.91807961],\n",
       "           [-1.65465999,  2.05710411, -1.91462374]],\n",
       "   \n",
       "          [[ 1.78585649,  5.97109222,  1.00246167],\n",
       "           [ 0.22617602,  5.91436672, -1.24965966],\n",
       "           [-0.86797071,  4.49914694, -2.23730707],\n",
       "           ..., \n",
       "           [-0.86797071,  4.49914694, -2.23730707],\n",
       "           [ 0.35217339,  6.05464506, -0.97702229],\n",
       "           [-0.94428313,  2.85663223, -1.20831323]],\n",
       "   \n",
       "          [[ 3.98033881,  7.057652  ,  3.14730716],\n",
       "           [ 4.38331318,  8.61648941,  2.90633965],\n",
       "           [ 3.71419668,  7.73366451,  2.28064108],\n",
       "           ..., \n",
       "           [ 3.71419668,  7.73366451,  2.28064108],\n",
       "           [ 4.5531497 ,  8.81365967,  3.1586175 ],\n",
       "           [ 2.47189689,  5.3288784 ,  1.95598435]]], dtype=float32),\n",
       "   array([[[-2.28044844,  0.49457717, -1.9583627 ],\n",
       "           [-5.48278618, -1.74174953, -5.09784126],\n",
       "           [-6.31425667, -2.77920866, -5.79542685],\n",
       "           ..., \n",
       "           [-6.31425667, -2.77920866, -5.79542685],\n",
       "           [-5.46829748, -1.76422811, -4.95740986],\n",
       "           [-4.30620766, -1.82883024, -3.61231971]],\n",
       "   \n",
       "          [[ 0.20059264,  4.36650085, -0.24547505],\n",
       "           [-2.58756208,  3.0385077 , -3.45700693],\n",
       "           [-3.64870238,  1.67860866, -4.39372253],\n",
       "           ..., \n",
       "           [-3.64870238,  1.67860866, -4.39372253],\n",
       "           [-2.31245565,  3.29749918, -3.03393006],\n",
       "           [-2.57740641,  1.1649667 , -2.48324513]],\n",
       "   \n",
       "          [[ 1.52714419,  5.69832039,  0.62802637],\n",
       "           [-0.68558073,  4.94700241, -2.27060366],\n",
       "           [-1.85801291,  3.4586494 , -3.34421706],\n",
       "           ..., \n",
       "           [-1.85801291,  3.4586494 , -3.34421706],\n",
       "           [-0.52453709,  5.09367609, -1.91807961],\n",
       "           [-1.65465999,  2.05710411, -1.91462374]],\n",
       "   \n",
       "          ..., \n",
       "          [[ 1.52714419,  5.69832039,  0.62802637],\n",
       "           [-0.68558073,  4.94700241, -2.27060366],\n",
       "           [-1.85801291,  3.4586494 , -3.34421706],\n",
       "           ..., \n",
       "           [-1.85801291,  3.4586494 , -3.34421706],\n",
       "           [-0.52453709,  5.09367609, -1.91807961],\n",
       "           [-1.65465999,  2.05710411, -1.91462374]],\n",
       "   \n",
       "          [[ 1.78585649,  5.97109222,  1.00246167],\n",
       "           [ 0.22617602,  5.91436672, -1.24965966],\n",
       "           [-0.86797071,  4.49914694, -2.23730707],\n",
       "           ..., \n",
       "           [-0.86797071,  4.49914694, -2.23730707],\n",
       "           [ 0.35217339,  6.05464506, -0.97702229],\n",
       "           [-0.94428313,  2.85663223, -1.20831323]],\n",
       "   \n",
       "          [[ 3.98033881,  7.057652  ,  3.14730716],\n",
       "           [ 4.38331318,  8.61648941,  2.90633965],\n",
       "           [ 3.71419668,  7.73366451,  2.28064108],\n",
       "           ..., \n",
       "           [ 3.71419668,  7.73366451,  2.28064108],\n",
       "           [ 4.5531497 ,  8.81365967,  3.1586175 ],\n",
       "           [ 2.47189689,  5.3288784 ,  1.95598435]]], dtype=float32)],\n",
       "  array([[[ 1.,  1.,  1.],\n",
       "          [ 1.,  1.,  1.],\n",
       "          [ 1.,  1.,  1.],\n",
       "          ..., \n",
       "          [ 1.,  1.,  1.],\n",
       "          [ 1.,  1.,  1.],\n",
       "          [ 1.,  1.,  1.]],\n",
       "  \n",
       "         [[ 1.,  1.,  1.],\n",
       "          [ 1.,  1.,  1.],\n",
       "          [ 1.,  1.,  1.],\n",
       "          ..., \n",
       "          [ 1.,  1.,  1.],\n",
       "          [ 1.,  1.,  1.],\n",
       "          [ 1.,  1.,  1.]],\n",
       "  \n",
       "         [[ 1.,  1.,  1.],\n",
       "          [ 1.,  1.,  1.],\n",
       "          [ 1.,  1.,  1.],\n",
       "          ..., \n",
       "          [ 1.,  1.,  1.],\n",
       "          [ 1.,  1.,  1.],\n",
       "          [ 1.,  1.,  1.]],\n",
       "  \n",
       "         ..., \n",
       "         [[ 1.,  1.,  1.],\n",
       "          [ 1.,  1.,  1.],\n",
       "          [ 1.,  1.,  1.],\n",
       "          ..., \n",
       "          [ 1.,  1.,  1.],\n",
       "          [ 1.,  1.,  1.],\n",
       "          [ 1.,  1.,  1.]],\n",
       "  \n",
       "         [[ 1.,  1.,  1.],\n",
       "          [ 1.,  1.,  1.],\n",
       "          [ 1.,  1.,  1.],\n",
       "          ..., \n",
       "          [ 1.,  1.,  1.],\n",
       "          [ 1.,  1.,  1.],\n",
       "          [ 1.,  1.,  1.]],\n",
       "  \n",
       "         [[ 1.,  1.,  1.],\n",
       "          [ 1.,  1.,  1.],\n",
       "          [ 1.,  1.,  1.],\n",
       "          ..., \n",
       "          [ 1.,  1.,  1.],\n",
       "          [ 1.,  1.,  1.],\n",
       "          [ 1.,  1.,  1.]]])],\n",
       " [[array([[[-2.28044844,  0.49457717, -1.9583627 ],\n",
       "           [-5.48278618, -1.74174953, -5.09784126],\n",
       "           [-6.31425667, -2.77920866, -5.79542685],\n",
       "           ..., \n",
       "           [-6.31425667, -2.77920866, -5.79542685],\n",
       "           [-5.46829748, -1.76422811, -4.95740986],\n",
       "           [-4.30620766, -1.82883024, -3.61231971]],\n",
       "   \n",
       "          [[ 0.20059264,  4.36650085, -0.24547505],\n",
       "           [-2.58756208,  3.0385077 , -3.45700693],\n",
       "           [-3.64870238,  1.67860866, -4.39372253],\n",
       "           ..., \n",
       "           [-3.64870238,  1.67860866, -4.39372253],\n",
       "           [-2.31245565,  3.29749918, -3.03393006],\n",
       "           [-2.57740641,  1.1649667 , -2.48324513]],\n",
       "   \n",
       "          [[ 1.52714419,  5.69832039,  0.62802637],\n",
       "           [-0.68558073,  4.94700241, -2.27060366],\n",
       "           [-1.85801291,  3.4586494 , -3.34421706],\n",
       "           ..., \n",
       "           [-1.85801291,  3.4586494 , -3.34421706],\n",
       "           [-0.52453709,  5.09367609, -1.91807961],\n",
       "           [-1.65465999,  2.05710411, -1.91462374]],\n",
       "   \n",
       "          ..., \n",
       "          [[ 1.52714419,  5.69832039,  0.62802637],\n",
       "           [-0.68558073,  4.94700241, -2.27060366],\n",
       "           [-1.85801291,  3.4586494 , -3.34421706],\n",
       "           ..., \n",
       "           [-1.85801291,  3.4586494 , -3.34421706],\n",
       "           [-0.52453709,  5.09367609, -1.91807961],\n",
       "           [-1.65465999,  2.05710411, -1.91462374]],\n",
       "   \n",
       "          [[ 1.78585649,  5.97109222,  1.00246167],\n",
       "           [ 0.22617602,  5.91436672, -1.24965966],\n",
       "           [-0.86797071,  4.49914694, -2.23730707],\n",
       "           ..., \n",
       "           [-0.86797071,  4.49914694, -2.23730707],\n",
       "           [ 0.35217339,  6.05464506, -0.97702229],\n",
       "           [-0.94428313,  2.85663223, -1.20831323]],\n",
       "   \n",
       "          [[ 3.98033881,  7.057652  ,  3.14730716],\n",
       "           [ 4.38331318,  8.61648941,  2.90633965],\n",
       "           [ 3.71419668,  7.73366451,  2.28064108],\n",
       "           ..., \n",
       "           [ 3.71419668,  7.73366451,  2.28064108],\n",
       "           [ 4.5531497 ,  8.81365967,  3.1586175 ],\n",
       "           [ 2.47189689,  5.3288784 ,  1.95598435]]], dtype=float32),\n",
       "   array([[[-2.28044844,  0.49457717, -1.9583627 ],\n",
       "           [-5.48278618, -1.74174953, -5.09784126],\n",
       "           [-6.31425667, -2.77920866, -5.79542685],\n",
       "           ..., \n",
       "           [-6.31425667, -2.77920866, -5.79542685],\n",
       "           [-5.46829748, -1.76422811, -4.95740986],\n",
       "           [-4.30620766, -1.82883024, -3.61231971]],\n",
       "   \n",
       "          [[ 0.20059264,  4.36650085, -0.24547505],\n",
       "           [-2.58756208,  3.0385077 , -3.45700693],\n",
       "           [-3.64870238,  1.67860866, -4.39372253],\n",
       "           ..., \n",
       "           [-3.64870238,  1.67860866, -4.39372253],\n",
       "           [-2.31245565,  3.29749918, -3.03393006],\n",
       "           [-2.57740641,  1.1649667 , -2.48324513]],\n",
       "   \n",
       "          [[ 1.52714419,  5.69832039,  0.62802637],\n",
       "           [-0.68558073,  4.94700241, -2.27060366],\n",
       "           [-1.85801291,  3.4586494 , -3.34421706],\n",
       "           ..., \n",
       "           [-1.85801291,  3.4586494 , -3.34421706],\n",
       "           [-0.52453709,  5.09367609, -1.91807961],\n",
       "           [-1.65465999,  2.05710411, -1.91462374]],\n",
       "   \n",
       "          ..., \n",
       "          [[ 1.52714419,  5.69832039,  0.62802637],\n",
       "           [-0.68558073,  4.94700241, -2.27060366],\n",
       "           [-1.85801291,  3.4586494 , -3.34421706],\n",
       "           ..., \n",
       "           [-1.85801291,  3.4586494 , -3.34421706],\n",
       "           [-0.52453709,  5.09367609, -1.91807961],\n",
       "           [-1.65465999,  2.05710411, -1.91462374]],\n",
       "   \n",
       "          [[ 1.78585649,  5.97109222,  1.00246167],\n",
       "           [ 0.22617602,  5.91436672, -1.24965966],\n",
       "           [-0.86797071,  4.49914694, -2.23730707],\n",
       "           ..., \n",
       "           [-0.86797071,  4.49914694, -2.23730707],\n",
       "           [ 0.35217339,  6.05464506, -0.97702229],\n",
       "           [-0.94428313,  2.85663223, -1.20831323]],\n",
       "   \n",
       "          [[ 3.98033881,  7.057652  ,  3.14730716],\n",
       "           [ 4.38331318,  8.61648941,  2.90633965],\n",
       "           [ 3.71419668,  7.73366451,  2.28064108],\n",
       "           ..., \n",
       "           [ 3.71419668,  7.73366451,  2.28064108],\n",
       "           [ 4.5531497 ,  8.81365967,  3.1586175 ],\n",
       "           [ 2.47189689,  5.3288784 ,  1.95598435]]], dtype=float32),\n",
       "   array([[[-2.28044844,  0.49457717, -1.9583627 ],\n",
       "           [-5.48278618, -1.74174953, -5.09784126],\n",
       "           [-6.31425667, -2.77920866, -5.79542685],\n",
       "           ..., \n",
       "           [-6.31425667, -2.77920866, -5.79542685],\n",
       "           [-5.46829748, -1.76422811, -4.95740986],\n",
       "           [-4.30620766, -1.82883024, -3.61231971]],\n",
       "   \n",
       "          [[ 0.20059264,  4.36650085, -0.24547505],\n",
       "           [-2.58756208,  3.0385077 , -3.45700693],\n",
       "           [-3.64870238,  1.67860866, -4.39372253],\n",
       "           ..., \n",
       "           [-3.64870238,  1.67860866, -4.39372253],\n",
       "           [-2.31245565,  3.29749918, -3.03393006],\n",
       "           [-2.57740641,  1.1649667 , -2.48324513]],\n",
       "   \n",
       "          [[ 1.52714419,  5.69832039,  0.62802637],\n",
       "           [-0.68558073,  4.94700241, -2.27060366],\n",
       "           [-1.85801291,  3.4586494 , -3.34421706],\n",
       "           ..., \n",
       "           [-1.85801291,  3.4586494 , -3.34421706],\n",
       "           [-0.52453709,  5.09367609, -1.91807961],\n",
       "           [-1.65465999,  2.05710411, -1.91462374]],\n",
       "   \n",
       "          ..., \n",
       "          [[ 1.52714419,  5.69832039,  0.62802637],\n",
       "           [-0.68558073,  4.94700241, -2.27060366],\n",
       "           [-1.85801291,  3.4586494 , -3.34421706],\n",
       "           ..., \n",
       "           [-1.85801291,  3.4586494 , -3.34421706],\n",
       "           [-0.52453709,  5.09367609, -1.91807961],\n",
       "           [-1.65465999,  2.05710411, -1.91462374]],\n",
       "   \n",
       "          [[ 1.78585649,  5.97109222,  1.00246167],\n",
       "           [ 0.22617602,  5.91436672, -1.24965966],\n",
       "           [-0.86797071,  4.49914694, -2.23730707],\n",
       "           ..., \n",
       "           [-0.86797071,  4.49914694, -2.23730707],\n",
       "           [ 0.35217339,  6.05464506, -0.97702229],\n",
       "           [-0.94428313,  2.85663223, -1.20831323]],\n",
       "   \n",
       "          [[ 3.98033881,  7.057652  ,  3.14730716],\n",
       "           [ 4.38331318,  8.61648941,  2.90633965],\n",
       "           [ 3.71419668,  7.73366451,  2.28064108],\n",
       "           ..., \n",
       "           [ 3.71419668,  7.73366451,  2.28064108],\n",
       "           [ 4.5531497 ,  8.81365967,  3.1586175 ],\n",
       "           [ 2.47189689,  5.3288784 ,  1.95598435]]], dtype=float32),\n",
       "   array([[[-2.28044844,  0.49457717, -1.9583627 ],\n",
       "           [-5.48278618, -1.74174953, -5.09784126],\n",
       "           [-6.31425667, -2.77920866, -5.79542685],\n",
       "           ..., \n",
       "           [-6.31425667, -2.77920866, -5.79542685],\n",
       "           [-5.46829748, -1.76422811, -4.95740986],\n",
       "           [-4.30620766, -1.82883024, -3.61231971]],\n",
       "   \n",
       "          [[ 0.20059264,  4.36650085, -0.24547505],\n",
       "           [-2.58756208,  3.0385077 , -3.45700693],\n",
       "           [-3.64870238,  1.67860866, -4.39372253],\n",
       "           ..., \n",
       "           [-3.64870238,  1.67860866, -4.39372253],\n",
       "           [-2.31245565,  3.29749918, -3.03393006],\n",
       "           [-2.57740641,  1.1649667 , -2.48324513]],\n",
       "   \n",
       "          [[ 1.52714419,  5.69832039,  0.62802637],\n",
       "           [-0.68558073,  4.94700241, -2.27060366],\n",
       "           [-1.85801291,  3.4586494 , -3.34421706],\n",
       "           ..., \n",
       "           [-1.85801291,  3.4586494 , -3.34421706],\n",
       "           [-0.52453709,  5.09367609, -1.91807961],\n",
       "           [-1.65465999,  2.05710411, -1.91462374]],\n",
       "   \n",
       "          ..., \n",
       "          [[ 1.52714419,  5.69832039,  0.62802637],\n",
       "           [-0.68558073,  4.94700241, -2.27060366],\n",
       "           [-1.85801291,  3.4586494 , -3.34421706],\n",
       "           ..., \n",
       "           [-1.85801291,  3.4586494 , -3.34421706],\n",
       "           [-0.52453709,  5.09367609, -1.91807961],\n",
       "           [-1.65465999,  2.05710411, -1.91462374]],\n",
       "   \n",
       "          [[ 1.78585649,  5.97109222,  1.00246167],\n",
       "           [ 0.22617602,  5.91436672, -1.24965966],\n",
       "           [-0.86797071,  4.49914694, -2.23730707],\n",
       "           ..., \n",
       "           [-0.86797071,  4.49914694, -2.23730707],\n",
       "           [ 0.35217339,  6.05464506, -0.97702229],\n",
       "           [-0.94428313,  2.85663223, -1.20831323]],\n",
       "   \n",
       "          [[ 3.98033881,  7.057652  ,  3.14730716],\n",
       "           [ 4.38331318,  8.61648941,  2.90633965],\n",
       "           [ 3.71419668,  7.73366451,  2.28064108],\n",
       "           ..., \n",
       "           [ 3.71419668,  7.73366451,  2.28064108],\n",
       "           [ 4.5531497 ,  8.81365967,  3.1586175 ],\n",
       "           [ 2.47189689,  5.3288784 ,  1.95598435]]], dtype=float32),\n",
       "   array([[[-2.28044844,  0.49457717, -1.9583627 ],\n",
       "           [-5.48278618, -1.74174953, -5.09784126],\n",
       "           [-6.31425667, -2.77920866, -5.79542685],\n",
       "           ..., \n",
       "           [-6.31425667, -2.77920866, -5.79542685],\n",
       "           [-5.46829748, -1.76422811, -4.95740986],\n",
       "           [-4.30620766, -1.82883024, -3.61231971]],\n",
       "   \n",
       "          [[ 0.20059264,  4.36650085, -0.24547505],\n",
       "           [-2.58756208,  3.0385077 , -3.45700693],\n",
       "           [-3.64870238,  1.67860866, -4.39372253],\n",
       "           ..., \n",
       "           [-3.64870238,  1.67860866, -4.39372253],\n",
       "           [-2.31245565,  3.29749918, -3.03393006],\n",
       "           [-2.57740641,  1.1649667 , -2.48324513]],\n",
       "   \n",
       "          [[ 1.52714419,  5.69832039,  0.62802637],\n",
       "           [-0.68558073,  4.94700241, -2.27060366],\n",
       "           [-1.85801291,  3.4586494 , -3.34421706],\n",
       "           ..., \n",
       "           [-1.85801291,  3.4586494 , -3.34421706],\n",
       "           [-0.52453709,  5.09367609, -1.91807961],\n",
       "           [-1.65465999,  2.05710411, -1.91462374]],\n",
       "   \n",
       "          ..., \n",
       "          [[ 1.52714419,  5.69832039,  0.62802637],\n",
       "           [-0.68558073,  4.94700241, -2.27060366],\n",
       "           [-1.85801291,  3.4586494 , -3.34421706],\n",
       "           ..., \n",
       "           [-1.85801291,  3.4586494 , -3.34421706],\n",
       "           [-0.52453709,  5.09367609, -1.91807961],\n",
       "           [-1.65465999,  2.05710411, -1.91462374]],\n",
       "   \n",
       "          [[ 1.78585649,  5.97109222,  1.00246167],\n",
       "           [ 0.22617602,  5.91436672, -1.24965966],\n",
       "           [-0.86797071,  4.49914694, -2.23730707],\n",
       "           ..., \n",
       "           [-0.86797071,  4.49914694, -2.23730707],\n",
       "           [ 0.35217339,  6.05464506, -0.97702229],\n",
       "           [-0.94428313,  2.85663223, -1.20831323]],\n",
       "   \n",
       "          [[ 3.98033881,  7.057652  ,  3.14730716],\n",
       "           [ 4.38331318,  8.61648941,  2.90633965],\n",
       "           [ 3.71419668,  7.73366451,  2.28064108],\n",
       "           ..., \n",
       "           [ 3.71419668,  7.73366451,  2.28064108],\n",
       "           [ 4.5531497 ,  8.81365967,  3.1586175 ],\n",
       "           [ 2.47189689,  5.3288784 ,  1.95598435]]], dtype=float32)],\n",
       "  array([[[ 1.,  1.,  1.],\n",
       "          [ 1.,  1.,  1.],\n",
       "          [ 1.,  1.,  1.],\n",
       "          ..., \n",
       "          [ 1.,  1.,  1.],\n",
       "          [ 1.,  1.,  1.],\n",
       "          [ 1.,  1.,  1.]],\n",
       "  \n",
       "         [[ 1.,  1.,  1.],\n",
       "          [ 1.,  1.,  1.],\n",
       "          [ 1.,  1.,  1.],\n",
       "          ..., \n",
       "          [ 1.,  1.,  1.],\n",
       "          [ 1.,  1.,  1.],\n",
       "          [ 1.,  1.,  1.]],\n",
       "  \n",
       "         [[ 1.,  1.,  1.],\n",
       "          [ 1.,  1.,  1.],\n",
       "          [ 1.,  1.,  1.],\n",
       "          ..., \n",
       "          [ 1.,  1.,  1.],\n",
       "          [ 1.,  1.,  1.],\n",
       "          [ 1.,  1.,  1.]],\n",
       "  \n",
       "         ..., \n",
       "         [[ 1.,  1.,  1.],\n",
       "          [ 1.,  1.,  1.],\n",
       "          [ 1.,  1.,  1.],\n",
       "          ..., \n",
       "          [ 1.,  1.,  1.],\n",
       "          [ 1.,  1.,  1.],\n",
       "          [ 1.,  1.,  1.]],\n",
       "  \n",
       "         [[ 1.,  1.,  1.],\n",
       "          [ 1.,  1.,  1.],\n",
       "          [ 1.,  1.,  1.],\n",
       "          ..., \n",
       "          [ 1.,  1.,  1.],\n",
       "          [ 1.,  1.,  1.],\n",
       "          [ 1.,  1.,  1.]],\n",
       "  \n",
       "         [[ 1.,  1.,  1.],\n",
       "          [ 1.,  1.,  1.],\n",
       "          [ 1.,  1.,  1.],\n",
       "          ..., \n",
       "          [ 1.,  1.,  1.],\n",
       "          [ 1.,  1.,  1.],\n",
       "          [ 1.,  1.,  1.]]])],\n",
       " [[array([[[-2.28044844,  0.49457717, -1.9583627 ],\n",
       "           [-5.48278618, -1.74174953, -5.09784126],\n",
       "           [-6.31425667, -2.77920866, -5.79542685],\n",
       "           ..., \n",
       "           [-6.31425667, -2.77920866, -5.79542685],\n",
       "           [-5.46829748, -1.76422811, -4.95740986],\n",
       "           [-4.30620766, -1.82883024, -3.61231971]],\n",
       "   \n",
       "          [[ 0.20059264,  4.36650085, -0.24547505],\n",
       "           [-2.58756208,  3.0385077 , -3.45700693],\n",
       "           [-3.64870238,  1.67860866, -4.39372253],\n",
       "           ..., \n",
       "           [-3.64870238,  1.67860866, -4.39372253],\n",
       "           [-2.31245565,  3.29749918, -3.03393006],\n",
       "           [-2.57740641,  1.1649667 , -2.48324513]],\n",
       "   \n",
       "          [[ 1.52714419,  5.69832039,  0.62802637],\n",
       "           [-0.68558073,  4.94700241, -2.27060366],\n",
       "           [-1.85801291,  3.4586494 , -3.34421706],\n",
       "           ..., \n",
       "           [-1.85801291,  3.4586494 , -3.34421706],\n",
       "           [-0.52453709,  5.09367609, -1.91807961],\n",
       "           [-1.65465999,  2.05710411, -1.91462374]],\n",
       "   \n",
       "          ..., \n",
       "          [[ 1.52714419,  5.69832039,  0.62802637],\n",
       "           [-0.68558073,  4.94700241, -2.27060366],\n",
       "           [-1.85801291,  3.4586494 , -3.34421706],\n",
       "           ..., \n",
       "           [-1.85801291,  3.4586494 , -3.34421706],\n",
       "           [-0.52453709,  5.09367609, -1.91807961],\n",
       "           [-1.65465999,  2.05710411, -1.91462374]],\n",
       "   \n",
       "          [[ 1.78585649,  5.97109222,  1.00246167],\n",
       "           [ 0.22617602,  5.91436672, -1.24965966],\n",
       "           [-0.86797071,  4.49914694, -2.23730707],\n",
       "           ..., \n",
       "           [-0.86797071,  4.49914694, -2.23730707],\n",
       "           [ 0.35217339,  6.05464506, -0.97702229],\n",
       "           [-0.94428313,  2.85663223, -1.20831323]],\n",
       "   \n",
       "          [[ 3.98033881,  7.057652  ,  3.14730716],\n",
       "           [ 4.38331318,  8.61648941,  2.90633965],\n",
       "           [ 3.71419668,  7.73366451,  2.28064108],\n",
       "           ..., \n",
       "           [ 3.71419668,  7.73366451,  2.28064108],\n",
       "           [ 4.5531497 ,  8.81365967,  3.1586175 ],\n",
       "           [ 2.47189689,  5.3288784 ,  1.95598435]]], dtype=float32),\n",
       "   array([[[-2.28044844,  0.49457717, -1.9583627 ],\n",
       "           [-5.48278618, -1.74174953, -5.09784126],\n",
       "           [-6.31425667, -2.77920866, -5.79542685],\n",
       "           ..., \n",
       "           [-4.46262503, -0.77540874, -4.44567013],\n",
       "           [ 0.53354204,  4.66960716, -0.2232182 ],\n",
       "           [ 0.05982906,  2.70758986, -0.11790776]],\n",
       "   \n",
       "          [[ 0.20059264,  4.36650085, -0.24547505],\n",
       "           [-2.58756208,  3.0385077 , -3.45700693],\n",
       "           [-3.64870238,  1.67860866, -4.39372253],\n",
       "           ..., \n",
       "           [-3.96618843,  1.44007564, -5.09960365],\n",
       "           [ 2.58172822,  8.68701744,  0.38904852],\n",
       "           [ 2.11890531,  6.11169147,  1.09202051]],\n",
       "   \n",
       "          [[ 1.52714419,  5.69832039,  0.62802637],\n",
       "           [-0.68558073,  4.94700241, -2.27060366],\n",
       "           [-1.85801291,  3.4586494 , -3.34421706],\n",
       "           ..., \n",
       "           [-4.89764023,  0.27231157, -6.13741446],\n",
       "           [-1.26876545,  4.4334197 , -2.88815641],\n",
       "           [-1.25157928,  2.49246454, -1.77998865]],\n",
       "   \n",
       "          ..., \n",
       "          [[ 1.52714419,  5.69832039,  0.62802637],\n",
       "           [-0.68558073,  4.94700241, -2.27060366],\n",
       "           [-1.85801291,  3.4586494 , -3.34421706],\n",
       "           ..., \n",
       "           [-1.85801291,  3.4586494 , -3.34421706],\n",
       "           [-0.52453709,  5.09367609, -1.91807961],\n",
       "           [-1.65465999,  2.05710411, -1.91462374]],\n",
       "   \n",
       "          [[ 1.78585649,  5.97109222,  1.00246167],\n",
       "           [ 0.22617602,  5.91436672, -1.24965966],\n",
       "           [-0.86797071,  4.49914694, -2.23730707],\n",
       "           ..., \n",
       "           [-0.86797071,  4.49914694, -2.23730707],\n",
       "           [ 0.35217339,  6.05464506, -0.97702229],\n",
       "           [-0.94428313,  2.85663223, -1.20831323]],\n",
       "   \n",
       "          [[ 3.98033881,  7.057652  ,  3.14730716],\n",
       "           [ 4.38331318,  8.61648941,  2.90633965],\n",
       "           [ 3.71419668,  7.73366451,  2.28064108],\n",
       "           ..., \n",
       "           [ 3.71419668,  7.73366451,  2.28064108],\n",
       "           [ 4.5531497 ,  8.81365967,  3.1586175 ],\n",
       "           [ 2.47189689,  5.3288784 ,  1.95598435]]], dtype=float32),\n",
       "   array([[[-2.28044844,  0.49457717, -1.9583627 ],\n",
       "           [-5.48278618, -1.74174953, -5.09784126],\n",
       "           [-6.31425667, -2.77920866, -5.79542685],\n",
       "           ..., \n",
       "           [-6.31425667, -2.77920866, -5.79542685],\n",
       "           [-5.46829748, -1.76422811, -4.95740986],\n",
       "           [-4.30620766, -1.82883024, -3.61231971]],\n",
       "   \n",
       "          [[ 0.20059264,  4.36650085, -0.24547505],\n",
       "           [-2.58756208,  3.0385077 , -3.45700693],\n",
       "           [-3.64870238,  1.67860866, -4.39372253],\n",
       "           ..., \n",
       "           [-3.64870238,  1.67860866, -4.39372253],\n",
       "           [-2.31245565,  3.29749918, -3.03393006],\n",
       "           [-2.57740641,  1.1649667 , -2.48324513]],\n",
       "   \n",
       "          [[ 1.52714419,  5.69832039,  0.62802637],\n",
       "           [-0.68558073,  4.94700241, -2.27060366],\n",
       "           [-1.85801291,  3.4586494 , -3.34421706],\n",
       "           ..., \n",
       "           [-1.85801291,  3.4586494 , -3.34421706],\n",
       "           [-0.52453709,  5.09367609, -1.91807961],\n",
       "           [-1.65465999,  2.05710411, -1.91462374]],\n",
       "   \n",
       "          ..., \n",
       "          [[ 1.52714419,  5.69832039,  0.62802637],\n",
       "           [-0.68558073,  4.94700241, -2.27060366],\n",
       "           [-1.85801291,  3.4586494 , -3.34421706],\n",
       "           ..., \n",
       "           [-1.85801291,  3.4586494 , -3.34421706],\n",
       "           [-0.52453709,  5.09367609, -1.91807961],\n",
       "           [-1.65465999,  2.05710411, -1.91462374]],\n",
       "   \n",
       "          [[ 1.78585649,  5.97109222,  1.00246167],\n",
       "           [ 0.22617602,  5.91436672, -1.24965966],\n",
       "           [-0.86797071,  4.49914694, -2.23730707],\n",
       "           ..., \n",
       "           [-0.86797071,  4.49914694, -2.23730707],\n",
       "           [ 0.35217339,  6.05464506, -0.97702229],\n",
       "           [-0.94428313,  2.85663223, -1.20831323]],\n",
       "   \n",
       "          [[ 3.98033881,  7.057652  ,  3.14730716],\n",
       "           [ 4.38331318,  8.61648941,  2.90633965],\n",
       "           [ 3.71419668,  7.73366451,  2.28064108],\n",
       "           ..., \n",
       "           [ 3.71419668,  7.73366451,  2.28064108],\n",
       "           [ 4.5531497 ,  8.81365967,  3.1586175 ],\n",
       "           [ 2.47189689,  5.3288784 ,  1.95598435]]], dtype=float32),\n",
       "   array([[[-2.28044844,  0.49457717, -1.9583627 ],\n",
       "           [-5.48278618, -1.74174953, -5.09784126],\n",
       "           [-6.31425667, -2.77920866, -5.79542685],\n",
       "           ..., \n",
       "           [-6.31425667, -2.77920866, -5.79542685],\n",
       "           [-5.46829748, -1.76422811, -4.95740986],\n",
       "           [-4.30620766, -1.82883024, -3.61231971]],\n",
       "   \n",
       "          [[ 0.20059264,  4.36650085, -0.24547505],\n",
       "           [-2.58756208,  3.0385077 , -3.45700693],\n",
       "           [-3.64870238,  1.67860866, -4.39372253],\n",
       "           ..., \n",
       "           [-3.64870238,  1.67860866, -4.39372253],\n",
       "           [-2.31245565,  3.29749918, -3.03393006],\n",
       "           [-2.57740641,  1.1649667 , -2.48324513]],\n",
       "   \n",
       "          [[ 1.52714419,  5.69832039,  0.62802637],\n",
       "           [-0.68558073,  4.94700241, -2.27060366],\n",
       "           [-1.85801291,  3.4586494 , -3.34421706],\n",
       "           ..., \n",
       "           [-1.85801291,  3.4586494 , -3.34421706],\n",
       "           [-0.52453709,  5.09367609, -1.91807961],\n",
       "           [-1.65465999,  2.05710411, -1.91462374]],\n",
       "   \n",
       "          ..., \n",
       "          [[ 1.52714419,  5.69832039,  0.62802637],\n",
       "           [-0.68558073,  4.94700241, -2.27060366],\n",
       "           [-1.85801291,  3.4586494 , -3.34421706],\n",
       "           ..., \n",
       "           [-1.85801291,  3.4586494 , -3.34421706],\n",
       "           [-0.52453709,  5.09367609, -1.91807961],\n",
       "           [-1.65465999,  2.05710411, -1.91462374]],\n",
       "   \n",
       "          [[ 1.78585649,  5.97109222,  1.00246167],\n",
       "           [ 0.22617602,  5.91436672, -1.24965966],\n",
       "           [-0.86797071,  4.49914694, -2.23730707],\n",
       "           ..., \n",
       "           [-0.86797071,  4.49914694, -2.23730707],\n",
       "           [ 0.35217339,  6.05464506, -0.97702229],\n",
       "           [-0.94428313,  2.85663223, -1.20831323]],\n",
       "   \n",
       "          [[ 3.98033881,  7.057652  ,  3.14730716],\n",
       "           [ 4.38331318,  8.61648941,  2.90633965],\n",
       "           [ 3.71419668,  7.73366451,  2.28064108],\n",
       "           ..., \n",
       "           [ 3.71419668,  7.73366451,  2.28064108],\n",
       "           [ 4.5531497 ,  8.81365967,  3.1586175 ],\n",
       "           [ 2.47189689,  5.3288784 ,  1.95598435]]], dtype=float32),\n",
       "   array([[[-2.28044844,  0.49457717, -1.9583627 ],\n",
       "           [-5.48278618, -1.74174953, -5.09784126],\n",
       "           [-6.31425667, -2.77920866, -5.79542685],\n",
       "           ..., \n",
       "           [-6.31425667, -2.77920866, -5.79542685],\n",
       "           [-5.46829748, -1.76422811, -4.95740986],\n",
       "           [-4.30620766, -1.82883024, -3.61231971]],\n",
       "   \n",
       "          [[ 0.20059264,  4.36650085, -0.24547505],\n",
       "           [-2.58756208,  3.0385077 , -3.45700693],\n",
       "           [-3.64870238,  1.67860866, -4.39372253],\n",
       "           ..., \n",
       "           [-3.64870238,  1.67860866, -4.39372253],\n",
       "           [-2.31245565,  3.29749918, -3.03393006],\n",
       "           [-2.57740641,  1.1649667 , -2.48324513]],\n",
       "   \n",
       "          [[ 1.52714419,  5.69832039,  0.62802637],\n",
       "           [-0.68558073,  4.94700241, -2.27060366],\n",
       "           [-1.85801291,  3.4586494 , -3.34421706],\n",
       "           ..., \n",
       "           [-1.85801291,  3.4586494 , -3.34421706],\n",
       "           [-0.52453709,  5.09367609, -1.91807961],\n",
       "           [-1.65465999,  2.05710411, -1.91462374]],\n",
       "   \n",
       "          ..., \n",
       "          [[ 1.52714419,  5.69832039,  0.62802637],\n",
       "           [-0.68558073,  4.94700241, -2.27060366],\n",
       "           [-1.85801291,  3.4586494 , -3.34421706],\n",
       "           ..., \n",
       "           [-1.85801291,  3.4586494 , -3.34421706],\n",
       "           [-0.52453709,  5.09367609, -1.91807961],\n",
       "           [-1.65465999,  2.05710411, -1.91462374]],\n",
       "   \n",
       "          [[ 1.78585649,  5.97109222,  1.00246167],\n",
       "           [ 0.22617602,  5.91436672, -1.24965966],\n",
       "           [-0.86797071,  4.49914694, -2.23730707],\n",
       "           ..., \n",
       "           [-0.86797071,  4.49914694, -2.23730707],\n",
       "           [ 0.35217339,  6.05464506, -0.97702229],\n",
       "           [-0.94428313,  2.85663223, -1.20831323]],\n",
       "   \n",
       "          [[ 3.98033881,  7.057652  ,  3.14730716],\n",
       "           [ 4.38331318,  8.61648941,  2.90633965],\n",
       "           [ 3.71419668,  7.73366451,  2.28064108],\n",
       "           ..., \n",
       "           [ 3.71419668,  7.73366451,  2.28064108],\n",
       "           [ 4.5531497 ,  8.81365967,  3.1586175 ],\n",
       "           [ 2.47189689,  5.3288784 ,  1.95598435]]], dtype=float32)],\n",
       "  array([[[ 1.,  1.,  1.],\n",
       "          [ 1.,  1.,  1.],\n",
       "          [ 1.,  1.,  1.],\n",
       "          ..., \n",
       "          [ 1.,  1.,  1.],\n",
       "          [ 1.,  1.,  1.],\n",
       "          [ 1.,  1.,  1.]],\n",
       "  \n",
       "         [[ 1.,  1.,  1.],\n",
       "          [ 1.,  1.,  1.],\n",
       "          [ 1.,  1.,  1.],\n",
       "          ..., \n",
       "          [ 1.,  1.,  1.],\n",
       "          [ 1.,  1.,  1.],\n",
       "          [ 1.,  1.,  1.]],\n",
       "  \n",
       "         [[ 1.,  1.,  1.],\n",
       "          [ 1.,  1.,  1.],\n",
       "          [ 1.,  1.,  1.],\n",
       "          ..., \n",
       "          [ 1.,  1.,  1.],\n",
       "          [ 1.,  1.,  1.],\n",
       "          [ 1.,  1.,  1.]],\n",
       "  \n",
       "         ..., \n",
       "         [[ 1.,  1.,  1.],\n",
       "          [ 1.,  1.,  1.],\n",
       "          [ 1.,  1.,  1.],\n",
       "          ..., \n",
       "          [ 1.,  1.,  1.],\n",
       "          [ 1.,  1.,  1.],\n",
       "          [ 1.,  1.,  1.]],\n",
       "  \n",
       "         [[ 1.,  1.,  1.],\n",
       "          [ 1.,  1.,  1.],\n",
       "          [ 1.,  1.,  1.],\n",
       "          ..., \n",
       "          [ 1.,  1.,  1.],\n",
       "          [ 1.,  1.,  1.],\n",
       "          [ 1.,  1.,  1.]],\n",
       "  \n",
       "         [[ 1.,  1.,  1.],\n",
       "          [ 1.,  1.,  1.],\n",
       "          [ 1.,  1.,  1.],\n",
       "          ..., \n",
       "          [ 1.,  1.,  1.],\n",
       "          [ 1.,  1.,  1.],\n",
       "          [ 1.,  1.,  1.]]])],\n",
       " [[array([[[-2.28044844,  0.49457717, -1.9583627 ],\n",
       "           [-5.48278618, -1.74174953, -5.09784126],\n",
       "           [-6.31425667, -2.77920866, -5.79542685],\n",
       "           ..., \n",
       "           [-6.31425667, -2.77920866, -5.79542685],\n",
       "           [-5.46829748, -1.76422811, -4.95740986],\n",
       "           [-4.30620766, -1.82883024, -3.61231971]],\n",
       "   \n",
       "          [[ 0.20059264,  4.36650085, -0.24547505],\n",
       "           [-2.58756208,  3.0385077 , -3.45700693],\n",
       "           [-3.64870238,  1.67860866, -4.39372253],\n",
       "           ..., \n",
       "           [-3.64870238,  1.67860866, -4.39372253],\n",
       "           [-2.31245565,  3.29749918, -3.03393006],\n",
       "           [-2.57740641,  1.1649667 , -2.48324513]],\n",
       "   \n",
       "          [[ 1.52714419,  5.69832039,  0.62802637],\n",
       "           [-0.68558073,  4.94700241, -2.27060366],\n",
       "           [-1.85801291,  3.4586494 , -3.34421706],\n",
       "           ..., \n",
       "           [-1.85801291,  3.4586494 , -3.34421706],\n",
       "           [-0.52453709,  5.09367609, -1.91807961],\n",
       "           [-1.65465999,  2.05710411, -1.91462374]],\n",
       "   \n",
       "          ..., \n",
       "          [[ 1.52714419,  5.69832039,  0.62802637],\n",
       "           [-0.68558073,  4.94700241, -2.27060366],\n",
       "           [-1.85801291,  3.4586494 , -3.34421706],\n",
       "           ..., \n",
       "           [-1.85801291,  3.4586494 , -3.34421706],\n",
       "           [-0.52453709,  5.09367609, -1.91807961],\n",
       "           [-1.65465999,  2.05710411, -1.91462374]],\n",
       "   \n",
       "          [[ 1.78585649,  5.97109222,  1.00246167],\n",
       "           [ 0.22617602,  5.91436672, -1.24965966],\n",
       "           [-0.86797071,  4.49914694, -2.23730707],\n",
       "           ..., \n",
       "           [-0.86797071,  4.49914694, -2.23730707],\n",
       "           [ 0.35217339,  6.05464506, -0.97702229],\n",
       "           [-0.94428313,  2.85663223, -1.20831323]],\n",
       "   \n",
       "          [[ 3.98033881,  7.057652  ,  3.14730716],\n",
       "           [ 4.38331318,  8.61648941,  2.90633965],\n",
       "           [ 3.71419668,  7.73366451,  2.28064108],\n",
       "           ..., \n",
       "           [ 3.71419668,  7.73366451,  2.28064108],\n",
       "           [ 4.5531497 ,  8.81365967,  3.1586175 ],\n",
       "           [ 2.47189689,  5.3288784 ,  1.95598435]]], dtype=float32),\n",
       "   array([[[-2.28044844,  0.49457717, -1.9583627 ],\n",
       "           [-5.48278618, -1.74174953, -5.09784126],\n",
       "           [-6.31425667, -2.77920866, -5.79542685],\n",
       "           ..., \n",
       "           [-4.46262503, -0.77540874, -4.44567013],\n",
       "           [ 0.53354204,  4.66960716, -0.2232182 ],\n",
       "           [ 0.05982906,  2.70758986, -0.11790776]],\n",
       "   \n",
       "          [[ 0.20059264,  4.36650085, -0.24547505],\n",
       "           [-2.58756208,  3.0385077 , -3.45700693],\n",
       "           [-3.64870238,  1.67860866, -4.39372253],\n",
       "           ..., \n",
       "           [-3.96618843,  1.44007564, -5.09960365],\n",
       "           [ 2.58172822,  8.68701744,  0.38904852],\n",
       "           [ 2.11890531,  6.11169147,  1.09202051]],\n",
       "   \n",
       "          [[ 1.52714419,  5.69832039,  0.62802637],\n",
       "           [-0.68558073,  4.94700241, -2.27060366],\n",
       "           [-1.85801291,  3.4586494 , -3.34421706],\n",
       "           ..., \n",
       "           [-4.89764023,  0.27231157, -6.13741446],\n",
       "           [-1.26876545,  4.4334197 , -2.88815641],\n",
       "           [-1.25157928,  2.49246454, -1.77998865]],\n",
       "   \n",
       "          ..., \n",
       "          [[ 1.52714419,  5.69832039,  0.62802637],\n",
       "           [-0.68558073,  4.94700241, -2.27060366],\n",
       "           [-1.85801291,  3.4586494 , -3.34421706],\n",
       "           ..., \n",
       "           [-1.85801291,  3.4586494 , -3.34421706],\n",
       "           [-0.52453709,  5.09367609, -1.91807961],\n",
       "           [-1.65465999,  2.05710411, -1.91462374]],\n",
       "   \n",
       "          [[ 1.78585649,  5.97109222,  1.00246167],\n",
       "           [ 0.22617602,  5.91436672, -1.24965966],\n",
       "           [-0.86797071,  4.49914694, -2.23730707],\n",
       "           ..., \n",
       "           [-0.86797071,  4.49914694, -2.23730707],\n",
       "           [ 0.35217339,  6.05464506, -0.97702229],\n",
       "           [-0.94428313,  2.85663223, -1.20831323]],\n",
       "   \n",
       "          [[ 3.98033881,  7.057652  ,  3.14730716],\n",
       "           [ 4.38331318,  8.61648941,  2.90633965],\n",
       "           [ 3.71419668,  7.73366451,  2.28064108],\n",
       "           ..., \n",
       "           [ 3.71419668,  7.73366451,  2.28064108],\n",
       "           [ 4.5531497 ,  8.81365967,  3.1586175 ],\n",
       "           [ 2.47189689,  5.3288784 ,  1.95598435]]], dtype=float32),\n",
       "   array([[[-2.28044844,  0.49457717, -1.9583627 ],\n",
       "           [-5.48278618, -1.74174953, -5.09784126],\n",
       "           [-6.31425667, -2.77920866, -5.79542685],\n",
       "           ..., \n",
       "           [-6.31425667, -2.77920866, -5.79542685],\n",
       "           [-5.46829748, -1.76422811, -4.95740986],\n",
       "           [-4.30620766, -1.82883024, -3.61231971]],\n",
       "   \n",
       "          [[ 0.20059264,  4.36650085, -0.24547505],\n",
       "           [-2.58756208,  3.0385077 , -3.45700693],\n",
       "           [-3.64870238,  1.67860866, -4.39372253],\n",
       "           ..., \n",
       "           [-3.64870238,  1.67860866, -4.39372253],\n",
       "           [-2.31245565,  3.29749918, -3.03393006],\n",
       "           [-2.57740641,  1.1649667 , -2.48324513]],\n",
       "   \n",
       "          [[ 1.52714419,  5.69832039,  0.62802637],\n",
       "           [-0.68558073,  4.94700241, -2.27060366],\n",
       "           [-1.85801291,  3.4586494 , -3.34421706],\n",
       "           ..., \n",
       "           [-1.85801291,  3.4586494 , -3.34421706],\n",
       "           [-0.52453709,  5.09367609, -1.91807961],\n",
       "           [-1.65465999,  2.05710411, -1.91462374]],\n",
       "   \n",
       "          ..., \n",
       "          [[ 1.52714419,  5.69832039,  0.62802637],\n",
       "           [-0.68558073,  4.94700241, -2.27060366],\n",
       "           [-1.85801291,  3.4586494 , -3.34421706],\n",
       "           ..., \n",
       "           [-1.85801291,  3.4586494 , -3.34421706],\n",
       "           [-0.52453709,  5.09367609, -1.91807961],\n",
       "           [-1.65465999,  2.05710411, -1.91462374]],\n",
       "   \n",
       "          [[ 1.78585649,  5.97109222,  1.00246167],\n",
       "           [ 0.22617602,  5.91436672, -1.24965966],\n",
       "           [-0.86797071,  4.49914694, -2.23730707],\n",
       "           ..., \n",
       "           [-0.86797071,  4.49914694, -2.23730707],\n",
       "           [ 0.35217339,  6.05464506, -0.97702229],\n",
       "           [-0.94428313,  2.85663223, -1.20831323]],\n",
       "   \n",
       "          [[ 3.98033881,  7.057652  ,  3.14730716],\n",
       "           [ 4.38331318,  8.61648941,  2.90633965],\n",
       "           [ 3.71419668,  7.73366451,  2.28064108],\n",
       "           ..., \n",
       "           [ 3.71419668,  7.73366451,  2.28064108],\n",
       "           [ 4.5531497 ,  8.81365967,  3.1586175 ],\n",
       "           [ 2.47189689,  5.3288784 ,  1.95598435]]], dtype=float32),\n",
       "   array([[[-2.28044844,  0.49457717, -1.9583627 ],\n",
       "           [-5.48278618, -1.74174953, -5.09784126],\n",
       "           [-6.31425667, -2.77920866, -5.79542685],\n",
       "           ..., \n",
       "           [-6.31425667, -2.77920866, -5.79542685],\n",
       "           [-5.46829748, -1.76422811, -4.95740986],\n",
       "           [-4.30620766, -1.82883024, -3.61231971]],\n",
       "   \n",
       "          [[ 0.20059264,  4.36650085, -0.24547505],\n",
       "           [-2.58756208,  3.0385077 , -3.45700693],\n",
       "           [-3.64870238,  1.67860866, -4.39372253],\n",
       "           ..., \n",
       "           [-3.64870238,  1.67860866, -4.39372253],\n",
       "           [-2.31245565,  3.29749918, -3.03393006],\n",
       "           [-2.57740641,  1.1649667 , -2.48324513]],\n",
       "   \n",
       "          [[ 1.52714419,  5.69832039,  0.62802637],\n",
       "           [-0.68558073,  4.94700241, -2.27060366],\n",
       "           [-1.85801291,  3.4586494 , -3.34421706],\n",
       "           ..., \n",
       "           [-1.85801291,  3.4586494 , -3.34421706],\n",
       "           [-0.52453709,  5.09367609, -1.91807961],\n",
       "           [-1.65465999,  2.05710411, -1.91462374]],\n",
       "   \n",
       "          ..., \n",
       "          [[ 1.52714419,  5.69832039,  0.62802637],\n",
       "           [-0.68558073,  4.94700241, -2.27060366],\n",
       "           [-1.85801291,  3.4586494 , -3.34421706],\n",
       "           ..., \n",
       "           [-1.85801291,  3.4586494 , -3.34421706],\n",
       "           [-0.52453709,  5.09367609, -1.91807961],\n",
       "           [-1.65465999,  2.05710411, -1.91462374]],\n",
       "   \n",
       "          [[ 1.78585649,  5.97109222,  1.00246167],\n",
       "           [ 0.22617602,  5.91436672, -1.24965966],\n",
       "           [-0.86797071,  4.49914694, -2.23730707],\n",
       "           ..., \n",
       "           [-0.86797071,  4.49914694, -2.23730707],\n",
       "           [ 0.35217339,  6.05464506, -0.97702229],\n",
       "           [-0.94428313,  2.85663223, -1.20831323]],\n",
       "   \n",
       "          [[ 3.98033881,  7.057652  ,  3.14730716],\n",
       "           [ 4.38331318,  8.61648941,  2.90633965],\n",
       "           [ 3.71419668,  7.73366451,  2.28064108],\n",
       "           ..., \n",
       "           [ 3.71419668,  7.73366451,  2.28064108],\n",
       "           [ 4.5531497 ,  8.81365967,  3.1586175 ],\n",
       "           [ 2.47189689,  5.3288784 ,  1.95598435]]], dtype=float32),\n",
       "   array([[[-2.28044844,  0.49457717, -1.9583627 ],\n",
       "           [-5.48278618, -1.74174953, -5.09784126],\n",
       "           [-6.31425667, -2.77920866, -5.79542685],\n",
       "           ..., \n",
       "           [-6.31425667, -2.77920866, -5.79542685],\n",
       "           [-5.46829748, -1.76422811, -4.95740986],\n",
       "           [-4.30620766, -1.82883024, -3.61231971]],\n",
       "   \n",
       "          [[ 0.20059264,  4.36650085, -0.24547505],\n",
       "           [-2.58756208,  3.0385077 , -3.45700693],\n",
       "           [-3.64870238,  1.67860866, -4.39372253],\n",
       "           ..., \n",
       "           [-3.64870238,  1.67860866, -4.39372253],\n",
       "           [-2.31245565,  3.29749918, -3.03393006],\n",
       "           [-2.57740641,  1.1649667 , -2.48324513]],\n",
       "   \n",
       "          [[ 1.52714419,  5.69832039,  0.62802637],\n",
       "           [-0.68558073,  4.94700241, -2.27060366],\n",
       "           [-1.85801291,  3.4586494 , -3.34421706],\n",
       "           ..., \n",
       "           [-1.85801291,  3.4586494 , -3.34421706],\n",
       "           [-0.52453709,  5.09367609, -1.91807961],\n",
       "           [-1.65465999,  2.05710411, -1.91462374]],\n",
       "   \n",
       "          ..., \n",
       "          [[ 1.52714419,  5.69832039,  0.62802637],\n",
       "           [-0.68558073,  4.94700241, -2.27060366],\n",
       "           [-1.85801291,  3.4586494 , -3.34421706],\n",
       "           ..., \n",
       "           [-1.85801291,  3.4586494 , -3.34421706],\n",
       "           [-0.52453709,  5.09367609, -1.91807961],\n",
       "           [-1.65465999,  2.05710411, -1.91462374]],\n",
       "   \n",
       "          [[ 1.78585649,  5.97109222,  1.00246167],\n",
       "           [ 0.22617602,  5.91436672, -1.24965966],\n",
       "           [-0.86797071,  4.49914694, -2.23730707],\n",
       "           ..., \n",
       "           [-0.86797071,  4.49914694, -2.23730707],\n",
       "           [ 0.35217339,  6.05464506, -0.97702229],\n",
       "           [-0.94428313,  2.85663223, -1.20831323]],\n",
       "   \n",
       "          [[ 3.98033881,  7.057652  ,  3.14730716],\n",
       "           [ 4.38331318,  8.61648941,  2.90633965],\n",
       "           [ 3.71419668,  7.73366451,  2.28064108],\n",
       "           ..., \n",
       "           [ 3.71419668,  7.73366451,  2.28064108],\n",
       "           [ 4.5531497 ,  8.81365967,  3.1586175 ],\n",
       "           [ 2.47189689,  5.3288784 ,  1.95598435]]], dtype=float32)],\n",
       "  array([[[ 1.,  1.,  1.],\n",
       "          [ 1.,  1.,  1.],\n",
       "          [ 1.,  1.,  1.],\n",
       "          ..., \n",
       "          [ 1.,  1.,  1.],\n",
       "          [ 1.,  1.,  1.],\n",
       "          [ 1.,  1.,  1.]],\n",
       "  \n",
       "         [[ 1.,  1.,  1.],\n",
       "          [ 1.,  1.,  1.],\n",
       "          [ 1.,  1.,  1.],\n",
       "          ..., \n",
       "          [ 1.,  1.,  1.],\n",
       "          [ 1.,  1.,  1.],\n",
       "          [ 1.,  1.,  1.]],\n",
       "  \n",
       "         [[ 1.,  1.,  1.],\n",
       "          [ 1.,  1.,  1.],\n",
       "          [ 1.,  1.,  1.],\n",
       "          ..., \n",
       "          [ 1.,  1.,  1.],\n",
       "          [ 1.,  1.,  1.],\n",
       "          [ 1.,  1.,  1.]],\n",
       "  \n",
       "         ..., \n",
       "         [[ 1.,  1.,  1.],\n",
       "          [ 1.,  1.,  1.],\n",
       "          [ 1.,  1.,  1.],\n",
       "          ..., \n",
       "          [ 1.,  1.,  1.],\n",
       "          [ 1.,  1.,  1.],\n",
       "          [ 1.,  1.,  1.]],\n",
       "  \n",
       "         [[ 1.,  1.,  1.],\n",
       "          [ 1.,  1.,  1.],\n",
       "          [ 1.,  1.,  1.],\n",
       "          ..., \n",
       "          [ 1.,  1.,  1.],\n",
       "          [ 1.,  1.,  1.],\n",
       "          [ 1.,  1.,  1.]],\n",
       "  \n",
       "         [[ 1.,  1.,  1.],\n",
       "          [ 1.,  1.,  1.],\n",
       "          [ 1.,  1.,  1.],\n",
       "          ..., \n",
       "          [ 1.,  1.,  1.],\n",
       "          [ 1.,  1.,  1.],\n",
       "          [ 1.,  1.,  1.]]])],\n",
       " [[array([[[-2.28044844,  0.49457717, -1.9583627 ],\n",
       "           [-5.48278618, -1.74174953, -5.09784126],\n",
       "           [-6.31425667, -2.77920866, -5.79542685],\n",
       "           ..., \n",
       "           [-6.31425667, -2.77920866, -5.79542685],\n",
       "           [-5.46829748, -1.76422811, -4.95740986],\n",
       "           [-4.30620766, -1.82883024, -3.61231971]],\n",
       "   \n",
       "          [[ 0.20059264,  4.36650085, -0.24547505],\n",
       "           [-2.58756208,  3.0385077 , -3.45700693],\n",
       "           [-3.64870238,  1.67860866, -4.39372253],\n",
       "           ..., \n",
       "           [-3.64870238,  1.67860866, -4.39372253],\n",
       "           [-2.31245565,  3.29749918, -3.03393006],\n",
       "           [-2.57740641,  1.1649667 , -2.48324513]],\n",
       "   \n",
       "          [[ 1.52714419,  5.69832039,  0.62802637],\n",
       "           [-0.68558073,  4.94700241, -2.27060366],\n",
       "           [-1.85801291,  3.4586494 , -3.34421706],\n",
       "           ..., \n",
       "           [-1.85801291,  3.4586494 , -3.34421706],\n",
       "           [-0.52453709,  5.09367609, -1.91807961],\n",
       "           [-1.65465999,  2.05710411, -1.91462374]],\n",
       "   \n",
       "          ..., \n",
       "          [[ 1.52714419,  5.69832039,  0.62802637],\n",
       "           [-0.68558073,  4.94700241, -2.27060366],\n",
       "           [-1.85801291,  3.4586494 , -3.34421706],\n",
       "           ..., \n",
       "           [-1.85801291,  3.4586494 , -3.34421706],\n",
       "           [-0.52453709,  5.09367609, -1.91807961],\n",
       "           [-1.65465999,  2.05710411, -1.91462374]],\n",
       "   \n",
       "          [[ 1.78585649,  5.97109222,  1.00246167],\n",
       "           [ 0.22617602,  5.91436672, -1.24965966],\n",
       "           [-0.86797071,  4.49914694, -2.23730707],\n",
       "           ..., \n",
       "           [-0.86797071,  4.49914694, -2.23730707],\n",
       "           [ 0.35217339,  6.05464506, -0.97702229],\n",
       "           [-0.94428313,  2.85663223, -1.20831323]],\n",
       "   \n",
       "          [[ 3.98033881,  7.057652  ,  3.14730716],\n",
       "           [ 4.38331318,  8.61648941,  2.90633965],\n",
       "           [ 3.71419668,  7.73366451,  2.28064108],\n",
       "           ..., \n",
       "           [ 3.71419668,  7.73366451,  2.28064108],\n",
       "           [ 4.5531497 ,  8.81365967,  3.1586175 ],\n",
       "           [ 2.47189689,  5.3288784 ,  1.95598435]]], dtype=float32),\n",
       "   array([[[-2.28044844,  0.49457717, -1.9583627 ],\n",
       "           [-5.48278618, -1.74174953, -5.09784126],\n",
       "           [-6.31425667, -2.77920866, -5.79542685],\n",
       "           ..., \n",
       "           [-6.31425667, -2.77920866, -5.79542685],\n",
       "           [-5.46829748, -1.76422811, -4.95740986],\n",
       "           [-4.30620766, -1.82883024, -3.61231971]],\n",
       "   \n",
       "          [[ 0.20059264,  4.36650085, -0.24547505],\n",
       "           [-2.58756208,  3.0385077 , -3.45700693],\n",
       "           [-3.64870238,  1.67860866, -4.39372253],\n",
       "           ..., \n",
       "           [-3.64870238,  1.67860866, -4.39372253],\n",
       "           [-2.31245565,  3.29749918, -3.03393006],\n",
       "           [-2.57740641,  1.1649667 , -2.48324513]],\n",
       "   \n",
       "          [[ 1.52714419,  5.69832039,  0.62802637],\n",
       "           [-0.68558073,  4.94700241, -2.27060366],\n",
       "           [-1.85801291,  3.4586494 , -3.34421706],\n",
       "           ..., \n",
       "           [-1.85801291,  3.4586494 , -3.34421706],\n",
       "           [-0.52453709,  5.09367609, -1.91807961],\n",
       "           [-1.65465999,  2.05710411, -1.91462374]],\n",
       "   \n",
       "          ..., \n",
       "          [[ 1.52714419,  5.69832039,  0.62802637],\n",
       "           [-0.68558073,  4.94700241, -2.27060366],\n",
       "           [-1.85801291,  3.4586494 , -3.34421706],\n",
       "           ..., \n",
       "           [-1.85801291,  3.4586494 , -3.34421706],\n",
       "           [-0.52453709,  5.09367609, -1.91807961],\n",
       "           [-1.65465999,  2.05710411, -1.91462374]],\n",
       "   \n",
       "          [[ 1.78585649,  5.97109222,  1.00246167],\n",
       "           [ 0.22617602,  5.91436672, -1.24965966],\n",
       "           [-0.86797071,  4.49914694, -2.23730707],\n",
       "           ..., \n",
       "           [-0.86797071,  4.49914694, -2.23730707],\n",
       "           [ 0.35217339,  6.05464506, -0.97702229],\n",
       "           [-0.94428313,  2.85663223, -1.20831323]],\n",
       "   \n",
       "          [[ 3.98033881,  7.057652  ,  3.14730716],\n",
       "           [ 4.38331318,  8.61648941,  2.90633965],\n",
       "           [ 3.71419668,  7.73366451,  2.28064108],\n",
       "           ..., \n",
       "           [ 3.71419668,  7.73366451,  2.28064108],\n",
       "           [ 4.5531497 ,  8.81365967,  3.1586175 ],\n",
       "           [ 2.47189689,  5.3288784 ,  1.95598435]]], dtype=float32),\n",
       "   array([[[-2.28044844,  0.49457717, -1.9583627 ],\n",
       "           [-5.48278618, -1.74174953, -5.09784126],\n",
       "           [-6.31425667, -2.77920866, -5.79542685],\n",
       "           ..., \n",
       "           [-6.31425667, -2.77920866, -5.79542685],\n",
       "           [-5.46829748, -1.76422811, -4.95740986],\n",
       "           [-4.30620766, -1.82883024, -3.61231971]],\n",
       "   \n",
       "          [[ 0.20059264,  4.36650085, -0.24547505],\n",
       "           [-2.58756208,  3.0385077 , -3.45700693],\n",
       "           [-3.64870238,  1.67860866, -4.39372253],\n",
       "           ..., \n",
       "           [-3.64870238,  1.67860866, -4.39372253],\n",
       "           [-2.31245565,  3.29749918, -3.03393006],\n",
       "           [-2.57740641,  1.1649667 , -2.48324513]],\n",
       "   \n",
       "          [[ 1.52714419,  5.69832039,  0.62802637],\n",
       "           [-0.68558073,  4.94700241, -2.27060366],\n",
       "           [-1.85801291,  3.4586494 , -3.34421706],\n",
       "           ..., \n",
       "           [-1.85801291,  3.4586494 , -3.34421706],\n",
       "           [-0.52453709,  5.09367609, -1.91807961],\n",
       "           [-1.65465999,  2.05710411, -1.91462374]],\n",
       "   \n",
       "          ..., \n",
       "          [[ 1.52714419,  5.69832039,  0.62802637],\n",
       "           [-0.68558073,  4.94700241, -2.27060366],\n",
       "           [-1.85801291,  3.4586494 , -3.34421706],\n",
       "           ..., \n",
       "           [-1.85801291,  3.4586494 , -3.34421706],\n",
       "           [-0.52453709,  5.09367609, -1.91807961],\n",
       "           [-1.65465999,  2.05710411, -1.91462374]],\n",
       "   \n",
       "          [[ 1.78585649,  5.97109222,  1.00246167],\n",
       "           [ 0.22617602,  5.91436672, -1.24965966],\n",
       "           [-0.86797071,  4.49914694, -2.23730707],\n",
       "           ..., \n",
       "           [-0.86797071,  4.49914694, -2.23730707],\n",
       "           [ 0.35217339,  6.05464506, -0.97702229],\n",
       "           [-0.94428313,  2.85663223, -1.20831323]],\n",
       "   \n",
       "          [[ 3.98033881,  7.057652  ,  3.14730716],\n",
       "           [ 4.38331318,  8.61648941,  2.90633965],\n",
       "           [ 3.71419668,  7.73366451,  2.28064108],\n",
       "           ..., \n",
       "           [ 3.71419668,  7.73366451,  2.28064108],\n",
       "           [ 4.5531497 ,  8.81365967,  3.1586175 ],\n",
       "           [ 2.47189689,  5.3288784 ,  1.95598435]]], dtype=float32),\n",
       "   array([[[-2.28044844,  0.49457717, -1.9583627 ],\n",
       "           [-5.48278618, -1.74174953, -5.09784126],\n",
       "           [-6.31425667, -2.77920866, -5.79542685],\n",
       "           ..., \n",
       "           [-6.31425667, -2.77920866, -5.79542685],\n",
       "           [-5.46829748, -1.76422811, -4.95740986],\n",
       "           [-4.30620766, -1.82883024, -3.61231971]],\n",
       "   \n",
       "          [[ 0.20059264,  4.36650085, -0.24547505],\n",
       "           [-2.58756208,  3.0385077 , -3.45700693],\n",
       "           [-3.64870238,  1.67860866, -4.39372253],\n",
       "           ..., \n",
       "           [-3.64870238,  1.67860866, -4.39372253],\n",
       "           [-2.31245565,  3.29749918, -3.03393006],\n",
       "           [-2.57740641,  1.1649667 , -2.48324513]],\n",
       "   \n",
       "          [[ 1.52714419,  5.69832039,  0.62802637],\n",
       "           [-0.68558073,  4.94700241, -2.27060366],\n",
       "           [-1.85801291,  3.4586494 , -3.34421706],\n",
       "           ..., \n",
       "           [-1.85801291,  3.4586494 , -3.34421706],\n",
       "           [-0.52453709,  5.09367609, -1.91807961],\n",
       "           [-1.65465999,  2.05710411, -1.91462374]],\n",
       "   \n",
       "          ..., \n",
       "          [[ 1.52714419,  5.69832039,  0.62802637],\n",
       "           [-0.68558073,  4.94700241, -2.27060366],\n",
       "           [-1.85801291,  3.4586494 , -3.34421706],\n",
       "           ..., \n",
       "           [-1.85801291,  3.4586494 , -3.34421706],\n",
       "           [-0.52453709,  5.09367609, -1.91807961],\n",
       "           [-1.65465999,  2.05710411, -1.91462374]],\n",
       "   \n",
       "          [[ 1.78585649,  5.97109222,  1.00246167],\n",
       "           [ 0.22617602,  5.91436672, -1.24965966],\n",
       "           [-0.86797071,  4.49914694, -2.23730707],\n",
       "           ..., \n",
       "           [-0.86797071,  4.49914694, -2.23730707],\n",
       "           [ 0.35217339,  6.05464506, -0.97702229],\n",
       "           [-0.94428313,  2.85663223, -1.20831323]],\n",
       "   \n",
       "          [[ 3.98033881,  7.057652  ,  3.14730716],\n",
       "           [ 4.38331318,  8.61648941,  2.90633965],\n",
       "           [ 3.71419668,  7.73366451,  2.28064108],\n",
       "           ..., \n",
       "           [ 3.71419668,  7.73366451,  2.28064108],\n",
       "           [ 4.5531497 ,  8.81365967,  3.1586175 ],\n",
       "           [ 2.47189689,  5.3288784 ,  1.95598435]]], dtype=float32),\n",
       "   array([[[-2.28044844,  0.49457717, -1.9583627 ],\n",
       "           [-5.48278618, -1.74174953, -5.09784126],\n",
       "           [-6.31425667, -2.77920866, -5.79542685],\n",
       "           ..., \n",
       "           [-6.31425667, -2.77920866, -5.79542685],\n",
       "           [-5.46829748, -1.76422811, -4.95740986],\n",
       "           [-4.30620766, -1.82883024, -3.61231971]],\n",
       "   \n",
       "          [[ 0.20059264,  4.36650085, -0.24547505],\n",
       "           [-2.58756208,  3.0385077 , -3.45700693],\n",
       "           [-3.64870238,  1.67860866, -4.39372253],\n",
       "           ..., \n",
       "           [-3.64870238,  1.67860866, -4.39372253],\n",
       "           [-2.31245565,  3.29749918, -3.03393006],\n",
       "           [-2.57740641,  1.1649667 , -2.48324513]],\n",
       "   \n",
       "          [[ 1.52714419,  5.69832039,  0.62802637],\n",
       "           [-0.68558073,  4.94700241, -2.27060366],\n",
       "           [-1.85801291,  3.4586494 , -3.34421706],\n",
       "           ..., \n",
       "           [-1.85801291,  3.4586494 , -3.34421706],\n",
       "           [-0.52453709,  5.09367609, -1.91807961],\n",
       "           [-1.65465999,  2.05710411, -1.91462374]],\n",
       "   \n",
       "          ..., \n",
       "          [[ 1.52714419,  5.69832039,  0.62802637],\n",
       "           [-0.68558073,  4.94700241, -2.27060366],\n",
       "           [-1.85801291,  3.4586494 , -3.34421706],\n",
       "           ..., \n",
       "           [-1.85801291,  3.4586494 , -3.34421706],\n",
       "           [-0.52453709,  5.09367609, -1.91807961],\n",
       "           [-1.65465999,  2.05710411, -1.91462374]],\n",
       "   \n",
       "          [[ 1.78585649,  5.97109222,  1.00246167],\n",
       "           [ 0.22617602,  5.91436672, -1.24965966],\n",
       "           [-0.86797071,  4.49914694, -2.23730707],\n",
       "           ..., \n",
       "           [-0.86797071,  4.49914694, -2.23730707],\n",
       "           [ 0.35217339,  6.05464506, -0.97702229],\n",
       "           [-0.94428313,  2.85663223, -1.20831323]],\n",
       "   \n",
       "          [[ 3.98033881,  7.057652  ,  3.14730716],\n",
       "           [ 4.38331318,  8.61648941,  2.90633965],\n",
       "           [ 3.71419668,  7.73366451,  2.28064108],\n",
       "           ..., \n",
       "           [ 3.71419668,  7.73366451,  2.28064108],\n",
       "           [ 4.5531497 ,  8.81365967,  3.1586175 ],\n",
       "           [ 2.47189689,  5.3288784 ,  1.95598435]]], dtype=float32)],\n",
       "  array([[[ 1.,  1.,  1.],\n",
       "          [ 1.,  1.,  1.],\n",
       "          [ 1.,  1.,  1.],\n",
       "          ..., \n",
       "          [ 1.,  1.,  1.],\n",
       "          [ 1.,  1.,  1.],\n",
       "          [ 1.,  1.,  1.]],\n",
       "  \n",
       "         [[ 1.,  1.,  1.],\n",
       "          [ 1.,  1.,  1.],\n",
       "          [ 1.,  1.,  1.],\n",
       "          ..., \n",
       "          [ 1.,  1.,  1.],\n",
       "          [ 1.,  1.,  1.],\n",
       "          [ 1.,  1.,  1.]],\n",
       "  \n",
       "         [[ 1.,  1.,  1.],\n",
       "          [ 1.,  1.,  1.],\n",
       "          [ 1.,  1.,  1.],\n",
       "          ..., \n",
       "          [ 1.,  1.,  1.],\n",
       "          [ 1.,  1.,  1.],\n",
       "          [ 1.,  1.,  1.]],\n",
       "  \n",
       "         ..., \n",
       "         [[ 1.,  1.,  1.],\n",
       "          [ 1.,  1.,  1.],\n",
       "          [ 1.,  1.,  1.],\n",
       "          ..., \n",
       "          [ 1.,  1.,  1.],\n",
       "          [ 1.,  1.,  1.],\n",
       "          [ 1.,  1.,  1.]],\n",
       "  \n",
       "         [[ 1.,  1.,  1.],\n",
       "          [ 1.,  1.,  1.],\n",
       "          [ 1.,  1.,  1.],\n",
       "          ..., \n",
       "          [ 1.,  1.,  1.],\n",
       "          [ 1.,  1.,  1.],\n",
       "          [ 1.,  1.,  1.]],\n",
       "  \n",
       "         [[ 1.,  1.,  1.],\n",
       "          [ 1.,  1.,  1.],\n",
       "          [ 1.,  1.,  1.],\n",
       "          ..., \n",
       "          [ 1.,  1.,  1.],\n",
       "          [ 1.,  1.,  1.],\n",
       "          [ 1.,  1.,  1.]]])]]"
      ]
     },
     "execution_count": 1,
     "metadata": {},
     "output_type": "execute_result"
    }
   ],
   "source": [
    "from lookback_ops import *\n",
    "config = return_a_config()\n",
    "test_lb_vgg(config)"
   ]
  },
  {
   "cell_type": "code",
   "execution_count": 1,
   "metadata": {},
   "outputs": [
    {
     "name": "stdout",
     "output_type": "stream",
     "text": [
      "INFO:tensorflow:Restoring parameters from /Users/junr/Documents/prp/pic_data/model/6-10/max.ckpt\n"
     ]
    }
   ],
   "source": [
    "from lookback_ops import *\n",
    "config = return_a_config()\n",
    "b = test_lb_vgg(config)"
   ]
  },
  {
   "cell_type": "code",
   "execution_count": 2,
   "metadata": {},
   "outputs": [],
   "source": [
    "batch_img_list = b"
   ]
  },
  {
   "cell_type": "code",
   "execution_count": 3,
   "metadata": {},
   "outputs": [],
   "source": [
    "single_batch = batch_img_list[0]"
   ]
  },
  {
   "cell_type": "code",
   "execution_count": 4,
   "metadata": {},
   "outputs": [
    {
     "ename": "AttributeError",
     "evalue": "'list' object has no attribute 'shape'",
     "output_type": "error",
     "traceback": [
      "\u001b[0;31m---------------------------------------------------------------------------\u001b[0m",
      "\u001b[0;31mAttributeError\u001b[0m                            Traceback (most recent call last)",
      "\u001b[0;32m<ipython-input-4-d92d399c29f5>\u001b[0m in \u001b[0;36m<module>\u001b[0;34m()\u001b[0m\n\u001b[0;32m----> 1\u001b[0;31m \u001b[0msingle_batch\u001b[0m\u001b[0;34m.\u001b[0m\u001b[0mshape\u001b[0m\u001b[0;34m\u001b[0m\u001b[0m\n\u001b[0m",
      "\u001b[0;31mAttributeError\u001b[0m: 'list' object has no attribute 'shape'"
     ]
    }
   ],
   "source": [
    "single_batch.shape"
   ]
  },
  {
   "cell_type": "code",
   "execution_count": 5,
   "metadata": {},
   "outputs": [
    {
     "data": {
      "text/plain": [
       "2"
      ]
     },
     "execution_count": 5,
     "metadata": {},
     "output_type": "execute_result"
    }
   ],
   "source": [
    "len(single_batch)"
   ]
  },
  {
   "cell_type": "code",
   "execution_count": 6,
   "metadata": {},
   "outputs": [],
   "source": [
    "import matplotlib.pyplot as plt"
   ]
  },
  {
   "cell_type": "code",
   "execution_count": 7,
   "metadata": {},
   "outputs": [
    {
     "data": {
      "text/plain": [
       "<matplotlib.image.AxesImage at 0x1171f06a0>"
      ]
     },
     "execution_count": 7,
     "metadata": {},
     "output_type": "execute_result"
    }
   ],
   "source": [
    "plt.imshow(single_batch[1])"
   ]
  },
  {
   "cell_type": "code",
   "execution_count": 8,
   "metadata": {},
   "outputs": [
    {
     "ename": "ValueError",
     "evalue": "Floating point image RGB values must be in the 0..1 range.",
     "output_type": "error",
     "traceback": [
      "\u001b[0;31m---------------------------------------------------------------------------\u001b[0m",
      "\u001b[0;31mValueError\u001b[0m                                Traceback (most recent call last)",
      "\u001b[0;32m~/pyenv/tf_py3/lib/python3.6/site-packages/IPython/core/formatters.py\u001b[0m in \u001b[0;36m__call__\u001b[0;34m(self, obj)\u001b[0m\n\u001b[1;32m    339\u001b[0m                 \u001b[0;32mpass\u001b[0m\u001b[0;34m\u001b[0m\u001b[0m\n\u001b[1;32m    340\u001b[0m             \u001b[0;32melse\u001b[0m\u001b[0;34m:\u001b[0m\u001b[0;34m\u001b[0m\u001b[0m\n\u001b[0;32m--> 341\u001b[0;31m                 \u001b[0;32mreturn\u001b[0m \u001b[0mprinter\u001b[0m\u001b[0;34m(\u001b[0m\u001b[0mobj\u001b[0m\u001b[0;34m)\u001b[0m\u001b[0;34m\u001b[0m\u001b[0m\n\u001b[0m\u001b[1;32m    342\u001b[0m             \u001b[0;31m# Finally look for special method names\u001b[0m\u001b[0;34m\u001b[0m\u001b[0;34m\u001b[0m\u001b[0m\n\u001b[1;32m    343\u001b[0m             \u001b[0mmethod\u001b[0m \u001b[0;34m=\u001b[0m \u001b[0mget_real_method\u001b[0m\u001b[0;34m(\u001b[0m\u001b[0mobj\u001b[0m\u001b[0;34m,\u001b[0m \u001b[0mself\u001b[0m\u001b[0;34m.\u001b[0m\u001b[0mprint_method\u001b[0m\u001b[0;34m)\u001b[0m\u001b[0;34m\u001b[0m\u001b[0m\n",
      "\u001b[0;32m~/pyenv/tf_py3/lib/python3.6/site-packages/IPython/core/pylabtools.py\u001b[0m in \u001b[0;36m<lambda>\u001b[0;34m(fig)\u001b[0m\n\u001b[1;32m    236\u001b[0m \u001b[0;34m\u001b[0m\u001b[0m\n\u001b[1;32m    237\u001b[0m     \u001b[0;32mif\u001b[0m \u001b[0;34m'png'\u001b[0m \u001b[0;32min\u001b[0m \u001b[0mformats\u001b[0m\u001b[0;34m:\u001b[0m\u001b[0;34m\u001b[0m\u001b[0m\n\u001b[0;32m--> 238\u001b[0;31m         \u001b[0mpng_formatter\u001b[0m\u001b[0;34m.\u001b[0m\u001b[0mfor_type\u001b[0m\u001b[0;34m(\u001b[0m\u001b[0mFigure\u001b[0m\u001b[0;34m,\u001b[0m \u001b[0;32mlambda\u001b[0m \u001b[0mfig\u001b[0m\u001b[0;34m:\u001b[0m \u001b[0mprint_figure\u001b[0m\u001b[0;34m(\u001b[0m\u001b[0mfig\u001b[0m\u001b[0;34m,\u001b[0m \u001b[0;34m'png'\u001b[0m\u001b[0;34m,\u001b[0m \u001b[0;34m**\u001b[0m\u001b[0mkwargs\u001b[0m\u001b[0;34m)\u001b[0m\u001b[0;34m)\u001b[0m\u001b[0;34m\u001b[0m\u001b[0m\n\u001b[0m\u001b[1;32m    239\u001b[0m     \u001b[0;32mif\u001b[0m \u001b[0;34m'retina'\u001b[0m \u001b[0;32min\u001b[0m \u001b[0mformats\u001b[0m \u001b[0;32mor\u001b[0m \u001b[0;34m'png2x'\u001b[0m \u001b[0;32min\u001b[0m \u001b[0mformats\u001b[0m\u001b[0;34m:\u001b[0m\u001b[0;34m\u001b[0m\u001b[0m\n\u001b[1;32m    240\u001b[0m         \u001b[0mpng_formatter\u001b[0m\u001b[0;34m.\u001b[0m\u001b[0mfor_type\u001b[0m\u001b[0;34m(\u001b[0m\u001b[0mFigure\u001b[0m\u001b[0;34m,\u001b[0m \u001b[0;32mlambda\u001b[0m \u001b[0mfig\u001b[0m\u001b[0;34m:\u001b[0m \u001b[0mretina_figure\u001b[0m\u001b[0;34m(\u001b[0m\u001b[0mfig\u001b[0m\u001b[0;34m,\u001b[0m \u001b[0;34m**\u001b[0m\u001b[0mkwargs\u001b[0m\u001b[0;34m)\u001b[0m\u001b[0;34m)\u001b[0m\u001b[0;34m\u001b[0m\u001b[0m\n",
      "\u001b[0;32m~/pyenv/tf_py3/lib/python3.6/site-packages/IPython/core/pylabtools.py\u001b[0m in \u001b[0;36mprint_figure\u001b[0;34m(fig, fmt, bbox_inches, **kwargs)\u001b[0m\n\u001b[1;32m    120\u001b[0m \u001b[0;34m\u001b[0m\u001b[0m\n\u001b[1;32m    121\u001b[0m     \u001b[0mbytes_io\u001b[0m \u001b[0;34m=\u001b[0m \u001b[0mBytesIO\u001b[0m\u001b[0;34m(\u001b[0m\u001b[0;34m)\u001b[0m\u001b[0;34m\u001b[0m\u001b[0m\n\u001b[0;32m--> 122\u001b[0;31m     \u001b[0mfig\u001b[0m\u001b[0;34m.\u001b[0m\u001b[0mcanvas\u001b[0m\u001b[0;34m.\u001b[0m\u001b[0mprint_figure\u001b[0m\u001b[0;34m(\u001b[0m\u001b[0mbytes_io\u001b[0m\u001b[0;34m,\u001b[0m \u001b[0;34m**\u001b[0m\u001b[0mkw\u001b[0m\u001b[0;34m)\u001b[0m\u001b[0;34m\u001b[0m\u001b[0m\n\u001b[0m\u001b[1;32m    123\u001b[0m     \u001b[0mdata\u001b[0m \u001b[0;34m=\u001b[0m \u001b[0mbytes_io\u001b[0m\u001b[0;34m.\u001b[0m\u001b[0mgetvalue\u001b[0m\u001b[0;34m(\u001b[0m\u001b[0;34m)\u001b[0m\u001b[0;34m\u001b[0m\u001b[0m\n\u001b[1;32m    124\u001b[0m     \u001b[0;32mif\u001b[0m \u001b[0mfmt\u001b[0m \u001b[0;34m==\u001b[0m \u001b[0;34m'svg'\u001b[0m\u001b[0;34m:\u001b[0m\u001b[0;34m\u001b[0m\u001b[0m\n",
      "\u001b[0;32m~/pyenv/tf_py3/lib/python3.6/site-packages/matplotlib/backend_bases.py\u001b[0m in \u001b[0;36mprint_figure\u001b[0;34m(self, filename, dpi, facecolor, edgecolor, orientation, format, **kwargs)\u001b[0m\n\u001b[1;32m   2206\u001b[0m                     \u001b[0morientation\u001b[0m\u001b[0;34m=\u001b[0m\u001b[0morientation\u001b[0m\u001b[0;34m,\u001b[0m\u001b[0;34m\u001b[0m\u001b[0m\n\u001b[1;32m   2207\u001b[0m                     \u001b[0mdryrun\u001b[0m\u001b[0;34m=\u001b[0m\u001b[0;32mTrue\u001b[0m\u001b[0;34m,\u001b[0m\u001b[0;34m\u001b[0m\u001b[0m\n\u001b[0;32m-> 2208\u001b[0;31m                     **kwargs)\n\u001b[0m\u001b[1;32m   2209\u001b[0m                 \u001b[0mrenderer\u001b[0m \u001b[0;34m=\u001b[0m \u001b[0mself\u001b[0m\u001b[0;34m.\u001b[0m\u001b[0mfigure\u001b[0m\u001b[0;34m.\u001b[0m\u001b[0m_cachedRenderer\u001b[0m\u001b[0;34m\u001b[0m\u001b[0m\n\u001b[1;32m   2210\u001b[0m                 \u001b[0mbbox_inches\u001b[0m \u001b[0;34m=\u001b[0m \u001b[0mself\u001b[0m\u001b[0;34m.\u001b[0m\u001b[0mfigure\u001b[0m\u001b[0;34m.\u001b[0m\u001b[0mget_tightbbox\u001b[0m\u001b[0;34m(\u001b[0m\u001b[0mrenderer\u001b[0m\u001b[0;34m)\u001b[0m\u001b[0;34m\u001b[0m\u001b[0m\n",
      "\u001b[0;32m~/pyenv/tf_py3/lib/python3.6/site-packages/matplotlib/backends/backend_agg.py\u001b[0m in \u001b[0;36mprint_png\u001b[0;34m(self, filename_or_obj, *args, **kwargs)\u001b[0m\n\u001b[1;32m    505\u001b[0m \u001b[0;34m\u001b[0m\u001b[0m\n\u001b[1;32m    506\u001b[0m     \u001b[0;32mdef\u001b[0m \u001b[0mprint_png\u001b[0m\u001b[0;34m(\u001b[0m\u001b[0mself\u001b[0m\u001b[0;34m,\u001b[0m \u001b[0mfilename_or_obj\u001b[0m\u001b[0;34m,\u001b[0m \u001b[0;34m*\u001b[0m\u001b[0margs\u001b[0m\u001b[0;34m,\u001b[0m \u001b[0;34m**\u001b[0m\u001b[0mkwargs\u001b[0m\u001b[0;34m)\u001b[0m\u001b[0;34m:\u001b[0m\u001b[0;34m\u001b[0m\u001b[0m\n\u001b[0;32m--> 507\u001b[0;31m         \u001b[0mFigureCanvasAgg\u001b[0m\u001b[0;34m.\u001b[0m\u001b[0mdraw\u001b[0m\u001b[0;34m(\u001b[0m\u001b[0mself\u001b[0m\u001b[0;34m)\u001b[0m\u001b[0;34m\u001b[0m\u001b[0m\n\u001b[0m\u001b[1;32m    508\u001b[0m         \u001b[0mrenderer\u001b[0m \u001b[0;34m=\u001b[0m \u001b[0mself\u001b[0m\u001b[0;34m.\u001b[0m\u001b[0mget_renderer\u001b[0m\u001b[0;34m(\u001b[0m\u001b[0;34m)\u001b[0m\u001b[0;34m\u001b[0m\u001b[0m\n\u001b[1;32m    509\u001b[0m         \u001b[0moriginal_dpi\u001b[0m \u001b[0;34m=\u001b[0m \u001b[0mrenderer\u001b[0m\u001b[0;34m.\u001b[0m\u001b[0mdpi\u001b[0m\u001b[0;34m\u001b[0m\u001b[0m\n",
      "\u001b[0;32m~/pyenv/tf_py3/lib/python3.6/site-packages/matplotlib/backends/backend_agg.py\u001b[0m in \u001b[0;36mdraw\u001b[0;34m(self)\u001b[0m\n\u001b[1;32m    428\u001b[0m             \u001b[0;32mif\u001b[0m \u001b[0mtoolbar\u001b[0m\u001b[0;34m:\u001b[0m\u001b[0;34m\u001b[0m\u001b[0m\n\u001b[1;32m    429\u001b[0m                 \u001b[0mtoolbar\u001b[0m\u001b[0;34m.\u001b[0m\u001b[0mset_cursor\u001b[0m\u001b[0;34m(\u001b[0m\u001b[0mcursors\u001b[0m\u001b[0;34m.\u001b[0m\u001b[0mWAIT\u001b[0m\u001b[0;34m)\u001b[0m\u001b[0;34m\u001b[0m\u001b[0m\n\u001b[0;32m--> 430\u001b[0;31m             \u001b[0mself\u001b[0m\u001b[0;34m.\u001b[0m\u001b[0mfigure\u001b[0m\u001b[0;34m.\u001b[0m\u001b[0mdraw\u001b[0m\u001b[0;34m(\u001b[0m\u001b[0mself\u001b[0m\u001b[0;34m.\u001b[0m\u001b[0mrenderer\u001b[0m\u001b[0;34m)\u001b[0m\u001b[0;34m\u001b[0m\u001b[0m\n\u001b[0m\u001b[1;32m    431\u001b[0m         \u001b[0;32mfinally\u001b[0m\u001b[0;34m:\u001b[0m\u001b[0;34m\u001b[0m\u001b[0m\n\u001b[1;32m    432\u001b[0m             \u001b[0;32mif\u001b[0m \u001b[0mtoolbar\u001b[0m\u001b[0;34m:\u001b[0m\u001b[0;34m\u001b[0m\u001b[0m\n",
      "\u001b[0;32m~/pyenv/tf_py3/lib/python3.6/site-packages/matplotlib/artist.py\u001b[0m in \u001b[0;36mdraw_wrapper\u001b[0;34m(artist, renderer, *args, **kwargs)\u001b[0m\n\u001b[1;32m     53\u001b[0m                 \u001b[0mrenderer\u001b[0m\u001b[0;34m.\u001b[0m\u001b[0mstart_filter\u001b[0m\u001b[0;34m(\u001b[0m\u001b[0;34m)\u001b[0m\u001b[0;34m\u001b[0m\u001b[0m\n\u001b[1;32m     54\u001b[0m \u001b[0;34m\u001b[0m\u001b[0m\n\u001b[0;32m---> 55\u001b[0;31m             \u001b[0;32mreturn\u001b[0m \u001b[0mdraw\u001b[0m\u001b[0;34m(\u001b[0m\u001b[0martist\u001b[0m\u001b[0;34m,\u001b[0m \u001b[0mrenderer\u001b[0m\u001b[0;34m,\u001b[0m \u001b[0;34m*\u001b[0m\u001b[0margs\u001b[0m\u001b[0;34m,\u001b[0m \u001b[0;34m**\u001b[0m\u001b[0mkwargs\u001b[0m\u001b[0;34m)\u001b[0m\u001b[0;34m\u001b[0m\u001b[0m\n\u001b[0m\u001b[1;32m     56\u001b[0m         \u001b[0;32mfinally\u001b[0m\u001b[0;34m:\u001b[0m\u001b[0;34m\u001b[0m\u001b[0m\n\u001b[1;32m     57\u001b[0m             \u001b[0;32mif\u001b[0m \u001b[0martist\u001b[0m\u001b[0;34m.\u001b[0m\u001b[0mget_agg_filter\u001b[0m\u001b[0;34m(\u001b[0m\u001b[0;34m)\u001b[0m \u001b[0;32mis\u001b[0m \u001b[0;32mnot\u001b[0m \u001b[0;32mNone\u001b[0m\u001b[0;34m:\u001b[0m\u001b[0;34m\u001b[0m\u001b[0m\n",
      "\u001b[0;32m~/pyenv/tf_py3/lib/python3.6/site-packages/matplotlib/figure.py\u001b[0m in \u001b[0;36mdraw\u001b[0;34m(self, renderer)\u001b[0m\n\u001b[1;32m   1293\u001b[0m \u001b[0;34m\u001b[0m\u001b[0m\n\u001b[1;32m   1294\u001b[0m             mimage._draw_list_compositing_images(\n\u001b[0;32m-> 1295\u001b[0;31m                 renderer, self, artists, self.suppressComposite)\n\u001b[0m\u001b[1;32m   1296\u001b[0m \u001b[0;34m\u001b[0m\u001b[0m\n\u001b[1;32m   1297\u001b[0m             \u001b[0mrenderer\u001b[0m\u001b[0;34m.\u001b[0m\u001b[0mclose_group\u001b[0m\u001b[0;34m(\u001b[0m\u001b[0;34m'figure'\u001b[0m\u001b[0;34m)\u001b[0m\u001b[0;34m\u001b[0m\u001b[0m\n",
      "\u001b[0;32m~/pyenv/tf_py3/lib/python3.6/site-packages/matplotlib/image.py\u001b[0m in \u001b[0;36m_draw_list_compositing_images\u001b[0;34m(renderer, parent, artists, suppress_composite)\u001b[0m\n\u001b[1;32m    136\u001b[0m     \u001b[0;32mif\u001b[0m \u001b[0mnot_composite\u001b[0m \u001b[0;32mor\u001b[0m \u001b[0;32mnot\u001b[0m \u001b[0mhas_images\u001b[0m\u001b[0;34m:\u001b[0m\u001b[0;34m\u001b[0m\u001b[0m\n\u001b[1;32m    137\u001b[0m         \u001b[0;32mfor\u001b[0m \u001b[0ma\u001b[0m \u001b[0;32min\u001b[0m \u001b[0martists\u001b[0m\u001b[0;34m:\u001b[0m\u001b[0;34m\u001b[0m\u001b[0m\n\u001b[0;32m--> 138\u001b[0;31m             \u001b[0ma\u001b[0m\u001b[0;34m.\u001b[0m\u001b[0mdraw\u001b[0m\u001b[0;34m(\u001b[0m\u001b[0mrenderer\u001b[0m\u001b[0;34m)\u001b[0m\u001b[0;34m\u001b[0m\u001b[0m\n\u001b[0m\u001b[1;32m    139\u001b[0m     \u001b[0;32melse\u001b[0m\u001b[0;34m:\u001b[0m\u001b[0;34m\u001b[0m\u001b[0m\n\u001b[1;32m    140\u001b[0m         \u001b[0;31m# Composite any adjacent images together\u001b[0m\u001b[0;34m\u001b[0m\u001b[0;34m\u001b[0m\u001b[0m\n",
      "\u001b[0;32m~/pyenv/tf_py3/lib/python3.6/site-packages/matplotlib/artist.py\u001b[0m in \u001b[0;36mdraw_wrapper\u001b[0;34m(artist, renderer, *args, **kwargs)\u001b[0m\n\u001b[1;32m     53\u001b[0m                 \u001b[0mrenderer\u001b[0m\u001b[0;34m.\u001b[0m\u001b[0mstart_filter\u001b[0m\u001b[0;34m(\u001b[0m\u001b[0;34m)\u001b[0m\u001b[0;34m\u001b[0m\u001b[0m\n\u001b[1;32m     54\u001b[0m \u001b[0;34m\u001b[0m\u001b[0m\n\u001b[0;32m---> 55\u001b[0;31m             \u001b[0;32mreturn\u001b[0m \u001b[0mdraw\u001b[0m\u001b[0;34m(\u001b[0m\u001b[0martist\u001b[0m\u001b[0;34m,\u001b[0m \u001b[0mrenderer\u001b[0m\u001b[0;34m,\u001b[0m \u001b[0;34m*\u001b[0m\u001b[0margs\u001b[0m\u001b[0;34m,\u001b[0m \u001b[0;34m**\u001b[0m\u001b[0mkwargs\u001b[0m\u001b[0;34m)\u001b[0m\u001b[0;34m\u001b[0m\u001b[0m\n\u001b[0m\u001b[1;32m     56\u001b[0m         \u001b[0;32mfinally\u001b[0m\u001b[0;34m:\u001b[0m\u001b[0;34m\u001b[0m\u001b[0m\n\u001b[1;32m     57\u001b[0m             \u001b[0;32mif\u001b[0m \u001b[0martist\u001b[0m\u001b[0;34m.\u001b[0m\u001b[0mget_agg_filter\u001b[0m\u001b[0;34m(\u001b[0m\u001b[0;34m)\u001b[0m \u001b[0;32mis\u001b[0m \u001b[0;32mnot\u001b[0m \u001b[0;32mNone\u001b[0m\u001b[0;34m:\u001b[0m\u001b[0;34m\u001b[0m\u001b[0m\n",
      "\u001b[0;32m~/pyenv/tf_py3/lib/python3.6/site-packages/matplotlib/axes/_base.py\u001b[0m in \u001b[0;36mdraw\u001b[0;34m(self, renderer, inframe)\u001b[0m\n\u001b[1;32m   2397\u001b[0m             \u001b[0mrenderer\u001b[0m\u001b[0;34m.\u001b[0m\u001b[0mstop_rasterizing\u001b[0m\u001b[0;34m(\u001b[0m\u001b[0;34m)\u001b[0m\u001b[0;34m\u001b[0m\u001b[0m\n\u001b[1;32m   2398\u001b[0m \u001b[0;34m\u001b[0m\u001b[0m\n\u001b[0;32m-> 2399\u001b[0;31m         \u001b[0mmimage\u001b[0m\u001b[0;34m.\u001b[0m\u001b[0m_draw_list_compositing_images\u001b[0m\u001b[0;34m(\u001b[0m\u001b[0mrenderer\u001b[0m\u001b[0;34m,\u001b[0m \u001b[0mself\u001b[0m\u001b[0;34m,\u001b[0m \u001b[0martists\u001b[0m\u001b[0;34m)\u001b[0m\u001b[0;34m\u001b[0m\u001b[0m\n\u001b[0m\u001b[1;32m   2400\u001b[0m \u001b[0;34m\u001b[0m\u001b[0m\n\u001b[1;32m   2401\u001b[0m         \u001b[0mrenderer\u001b[0m\u001b[0;34m.\u001b[0m\u001b[0mclose_group\u001b[0m\u001b[0;34m(\u001b[0m\u001b[0;34m'axes'\u001b[0m\u001b[0;34m)\u001b[0m\u001b[0;34m\u001b[0m\u001b[0m\n",
      "\u001b[0;32m~/pyenv/tf_py3/lib/python3.6/site-packages/matplotlib/image.py\u001b[0m in \u001b[0;36m_draw_list_compositing_images\u001b[0;34m(renderer, parent, artists, suppress_composite)\u001b[0m\n\u001b[1;32m    136\u001b[0m     \u001b[0;32mif\u001b[0m \u001b[0mnot_composite\u001b[0m \u001b[0;32mor\u001b[0m \u001b[0;32mnot\u001b[0m \u001b[0mhas_images\u001b[0m\u001b[0;34m:\u001b[0m\u001b[0;34m\u001b[0m\u001b[0m\n\u001b[1;32m    137\u001b[0m         \u001b[0;32mfor\u001b[0m \u001b[0ma\u001b[0m \u001b[0;32min\u001b[0m \u001b[0martists\u001b[0m\u001b[0;34m:\u001b[0m\u001b[0;34m\u001b[0m\u001b[0m\n\u001b[0;32m--> 138\u001b[0;31m             \u001b[0ma\u001b[0m\u001b[0;34m.\u001b[0m\u001b[0mdraw\u001b[0m\u001b[0;34m(\u001b[0m\u001b[0mrenderer\u001b[0m\u001b[0;34m)\u001b[0m\u001b[0;34m\u001b[0m\u001b[0m\n\u001b[0m\u001b[1;32m    139\u001b[0m     \u001b[0;32melse\u001b[0m\u001b[0;34m:\u001b[0m\u001b[0;34m\u001b[0m\u001b[0m\n\u001b[1;32m    140\u001b[0m         \u001b[0;31m# Composite any adjacent images together\u001b[0m\u001b[0;34m\u001b[0m\u001b[0;34m\u001b[0m\u001b[0m\n",
      "\u001b[0;32m~/pyenv/tf_py3/lib/python3.6/site-packages/matplotlib/artist.py\u001b[0m in \u001b[0;36mdraw_wrapper\u001b[0;34m(artist, renderer, *args, **kwargs)\u001b[0m\n\u001b[1;32m     53\u001b[0m                 \u001b[0mrenderer\u001b[0m\u001b[0;34m.\u001b[0m\u001b[0mstart_filter\u001b[0m\u001b[0;34m(\u001b[0m\u001b[0;34m)\u001b[0m\u001b[0;34m\u001b[0m\u001b[0m\n\u001b[1;32m     54\u001b[0m \u001b[0;34m\u001b[0m\u001b[0m\n\u001b[0;32m---> 55\u001b[0;31m             \u001b[0;32mreturn\u001b[0m \u001b[0mdraw\u001b[0m\u001b[0;34m(\u001b[0m\u001b[0martist\u001b[0m\u001b[0;34m,\u001b[0m \u001b[0mrenderer\u001b[0m\u001b[0;34m,\u001b[0m \u001b[0;34m*\u001b[0m\u001b[0margs\u001b[0m\u001b[0;34m,\u001b[0m \u001b[0;34m**\u001b[0m\u001b[0mkwargs\u001b[0m\u001b[0;34m)\u001b[0m\u001b[0;34m\u001b[0m\u001b[0m\n\u001b[0m\u001b[1;32m     56\u001b[0m         \u001b[0;32mfinally\u001b[0m\u001b[0;34m:\u001b[0m\u001b[0;34m\u001b[0m\u001b[0m\n\u001b[1;32m     57\u001b[0m             \u001b[0;32mif\u001b[0m \u001b[0martist\u001b[0m\u001b[0;34m.\u001b[0m\u001b[0mget_agg_filter\u001b[0m\u001b[0;34m(\u001b[0m\u001b[0;34m)\u001b[0m \u001b[0;32mis\u001b[0m \u001b[0;32mnot\u001b[0m \u001b[0;32mNone\u001b[0m\u001b[0;34m:\u001b[0m\u001b[0;34m\u001b[0m\u001b[0m\n",
      "\u001b[0;32m~/pyenv/tf_py3/lib/python3.6/site-packages/matplotlib/image.py\u001b[0m in \u001b[0;36mdraw\u001b[0;34m(self, renderer, *args, **kwargs)\u001b[0m\n\u001b[1;32m    546\u001b[0m         \u001b[0;32melse\u001b[0m\u001b[0;34m:\u001b[0m\u001b[0;34m\u001b[0m\u001b[0m\n\u001b[1;32m    547\u001b[0m             im, l, b, trans = self.make_image(\n\u001b[0;32m--> 548\u001b[0;31m                 renderer, renderer.get_image_magnification())\n\u001b[0m\u001b[1;32m    549\u001b[0m             \u001b[0;32mif\u001b[0m \u001b[0mim\u001b[0m \u001b[0;32mis\u001b[0m \u001b[0;32mnot\u001b[0m \u001b[0;32mNone\u001b[0m\u001b[0;34m:\u001b[0m\u001b[0;34m\u001b[0m\u001b[0m\n\u001b[1;32m    550\u001b[0m                 \u001b[0mrenderer\u001b[0m\u001b[0;34m.\u001b[0m\u001b[0mdraw_image\u001b[0m\u001b[0;34m(\u001b[0m\u001b[0mgc\u001b[0m\u001b[0;34m,\u001b[0m \u001b[0ml\u001b[0m\u001b[0;34m,\u001b[0m \u001b[0mb\u001b[0m\u001b[0;34m,\u001b[0m \u001b[0mim\u001b[0m\u001b[0;34m)\u001b[0m\u001b[0;34m\u001b[0m\u001b[0m\n",
      "\u001b[0;32m~/pyenv/tf_py3/lib/python3.6/site-packages/matplotlib/image.py\u001b[0m in \u001b[0;36mmake_image\u001b[0;34m(self, renderer, magnification, unsampled)\u001b[0m\n\u001b[1;32m    772\u001b[0m         return self._make_image(\n\u001b[1;32m    773\u001b[0m             \u001b[0mself\u001b[0m\u001b[0;34m.\u001b[0m\u001b[0m_A\u001b[0m\u001b[0;34m,\u001b[0m \u001b[0mbbox\u001b[0m\u001b[0;34m,\u001b[0m \u001b[0mtransformed_bbox\u001b[0m\u001b[0;34m,\u001b[0m \u001b[0mself\u001b[0m\u001b[0;34m.\u001b[0m\u001b[0maxes\u001b[0m\u001b[0;34m.\u001b[0m\u001b[0mbbox\u001b[0m\u001b[0;34m,\u001b[0m \u001b[0mmagnification\u001b[0m\u001b[0;34m,\u001b[0m\u001b[0;34m\u001b[0m\u001b[0m\n\u001b[0;32m--> 774\u001b[0;31m             unsampled=unsampled)\n\u001b[0m\u001b[1;32m    775\u001b[0m \u001b[0;34m\u001b[0m\u001b[0m\n\u001b[1;32m    776\u001b[0m     \u001b[0;32mdef\u001b[0m \u001b[0m_check_unsampled_image\u001b[0m\u001b[0;34m(\u001b[0m\u001b[0mself\u001b[0m\u001b[0;34m,\u001b[0m \u001b[0mrenderer\u001b[0m\u001b[0;34m)\u001b[0m\u001b[0;34m:\u001b[0m\u001b[0;34m\u001b[0m\u001b[0m\n",
      "\u001b[0;32m~/pyenv/tf_py3/lib/python3.6/site-packages/matplotlib/image.py\u001b[0m in \u001b[0;36m_make_image\u001b[0;34m(self, A, in_bbox, out_bbox, clip_bbox, magnification, unsampled, round_to_pixel_border)\u001b[0m\n\u001b[1;32m    464\u001b[0m             \u001b[0;31m# (of int or float)\u001b[0m\u001b[0;34m\u001b[0m\u001b[0;34m\u001b[0m\u001b[0m\n\u001b[1;32m    465\u001b[0m             \u001b[0;31m# or an RGBA array of re-sampled input\u001b[0m\u001b[0;34m\u001b[0m\u001b[0;34m\u001b[0m\u001b[0m\n\u001b[0;32m--> 466\u001b[0;31m             \u001b[0moutput\u001b[0m \u001b[0;34m=\u001b[0m \u001b[0mself\u001b[0m\u001b[0;34m.\u001b[0m\u001b[0mto_rgba\u001b[0m\u001b[0;34m(\u001b[0m\u001b[0moutput\u001b[0m\u001b[0;34m,\u001b[0m \u001b[0mbytes\u001b[0m\u001b[0;34m=\u001b[0m\u001b[0;32mTrue\u001b[0m\u001b[0;34m,\u001b[0m \u001b[0mnorm\u001b[0m\u001b[0;34m=\u001b[0m\u001b[0;32mFalse\u001b[0m\u001b[0;34m)\u001b[0m\u001b[0;34m\u001b[0m\u001b[0m\n\u001b[0m\u001b[1;32m    467\u001b[0m             \u001b[0;31m# output is now a correctly sized RGBA array of uint8\u001b[0m\u001b[0;34m\u001b[0m\u001b[0;34m\u001b[0m\u001b[0m\n\u001b[1;32m    468\u001b[0m \u001b[0;34m\u001b[0m\u001b[0m\n",
      "\u001b[0;32m~/pyenv/tf_py3/lib/python3.6/site-packages/matplotlib/cm.py\u001b[0m in \u001b[0;36mto_rgba\u001b[0;34m(self, x, alpha, bytes, norm)\u001b[0m\n\u001b[1;32m    255\u001b[0m                 \u001b[0;32mif\u001b[0m \u001b[0mxx\u001b[0m\u001b[0;34m.\u001b[0m\u001b[0mdtype\u001b[0m\u001b[0;34m.\u001b[0m\u001b[0mkind\u001b[0m \u001b[0;34m==\u001b[0m \u001b[0;34m'f'\u001b[0m\u001b[0;34m:\u001b[0m\u001b[0;34m\u001b[0m\u001b[0m\n\u001b[1;32m    256\u001b[0m                     \u001b[0;32mif\u001b[0m \u001b[0mnorm\u001b[0m \u001b[0;32mand\u001b[0m \u001b[0mxx\u001b[0m\u001b[0;34m.\u001b[0m\u001b[0mmax\u001b[0m\u001b[0;34m(\u001b[0m\u001b[0;34m)\u001b[0m \u001b[0;34m>\u001b[0m \u001b[0;36m1\u001b[0m \u001b[0;32mor\u001b[0m \u001b[0mxx\u001b[0m\u001b[0;34m.\u001b[0m\u001b[0mmin\u001b[0m\u001b[0;34m(\u001b[0m\u001b[0;34m)\u001b[0m \u001b[0;34m<\u001b[0m \u001b[0;36m0\u001b[0m\u001b[0;34m:\u001b[0m\u001b[0;34m\u001b[0m\u001b[0m\n\u001b[0;32m--> 257\u001b[0;31m                         raise ValueError(\"Floating point image RGB values \"\n\u001b[0m\u001b[1;32m    258\u001b[0m                                          \"must be in the 0..1 range.\")\n\u001b[1;32m    259\u001b[0m                     \u001b[0;32mif\u001b[0m \u001b[0mbytes\u001b[0m\u001b[0;34m:\u001b[0m\u001b[0;34m\u001b[0m\u001b[0m\n",
      "\u001b[0;31mValueError\u001b[0m: Floating point image RGB values must be in the 0..1 range."
     ]
    },
    {
     "data": {
      "text/plain": [
       "<matplotlib.figure.Figure at 0x114a17400>"
      ]
     },
     "metadata": {},
     "output_type": "display_data"
    }
   ],
   "source": [
    "plt.show()"
   ]
  },
  {
   "cell_type": "code",
   "execution_count": 9,
   "metadata": {},
   "outputs": [
    {
     "data": {
      "text/plain": [
       "<matplotlib.image.AxesImage at 0x114a09a58>"
      ]
     },
     "execution_count": 9,
     "metadata": {},
     "output_type": "execute_result"
    }
   ],
   "source": [
    "plt.imshow(single_batch[1]/2.0+0.5)"
   ]
  },
  {
   "cell_type": "code",
   "execution_count": 10,
   "metadata": {},
   "outputs": [
    {
     "data": {
      "image/png": "[encoded data removed]",
      "text/plain": [
       "<matplotlib.figure.Figure at 0x114a207b8>"
      ]
     },
     "metadata": {},
     "output_type": "display_data"
    }
   ],
   "source": [
    "plt.show()"
   ]
  },
  {
   "cell_type": "code",
   "execution_count": 11,
   "metadata": {},
   "outputs": [],
   "source": [
    "lb_imgs = single_batch[0]"
   ]
  },
  {
   "cell_type": "code",
   "execution_count": 12,
   "metadata": {},
   "outputs": [
    {
     "data": {
      "text/plain": [
       "5"
      ]
     },
     "execution_count": 12,
     "metadata": {},
     "output_type": "execute_result"
    }
   ],
   "source": [
    "len(lb_imgs)"
   ]
  },
  {
   "cell_type": "code",
   "execution_count": 13,
   "metadata": {},
   "outputs": [],
   "source": [
    "lb_imgs_s = lb_imgs[0]"
   ]
  },
  {
   "cell_type": "code",
   "execution_count": 14,
   "metadata": {},
   "outputs": [
    {
     "data": {
      "text/plain": [
       "(128, 320, 3)"
      ]
     },
     "execution_count": 14,
     "metadata": {},
     "output_type": "execute_result"
    }
   ],
   "source": [
    "lb_imgs_s.shape"
   ]
  },
  {
   "cell_type": "code",
   "execution_count": 15,
   "metadata": {},
   "outputs": [
    {
     "data": {
      "text/plain": [
       "29.887991"
      ]
     },
     "execution_count": 15,
     "metadata": {},
     "output_type": "execute_result"
    }
   ],
   "source": [
    "np.max(lb_imgs_s)"
   ]
  },
  {
   "cell_type": "code",
   "execution_count": 16,
   "metadata": {},
   "outputs": [
    {
     "data": {
      "text/plain": [
       "-47.761768"
      ]
     },
     "execution_count": 16,
     "metadata": {},
     "output_type": "execute_result"
    }
   ],
   "source": [
    "np.min(lb_imgs_s)"
   ]
  },
  {
   "cell_type": "code",
   "execution_count": 17,
   "metadata": {},
   "outputs": [
    {
     "data": {
      "text/plain": [
       "<matplotlib.image.AxesImage at 0x1170abac8>"
      ]
     },
     "execution_count": 17,
     "metadata": {},
     "output_type": "execute_result"
    }
   ],
   "source": [
    "lb_imgs_s"
   ]
  },
  {
   "cell_type": "code",
   "execution_count": 18,
   "metadata": {},
   "outputs": [
    {
     "data": {
      "image/png": "[encoded data removed]",
      "text/plain": [
       "<matplotlib.figure.Figure at 0x1045d7898>"
      ]
     },
     "metadata": {},
     "output_type": "display_data"
    }
   ],
   "source": [
    "plt.show()"
   ]
  },
  {
   "cell_type": "code",
   "execution_count": 19,
   "metadata": {},
   "outputs": [
    {
     "data": {
      "text/plain": [
       "<matplotlib.image.AxesImage at 0x117287c50>"
      ]
     },
     "execution_count": 19,
     "metadata": {},
     "output_type": "execute_result"
    },
    {
     "data": {
      "image/png": "[encoded data removed]",
      "text/plain": [
       "<matplotlib.figure.Figure at 0x1045d7438>"
      ]
     },
     "metadata": {},
     "output_type": "display_data"
    }
   ],
   "source": [
    "%matplotlib inline\n",
    "plt.imshow(normalize(lb_imgs_s), cmap ='gray')"
   ]
  },
  {
   "cell_type": "code",
   "execution_count": 1,
   "metadata": {},
   "outputs": [],
   "source": [
    "from lookback_ops import *"
   ]
  },
  {
   "cell_type": "code",
   "execution_count": 2,
   "metadata": {},
   "outputs": [],
   "source": [
    "config = return_a_config()"
   ]
  },
  {
   "cell_type": "code",
   "execution_count": 1,
   "metadata": {},
   "outputs": [
    {
     "name": "stdout",
     "output_type": "stream",
     "text": [
      "INFO:tensorflow:Restoring parameters from /Users/junr/Documents/prp/pic_data/model/6-10/max.ckpt\n"
     ]
    },
    {
     "ename": "AttributeError",
     "evalue": "module 'skimage.io' has no attribute 'save'",
     "output_type": "error",
     "traceback": [
      "\u001b[0;31m---------------------------------------------------------------------------\u001b[0m",
      "\u001b[0;31mAttributeError\u001b[0m                            Traceback (most recent call last)",
      "\u001b[0;32m<ipython-input-1-d7532aba068b>\u001b[0m in \u001b[0;36m<module>\u001b[0;34m()\u001b[0m\n\u001b[1;32m      2\u001b[0m \u001b[0mconfig\u001b[0m \u001b[0;34m=\u001b[0m \u001b[0mreturn_a_config\u001b[0m\u001b[0;34m(\u001b[0m\u001b[0;34m)\u001b[0m\u001b[0;34m\u001b[0m\u001b[0m\n\u001b[1;32m      3\u001b[0m \u001b[0mbatch_img_list\u001b[0m\u001b[0;34m,\u001b[0m \u001b[0mlabels\u001b[0m\u001b[0;34m,\u001b[0m \u001b[0mstage\u001b[0m \u001b[0;34m=\u001b[0m \u001b[0mtest_lb_vgg\u001b[0m\u001b[0;34m(\u001b[0m\u001b[0mconfig\u001b[0m\u001b[0;34m)\u001b[0m\u001b[0;34m\u001b[0m\u001b[0m\n\u001b[0;32m----> 4\u001b[0;31m \u001b[0msimple_save_result_from_test_lb\u001b[0m\u001b[0;34m(\u001b[0m\u001b[0mbatch_img_list\u001b[0m\u001b[0;34m,\u001b[0m \u001b[0mlabels\u001b[0m\u001b[0;34m,\u001b[0m \u001b[0mstage\u001b[0m\u001b[0;34m,\u001b[0m \u001b[0mconfig\u001b[0m\u001b[0;34m)\u001b[0m\u001b[0;34m\u001b[0m\u001b[0m\n\u001b[0m",
      "\u001b[0;32m~/Desktop/keras_model/lookback_ops.py\u001b[0m in \u001b[0;36msimple_save_result_from_test_lb\u001b[0;34m(batch_img_list, labels, stage, config)\u001b[0m\n\u001b[1;32m    390\u001b[0m     \u001b[0mori_img\u001b[0m \u001b[0;34m=\u001b[0m \u001b[0msingle_batch\u001b[0m\u001b[0;34m[\u001b[0m\u001b[0;36m1\u001b[0m\u001b[0;34m]\u001b[0m\u001b[0;34m\u001b[0m\u001b[0m\n\u001b[1;32m    391\u001b[0m     \u001b[0mskimage\u001b[0m\u001b[0;34m.\u001b[0m\u001b[0mio\u001b[0m\u001b[0;34m.\u001b[0m\u001b[0msave\u001b[0m\u001b[0;34m(\u001b[0m\u001b[0mtmp_path\u001b[0m \u001b[0;34m+\u001b[0m \u001b[0;34m'/ori.bmp'\u001b[0m\u001b[0;34m,\u001b[0m \u001b[0mori_img\u001b[0m\u001b[0;34m)\u001b[0m\u001b[0;34m\u001b[0m\u001b[0m\n\u001b[0;32m--> 392\u001b[0;31m     \u001b[0mtmp_count_inner\u001b[0m \u001b[0;34m=\u001b[0m \u001b[0;36m0\u001b[0m\u001b[0;34m\u001b[0m\u001b[0m\n\u001b[0m\u001b[1;32m    393\u001b[0m     \u001b[0;32mfor\u001b[0m \u001b[0msingle_kernel_lb\u001b[0m \u001b[0;32min\u001b[0m \u001b[0msingle_batch\u001b[0m\u001b[0;34m[\u001b[0m\u001b[0;36m0\u001b[0m\u001b[0;34m]\u001b[0m\u001b[0;34m:\u001b[0m\u001b[0;34m\u001b[0m\u001b[0m\n\u001b[1;32m    394\u001b[0m       \u001b[0mtmp_count_inner\u001b[0m \u001b[0;34m+=\u001b[0m \u001b[0;36m1\u001b[0m\u001b[0;34m\u001b[0m\u001b[0m\n",
      "\u001b[0;31mAttributeError\u001b[0m: module 'skimage.io' has no attribute 'save'"
     ]
    }
   ],
   "source": [
    "from lookback_ops import *\n",
    "config = return_a_config()\n",
    "batch_img_list, labels, stage = test_lb_vgg(config)\n",
    "simple_save_result_from_test_lb(batch_img_list, labels, stage, config)"
   ]
  },
  {
   "cell_type": "code",
   "execution_count": 1,
   "metadata": {},
   "outputs": [
    {
     "name": "stdout",
     "output_type": "stream",
     "text": [
      "INFO:tensorflow:Restoring parameters from /Users/junr/Documents/prp/pic_data/model/6-10/max.ckpt\n"
     ]
    },
    {
     "name": "stderr",
     "output_type": "stream",
     "text": [
      "/Users/junr/pyenv/tf_py3/lib/python3.6/site-packages/skimage/util/dtype.py:122: UserWarning: Possible precision loss when converting from float64 to uint8\n",
      "  .format(dtypeobj_in, dtypeobj_out))\n",
      "/Users/junr/pyenv/tf_py3/lib/python3.6/site-packages/skimage/io/_io.py:132: UserWarning: /Users/junr/Documents/prp/pic_data/model/6-10/CG328096/11.bmp is a low contrast image\n",
      "  warn('%s is a low contrast image' % fname)\n",
      "/Users/junr/pyenv/tf_py3/lib/python3.6/site-packages/skimage/util/dtype.py:122: UserWarning: Possible precision loss when converting from float32 to uint8\n",
      "  .format(dtypeobj_in, dtypeobj_out))\n",
      "/Users/junr/pyenv/tf_py3/lib/python3.6/site-packages/skimage/io/_io.py:132: UserWarning: /Users/junr/Documents/prp/pic_data/model/6-10/CG328096/12.bmp is a low contrast image\n",
      "  warn('%s is a low contrast image' % fname)\n",
      "/Users/junr/pyenv/tf_py3/lib/python3.6/site-packages/skimage/io/_io.py:132: UserWarning: /Users/junr/Documents/prp/pic_data/model/6-10/CG328096/21.bmp is a low contrast image\n",
      "  warn('%s is a low contrast image' % fname)\n",
      "/Users/junr/pyenv/tf_py3/lib/python3.6/site-packages/skimage/io/_io.py:132: UserWarning: /Users/junr/Documents/prp/pic_data/model/6-10/CG328096/31.bmp is a low contrast image\n",
      "  warn('%s is a low contrast image' % fname)\n",
      "/Users/junr/pyenv/tf_py3/lib/python3.6/site-packages/skimage/io/_io.py:132: UserWarning: /Users/junr/Documents/prp/pic_data/model/6-10/CG328096/32.bmp is a low contrast image\n",
      "  warn('%s is a low contrast image' % fname)\n",
      "/Users/junr/pyenv/tf_py3/lib/python3.6/site-packages/skimage/io/_io.py:132: UserWarning: /Users/junr/Documents/prp/pic_data/model/6-10/CG328096/41.bmp is a low contrast image\n",
      "  warn('%s is a low contrast image' % fname)\n",
      "/Users/junr/pyenv/tf_py3/lib/python3.6/site-packages/skimage/io/_io.py:132: UserWarning: /Users/junr/Documents/prp/pic_data/model/6-10/CG328096/42.bmp is a low contrast image\n",
      "  warn('%s is a low contrast image' % fname)\n",
      "/Users/junr/pyenv/tf_py3/lib/python3.6/site-packages/skimage/io/_io.py:132: UserWarning: /Users/junr/Documents/prp/pic_data/model/6-10/CG328096/51.bmp is a low contrast image\n",
      "  warn('%s is a low contrast image' % fname)\n",
      "/Users/junr/pyenv/tf_py3/lib/python3.6/site-packages/skimage/io/_io.py:132: UserWarning: /Users/junr/Documents/prp/pic_data/model/6-10/CG328096/61.bmp is a low contrast image\n",
      "  warn('%s is a low contrast image' % fname)\n",
      "/Users/junr/pyenv/tf_py3/lib/python3.6/site-packages/skimage/io/_io.py:132: UserWarning: /Users/junr/Documents/prp/pic_data/model/6-10/CG328096/62.bmp is a low contrast image\n",
      "  warn('%s is a low contrast image' % fname)\n",
      "/Users/junr/pyenv/tf_py3/lib/python3.6/site-packages/skimage/io/_io.py:132: UserWarning: /Users/junr/Documents/prp/pic_data/model/6-10/CG328096/71.bmp is a low contrast image\n",
      "  warn('%s is a low contrast image' % fname)\n",
      "/Users/junr/pyenv/tf_py3/lib/python3.6/site-packages/skimage/io/_io.py:132: UserWarning: /Users/junr/Documents/prp/pic_data/model/6-10/CG328096/72.bmp is a low contrast image\n",
      "  warn('%s is a low contrast image' % fname)\n",
      "/Users/junr/pyenv/tf_py3/lib/python3.6/site-packages/skimage/io/_io.py:132: UserWarning: /Users/junr/Documents/prp/pic_data/model/6-10/CG328096/81.bmp is a low contrast image\n",
      "  warn('%s is a low contrast image' % fname)\n",
      "/Users/junr/pyenv/tf_py3/lib/python3.6/site-packages/skimage/io/_io.py:132: UserWarning: /Users/junr/Documents/prp/pic_data/model/6-10/CG328096/91.bmp is a low contrast image\n",
      "  warn('%s is a low contrast image' % fname)\n",
      "/Users/junr/pyenv/tf_py3/lib/python3.6/site-packages/skimage/io/_io.py:132: UserWarning: /Users/junr/Documents/prp/pic_data/model/6-10/CG328096/92.bmp is a low contrast image\n",
      "  warn('%s is a low contrast image' % fname)\n",
      "/Users/junr/pyenv/tf_py3/lib/python3.6/site-packages/skimage/io/_io.py:132: UserWarning: /Users/junr/Documents/prp/pic_data/model/6-10/CG328096/101.bmp is a low contrast image\n",
      "  warn('%s is a low contrast image' % fname)\n",
      "/Users/junr/pyenv/tf_py3/lib/python3.6/site-packages/skimage/io/_io.py:132: UserWarning: /Users/junr/Documents/prp/pic_data/model/6-10/CG328096/102.bmp is a low contrast image\n",
      "  warn('%s is a low contrast image' % fname)\n",
      "/Users/junr/pyenv/tf_py3/lib/python3.6/site-packages/skimage/io/_io.py:132: UserWarning: /Users/junr/Documents/prp/pic_data/model/6-10/CG328096/111.bmp is a low contrast image\n",
      "  warn('%s is a low contrast image' % fname)\n",
      "/Users/junr/pyenv/tf_py3/lib/python3.6/site-packages/skimage/io/_io.py:132: UserWarning: /Users/junr/Documents/prp/pic_data/model/6-10/CG328096/121.bmp is a low contrast image\n",
      "  warn('%s is a low contrast image' % fname)\n",
      "/Users/junr/pyenv/tf_py3/lib/python3.6/site-packages/skimage/io/_io.py:132: UserWarning: /Users/junr/Documents/prp/pic_data/model/6-10/CG328096/122.bmp is a low contrast image\n",
      "  warn('%s is a low contrast image' % fname)\n",
      "/Users/junr/pyenv/tf_py3/lib/python3.6/site-packages/skimage/io/_io.py:132: UserWarning: /Users/junr/Documents/prp/pic_data/model/6-10/CG328096/131.bmp is a low contrast image\n",
      "  warn('%s is a low contrast image' % fname)\n",
      "/Users/junr/pyenv/tf_py3/lib/python3.6/site-packages/skimage/io/_io.py:132: UserWarning: /Users/junr/Documents/prp/pic_data/model/6-10/CG328096/132.bmp is a low contrast image\n",
      "  warn('%s is a low contrast image' % fname)\n",
      "/Users/junr/pyenv/tf_py3/lib/python3.6/site-packages/skimage/io/_io.py:132: UserWarning: /Users/junr/Documents/prp/pic_data/model/6-10/CG328096/141.bmp is a low contrast image\n",
      "  warn('%s is a low contrast image' % fname)\n",
      "/Users/junr/pyenv/tf_py3/lib/python3.6/site-packages/skimage/io/_io.py:132: UserWarning: /Users/junr/Documents/prp/pic_data/model/6-10/CG328096/151.bmp is a low contrast image\n",
      "  warn('%s is a low contrast image' % fname)\n",
      "/Users/junr/pyenv/tf_py3/lib/python3.6/site-packages/skimage/io/_io.py:132: UserWarning: /Users/junr/Documents/prp/pic_data/model/6-10/CG328096/152.bmp is a low contrast image\n",
      "  warn('%s is a low contrast image' % fname)\n"
     ]
    }
   ],
   "source": [
    "from lookback_ops import *\n",
    "config = return_a_config()\n",
    "batch_img_list, labels, stage = test_lb_vgg(config)\n",
    "simple_save_result_from_test_lb(batch_img_list, labels, stage, config)"
   ]
  },
  {
   "cell_type": "code",
   "execution_count": 1,
   "metadata": {},
   "outputs": [
    {
     "name": "stdout",
     "output_type": "stream",
     "text": [
      "INFO:tensorflow:Restoring parameters from /Users/junr/Documents/prp/pic_data/model/6-10/max.ckpt\n"
     ]
    },
    {
     "name": "stderr",
     "output_type": "stream",
     "text": [
      "/Users/junr/pyenv/tf_py3/lib/python3.6/site-packages/skimage/util/dtype.py:122: UserWarning: Possible precision loss when converting from float64 to uint8\n",
      "  .format(dtypeobj_in, dtypeobj_out))\n",
      "/Users/junr/pyenv/tf_py3/lib/python3.6/site-packages/skimage/io/_io.py:132: UserWarning: /Users/junr/Documents/prp/pic_data/model/6-10/CG328096/1/1.bmp is a low contrast image\n",
      "  warn('%s is a low contrast image' % fname)\n",
      "/Users/junr/pyenv/tf_py3/lib/python3.6/site-packages/skimage/util/dtype.py:122: UserWarning: Possible precision loss when converting from float32 to uint8\n",
      "  .format(dtypeobj_in, dtypeobj_out))\n",
      "/Users/junr/pyenv/tf_py3/lib/python3.6/site-packages/skimage/io/_io.py:132: UserWarning: /Users/junr/Documents/prp/pic_data/model/6-10/CG328096/2/1.bmp is a low contrast image\n",
      "  warn('%s is a low contrast image' % fname)\n",
      "/Users/junr/pyenv/tf_py3/lib/python3.6/site-packages/skimage/io/_io.py:132: UserWarning: /Users/junr/Documents/prp/pic_data/model/6-10/CG328096/3/1.bmp is a low contrast image\n",
      "  warn('%s is a low contrast image' % fname)\n",
      "/Users/junr/pyenv/tf_py3/lib/python3.6/site-packages/skimage/io/_io.py:132: UserWarning: /Users/junr/Documents/prp/pic_data/model/6-10/CG328096/4/1.bmp is a low contrast image\n",
      "  warn('%s is a low contrast image' % fname)\n",
      "/Users/junr/pyenv/tf_py3/lib/python3.6/site-packages/skimage/io/_io.py:132: UserWarning: /Users/junr/Documents/prp/pic_data/model/6-10/CG328096/5/1.bmp is a low contrast image\n",
      "  warn('%s is a low contrast image' % fname)\n",
      "/Users/junr/pyenv/tf_py3/lib/python3.6/site-packages/skimage/io/_io.py:132: UserWarning: /Users/junr/Documents/prp/pic_data/model/6-10/CG328096/6/1.bmp is a low contrast image\n",
      "  warn('%s is a low contrast image' % fname)\n",
      "/Users/junr/pyenv/tf_py3/lib/python3.6/site-packages/skimage/io/_io.py:132: UserWarning: /Users/junr/Documents/prp/pic_data/model/6-10/CG328096/7/1.bmp is a low contrast image\n",
      "  warn('%s is a low contrast image' % fname)\n",
      "/Users/junr/pyenv/tf_py3/lib/python3.6/site-packages/skimage/io/_io.py:132: UserWarning: /Users/junr/Documents/prp/pic_data/model/6-10/CG328096/8/1.bmp is a low contrast image\n",
      "  warn('%s is a low contrast image' % fname)\n",
      "/Users/junr/pyenv/tf_py3/lib/python3.6/site-packages/skimage/io/_io.py:132: UserWarning: /Users/junr/Documents/prp/pic_data/model/6-10/CG328096/9/1.bmp is a low contrast image\n",
      "  warn('%s is a low contrast image' % fname)\n",
      "/Users/junr/pyenv/tf_py3/lib/python3.6/site-packages/skimage/io/_io.py:132: UserWarning: /Users/junr/Documents/prp/pic_data/model/6-10/CG328096/10/1.bmp is a low contrast image\n",
      "  warn('%s is a low contrast image' % fname)\n",
      "/Users/junr/pyenv/tf_py3/lib/python3.6/site-packages/skimage/io/_io.py:132: UserWarning: /Users/junr/Documents/prp/pic_data/model/6-10/CG328096/11/1.bmp is a low contrast image\n",
      "  warn('%s is a low contrast image' % fname)\n",
      "/Users/junr/pyenv/tf_py3/lib/python3.6/site-packages/skimage/io/_io.py:132: UserWarning: /Users/junr/Documents/prp/pic_data/model/6-10/CG328096/12/1.bmp is a low contrast image\n",
      "  warn('%s is a low contrast image' % fname)\n",
      "/Users/junr/pyenv/tf_py3/lib/python3.6/site-packages/skimage/io/_io.py:132: UserWarning: /Users/junr/Documents/prp/pic_data/model/6-10/CG328096/13/1.bmp is a low contrast image\n",
      "  warn('%s is a low contrast image' % fname)\n",
      "/Users/junr/pyenv/tf_py3/lib/python3.6/site-packages/skimage/io/_io.py:132: UserWarning: /Users/junr/Documents/prp/pic_data/model/6-10/CG328096/14/1.bmp is a low contrast image\n",
      "  warn('%s is a low contrast image' % fname)\n",
      "/Users/junr/pyenv/tf_py3/lib/python3.6/site-packages/skimage/io/_io.py:132: UserWarning: /Users/junr/Documents/prp/pic_data/model/6-10/CG328096/15/1.bmp is a low contrast image\n",
      "  warn('%s is a low contrast image' % fname)\n"
     ]
    }
   ],
   "source": [
    "from lookback_ops import *\n",
    "config = return_a_config()\n",
    "batch_img_list, labels, stage = test_lb_vgg(config)\n",
    "simple_save_result_from_test_lb(batch_img_list, labels, stage, config)"
   ]
  },
  {
   "cell_type": "code",
   "execution_count": 1,
   "metadata": {},
   "outputs": [
    {
     "name": "stdout",
     "output_type": "stream",
     "text": [
      "INFO:tensorflow:Restoring parameters from /Users/junr/Documents/prp/pic_data/model/6-10/max.ckpt\n"
     ]
    },
    {
     "ename": "ValueError",
     "evalue": "could not broadcast input array from shape (1,64,160) into shape (1,128,320)",
     "output_type": "error",
     "traceback": [
      "\u001b[0;31m---------------------------------------------------------------------------\u001b[0m",
      "\u001b[0;31mValueError\u001b[0m                                Traceback (most recent call last)",
      "\u001b[0;32m<ipython-input-1-496672a0aa1c>\u001b[0m in \u001b[0;36m<module>\u001b[0;34m()\u001b[0m\n\u001b[1;32m      1\u001b[0m \u001b[0;32mfrom\u001b[0m \u001b[0mlookback_ops\u001b[0m \u001b[0;32mimport\u001b[0m \u001b[0;34m*\u001b[0m\u001b[0;34m\u001b[0m\u001b[0m\n\u001b[1;32m      2\u001b[0m \u001b[0mconfig\u001b[0m \u001b[0;34m=\u001b[0m \u001b[0mreturn_a_config\u001b[0m\u001b[0;34m(\u001b[0m\u001b[0;34m)\u001b[0m\u001b[0;34m\u001b[0m\u001b[0m\n\u001b[0;32m----> 3\u001b[0;31m \u001b[0mbatch_img_list\u001b[0m\u001b[0;34m,\u001b[0m \u001b[0mlabels\u001b[0m\u001b[0;34m,\u001b[0m \u001b[0mstage\u001b[0m \u001b[0;34m=\u001b[0m \u001b[0mtest_lb_vgg\u001b[0m\u001b[0;34m(\u001b[0m\u001b[0mconfig\u001b[0m\u001b[0;34m,\u001b[0m \u001b[0moutput_layer\u001b[0m\u001b[0;34m=\u001b[0m\u001b[0;34m'conv2'\u001b[0m\u001b[0;34m,\u001b[0m \u001b[0mtop_k_activation\u001b[0m\u001b[0;34m=\u001b[0m\u001b[0;36m5\u001b[0m\u001b[0;34m)\u001b[0m\u001b[0;34m\u001b[0m\u001b[0m\n\u001b[0m\u001b[1;32m      4\u001b[0m \u001b[0msimple_save_result_from_test_lb\u001b[0m\u001b[0;34m(\u001b[0m\u001b[0mbatch_img_list\u001b[0m\u001b[0;34m,\u001b[0m \u001b[0mlabels\u001b[0m\u001b[0;34m,\u001b[0m \u001b[0mstage\u001b[0m\u001b[0;34m,\u001b[0m \u001b[0mconfig\u001b[0m\u001b[0;34m)\u001b[0m\u001b[0;34m\u001b[0m\u001b[0m\n",
      "\u001b[0;32m~/Desktop/keras_model/lookback_ops.py\u001b[0m in \u001b[0;36mtest_lb_vgg\u001b[0;34m(config, output_layer, top_k_activation)\u001b[0m\n\u001b[1;32m    343\u001b[0m       \u001b[0mimg_to_feed_idx\u001b[0m \u001b[0;34m=\u001b[0m \u001b[0mtop_activation_index\u001b[0m\u001b[0;34m[\u001b[0m\u001b[0midx\u001b[0m\u001b[0;34m]\u001b[0m\u001b[0;34m\u001b[0m\u001b[0m\n\u001b[1;32m    344\u001b[0m       \u001b[0mtensor_to_feed\u001b[0m \u001b[0;34m=\u001b[0m \u001b[0mnp\u001b[0m\u001b[0;34m.\u001b[0m\u001b[0mzeros\u001b[0m\u001b[0;34m(\u001b[0m\u001b[0mshape_feed\u001b[0m\u001b[0;34m)\u001b[0m\u001b[0;34m\u001b[0m\u001b[0m\n\u001b[0;32m--> 345\u001b[0;31m       \u001b[0mtensor_to_feed\u001b[0m\u001b[0;34m[\u001b[0m\u001b[0;34m...\u001b[0m\u001b[0;34m,\u001b[0m \u001b[0mimg_to_feed_idx\u001b[0m\u001b[0;34m]\u001b[0m \u001b[0;34m=\u001b[0m \u001b[0mimg_to_feed\u001b[0m\u001b[0;34m\u001b[0m\u001b[0m\n\u001b[0m\u001b[1;32m    346\u001b[0m \u001b[0;34m\u001b[0m\u001b[0m\n\u001b[1;32m    347\u001b[0m       sess_output = sess.run([ori_img_output], feed_dict={\n",
      "\u001b[0;31mValueError\u001b[0m: could not broadcast input array from shape (1,64,160) into shape (1,128,320)"
     ]
    }
   ],
   "source": [
    "from lookback_ops import *\n",
    "config = return_a_config()\n",
    "batch_img_list, labels, stage = test_lb_vgg(config, output_layer='conv2', top_k_activation=5)\n",
    "simple_save_result_from_test_lb(batch_img_list, labels, stage, config)\n"
   ]
  },
  {
   "cell_type": "code",
   "execution_count": 1,
   "metadata": {},
   "outputs": [
    {
     "name": "stdout",
     "output_type": "stream",
     "text": [
      "INFO:tensorflow:Restoring parameters from /Users/junr/Documents/prp/pic_data/model/6-10/max.ckpt\n"
     ]
    },
    {
     "ename": "TypeError",
     "evalue": "'float' object cannot be interpreted as an integer",
     "output_type": "error",
     "traceback": [
      "\u001b[0;31m---------------------------------------------------------------------------\u001b[0m",
      "\u001b[0;31mTypeError\u001b[0m                                 Traceback (most recent call last)",
      "\u001b[0;32m<ipython-input-1-496672a0aa1c>\u001b[0m in \u001b[0;36m<module>\u001b[0;34m()\u001b[0m\n\u001b[1;32m      1\u001b[0m \u001b[0;32mfrom\u001b[0m \u001b[0mlookback_ops\u001b[0m \u001b[0;32mimport\u001b[0m \u001b[0;34m*\u001b[0m\u001b[0;34m\u001b[0m\u001b[0m\n\u001b[1;32m      2\u001b[0m \u001b[0mconfig\u001b[0m \u001b[0;34m=\u001b[0m \u001b[0mreturn_a_config\u001b[0m\u001b[0;34m(\u001b[0m\u001b[0;34m)\u001b[0m\u001b[0;34m\u001b[0m\u001b[0m\n\u001b[0;32m----> 3\u001b[0;31m \u001b[0mbatch_img_list\u001b[0m\u001b[0;34m,\u001b[0m \u001b[0mlabels\u001b[0m\u001b[0;34m,\u001b[0m \u001b[0mstage\u001b[0m \u001b[0;34m=\u001b[0m \u001b[0mtest_lb_vgg\u001b[0m\u001b[0;34m(\u001b[0m\u001b[0mconfig\u001b[0m\u001b[0;34m,\u001b[0m \u001b[0moutput_layer\u001b[0m\u001b[0;34m=\u001b[0m\u001b[0;34m'conv2'\u001b[0m\u001b[0;34m,\u001b[0m \u001b[0mtop_k_activation\u001b[0m\u001b[0;34m=\u001b[0m\u001b[0;36m5\u001b[0m\u001b[0;34m)\u001b[0m\u001b[0;34m\u001b[0m\u001b[0m\n\u001b[0m\u001b[1;32m      4\u001b[0m \u001b[0msimple_save_result_from_test_lb\u001b[0m\u001b[0;34m(\u001b[0m\u001b[0mbatch_img_list\u001b[0m\u001b[0;34m,\u001b[0m \u001b[0mlabels\u001b[0m\u001b[0;34m,\u001b[0m \u001b[0mstage\u001b[0m\u001b[0;34m,\u001b[0m \u001b[0mconfig\u001b[0m\u001b[0;34m)\u001b[0m\u001b[0;34m\u001b[0m\u001b[0m\n",
      "\u001b[0;32m~/Desktop/keras_model/lookback_ops.py\u001b[0m in \u001b[0;36mtest_lb_vgg\u001b[0;34m(config, output_layer, top_k_activation)\u001b[0m\n\u001b[1;32m    342\u001b[0m \u001b[0;34m\u001b[0m\u001b[0m\n\u001b[1;32m    343\u001b[0m       \u001b[0mimg_to_feed_idx\u001b[0m \u001b[0;34m=\u001b[0m \u001b[0mtop_activation_index\u001b[0m\u001b[0;34m[\u001b[0m\u001b[0midx\u001b[0m\u001b[0;34m]\u001b[0m\u001b[0;34m\u001b[0m\u001b[0m\n\u001b[0;32m--> 344\u001b[0;31m       \u001b[0mtensor_to_feed\u001b[0m \u001b[0;34m=\u001b[0m \u001b[0mnp\u001b[0m\u001b[0;34m.\u001b[0m\u001b[0mzeros\u001b[0m\u001b[0;34m(\u001b[0m\u001b[0mshape_feed\u001b[0m\u001b[0;34m)\u001b[0m\u001b[0;34m\u001b[0m\u001b[0m\n\u001b[0m\u001b[1;32m    345\u001b[0m       \u001b[0mtensor_to_feed\u001b[0m\u001b[0;34m[\u001b[0m\u001b[0;34m...\u001b[0m\u001b[0;34m,\u001b[0m \u001b[0mimg_to_feed_idx\u001b[0m\u001b[0;34m]\u001b[0m \u001b[0;34m=\u001b[0m \u001b[0mimg_to_feed\u001b[0m\u001b[0;34m\u001b[0m\u001b[0m\n\u001b[1;32m    346\u001b[0m \u001b[0;34m\u001b[0m\u001b[0m\n",
      "\u001b[0;31mTypeError\u001b[0m: 'float' object cannot be interpreted as an integer"
     ]
    }
   ],
   "source": [
    "from lookback_ops import *\n",
    "config = return_a_config()\n",
    "batch_img_list, labels, stage = test_lb_vgg(config, output_layer='conv2', top_k_activation=5)\n",
    "simple_save_result_from_test_lb(batch_img_list, labels, stage, config)"
   ]
  },
  {
   "cell_type": "code",
   "execution_count": 1,
   "metadata": {},
   "outputs": [
    {
     "name": "stdout",
     "output_type": "stream",
     "text": [
      "INFO:tensorflow:Restoring parameters from /Users/junr/Documents/prp/pic_data/model/6-10/max.ckpt\n"
     ]
    },
    {
     "ename": "TypeError",
     "evalue": "simple_save_result_from_test_lb() missing 1 required positional argument: 'output_layer'",
     "output_type": "error",
     "traceback": [
      "\u001b[0;31m---------------------------------------------------------------------------\u001b[0m",
      "\u001b[0;31mTypeError\u001b[0m                                 Traceback (most recent call last)",
      "\u001b[0;32m<ipython-input-1-496672a0aa1c>\u001b[0m in \u001b[0;36m<module>\u001b[0;34m()\u001b[0m\n\u001b[1;32m      2\u001b[0m \u001b[0mconfig\u001b[0m \u001b[0;34m=\u001b[0m \u001b[0mreturn_a_config\u001b[0m\u001b[0;34m(\u001b[0m\u001b[0;34m)\u001b[0m\u001b[0;34m\u001b[0m\u001b[0m\n\u001b[1;32m      3\u001b[0m \u001b[0mbatch_img_list\u001b[0m\u001b[0;34m,\u001b[0m \u001b[0mlabels\u001b[0m\u001b[0;34m,\u001b[0m \u001b[0mstage\u001b[0m \u001b[0;34m=\u001b[0m \u001b[0mtest_lb_vgg\u001b[0m\u001b[0;34m(\u001b[0m\u001b[0mconfig\u001b[0m\u001b[0;34m,\u001b[0m \u001b[0moutput_layer\u001b[0m\u001b[0;34m=\u001b[0m\u001b[0;34m'conv2'\u001b[0m\u001b[0;34m,\u001b[0m \u001b[0mtop_k_activation\u001b[0m\u001b[0;34m=\u001b[0m\u001b[0;36m5\u001b[0m\u001b[0;34m)\u001b[0m\u001b[0;34m\u001b[0m\u001b[0m\n\u001b[0;32m----> 4\u001b[0;31m \u001b[0msimple_save_result_from_test_lb\u001b[0m\u001b[0;34m(\u001b[0m\u001b[0mbatch_img_list\u001b[0m\u001b[0;34m,\u001b[0m \u001b[0mlabels\u001b[0m\u001b[0;34m,\u001b[0m \u001b[0mstage\u001b[0m\u001b[0;34m,\u001b[0m \u001b[0mconfig\u001b[0m\u001b[0;34m)\u001b[0m\u001b[0;34m\u001b[0m\u001b[0m\n\u001b[0m",
      "\u001b[0;31mTypeError\u001b[0m: simple_save_result_from_test_lb() missing 1 required positional argument: 'output_layer'"
     ]
    }
   ],
   "source": [
    "from lookback_ops import *\n",
    "config = return_a_config()\n",
    "batch_img_list, labels, stage = test_lb_vgg(config, output_layer='conv2', top_k_activation=5)\n",
    "simple_save_result_from_test_lb(batch_img_list, labels, stage, config)"
   ]
  },
  {
   "cell_type": "code",
   "execution_count": 2,
   "metadata": {},
   "outputs": [
    {
     "name": "stderr",
     "output_type": "stream",
     "text": [
      "/Users/junr/pyenv/tf_py3/lib/python3.6/site-packages/skimage/util/dtype.py:122: UserWarning: Possible precision loss when converting from float64 to uint8\n",
      "  .format(dtypeobj_in, dtypeobj_out))\n",
      "/Users/junr/pyenv/tf_py3/lib/python3.6/site-packages/skimage/util/dtype.py:122: UserWarning: Possible precision loss when converting from float32 to uint8\n",
      "  .format(dtypeobj_in, dtypeobj_out))\n"
     ]
    }
   ],
   "source": [
    "simple_save_result_from_test_lb(batch_img_list, labels, stage, config, 'conv2')"
   ]
  },
  {
   "cell_type": "code",
   "execution_count": 1,
   "metadata": {},
   "outputs": [
    {
     "name": "stdout",
     "output_type": "stream",
     "text": [
      "INFO:tensorflow:Restoring parameters from /Users/junr/Documents/prp/pic_data/model/6-10/max.ckpt\n"
     ]
    },
    {
     "name": "stderr",
     "output_type": "stream",
     "text": [
      "/Users/junr/pyenv/tf_py3/lib/python3.6/site-packages/skimage/util/dtype.py:122: UserWarning: Possible precision loss when converting from float64 to uint8\n",
      "  .format(dtypeobj_in, dtypeobj_out))\n",
      "/Users/junr/pyenv/tf_py3/lib/python3.6/site-packages/skimage/util/dtype.py:122: UserWarning: Possible precision loss when converting from float32 to uint8\n",
      "  .format(dtypeobj_in, dtypeobj_out))\n",
      "/Users/junr/pyenv/tf_py3/lib/python3.6/site-packages/skimage/io/_io.py:132: UserWarning: /Users/junr/Documents/prp/pic_data/model/6-10/CG328096/conv1/1/4.bmp is a low contrast image\n",
      "  warn('%s is a low contrast image' % fname)\n",
      "/Users/junr/pyenv/tf_py3/lib/python3.6/site-packages/skimage/io/_io.py:132: UserWarning: /Users/junr/Documents/prp/pic_data/model/6-10/CG328096/conv1/2/4.bmp is a low contrast image\n",
      "  warn('%s is a low contrast image' % fname)\n",
      "/Users/junr/pyenv/tf_py3/lib/python3.6/site-packages/skimage/io/_io.py:132: UserWarning: /Users/junr/Documents/prp/pic_data/model/6-10/CG328096/conv1/3/4.bmp is a low contrast image\n",
      "  warn('%s is a low contrast image' % fname)\n",
      "/Users/junr/pyenv/tf_py3/lib/python3.6/site-packages/skimage/io/_io.py:132: UserWarning: /Users/junr/Documents/prp/pic_data/model/6-10/CG328096/conv1/4/4.bmp is a low contrast image\n",
      "  warn('%s is a low contrast image' % fname)\n",
      "/Users/junr/pyenv/tf_py3/lib/python3.6/site-packages/skimage/io/_io.py:132: UserWarning: /Users/junr/Documents/prp/pic_data/model/6-10/CG328096/conv1/5/4.bmp is a low contrast image\n",
      "  warn('%s is a low contrast image' % fname)\n",
      "/Users/junr/pyenv/tf_py3/lib/python3.6/site-packages/skimage/io/_io.py:132: UserWarning: /Users/junr/Documents/prp/pic_data/model/6-10/CG328096/conv1/6/4.bmp is a low contrast image\n",
      "  warn('%s is a low contrast image' % fname)\n",
      "/Users/junr/pyenv/tf_py3/lib/python3.6/site-packages/skimage/io/_io.py:132: UserWarning: /Users/junr/Documents/prp/pic_data/model/6-10/CG328096/conv1/7/4.bmp is a low contrast image\n",
      "  warn('%s is a low contrast image' % fname)\n",
      "/Users/junr/pyenv/tf_py3/lib/python3.6/site-packages/skimage/io/_io.py:132: UserWarning: /Users/junr/Documents/prp/pic_data/model/6-10/CG328096/conv1/8/4.bmp is a low contrast image\n",
      "  warn('%s is a low contrast image' % fname)\n",
      "/Users/junr/pyenv/tf_py3/lib/python3.6/site-packages/skimage/io/_io.py:132: UserWarning: /Users/junr/Documents/prp/pic_data/model/6-10/CG328096/conv1/9/4.bmp is a low contrast image\n",
      "  warn('%s is a low contrast image' % fname)\n",
      "/Users/junr/pyenv/tf_py3/lib/python3.6/site-packages/skimage/io/_io.py:132: UserWarning: /Users/junr/Documents/prp/pic_data/model/6-10/CG328096/conv1/10/4.bmp is a low contrast image\n",
      "  warn('%s is a low contrast image' % fname)\n",
      "/Users/junr/pyenv/tf_py3/lib/python3.6/site-packages/skimage/io/_io.py:132: UserWarning: /Users/junr/Documents/prp/pic_data/model/6-10/CG328096/conv1/11/4.bmp is a low contrast image\n",
      "  warn('%s is a low contrast image' % fname)\n",
      "/Users/junr/pyenv/tf_py3/lib/python3.6/site-packages/skimage/io/_io.py:132: UserWarning: /Users/junr/Documents/prp/pic_data/model/6-10/CG328096/conv1/12/4.bmp is a low contrast image\n",
      "  warn('%s is a low contrast image' % fname)\n",
      "/Users/junr/pyenv/tf_py3/lib/python3.6/site-packages/skimage/io/_io.py:132: UserWarning: /Users/junr/Documents/prp/pic_data/model/6-10/CG328096/conv1/13/4.bmp is a low contrast image\n",
      "  warn('%s is a low contrast image' % fname)\n",
      "/Users/junr/pyenv/tf_py3/lib/python3.6/site-packages/skimage/io/_io.py:132: UserWarning: /Users/junr/Documents/prp/pic_data/model/6-10/CG328096/conv1/14/4.bmp is a low contrast image\n",
      "  warn('%s is a low contrast image' % fname)\n",
      "/Users/junr/pyenv/tf_py3/lib/python3.6/site-packages/skimage/io/_io.py:132: UserWarning: /Users/junr/Documents/prp/pic_data/model/6-10/CG328096/conv1/15/4.bmp is a low contrast image\n",
      "  warn('%s is a low contrast image' % fname)\n"
     ]
    }
   ],
   "source": [
    "from lookback_ops import *\n",
    "config = return_a_config()\n",
    "output_layer='conv1'\n",
    "batch_img_list, labels, stage = test_lb_vgg(config, output_layer, top_k_activation=5)\n",
    "simple_save_result_from_test_lb(batch_img_list, labels, stage, config, output_layer)"
   ]
  },
  {
   "cell_type": "code",
   "execution_count": 1,
   "metadata": {},
   "outputs": [
    {
     "name": "stdout",
     "output_type": "stream",
     "text": [
      "INFO:tensorflow:Restoring parameters from /Users/junr/Documents/prp/pic_data/model/6-10/max.ckpt\n"
     ]
    },
    {
     "name": "stderr",
     "output_type": "stream",
     "text": [
      "/Users/junr/pyenv/tf_py3/lib/python3.6/site-packages/skimage/util/dtype.py:122: UserWarning: Possible precision loss when converting from float64 to uint8\n",
      "  .format(dtypeobj_in, dtypeobj_out))\n",
      "/Users/junr/pyenv/tf_py3/lib/python3.6/site-packages/skimage/util/dtype.py:122: UserWarning: Possible precision loss when converting from float32 to uint8\n",
      "  .format(dtypeobj_in, dtypeobj_out))\n"
     ]
    }
   ],
   "source": [
    "from lookback_ops import *\n",
    "config = return_a_config()\n",
    "output_layer='conv3'\n",
    "batch_img_list, labels, stage = test_lb_vgg(config, output_layer, top_k_activation=5)\n",
    "simple_save_result_from_test_lb(batch_img_list, labels, stage, config, output_layer)"
   ]
  },
  {
   "cell_type": "code",
   "execution_count": 1,
   "metadata": {},
   "outputs": [
    {
     "name": "stdout",
     "output_type": "stream",
     "text": [
      "INFO:tensorflow:Restoring parameters from /Users/junr/Documents/prp/pic_data/model/6-10/max.ckpt\n"
     ]
    },
    {
     "ename": "IndexError",
     "evalue": "list index out of range",
     "output_type": "error",
     "traceback": [
      "\u001b[0;31m---------------------------------------------------------------------------\u001b[0m",
      "\u001b[0;31mIndexError\u001b[0m                                Traceback (most recent call last)",
      "\u001b[0;32m<ipython-input-1-9714550e34e4>\u001b[0m in \u001b[0;36m<module>\u001b[0;34m()\u001b[0m\n\u001b[1;32m      2\u001b[0m \u001b[0mconfig\u001b[0m \u001b[0;34m=\u001b[0m \u001b[0mreturn_a_config\u001b[0m\u001b[0;34m(\u001b[0m\u001b[0;34m)\u001b[0m\u001b[0;34m\u001b[0m\u001b[0m\n\u001b[1;32m      3\u001b[0m \u001b[0moutput_layer\u001b[0m\u001b[0;34m=\u001b[0m\u001b[0;34m'conv4'\u001b[0m\u001b[0;34m\u001b[0m\u001b[0m\n\u001b[0;32m----> 4\u001b[0;31m \u001b[0mbatch_img_list\u001b[0m\u001b[0;34m,\u001b[0m \u001b[0mlabels\u001b[0m\u001b[0;34m,\u001b[0m \u001b[0mstage\u001b[0m \u001b[0;34m=\u001b[0m \u001b[0mtest_lb_vgg\u001b[0m\u001b[0;34m(\u001b[0m\u001b[0mconfig\u001b[0m\u001b[0;34m,\u001b[0m \u001b[0moutput_layer\u001b[0m\u001b[0;34m,\u001b[0m \u001b[0mtop_k_activation\u001b[0m\u001b[0;34m=\u001b[0m\u001b[0;36m5\u001b[0m\u001b[0;34m)\u001b[0m\u001b[0;34m\u001b[0m\u001b[0m\n\u001b[0m\u001b[1;32m      5\u001b[0m \u001b[0msimple_save_result_from_test_lb\u001b[0m\u001b[0;34m(\u001b[0m\u001b[0mbatch_img_list\u001b[0m\u001b[0;34m,\u001b[0m \u001b[0mlabels\u001b[0m\u001b[0;34m,\u001b[0m \u001b[0mstage\u001b[0m\u001b[0;34m,\u001b[0m \u001b[0mconfig\u001b[0m\u001b[0;34m,\u001b[0m \u001b[0moutput_layer\u001b[0m\u001b[0;34m)\u001b[0m\u001b[0;34m\u001b[0m\u001b[0m\n",
      "\u001b[0;32m~/Desktop/keras_model/lookback_ops.py\u001b[0m in \u001b[0;36mtest_lb_vgg\u001b[0;34m(config, output_layer, top_k_activation)\u001b[0m\n\u001b[1;32m    326\u001b[0m   \u001b[0;31m# vgg_conv_output: ndarray, used to get mask\u001b[0m\u001b[0;34m\u001b[0m\u001b[0;34m\u001b[0m\u001b[0m\n\u001b[1;32m    327\u001b[0m   \u001b[0mvgg_conv_output\u001b[0m \u001b[0;34m=\u001b[0m \u001b[0;34m[\u001b[0m\u001b[0minfer_output\u001b[0m\u001b[0;34m[\u001b[0m\u001b[0;36m1\u001b[0m\u001b[0;34m]\u001b[0m\u001b[0;34m,\u001b[0m \u001b[0minfer_output\u001b[0m\u001b[0;34m[\u001b[0m\u001b[0;36m2\u001b[0m\u001b[0;34m]\u001b[0m\u001b[0;34m,\u001b[0m \u001b[0minfer_output\u001b[0m\u001b[0;34m[\u001b[0m\u001b[0;36m3\u001b[0m\u001b[0;34m]\u001b[0m\u001b[0;34m]\u001b[0m\u001b[0;34m\u001b[0m\u001b[0m\n\u001b[0;32m--> 328\u001b[0;31m   \u001b[0mconv_output\u001b[0m \u001b[0;34m=\u001b[0m \u001b[0mvgg_conv_output\u001b[0m\u001b[0;34m[\u001b[0m\u001b[0mvgg_output_layer\u001b[0m \u001b[0;34m-\u001b[0m \u001b[0;36m1\u001b[0m\u001b[0;34m]\u001b[0m\u001b[0;34m\u001b[0m\u001b[0m\n\u001b[0m\u001b[1;32m    329\u001b[0m \u001b[0;34m\u001b[0m\u001b[0m\n\u001b[1;32m    330\u001b[0m   \u001b[0;31m# batch_img_list: element for every batch\u001b[0m\u001b[0;34m\u001b[0m\u001b[0;34m\u001b[0m\u001b[0m\n",
      "\u001b[0;31mIndexError\u001b[0m: list index out of range"
     ]
    }
   ],
   "source": [
    "from lookback_ops import *\n",
    "config = return_a_config()\n",
    "output_layer='conv4'\n",
    "batch_img_list, labels, stage = test_lb_vgg(config, output_layer, top_k_activation=5)\n",
    "simple_save_result_from_test_lb(batch_img_list, labels, stage, config, output_layer)"
   ]
  },
  {
   "cell_type": "code",
   "execution_count": null,
   "metadata": {},
   "outputs": [
    {
     "name": "stdout",
     "output_type": "stream",
     "text": [
      "INFO:tensorflow:Restoring parameters from /Users/junr/Documents/prp/pic_data/model/6-10/max.ckpt\n"
     ]
    }
   ],
   "source": [
    "from lookback_ops import *\n",
    "config = return_a_config()\n",
    "output_layer='conv4'\n",
    "batch_img_list, labels, stage = test_lb_vgg(config, output_layer, top_k_activation=5)\n",
    "simple_save_result_from_test_lb(batch_img_list, labels, stage, config, output_layer)"
   ]
  },
  {
   "cell_type": "code",
   "execution_count": 1,
   "metadata": {},
   "outputs": [
    {
     "name": "stdout",
     "output_type": "stream",
     "text": [
      "INFO:tensorflow:Restoring parameters from /Users/junr/Documents/prp/pic_data/model/6-10/max.ckpt\n"
     ]
    },
    {
     "name": "stderr",
     "output_type": "stream",
     "text": [
      "/Users/junr/pyenv/tf_py3/lib/python3.6/site-packages/skimage/util/dtype.py:122: UserWarning: Possible precision loss when converting from float64 to uint8\n",
      "  .format(dtypeobj_in, dtypeobj_out))\n",
      "/Users/junr/pyenv/tf_py3/lib/python3.6/site-packages/skimage/util/dtype.py:122: UserWarning: Possible precision loss when converting from float32 to uint8\n",
      "  .format(dtypeobj_in, dtypeobj_out))\n"
     ]
    }
   ],
   "source": [
    "from lookback_ops import *\n",
    "config = return_a_config()\n",
    "output_layer='conv4'\n",
    "batch_img_list, labels, stage = test_lb_vgg(config, output_layer, top_k_activation=5)\n",
    "simple_save_result_from_test_lb(batch_img_list, labels, stage, config, output_layer)"
   ]
  },
  {
   "cell_type": "code",
   "execution_count": null,
   "metadata": {},
   "outputs": [
    {
     "name": "stdout",
     "output_type": "stream",
     "text": [
      "INFO:tensorflow:Restoring parameters from /Users/junr/Documents/prp/pic_data/model/6-10/max.ckpt\n"
     ]
    }
   ],
   "source": [
    "from lookback_ops import *\n",
    "config = return_a_config()\n",
    "output_layer='conv4'\n",
    "batch_img_list, labels, stage = test_lb_vgg(config, output_layer, top_k_activation=10)\n",
    "simple_save_result_from_test_lb(batch_img_list, labels, stage, config, output_layer)"
   ]
  },
  {
   "cell_type": "code",
   "execution_count": 1,
   "metadata": {},
   "outputs": [
    {
     "name": "stdout",
     "output_type": "stream",
     "text": [
      "INFO:tensorflow:Restoring parameters from /Users/junr/Documents/prp/pic_data/model/6-10/max.ckpt\n"
     ]
    },
    {
     "name": "stderr",
     "output_type": "stream",
     "text": [
      "/Users/junr/pyenv/tf_py3/lib/python3.6/site-packages/skimage/util/dtype.py:122: UserWarning: Possible precision loss when converting from float64 to uint8\n",
      "  .format(dtypeobj_in, dtypeobj_out))\n",
      "/Users/junr/pyenv/tf_py3/lib/python3.6/site-packages/skimage/util/dtype.py:122: UserWarning: Possible precision loss when converting from float32 to uint8\n",
      "  .format(dtypeobj_in, dtypeobj_out))\n"
     ]
    }
   ],
   "source": [
    "from lookback_ops import *\n",
    "config = return_a_config()\n",
    "output_layer='conv4'\n",
    "batch_img_list, labels, stage = test_lb_vgg(config, output_layer, top_k_activation=5)\n",
    "simple_save_result_from_test_lb(batch_img_list, labels, stage, config, output_layer)"
   ]
  },
  {
   "cell_type": "code",
   "execution_count": 1,
   "metadata": {},
   "outputs": [
    {
     "name": "stdout",
     "output_type": "stream",
     "text": [
      "INFO:tensorflow:Restoring parameters from /Users/junr/Documents/prp/pic_data/model/6-10/max.ckpt\n"
     ]
    },
    {
     "name": "stderr",
     "output_type": "stream",
     "text": [
      "/Users/junr/pyenv/tf_py3/lib/python3.6/site-packages/skimage/util/dtype.py:122: UserWarning: Possible precision loss when converting from float64 to uint8\n",
      "  .format(dtypeobj_in, dtypeobj_out))\n",
      "/Users/junr/pyenv/tf_py3/lib/python3.6/site-packages/skimage/util/dtype.py:122: UserWarning: Possible precision loss when converting from float32 to uint8\n",
      "  .format(dtypeobj_in, dtypeobj_out))\n"
     ]
    }
   ],
   "source": [
    "from lookback_ops import *\n",
    "config = return_a_config()\n",
    "output_layer='conv4'\n",
    "batch_img_list, labels, stage = test_lb_vgg(config, output_layer, top_k_activation=20)\n",
    "simple_save_result_from_test_lb(batch_img_list, labels, stage, config, output_layer)"
   ]
  },
  {
   "cell_type": "code",
   "execution_count": 1,
   "metadata": {},
   "outputs": [
    {
     "name": "stdout",
     "output_type": "stream",
     "text": [
      "INFO:tensorflow:Restoring parameters from /Users/junr/Documents/prp/pic_data/model/6-10/max.ckpt\n"
     ]
    },
    {
     "name": "stderr",
     "output_type": "stream",
     "text": [
      "/Users/junr/pyenv/tf_py3/lib/python3.6/site-packages/skimage/util/dtype.py:122: UserWarning: Possible precision loss when converting from float64 to uint8\n",
      "  .format(dtypeobj_in, dtypeobj_out))\n",
      "/Users/junr/pyenv/tf_py3/lib/python3.6/site-packages/skimage/util/dtype.py:122: UserWarning: Possible precision loss when converting from float32 to uint8\n",
      "  .format(dtypeobj_in, dtypeobj_out))\n"
     ]
    }
   ],
   "source": [
    "from lookback_ops import *\n",
    "config = return_a_config()\n",
    "output_layer='conv4'\n",
    "batch_img_list, labels, stage = test_lb_vgg(config, output_layer, top_k_activation=4)\n",
    "simple_save_result_from_test_lb(batch_img_list, labels, stage, config, output_layer)"
   ]
  },
  {
   "cell_type": "code",
   "execution_count": null,
   "metadata": {},
   "outputs": [],
   "source": [
    "from lookback_ops import *\n",
    "config = return_a_config()\n",
    "output_layer='conv2'\n",
    "batch_img_list, labels, stage = test_lb_vgg(config, output_layer, top_k_activation=5)\n",
    "simple_save_result_from_test_lb(batch_img_list, labels, stage, config, output_layer)"
   ]
  },
  {
   "cell_type": "code",
   "execution_count": 1,
   "metadata": {},
   "outputs": [
    {
     "name": "stdout",
     "output_type": "stream",
     "text": [
      "INFO:tensorflow:Restoring parameters from /Users/junr/Documents/prp/pic_data/model/6-10/max.ckpt\n"
     ]
    },
    {
     "name": "stderr",
     "output_type": "stream",
     "text": [
      "/Users/junr/pyenv/tf_py3/lib/python3.6/site-packages/skimage/util/dtype.py:122: UserWarning: Possible precision loss when converting from float64 to uint8\n",
      "  .format(dtypeobj_in, dtypeobj_out))\n",
      "/Users/junr/pyenv/tf_py3/lib/python3.6/site-packages/skimage/util/dtype.py:122: UserWarning: Possible precision loss when converting from float32 to uint8\n",
      "  .format(dtypeobj_in, dtypeobj_out))\n"
     ]
    }
   ],
   "source": [
    "from lookback_ops import *\n",
    "config = return_a_config()\n",
    "output_layer='conv4'\n",
    "batch_img_list, labels, stage = test_lb_vgg(config, output_layer, top_k_activation=5)\n",
    "simple_save_result_from_test_lb(batch_img_list, labels, stage, config, output_layer)"
   ]
  },
  {
   "cell_type": "code",
   "execution_count": null,
   "metadata": {},
   "outputs": [
    {
     "name": "stdout",
     "output_type": "stream",
     "text": [
      "INFO:tensorflow:Restoring parameters from /Users/junr/Documents/prp/pic_data/model/6-10/max.ckpt\n"
     ]
    }
   ],
   "source": [
    "\n",
    "from lookback_ops import *\n",
    "config = return_a_config()\n",
    "output_layer='conv2'\n",
    "batch_img_list, labels, stage = test_lb_vgg(config, output_layer, top_k_activation=5)\n",
    "simple_save_result_from_test_lb(batch_img_list, labels, stage, config, output_layer)\n",
    "\n",
    "\n",
    "\n"
   ]
  },
  {
   "cell_type": "code",
   "execution_count": null,
   "metadata": {},
   "outputs": [],
   "source": [
    "def test_lb_vgg(config, output_layer='conv1', top_k_activation=2):\n",
    "  \"\"\"Give an image, get the output of conv1, return the\n",
    "  look back image of it.\n",
    "  Args:\n",
    "    conv1_output: output of a group(batch) of images through vgg model,\n",
    "                  which is infer_output[1] in lookback.py\n",
    "    vgg_conv_output: ndarray, used to get mask\n",
    "    netXm: output of vgg/conv* before max pooling\n",
    "  \"\"\"\n",
    "  # get the index of vgg output layer\n",
    "  vgg_output_layer = int(output_layer[-1])\n",
    "  shape_feed = [1, int(256/(2**vgg_output_layer)), int(640/(2**vgg_output_layer)), 32 * (2 ** vgg_output_layer)]\n",
    "\n",
    "  # build forward model\n",
    "  images = tf.placeholder(tf.float32, [config.max_sequence_length, 128, 320, 3])\n",
    "  adaption_output, net1m, net2m, net3m, vgg_out, adaption_conv_output, net_max_feature = forward_model(images, config)\n",
    "\n",
    "  # build model\n",
    "  feed_input = tf.placeholder(tf.float32, shape_feed) # input for deconv model\n",
    "  feed_m1 = tf.placeholder(tf.float32, shape=[1, 128, 320, 64]) # mask for vgg/conv1\n",
    "  feed_m2 = tf.placeholder(tf.float32, shape=[1, 64, 160, 128]) # mask for vgg/conv2\n",
    "  feed_m3 = tf.placeholder(tf.float32, shape=[1, 32, 80, 256])  # mask for vgg/conv3\n",
    "  ori_img_output = lb_tf_vgg(feed_input, [feed_m1, feed_m2, feed_m3], output_layer)\n",
    "\n",
    "  # build sess\n",
    "  sess = tf.Session()\n",
    "\n",
    "  # restore\n",
    "  all_vars = tf.global_variables()\n",
    "  saver = tf.train.Saver(all_vars)\n",
    "  saver.restore(sess, '/Users/junr/Documents/prp/pic_data/model/6-10/max.ckpt')\n",
    "\n",
    "  # prepare the data\n",
    "  ds = config_to_dataset(config)\n",
    "  binarizer = MultiLabelBinarizer(classes=ds.vocab)\n",
    "  i, l, gene_stage = dataset_element_to_batch_data(ds.raw_dataset[666], binarizer, config) # just pick one randomly\n",
    "\n",
    "  # run forward model\n",
    "  infer_output = sess.run([adaption_output, net1m, net2m, net3m, vgg_out, net_max_feature],\n",
    "                          feed_dict={\n",
    "                            images: i\n",
    "                          })\n",
    "\n",
    "  # conv1_output: output of a group(batch) of images through vgg model,\n",
    "  #                 which is infer_output[1] in lookback.py\n",
    "  # vgg_conv_output: ndarray, used to get mask\n",
    "  vgg_conv_output = [infer_output[1], infer_output[2], infer_output[3], infer_output[4]]\n",
    "  conv_output = vgg_conv_output[vgg_output_layer - 1]\n",
    "\n",
    "  # batch_img_list: element for every batch\n",
    "  batch_img_list = []\n",
    "  for single_batch in range(conv_output.shape[0]):\n",
    "    # top_activation: [1, 128, 320, top_k_activation]\n",
    "    # this is top activated among kernels, but what if we want to get\n",
    "    # top activated in a single image.\n",
    "    # do that in inner loop\n",
    "    top_activation, top_activation_index = get_top_activation(\n",
    "                conv_output[single_batch][None, :], top_k=top_k_activation)\n",
    "\n",
    "    # img_list: element for every top activation img\n",
    "    img_list = []\n",
    "    for idx in range(top_k_activation):\n",
    "      # build feed dict for deconv model\n",
    "      img_to_feed = top_activation[..., idx]\n",
    "      # img_to_feed means top activation among different kernels\n",
    "      # next we want get top activation in an img\n",
    "      # img_to_feed has batch 1\n",
    "      # do not work well\n",
    "      img_to_feed[0] = get_top_activation2d(img_to_feed[0], 2)\n",
    "\n",
    "      img_to_feed_idx = top_activation_index[idx]\n",
    "      tensor_to_feed = np.zeros(shape_feed)\n",
    "      tensor_to_feed[..., img_to_feed_idx] = img_to_feed\n",
    "\n",
    "      sess_output = sess.run([ori_img_output], feed_dict={\n",
    "        feed_input: tensor_to_feed,\n",
    "        feed_m1: array_to_mask(vgg_conv_output[0][single_batch, ...][None, :]),\n",
    "        feed_m2: array_to_mask(vgg_conv_output[1][single_batch, ...][None, :]),\n",
    "        feed_m3: array_to_mask(vgg_conv_output[2][single_batch, ...][None, :])\n",
    "      })\n",
    "      img_list.append(sess_output[0][0])\n",
    "    batch_img_list.append([img_list, i[single_batch]/2.0+0.5])\n",
    "  return batch_img_list, binarizer.inverse_transform(l)[0], gene_stage"
   ]
  },
  {
   "cell_type": "code",
   "execution_count": 1,
   "metadata": {},
   "outputs": [],
   "source": [
    "from lookback_ops import *\n",
    "config = return_a_config()"
   ]
  },
  {
   "cell_type": "code",
   "execution_count": 2,
   "metadata": {},
   "outputs": [],
   "source": [
    "def test_lb_vgg(config, output_layer='conv1', top_k_activation=2):\n",
    "  \"\"\"Give an image, get the output of conv1, return the\n",
    "  look back image of it.\n",
    "  Args:\n",
    "    conv1_output: output of a group(batch) of images through vgg model,\n",
    "                  which is infer_output[1] in lookback.py\n",
    "    vgg_conv_output: ndarray, used to get mask\n",
    "    netXm: output of vgg/conv* before max pooling\n",
    "  \"\"\"\n",
    "  # get the index of vgg output layer\n",
    "  vgg_output_layer = int(output_layer[-1])\n",
    "  shape_feed = [1, int(256/(2**vgg_output_layer)), int(640/(2**vgg_output_layer)), 32 * (2 ** vgg_output_layer)]\n",
    "\n",
    "  # build forward model\n",
    "  images = tf.placeholder(tf.float32, [config.max_sequence_length, 128, 320, 3])\n",
    "  adaption_output, net1m, net2m, net3m, vgg_out, adaption_conv_output, net_max_feature = forward_model(images, config)\n",
    "\n",
    "  # build model\n",
    "  feed_input = tf.placeholder(tf.float32, shape_feed) # input for deconv model\n",
    "  feed_m1 = tf.placeholder(tf.float32, shape=[1, 128, 320, 64]) # mask for vgg/conv1\n",
    "  feed_m2 = tf.placeholder(tf.float32, shape=[1, 64, 160, 128]) # mask for vgg/conv2\n",
    "  feed_m3 = tf.placeholder(tf.float32, shape=[1, 32, 80, 256])  # mask for vgg/conv3\n",
    "  ori_img_output = lb_tf_vgg(feed_input, [feed_m1, feed_m2, feed_m3], output_layer)\n",
    "\n",
    "  # build sess\n",
    "  sess = tf.Session()\n",
    "\n",
    "  # restore\n",
    "  all_vars = tf.global_variables()\n",
    "  saver = tf.train.Saver(all_vars)\n",
    "  saver.restore(sess, '/Users/junr/Documents/prp/pic_data/model/6-10/max.ckpt')\n",
    "\n",
    "  # prepare the data\n",
    "  ds = config_to_dataset(config)\n",
    "  binarizer = MultiLabelBinarizer(classes=ds.vocab)\n",
    "  i, l, gene_stage = dataset_element_to_batch_data(ds.raw_dataset[666], binarizer, config) # just pick one randomly\n",
    "\n",
    "  # run forward model\n",
    "  infer_output = sess.run([adaption_output, net1m, net2m, net3m, vgg_out, net_max_feature],\n",
    "                          feed_dict={\n",
    "                            images: i\n",
    "                          })\n",
    "\n",
    "  # conv1_output: output of a group(batch) of images through vgg model,\n",
    "  #                 which is infer_output[1] in lookback.py\n",
    "  # vgg_conv_output: ndarray, used to get mask\n",
    "  vgg_conv_output = [infer_output[1], infer_output[2], infer_output[3], infer_output[4]]\n",
    "  conv_output = vgg_conv_output[vgg_output_layer - 1]\n",
    "\n",
    "  # batch_img_list: element for every batch\n",
    "  batch_img_list = []\n",
    "  for single_batch in range(conv_output.shape[0]):\n",
    "    # top_activation: [1, 128, 320, top_k_activation]\n",
    "    # this is top activated among kernels, but what if we want to get\n",
    "    # top activated in a single image.\n",
    "    # do that in inner loop\n",
    "    top_activation, top_activation_index = get_top_activation(\n",
    "                conv_output[single_batch][None, :], top_k=top_k_activation)\n",
    "\n",
    "    # img_list: element for every top activation img\n",
    "    img_list = []\n",
    "    for idx in range(top_k_activation):\n",
    "      # build feed dict for deconv model\n",
    "      img_to_feed = top_activation[..., idx]\n",
    "      # img_to_feed means top activation among different kernels\n",
    "      # next we want get top activation in an img\n",
    "      # img_to_feed has batch 1\n",
    "      # do not work well\n",
    "      img_to_feed[0] = get_top_activation2d(img_to_feed[0], 1)\n",
    "\n",
    "      img_to_feed_idx = top_activation_index[idx]\n",
    "      tensor_to_feed = np.zeros(shape_feed)\n",
    "      tensor_to_feed[..., img_to_feed_idx] = img_to_feed\n",
    "\n",
    "      sess_output = sess.run([ori_img_output], feed_dict={\n",
    "        feed_input: tensor_to_feed,\n",
    "        feed_m1: array_to_mask(vgg_conv_output[0][single_batch, ...][None, :]),\n",
    "        feed_m2: array_to_mask(vgg_conv_output[1][single_batch, ...][None, :]),\n",
    "        feed_m3: array_to_mask(vgg_conv_output[2][single_batch, ...][None, :])\n",
    "      })\n",
    "      img_list.append(sess_output[0][0])\n",
    "    batch_img_list.append([img_list, i[single_batch]/2.0+0.5])\n",
    "  return batch_img_list, binarizer.inverse_transform(l)[0], gene_stage"
   ]
  },
  {
   "cell_type": "code",
   "execution_count": 3,
   "metadata": {},
   "outputs": [
    {
     "name": "stdout",
     "output_type": "stream",
     "text": [
      "INFO:tensorflow:Restoring parameters from /Users/junr/Documents/prp/pic_data/model/6-10/max.ckpt\n"
     ]
    },
    {
     "name": "stderr",
     "output_type": "stream",
     "text": [
      "/Users/junr/pyenv/tf_py3/lib/python3.6/site-packages/skimage/util/dtype.py:122: UserWarning: Possible precision loss when converting from float64 to uint8\n",
      "  .format(dtypeobj_in, dtypeobj_out))\n",
      "/Users/junr/pyenv/tf_py3/lib/python3.6/site-packages/skimage/util/dtype.py:122: UserWarning: Possible precision loss when converting from float32 to uint8\n",
      "  .format(dtypeobj_in, dtypeobj_out))\n"
     ]
    }
   ],
   "source": [
    "output_layer='conv4'\n",
    "batch_img_list, labels, stage = test_lb_vgg(config, output_layer, top_k_activation=5)\n",
    "simple_save_result_from_test_lb(batch_img_list, labels, stage, config, output_layer)"
   ]
  },
  {
   "cell_type": "code",
   "execution_count": 4,
   "metadata": {},
   "outputs": [
    {
     "ename": "ValueError",
     "evalue": "Variable vgg_16/conv1/conv1_1/weights already exists, disallowed. Did you mean to set reuse=True in VarScope? Originally defined at:\n\n  File \"/Users/junr/pyenv/tf_py3/lib/python3.6/site-packages/tensorflow/contrib/framework/python/ops/variables.py\", line 216, in variable\n    use_resource=use_resource)\n  File \"/Users/junr/pyenv/tf_py3/lib/python3.6/site-packages/tensorflow/contrib/framework/python/ops/arg_scope.py\", line 181, in func_with_args\n    return func(*args, **current_args)\n  File \"/Users/junr/pyenv/tf_py3/lib/python3.6/site-packages/tensorflow/contrib/framework/python/ops/variables.py\", line 261, in model_variable\n    use_resource=use_resource)\n",
     "output_type": "error",
     "traceback": [
      "\u001b[0;31m---------------------------------------------------------------------------\u001b[0m",
      "\u001b[0;31mValueError\u001b[0m                                Traceback (most recent call last)",
      "\u001b[0;32m<ipython-input-4-2bd4a832015e>\u001b[0m in \u001b[0;36m<module>\u001b[0;34m()\u001b[0m\n\u001b[0;32m----> 1\u001b[0;31m \u001b[0mtest_lb_adaption_conv\u001b[0m\u001b[0;34m(\u001b[0m\u001b[0mconfig\u001b[0m\u001b[0;34m)\u001b[0m\u001b[0;34m\u001b[0m\u001b[0m\n\u001b[0m",
      "\u001b[0;32m~/Desktop/keras_model/lookback_ops.py\u001b[0m in \u001b[0;36mtest_lb_adaption_conv\u001b[0;34m(config, top_k_activation)\u001b[0m\n\u001b[1;32m    476\u001b[0m   \"\"\"\n\u001b[1;32m    477\u001b[0m   \u001b[0;31m# build forward model\u001b[0m\u001b[0;34m\u001b[0m\u001b[0;34m\u001b[0m\u001b[0m\n\u001b[0;32m--> 478\u001b[0;31m   \u001b[0mimages\u001b[0m \u001b[0;34m=\u001b[0m \u001b[0mtf\u001b[0m\u001b[0;34m.\u001b[0m\u001b[0mplaceholder\u001b[0m\u001b[0;34m(\u001b[0m\u001b[0mtf\u001b[0m\u001b[0;34m.\u001b[0m\u001b[0mfloat32\u001b[0m\u001b[0;34m,\u001b[0m \u001b[0;34m[\u001b[0m\u001b[0mconfig\u001b[0m\u001b[0;34m.\u001b[0m\u001b[0mmax_sequence_length\u001b[0m\u001b[0;34m,\u001b[0m \u001b[0;36m128\u001b[0m\u001b[0;34m,\u001b[0m \u001b[0;36m320\u001b[0m\u001b[0;34m,\u001b[0m \u001b[0;36m3\u001b[0m\u001b[0;34m]\u001b[0m\u001b[0;34m)\u001b[0m\u001b[0;34m\u001b[0m\u001b[0m\n\u001b[0m\u001b[1;32m    479\u001b[0m   \u001b[0madaption_output\u001b[0m\u001b[0;34m,\u001b[0m \u001b[0mnet1m\u001b[0m\u001b[0;34m,\u001b[0m \u001b[0mnet2m\u001b[0m\u001b[0;34m,\u001b[0m \u001b[0mnet3m\u001b[0m\u001b[0;34m,\u001b[0m \u001b[0mvgg_out\u001b[0m\u001b[0;34m,\u001b[0m \u001b[0madaption_conv_output\u001b[0m\u001b[0;34m,\u001b[0m \u001b[0mnet_max_feature\u001b[0m \u001b[0;34m=\u001b[0m \u001b[0mforward_model\u001b[0m\u001b[0;34m(\u001b[0m\u001b[0mimages\u001b[0m\u001b[0;34m,\u001b[0m \u001b[0mconfig\u001b[0m\u001b[0;34m)\u001b[0m\u001b[0;34m\u001b[0m\u001b[0m\n\u001b[1;32m    480\u001b[0m \u001b[0;34m\u001b[0m\u001b[0m\n",
      "\u001b[0;32m~/Desktop/keras_model/lookback_ops.py\u001b[0m in \u001b[0;36mforward_model\u001b[0;34m(images, config)\u001b[0m\n\u001b[1;32m    382\u001b[0m   \u001b[0mArgs\u001b[0m\u001b[0;34m:\u001b[0m\u001b[0;34m\u001b[0m\u001b[0m\n\u001b[1;32m    383\u001b[0m     \u001b[0mimages\u001b[0m\u001b[0;34m:\u001b[0m \u001b[0mplaceholder\u001b[0m\u001b[0;34m\u001b[0m\u001b[0m\n\u001b[0;32m--> 384\u001b[0;31m   \"\"\"\n\u001b[0m\u001b[1;32m    385\u001b[0m   \u001b[0madaption_output\u001b[0m\u001b[0;34m,\u001b[0m \u001b[0mnet1m\u001b[0m\u001b[0;34m,\u001b[0m \u001b[0mnet2m\u001b[0m\u001b[0;34m,\u001b[0m \u001b[0mnet3m\u001b[0m\u001b[0;34m,\u001b[0m \u001b[0mvgg_out\u001b[0m\u001b[0;34m,\u001b[0m \u001b[0madaption_conv_output\u001b[0m\u001b[0;34m,\u001b[0m \u001b[0mnet_max_feature\u001b[0m \u001b[0;34m=\u001b[0m \u001b[0mmax_model\u001b[0m\u001b[0;34m(\u001b[0m\u001b[0mimages\u001b[0m\u001b[0;34m,\u001b[0m \u001b[0mconfig\u001b[0m\u001b[0;34m)\u001b[0m\u001b[0;34m\u001b[0m\u001b[0m\n\u001b[1;32m    386\u001b[0m   \u001b[0;32mreturn\u001b[0m \u001b[0madaption_output\u001b[0m\u001b[0;34m,\u001b[0m \u001b[0mnet1m\u001b[0m\u001b[0;34m,\u001b[0m \u001b[0mnet2m\u001b[0m\u001b[0;34m,\u001b[0m \u001b[0mnet3m\u001b[0m\u001b[0;34m,\u001b[0m \u001b[0mvgg_out\u001b[0m\u001b[0;34m,\u001b[0m \u001b[0madaption_conv_output\u001b[0m\u001b[0;34m,\u001b[0m \u001b[0mnet_max_feature\u001b[0m\u001b[0;34m\u001b[0m\u001b[0m\n",
      "\u001b[0;32m~/Desktop/keras_model/lookback_ops.py\u001b[0m in \u001b[0;36mmax_model\u001b[0;34m(images, config)\u001b[0m\n\u001b[1;32m     68\u001b[0m      \u001b[0madaption_output\u001b[0m\u001b[0;34m,\u001b[0m \u001b[0mnet1m\u001b[0m\u001b[0;34m,\u001b[0m \u001b[0mnet2m\u001b[0m\u001b[0;34m,\u001b[0m \u001b[0mnet3m\u001b[0m\u001b[0;34m,\u001b[0m \u001b[0mnet4m\u001b[0m\u001b[0;34m,\u001b[0m \u001b[0mnet_max_feature\u001b[0m\u001b[0;34m\u001b[0m\u001b[0m\n\u001b[1;32m     69\u001b[0m   \"\"\"\n\u001b[0;32m---> 70\u001b[0;31m   \u001b[0mvgg_out\u001b[0m\u001b[0;34m,\u001b[0m \u001b[0mnet1m\u001b[0m\u001b[0;34m,\u001b[0m \u001b[0mnet2m\u001b[0m\u001b[0;34m,\u001b[0m \u001b[0mnet3m\u001b[0m\u001b[0;34m,\u001b[0m \u001b[0mnet4m\u001b[0m \u001b[0;34m=\u001b[0m \u001b[0mextract_feature\u001b[0m\u001b[0;34m(\u001b[0m\u001b[0mimages\u001b[0m\u001b[0;34m)\u001b[0m\u001b[0;34m\u001b[0m\u001b[0m\n\u001b[0m\u001b[1;32m     71\u001b[0m   \u001b[0mnet\u001b[0m \u001b[0;34m=\u001b[0m \u001b[0mvgg_out\u001b[0m\u001b[0;34m\u001b[0m\u001b[0m\n\u001b[1;32m     72\u001b[0m   \u001b[0;31m# if output_layer.startswith('vgg_16/'):\u001b[0m\u001b[0;34m\u001b[0m\u001b[0;34m\u001b[0m\u001b[0m\n",
      "\u001b[0;32m~/Desktop/keras_model/lookback_ops.py\u001b[0m in \u001b[0;36mextract_feature\u001b[0;34m(images, output_layer, stddev)\u001b[0m\n\u001b[1;32m     56\u001b[0m                         biases_initializer=tf.zeros_initializer()):\n\u001b[1;32m     57\u001b[0m       \u001b[0;32mwith\u001b[0m \u001b[0mslim\u001b[0m\u001b[0;34m.\u001b[0m\u001b[0marg_scope\u001b[0m\u001b[0;34m(\u001b[0m\u001b[0;34m[\u001b[0m\u001b[0mslim\u001b[0m\u001b[0;34m.\u001b[0m\u001b[0mconv2d\u001b[0m\u001b[0;34m]\u001b[0m\u001b[0;34m,\u001b[0m \u001b[0mpadding\u001b[0m\u001b[0;34m=\u001b[0m\u001b[0;34m'SAME'\u001b[0m\u001b[0;34m)\u001b[0m\u001b[0;34m:\u001b[0m\u001b[0;34m\u001b[0m\u001b[0m\n\u001b[0;32m---> 58\u001b[0;31m         \u001b[0mnet\u001b[0m\u001b[0;34m,\u001b[0m \u001b[0mend_points\u001b[0m\u001b[0;34m,\u001b[0m \u001b[0mnet1m\u001b[0m\u001b[0;34m,\u001b[0m \u001b[0mnet2m\u001b[0m\u001b[0;34m,\u001b[0m \u001b[0mnet3m\u001b[0m\u001b[0;34m,\u001b[0m \u001b[0mnet4m\u001b[0m \u001b[0;34m=\u001b[0m \u001b[0mvgg_16\u001b[0m\u001b[0;34m(\u001b[0m\u001b[0mimages\u001b[0m\u001b[0;34m)\u001b[0m\u001b[0;34m\u001b[0m\u001b[0m\n\u001b[0m\u001b[1;32m     59\u001b[0m         \u001b[0moutput\u001b[0m \u001b[0;34m=\u001b[0m \u001b[0mend_points\u001b[0m\u001b[0;34m[\u001b[0m\u001b[0;34m'vgg_16/'\u001b[0m \u001b[0;34m+\u001b[0m \u001b[0moutput_layer\u001b[0m\u001b[0;34m]\u001b[0m\u001b[0;34m\u001b[0m\u001b[0m\n\u001b[1;32m     60\u001b[0m   \u001b[0;32mreturn\u001b[0m \u001b[0moutput\u001b[0m\u001b[0;34m,\u001b[0m \u001b[0mnet1m\u001b[0m\u001b[0;34m,\u001b[0m \u001b[0mnet2m\u001b[0m\u001b[0;34m,\u001b[0m \u001b[0mnet3m\u001b[0m\u001b[0;34m,\u001b[0m \u001b[0mnet4m\u001b[0m\u001b[0;34m\u001b[0m\u001b[0m\n",
      "\u001b[0;32m~/Desktop/keras_model/lookback_ops.py\u001b[0m in \u001b[0;36mvgg_16\u001b[0;34m(inputs, scope)\u001b[0m\n\u001b[1;32m     27\u001b[0m     with slim.arg_scope([slim.conv2d, slim.fully_connected, slim.max_pool2d],\n\u001b[1;32m     28\u001b[0m                         outputs_collections=end_points_collection):\n\u001b[0;32m---> 29\u001b[0;31m       \u001b[0mnet1\u001b[0m \u001b[0;34m=\u001b[0m \u001b[0mslim\u001b[0m\u001b[0;34m.\u001b[0m\u001b[0mrepeat\u001b[0m\u001b[0;34m(\u001b[0m\u001b[0minputs\u001b[0m\u001b[0;34m,\u001b[0m \u001b[0;36m2\u001b[0m\u001b[0;34m,\u001b[0m \u001b[0mslim\u001b[0m\u001b[0;34m.\u001b[0m\u001b[0mconv2d\u001b[0m\u001b[0;34m,\u001b[0m \u001b[0;36m64\u001b[0m\u001b[0;34m,\u001b[0m \u001b[0;34m[\u001b[0m\u001b[0;36m3\u001b[0m\u001b[0;34m,\u001b[0m \u001b[0;36m3\u001b[0m\u001b[0;34m]\u001b[0m\u001b[0;34m,\u001b[0m \u001b[0mscope\u001b[0m\u001b[0;34m=\u001b[0m\u001b[0;34m'conv1'\u001b[0m\u001b[0;34m)\u001b[0m\u001b[0;34m\u001b[0m\u001b[0m\n\u001b[0m\u001b[1;32m     30\u001b[0m       \u001b[0mnet1m\u001b[0m \u001b[0;34m=\u001b[0m \u001b[0mslim\u001b[0m\u001b[0;34m.\u001b[0m\u001b[0mmax_pool2d\u001b[0m\u001b[0;34m(\u001b[0m\u001b[0mnet1\u001b[0m\u001b[0;34m,\u001b[0m \u001b[0;34m[\u001b[0m\u001b[0;36m2\u001b[0m\u001b[0;34m,\u001b[0m \u001b[0;36m2\u001b[0m\u001b[0;34m]\u001b[0m\u001b[0;34m,\u001b[0m \u001b[0mscope\u001b[0m\u001b[0;34m=\u001b[0m\u001b[0;34m'pool1'\u001b[0m\u001b[0;34m)\u001b[0m\u001b[0;34m\u001b[0m\u001b[0m\n\u001b[1;32m     31\u001b[0m       \u001b[0mnet2\u001b[0m \u001b[0;34m=\u001b[0m \u001b[0mslim\u001b[0m\u001b[0;34m.\u001b[0m\u001b[0mrepeat\u001b[0m\u001b[0;34m(\u001b[0m\u001b[0mnet1m\u001b[0m\u001b[0;34m,\u001b[0m \u001b[0;36m2\u001b[0m\u001b[0;34m,\u001b[0m \u001b[0mslim\u001b[0m\u001b[0;34m.\u001b[0m\u001b[0mconv2d\u001b[0m\u001b[0;34m,\u001b[0m \u001b[0;36m128\u001b[0m\u001b[0;34m,\u001b[0m \u001b[0;34m[\u001b[0m\u001b[0;36m3\u001b[0m\u001b[0;34m,\u001b[0m \u001b[0;36m3\u001b[0m\u001b[0;34m]\u001b[0m\u001b[0;34m,\u001b[0m \u001b[0mscope\u001b[0m\u001b[0;34m=\u001b[0m\u001b[0;34m'conv2'\u001b[0m\u001b[0;34m)\u001b[0m\u001b[0;34m\u001b[0m\u001b[0m\n",
      "\u001b[0;32m~/pyenv/tf_py3/lib/python3.6/site-packages/tensorflow/contrib/layers/python/layers/layers.py\u001b[0m in \u001b[0;36mrepeat\u001b[0;34m(inputs, repetitions, layer, *args, **kwargs)\u001b[0m\n\u001b[1;32m   2058\u001b[0m     \u001b[0;32mfor\u001b[0m \u001b[0mi\u001b[0m \u001b[0;32min\u001b[0m \u001b[0mrange\u001b[0m\u001b[0;34m(\u001b[0m\u001b[0mrepetitions\u001b[0m\u001b[0;34m)\u001b[0m\u001b[0;34m:\u001b[0m\u001b[0;34m\u001b[0m\u001b[0m\n\u001b[1;32m   2059\u001b[0m       \u001b[0mkwargs\u001b[0m\u001b[0;34m[\u001b[0m\u001b[0;34m'scope'\u001b[0m\u001b[0;34m]\u001b[0m \u001b[0;34m=\u001b[0m \u001b[0mscope\u001b[0m \u001b[0;34m+\u001b[0m \u001b[0;34m'_'\u001b[0m \u001b[0;34m+\u001b[0m \u001b[0mstr\u001b[0m\u001b[0;34m(\u001b[0m\u001b[0mi\u001b[0m\u001b[0;34m+\u001b[0m\u001b[0;36m1\u001b[0m\u001b[0;34m)\u001b[0m\u001b[0;34m\u001b[0m\u001b[0m\n\u001b[0;32m-> 2060\u001b[0;31m       \u001b[0moutputs\u001b[0m \u001b[0;34m=\u001b[0m \u001b[0mlayer\u001b[0m\u001b[0;34m(\u001b[0m\u001b[0moutputs\u001b[0m\u001b[0;34m,\u001b[0m \u001b[0;34m*\u001b[0m\u001b[0margs\u001b[0m\u001b[0;34m,\u001b[0m \u001b[0;34m**\u001b[0m\u001b[0mkwargs\u001b[0m\u001b[0;34m)\u001b[0m\u001b[0;34m\u001b[0m\u001b[0m\n\u001b[0m\u001b[1;32m   2061\u001b[0m     \u001b[0;32mreturn\u001b[0m \u001b[0moutputs\u001b[0m\u001b[0;34m\u001b[0m\u001b[0m\n\u001b[1;32m   2062\u001b[0m \u001b[0;34m\u001b[0m\u001b[0m\n",
      "\u001b[0;32m~/pyenv/tf_py3/lib/python3.6/site-packages/tensorflow/contrib/framework/python/ops/arg_scope.py\u001b[0m in \u001b[0;36mfunc_with_args\u001b[0;34m(*args, **kwargs)\u001b[0m\n\u001b[1;32m    179\u001b[0m       \u001b[0mcurrent_args\u001b[0m \u001b[0;34m=\u001b[0m \u001b[0mcurrent_scope\u001b[0m\u001b[0;34m[\u001b[0m\u001b[0mkey_func\u001b[0m\u001b[0;34m]\u001b[0m\u001b[0;34m.\u001b[0m\u001b[0mcopy\u001b[0m\u001b[0;34m(\u001b[0m\u001b[0;34m)\u001b[0m\u001b[0;34m\u001b[0m\u001b[0m\n\u001b[1;32m    180\u001b[0m       \u001b[0mcurrent_args\u001b[0m\u001b[0;34m.\u001b[0m\u001b[0mupdate\u001b[0m\u001b[0;34m(\u001b[0m\u001b[0mkwargs\u001b[0m\u001b[0;34m)\u001b[0m\u001b[0;34m\u001b[0m\u001b[0m\n\u001b[0;32m--> 181\u001b[0;31m     \u001b[0;32mreturn\u001b[0m \u001b[0mfunc\u001b[0m\u001b[0;34m(\u001b[0m\u001b[0;34m*\u001b[0m\u001b[0margs\u001b[0m\u001b[0;34m,\u001b[0m \u001b[0;34m**\u001b[0m\u001b[0mcurrent_args\u001b[0m\u001b[0;34m)\u001b[0m\u001b[0;34m\u001b[0m\u001b[0m\n\u001b[0m\u001b[1;32m    182\u001b[0m   \u001b[0m_add_op\u001b[0m\u001b[0;34m(\u001b[0m\u001b[0mfunc\u001b[0m\u001b[0;34m)\u001b[0m\u001b[0;34m\u001b[0m\u001b[0m\n\u001b[1;32m    183\u001b[0m   \u001b[0msetattr\u001b[0m\u001b[0;34m(\u001b[0m\u001b[0mfunc_with_args\u001b[0m\u001b[0;34m,\u001b[0m \u001b[0;34m'_key_op'\u001b[0m\u001b[0;34m,\u001b[0m \u001b[0m_key_op\u001b[0m\u001b[0;34m(\u001b[0m\u001b[0mfunc\u001b[0m\u001b[0;34m)\u001b[0m\u001b[0;34m)\u001b[0m\u001b[0;34m\u001b[0m\u001b[0m\n",
      "\u001b[0;32m~/pyenv/tf_py3/lib/python3.6/site-packages/tensorflow/contrib/layers/python/layers/layers.py\u001b[0m in \u001b[0;36mconvolution\u001b[0;34m(inputs, num_outputs, kernel_size, stride, padding, data_format, rate, activation_fn, normalizer_fn, normalizer_params, weights_initializer, weights_regularizer, biases_initializer, biases_regularizer, reuse, variables_collections, outputs_collections, trainable, scope)\u001b[0m\n\u001b[1;32m   1025\u001b[0m                         \u001b[0m_scope\u001b[0m\u001b[0;34m=\u001b[0m\u001b[0msc\u001b[0m\u001b[0;34m,\u001b[0m\u001b[0;34m\u001b[0m\u001b[0m\n\u001b[1;32m   1026\u001b[0m                         _reuse=reuse)\n\u001b[0;32m-> 1027\u001b[0;31m     \u001b[0moutputs\u001b[0m \u001b[0;34m=\u001b[0m \u001b[0mlayer\u001b[0m\u001b[0;34m.\u001b[0m\u001b[0mapply\u001b[0m\u001b[0;34m(\u001b[0m\u001b[0minputs\u001b[0m\u001b[0;34m)\u001b[0m\u001b[0;34m\u001b[0m\u001b[0m\n\u001b[0m\u001b[1;32m   1028\u001b[0m \u001b[0;34m\u001b[0m\u001b[0m\n\u001b[1;32m   1029\u001b[0m     \u001b[0;31m# Add variables to collections.\u001b[0m\u001b[0;34m\u001b[0m\u001b[0;34m\u001b[0m\u001b[0m\n",
      "\u001b[0;32m~/pyenv/tf_py3/lib/python3.6/site-packages/tensorflow/python/layers/base.py\u001b[0m in \u001b[0;36mapply\u001b[0;34m(self, inputs, *args, **kwargs)\u001b[0m\n\u001b[1;32m    501\u001b[0m       \u001b[0mOutput\u001b[0m \u001b[0mtensor\u001b[0m\u001b[0;34m(\u001b[0m\u001b[0ms\u001b[0m\u001b[0;34m)\u001b[0m\u001b[0;34m.\u001b[0m\u001b[0;34m\u001b[0m\u001b[0m\n\u001b[1;32m    502\u001b[0m     \"\"\"\n\u001b[0;32m--> 503\u001b[0;31m     \u001b[0;32mreturn\u001b[0m \u001b[0mself\u001b[0m\u001b[0;34m.\u001b[0m\u001b[0m__call__\u001b[0m\u001b[0;34m(\u001b[0m\u001b[0minputs\u001b[0m\u001b[0;34m,\u001b[0m \u001b[0;34m*\u001b[0m\u001b[0margs\u001b[0m\u001b[0;34m,\u001b[0m \u001b[0;34m**\u001b[0m\u001b[0mkwargs\u001b[0m\u001b[0;34m)\u001b[0m\u001b[0;34m\u001b[0m\u001b[0m\n\u001b[0m\u001b[1;32m    504\u001b[0m \u001b[0;34m\u001b[0m\u001b[0m\n\u001b[1;32m    505\u001b[0m   \u001b[0;32mdef\u001b[0m \u001b[0m_assert_input_compatibility\u001b[0m\u001b[0;34m(\u001b[0m\u001b[0mself\u001b[0m\u001b[0;34m,\u001b[0m \u001b[0minputs\u001b[0m\u001b[0;34m)\u001b[0m\u001b[0;34m:\u001b[0m\u001b[0;34m\u001b[0m\u001b[0m\n",
      "\u001b[0;32m~/pyenv/tf_py3/lib/python3.6/site-packages/tensorflow/python/layers/base.py\u001b[0m in \u001b[0;36m__call__\u001b[0;34m(self, inputs, *args, **kwargs)\u001b[0m\n\u001b[1;32m    441\u001b[0m           \u001b[0minput_shapes\u001b[0m \u001b[0;34m=\u001b[0m \u001b[0;34m[\u001b[0m\u001b[0mx\u001b[0m\u001b[0;34m.\u001b[0m\u001b[0mget_shape\u001b[0m\u001b[0;34m(\u001b[0m\u001b[0;34m)\u001b[0m \u001b[0;32mfor\u001b[0m \u001b[0mx\u001b[0m \u001b[0;32min\u001b[0m \u001b[0minput_list\u001b[0m\u001b[0;34m]\u001b[0m\u001b[0;34m\u001b[0m\u001b[0m\n\u001b[1;32m    442\u001b[0m           \u001b[0;32mif\u001b[0m \u001b[0mlen\u001b[0m\u001b[0;34m(\u001b[0m\u001b[0minput_shapes\u001b[0m\u001b[0;34m)\u001b[0m \u001b[0;34m==\u001b[0m \u001b[0;36m1\u001b[0m\u001b[0;34m:\u001b[0m\u001b[0;34m\u001b[0m\u001b[0m\n\u001b[0;32m--> 443\u001b[0;31m             \u001b[0mself\u001b[0m\u001b[0;34m.\u001b[0m\u001b[0mbuild\u001b[0m\u001b[0;34m(\u001b[0m\u001b[0minput_shapes\u001b[0m\u001b[0;34m[\u001b[0m\u001b[0;36m0\u001b[0m\u001b[0;34m]\u001b[0m\u001b[0;34m)\u001b[0m\u001b[0;34m\u001b[0m\u001b[0m\n\u001b[0m\u001b[1;32m    444\u001b[0m           \u001b[0;32melse\u001b[0m\u001b[0;34m:\u001b[0m\u001b[0;34m\u001b[0m\u001b[0m\n\u001b[1;32m    445\u001b[0m             \u001b[0mself\u001b[0m\u001b[0;34m.\u001b[0m\u001b[0mbuild\u001b[0m\u001b[0;34m(\u001b[0m\u001b[0minput_shapes\u001b[0m\u001b[0;34m)\u001b[0m\u001b[0;34m\u001b[0m\u001b[0m\n",
      "\u001b[0;32m~/pyenv/tf_py3/lib/python3.6/site-packages/tensorflow/python/layers/convolutional.py\u001b[0m in \u001b[0;36mbuild\u001b[0;34m(self, input_shape)\u001b[0m\n\u001b[1;32m    135\u001b[0m                                     \u001b[0mregularizer\u001b[0m\u001b[0;34m=\u001b[0m\u001b[0mself\u001b[0m\u001b[0;34m.\u001b[0m\u001b[0mkernel_regularizer\u001b[0m\u001b[0;34m,\u001b[0m\u001b[0;34m\u001b[0m\u001b[0m\n\u001b[1;32m    136\u001b[0m                                     \u001b[0mtrainable\u001b[0m\u001b[0;34m=\u001b[0m\u001b[0;32mTrue\u001b[0m\u001b[0;34m,\u001b[0m\u001b[0;34m\u001b[0m\u001b[0m\n\u001b[0;32m--> 137\u001b[0;31m                                     dtype=self.dtype)\n\u001b[0m\u001b[1;32m    138\u001b[0m     \u001b[0;32mif\u001b[0m \u001b[0mself\u001b[0m\u001b[0;34m.\u001b[0m\u001b[0muse_bias\u001b[0m\u001b[0;34m:\u001b[0m\u001b[0;34m\u001b[0m\u001b[0m\n\u001b[1;32m    139\u001b[0m       self.bias = self.add_variable(name='bias',\n",
      "\u001b[0;32m~/pyenv/tf_py3/lib/python3.6/site-packages/tensorflow/python/layers/base.py\u001b[0m in \u001b[0;36madd_variable\u001b[0;34m(self, name, shape, dtype, initializer, regularizer, trainable)\u001b[0m\n\u001b[1;32m    381\u001b[0m                                    \u001b[0minitializer\u001b[0m\u001b[0;34m=\u001b[0m\u001b[0minitializer\u001b[0m\u001b[0;34m,\u001b[0m\u001b[0;34m\u001b[0m\u001b[0m\n\u001b[1;32m    382\u001b[0m                                    \u001b[0mdtype\u001b[0m\u001b[0;34m=\u001b[0m\u001b[0mdtypes\u001b[0m\u001b[0;34m.\u001b[0m\u001b[0mas_dtype\u001b[0m\u001b[0;34m(\u001b[0m\u001b[0mdtype\u001b[0m\u001b[0;34m)\u001b[0m\u001b[0;34m,\u001b[0m\u001b[0;34m\u001b[0m\u001b[0m\n\u001b[0;32m--> 383\u001b[0;31m                                    trainable=trainable and self.trainable)\n\u001b[0m\u001b[1;32m    384\u001b[0m         \u001b[0;32mif\u001b[0m \u001b[0mvariable\u001b[0m \u001b[0;32min\u001b[0m \u001b[0mexisting_variables\u001b[0m\u001b[0;34m:\u001b[0m\u001b[0;34m\u001b[0m\u001b[0m\n\u001b[1;32m    385\u001b[0m           \u001b[0;32mreturn\u001b[0m \u001b[0mvariable\u001b[0m\u001b[0;34m\u001b[0m\u001b[0m\n",
      "\u001b[0;32m~/pyenv/tf_py3/lib/python3.6/site-packages/tensorflow/python/ops/variable_scope.py\u001b[0m in \u001b[0;36mget_variable\u001b[0;34m(name, shape, dtype, initializer, regularizer, trainable, collections, caching_device, partitioner, validate_shape, use_resource, custom_getter)\u001b[0m\n\u001b[1;32m   1063\u001b[0m       \u001b[0mcollections\u001b[0m\u001b[0;34m=\u001b[0m\u001b[0mcollections\u001b[0m\u001b[0;34m,\u001b[0m \u001b[0mcaching_device\u001b[0m\u001b[0;34m=\u001b[0m\u001b[0mcaching_device\u001b[0m\u001b[0;34m,\u001b[0m\u001b[0;34m\u001b[0m\u001b[0m\n\u001b[1;32m   1064\u001b[0m       \u001b[0mpartitioner\u001b[0m\u001b[0;34m=\u001b[0m\u001b[0mpartitioner\u001b[0m\u001b[0;34m,\u001b[0m \u001b[0mvalidate_shape\u001b[0m\u001b[0;34m=\u001b[0m\u001b[0mvalidate_shape\u001b[0m\u001b[0;34m,\u001b[0m\u001b[0;34m\u001b[0m\u001b[0m\n\u001b[0;32m-> 1065\u001b[0;31m       use_resource=use_resource, custom_getter=custom_getter)\n\u001b[0m\u001b[1;32m   1066\u001b[0m get_variable_or_local_docstring = (\n\u001b[1;32m   1067\u001b[0m     \"\"\"%s\n",
      "\u001b[0;32m~/pyenv/tf_py3/lib/python3.6/site-packages/tensorflow/python/ops/variable_scope.py\u001b[0m in \u001b[0;36mget_variable\u001b[0;34m(self, var_store, name, shape, dtype, initializer, regularizer, reuse, trainable, collections, caching_device, partitioner, validate_shape, use_resource, custom_getter)\u001b[0m\n\u001b[1;32m    960\u001b[0m           \u001b[0mcollections\u001b[0m\u001b[0;34m=\u001b[0m\u001b[0mcollections\u001b[0m\u001b[0;34m,\u001b[0m \u001b[0mcaching_device\u001b[0m\u001b[0;34m=\u001b[0m\u001b[0mcaching_device\u001b[0m\u001b[0;34m,\u001b[0m\u001b[0;34m\u001b[0m\u001b[0m\n\u001b[1;32m    961\u001b[0m           \u001b[0mpartitioner\u001b[0m\u001b[0;34m=\u001b[0m\u001b[0mpartitioner\u001b[0m\u001b[0;34m,\u001b[0m \u001b[0mvalidate_shape\u001b[0m\u001b[0;34m=\u001b[0m\u001b[0mvalidate_shape\u001b[0m\u001b[0;34m,\u001b[0m\u001b[0;34m\u001b[0m\u001b[0m\n\u001b[0;32m--> 962\u001b[0;31m           use_resource=use_resource, custom_getter=custom_getter)\n\u001b[0m\u001b[1;32m    963\u001b[0m \u001b[0;34m\u001b[0m\u001b[0m\n\u001b[1;32m    964\u001b[0m   def _get_partitioned_variable(self,\n",
      "\u001b[0;32m~/pyenv/tf_py3/lib/python3.6/site-packages/tensorflow/python/ops/variable_scope.py\u001b[0m in \u001b[0;36mget_variable\u001b[0;34m(self, name, shape, dtype, initializer, regularizer, reuse, trainable, collections, caching_device, partitioner, validate_shape, use_resource, custom_getter)\u001b[0m\n\u001b[1;32m    358\u001b[0m           \u001b[0mreuse\u001b[0m\u001b[0;34m=\u001b[0m\u001b[0mreuse\u001b[0m\u001b[0;34m,\u001b[0m \u001b[0mtrainable\u001b[0m\u001b[0;34m=\u001b[0m\u001b[0mtrainable\u001b[0m\u001b[0;34m,\u001b[0m \u001b[0mcollections\u001b[0m\u001b[0;34m=\u001b[0m\u001b[0mcollections\u001b[0m\u001b[0;34m,\u001b[0m\u001b[0;34m\u001b[0m\u001b[0m\n\u001b[1;32m    359\u001b[0m           \u001b[0mcaching_device\u001b[0m\u001b[0;34m=\u001b[0m\u001b[0mcaching_device\u001b[0m\u001b[0;34m,\u001b[0m \u001b[0mpartitioner\u001b[0m\u001b[0;34m=\u001b[0m\u001b[0mpartitioner\u001b[0m\u001b[0;34m,\u001b[0m\u001b[0;34m\u001b[0m\u001b[0m\n\u001b[0;32m--> 360\u001b[0;31m           validate_shape=validate_shape, use_resource=use_resource)\n\u001b[0m\u001b[1;32m    361\u001b[0m     \u001b[0;32melse\u001b[0m\u001b[0;34m:\u001b[0m\u001b[0;34m\u001b[0m\u001b[0m\n\u001b[1;32m    362\u001b[0m       return _true_getter(\n",
      "\u001b[0;32m~/pyenv/tf_py3/lib/python3.6/site-packages/tensorflow/contrib/layers/python/layers/layers.py\u001b[0m in \u001b[0;36mlayer_variable_getter\u001b[0;34m(getter, *args, **kwargs)\u001b[0m\n\u001b[1;32m   1559\u001b[0m   \u001b[0;32mdef\u001b[0m \u001b[0mlayer_variable_getter\u001b[0m\u001b[0;34m(\u001b[0m\u001b[0mgetter\u001b[0m\u001b[0;34m,\u001b[0m \u001b[0;34m*\u001b[0m\u001b[0margs\u001b[0m\u001b[0;34m,\u001b[0m \u001b[0;34m**\u001b[0m\u001b[0mkwargs\u001b[0m\u001b[0;34m)\u001b[0m\u001b[0;34m:\u001b[0m\u001b[0;34m\u001b[0m\u001b[0m\n\u001b[1;32m   1560\u001b[0m     \u001b[0mkwargs\u001b[0m\u001b[0;34m[\u001b[0m\u001b[0;34m'rename'\u001b[0m\u001b[0;34m]\u001b[0m \u001b[0;34m=\u001b[0m \u001b[0mrename\u001b[0m\u001b[0;34m\u001b[0m\u001b[0m\n\u001b[0;32m-> 1561\u001b[0;31m     \u001b[0;32mreturn\u001b[0m \u001b[0m_model_variable_getter\u001b[0m\u001b[0;34m(\u001b[0m\u001b[0mgetter\u001b[0m\u001b[0;34m,\u001b[0m \u001b[0;34m*\u001b[0m\u001b[0margs\u001b[0m\u001b[0;34m,\u001b[0m \u001b[0;34m**\u001b[0m\u001b[0mkwargs\u001b[0m\u001b[0;34m)\u001b[0m\u001b[0;34m\u001b[0m\u001b[0m\n\u001b[0m\u001b[1;32m   1562\u001b[0m   \u001b[0;32mreturn\u001b[0m \u001b[0mlayer_variable_getter\u001b[0m\u001b[0;34m\u001b[0m\u001b[0m\n\u001b[1;32m   1563\u001b[0m \u001b[0;34m\u001b[0m\u001b[0m\n",
      "\u001b[0;32m~/pyenv/tf_py3/lib/python3.6/site-packages/tensorflow/contrib/layers/python/layers/layers.py\u001b[0m in \u001b[0;36m_model_variable_getter\u001b[0;34m(getter, name, shape, dtype, initializer, regularizer, trainable, collections, caching_device, partitioner, rename, use_resource, **_)\u001b[0m\n\u001b[1;32m   1551\u001b[0m       \u001b[0mregularizer\u001b[0m\u001b[0;34m=\u001b[0m\u001b[0mregularizer\u001b[0m\u001b[0;34m,\u001b[0m \u001b[0mcollections\u001b[0m\u001b[0;34m=\u001b[0m\u001b[0mcollections\u001b[0m\u001b[0;34m,\u001b[0m \u001b[0mtrainable\u001b[0m\u001b[0;34m=\u001b[0m\u001b[0mtrainable\u001b[0m\u001b[0;34m,\u001b[0m\u001b[0;34m\u001b[0m\u001b[0m\n\u001b[1;32m   1552\u001b[0m       \u001b[0mcaching_device\u001b[0m\u001b[0;34m=\u001b[0m\u001b[0mcaching_device\u001b[0m\u001b[0;34m,\u001b[0m \u001b[0mpartitioner\u001b[0m\u001b[0;34m=\u001b[0m\u001b[0mpartitioner\u001b[0m\u001b[0;34m,\u001b[0m\u001b[0;34m\u001b[0m\u001b[0m\n\u001b[0;32m-> 1553\u001b[0;31m       custom_getter=getter, use_resource=use_resource)\n\u001b[0m\u001b[1;32m   1554\u001b[0m \u001b[0;34m\u001b[0m\u001b[0m\n\u001b[1;32m   1555\u001b[0m \u001b[0;34m\u001b[0m\u001b[0m\n",
      "\u001b[0;32m~/pyenv/tf_py3/lib/python3.6/site-packages/tensorflow/contrib/framework/python/ops/arg_scope.py\u001b[0m in \u001b[0;36mfunc_with_args\u001b[0;34m(*args, **kwargs)\u001b[0m\n\u001b[1;32m    179\u001b[0m       \u001b[0mcurrent_args\u001b[0m \u001b[0;34m=\u001b[0m \u001b[0mcurrent_scope\u001b[0m\u001b[0;34m[\u001b[0m\u001b[0mkey_func\u001b[0m\u001b[0;34m]\u001b[0m\u001b[0;34m.\u001b[0m\u001b[0mcopy\u001b[0m\u001b[0;34m(\u001b[0m\u001b[0;34m)\u001b[0m\u001b[0;34m\u001b[0m\u001b[0m\n\u001b[1;32m    180\u001b[0m       \u001b[0mcurrent_args\u001b[0m\u001b[0;34m.\u001b[0m\u001b[0mupdate\u001b[0m\u001b[0;34m(\u001b[0m\u001b[0mkwargs\u001b[0m\u001b[0;34m)\u001b[0m\u001b[0;34m\u001b[0m\u001b[0m\n\u001b[0;32m--> 181\u001b[0;31m     \u001b[0;32mreturn\u001b[0m \u001b[0mfunc\u001b[0m\u001b[0;34m(\u001b[0m\u001b[0;34m*\u001b[0m\u001b[0margs\u001b[0m\u001b[0;34m,\u001b[0m \u001b[0;34m**\u001b[0m\u001b[0mcurrent_args\u001b[0m\u001b[0;34m)\u001b[0m\u001b[0;34m\u001b[0m\u001b[0m\n\u001b[0m\u001b[1;32m    182\u001b[0m   \u001b[0m_add_op\u001b[0m\u001b[0;34m(\u001b[0m\u001b[0mfunc\u001b[0m\u001b[0;34m)\u001b[0m\u001b[0;34m\u001b[0m\u001b[0m\n\u001b[1;32m    183\u001b[0m   \u001b[0msetattr\u001b[0m\u001b[0;34m(\u001b[0m\u001b[0mfunc_with_args\u001b[0m\u001b[0;34m,\u001b[0m \u001b[0;34m'_key_op'\u001b[0m\u001b[0;34m,\u001b[0m \u001b[0m_key_op\u001b[0m\u001b[0;34m(\u001b[0m\u001b[0mfunc\u001b[0m\u001b[0;34m)\u001b[0m\u001b[0;34m)\u001b[0m\u001b[0;34m\u001b[0m\u001b[0m\n",
      "\u001b[0;32m~/pyenv/tf_py3/lib/python3.6/site-packages/tensorflow/contrib/framework/python/ops/variables.py\u001b[0m in \u001b[0;36mmodel_variable\u001b[0;34m(name, shape, dtype, initializer, regularizer, trainable, collections, caching_device, device, partitioner, custom_getter, use_resource)\u001b[0m\n\u001b[1;32m    259\u001b[0m                  \u001b[0mcaching_device\u001b[0m\u001b[0;34m=\u001b[0m\u001b[0mcaching_device\u001b[0m\u001b[0;34m,\u001b[0m \u001b[0mdevice\u001b[0m\u001b[0;34m=\u001b[0m\u001b[0mdevice\u001b[0m\u001b[0;34m,\u001b[0m\u001b[0;34m\u001b[0m\u001b[0m\n\u001b[1;32m    260\u001b[0m                  \u001b[0mpartitioner\u001b[0m\u001b[0;34m=\u001b[0m\u001b[0mpartitioner\u001b[0m\u001b[0;34m,\u001b[0m \u001b[0mcustom_getter\u001b[0m\u001b[0;34m=\u001b[0m\u001b[0mcustom_getter\u001b[0m\u001b[0;34m,\u001b[0m\u001b[0;34m\u001b[0m\u001b[0m\n\u001b[0;32m--> 261\u001b[0;31m                  use_resource=use_resource)\n\u001b[0m\u001b[1;32m    262\u001b[0m   \u001b[0;32mreturn\u001b[0m \u001b[0mvar\u001b[0m\u001b[0;34m\u001b[0m\u001b[0m\n\u001b[1;32m    263\u001b[0m \u001b[0;34m\u001b[0m\u001b[0m\n",
      "\u001b[0;32m~/pyenv/tf_py3/lib/python3.6/site-packages/tensorflow/contrib/framework/python/ops/arg_scope.py\u001b[0m in \u001b[0;36mfunc_with_args\u001b[0;34m(*args, **kwargs)\u001b[0m\n\u001b[1;32m    179\u001b[0m       \u001b[0mcurrent_args\u001b[0m \u001b[0;34m=\u001b[0m \u001b[0mcurrent_scope\u001b[0m\u001b[0;34m[\u001b[0m\u001b[0mkey_func\u001b[0m\u001b[0;34m]\u001b[0m\u001b[0;34m.\u001b[0m\u001b[0mcopy\u001b[0m\u001b[0;34m(\u001b[0m\u001b[0;34m)\u001b[0m\u001b[0;34m\u001b[0m\u001b[0m\n\u001b[1;32m    180\u001b[0m       \u001b[0mcurrent_args\u001b[0m\u001b[0;34m.\u001b[0m\u001b[0mupdate\u001b[0m\u001b[0;34m(\u001b[0m\u001b[0mkwargs\u001b[0m\u001b[0;34m)\u001b[0m\u001b[0;34m\u001b[0m\u001b[0m\n\u001b[0;32m--> 181\u001b[0;31m     \u001b[0;32mreturn\u001b[0m \u001b[0mfunc\u001b[0m\u001b[0;34m(\u001b[0m\u001b[0;34m*\u001b[0m\u001b[0margs\u001b[0m\u001b[0;34m,\u001b[0m \u001b[0;34m**\u001b[0m\u001b[0mcurrent_args\u001b[0m\u001b[0;34m)\u001b[0m\u001b[0;34m\u001b[0m\u001b[0m\n\u001b[0m\u001b[1;32m    182\u001b[0m   \u001b[0m_add_op\u001b[0m\u001b[0;34m(\u001b[0m\u001b[0mfunc\u001b[0m\u001b[0;34m)\u001b[0m\u001b[0;34m\u001b[0m\u001b[0m\n\u001b[1;32m    183\u001b[0m   \u001b[0msetattr\u001b[0m\u001b[0;34m(\u001b[0m\u001b[0mfunc_with_args\u001b[0m\u001b[0;34m,\u001b[0m \u001b[0;34m'_key_op'\u001b[0m\u001b[0;34m,\u001b[0m \u001b[0m_key_op\u001b[0m\u001b[0;34m(\u001b[0m\u001b[0mfunc\u001b[0m\u001b[0;34m)\u001b[0m\u001b[0;34m)\u001b[0m\u001b[0;34m\u001b[0m\u001b[0m\n",
      "\u001b[0;32m~/pyenv/tf_py3/lib/python3.6/site-packages/tensorflow/contrib/framework/python/ops/variables.py\u001b[0m in \u001b[0;36mvariable\u001b[0;34m(name, shape, dtype, initializer, regularizer, trainable, collections, caching_device, device, partitioner, custom_getter, use_resource)\u001b[0m\n\u001b[1;32m    214\u001b[0m                   \u001b[0mcaching_device\u001b[0m\u001b[0;34m=\u001b[0m\u001b[0mcaching_device\u001b[0m\u001b[0;34m,\u001b[0m\u001b[0;34m\u001b[0m\u001b[0m\n\u001b[1;32m    215\u001b[0m                   \u001b[0mpartitioner\u001b[0m\u001b[0;34m=\u001b[0m\u001b[0mpartitioner\u001b[0m\u001b[0;34m,\u001b[0m\u001b[0;34m\u001b[0m\u001b[0m\n\u001b[0;32m--> 216\u001b[0;31m                   use_resource=use_resource)\n\u001b[0m\u001b[1;32m    217\u001b[0m \u001b[0;34m\u001b[0m\u001b[0m\n\u001b[1;32m    218\u001b[0m \u001b[0;34m\u001b[0m\u001b[0m\n",
      "\u001b[0;32m~/pyenv/tf_py3/lib/python3.6/site-packages/tensorflow/python/ops/variable_scope.py\u001b[0m in \u001b[0;36m_true_getter\u001b[0;34m(name, shape, dtype, initializer, regularizer, reuse, trainable, collections, caching_device, partitioner, validate_shape, use_resource)\u001b[0m\n\u001b[1;32m    350\u001b[0m           \u001b[0mtrainable\u001b[0m\u001b[0;34m=\u001b[0m\u001b[0mtrainable\u001b[0m\u001b[0;34m,\u001b[0m \u001b[0mcollections\u001b[0m\u001b[0;34m=\u001b[0m\u001b[0mcollections\u001b[0m\u001b[0;34m,\u001b[0m\u001b[0;34m\u001b[0m\u001b[0m\n\u001b[1;32m    351\u001b[0m           \u001b[0mcaching_device\u001b[0m\u001b[0;34m=\u001b[0m\u001b[0mcaching_device\u001b[0m\u001b[0;34m,\u001b[0m \u001b[0mvalidate_shape\u001b[0m\u001b[0;34m=\u001b[0m\u001b[0mvalidate_shape\u001b[0m\u001b[0;34m,\u001b[0m\u001b[0;34m\u001b[0m\u001b[0m\n\u001b[0;32m--> 352\u001b[0;31m           use_resource=use_resource)\n\u001b[0m\u001b[1;32m    353\u001b[0m \u001b[0;34m\u001b[0m\u001b[0m\n\u001b[1;32m    354\u001b[0m     \u001b[0;32mif\u001b[0m \u001b[0mcustom_getter\u001b[0m \u001b[0;32mis\u001b[0m \u001b[0;32mnot\u001b[0m \u001b[0;32mNone\u001b[0m\u001b[0;34m:\u001b[0m\u001b[0;34m\u001b[0m\u001b[0m\n",
      "\u001b[0;32m~/pyenv/tf_py3/lib/python3.6/site-packages/tensorflow/python/ops/variable_scope.py\u001b[0m in \u001b[0;36m_get_single_variable\u001b[0;34m(self, name, shape, dtype, initializer, regularizer, partition_info, reuse, trainable, collections, caching_device, validate_shape, use_resource)\u001b[0m\n\u001b[1;32m    662\u001b[0m                          \u001b[0;34m\" Did you mean to set reuse=True in VarScope? \"\u001b[0m\u001b[0;34m\u001b[0m\u001b[0m\n\u001b[1;32m    663\u001b[0m                          \"Originally defined at:\\n\\n%s\" % (\n\u001b[0;32m--> 664\u001b[0;31m                              name, \"\".join(traceback.format_list(tb))))\n\u001b[0m\u001b[1;32m    665\u001b[0m       \u001b[0mfound_var\u001b[0m \u001b[0;34m=\u001b[0m \u001b[0mself\u001b[0m\u001b[0;34m.\u001b[0m\u001b[0m_vars\u001b[0m\u001b[0;34m[\u001b[0m\u001b[0mname\u001b[0m\u001b[0;34m]\u001b[0m\u001b[0;34m\u001b[0m\u001b[0m\n\u001b[1;32m    666\u001b[0m       \u001b[0;32mif\u001b[0m \u001b[0;32mnot\u001b[0m \u001b[0mshape\u001b[0m\u001b[0;34m.\u001b[0m\u001b[0mis_compatible_with\u001b[0m\u001b[0;34m(\u001b[0m\u001b[0mfound_var\u001b[0m\u001b[0;34m.\u001b[0m\u001b[0mget_shape\u001b[0m\u001b[0;34m(\u001b[0m\u001b[0;34m)\u001b[0m\u001b[0;34m)\u001b[0m\u001b[0;34m:\u001b[0m\u001b[0;34m\u001b[0m\u001b[0m\n",
      "\u001b[0;31mValueError\u001b[0m: Variable vgg_16/conv1/conv1_1/weights already exists, disallowed. Did you mean to set reuse=True in VarScope? Originally defined at:\n\n  File \"/Users/junr/pyenv/tf_py3/lib/python3.6/site-packages/tensorflow/contrib/framework/python/ops/variables.py\", line 216, in variable\n    use_resource=use_resource)\n  File \"/Users/junr/pyenv/tf_py3/lib/python3.6/site-packages/tensorflow/contrib/framework/python/ops/arg_scope.py\", line 181, in func_with_args\n    return func(*args, **current_args)\n  File \"/Users/junr/pyenv/tf_py3/lib/python3.6/site-packages/tensorflow/contrib/framework/python/ops/variables.py\", line 261, in model_variable\n    use_resource=use_resource)\n"
     ]
    }
   ],
   "source": [
    "test_lb_adaption_conv(config)"
   ]
  },
  {
   "cell_type": "code",
   "execution_count": 1,
   "metadata": {},
   "outputs": [
    {
     "ename": "ValueError",
     "evalue": "Dimensions must be equal, but are 1024 and 512 for 'BiasAdd_1' (op: 'BiasAdd') with input shapes: [1,16,40,1024], [512].",
     "output_type": "error",
     "traceback": [
      "\u001b[0;31m---------------------------------------------------------------------------\u001b[0m",
      "\u001b[0;31mInvalidArgumentError\u001b[0m                      Traceback (most recent call last)",
      "\u001b[0;32m~/pyenv/tf_py3/lib/python3.6/site-packages/tensorflow/python/framework/common_shapes.py\u001b[0m in \u001b[0;36m_call_cpp_shape_fn_impl\u001b[0;34m(op, input_tensors_needed, input_tensors_as_shapes_needed, require_shape_fn)\u001b[0m\n\u001b[1;32m    653\u001b[0m           \u001b[0mgraph_def_version\u001b[0m\u001b[0;34m,\u001b[0m \u001b[0mnode_def_str\u001b[0m\u001b[0;34m,\u001b[0m \u001b[0minput_shapes\u001b[0m\u001b[0;34m,\u001b[0m \u001b[0minput_tensors\u001b[0m\u001b[0;34m,\u001b[0m\u001b[0;34m\u001b[0m\u001b[0m\n\u001b[0;32m--> 654\u001b[0;31m           input_tensors_as_shapes, status)\n\u001b[0m\u001b[1;32m    655\u001b[0m   \u001b[0;32mexcept\u001b[0m \u001b[0merrors\u001b[0m\u001b[0;34m.\u001b[0m\u001b[0mInvalidArgumentError\u001b[0m \u001b[0;32mas\u001b[0m \u001b[0merr\u001b[0m\u001b[0;34m:\u001b[0m\u001b[0;34m\u001b[0m\u001b[0m\n",
      "\u001b[0;32m/usr/local/Cellar/python3/3.6.2/Frameworks/Python.framework/Versions/3.6/lib/python3.6/contextlib.py\u001b[0m in \u001b[0;36m__exit__\u001b[0;34m(self, type, value, traceback)\u001b[0m\n\u001b[1;32m     87\u001b[0m             \u001b[0;32mtry\u001b[0m\u001b[0;34m:\u001b[0m\u001b[0;34m\u001b[0m\u001b[0m\n\u001b[0;32m---> 88\u001b[0;31m                 \u001b[0mnext\u001b[0m\u001b[0;34m(\u001b[0m\u001b[0mself\u001b[0m\u001b[0;34m.\u001b[0m\u001b[0mgen\u001b[0m\u001b[0;34m)\u001b[0m\u001b[0;34m\u001b[0m\u001b[0m\n\u001b[0m\u001b[1;32m     89\u001b[0m             \u001b[0;32mexcept\u001b[0m \u001b[0mStopIteration\u001b[0m\u001b[0;34m:\u001b[0m\u001b[0;34m\u001b[0m\u001b[0m\n",
      "\u001b[0;32m~/pyenv/tf_py3/lib/python3.6/site-packages/tensorflow/python/framework/errors_impl.py\u001b[0m in \u001b[0;36mraise_exception_on_not_ok_status\u001b[0;34m()\u001b[0m\n\u001b[1;32m    465\u001b[0m           \u001b[0mcompat\u001b[0m\u001b[0;34m.\u001b[0m\u001b[0mas_text\u001b[0m\u001b[0;34m(\u001b[0m\u001b[0mpywrap_tensorflow\u001b[0m\u001b[0;34m.\u001b[0m\u001b[0mTF_Message\u001b[0m\u001b[0;34m(\u001b[0m\u001b[0mstatus\u001b[0m\u001b[0;34m)\u001b[0m\u001b[0;34m)\u001b[0m\u001b[0;34m,\u001b[0m\u001b[0;34m\u001b[0m\u001b[0m\n\u001b[0;32m--> 466\u001b[0;31m           pywrap_tensorflow.TF_GetCode(status))\n\u001b[0m\u001b[1;32m    467\u001b[0m   \u001b[0;32mfinally\u001b[0m\u001b[0;34m:\u001b[0m\u001b[0;34m\u001b[0m\u001b[0m\n",
      "\u001b[0;31mInvalidArgumentError\u001b[0m: Dimensions must be equal, but are 1024 and 512 for 'BiasAdd_1' (op: 'BiasAdd') with input shapes: [1,16,40,1024], [512].",
      "\nDuring handling of the above exception, another exception occurred:\n",
      "\u001b[0;31mValueError\u001b[0m                                Traceback (most recent call last)",
      "\u001b[0;32m<ipython-input-1-e027ccb3c96f>\u001b[0m in \u001b[0;36m<module>\u001b[0;34m()\u001b[0m\n\u001b[1;32m      3\u001b[0m \u001b[0mconfig\u001b[0m \u001b[0;34m=\u001b[0m \u001b[0mreturn_a_config\u001b[0m\u001b[0;34m(\u001b[0m\u001b[0;34m)\u001b[0m\u001b[0;34m\u001b[0m\u001b[0m\n\u001b[1;32m      4\u001b[0m \u001b[0moutput_layer\u001b[0m\u001b[0;34m=\u001b[0m\u001b[0;34m'conv2'\u001b[0m\u001b[0;34m\u001b[0m\u001b[0m\n\u001b[0;32m----> 5\u001b[0;31m \u001b[0mbatch_img_list\u001b[0m\u001b[0;34m,\u001b[0m \u001b[0mlabels\u001b[0m\u001b[0;34m,\u001b[0m \u001b[0mstage\u001b[0m \u001b[0;34m=\u001b[0m \u001b[0mtest_lb_adaption_conv\u001b[0m\u001b[0;34m(\u001b[0m\u001b[0mconfig\u001b[0m\u001b[0;34m,\u001b[0m \u001b[0mtop_k_activation\u001b[0m\u001b[0;34m=\u001b[0m\u001b[0;36m5\u001b[0m\u001b[0;34m)\u001b[0m\u001b[0;34m\u001b[0m\u001b[0m\n\u001b[0m\u001b[1;32m      6\u001b[0m \u001b[0msimple_save_result_from_test_lb\u001b[0m\u001b[0;34m(\u001b[0m\u001b[0mbatch_img_list\u001b[0m\u001b[0;34m,\u001b[0m \u001b[0mlabels\u001b[0m\u001b[0;34m,\u001b[0m \u001b[0mstage\u001b[0m\u001b[0;34m,\u001b[0m \u001b[0mconfig\u001b[0m\u001b[0;34m,\u001b[0m \u001b[0moutput_layer\u001b[0m\u001b[0;34m)\u001b[0m\u001b[0;34m\u001b[0m\u001b[0m\n\u001b[1;32m      7\u001b[0m \u001b[0;34m\u001b[0m\u001b[0m\n",
      "\u001b[0;32m~/Desktop/keras_model/lookback_ops.py\u001b[0m in \u001b[0;36mtest_lb_adaption_conv\u001b[0;34m(config, top_k_activation)\u001b[0m\n\u001b[1;32m    490\u001b[0m   \u001b[0mfeed_m2\u001b[0m \u001b[0;34m=\u001b[0m \u001b[0mtf\u001b[0m\u001b[0;34m.\u001b[0m\u001b[0mplaceholder\u001b[0m\u001b[0;34m(\u001b[0m\u001b[0mtf\u001b[0m\u001b[0;34m.\u001b[0m\u001b[0mfloat32\u001b[0m\u001b[0;34m,\u001b[0m \u001b[0mshape\u001b[0m\u001b[0;34m=\u001b[0m\u001b[0;34m[\u001b[0m\u001b[0;36m1\u001b[0m\u001b[0;34m,\u001b[0m \u001b[0;36m64\u001b[0m\u001b[0;34m,\u001b[0m \u001b[0;36m160\u001b[0m\u001b[0;34m,\u001b[0m \u001b[0;36m128\u001b[0m\u001b[0;34m]\u001b[0m\u001b[0;34m)\u001b[0m  \u001b[0;31m# mask for vgg/conv2\u001b[0m\u001b[0;34m\u001b[0m\u001b[0m\n\u001b[1;32m    491\u001b[0m   \u001b[0mfeed_m3\u001b[0m \u001b[0;34m=\u001b[0m \u001b[0mtf\u001b[0m\u001b[0;34m.\u001b[0m\u001b[0mplaceholder\u001b[0m\u001b[0;34m(\u001b[0m\u001b[0mtf\u001b[0m\u001b[0;34m.\u001b[0m\u001b[0mfloat32\u001b[0m\u001b[0;34m,\u001b[0m \u001b[0mshape\u001b[0m\u001b[0;34m=\u001b[0m\u001b[0;34m[\u001b[0m\u001b[0;36m1\u001b[0m\u001b[0;34m,\u001b[0m \u001b[0;36m32\u001b[0m\u001b[0;34m,\u001b[0m \u001b[0;36m80\u001b[0m\u001b[0;34m,\u001b[0m \u001b[0;36m256\u001b[0m\u001b[0;34m]\u001b[0m\u001b[0;34m)\u001b[0m  \u001b[0;31m# mask for vgg/conv3\u001b[0m\u001b[0;34m\u001b[0m\u001b[0m\n\u001b[0;32m--> 492\u001b[0;31m   \u001b[0mori_img_output\u001b[0m \u001b[0;34m=\u001b[0m \u001b[0mlb_tf_vgg\u001b[0m\u001b[0;34m(\u001b[0m\u001b[0mvgg_input\u001b[0m\u001b[0;34m,\u001b[0m \u001b[0;34m[\u001b[0m\u001b[0mfeed_m1\u001b[0m\u001b[0;34m,\u001b[0m \u001b[0mfeed_m2\u001b[0m\u001b[0;34m,\u001b[0m \u001b[0mfeed_m3\u001b[0m\u001b[0;34m]\u001b[0m\u001b[0;34m,\u001b[0m \u001b[0moutput_layer\u001b[0m\u001b[0;34m=\u001b[0m\u001b[0;34m'conv4'\u001b[0m\u001b[0;34m)\u001b[0m\u001b[0;34m\u001b[0m\u001b[0m\n\u001b[0m\u001b[1;32m    493\u001b[0m \u001b[0;34m\u001b[0m\u001b[0m\n\u001b[1;32m    494\u001b[0m   \u001b[0;31m# build sess\u001b[0m\u001b[0;34m\u001b[0m\u001b[0;34m\u001b[0m\u001b[0m\n",
      "\u001b[0;32m~/Desktop/keras_model/lookback_ops.py\u001b[0m in \u001b[0;36mlb_tf_vgg\u001b[0;34m(net, mask, output_layer)\u001b[0m\n\u001b[1;32m    231\u001b[0m       \u001b[0mnet\u001b[0m \u001b[0;34m=\u001b[0m \u001b[0mtf\u001b[0m\u001b[0;34m.\u001b[0m\u001b[0mnn\u001b[0m\u001b[0;34m.\u001b[0m\u001b[0mrelu\u001b[0m\u001b[0;34m(\u001b[0m\u001b[0mnet\u001b[0m\u001b[0;34m)\u001b[0m\u001b[0;34m\u001b[0m\u001b[0m\n\u001b[1;32m    232\u001b[0m       \u001b[0;31m# unbiases\u001b[0m\u001b[0;34m\u001b[0m\u001b[0;34m\u001b[0m\u001b[0m\n\u001b[0;32m--> 233\u001b[0;31m       \u001b[0mnet\u001b[0m \u001b[0;34m=\u001b[0m \u001b[0mtf\u001b[0m\u001b[0;34m.\u001b[0m\u001b[0mnn\u001b[0m\u001b[0;34m.\u001b[0m\u001b[0mbias_add\u001b[0m\u001b[0;34m(\u001b[0m\u001b[0mnet\u001b[0m\u001b[0;34m,\u001b[0m \u001b[0mtf\u001b[0m\u001b[0;34m.\u001b[0m\u001b[0mnegative\u001b[0m\u001b[0;34m(\u001b[0m\u001b[0mbias_tensor\u001b[0m\u001b[0;34m)\u001b[0m\u001b[0;34m)\u001b[0m\u001b[0;34m\u001b[0m\u001b[0m\n\u001b[0m\u001b[1;32m    234\u001b[0m       \u001b[0;31m# unconv\u001b[0m\u001b[0;34m\u001b[0m\u001b[0;34m\u001b[0m\u001b[0m\n\u001b[1;32m    235\u001b[0m       net = tf.nn.conv2d_transpose(net, w_tensor,\n",
      "\u001b[0;32m~/pyenv/tf_py3/lib/python3.6/site-packages/tensorflow/python/ops/nn_ops.py\u001b[0m in \u001b[0;36mbias_add\u001b[0;34m(value, bias, data_format, name)\u001b[0m\n\u001b[1;32m   1290\u001b[0m     \u001b[0mvalue\u001b[0m \u001b[0;34m=\u001b[0m \u001b[0mops\u001b[0m\u001b[0;34m.\u001b[0m\u001b[0mconvert_to_tensor\u001b[0m\u001b[0;34m(\u001b[0m\u001b[0mvalue\u001b[0m\u001b[0;34m,\u001b[0m \u001b[0mname\u001b[0m\u001b[0;34m=\u001b[0m\u001b[0;34m\"input\"\u001b[0m\u001b[0;34m)\u001b[0m\u001b[0;34m\u001b[0m\u001b[0m\n\u001b[1;32m   1291\u001b[0m     \u001b[0mbias\u001b[0m \u001b[0;34m=\u001b[0m \u001b[0mops\u001b[0m\u001b[0;34m.\u001b[0m\u001b[0mconvert_to_tensor\u001b[0m\u001b[0;34m(\u001b[0m\u001b[0mbias\u001b[0m\u001b[0;34m,\u001b[0m \u001b[0mdtype\u001b[0m\u001b[0;34m=\u001b[0m\u001b[0mvalue\u001b[0m\u001b[0;34m.\u001b[0m\u001b[0mdtype\u001b[0m\u001b[0;34m,\u001b[0m \u001b[0mname\u001b[0m\u001b[0;34m=\u001b[0m\u001b[0;34m\"bias\"\u001b[0m\u001b[0;34m)\u001b[0m\u001b[0;34m\u001b[0m\u001b[0m\n\u001b[0;32m-> 1292\u001b[0;31m     \u001b[0;32mreturn\u001b[0m \u001b[0mgen_nn_ops\u001b[0m\u001b[0;34m.\u001b[0m\u001b[0m_bias_add\u001b[0m\u001b[0;34m(\u001b[0m\u001b[0mvalue\u001b[0m\u001b[0;34m,\u001b[0m \u001b[0mbias\u001b[0m\u001b[0;34m,\u001b[0m \u001b[0mdata_format\u001b[0m\u001b[0;34m=\u001b[0m\u001b[0mdata_format\u001b[0m\u001b[0;34m,\u001b[0m \u001b[0mname\u001b[0m\u001b[0;34m=\u001b[0m\u001b[0mname\u001b[0m\u001b[0;34m)\u001b[0m\u001b[0;34m\u001b[0m\u001b[0m\n\u001b[0m\u001b[1;32m   1293\u001b[0m \u001b[0;34m\u001b[0m\u001b[0m\n\u001b[1;32m   1294\u001b[0m \u001b[0;34m\u001b[0m\u001b[0m\n",
      "\u001b[0;32m~/pyenv/tf_py3/lib/python3.6/site-packages/tensorflow/python/ops/gen_nn_ops.py\u001b[0m in \u001b[0;36m_bias_add\u001b[0;34m(value, bias, data_format, name)\u001b[0m\n\u001b[1;32m    279\u001b[0m   \"\"\"\n\u001b[1;32m    280\u001b[0m   result = _op_def_lib.apply_op(\"BiasAdd\", value=value, bias=bias,\n\u001b[0;32m--> 281\u001b[0;31m                                 data_format=data_format, name=name)\n\u001b[0m\u001b[1;32m    282\u001b[0m   \u001b[0;32mreturn\u001b[0m \u001b[0mresult\u001b[0m\u001b[0;34m\u001b[0m\u001b[0m\n\u001b[1;32m    283\u001b[0m \u001b[0;34m\u001b[0m\u001b[0m\n",
      "\u001b[0;32m~/pyenv/tf_py3/lib/python3.6/site-packages/tensorflow/python/framework/op_def_library.py\u001b[0m in \u001b[0;36mapply_op\u001b[0;34m(self, op_type_name, name, **keywords)\u001b[0m\n\u001b[1;32m    765\u001b[0m         op = g.create_op(op_type_name, inputs, output_types, name=scope,\n\u001b[1;32m    766\u001b[0m                          \u001b[0minput_types\u001b[0m\u001b[0;34m=\u001b[0m\u001b[0minput_types\u001b[0m\u001b[0;34m,\u001b[0m \u001b[0mattrs\u001b[0m\u001b[0;34m=\u001b[0m\u001b[0mattr_protos\u001b[0m\u001b[0;34m,\u001b[0m\u001b[0;34m\u001b[0m\u001b[0m\n\u001b[0;32m--> 767\u001b[0;31m                          op_def=op_def)\n\u001b[0m\u001b[1;32m    768\u001b[0m         \u001b[0;32mif\u001b[0m \u001b[0moutput_structure\u001b[0m\u001b[0;34m:\u001b[0m\u001b[0;34m\u001b[0m\u001b[0m\n\u001b[1;32m    769\u001b[0m           \u001b[0moutputs\u001b[0m \u001b[0;34m=\u001b[0m \u001b[0mop\u001b[0m\u001b[0;34m.\u001b[0m\u001b[0moutputs\u001b[0m\u001b[0;34m\u001b[0m\u001b[0m\n",
      "\u001b[0;32m~/pyenv/tf_py3/lib/python3.6/site-packages/tensorflow/python/framework/ops.py\u001b[0m in \u001b[0;36mcreate_op\u001b[0;34m(self, op_type, inputs, dtypes, input_types, name, attrs, op_def, compute_shapes, compute_device)\u001b[0m\n\u001b[1;32m   2630\u001b[0m                     original_op=self._default_original_op, op_def=op_def)\n\u001b[1;32m   2631\u001b[0m     \u001b[0;32mif\u001b[0m \u001b[0mcompute_shapes\u001b[0m\u001b[0;34m:\u001b[0m\u001b[0;34m\u001b[0m\u001b[0m\n\u001b[0;32m-> 2632\u001b[0;31m       \u001b[0mset_shapes_for_outputs\u001b[0m\u001b[0;34m(\u001b[0m\u001b[0mret\u001b[0m\u001b[0;34m)\u001b[0m\u001b[0;34m\u001b[0m\u001b[0m\n\u001b[0m\u001b[1;32m   2633\u001b[0m     \u001b[0mself\u001b[0m\u001b[0;34m.\u001b[0m\u001b[0m_add_op\u001b[0m\u001b[0;34m(\u001b[0m\u001b[0mret\u001b[0m\u001b[0;34m)\u001b[0m\u001b[0;34m\u001b[0m\u001b[0m\n\u001b[1;32m   2634\u001b[0m     \u001b[0mself\u001b[0m\u001b[0;34m.\u001b[0m\u001b[0m_record_op_seen_by_control_dependencies\u001b[0m\u001b[0;34m(\u001b[0m\u001b[0mret\u001b[0m\u001b[0;34m)\u001b[0m\u001b[0;34m\u001b[0m\u001b[0m\n",
      "\u001b[0;32m~/pyenv/tf_py3/lib/python3.6/site-packages/tensorflow/python/framework/ops.py\u001b[0m in \u001b[0;36mset_shapes_for_outputs\u001b[0;34m(op)\u001b[0m\n\u001b[1;32m   1909\u001b[0m       \u001b[0mshape_func\u001b[0m \u001b[0;34m=\u001b[0m \u001b[0m_call_cpp_shape_fn_and_require_op\u001b[0m\u001b[0;34m\u001b[0m\u001b[0m\n\u001b[1;32m   1910\u001b[0m \u001b[0;34m\u001b[0m\u001b[0m\n\u001b[0;32m-> 1911\u001b[0;31m   \u001b[0mshapes\u001b[0m \u001b[0;34m=\u001b[0m \u001b[0mshape_func\u001b[0m\u001b[0;34m(\u001b[0m\u001b[0mop\u001b[0m\u001b[0;34m)\u001b[0m\u001b[0;34m\u001b[0m\u001b[0m\n\u001b[0m\u001b[1;32m   1912\u001b[0m   \u001b[0;32mif\u001b[0m \u001b[0mshapes\u001b[0m \u001b[0;32mis\u001b[0m \u001b[0;32mNone\u001b[0m\u001b[0;34m:\u001b[0m\u001b[0;34m\u001b[0m\u001b[0m\n\u001b[1;32m   1913\u001b[0m     raise RuntimeError(\n",
      "\u001b[0;32m~/pyenv/tf_py3/lib/python3.6/site-packages/tensorflow/python/framework/ops.py\u001b[0m in \u001b[0;36mcall_with_requiring\u001b[0;34m(op)\u001b[0m\n\u001b[1;32m   1859\u001b[0m \u001b[0;34m\u001b[0m\u001b[0m\n\u001b[1;32m   1860\u001b[0m   \u001b[0;32mdef\u001b[0m \u001b[0mcall_with_requiring\u001b[0m\u001b[0;34m(\u001b[0m\u001b[0mop\u001b[0m\u001b[0;34m)\u001b[0m\u001b[0;34m:\u001b[0m\u001b[0;34m\u001b[0m\u001b[0m\n\u001b[0;32m-> 1861\u001b[0;31m     \u001b[0;32mreturn\u001b[0m \u001b[0mcall_cpp_shape_fn\u001b[0m\u001b[0;34m(\u001b[0m\u001b[0mop\u001b[0m\u001b[0;34m,\u001b[0m \u001b[0mrequire_shape_fn\u001b[0m\u001b[0;34m=\u001b[0m\u001b[0;32mTrue\u001b[0m\u001b[0;34m)\u001b[0m\u001b[0;34m\u001b[0m\u001b[0m\n\u001b[0m\u001b[1;32m   1862\u001b[0m \u001b[0;34m\u001b[0m\u001b[0m\n\u001b[1;32m   1863\u001b[0m   \u001b[0m_call_cpp_shape_fn_and_require_op\u001b[0m \u001b[0;34m=\u001b[0m \u001b[0mcall_with_requiring\u001b[0m\u001b[0;34m\u001b[0m\u001b[0m\n",
      "\u001b[0;32m~/pyenv/tf_py3/lib/python3.6/site-packages/tensorflow/python/framework/common_shapes.py\u001b[0m in \u001b[0;36mcall_cpp_shape_fn\u001b[0;34m(op, require_shape_fn)\u001b[0m\n\u001b[1;32m    593\u001b[0m     res = _call_cpp_shape_fn_impl(op, input_tensors_needed,\n\u001b[1;32m    594\u001b[0m                                   \u001b[0minput_tensors_as_shapes_needed\u001b[0m\u001b[0;34m,\u001b[0m\u001b[0;34m\u001b[0m\u001b[0m\n\u001b[0;32m--> 595\u001b[0;31m                                   require_shape_fn)\n\u001b[0m\u001b[1;32m    596\u001b[0m     \u001b[0;32mif\u001b[0m \u001b[0;32mnot\u001b[0m \u001b[0misinstance\u001b[0m\u001b[0;34m(\u001b[0m\u001b[0mres\u001b[0m\u001b[0;34m,\u001b[0m \u001b[0mdict\u001b[0m\u001b[0;34m)\u001b[0m\u001b[0;34m:\u001b[0m\u001b[0;34m\u001b[0m\u001b[0m\n\u001b[1;32m    597\u001b[0m       \u001b[0;31m# Handles the case where _call_cpp_shape_fn_impl calls unknown_shape(op).\u001b[0m\u001b[0;34m\u001b[0m\u001b[0;34m\u001b[0m\u001b[0m\n",
      "\u001b[0;32m~/pyenv/tf_py3/lib/python3.6/site-packages/tensorflow/python/framework/common_shapes.py\u001b[0m in \u001b[0;36m_call_cpp_shape_fn_impl\u001b[0;34m(op, input_tensors_needed, input_tensors_as_shapes_needed, require_shape_fn)\u001b[0m\n\u001b[1;32m    657\u001b[0m       \u001b[0mmissing_shape_fn\u001b[0m \u001b[0;34m=\u001b[0m \u001b[0;32mTrue\u001b[0m\u001b[0;34m\u001b[0m\u001b[0m\n\u001b[1;32m    658\u001b[0m     \u001b[0;32melse\u001b[0m\u001b[0;34m:\u001b[0m\u001b[0;34m\u001b[0m\u001b[0m\n\u001b[0;32m--> 659\u001b[0;31m       \u001b[0;32mraise\u001b[0m \u001b[0mValueError\u001b[0m\u001b[0;34m(\u001b[0m\u001b[0merr\u001b[0m\u001b[0;34m.\u001b[0m\u001b[0mmessage\u001b[0m\u001b[0;34m)\u001b[0m\u001b[0;34m\u001b[0m\u001b[0m\n\u001b[0m\u001b[1;32m    660\u001b[0m \u001b[0;34m\u001b[0m\u001b[0m\n\u001b[1;32m    661\u001b[0m   \u001b[0;32mif\u001b[0m \u001b[0mmissing_shape_fn\u001b[0m\u001b[0;34m:\u001b[0m\u001b[0;34m\u001b[0m\u001b[0m\n",
      "\u001b[0;31mValueError\u001b[0m: Dimensions must be equal, but are 1024 and 512 for 'BiasAdd_1' (op: 'BiasAdd') with input shapes: [1,16,40,1024], [512]."
     ]
    }
   ],
   "source": [
    "\n",
    "from lookback_ops import *\n",
    "config = return_a_config()\n",
    "output_layer='conv2'\n",
    "batch_img_list, labels, stage = test_lb_adaption_conv(config, top_k_activation=5)\n",
    "simple_save_result_from_test_lb(batch_img_list, labels, stage, config, output_layer)\n",
    "\n",
    "\n",
    "\n"
   ]
  },
  {
   "cell_type": "code",
   "execution_count": null,
   "metadata": {},
   "outputs": [],
   "source": [
    "from lookback_ops import *\n",
    "config = return_a_config()\n",
    "output_layer='conv2'\n",
    "batch_img_list, labels, stage = test_lb_adaption_conv(config, top_k_activation=5)\n",
    "simple_save_result_from_test_lb(batch_img_list, labels, stage, config, output_layer)"
   ]
  },
  {
   "cell_type": "code",
   "execution_count": 1,
   "metadata": {},
   "outputs": [
    {
     "ename": "ValueError",
     "evalue": "Dimensions must be equal, but are 1024 and 512 for 'BiasAdd_1' (op: 'BiasAdd') with input shapes: [1,16,40,1024], [512].",
     "output_type": "error",
     "traceback": [
      "\u001b[0;31m---------------------------------------------------------------------------\u001b[0m",
      "\u001b[0;31mInvalidArgumentError\u001b[0m                      Traceback (most recent call last)",
      "\u001b[0;32m~/pyenv/tf_py3/lib/python3.6/site-packages/tensorflow/python/framework/common_shapes.py\u001b[0m in \u001b[0;36m_call_cpp_shape_fn_impl\u001b[0;34m(op, input_tensors_needed, input_tensors_as_shapes_needed, require_shape_fn)\u001b[0m\n\u001b[1;32m    653\u001b[0m           \u001b[0mgraph_def_version\u001b[0m\u001b[0;34m,\u001b[0m \u001b[0mnode_def_str\u001b[0m\u001b[0;34m,\u001b[0m \u001b[0minput_shapes\u001b[0m\u001b[0;34m,\u001b[0m \u001b[0minput_tensors\u001b[0m\u001b[0;34m,\u001b[0m\u001b[0;34m\u001b[0m\u001b[0m\n\u001b[0;32m--> 654\u001b[0;31m           input_tensors_as_shapes, status)\n\u001b[0m\u001b[1;32m    655\u001b[0m   \u001b[0;32mexcept\u001b[0m \u001b[0merrors\u001b[0m\u001b[0;34m.\u001b[0m\u001b[0mInvalidArgumentError\u001b[0m \u001b[0;32mas\u001b[0m \u001b[0merr\u001b[0m\u001b[0;34m:\u001b[0m\u001b[0;34m\u001b[0m\u001b[0m\n",
      "\u001b[0;32m/usr/local/Cellar/python3/3.6.2/Frameworks/Python.framework/Versions/3.6/lib/python3.6/contextlib.py\u001b[0m in \u001b[0;36m__exit__\u001b[0;34m(self, type, value, traceback)\u001b[0m\n\u001b[1;32m     87\u001b[0m             \u001b[0;32mtry\u001b[0m\u001b[0;34m:\u001b[0m\u001b[0;34m\u001b[0m\u001b[0m\n\u001b[0;32m---> 88\u001b[0;31m                 \u001b[0mnext\u001b[0m\u001b[0;34m(\u001b[0m\u001b[0mself\u001b[0m\u001b[0;34m.\u001b[0m\u001b[0mgen\u001b[0m\u001b[0;34m)\u001b[0m\u001b[0;34m\u001b[0m\u001b[0m\n\u001b[0m\u001b[1;32m     89\u001b[0m             \u001b[0;32mexcept\u001b[0m \u001b[0mStopIteration\u001b[0m\u001b[0;34m:\u001b[0m\u001b[0;34m\u001b[0m\u001b[0m\n",
      "\u001b[0;32m~/pyenv/tf_py3/lib/python3.6/site-packages/tensorflow/python/framework/errors_impl.py\u001b[0m in \u001b[0;36mraise_exception_on_not_ok_status\u001b[0;34m()\u001b[0m\n\u001b[1;32m    465\u001b[0m           \u001b[0mcompat\u001b[0m\u001b[0;34m.\u001b[0m\u001b[0mas_text\u001b[0m\u001b[0;34m(\u001b[0m\u001b[0mpywrap_tensorflow\u001b[0m\u001b[0;34m.\u001b[0m\u001b[0mTF_Message\u001b[0m\u001b[0;34m(\u001b[0m\u001b[0mstatus\u001b[0m\u001b[0;34m)\u001b[0m\u001b[0;34m)\u001b[0m\u001b[0;34m,\u001b[0m\u001b[0;34m\u001b[0m\u001b[0m\n\u001b[0;32m--> 466\u001b[0;31m           pywrap_tensorflow.TF_GetCode(status))\n\u001b[0m\u001b[1;32m    467\u001b[0m   \u001b[0;32mfinally\u001b[0m\u001b[0;34m:\u001b[0m\u001b[0;34m\u001b[0m\u001b[0m\n",
      "\u001b[0;31mInvalidArgumentError\u001b[0m: Dimensions must be equal, but are 1024 and 512 for 'BiasAdd_1' (op: 'BiasAdd') with input shapes: [1,16,40,1024], [512].",
      "\nDuring handling of the above exception, another exception occurred:\n",
      "\u001b[0;31mValueError\u001b[0m                                Traceback (most recent call last)",
      "\u001b[0;32m<ipython-input-1-cd934f926415>\u001b[0m in \u001b[0;36m<module>\u001b[0;34m()\u001b[0m\n\u001b[1;32m      1\u001b[0m \u001b[0;32mfrom\u001b[0m \u001b[0mlookback_ops\u001b[0m \u001b[0;32mimport\u001b[0m \u001b[0;34m*\u001b[0m\u001b[0;34m\u001b[0m\u001b[0m\n\u001b[1;32m      2\u001b[0m \u001b[0mconfig\u001b[0m \u001b[0;34m=\u001b[0m \u001b[0mreturn_a_config\u001b[0m\u001b[0;34m(\u001b[0m\u001b[0;34m)\u001b[0m\u001b[0;34m\u001b[0m\u001b[0m\n\u001b[0;32m----> 3\u001b[0;31m \u001b[0mbatch_img_list\u001b[0m\u001b[0;34m,\u001b[0m \u001b[0mlabels\u001b[0m\u001b[0;34m,\u001b[0m \u001b[0mstage\u001b[0m \u001b[0;34m=\u001b[0m \u001b[0mtest_lb_adaption_conv\u001b[0m\u001b[0;34m(\u001b[0m\u001b[0mconfig\u001b[0m\u001b[0;34m,\u001b[0m \u001b[0mtop_k_activation\u001b[0m\u001b[0;34m=\u001b[0m\u001b[0;36m5\u001b[0m\u001b[0;34m)\u001b[0m\u001b[0;34m\u001b[0m\u001b[0m\n\u001b[0m\u001b[1;32m      4\u001b[0m \u001b[0msimple_save_result_from_test_lb\u001b[0m\u001b[0;34m(\u001b[0m\u001b[0mbatch_img_list\u001b[0m\u001b[0;34m,\u001b[0m \u001b[0mlabels\u001b[0m\u001b[0;34m,\u001b[0m \u001b[0mstage\u001b[0m\u001b[0;34m,\u001b[0m \u001b[0mconfig\u001b[0m\u001b[0;34m,\u001b[0m \u001b[0moutput_layer\u001b[0m\u001b[0;34m)\u001b[0m\u001b[0;34m\u001b[0m\u001b[0m\n",
      "\u001b[0;32m~/Desktop/keras_model/lookback_ops.py\u001b[0m in \u001b[0;36mtest_lb_adaption_conv\u001b[0;34m(config, top_k_activation)\u001b[0m\n\u001b[1;32m    490\u001b[0m   \u001b[0mfeed_m2\u001b[0m \u001b[0;34m=\u001b[0m \u001b[0mtf\u001b[0m\u001b[0;34m.\u001b[0m\u001b[0mplaceholder\u001b[0m\u001b[0;34m(\u001b[0m\u001b[0mtf\u001b[0m\u001b[0;34m.\u001b[0m\u001b[0mfloat32\u001b[0m\u001b[0;34m,\u001b[0m \u001b[0mshape\u001b[0m\u001b[0;34m=\u001b[0m\u001b[0;34m[\u001b[0m\u001b[0;36m1\u001b[0m\u001b[0;34m,\u001b[0m \u001b[0;36m64\u001b[0m\u001b[0;34m,\u001b[0m \u001b[0;36m160\u001b[0m\u001b[0;34m,\u001b[0m \u001b[0;36m128\u001b[0m\u001b[0;34m]\u001b[0m\u001b[0;34m)\u001b[0m  \u001b[0;31m# mask for vgg/conv2\u001b[0m\u001b[0;34m\u001b[0m\u001b[0m\n\u001b[1;32m    491\u001b[0m   \u001b[0mfeed_m3\u001b[0m \u001b[0;34m=\u001b[0m \u001b[0mtf\u001b[0m\u001b[0;34m.\u001b[0m\u001b[0mplaceholder\u001b[0m\u001b[0;34m(\u001b[0m\u001b[0mtf\u001b[0m\u001b[0;34m.\u001b[0m\u001b[0mfloat32\u001b[0m\u001b[0;34m,\u001b[0m \u001b[0mshape\u001b[0m\u001b[0;34m=\u001b[0m\u001b[0;34m[\u001b[0m\u001b[0;36m1\u001b[0m\u001b[0;34m,\u001b[0m \u001b[0;36m32\u001b[0m\u001b[0;34m,\u001b[0m \u001b[0;36m80\u001b[0m\u001b[0;34m,\u001b[0m \u001b[0;36m256\u001b[0m\u001b[0;34m]\u001b[0m\u001b[0;34m)\u001b[0m  \u001b[0;31m# mask for vgg/conv3\u001b[0m\u001b[0;34m\u001b[0m\u001b[0m\n\u001b[0;32m--> 492\u001b[0;31m   \u001b[0mori_img_output\u001b[0m \u001b[0;34m=\u001b[0m \u001b[0mlb_tf_vgg\u001b[0m\u001b[0;34m(\u001b[0m\u001b[0mvgg_input\u001b[0m\u001b[0;34m,\u001b[0m \u001b[0;34m[\u001b[0m\u001b[0mfeed_m1\u001b[0m\u001b[0;34m,\u001b[0m \u001b[0mfeed_m2\u001b[0m\u001b[0;34m,\u001b[0m \u001b[0mfeed_m3\u001b[0m\u001b[0;34m]\u001b[0m\u001b[0;34m,\u001b[0m \u001b[0moutput_layer\u001b[0m\u001b[0;34m=\u001b[0m\u001b[0;34m'conv4'\u001b[0m\u001b[0;34m)\u001b[0m\u001b[0;34m\u001b[0m\u001b[0m\n\u001b[0m\u001b[1;32m    493\u001b[0m \u001b[0;34m\u001b[0m\u001b[0m\n\u001b[1;32m    494\u001b[0m   \u001b[0;31m# build sess\u001b[0m\u001b[0;34m\u001b[0m\u001b[0;34m\u001b[0m\u001b[0m\n",
      "\u001b[0;32m~/Desktop/keras_model/lookback_ops.py\u001b[0m in \u001b[0;36mlb_tf_vgg\u001b[0;34m(net, mask, output_layer)\u001b[0m\n\u001b[1;32m    231\u001b[0m       \u001b[0mnet\u001b[0m \u001b[0;34m=\u001b[0m \u001b[0mtf\u001b[0m\u001b[0;34m.\u001b[0m\u001b[0mnn\u001b[0m\u001b[0;34m.\u001b[0m\u001b[0mrelu\u001b[0m\u001b[0;34m(\u001b[0m\u001b[0mnet\u001b[0m\u001b[0;34m)\u001b[0m\u001b[0;34m\u001b[0m\u001b[0m\n\u001b[1;32m    232\u001b[0m       \u001b[0;31m# unbiases\u001b[0m\u001b[0;34m\u001b[0m\u001b[0;34m\u001b[0m\u001b[0m\n\u001b[0;32m--> 233\u001b[0;31m       \u001b[0mnet\u001b[0m \u001b[0;34m=\u001b[0m \u001b[0mtf\u001b[0m\u001b[0;34m.\u001b[0m\u001b[0mnn\u001b[0m\u001b[0;34m.\u001b[0m\u001b[0mbias_add\u001b[0m\u001b[0;34m(\u001b[0m\u001b[0mnet\u001b[0m\u001b[0;34m,\u001b[0m \u001b[0mtf\u001b[0m\u001b[0;34m.\u001b[0m\u001b[0mnegative\u001b[0m\u001b[0;34m(\u001b[0m\u001b[0mbias_tensor\u001b[0m\u001b[0;34m)\u001b[0m\u001b[0;34m)\u001b[0m\u001b[0;34m\u001b[0m\u001b[0m\n\u001b[0m\u001b[1;32m    234\u001b[0m       \u001b[0;31m# unconv\u001b[0m\u001b[0;34m\u001b[0m\u001b[0;34m\u001b[0m\u001b[0m\n\u001b[1;32m    235\u001b[0m       net = tf.nn.conv2d_transpose(net, w_tensor,\n",
      "\u001b[0;32m~/pyenv/tf_py3/lib/python3.6/site-packages/tensorflow/python/ops/nn_ops.py\u001b[0m in \u001b[0;36mbias_add\u001b[0;34m(value, bias, data_format, name)\u001b[0m\n\u001b[1;32m   1290\u001b[0m     \u001b[0mvalue\u001b[0m \u001b[0;34m=\u001b[0m \u001b[0mops\u001b[0m\u001b[0;34m.\u001b[0m\u001b[0mconvert_to_tensor\u001b[0m\u001b[0;34m(\u001b[0m\u001b[0mvalue\u001b[0m\u001b[0;34m,\u001b[0m \u001b[0mname\u001b[0m\u001b[0;34m=\u001b[0m\u001b[0;34m\"input\"\u001b[0m\u001b[0;34m)\u001b[0m\u001b[0;34m\u001b[0m\u001b[0m\n\u001b[1;32m   1291\u001b[0m     \u001b[0mbias\u001b[0m \u001b[0;34m=\u001b[0m \u001b[0mops\u001b[0m\u001b[0;34m.\u001b[0m\u001b[0mconvert_to_tensor\u001b[0m\u001b[0;34m(\u001b[0m\u001b[0mbias\u001b[0m\u001b[0;34m,\u001b[0m \u001b[0mdtype\u001b[0m\u001b[0;34m=\u001b[0m\u001b[0mvalue\u001b[0m\u001b[0;34m.\u001b[0m\u001b[0mdtype\u001b[0m\u001b[0;34m,\u001b[0m \u001b[0mname\u001b[0m\u001b[0;34m=\u001b[0m\u001b[0;34m\"bias\"\u001b[0m\u001b[0;34m)\u001b[0m\u001b[0;34m\u001b[0m\u001b[0m\n\u001b[0;32m-> 1292\u001b[0;31m     \u001b[0;32mreturn\u001b[0m \u001b[0mgen_nn_ops\u001b[0m\u001b[0;34m.\u001b[0m\u001b[0m_bias_add\u001b[0m\u001b[0;34m(\u001b[0m\u001b[0mvalue\u001b[0m\u001b[0;34m,\u001b[0m \u001b[0mbias\u001b[0m\u001b[0;34m,\u001b[0m \u001b[0mdata_format\u001b[0m\u001b[0;34m=\u001b[0m\u001b[0mdata_format\u001b[0m\u001b[0;34m,\u001b[0m \u001b[0mname\u001b[0m\u001b[0;34m=\u001b[0m\u001b[0mname\u001b[0m\u001b[0;34m)\u001b[0m\u001b[0;34m\u001b[0m\u001b[0m\n\u001b[0m\u001b[1;32m   1293\u001b[0m \u001b[0;34m\u001b[0m\u001b[0m\n\u001b[1;32m   1294\u001b[0m \u001b[0;34m\u001b[0m\u001b[0m\n",
      "\u001b[0;32m~/pyenv/tf_py3/lib/python3.6/site-packages/tensorflow/python/ops/gen_nn_ops.py\u001b[0m in \u001b[0;36m_bias_add\u001b[0;34m(value, bias, data_format, name)\u001b[0m\n\u001b[1;32m    279\u001b[0m   \"\"\"\n\u001b[1;32m    280\u001b[0m   result = _op_def_lib.apply_op(\"BiasAdd\", value=value, bias=bias,\n\u001b[0;32m--> 281\u001b[0;31m                                 data_format=data_format, name=name)\n\u001b[0m\u001b[1;32m    282\u001b[0m   \u001b[0;32mreturn\u001b[0m \u001b[0mresult\u001b[0m\u001b[0;34m\u001b[0m\u001b[0m\n\u001b[1;32m    283\u001b[0m \u001b[0;34m\u001b[0m\u001b[0m\n",
      "\u001b[0;32m~/pyenv/tf_py3/lib/python3.6/site-packages/tensorflow/python/framework/op_def_library.py\u001b[0m in \u001b[0;36mapply_op\u001b[0;34m(self, op_type_name, name, **keywords)\u001b[0m\n\u001b[1;32m    765\u001b[0m         op = g.create_op(op_type_name, inputs, output_types, name=scope,\n\u001b[1;32m    766\u001b[0m                          \u001b[0minput_types\u001b[0m\u001b[0;34m=\u001b[0m\u001b[0minput_types\u001b[0m\u001b[0;34m,\u001b[0m \u001b[0mattrs\u001b[0m\u001b[0;34m=\u001b[0m\u001b[0mattr_protos\u001b[0m\u001b[0;34m,\u001b[0m\u001b[0;34m\u001b[0m\u001b[0m\n\u001b[0;32m--> 767\u001b[0;31m                          op_def=op_def)\n\u001b[0m\u001b[1;32m    768\u001b[0m         \u001b[0;32mif\u001b[0m \u001b[0moutput_structure\u001b[0m\u001b[0;34m:\u001b[0m\u001b[0;34m\u001b[0m\u001b[0m\n\u001b[1;32m    769\u001b[0m           \u001b[0moutputs\u001b[0m \u001b[0;34m=\u001b[0m \u001b[0mop\u001b[0m\u001b[0;34m.\u001b[0m\u001b[0moutputs\u001b[0m\u001b[0;34m\u001b[0m\u001b[0m\n",
      "\u001b[0;32m~/pyenv/tf_py3/lib/python3.6/site-packages/tensorflow/python/framework/ops.py\u001b[0m in \u001b[0;36mcreate_op\u001b[0;34m(self, op_type, inputs, dtypes, input_types, name, attrs, op_def, compute_shapes, compute_device)\u001b[0m\n\u001b[1;32m   2630\u001b[0m                     original_op=self._default_original_op, op_def=op_def)\n\u001b[1;32m   2631\u001b[0m     \u001b[0;32mif\u001b[0m \u001b[0mcompute_shapes\u001b[0m\u001b[0;34m:\u001b[0m\u001b[0;34m\u001b[0m\u001b[0m\n\u001b[0;32m-> 2632\u001b[0;31m       \u001b[0mset_shapes_for_outputs\u001b[0m\u001b[0;34m(\u001b[0m\u001b[0mret\u001b[0m\u001b[0;34m)\u001b[0m\u001b[0;34m\u001b[0m\u001b[0m\n\u001b[0m\u001b[1;32m   2633\u001b[0m     \u001b[0mself\u001b[0m\u001b[0;34m.\u001b[0m\u001b[0m_add_op\u001b[0m\u001b[0;34m(\u001b[0m\u001b[0mret\u001b[0m\u001b[0;34m)\u001b[0m\u001b[0;34m\u001b[0m\u001b[0m\n\u001b[1;32m   2634\u001b[0m     \u001b[0mself\u001b[0m\u001b[0;34m.\u001b[0m\u001b[0m_record_op_seen_by_control_dependencies\u001b[0m\u001b[0;34m(\u001b[0m\u001b[0mret\u001b[0m\u001b[0;34m)\u001b[0m\u001b[0;34m\u001b[0m\u001b[0m\n",
      "\u001b[0;32m~/pyenv/tf_py3/lib/python3.6/site-packages/tensorflow/python/framework/ops.py\u001b[0m in \u001b[0;36mset_shapes_for_outputs\u001b[0;34m(op)\u001b[0m\n\u001b[1;32m   1909\u001b[0m       \u001b[0mshape_func\u001b[0m \u001b[0;34m=\u001b[0m \u001b[0m_call_cpp_shape_fn_and_require_op\u001b[0m\u001b[0;34m\u001b[0m\u001b[0m\n\u001b[1;32m   1910\u001b[0m \u001b[0;34m\u001b[0m\u001b[0m\n\u001b[0;32m-> 1911\u001b[0;31m   \u001b[0mshapes\u001b[0m \u001b[0;34m=\u001b[0m \u001b[0mshape_func\u001b[0m\u001b[0;34m(\u001b[0m\u001b[0mop\u001b[0m\u001b[0;34m)\u001b[0m\u001b[0;34m\u001b[0m\u001b[0m\n\u001b[0m\u001b[1;32m   1912\u001b[0m   \u001b[0;32mif\u001b[0m \u001b[0mshapes\u001b[0m \u001b[0;32mis\u001b[0m \u001b[0;32mNone\u001b[0m\u001b[0;34m:\u001b[0m\u001b[0;34m\u001b[0m\u001b[0m\n\u001b[1;32m   1913\u001b[0m     raise RuntimeError(\n",
      "\u001b[0;32m~/pyenv/tf_py3/lib/python3.6/site-packages/tensorflow/python/framework/ops.py\u001b[0m in \u001b[0;36mcall_with_requiring\u001b[0;34m(op)\u001b[0m\n\u001b[1;32m   1859\u001b[0m \u001b[0;34m\u001b[0m\u001b[0m\n\u001b[1;32m   1860\u001b[0m   \u001b[0;32mdef\u001b[0m \u001b[0mcall_with_requiring\u001b[0m\u001b[0;34m(\u001b[0m\u001b[0mop\u001b[0m\u001b[0;34m)\u001b[0m\u001b[0;34m:\u001b[0m\u001b[0;34m\u001b[0m\u001b[0m\n\u001b[0;32m-> 1861\u001b[0;31m     \u001b[0;32mreturn\u001b[0m \u001b[0mcall_cpp_shape_fn\u001b[0m\u001b[0;34m(\u001b[0m\u001b[0mop\u001b[0m\u001b[0;34m,\u001b[0m \u001b[0mrequire_shape_fn\u001b[0m\u001b[0;34m=\u001b[0m\u001b[0;32mTrue\u001b[0m\u001b[0;34m)\u001b[0m\u001b[0;34m\u001b[0m\u001b[0m\n\u001b[0m\u001b[1;32m   1862\u001b[0m \u001b[0;34m\u001b[0m\u001b[0m\n\u001b[1;32m   1863\u001b[0m   \u001b[0m_call_cpp_shape_fn_and_require_op\u001b[0m \u001b[0;34m=\u001b[0m \u001b[0mcall_with_requiring\u001b[0m\u001b[0;34m\u001b[0m\u001b[0m\n",
      "\u001b[0;32m~/pyenv/tf_py3/lib/python3.6/site-packages/tensorflow/python/framework/common_shapes.py\u001b[0m in \u001b[0;36mcall_cpp_shape_fn\u001b[0;34m(op, require_shape_fn)\u001b[0m\n\u001b[1;32m    593\u001b[0m     res = _call_cpp_shape_fn_impl(op, input_tensors_needed,\n\u001b[1;32m    594\u001b[0m                                   \u001b[0minput_tensors_as_shapes_needed\u001b[0m\u001b[0;34m,\u001b[0m\u001b[0;34m\u001b[0m\u001b[0m\n\u001b[0;32m--> 595\u001b[0;31m                                   require_shape_fn)\n\u001b[0m\u001b[1;32m    596\u001b[0m     \u001b[0;32mif\u001b[0m \u001b[0;32mnot\u001b[0m \u001b[0misinstance\u001b[0m\u001b[0;34m(\u001b[0m\u001b[0mres\u001b[0m\u001b[0;34m,\u001b[0m \u001b[0mdict\u001b[0m\u001b[0;34m)\u001b[0m\u001b[0;34m:\u001b[0m\u001b[0;34m\u001b[0m\u001b[0m\n\u001b[1;32m    597\u001b[0m       \u001b[0;31m# Handles the case where _call_cpp_shape_fn_impl calls unknown_shape(op).\u001b[0m\u001b[0;34m\u001b[0m\u001b[0;34m\u001b[0m\u001b[0m\n",
      "\u001b[0;32m~/pyenv/tf_py3/lib/python3.6/site-packages/tensorflow/python/framework/common_shapes.py\u001b[0m in \u001b[0;36m_call_cpp_shape_fn_impl\u001b[0;34m(op, input_tensors_needed, input_tensors_as_shapes_needed, require_shape_fn)\u001b[0m\n\u001b[1;32m    657\u001b[0m       \u001b[0mmissing_shape_fn\u001b[0m \u001b[0;34m=\u001b[0m \u001b[0;32mTrue\u001b[0m\u001b[0;34m\u001b[0m\u001b[0m\n\u001b[1;32m    658\u001b[0m     \u001b[0;32melse\u001b[0m\u001b[0;34m:\u001b[0m\u001b[0;34m\u001b[0m\u001b[0m\n\u001b[0;32m--> 659\u001b[0;31m       \u001b[0;32mraise\u001b[0m \u001b[0mValueError\u001b[0m\u001b[0;34m(\u001b[0m\u001b[0merr\u001b[0m\u001b[0;34m.\u001b[0m\u001b[0mmessage\u001b[0m\u001b[0;34m)\u001b[0m\u001b[0;34m\u001b[0m\u001b[0m\n\u001b[0m\u001b[1;32m    660\u001b[0m \u001b[0;34m\u001b[0m\u001b[0m\n\u001b[1;32m    661\u001b[0m   \u001b[0;32mif\u001b[0m \u001b[0mmissing_shape_fn\u001b[0m\u001b[0;34m:\u001b[0m\u001b[0;34m\u001b[0m\u001b[0m\n",
      "\u001b[0;31mValueError\u001b[0m: Dimensions must be equal, but are 1024 and 512 for 'BiasAdd_1' (op: 'BiasAdd') with input shapes: [1,16,40,1024], [512]."
     ]
    }
   ],
   "source": [
    "from lookback_ops import *\n",
    "config = return_a_config()\n",
    "batch_img_list, labels, stage = test_lb_adaption_conv(config, top_k_activation=5)\n",
    "simple_save_result_from_test_lb(batch_img_list, labels, stage, config, output_layer)"
   ]
  },
  {
   "cell_type": "code",
   "execution_count": 1,
   "metadata": {},
   "outputs": [],
   "source": [
    "from lookback_ops import *\n",
    "config = return_a_config()"
   ]
  },
  {
   "cell_type": "code",
   "execution_count": 2,
   "metadata": {},
   "outputs": [],
   "source": [
    "images = tf.placeholder(tf.float32, [config.max_sequence_length, 128, 320, 3])"
   ]
  },
  {
   "cell_type": "code",
   "execution_count": 3,
   "metadata": {},
   "outputs": [],
   "source": [
    "adaption_output, net1m, net2m, net3m, vgg_out, adaption_conv_output, net_max_feature = forward_model(images, config)\n"
   ]
  },
  {
   "cell_type": "code",
   "execution_count": 4,
   "metadata": {},
   "outputs": [],
   "source": [
    "shape_feed = [1, 16, 40, config.adaption_layer_filters[-1]]\n",
    "adaption_feed_input = tf.placeholder(tf.float32, shape=shape_feed)\n",
    "vgg_input = lb_tf_adaption_conv(adaption_feed_input, config)"
   ]
  },
  {
   "cell_type": "code",
   "execution_count": 5,
   "metadata": {},
   "outputs": [
    {
     "data": {
      "text/plain": [
       "[1, 16, 40, 1024]"
      ]
     },
     "execution_count": 5,
     "metadata": {},
     "output_type": "execute_result"
    }
   ],
   "source": [
    "vgg_input.get_shape().as_list()"
   ]
  },
  {
   "cell_type": "code",
   "execution_count": 6,
   "metadata": {},
   "outputs": [
    {
     "data": {
      "text/plain": [
       "[1, 16, 40, 512]"
      ]
     },
     "execution_count": 6,
     "metadata": {},
     "output_type": "execute_result"
    }
   ],
   "source": [
    "adaption_feed_input.get_shape().as_list()"
   ]
  },
  {
   "cell_type": "code",
   "execution_count": 7,
   "metadata": {},
   "outputs": [],
   "source": [
    "adaption_output_layer = len(config.adaption_layer_filters)"
   ]
  },
  {
   "cell_type": "code",
   "execution_count": 8,
   "metadata": {},
   "outputs": [
    {
     "data": {
      "text/plain": [
       "3"
      ]
     },
     "execution_count": 8,
     "metadata": {},
     "output_type": "execute_result"
    }
   ],
   "source": [
    "adaption_output_layer"
   ]
  },
  {
   "cell_type": "code",
   "execution_count": 9,
   "metadata": {},
   "outputs": [
    {
     "data": {
      "text/plain": [
       "[3, 2, 1]"
      ]
     },
     "execution_count": 9,
     "metadata": {},
     "output_type": "execute_result"
    }
   ],
   "source": [
    "list(range(adaption_output_layer, 0, -1))"
   ]
  },
  {
   "cell_type": "code",
   "execution_count": 10,
   "metadata": {},
   "outputs": [
    {
     "ename": "IndentationError",
     "evalue": "expected an indented block (<ipython-input-10-ac6353893654>, line 2)",
     "output_type": "error",
     "traceback": [
      "\u001b[0;36m  File \u001b[0;32m\"<ipython-input-10-ac6353893654>\"\u001b[0;36m, line \u001b[0;32m2\u001b[0m\n\u001b[0;31m    conv_name = 'adaption/conv%s/' % (str(tmp_layer))\u001b[0m\n\u001b[0m            ^\u001b[0m\n\u001b[0;31mIndentationError\u001b[0m\u001b[0;31m:\u001b[0m expected an indented block\n"
     ]
    }
   ],
   "source": [
    "for tmp_layer in range(adaption_output_layer, 0, -1):  # conv3 --> conv2 --> conv1\n",
    "conv_name = 'adaption/conv%s/' % (str(tmp_layer))\n",
    "weights = conv_name + 'kernel:0'\n",
    "bias = conv_name + 'bias:0'\n",
    "if tmp_layer != 1:\n",
    "  # conv3 --> adaption_layer_filters[1]\n",
    "  # conv2 --> adaption_layer_filters[0]\n",
    "  output_shape = [1, 16, 40, config.adaption_layer_filters[tmp_layer - 2]]\n",
    "else:\n",
    "  # conv1 --> vgg16\n",
    "  output_shape = [1, 16, 40, 512]  # above layer is vgg16, conv4/conv4_*, so is 512\n",
    "print(output_shape)\n",
    "w_tensor = my_get_variables_by_name(weights)[0]\n",
    "bias_tensor = my_get_variables_by_name(bias)[0]\n",
    "net = tf.nn.relu(net)  # unrelu\n",
    "# unbiases\n",
    "net = tf.nn.bias_add(net, tf.negative(bias_tensor))\n",
    "# unconv\n",
    "net = tf.nn.conv2d_transpose(net, w_tensor,\n",
    "                             output_shape=output_shape,\n",
    "                             strides=[1, 1, 1, 1])"
   ]
  },
  {
   "cell_type": "code",
   "execution_count": 11,
   "metadata": {},
   "outputs": [
    {
     "name": "stdout",
     "output_type": "stream",
     "text": [
      "[1, 16, 40, 1024]\n"
     ]
    },
    {
     "ename": "NameError",
     "evalue": "name 'net' is not defined",
     "output_type": "error",
     "traceback": [
      "\u001b[0;31m---------------------------------------------------------------------------\u001b[0m",
      "\u001b[0;31mNameError\u001b[0m                                 Traceback (most recent call last)",
      "\u001b[0;32m<ipython-input-11-59e74d8f7ecd>\u001b[0m in \u001b[0;36m<module>\u001b[0;34m()\u001b[0m\n\u001b[1;32m     13\u001b[0m     \u001b[0mw_tensor\u001b[0m \u001b[0;34m=\u001b[0m \u001b[0mmy_get_variables_by_name\u001b[0m\u001b[0;34m(\u001b[0m\u001b[0mweights\u001b[0m\u001b[0;34m)\u001b[0m\u001b[0;34m[\u001b[0m\u001b[0;36m0\u001b[0m\u001b[0;34m]\u001b[0m\u001b[0;34m\u001b[0m\u001b[0m\n\u001b[1;32m     14\u001b[0m     \u001b[0mbias_tensor\u001b[0m \u001b[0;34m=\u001b[0m \u001b[0mmy_get_variables_by_name\u001b[0m\u001b[0;34m(\u001b[0m\u001b[0mbias\u001b[0m\u001b[0;34m)\u001b[0m\u001b[0;34m[\u001b[0m\u001b[0;36m0\u001b[0m\u001b[0;34m]\u001b[0m\u001b[0;34m\u001b[0m\u001b[0m\n\u001b[0;32m---> 15\u001b[0;31m     \u001b[0mnet\u001b[0m \u001b[0;34m=\u001b[0m \u001b[0mtf\u001b[0m\u001b[0;34m.\u001b[0m\u001b[0mnn\u001b[0m\u001b[0;34m.\u001b[0m\u001b[0mrelu\u001b[0m\u001b[0;34m(\u001b[0m\u001b[0mnet\u001b[0m\u001b[0;34m)\u001b[0m  \u001b[0;31m# unrelu\u001b[0m\u001b[0;34m\u001b[0m\u001b[0m\n\u001b[0m\u001b[1;32m     16\u001b[0m     \u001b[0;31m# unbiases\u001b[0m\u001b[0;34m\u001b[0m\u001b[0;34m\u001b[0m\u001b[0m\n\u001b[1;32m     17\u001b[0m     \u001b[0mnet\u001b[0m \u001b[0;34m=\u001b[0m \u001b[0mtf\u001b[0m\u001b[0;34m.\u001b[0m\u001b[0mnn\u001b[0m\u001b[0;34m.\u001b[0m\u001b[0mbias_add\u001b[0m\u001b[0;34m(\u001b[0m\u001b[0mnet\u001b[0m\u001b[0;34m,\u001b[0m \u001b[0mtf\u001b[0m\u001b[0;34m.\u001b[0m\u001b[0mnegative\u001b[0m\u001b[0;34m(\u001b[0m\u001b[0mbias_tensor\u001b[0m\u001b[0;34m)\u001b[0m\u001b[0;34m)\u001b[0m\u001b[0;34m\u001b[0m\u001b[0m\n",
      "\u001b[0;31mNameError\u001b[0m: name 'net' is not defined"
     ]
    }
   ],
   "source": [
    "for tmp_layer in range(adaption_output_layer, 0, -1):  # conv3 --> conv2 --> conv1\n",
    "    conv_name = 'adaption/conv%s/'%(str(tmp_layer))\n",
    "    weights = conv_name + 'kernel:0'\n",
    "    bias = conv_name + 'bias:0'\n",
    "    if tmp_layer != 1:\n",
    "      # conv3 --> adaption_layer_filters[1]\n",
    "      # conv2 --> adaption_layer_filters[0]\n",
    "      output_shape = [1, 16, 40, config.adaption_layer_filters[tmp_layer - 2]]\n",
    "    else:\n",
    "      # conv1 --> vgg16\n",
    "      output_shape = [1, 16, 40, 512]  # above layer is vgg16, conv4/conv4_*, so is 512\n",
    "    print(output_shape)\n",
    "    w_tensor = my_get_variables_by_name(weights)[0]\n",
    "    bias_tensor = my_get_variables_by_name(bias)[0]\n",
    "    net = tf.nn.relu(net)  # unrelu\n",
    "    # unbiases\n",
    "    net = tf.nn.bias_add(net, tf.negative(bias_tensor))\n",
    "    # unconv\n",
    "    net = tf.nn.conv2d_transpose(net, w_tensor,\n",
    "                                 output_shape=output_shape,\n",
    "                                 strides=[1, 1, 1, 1])"
   ]
  },
  {
   "cell_type": "code",
   "execution_count": 12,
   "metadata": {},
   "outputs": [
    {
     "name": "stdout",
     "output_type": "stream",
     "text": [
      "[1, 16, 40, 1024]\n",
      "[1, 16, 40, 1024]\n",
      "[1, 16, 40, 512]\n"
     ]
    }
   ],
   "source": [
    "for tmp_layer in range(adaption_output_layer, 0, -1):  # conv3 --> conv2 --> conv1\n",
    "    conv_name = 'adaption/conv%s/'%(str(tmp_layer))\n",
    "    weights = conv_name + 'kernel:0'\n",
    "    bias = conv_name + 'bias:0'\n",
    "    if tmp_layer != 1:\n",
    "      # conv3 --> adaption_layer_filters[1]\n",
    "      # conv2 --> adaption_layer_filters[0]\n",
    "      output_shape = [1, 16, 40, config.adaption_layer_filters[tmp_layer - 2]]\n",
    "    else:\n",
    "      # conv1 --> vgg16\n",
    "      output_shape = [1, 16, 40, 512]  # above layer is vgg16, conv4/conv4_*, so is 512\n",
    "    print(output_shape)"
   ]
  },
  {
   "cell_type": "code",
   "execution_count": 13,
   "metadata": {},
   "outputs": [],
   "source": [
    "net = adaption_feed_input"
   ]
  },
  {
   "cell_type": "code",
   "execution_count": 14,
   "metadata": {},
   "outputs": [
    {
     "name": "stdout",
     "output_type": "stream",
     "text": [
      "[1, 16, 40, 1024]\n",
      "[1, 16, 40, 1024]\n",
      "[1, 16, 40, 512]\n"
     ]
    }
   ],
   "source": [
    "adaption_output_layer = len(config.adaption_layer_filters)\n",
    "for tmp_layer in range(adaption_output_layer, 0, -1):  # conv3 --> conv2 --> conv1\n",
    "    conv_name = 'adaption/conv%s/'%(str(tmp_layer))\n",
    "    weights = conv_name + 'kernel:0'\n",
    "    bias = conv_name + 'bias:0'\n",
    "    if tmp_layer != 1:\n",
    "      # conv3 --> adaption_layer_filters[1]\n",
    "      # conv2 --> adaption_layer_filters[0]\n",
    "      output_shape = [1, 16, 40, config.adaption_layer_filters[tmp_layer - 2]]\n",
    "    else:\n",
    "      # conv1 --> vgg16\n",
    "      output_shape = [1, 16, 40, 512]  # above layer is vgg16, conv4/conv4_*, so is 512\n",
    "    w_tensor = my_get_variables_by_name(weights)[0]\n",
    "    bias_tensor = my_get_variables_by_name(bias)[0]\n",
    "    net = tf.nn.relu(net)  # unrelu\n",
    "    # unbiases\n",
    "    net = tf.nn.bias_add(net, tf.negative(bias_tensor))\n",
    "    # unconv\n",
    "    net = tf.nn.conv2d_transpose(net, w_tensor,\n",
    "                                 output_shape=output_shape,\n",
    "                                 strides=[1, 1, 1, 1])\n",
    "    print(net.get_shape().as_list())"
   ]
  },
  {
   "cell_type": "code",
   "execution_count": 15,
   "metadata": {},
   "outputs": [],
   "source": [
    "vgg_input = lb_tf_adaption_conv(adaption_feed_input, config)"
   ]
  },
  {
   "cell_type": "code",
   "execution_count": 16,
   "metadata": {},
   "outputs": [
    {
     "data": {
      "text/plain": [
       "TensorShape([Dimension(1), Dimension(16), Dimension(40), Dimension(1024)])"
      ]
     },
     "execution_count": 16,
     "metadata": {},
     "output_type": "execute_result"
    }
   ],
   "source": [
    "vgg_input.get_shape()"
   ]
  },
  {
   "cell_type": "code",
   "execution_count": 17,
   "metadata": {},
   "outputs": [
    {
     "data": {
      "text/plain": [
       "3"
      ]
     },
     "execution_count": 17,
     "metadata": {},
     "output_type": "execute_result"
    }
   ],
   "source": [
    "len(config.adaption_layer_filters)"
   ]
  },
  {
   "cell_type": "code",
   "execution_count": 18,
   "metadata": {},
   "outputs": [],
   "source": [
    "def lb_tf_adaption_conv(net, config):\n",
    "  \"\"\"Just like lb_tf_vgg, bulid the tensorflow model for adaption conv.\n",
    "  Args:\n",
    "    net: tensor of the input to deconv model, corresponding to output_layter\n",
    "    output_layter: name of input to deconv model, 'conv1' means 'adaption/conv1'\n",
    "  \"\"\"\n",
    "  # adaption conv2d part, no max-pooling\n",
    "  # ['adaption/conv1', 'adaption/conv2', 'adaption/conv3']:\n",
    "    # output: [1, 16, 40, adaption_layer_filters[-1]]\n",
    "    # input: [1, 16, 40, adaption_layer_filters[0]]\n",
    "  adaption_output_layer = len(config.adaption_layer_filters)\n",
    "  for tmp_layer in range(adaption_output_layer, 0, -1):  # conv3 --> conv2 --> conv1\n",
    "    conv_name = 'adaption/conv%s/'%(str(tmp_layer))\n",
    "    weights = conv_name + 'kernel:0'\n",
    "    bias = conv_name + 'bias:0'\n",
    "    if tmp_layer > 1:\n",
    "      # conv3 --> adaption_layer_filters[1]\n",
    "      # conv2 --> adaption_layer_filters[0]\n",
    "      output_shape = [1, 16, 40, config.adaption_layer_filters[tmp_layer - 2]]\n",
    "    else:\n",
    "      # conv1 --> vgg16\n",
    "      output_shape = [1, 16, 40, 512]  # above layer is vgg16, conv4/conv4_*, so is 512\n",
    "    w_tensor = my_get_variables_by_name(weights)[0]\n",
    "    bias_tensor = my_get_variables_by_name(bias)[0]\n",
    "    net = tf.nn.relu(net)  # unrelu\n",
    "    # unbiases\n",
    "    net = tf.nn.bias_add(net, tf.negative(bias_tensor))\n",
    "    # unconv\n",
    "    net = tf.nn.conv2d_transpose(net, w_tensor,\n",
    "                                 output_shape=output_shape,\n",
    "                                 strides=[1, 1, 1, 1])"
   ]
  },
  {
   "cell_type": "code",
   "execution_count": 19,
   "metadata": {},
   "outputs": [],
   "source": [
    "vgg_input = lb_tf_adaption_conv(adaption_feed_input, config)"
   ]
  },
  {
   "cell_type": "code",
   "execution_count": 20,
   "metadata": {},
   "outputs": [
    {
     "ename": "AttributeError",
     "evalue": "'NoneType' object has no attribute 'get_shape'",
     "output_type": "error",
     "traceback": [
      "\u001b[0;31m---------------------------------------------------------------------------\u001b[0m",
      "\u001b[0;31mAttributeError\u001b[0m                            Traceback (most recent call last)",
      "\u001b[0;32m<ipython-input-20-860d1d2f18f4>\u001b[0m in \u001b[0;36m<module>\u001b[0;34m()\u001b[0m\n\u001b[0;32m----> 1\u001b[0;31m \u001b[0mvgg_input\u001b[0m\u001b[0;34m.\u001b[0m\u001b[0mget_shape\u001b[0m\u001b[0;34m(\u001b[0m\u001b[0;34m)\u001b[0m\u001b[0;34m.\u001b[0m\u001b[0mas_list\u001b[0m\u001b[0;34m(\u001b[0m\u001b[0;34m)\u001b[0m\u001b[0;34m\u001b[0m\u001b[0m\n\u001b[0m",
      "\u001b[0;31mAttributeError\u001b[0m: 'NoneType' object has no attribute 'get_shape'"
     ]
    }
   ],
   "source": [
    "vgg_input.get_shape().as_list()"
   ]
  },
  {
   "cell_type": "code",
   "execution_count": 21,
   "metadata": {},
   "outputs": [],
   "source": [
    "def lb_tf_adaption_conv(net, config):\n",
    "  \"\"\"Just like lb_tf_vgg, bulid the tensorflow model for adaption conv.\n",
    "  Args:\n",
    "    net: tensor of the input to deconv model, corresponding to output_layter\n",
    "    output_layter: name of input to deconv model, 'conv1' means 'adaption/conv1'\n",
    "  \"\"\"\n",
    "  # adaption conv2d part, no max-pooling\n",
    "  # ['adaption/conv1', 'adaption/conv2', 'adaption/conv3']:\n",
    "    # output: [1, 16, 40, adaption_layer_filters[-1]]\n",
    "    # input: [1, 16, 40, adaption_layer_filters[0]]\n",
    "  adaption_output_layer = len(config.adaption_layer_filters)\n",
    "  for tmp_layer in range(adaption_output_layer, 0, -1):  # conv3 --> conv2 --> conv1\n",
    "    conv_name = 'adaption/conv%s/'%(str(tmp_layer))\n",
    "    weights = conv_name + 'kernel:0'\n",
    "    bias = conv_name + 'bias:0'\n",
    "    if tmp_layer > 1:\n",
    "      # conv3 --> adaption_layer_filters[1]\n",
    "      # conv2 --> adaption_layer_filters[0]\n",
    "      output_shape = [1, 16, 40, config.adaption_layer_filters[tmp_layer - 2]]\n",
    "    else:\n",
    "      # conv1 --> vgg16\n",
    "      output_shape = [1, 16, 40, 512]  # above layer is vgg16, conv4/conv4_*, so is 512\n",
    "    w_tensor = my_get_variables_by_name(weights)[0]\n",
    "    bias_tensor = my_get_variables_by_name(bias)[0]\n",
    "    net = tf.nn.relu(net)  # unrelu\n",
    "    # unbiases\n",
    "    net = tf.nn.bias_add(net, tf.negative(bias_tensor))\n",
    "    # unconv\n",
    "    net = tf.nn.conv2d_transpose(net, w_tensor,\n",
    "                                 output_shape=output_shape,\n",
    "                                 strides=[1, 1, 1, 1])\n",
    "    return net"
   ]
  },
  {
   "cell_type": "code",
   "execution_count": 22,
   "metadata": {},
   "outputs": [
    {
     "data": {
      "text/plain": [
       "[1, 16, 40, 1024]"
      ]
     },
     "execution_count": 22,
     "metadata": {},
     "output_type": "execute_result"
    }
   ],
   "source": [
    "vgg_input = lb_tf_adaption_conv(adaption_feed_input, config)\n",
    "vgg_input.get_shape().as_list()"
   ]
  },
  {
   "cell_type": "code",
   "execution_count": 23,
   "metadata": {},
   "outputs": [],
   "source": [
    "def lb_tf_adaption_conv(net, config):\n",
    "  \"\"\"Just like lb_tf_vgg, bulid the tensorflow model for adaption conv.\n",
    "  Args:\n",
    "    net: tensor of the input to deconv model, corresponding to output_layter\n",
    "    output_layter: name of input to deconv model, 'conv1' means 'adaption/conv1'\n",
    "  \"\"\"\n",
    "  # adaption conv2d part, no max-pooling\n",
    "  # ['adaption/conv1', 'adaption/conv2', 'adaption/conv3']:\n",
    "    # output: [1, 16, 40, adaption_layer_filters[-1]]\n",
    "    # input: [1, 16, 40, adaption_layer_filters[0]]\n",
    "  adaption_output_layer = len(config.adaption_layer_filters)\n",
    "  for tmp_layer in range(adaption_output_layer, 0, -1):  # conv3 --> conv2 --> conv1\n",
    "    conv_name = 'adaption/conv%s/'%(str(tmp_layer))\n",
    "    weights = conv_name + 'kernel:0'\n",
    "    bias = conv_name + 'bias:0'\n",
    "    if tmp_layer > 1:\n",
    "      # conv3 --> adaption_layer_filters[1]\n",
    "      # conv2 --> adaption_layer_filters[0]\n",
    "      output_shape = [1, 16, 40, config.adaption_layer_filters[tmp_layer - 2]]\n",
    "    else:\n",
    "      # conv1 --> vgg16\n",
    "      output_shape = [1, 16, 40, 512]  # above layer is vgg16, conv4/conv4_*, so is 512\n",
    "    w_tensor = my_get_variables_by_name(weights)[0]\n",
    "    bias_tensor = my_get_variables_by_name(bias)[0]\n",
    "    net = tf.nn.relu(net)  # unrelu\n",
    "    # unbiases\n",
    "    net = tf.nn.bias_add(net, tf.negative(bias_tensor))\n",
    "    # unconv\n",
    "    net = tf.nn.conv2d_transpose(net, w_tensor,\n",
    "                                 output_shape=output_shape,\n",
    "                                 strides=[1, 1, 1, 1])\n",
    "    print(net.get_shape().as_list())\n",
    "    return net"
   ]
  },
  {
   "cell_type": "code",
   "execution_count": 24,
   "metadata": {},
   "outputs": [
    {
     "name": "stdout",
     "output_type": "stream",
     "text": [
      "[1, 16, 40, 1024]\n"
     ]
    }
   ],
   "source": [
    "vgg_input = lb_tf_adaption_conv(adaption_feed_input, config)"
   ]
  },
  {
   "cell_type": "code",
   "execution_count": 25,
   "metadata": {},
   "outputs": [],
   "source": [
    "def lb_tf_adaption_conv(net, config):\n",
    "  \"\"\"Just like lb_tf_vgg, bulid the tensorflow model for adaption conv.\n",
    "  Args:\n",
    "    net: tensor of the input to deconv model, corresponding to output_layter\n",
    "    output_layter: name of input to deconv model, 'conv1' means 'adaption/conv1'\n",
    "  \"\"\"\n",
    "  # adaption conv2d part, no max-pooling\n",
    "  # ['adaption/conv1', 'adaption/conv2', 'adaption/conv3']:\n",
    "    # output: [1, 16, 40, adaption_layer_filters[-1]]\n",
    "    # input: [1, 16, 40, adaption_layer_filters[0]]\n",
    "  adaption_output_layer = len(config.adaption_layer_filters)\n",
    "  print(adaption_output_layer)\n",
    "  for tmp_layer in range(adaption_output_layer, 0, -1):  # conv3 --> conv2 --> conv1\n",
    "    conv_name = 'adaption/conv%s/'%(str(tmp_layer))\n",
    "    weights = conv_name + 'kernel:0'\n",
    "    bias = conv_name + 'bias:0'\n",
    "    if tmp_layer > 1:\n",
    "      # conv3 --> adaption_layer_filters[1]\n",
    "      # conv2 --> adaption_layer_filters[0]\n",
    "      output_shape = [1, 16, 40, config.adaption_layer_filters[tmp_layer - 2]]\n",
    "    else:\n",
    "      # conv1 --> vgg16\n",
    "      output_shape = [1, 16, 40, 512]  # above layer is vgg16, conv4/conv4_*, so is 512\n",
    "    w_tensor = my_get_variables_by_name(weights)[0]\n",
    "    bias_tensor = my_get_variables_by_name(bias)[0]\n",
    "    net = tf.nn.relu(net)  # unrelu\n",
    "    # unbiases\n",
    "    net = tf.nn.bias_add(net, tf.negative(bias_tensor))\n",
    "    # unconv\n",
    "    net = tf.nn.conv2d_transpose(net, w_tensor,\n",
    "                                 output_shape=output_shape,\n",
    "                                 strides=[1, 1, 1, 1])\n",
    "    print(net.get_shape().as_list())\n",
    "    return net"
   ]
  },
  {
   "cell_type": "code",
   "execution_count": 26,
   "metadata": {},
   "outputs": [
    {
     "name": "stdout",
     "output_type": "stream",
     "text": [
      "3\n",
      "[1, 16, 40, 1024]\n"
     ]
    }
   ],
   "source": [
    "vgg_input = lb_tf_adaption_conv(adaption_feed_input, config)"
   ]
  },
  {
   "cell_type": "code",
   "execution_count": 27,
   "metadata": {},
   "outputs": [],
   "source": [
    "def lb_tf_adaption_conv(net, config):\n",
    "  \"\"\"Just like lb_tf_vgg, bulid the tensorflow model for adaption conv.\n",
    "  Args:\n",
    "    net: tensor of the input to deconv model, corresponding to output_layter\n",
    "    output_layter: name of input to deconv model, 'conv1' means 'adaption/conv1'\n",
    "  \"\"\"\n",
    "  # adaption conv2d part, no max-pooling\n",
    "  # ['adaption/conv1', 'adaption/conv2', 'adaption/conv3']:\n",
    "    # output: [1, 16, 40, adaption_layer_filters[-1]]\n",
    "    # input: [1, 16, 40, adaption_layer_filters[0]]\n",
    "  adaption_output_layer = len(config.adaption_layer_filters)\n",
    "  for tmp_layer in range(adaption_output_layer, 0, -1):  # conv3 --> conv2 --> conv1\n",
    "    conv_name = 'adaption/conv%s/'%(str(tmp_layer))\n",
    "    weights = conv_name + 'kernel:0'\n",
    "    bias = conv_name + 'bias:0'\n",
    "    if tmp_layer > 1:\n",
    "      # conv3 --> adaption_layer_filters[1]\n",
    "      # conv2 --> adaption_layer_filters[0]\n",
    "      output_shape = [1, 16, 40, config.adaption_layer_filters[tmp_layer - 2]]\n",
    "    else:\n",
    "      # conv1 --> vgg16\n",
    "      output_shape = [1, 16, 40, 512]  # above layer is vgg16, conv4/conv4_*, so is 512\n",
    "    print(output_shape)\n",
    "    w_tensor = my_get_variables_by_name(weights)[0]\n",
    "    bias_tensor = my_get_variables_by_name(bias)[0]\n",
    "    net = tf.nn.relu(net)  # unrelu\n",
    "    # unbiases\n",
    "    net = tf.nn.bias_add(net, tf.negative(bias_tensor))\n",
    "    # unconv\n",
    "    net = tf.nn.conv2d_transpose(net, w_tensor,\n",
    "                                 output_shape=output_shape,\n",
    "                                 strides=[1, 1, 1, 1])\n",
    "    print(net.get_shape().as_list())\n",
    "    return net"
   ]
  },
  {
   "cell_type": "code",
   "execution_count": 28,
   "metadata": {},
   "outputs": [
    {
     "name": "stdout",
     "output_type": "stream",
     "text": [
      "[1, 16, 40, 1024]\n",
      "[1, 16, 40, 1024]\n"
     ]
    }
   ],
   "source": [
    "vgg_input = lb_tf_adaption_conv(adaption_feed_input, config)"
   ]
  },
  {
   "cell_type": "code",
   "execution_count": 29,
   "metadata": {},
   "outputs": [
    {
     "data": {
      "text/plain": [
       "[3, 2, 1]"
      ]
     },
     "execution_count": 29,
     "metadata": {},
     "output_type": "execute_result"
    }
   ],
   "source": [
    "list(range(adaption_output_layer, 0, -1))"
   ]
  },
  {
   "cell_type": "code",
   "execution_count": 1,
   "metadata": {},
   "outputs": [
    {
     "name": "stdout",
     "output_type": "stream",
     "text": [
      "INFO:tensorflow:Restoring parameters from /Users/junr/Documents/prp/pic_data/model/6-10/max.ckpt\n"
     ]
    },
    {
     "name": "stderr",
     "output_type": "stream",
     "text": [
      "/Users/junr/pyenv/tf_py3/lib/python3.6/site-packages/skimage/util/dtype.py:122: UserWarning: Possible precision loss when converting from float64 to uint8\n",
      "  .format(dtypeobj_in, dtypeobj_out))\n",
      "/Users/junr/pyenv/tf_py3/lib/python3.6/site-packages/skimage/util/dtype.py:122: UserWarning: Possible precision loss when converting from float32 to uint8\n",
      "  .format(dtypeobj_in, dtypeobj_out))\n"
     ]
    }
   ],
   "source": [
    "from lookback_ops import *\n",
    "config = return_a_config()\n",
    "output_layer='adaption_conv'\n",
    "batch_img_list, labels, stage = test_lb_adaption_conv(config, top_k_activation=5)\n",
    "simple_save_result_from_test_lb(batch_img_list, labels, stage, config, output_layer)"
   ]
  },
  {
   "cell_type": "code",
   "execution_count": 1,
   "metadata": {},
   "outputs": [
    {
     "name": "stdout",
     "output_type": "stream",
     "text": [
      "INFO:tensorflow:Restoring parameters from /Users/junr/Documents/prp/pic_data/model/6-10/max.ckpt\n"
     ]
    },
    {
     "name": "stderr",
     "output_type": "stream",
     "text": [
      "/Users/junr/pyenv/tf_py3/lib/python3.6/site-packages/skimage/util/dtype.py:122: UserWarning: Possible precision loss when converting from float64 to uint8\n",
      "  .format(dtypeobj_in, dtypeobj_out))\n",
      "/Users/junr/pyenv/tf_py3/lib/python3.6/site-packages/skimage/util/dtype.py:122: UserWarning: Possible precision loss when converting from float32 to uint8\n",
      "  .format(dtypeobj_in, dtypeobj_out))\n"
     ]
    }
   ],
   "source": [
    "from lookback_ops import *\n",
    "config = return_a_config()\n",
    "output_layer='adaption_conv'\n",
    "batch_img_list, labels, stage = test_lb_adaption_conv(config, top_k_activation=5)\n",
    "simple_save_result_from_test_lb(batch_img_list, labels, stage, config, output_layer)"
   ]
  },
  {
   "cell_type": "code",
   "execution_count": 2,
   "metadata": {},
   "outputs": [],
   "source": [
    "def return_img_mask(array):\n",
    "  \"\"\"Return the mask of tf.reduce_max(net_max_feature, axis=(1, 2), keep_dims=False)\n",
    "  Args:\n",
    "    array is the tensor before the reduce_max ops.\n",
    "  \"\"\"\n",
    "  b, h, w, c = array.shape\n",
    "  if b != 1:\n",
    "    raise ValueError('array should have batch_size=1, not %d'%b)\n",
    "  mask = np.zeros_like(array)\n",
    "  for idx in range(c):\n",
    "    tmp_img = array[0, :, :, idx].flatten()\n",
    "    tmp_arg = np.argmax(tmp_img)\n",
    "    mask[0, tmp_arg//w, tmp_arg%w, idx] = 1\n",
    "  return mask"
   ]
  },
  {
   "cell_type": "code",
   "execution_count": 3,
   "metadata": {},
   "outputs": [],
   "source": [
    "a = np.array([[1,2,3,4,5], [4,3,2,1,5]])"
   ]
  },
  {
   "cell_type": "code",
   "execution_count": 4,
   "metadata": {},
   "outputs": [
    {
     "data": {
      "text/plain": [
       "array([[1, 2, 3, 4, 5],\n",
       "       [4, 3, 2, 1, 5]])"
      ]
     },
     "execution_count": 4,
     "metadata": {},
     "output_type": "execute_result"
    }
   ],
   "source": [
    "a"
   ]
  },
  {
   "cell_type": "code",
   "execution_count": 5,
   "metadata": {},
   "outputs": [
    {
     "ename": "ValueError",
     "evalue": "not enough values to unpack (expected 4, got 3)",
     "output_type": "error",
     "traceback": [
      "\u001b[0;31m---------------------------------------------------------------------------\u001b[0m",
      "\u001b[0;31mValueError\u001b[0m                                Traceback (most recent call last)",
      "\u001b[0;32m<ipython-input-5-422598fba247>\u001b[0m in \u001b[0;36m<module>\u001b[0;34m()\u001b[0m\n\u001b[0;32m----> 1\u001b[0;31m \u001b[0mreturn_img_mask\u001b[0m\u001b[0;34m(\u001b[0m\u001b[0ma\u001b[0m\u001b[0;34m[\u001b[0m\u001b[0;32mNone\u001b[0m\u001b[0;34m,\u001b[0m \u001b[0;34m:\u001b[0m\u001b[0;34m]\u001b[0m\u001b[0;34m)\u001b[0m\u001b[0;34m\u001b[0m\u001b[0m\n\u001b[0m",
      "\u001b[0;32m<ipython-input-2-34dbdf7b0600>\u001b[0m in \u001b[0;36mreturn_img_mask\u001b[0;34m(array)\u001b[0m\n\u001b[1;32m      4\u001b[0m     \u001b[0marray\u001b[0m \u001b[0;32mis\u001b[0m \u001b[0mthe\u001b[0m \u001b[0mtensor\u001b[0m \u001b[0mbefore\u001b[0m \u001b[0mthe\u001b[0m \u001b[0mreduce_max\u001b[0m \u001b[0mops\u001b[0m\u001b[0;34m.\u001b[0m\u001b[0;34m\u001b[0m\u001b[0m\n\u001b[1;32m      5\u001b[0m   \"\"\"\n\u001b[0;32m----> 6\u001b[0;31m   \u001b[0mb\u001b[0m\u001b[0;34m,\u001b[0m \u001b[0mh\u001b[0m\u001b[0;34m,\u001b[0m \u001b[0mw\u001b[0m\u001b[0;34m,\u001b[0m \u001b[0mc\u001b[0m \u001b[0;34m=\u001b[0m \u001b[0marray\u001b[0m\u001b[0;34m.\u001b[0m\u001b[0mshape\u001b[0m\u001b[0;34m\u001b[0m\u001b[0m\n\u001b[0m\u001b[1;32m      7\u001b[0m   \u001b[0;32mif\u001b[0m \u001b[0mb\u001b[0m \u001b[0;34m!=\u001b[0m \u001b[0;36m1\u001b[0m\u001b[0;34m:\u001b[0m\u001b[0;34m\u001b[0m\u001b[0m\n\u001b[1;32m      8\u001b[0m     \u001b[0;32mraise\u001b[0m \u001b[0mValueError\u001b[0m\u001b[0;34m(\u001b[0m\u001b[0;34m'array should have batch_size=1, not %d'\u001b[0m\u001b[0;34m%\u001b[0m\u001b[0mb\u001b[0m\u001b[0;34m)\u001b[0m\u001b[0;34m\u001b[0m\u001b[0m\n",
      "\u001b[0;31mValueError\u001b[0m: not enough values to unpack (expected 4, got 3)"
     ]
    }
   ],
   "source": [
    "return_img_mask(a[None, :])"
   ]
  },
  {
   "cell_type": "code",
   "execution_count": 6,
   "metadata": {},
   "outputs": [],
   "source": [
    "a = np.array([[a], [a]])"
   ]
  },
  {
   "cell_type": "code",
   "execution_count": 7,
   "metadata": {},
   "outputs": [
    {
     "data": {
      "text/plain": [
       "array([[[[1, 2, 3, 4, 5],\n",
       "         [4, 3, 2, 1, 5]]],\n",
       "\n",
       "\n",
       "       [[[1, 2, 3, 4, 5],\n",
       "         [4, 3, 2, 1, 5]]]])"
      ]
     },
     "execution_count": 7,
     "metadata": {},
     "output_type": "execute_result"
    }
   ],
   "source": [
    "a"
   ]
  },
  {
   "cell_type": "code",
   "execution_count": 8,
   "metadata": {},
   "outputs": [
    {
     "data": {
      "text/plain": [
       "(2, 1, 2, 5)"
      ]
     },
     "execution_count": 8,
     "metadata": {},
     "output_type": "execute_result"
    }
   ],
   "source": [
    "a.shape"
   ]
  },
  {
   "cell_type": "code",
   "execution_count": 9,
   "metadata": {},
   "outputs": [],
   "source": [
    "a = np.arange(1*3*3*4).reshape(1,3,3,4)"
   ]
  },
  {
   "cell_type": "code",
   "execution_count": 10,
   "metadata": {},
   "outputs": [
    {
     "data": {
      "text/plain": [
       "array([[[[ 0,  1,  2,  3],\n",
       "         [ 4,  5,  6,  7],\n",
       "         [ 8,  9, 10, 11]],\n",
       "\n",
       "        [[12, 13, 14, 15],\n",
       "         [16, 17, 18, 19],\n",
       "         [20, 21, 22, 23]],\n",
       "\n",
       "        [[24, 25, 26, 27],\n",
       "         [28, 29, 30, 31],\n",
       "         [32, 33, 34, 35]]]])"
      ]
     },
     "execution_count": 10,
     "metadata": {},
     "output_type": "execute_result"
    }
   ],
   "source": [
    "a"
   ]
  },
  {
   "cell_type": "code",
   "execution_count": 11,
   "metadata": {},
   "outputs": [
    {
     "data": {
      "text/plain": [
       "(1, 3, 3, 4)"
      ]
     },
     "execution_count": 11,
     "metadata": {},
     "output_type": "execute_result"
    }
   ],
   "source": [
    "a.shape"
   ]
  },
  {
   "cell_type": "code",
   "execution_count": 12,
   "metadata": {},
   "outputs": [],
   "source": [
    "b = return_img_mask(a)"
   ]
  },
  {
   "cell_type": "code",
   "execution_count": 13,
   "metadata": {},
   "outputs": [
    {
     "data": {
      "text/plain": [
       "array([[[[0, 0, 0, 0],\n",
       "         [0, 0, 0, 0],\n",
       "         [0, 0, 0, 0]],\n",
       "\n",
       "        [[0, 0, 0, 0],\n",
       "         [0, 0, 0, 0],\n",
       "         [0, 0, 0, 0]],\n",
       "\n",
       "        [[0, 0, 0, 0],\n",
       "         [0, 0, 0, 0],\n",
       "         [1, 1, 1, 1]]]])"
      ]
     },
     "execution_count": 13,
     "metadata": {},
     "output_type": "execute_result"
    }
   ],
   "source": [
    "b"
   ]
  },
  {
   "cell_type": "code",
   "execution_count": 14,
   "metadata": {},
   "outputs": [
    {
     "data": {
      "text/plain": [
       "array([[ 1,  5,  9],\n",
       "       [13, 17, 21],\n",
       "       [25, 29, 33]])"
      ]
     },
     "execution_count": 14,
     "metadata": {},
     "output_type": "execute_result"
    }
   ],
   "source": [
    "a[0, :, :, 1]"
   ]
  },
  {
   "cell_type": "code",
   "execution_count": 15,
   "metadata": {},
   "outputs": [
    {
     "data": {
      "text/plain": [
       "array([[0, 0, 0],\n",
       "       [0, 0, 0],\n",
       "       [0, 0, 1]])"
      ]
     },
     "execution_count": 15,
     "metadata": {},
     "output_type": "execute_result"
    }
   ],
   "source": [
    "b[0,:,:,1]"
   ]
  },
  {
   "cell_type": "code",
   "execution_count": 16,
   "metadata": {},
   "outputs": [
    {
     "data": {
      "text/plain": [
       "array([[ 0,  4,  8],\n",
       "       [12, 16, 20],\n",
       "       [24, 28, 32]])"
      ]
     },
     "execution_count": 16,
     "metadata": {},
     "output_type": "execute_result"
    }
   ],
   "source": [
    "a[0,:,:,0]"
   ]
  },
  {
   "cell_type": "code",
   "execution_count": 17,
   "metadata": {},
   "outputs": [
    {
     "ename": "SyntaxError",
     "evalue": "invalid syntax (<ipython-input-17-726ebe3936f5>, line 1)",
     "output_type": "error",
     "traceback": [
      "\u001b[0;36m  File \u001b[0;32m\"<ipython-input-17-726ebe3936f5>\"\u001b[0;36m, line \u001b[0;32m1\u001b[0m\n\u001b[0;31m    b[0,:,;,0]\u001b[0m\n\u001b[0m          ^\u001b[0m\n\u001b[0;31mSyntaxError\u001b[0m\u001b[0;31m:\u001b[0m invalid syntax\n"
     ]
    }
   ],
   "source": [
    "b[0,:,;,0]"
   ]
  },
  {
   "cell_type": "code",
   "execution_count": 18,
   "metadata": {},
   "outputs": [
    {
     "data": {
      "text/plain": [
       "array([[0, 0, 0],\n",
       "       [0, 0, 0],\n",
       "       [0, 0, 1]])"
      ]
     },
     "execution_count": 18,
     "metadata": {},
     "output_type": "execute_result"
    }
   ],
   "source": [
    "b[0,:,:,0]"
   ]
  },
  {
   "cell_type": "code",
   "execution_count": 19,
   "metadata": {},
   "outputs": [],
   "source": [
    "a = np.array([1,2,3,4])"
   ]
  },
  {
   "cell_type": "code",
   "execution_count": 20,
   "metadata": {},
   "outputs": [
    {
     "data": {
      "text/plain": [
       "(4,)"
      ]
     },
     "execution_count": 20,
     "metadata": {},
     "output_type": "execute_result"
    }
   ],
   "source": [
    "a.shape"
   ]
  },
  {
   "cell_type": "code",
   "execution_count": 21,
   "metadata": {},
   "outputs": [],
   "source": [
    "b = a.reshape(1,4)"
   ]
  },
  {
   "cell_type": "code",
   "execution_count": 22,
   "metadata": {},
   "outputs": [
    {
     "data": {
      "text/plain": [
       "array([[1, 2, 3, 4]])"
      ]
     },
     "execution_count": 22,
     "metadata": {},
     "output_type": "execute_result"
    }
   ],
   "source": [
    "b"
   ]
  },
  {
   "cell_type": "code",
   "execution_count": 23,
   "metadata": {},
   "outputs": [
    {
     "data": {
      "text/plain": [
       "array([1, 2, 3, 4])"
      ]
     },
     "execution_count": 23,
     "metadata": {},
     "output_type": "execute_result"
    }
   ],
   "source": [
    "b[0]"
   ]
  },
  {
   "cell_type": "code",
   "execution_count": 1,
   "metadata": {},
   "outputs": [
    {
     "name": "stdout",
     "output_type": "stream",
     "text": [
      "INFO:tensorflow:Restoring parameters from /Users/junr/Documents/prp/pic_data/model/6-10/max.ckpt\n"
     ]
    },
    {
     "name": "stderr",
     "output_type": "stream",
     "text": [
      "/Users/junr/pyenv/tf_py3/lib/python3.6/site-packages/skimage/util/dtype.py:122: UserWarning: Possible precision loss when converting from float64 to uint8\n",
      "  .format(dtypeobj_in, dtypeobj_out))\n"
     ]
    },
    {
     "ename": "ValueError",
     "evalue": "Images of type float must be between -1 and 1.",
     "output_type": "error",
     "traceback": [
      "\u001b[0;31m---------------------------------------------------------------------------\u001b[0m",
      "\u001b[0;31mValueError\u001b[0m                                Traceback (most recent call last)",
      "\u001b[0;32m<ipython-input-1-28168248f885>\u001b[0m in \u001b[0;36m<module>\u001b[0;34m()\u001b[0m\n\u001b[1;32m      3\u001b[0m \u001b[0moutput_layer\u001b[0m\u001b[0;34m=\u001b[0m\u001b[0;34m'adaption_conv'\u001b[0m\u001b[0;34m\u001b[0m\u001b[0m\n\u001b[1;32m      4\u001b[0m \u001b[0mbatch_img_list\u001b[0m\u001b[0;34m,\u001b[0m \u001b[0mi\u001b[0m\u001b[0;34m,\u001b[0m \u001b[0mresult\u001b[0m\u001b[0;34m,\u001b[0m \u001b[0mlabels\u001b[0m\u001b[0;34m,\u001b[0m \u001b[0mstage\u001b[0m \u001b[0;34m=\u001b[0m \u001b[0mtest_lb_whole\u001b[0m\u001b[0;34m(\u001b[0m\u001b[0mconfig\u001b[0m\u001b[0;34m)\u001b[0m\u001b[0;34m\u001b[0m\u001b[0m\n\u001b[0;32m----> 5\u001b[0;31m \u001b[0msimple_save_result_from_test_lb_whole\u001b[0m\u001b[0;34m(\u001b[0m\u001b[0mbatch_img_list\u001b[0m\u001b[0;34m,\u001b[0m \u001b[0mi\u001b[0m\u001b[0;34m,\u001b[0m \u001b[0mresult\u001b[0m\u001b[0;34m,\u001b[0m \u001b[0mlabels\u001b[0m\u001b[0;34m,\u001b[0m \u001b[0mstage\u001b[0m\u001b[0;34m,\u001b[0m \u001b[0mconfig\u001b[0m\u001b[0;34m)\u001b[0m\u001b[0;34m\u001b[0m\u001b[0m\n\u001b[0m",
      "\u001b[0;32m~/Desktop/keras_model/lookback_ops.py\u001b[0m in \u001b[0;36msimple_save_result_from_test_lb_whole\u001b[0;34m(batch_img_list, i, result, labels, stage, config)\u001b[0m\n\u001b[1;32m    679\u001b[0m     \u001b[0mtmp_img\u001b[0m \u001b[0;34m=\u001b[0m \u001b[0mimg\u001b[0m\u001b[0;34m[\u001b[0m\u001b[0;34m'img'\u001b[0m\u001b[0;34m]\u001b[0m\u001b[0;34m\u001b[0m\u001b[0m\n\u001b[1;32m    680\u001b[0m     \u001b[0mtmp_label\u001b[0m \u001b[0;34m=\u001b[0m \u001b[0mimg\u001b[0m\u001b[0;34m[\u001b[0m\u001b[0;34m'label'\u001b[0m\u001b[0;34m]\u001b[0m\u001b[0;34m.\u001b[0m\u001b[0mreplace\u001b[0m\u001b[0;34m(\u001b[0m\u001b[0;34m'/'\u001b[0m\u001b[0;34m,\u001b[0m \u001b[0;34m'-'\u001b[0m\u001b[0;34m)\u001b[0m\u001b[0;34m\u001b[0m\u001b[0m\n\u001b[0;32m--> 681\u001b[0;31m     \u001b[0mskimage\u001b[0m\u001b[0;34m.\u001b[0m\u001b[0mio\u001b[0m\u001b[0;34m.\u001b[0m\u001b[0mimsave\u001b[0m\u001b[0;34m(\u001b[0m\u001b[0mparent_path\u001b[0m\u001b[0;34m+\u001b[0m\u001b[0;34m'/'\u001b[0m\u001b[0;34m+\u001b[0m\u001b[0mtmp_label\u001b[0m\u001b[0;34m+\u001b[0m\u001b[0;34m'.bmp'\u001b[0m\u001b[0;34m,\u001b[0m \u001b[0mtmp_img\u001b[0m\u001b[0;34m)\u001b[0m\u001b[0;34m\u001b[0m\u001b[0m\n\u001b[0m\u001b[1;32m    682\u001b[0m \u001b[0;34m\u001b[0m\u001b[0m\n\u001b[1;32m    683\u001b[0m \u001b[0;32mdef\u001b[0m \u001b[0msimple_save_result_from_test_lb\u001b[0m\u001b[0;34m(\u001b[0m\u001b[0mbatch_img_list\u001b[0m\u001b[0;34m,\u001b[0m \u001b[0mlabels\u001b[0m\u001b[0;34m,\u001b[0m \u001b[0mstage\u001b[0m\u001b[0;34m,\u001b[0m \u001b[0mconfig\u001b[0m\u001b[0;34m,\u001b[0m \u001b[0moutput_layer\u001b[0m\u001b[0;34m)\u001b[0m\u001b[0;34m:\u001b[0m\u001b[0;34m\u001b[0m\u001b[0m\n",
      "\u001b[0;32m~/pyenv/tf_py3/lib/python3.6/site-packages/skimage/io/_io.py\u001b[0m in \u001b[0;36mimsave\u001b[0;34m(fname, arr, plugin, **plugin_args)\u001b[0m\n\u001b[1;32m    129\u001b[0m         \u001b[0;32mif\u001b[0m \u001b[0mfname\u001b[0m\u001b[0;34m.\u001b[0m\u001b[0mlower\u001b[0m\u001b[0;34m(\u001b[0m\u001b[0;34m)\u001b[0m\u001b[0;34m.\u001b[0m\u001b[0mendswith\u001b[0m\u001b[0;34m(\u001b[0m\u001b[0;34m(\u001b[0m\u001b[0;34m'.tiff'\u001b[0m\u001b[0;34m,\u001b[0m \u001b[0;34m'.tif'\u001b[0m\u001b[0;34m)\u001b[0m\u001b[0;34m)\u001b[0m\u001b[0;34m:\u001b[0m\u001b[0;34m\u001b[0m\u001b[0m\n\u001b[1;32m    130\u001b[0m             \u001b[0mplugin\u001b[0m \u001b[0;34m=\u001b[0m \u001b[0;34m'tifffile'\u001b[0m\u001b[0;34m\u001b[0m\u001b[0m\n\u001b[0;32m--> 131\u001b[0;31m     \u001b[0;32mif\u001b[0m \u001b[0mis_low_contrast\u001b[0m\u001b[0;34m(\u001b[0m\u001b[0marr\u001b[0m\u001b[0;34m)\u001b[0m\u001b[0;34m:\u001b[0m\u001b[0;34m\u001b[0m\u001b[0m\n\u001b[0m\u001b[1;32m    132\u001b[0m         \u001b[0mwarn\u001b[0m\u001b[0;34m(\u001b[0m\u001b[0;34m'%s is a low contrast image'\u001b[0m \u001b[0;34m%\u001b[0m \u001b[0mfname\u001b[0m\u001b[0;34m)\u001b[0m\u001b[0;34m\u001b[0m\u001b[0m\n\u001b[1;32m    133\u001b[0m     \u001b[0;32mreturn\u001b[0m \u001b[0mcall_plugin\u001b[0m\u001b[0;34m(\u001b[0m\u001b[0;34m'imsave'\u001b[0m\u001b[0;34m,\u001b[0m \u001b[0mfname\u001b[0m\u001b[0;34m,\u001b[0m \u001b[0marr\u001b[0m\u001b[0;34m,\u001b[0m \u001b[0mplugin\u001b[0m\u001b[0;34m=\u001b[0m\u001b[0mplugin\u001b[0m\u001b[0;34m,\u001b[0m \u001b[0;34m**\u001b[0m\u001b[0mplugin_args\u001b[0m\u001b[0;34m)\u001b[0m\u001b[0;34m\u001b[0m\u001b[0m\n",
      "\u001b[0;32m~/pyenv/tf_py3/lib/python3.6/site-packages/skimage/exposure/exposure.py\u001b[0m in \u001b[0;36mis_low_contrast\u001b[0;34m(image, fraction_threshold, lower_percentile, upper_percentile, method)\u001b[0m\n\u001b[1;32m    499\u001b[0m     \u001b[0mimage\u001b[0m \u001b[0;34m=\u001b[0m \u001b[0mnp\u001b[0m\u001b[0;34m.\u001b[0m\u001b[0masanyarray\u001b[0m\u001b[0;34m(\u001b[0m\u001b[0mimage\u001b[0m\u001b[0;34m)\u001b[0m\u001b[0;34m\u001b[0m\u001b[0m\n\u001b[1;32m    500\u001b[0m     \u001b[0;32mif\u001b[0m \u001b[0mimage\u001b[0m\u001b[0;34m.\u001b[0m\u001b[0mndim\u001b[0m \u001b[0;34m==\u001b[0m \u001b[0;36m3\u001b[0m \u001b[0;32mand\u001b[0m \u001b[0mimage\u001b[0m\u001b[0;34m.\u001b[0m\u001b[0mshape\u001b[0m\u001b[0;34m[\u001b[0m\u001b[0;36m2\u001b[0m\u001b[0;34m]\u001b[0m \u001b[0;32min\u001b[0m \u001b[0;34m[\u001b[0m\u001b[0;36m3\u001b[0m\u001b[0;34m,\u001b[0m \u001b[0;36m4\u001b[0m\u001b[0;34m]\u001b[0m\u001b[0;34m:\u001b[0m\u001b[0;34m\u001b[0m\u001b[0m\n\u001b[0;32m--> 501\u001b[0;31m         \u001b[0mimage\u001b[0m \u001b[0;34m=\u001b[0m \u001b[0mrgb2gray\u001b[0m\u001b[0;34m(\u001b[0m\u001b[0mimage\u001b[0m\u001b[0;34m)\u001b[0m\u001b[0;34m\u001b[0m\u001b[0m\n\u001b[0m\u001b[1;32m    502\u001b[0m \u001b[0;34m\u001b[0m\u001b[0m\n\u001b[1;32m    503\u001b[0m     \u001b[0mdlimits\u001b[0m \u001b[0;34m=\u001b[0m \u001b[0mdtype_limits\u001b[0m\u001b[0;34m(\u001b[0m\u001b[0mimage\u001b[0m\u001b[0;34m,\u001b[0m \u001b[0mclip_negative\u001b[0m\u001b[0;34m=\u001b[0m\u001b[0;32mFalse\u001b[0m\u001b[0;34m)\u001b[0m\u001b[0;34m\u001b[0m\u001b[0m\n",
      "\u001b[0;32m~/pyenv/tf_py3/lib/python3.6/site-packages/skimage/color/colorconv.py\u001b[0m in \u001b[0;36mrgb2gray\u001b[0;34m(rgb)\u001b[0m\n\u001b[1;32m    794\u001b[0m         \u001b[0;32mreturn\u001b[0m \u001b[0mnp\u001b[0m\u001b[0;34m.\u001b[0m\u001b[0mascontiguousarray\u001b[0m\u001b[0;34m(\u001b[0m\u001b[0mrgb\u001b[0m\u001b[0;34m)\u001b[0m\u001b[0;34m\u001b[0m\u001b[0m\n\u001b[1;32m    795\u001b[0m \u001b[0;34m\u001b[0m\u001b[0m\n\u001b[0;32m--> 796\u001b[0;31m     \u001b[0mrgb\u001b[0m \u001b[0;34m=\u001b[0m \u001b[0m_prepare_colorarray\u001b[0m\u001b[0;34m(\u001b[0m\u001b[0mrgb\u001b[0m\u001b[0;34m[\u001b[0m\u001b[0;34m...\u001b[0m\u001b[0;34m,\u001b[0m \u001b[0;34m:\u001b[0m\u001b[0;36m3\u001b[0m\u001b[0;34m]\u001b[0m\u001b[0;34m)\u001b[0m\u001b[0;34m\u001b[0m\u001b[0m\n\u001b[0m\u001b[1;32m    797\u001b[0m \u001b[0;34m\u001b[0m\u001b[0m\n\u001b[1;32m    798\u001b[0m     \u001b[0mgray\u001b[0m \u001b[0;34m=\u001b[0m \u001b[0;36m0.2125\u001b[0m \u001b[0;34m*\u001b[0m \u001b[0mrgb\u001b[0m\u001b[0;34m[\u001b[0m\u001b[0;34m...\u001b[0m\u001b[0;34m,\u001b[0m \u001b[0;36m0\u001b[0m\u001b[0;34m]\u001b[0m\u001b[0;34m\u001b[0m\u001b[0m\n",
      "\u001b[0;32m~/pyenv/tf_py3/lib/python3.6/site-packages/skimage/color/colorconv.py\u001b[0m in \u001b[0;36m_prepare_colorarray\u001b[0;34m(arr)\u001b[0m\n\u001b[1;32m    155\u001b[0m         \u001b[0;32mraise\u001b[0m \u001b[0mValueError\u001b[0m\u001b[0;34m(\u001b[0m\u001b[0mmsg\u001b[0m\u001b[0;34m)\u001b[0m\u001b[0;34m\u001b[0m\u001b[0m\n\u001b[1;32m    156\u001b[0m \u001b[0;34m\u001b[0m\u001b[0m\n\u001b[0;32m--> 157\u001b[0;31m     \u001b[0;32mreturn\u001b[0m \u001b[0mdtype\u001b[0m\u001b[0;34m.\u001b[0m\u001b[0mimg_as_float\u001b[0m\u001b[0;34m(\u001b[0m\u001b[0marr\u001b[0m\u001b[0;34m)\u001b[0m\u001b[0;34m\u001b[0m\u001b[0m\n\u001b[0m\u001b[1;32m    158\u001b[0m \u001b[0;34m\u001b[0m\u001b[0m\n\u001b[1;32m    159\u001b[0m \u001b[0;34m\u001b[0m\u001b[0m\n",
      "\u001b[0;32m~/pyenv/tf_py3/lib/python3.6/site-packages/skimage/util/dtype.py\u001b[0m in \u001b[0;36mimg_as_float\u001b[0;34m(image, force_copy)\u001b[0m\n\u001b[1;32m    334\u001b[0m \u001b[0;34m\u001b[0m\u001b[0m\n\u001b[1;32m    335\u001b[0m     \"\"\"\n\u001b[0;32m--> 336\u001b[0;31m     \u001b[0;32mreturn\u001b[0m \u001b[0mconvert\u001b[0m\u001b[0;34m(\u001b[0m\u001b[0mimage\u001b[0m\u001b[0;34m,\u001b[0m \u001b[0mnp\u001b[0m\u001b[0;34m.\u001b[0m\u001b[0mfloat64\u001b[0m\u001b[0;34m,\u001b[0m \u001b[0mforce_copy\u001b[0m\u001b[0;34m)\u001b[0m\u001b[0;34m\u001b[0m\u001b[0m\n\u001b[0m\u001b[1;32m    337\u001b[0m \u001b[0;34m\u001b[0m\u001b[0m\n\u001b[1;32m    338\u001b[0m \u001b[0;34m\u001b[0m\u001b[0m\n",
      "\u001b[0;32m~/pyenv/tf_py3/lib/python3.6/site-packages/skimage/util/dtype.py\u001b[0m in \u001b[0;36mconvert\u001b[0;34m(image, dtype, force_copy, uniform)\u001b[0m\n\u001b[1;32m    234\u001b[0m     \u001b[0;32mif\u001b[0m \u001b[0mkind_in\u001b[0m \u001b[0;34m==\u001b[0m \u001b[0;34m'f'\u001b[0m\u001b[0;34m:\u001b[0m\u001b[0;34m\u001b[0m\u001b[0m\n\u001b[1;32m    235\u001b[0m         \u001b[0;32mif\u001b[0m \u001b[0mnp\u001b[0m\u001b[0;34m.\u001b[0m\u001b[0mmin\u001b[0m\u001b[0;34m(\u001b[0m\u001b[0mimage\u001b[0m\u001b[0;34m)\u001b[0m \u001b[0;34m<\u001b[0m \u001b[0;34m-\u001b[0m\u001b[0;36m1.0\u001b[0m \u001b[0;32mor\u001b[0m \u001b[0mnp\u001b[0m\u001b[0;34m.\u001b[0m\u001b[0mmax\u001b[0m\u001b[0;34m(\u001b[0m\u001b[0mimage\u001b[0m\u001b[0;34m)\u001b[0m \u001b[0;34m>\u001b[0m \u001b[0;36m1.0\u001b[0m\u001b[0;34m:\u001b[0m\u001b[0;34m\u001b[0m\u001b[0m\n\u001b[0;32m--> 236\u001b[0;31m             \u001b[0;32mraise\u001b[0m \u001b[0mValueError\u001b[0m\u001b[0;34m(\u001b[0m\u001b[0;34m\"Images of type float must be between -1 and 1.\"\u001b[0m\u001b[0;34m)\u001b[0m\u001b[0;34m\u001b[0m\u001b[0m\n\u001b[0m\u001b[1;32m    237\u001b[0m         \u001b[0;32mif\u001b[0m \u001b[0mkind_out\u001b[0m \u001b[0;34m==\u001b[0m \u001b[0;34m'f'\u001b[0m\u001b[0;34m:\u001b[0m\u001b[0;34m\u001b[0m\u001b[0m\n\u001b[1;32m    238\u001b[0m             \u001b[0;31m# float -> float\u001b[0m\u001b[0;34m\u001b[0m\u001b[0;34m\u001b[0m\u001b[0m\n",
      "\u001b[0;31mValueError\u001b[0m: Images of type float must be between -1 and 1."
     ]
    }
   ],
   "source": [
    "from lookback_ops import *\n",
    "config = return_a_config()\n",
    "output_layer='adaption_conv'\n",
    "batch_img_list, i, result, labels, stage = test_lb_whole(config)\n",
    "simple_save_result_from_test_lb_whole(batch_img_list, i, result, labels, stage, config)"
   ]
  },
  {
   "cell_type": "code",
   "execution_count": 1,
   "metadata": {},
   "outputs": [
    {
     "name": "stdout",
     "output_type": "stream",
     "text": [
      "INFO:tensorflow:Restoring parameters from /Users/junr/Documents/prp/pic_data/model/6-10/max.ckpt\n"
     ]
    },
    {
     "name": "stderr",
     "output_type": "stream",
     "text": [
      "/Users/junr/pyenv/tf_py3/lib/python3.6/site-packages/skimage/util/dtype.py:122: UserWarning: Possible precision loss when converting from float64 to uint8\n",
      "  .format(dtypeobj_in, dtypeobj_out))\n",
      "/Users/junr/pyenv/tf_py3/lib/python3.6/site-packages/skimage/util/dtype.py:122: UserWarning: Possible precision loss when converting from float32 to uint8\n",
      "  .format(dtypeobj_in, dtypeobj_out))\n"
     ]
    }
   ],
   "source": [
    "from lookback_ops import *\n",
    "config = return_a_config()\n",
    "batch_img_list, i, result, labels, stage = test_lb_whole(config)\n",
    "simple_save_result_from_test_lb_whole(batch_img_list, i, result, labels, stage, config)"
   ]
  },
  {
   "cell_type": "code",
   "execution_count": 1,
   "metadata": {},
   "outputs": [
    {
     "name": "stdout",
     "output_type": "stream",
     "text": [
      "INFO:tensorflow:Restoring parameters from /Users/junr/Documents/prp/pic_data/model/6-10/max.ckpt\n"
     ]
    },
    {
     "name": "stderr",
     "output_type": "stream",
     "text": [
      "/Users/junr/pyenv/tf_py3/lib/python3.6/site-packages/skimage/util/dtype.py:122: UserWarning: Possible precision loss when converting from float64 to uint8\n",
      "  .format(dtypeobj_in, dtypeobj_out))\n",
      "/Users/junr/pyenv/tf_py3/lib/python3.6/site-packages/skimage/io/_io.py:132: UserWarning: /Users/junr/Documents/prp/pic_data/model/6-10/CG45906/conv1/1/1.bmp is a low contrast image\n",
      "  warn('%s is a low contrast image' % fname)\n",
      "/Users/junr/pyenv/tf_py3/lib/python3.6/site-packages/skimage/util/dtype.py:122: UserWarning: Possible precision loss when converting from float32 to uint8\n",
      "  .format(dtypeobj_in, dtypeobj_out))\n",
      "/Users/junr/pyenv/tf_py3/lib/python3.6/site-packages/skimage/io/_io.py:132: UserWarning: /Users/junr/Documents/prp/pic_data/model/6-10/CG45906/conv1/2/1.bmp is a low contrast image\n",
      "  warn('%s is a low contrast image' % fname)\n",
      "/Users/junr/pyenv/tf_py3/lib/python3.6/site-packages/skimage/io/_io.py:132: UserWarning: /Users/junr/Documents/prp/pic_data/model/6-10/CG45906/conv1/2/3.bmp is a low contrast image\n",
      "  warn('%s is a low contrast image' % fname)\n",
      "/Users/junr/pyenv/tf_py3/lib/python3.6/site-packages/skimage/io/_io.py:132: UserWarning: /Users/junr/Documents/prp/pic_data/model/6-10/CG45906/conv1/2/4.bmp is a low contrast image\n",
      "  warn('%s is a low contrast image' % fname)\n",
      "/Users/junr/pyenv/tf_py3/lib/python3.6/site-packages/skimage/io/_io.py:132: UserWarning: /Users/junr/Documents/prp/pic_data/model/6-10/CG45906/conv1/3/3.bmp is a low contrast image\n",
      "  warn('%s is a low contrast image' % fname)\n",
      "/Users/junr/pyenv/tf_py3/lib/python3.6/site-packages/skimage/io/_io.py:132: UserWarning: /Users/junr/Documents/prp/pic_data/model/6-10/CG45906/conv1/3/4.bmp is a low contrast image\n",
      "  warn('%s is a low contrast image' % fname)\n",
      "/Users/junr/pyenv/tf_py3/lib/python3.6/site-packages/skimage/io/_io.py:132: UserWarning: /Users/junr/Documents/prp/pic_data/model/6-10/CG45906/conv1/4/4.bmp is a low contrast image\n",
      "  warn('%s is a low contrast image' % fname)\n",
      "/Users/junr/pyenv/tf_py3/lib/python3.6/site-packages/skimage/io/_io.py:132: UserWarning: /Users/junr/Documents/prp/pic_data/model/6-10/CG45906/conv1/5/4.bmp is a low contrast image\n",
      "  warn('%s is a low contrast image' % fname)\n",
      "/Users/junr/pyenv/tf_py3/lib/python3.6/site-packages/skimage/io/_io.py:132: UserWarning: /Users/junr/Documents/prp/pic_data/model/6-10/CG45906/conv1/6/3.bmp is a low contrast image\n",
      "  warn('%s is a low contrast image' % fname)\n",
      "/Users/junr/pyenv/tf_py3/lib/python3.6/site-packages/skimage/io/_io.py:132: UserWarning: /Users/junr/Documents/prp/pic_data/model/6-10/CG45906/conv1/6/4.bmp is a low contrast image\n",
      "  warn('%s is a low contrast image' % fname)\n",
      "/Users/junr/pyenv/tf_py3/lib/python3.6/site-packages/skimage/io/_io.py:132: UserWarning: /Users/junr/Documents/prp/pic_data/model/6-10/CG45906/conv1/7/1.bmp is a low contrast image\n",
      "  warn('%s is a low contrast image' % fname)\n",
      "/Users/junr/pyenv/tf_py3/lib/python3.6/site-packages/skimage/io/_io.py:132: UserWarning: /Users/junr/Documents/prp/pic_data/model/6-10/CG45906/conv1/8/1.bmp is a low contrast image\n",
      "  warn('%s is a low contrast image' % fname)\n",
      "/Users/junr/pyenv/tf_py3/lib/python3.6/site-packages/skimage/io/_io.py:132: UserWarning: /Users/junr/Documents/prp/pic_data/model/6-10/CG45906/conv1/8/3.bmp is a low contrast image\n",
      "  warn('%s is a low contrast image' % fname)\n",
      "/Users/junr/pyenv/tf_py3/lib/python3.6/site-packages/skimage/io/_io.py:132: UserWarning: /Users/junr/Documents/prp/pic_data/model/6-10/CG45906/conv1/8/4.bmp is a low contrast image\n",
      "  warn('%s is a low contrast image' % fname)\n",
      "/Users/junr/pyenv/tf_py3/lib/python3.6/site-packages/skimage/io/_io.py:132: UserWarning: /Users/junr/Documents/prp/pic_data/model/6-10/CG45906/conv1/9/3.bmp is a low contrast image\n",
      "  warn('%s is a low contrast image' % fname)\n",
      "/Users/junr/pyenv/tf_py3/lib/python3.6/site-packages/skimage/io/_io.py:132: UserWarning: /Users/junr/Documents/prp/pic_data/model/6-10/CG45906/conv1/9/4.bmp is a low contrast image\n",
      "  warn('%s is a low contrast image' % fname)\n",
      "/Users/junr/pyenv/tf_py3/lib/python3.6/site-packages/skimage/io/_io.py:132: UserWarning: /Users/junr/Documents/prp/pic_data/model/6-10/CG45906/conv1/10/4.bmp is a low contrast image\n",
      "  warn('%s is a low contrast image' % fname)\n",
      "/Users/junr/pyenv/tf_py3/lib/python3.6/site-packages/skimage/io/_io.py:132: UserWarning: /Users/junr/Documents/prp/pic_data/model/6-10/CG45906/conv1/11/4.bmp is a low contrast image\n",
      "  warn('%s is a low contrast image' % fname)\n",
      "/Users/junr/pyenv/tf_py3/lib/python3.6/site-packages/skimage/io/_io.py:132: UserWarning: /Users/junr/Documents/prp/pic_data/model/6-10/CG45906/conv1/12/3.bmp is a low contrast image\n",
      "  warn('%s is a low contrast image' % fname)\n",
      "/Users/junr/pyenv/tf_py3/lib/python3.6/site-packages/skimage/io/_io.py:132: UserWarning: /Users/junr/Documents/prp/pic_data/model/6-10/CG45906/conv1/12/4.bmp is a low contrast image\n",
      "  warn('%s is a low contrast image' % fname)\n",
      "/Users/junr/pyenv/tf_py3/lib/python3.6/site-packages/skimage/io/_io.py:132: UserWarning: /Users/junr/Documents/prp/pic_data/model/6-10/CG45906/conv1/13/1.bmp is a low contrast image\n",
      "  warn('%s is a low contrast image' % fname)\n",
      "/Users/junr/pyenv/tf_py3/lib/python3.6/site-packages/skimage/io/_io.py:132: UserWarning: /Users/junr/Documents/prp/pic_data/model/6-10/CG45906/conv1/14/1.bmp is a low contrast image\n",
      "  warn('%s is a low contrast image' % fname)\n",
      "/Users/junr/pyenv/tf_py3/lib/python3.6/site-packages/skimage/io/_io.py:132: UserWarning: /Users/junr/Documents/prp/pic_data/model/6-10/CG45906/conv1/14/3.bmp is a low contrast image\n",
      "  warn('%s is a low contrast image' % fname)\n",
      "/Users/junr/pyenv/tf_py3/lib/python3.6/site-packages/skimage/io/_io.py:132: UserWarning: /Users/junr/Documents/prp/pic_data/model/6-10/CG45906/conv1/14/4.bmp is a low contrast image\n",
      "  warn('%s is a low contrast image' % fname)\n",
      "/Users/junr/pyenv/tf_py3/lib/python3.6/site-packages/skimage/io/_io.py:132: UserWarning: /Users/junr/Documents/prp/pic_data/model/6-10/CG45906/conv1/15/3.bmp is a low contrast image\n",
      "  warn('%s is a low contrast image' % fname)\n",
      "/Users/junr/pyenv/tf_py3/lib/python3.6/site-packages/skimage/io/_io.py:132: UserWarning: /Users/junr/Documents/prp/pic_data/model/6-10/CG45906/conv1/15/4.bmp is a low contrast image\n",
      "  warn('%s is a low contrast image' % fname)\n"
     ]
    }
   ],
   "source": [
    "from lookback_ops import *\n",
    "\n",
    "config = return_a_config()\n",
    "output_layer = 'conv1'\n",
    "batch_img_list, labels, stage = test_lb_vgg(config, top_k_activation=5)\n",
    "simple_save_result_from_test_lb(batch_img_list, labels, stage, config, output_layer)"
   ]
  },
  {
   "cell_type": "code",
   "execution_count": 1,
   "metadata": {},
   "outputs": [
    {
     "name": "stdout",
     "output_type": "stream",
     "text": [
      "INFO:tensorflow:Restoring parameters from /Users/junr/Documents/prp/pic_data/model/6-10/max.ckpt\n"
     ]
    },
    {
     "ename": "ValueError",
     "evalue": "too many values to unpack (expected 3)",
     "output_type": "error",
     "traceback": [
      "\u001b[0;31m---------------------------------------------------------------------------\u001b[0m",
      "\u001b[0;31mValueError\u001b[0m                                Traceback (most recent call last)",
      "\u001b[0;32m<ipython-input-1-9b255c1b31f0>\u001b[0m in \u001b[0;36m<module>\u001b[0;34m()\u001b[0m\n\u001b[1;32m      2\u001b[0m \u001b[0mconfig\u001b[0m \u001b[0;34m=\u001b[0m \u001b[0mreturn_a_config\u001b[0m\u001b[0;34m(\u001b[0m\u001b[0;34m)\u001b[0m\u001b[0;34m\u001b[0m\u001b[0m\n\u001b[1;32m      3\u001b[0m \u001b[0moutput_layer\u001b[0m\u001b[0;34m=\u001b[0m\u001b[0;34m'adaption_conv'\u001b[0m\u001b[0;34m\u001b[0m\u001b[0m\n\u001b[0;32m----> 4\u001b[0;31m \u001b[0mbatch_img_list\u001b[0m\u001b[0;34m,\u001b[0m \u001b[0mlabels\u001b[0m\u001b[0;34m,\u001b[0m \u001b[0mstage\u001b[0m \u001b[0;34m=\u001b[0m \u001b[0mtest_lb_adaption_conv\u001b[0m\u001b[0;34m(\u001b[0m\u001b[0mconfig\u001b[0m\u001b[0;34m,\u001b[0m \u001b[0mtop_k_activation\u001b[0m\u001b[0;34m=\u001b[0m\u001b[0;36m5\u001b[0m\u001b[0;34m)\u001b[0m\u001b[0;34m\u001b[0m\u001b[0m\n\u001b[0m\u001b[1;32m      5\u001b[0m \u001b[0msimple_save_result_from_test_lb\u001b[0m\u001b[0;34m(\u001b[0m\u001b[0mbatch_img_list\u001b[0m\u001b[0;34m,\u001b[0m \u001b[0mlabels\u001b[0m\u001b[0;34m,\u001b[0m \u001b[0mstage\u001b[0m\u001b[0;34m,\u001b[0m \u001b[0mconfig\u001b[0m\u001b[0;34m,\u001b[0m \u001b[0moutput_layer\u001b[0m\u001b[0;34m)\u001b[0m\u001b[0;34m\u001b[0m\u001b[0m\n",
      "\u001b[0;31mValueError\u001b[0m: too many values to unpack (expected 3)"
     ]
    }
   ],
   "source": [
    "from lookback_ops import *\n",
    "config = return_a_config()\n",
    "output_layer='adaption_conv'\n",
    "batch_img_list, labels, stage = test_lb_adaption_conv(config, top_k_activation=5)\n",
    "simple_save_result_from_test_lb(batch_img_list, labels, stage, config, output_layer)"
   ]
  },
  {
   "cell_type": "code",
   "execution_count": 1,
   "metadata": {},
   "outputs": [
    {
     "name": "stdout",
     "output_type": "stream",
     "text": [
      "INFO:tensorflow:Restoring parameters from /Users/junr/Documents/prp/pic_data/model/6-10/max.ckpt\n"
     ]
    },
    {
     "name": "stderr",
     "output_type": "stream",
     "text": [
      "/Users/junr/pyenv/tf_py3/lib/python3.6/site-packages/skimage/util/dtype.py:122: UserWarning: Possible precision loss when converting from float64 to uint8\n",
      "  .format(dtypeobj_in, dtypeobj_out))\n",
      "/Users/junr/pyenv/tf_py3/lib/python3.6/site-packages/skimage/util/dtype.py:122: UserWarning: Possible precision loss when converting from float32 to uint8\n",
      "  .format(dtypeobj_in, dtypeobj_out))\n",
      "/Users/junr/pyenv/tf_py3/lib/python3.6/site-packages/skimage/io/_io.py:132: UserWarning: /Users/junr/Documents/prp/pic_data/model/6-10/CG74796/conv1/1/3.bmp is a low contrast image\n",
      "  warn('%s is a low contrast image' % fname)\n",
      "/Users/junr/pyenv/tf_py3/lib/python3.6/site-packages/skimage/io/_io.py:132: UserWarning: /Users/junr/Documents/prp/pic_data/model/6-10/CG74796/conv1/2/3.bmp is a low contrast image\n",
      "  warn('%s is a low contrast image' % fname)\n"
     ]
    }
   ],
   "source": [
    "from lookback_ops import *\n",
    "\n",
    "config = return_a_config()\n",
    "output_layer = 'conv1'\n",
    "batch_img_list, result, labels, stage = test_lb_vgg(config, top_k_activation=5)\n",
    "simple_save_result_from_test_lb(batch_img_list, result, labels, stage, config, output_layer)"
   ]
  },
  {
   "cell_type": "code",
   "execution_count": 1,
   "metadata": {},
   "outputs": [
    {
     "name": "stdout",
     "output_type": "stream",
     "text": [
      "INFO:tensorflow:Restoring parameters from /Users/junr/Documents/prp/pic_data/model/6-10/max.ckpt\n"
     ]
    },
    {
     "name": "stderr",
     "output_type": "stream",
     "text": [
      "/Users/junr/pyenv/tf_py3/lib/python3.6/site-packages/skimage/util/dtype.py:122: UserWarning: Possible precision loss when converting from float64 to uint8\n",
      "  .format(dtypeobj_in, dtypeobj_out))\n",
      "/Users/junr/pyenv/tf_py3/lib/python3.6/site-packages/skimage/util/dtype.py:122: UserWarning: Possible precision loss when converting from float32 to uint8\n",
      "  .format(dtypeobj_in, dtypeobj_out))\n",
      "/Users/junr/pyenv/tf_py3/lib/python3.6/site-packages/skimage/io/_io.py:132: UserWarning: /Users/junr/Documents/prp/pic_data/model/6-10/CG74796/conv1/1/embryonic hindgut3.bmp is a low contrast image\n",
      "  warn('%s is a low contrast image' % fname)\n",
      "/Users/junr/pyenv/tf_py3/lib/python3.6/site-packages/skimage/io/_io.py:132: UserWarning: /Users/junr/Documents/prp/pic_data/model/6-10/CG74796/conv1/2/embryonic midgut3.bmp is a low contrast image\n",
      "  warn('%s is a low contrast image' % fname)\n"
     ]
    }
   ],
   "source": [
    "from lookback_ops import *\n",
    "\n",
    "config = return_a_config()\n",
    "output_layer = 'conv1'\n",
    "batch_img_list, result, labels, stage = test_lb_vgg(config, top_k_activation=5)\n",
    "simple_save_result_from_test_lb(batch_img_list, result, labels, stage, config, output_layer)"
   ]
  },
  {
   "cell_type": "code",
   "execution_count": 2,
   "metadata": {},
   "outputs": [
    {
     "ename": "ValueError",
     "evalue": "Variable vgg_16/conv1/conv1_1/weights already exists, disallowed. Did you mean to set reuse=True in VarScope? Originally defined at:\n\n  File \"/Users/junr/pyenv/tf_py3/lib/python3.6/site-packages/tensorflow/contrib/framework/python/ops/variables.py\", line 216, in variable\n    use_resource=use_resource)\n  File \"/Users/junr/pyenv/tf_py3/lib/python3.6/site-packages/tensorflow/contrib/framework/python/ops/arg_scope.py\", line 181, in func_with_args\n    return func(*args, **current_args)\n  File \"/Users/junr/pyenv/tf_py3/lib/python3.6/site-packages/tensorflow/contrib/framework/python/ops/variables.py\", line 261, in model_variable\n    use_resource=use_resource)\n",
     "output_type": "error",
     "traceback": [
      "\u001b[0;31m---------------------------------------------------------------------------\u001b[0m",
      "\u001b[0;31mValueError\u001b[0m                                Traceback (most recent call last)",
      "\u001b[0;32m<ipython-input-2-a99a9de38689>\u001b[0m in \u001b[0;36m<module>\u001b[0;34m()\u001b[0m\n\u001b[1;32m      3\u001b[0m \u001b[0mconfig\u001b[0m \u001b[0;34m=\u001b[0m \u001b[0mreturn_a_config\u001b[0m\u001b[0;34m(\u001b[0m\u001b[0;34m)\u001b[0m\u001b[0;34m\u001b[0m\u001b[0m\n\u001b[1;32m      4\u001b[0m \u001b[0moutput_layer\u001b[0m \u001b[0;34m=\u001b[0m \u001b[0;34m'conv2'\u001b[0m\u001b[0;34m\u001b[0m\u001b[0m\n\u001b[0;32m----> 5\u001b[0;31m \u001b[0mbatch_img_list\u001b[0m\u001b[0;34m,\u001b[0m \u001b[0mresult\u001b[0m\u001b[0;34m,\u001b[0m \u001b[0mlabels\u001b[0m\u001b[0;34m,\u001b[0m \u001b[0mstage\u001b[0m \u001b[0;34m=\u001b[0m \u001b[0mtest_lb_vgg\u001b[0m\u001b[0;34m(\u001b[0m\u001b[0mconfig\u001b[0m\u001b[0;34m,\u001b[0m \u001b[0mtop_k_activation\u001b[0m\u001b[0;34m=\u001b[0m\u001b[0;36m5\u001b[0m\u001b[0;34m)\u001b[0m\u001b[0;34m\u001b[0m\u001b[0m\n\u001b[0m\u001b[1;32m      6\u001b[0m \u001b[0msimple_save_result_from_test_lb\u001b[0m\u001b[0;34m(\u001b[0m\u001b[0mbatch_img_list\u001b[0m\u001b[0;34m,\u001b[0m \u001b[0mresult\u001b[0m\u001b[0;34m,\u001b[0m \u001b[0mlabels\u001b[0m\u001b[0;34m,\u001b[0m \u001b[0mstage\u001b[0m\u001b[0;34m,\u001b[0m \u001b[0mconfig\u001b[0m\u001b[0;34m,\u001b[0m \u001b[0moutput_layer\u001b[0m\u001b[0;34m)\u001b[0m\u001b[0;34m\u001b[0m\u001b[0m\n",
      "\u001b[0;32m~/Desktop/keras_model/lookback_ops.py\u001b[0m in \u001b[0;36mtest_lb_vgg\u001b[0;34m(config, output_layer, top_k_activation)\u001b[0m\n\u001b[1;32m    405\u001b[0m   \u001b[0;31m# build forward model\u001b[0m\u001b[0;34m\u001b[0m\u001b[0;34m\u001b[0m\u001b[0m\n\u001b[1;32m    406\u001b[0m   \u001b[0mimages\u001b[0m \u001b[0;34m=\u001b[0m \u001b[0mtf\u001b[0m\u001b[0;34m.\u001b[0m\u001b[0mplaceholder\u001b[0m\u001b[0;34m(\u001b[0m\u001b[0mtf\u001b[0m\u001b[0;34m.\u001b[0m\u001b[0mfloat32\u001b[0m\u001b[0;34m,\u001b[0m \u001b[0;34m[\u001b[0m\u001b[0mconfig\u001b[0m\u001b[0;34m.\u001b[0m\u001b[0mmax_sequence_length\u001b[0m\u001b[0;34m,\u001b[0m \u001b[0;36m128\u001b[0m\u001b[0;34m,\u001b[0m \u001b[0;36m320\u001b[0m\u001b[0;34m,\u001b[0m \u001b[0;36m3\u001b[0m\u001b[0;34m]\u001b[0m\u001b[0;34m)\u001b[0m\u001b[0;34m\u001b[0m\u001b[0m\n\u001b[0;32m--> 407\u001b[0;31m   \u001b[0madaption_output\u001b[0m\u001b[0;34m,\u001b[0m \u001b[0mnet1m\u001b[0m\u001b[0;34m,\u001b[0m \u001b[0mnet2m\u001b[0m\u001b[0;34m,\u001b[0m \u001b[0mnet3m\u001b[0m\u001b[0;34m,\u001b[0m \u001b[0mvgg_out\u001b[0m\u001b[0;34m,\u001b[0m \u001b[0madaption_conv_output\u001b[0m\u001b[0;34m,\u001b[0m \u001b[0mnet_max_feature\u001b[0m \u001b[0;34m=\u001b[0m \u001b[0mforward_model\u001b[0m\u001b[0;34m(\u001b[0m\u001b[0mimages\u001b[0m\u001b[0;34m,\u001b[0m \u001b[0mconfig\u001b[0m\u001b[0;34m)\u001b[0m\u001b[0;34m\u001b[0m\u001b[0m\n\u001b[0m\u001b[1;32m    408\u001b[0m \u001b[0;34m\u001b[0m\u001b[0m\n\u001b[1;32m    409\u001b[0m   \u001b[0;31m# build model\u001b[0m\u001b[0;34m\u001b[0m\u001b[0;34m\u001b[0m\u001b[0m\n",
      "\u001b[0;32m~/Desktop/keras_model/lookback_ops.py\u001b[0m in \u001b[0;36mforward_model\u001b[0;34m(images, config)\u001b[0m\n\u001b[1;32m    387\u001b[0m     \u001b[0mimages\u001b[0m\u001b[0;34m:\u001b[0m \u001b[0mplaceholder\u001b[0m\u001b[0;34m\u001b[0m\u001b[0m\n\u001b[1;32m    388\u001b[0m   \"\"\"\n\u001b[0;32m--> 389\u001b[0;31m   \u001b[0madaption_output\u001b[0m\u001b[0;34m,\u001b[0m \u001b[0mnet1m\u001b[0m\u001b[0;34m,\u001b[0m \u001b[0mnet2m\u001b[0m\u001b[0;34m,\u001b[0m \u001b[0mnet3m\u001b[0m\u001b[0;34m,\u001b[0m \u001b[0mvgg_out\u001b[0m\u001b[0;34m,\u001b[0m \u001b[0madaption_conv_output\u001b[0m\u001b[0;34m,\u001b[0m \u001b[0mnet_max_feature\u001b[0m \u001b[0;34m=\u001b[0m \u001b[0mmax_model\u001b[0m\u001b[0;34m(\u001b[0m\u001b[0mimages\u001b[0m\u001b[0;34m,\u001b[0m \u001b[0mconfig\u001b[0m\u001b[0;34m)\u001b[0m\u001b[0;34m\u001b[0m\u001b[0m\n\u001b[0m\u001b[1;32m    390\u001b[0m   \u001b[0;32mreturn\u001b[0m \u001b[0madaption_output\u001b[0m\u001b[0;34m,\u001b[0m \u001b[0mnet1m\u001b[0m\u001b[0;34m,\u001b[0m \u001b[0mnet2m\u001b[0m\u001b[0;34m,\u001b[0m \u001b[0mnet3m\u001b[0m\u001b[0;34m,\u001b[0m \u001b[0mvgg_out\u001b[0m\u001b[0;34m,\u001b[0m \u001b[0madaption_conv_output\u001b[0m\u001b[0;34m,\u001b[0m \u001b[0mnet_max_feature\u001b[0m\u001b[0;34m\u001b[0m\u001b[0m\n\u001b[1;32m    391\u001b[0m \u001b[0;34m\u001b[0m\u001b[0m\n",
      "\u001b[0;32m~/Desktop/keras_model/lookback_ops.py\u001b[0m in \u001b[0;36mmax_model\u001b[0;34m(images, config)\u001b[0m\n\u001b[1;32m     68\u001b[0m      \u001b[0madaption_output\u001b[0m\u001b[0;34m,\u001b[0m \u001b[0mnet1m\u001b[0m\u001b[0;34m,\u001b[0m \u001b[0mnet2m\u001b[0m\u001b[0;34m,\u001b[0m \u001b[0mnet3m\u001b[0m\u001b[0;34m,\u001b[0m \u001b[0mnet4m\u001b[0m\u001b[0;34m,\u001b[0m \u001b[0mnet_max_feature\u001b[0m\u001b[0;34m\u001b[0m\u001b[0m\n\u001b[1;32m     69\u001b[0m   \"\"\"\n\u001b[0;32m---> 70\u001b[0;31m   \u001b[0mvgg_out\u001b[0m\u001b[0;34m,\u001b[0m \u001b[0mnet1m\u001b[0m\u001b[0;34m,\u001b[0m \u001b[0mnet2m\u001b[0m\u001b[0;34m,\u001b[0m \u001b[0mnet3m\u001b[0m\u001b[0;34m,\u001b[0m \u001b[0mnet4m\u001b[0m \u001b[0;34m=\u001b[0m \u001b[0mextract_feature\u001b[0m\u001b[0;34m(\u001b[0m\u001b[0mimages\u001b[0m\u001b[0;34m)\u001b[0m\u001b[0;34m\u001b[0m\u001b[0m\n\u001b[0m\u001b[1;32m     71\u001b[0m   \u001b[0mnet\u001b[0m \u001b[0;34m=\u001b[0m \u001b[0mvgg_out\u001b[0m\u001b[0;34m\u001b[0m\u001b[0m\n\u001b[1;32m     72\u001b[0m   \u001b[0;31m# if output_layer.startswith('vgg_16/'):\u001b[0m\u001b[0;34m\u001b[0m\u001b[0;34m\u001b[0m\u001b[0m\n",
      "\u001b[0;32m~/Desktop/keras_model/lookback_ops.py\u001b[0m in \u001b[0;36mextract_feature\u001b[0;34m(images, output_layer, stddev)\u001b[0m\n\u001b[1;32m     56\u001b[0m                         biases_initializer=tf.zeros_initializer()):\n\u001b[1;32m     57\u001b[0m       \u001b[0;32mwith\u001b[0m \u001b[0mslim\u001b[0m\u001b[0;34m.\u001b[0m\u001b[0marg_scope\u001b[0m\u001b[0;34m(\u001b[0m\u001b[0;34m[\u001b[0m\u001b[0mslim\u001b[0m\u001b[0;34m.\u001b[0m\u001b[0mconv2d\u001b[0m\u001b[0;34m]\u001b[0m\u001b[0;34m,\u001b[0m \u001b[0mpadding\u001b[0m\u001b[0;34m=\u001b[0m\u001b[0;34m'SAME'\u001b[0m\u001b[0;34m)\u001b[0m\u001b[0;34m:\u001b[0m\u001b[0;34m\u001b[0m\u001b[0m\n\u001b[0;32m---> 58\u001b[0;31m         \u001b[0m_\u001b[0m\u001b[0;34m,\u001b[0m \u001b[0mend_points\u001b[0m\u001b[0;34m,\u001b[0m \u001b[0mnet1m\u001b[0m\u001b[0;34m,\u001b[0m \u001b[0mnet2m\u001b[0m\u001b[0;34m,\u001b[0m \u001b[0mnet3m\u001b[0m\u001b[0;34m,\u001b[0m \u001b[0mnet4m\u001b[0m \u001b[0;34m=\u001b[0m \u001b[0mvgg_16\u001b[0m\u001b[0;34m(\u001b[0m\u001b[0mimages\u001b[0m\u001b[0;34m)\u001b[0m\u001b[0;34m\u001b[0m\u001b[0m\n\u001b[0m\u001b[1;32m     59\u001b[0m         \u001b[0moutput\u001b[0m \u001b[0;34m=\u001b[0m \u001b[0mend_points\u001b[0m\u001b[0;34m[\u001b[0m\u001b[0;34m'vgg_16/'\u001b[0m \u001b[0;34m+\u001b[0m \u001b[0moutput_layer\u001b[0m\u001b[0;34m]\u001b[0m\u001b[0;34m\u001b[0m\u001b[0m\n\u001b[1;32m     60\u001b[0m   \u001b[0;32mreturn\u001b[0m \u001b[0moutput\u001b[0m\u001b[0;34m,\u001b[0m \u001b[0mnet1m\u001b[0m\u001b[0;34m,\u001b[0m \u001b[0mnet2m\u001b[0m\u001b[0;34m,\u001b[0m \u001b[0mnet3m\u001b[0m\u001b[0;34m,\u001b[0m \u001b[0mnet4m\u001b[0m\u001b[0;34m\u001b[0m\u001b[0m\n",
      "\u001b[0;32m~/Desktop/keras_model/lookback_ops.py\u001b[0m in \u001b[0;36mvgg_16\u001b[0;34m(inputs, scope)\u001b[0m\n\u001b[1;32m     27\u001b[0m     with slim.arg_scope([slim.conv2d, slim.fully_connected, slim.max_pool2d],\n\u001b[1;32m     28\u001b[0m                         outputs_collections=end_points_collection):\n\u001b[0;32m---> 29\u001b[0;31m       \u001b[0mnet1\u001b[0m \u001b[0;34m=\u001b[0m \u001b[0mslim\u001b[0m\u001b[0;34m.\u001b[0m\u001b[0mrepeat\u001b[0m\u001b[0;34m(\u001b[0m\u001b[0minputs\u001b[0m\u001b[0;34m,\u001b[0m \u001b[0;36m2\u001b[0m\u001b[0;34m,\u001b[0m \u001b[0mslim\u001b[0m\u001b[0;34m.\u001b[0m\u001b[0mconv2d\u001b[0m\u001b[0;34m,\u001b[0m \u001b[0;36m64\u001b[0m\u001b[0;34m,\u001b[0m \u001b[0;34m[\u001b[0m\u001b[0;36m3\u001b[0m\u001b[0;34m,\u001b[0m \u001b[0;36m3\u001b[0m\u001b[0;34m]\u001b[0m\u001b[0;34m,\u001b[0m \u001b[0mscope\u001b[0m\u001b[0;34m=\u001b[0m\u001b[0;34m'conv1'\u001b[0m\u001b[0;34m)\u001b[0m\u001b[0;34m\u001b[0m\u001b[0m\n\u001b[0m\u001b[1;32m     30\u001b[0m       \u001b[0mnet1m\u001b[0m \u001b[0;34m=\u001b[0m \u001b[0mslim\u001b[0m\u001b[0;34m.\u001b[0m\u001b[0mmax_pool2d\u001b[0m\u001b[0;34m(\u001b[0m\u001b[0mnet1\u001b[0m\u001b[0;34m,\u001b[0m \u001b[0;34m[\u001b[0m\u001b[0;36m2\u001b[0m\u001b[0;34m,\u001b[0m \u001b[0;36m2\u001b[0m\u001b[0;34m]\u001b[0m\u001b[0;34m,\u001b[0m \u001b[0mscope\u001b[0m\u001b[0;34m=\u001b[0m\u001b[0;34m'pool1'\u001b[0m\u001b[0;34m)\u001b[0m\u001b[0;34m\u001b[0m\u001b[0m\n\u001b[1;32m     31\u001b[0m       \u001b[0mnet2\u001b[0m \u001b[0;34m=\u001b[0m \u001b[0mslim\u001b[0m\u001b[0;34m.\u001b[0m\u001b[0mrepeat\u001b[0m\u001b[0;34m(\u001b[0m\u001b[0mnet1m\u001b[0m\u001b[0;34m,\u001b[0m \u001b[0;36m2\u001b[0m\u001b[0;34m,\u001b[0m \u001b[0mslim\u001b[0m\u001b[0;34m.\u001b[0m\u001b[0mconv2d\u001b[0m\u001b[0;34m,\u001b[0m \u001b[0;36m128\u001b[0m\u001b[0;34m,\u001b[0m \u001b[0;34m[\u001b[0m\u001b[0;36m3\u001b[0m\u001b[0;34m,\u001b[0m \u001b[0;36m3\u001b[0m\u001b[0;34m]\u001b[0m\u001b[0;34m,\u001b[0m \u001b[0mscope\u001b[0m\u001b[0;34m=\u001b[0m\u001b[0;34m'conv2'\u001b[0m\u001b[0;34m)\u001b[0m\u001b[0;34m\u001b[0m\u001b[0m\n",
      "\u001b[0;32m~/pyenv/tf_py3/lib/python3.6/site-packages/tensorflow/contrib/layers/python/layers/layers.py\u001b[0m in \u001b[0;36mrepeat\u001b[0;34m(inputs, repetitions, layer, *args, **kwargs)\u001b[0m\n\u001b[1;32m   2058\u001b[0m     \u001b[0;32mfor\u001b[0m \u001b[0mi\u001b[0m \u001b[0;32min\u001b[0m \u001b[0mrange\u001b[0m\u001b[0;34m(\u001b[0m\u001b[0mrepetitions\u001b[0m\u001b[0;34m)\u001b[0m\u001b[0;34m:\u001b[0m\u001b[0;34m\u001b[0m\u001b[0m\n\u001b[1;32m   2059\u001b[0m       \u001b[0mkwargs\u001b[0m\u001b[0;34m[\u001b[0m\u001b[0;34m'scope'\u001b[0m\u001b[0;34m]\u001b[0m \u001b[0;34m=\u001b[0m \u001b[0mscope\u001b[0m \u001b[0;34m+\u001b[0m \u001b[0;34m'_'\u001b[0m \u001b[0;34m+\u001b[0m \u001b[0mstr\u001b[0m\u001b[0;34m(\u001b[0m\u001b[0mi\u001b[0m\u001b[0;34m+\u001b[0m\u001b[0;36m1\u001b[0m\u001b[0;34m)\u001b[0m\u001b[0;34m\u001b[0m\u001b[0m\n\u001b[0;32m-> 2060\u001b[0;31m       \u001b[0moutputs\u001b[0m \u001b[0;34m=\u001b[0m \u001b[0mlayer\u001b[0m\u001b[0;34m(\u001b[0m\u001b[0moutputs\u001b[0m\u001b[0;34m,\u001b[0m \u001b[0;34m*\u001b[0m\u001b[0margs\u001b[0m\u001b[0;34m,\u001b[0m \u001b[0;34m**\u001b[0m\u001b[0mkwargs\u001b[0m\u001b[0;34m)\u001b[0m\u001b[0;34m\u001b[0m\u001b[0m\n\u001b[0m\u001b[1;32m   2061\u001b[0m     \u001b[0;32mreturn\u001b[0m \u001b[0moutputs\u001b[0m\u001b[0;34m\u001b[0m\u001b[0m\n\u001b[1;32m   2062\u001b[0m \u001b[0;34m\u001b[0m\u001b[0m\n",
      "\u001b[0;32m~/pyenv/tf_py3/lib/python3.6/site-packages/tensorflow/contrib/framework/python/ops/arg_scope.py\u001b[0m in \u001b[0;36mfunc_with_args\u001b[0;34m(*args, **kwargs)\u001b[0m\n\u001b[1;32m    179\u001b[0m       \u001b[0mcurrent_args\u001b[0m \u001b[0;34m=\u001b[0m \u001b[0mcurrent_scope\u001b[0m\u001b[0;34m[\u001b[0m\u001b[0mkey_func\u001b[0m\u001b[0;34m]\u001b[0m\u001b[0;34m.\u001b[0m\u001b[0mcopy\u001b[0m\u001b[0;34m(\u001b[0m\u001b[0;34m)\u001b[0m\u001b[0;34m\u001b[0m\u001b[0m\n\u001b[1;32m    180\u001b[0m       \u001b[0mcurrent_args\u001b[0m\u001b[0;34m.\u001b[0m\u001b[0mupdate\u001b[0m\u001b[0;34m(\u001b[0m\u001b[0mkwargs\u001b[0m\u001b[0;34m)\u001b[0m\u001b[0;34m\u001b[0m\u001b[0m\n\u001b[0;32m--> 181\u001b[0;31m     \u001b[0;32mreturn\u001b[0m \u001b[0mfunc\u001b[0m\u001b[0;34m(\u001b[0m\u001b[0;34m*\u001b[0m\u001b[0margs\u001b[0m\u001b[0;34m,\u001b[0m \u001b[0;34m**\u001b[0m\u001b[0mcurrent_args\u001b[0m\u001b[0;34m)\u001b[0m\u001b[0;34m\u001b[0m\u001b[0m\n\u001b[0m\u001b[1;32m    182\u001b[0m   \u001b[0m_add_op\u001b[0m\u001b[0;34m(\u001b[0m\u001b[0mfunc\u001b[0m\u001b[0;34m)\u001b[0m\u001b[0;34m\u001b[0m\u001b[0m\n\u001b[1;32m    183\u001b[0m   \u001b[0msetattr\u001b[0m\u001b[0;34m(\u001b[0m\u001b[0mfunc_with_args\u001b[0m\u001b[0;34m,\u001b[0m \u001b[0;34m'_key_op'\u001b[0m\u001b[0;34m,\u001b[0m \u001b[0m_key_op\u001b[0m\u001b[0;34m(\u001b[0m\u001b[0mfunc\u001b[0m\u001b[0;34m)\u001b[0m\u001b[0;34m)\u001b[0m\u001b[0;34m\u001b[0m\u001b[0m\n",
      "\u001b[0;32m~/pyenv/tf_py3/lib/python3.6/site-packages/tensorflow/contrib/layers/python/layers/layers.py\u001b[0m in \u001b[0;36mconvolution\u001b[0;34m(inputs, num_outputs, kernel_size, stride, padding, data_format, rate, activation_fn, normalizer_fn, normalizer_params, weights_initializer, weights_regularizer, biases_initializer, biases_regularizer, reuse, variables_collections, outputs_collections, trainable, scope)\u001b[0m\n\u001b[1;32m   1025\u001b[0m                         \u001b[0m_scope\u001b[0m\u001b[0;34m=\u001b[0m\u001b[0msc\u001b[0m\u001b[0;34m,\u001b[0m\u001b[0;34m\u001b[0m\u001b[0m\n\u001b[1;32m   1026\u001b[0m                         _reuse=reuse)\n\u001b[0;32m-> 1027\u001b[0;31m     \u001b[0moutputs\u001b[0m \u001b[0;34m=\u001b[0m \u001b[0mlayer\u001b[0m\u001b[0;34m.\u001b[0m\u001b[0mapply\u001b[0m\u001b[0;34m(\u001b[0m\u001b[0minputs\u001b[0m\u001b[0;34m)\u001b[0m\u001b[0;34m\u001b[0m\u001b[0m\n\u001b[0m\u001b[1;32m   1028\u001b[0m \u001b[0;34m\u001b[0m\u001b[0m\n\u001b[1;32m   1029\u001b[0m     \u001b[0;31m# Add variables to collections.\u001b[0m\u001b[0;34m\u001b[0m\u001b[0;34m\u001b[0m\u001b[0m\n",
      "\u001b[0;32m~/pyenv/tf_py3/lib/python3.6/site-packages/tensorflow/python/layers/base.py\u001b[0m in \u001b[0;36mapply\u001b[0;34m(self, inputs, *args, **kwargs)\u001b[0m\n\u001b[1;32m    501\u001b[0m       \u001b[0mOutput\u001b[0m \u001b[0mtensor\u001b[0m\u001b[0;34m(\u001b[0m\u001b[0ms\u001b[0m\u001b[0;34m)\u001b[0m\u001b[0;34m.\u001b[0m\u001b[0;34m\u001b[0m\u001b[0m\n\u001b[1;32m    502\u001b[0m     \"\"\"\n\u001b[0;32m--> 503\u001b[0;31m     \u001b[0;32mreturn\u001b[0m \u001b[0mself\u001b[0m\u001b[0;34m.\u001b[0m\u001b[0m__call__\u001b[0m\u001b[0;34m(\u001b[0m\u001b[0minputs\u001b[0m\u001b[0;34m,\u001b[0m \u001b[0;34m*\u001b[0m\u001b[0margs\u001b[0m\u001b[0;34m,\u001b[0m \u001b[0;34m**\u001b[0m\u001b[0mkwargs\u001b[0m\u001b[0;34m)\u001b[0m\u001b[0;34m\u001b[0m\u001b[0m\n\u001b[0m\u001b[1;32m    504\u001b[0m \u001b[0;34m\u001b[0m\u001b[0m\n\u001b[1;32m    505\u001b[0m   \u001b[0;32mdef\u001b[0m \u001b[0m_assert_input_compatibility\u001b[0m\u001b[0;34m(\u001b[0m\u001b[0mself\u001b[0m\u001b[0;34m,\u001b[0m \u001b[0minputs\u001b[0m\u001b[0;34m)\u001b[0m\u001b[0;34m:\u001b[0m\u001b[0;34m\u001b[0m\u001b[0m\n",
      "\u001b[0;32m~/pyenv/tf_py3/lib/python3.6/site-packages/tensorflow/python/layers/base.py\u001b[0m in \u001b[0;36m__call__\u001b[0;34m(self, inputs, *args, **kwargs)\u001b[0m\n\u001b[1;32m    441\u001b[0m           \u001b[0minput_shapes\u001b[0m \u001b[0;34m=\u001b[0m \u001b[0;34m[\u001b[0m\u001b[0mx\u001b[0m\u001b[0;34m.\u001b[0m\u001b[0mget_shape\u001b[0m\u001b[0;34m(\u001b[0m\u001b[0;34m)\u001b[0m \u001b[0;32mfor\u001b[0m \u001b[0mx\u001b[0m \u001b[0;32min\u001b[0m \u001b[0minput_list\u001b[0m\u001b[0;34m]\u001b[0m\u001b[0;34m\u001b[0m\u001b[0m\n\u001b[1;32m    442\u001b[0m           \u001b[0;32mif\u001b[0m \u001b[0mlen\u001b[0m\u001b[0;34m(\u001b[0m\u001b[0minput_shapes\u001b[0m\u001b[0;34m)\u001b[0m \u001b[0;34m==\u001b[0m \u001b[0;36m1\u001b[0m\u001b[0;34m:\u001b[0m\u001b[0;34m\u001b[0m\u001b[0m\n\u001b[0;32m--> 443\u001b[0;31m             \u001b[0mself\u001b[0m\u001b[0;34m.\u001b[0m\u001b[0mbuild\u001b[0m\u001b[0;34m(\u001b[0m\u001b[0minput_shapes\u001b[0m\u001b[0;34m[\u001b[0m\u001b[0;36m0\u001b[0m\u001b[0;34m]\u001b[0m\u001b[0;34m)\u001b[0m\u001b[0;34m\u001b[0m\u001b[0m\n\u001b[0m\u001b[1;32m    444\u001b[0m           \u001b[0;32melse\u001b[0m\u001b[0;34m:\u001b[0m\u001b[0;34m\u001b[0m\u001b[0m\n\u001b[1;32m    445\u001b[0m             \u001b[0mself\u001b[0m\u001b[0;34m.\u001b[0m\u001b[0mbuild\u001b[0m\u001b[0;34m(\u001b[0m\u001b[0minput_shapes\u001b[0m\u001b[0;34m)\u001b[0m\u001b[0;34m\u001b[0m\u001b[0m\n",
      "\u001b[0;32m~/pyenv/tf_py3/lib/python3.6/site-packages/tensorflow/python/layers/convolutional.py\u001b[0m in \u001b[0;36mbuild\u001b[0;34m(self, input_shape)\u001b[0m\n\u001b[1;32m    135\u001b[0m                                     \u001b[0mregularizer\u001b[0m\u001b[0;34m=\u001b[0m\u001b[0mself\u001b[0m\u001b[0;34m.\u001b[0m\u001b[0mkernel_regularizer\u001b[0m\u001b[0;34m,\u001b[0m\u001b[0;34m\u001b[0m\u001b[0m\n\u001b[1;32m    136\u001b[0m                                     \u001b[0mtrainable\u001b[0m\u001b[0;34m=\u001b[0m\u001b[0;32mTrue\u001b[0m\u001b[0;34m,\u001b[0m\u001b[0;34m\u001b[0m\u001b[0m\n\u001b[0;32m--> 137\u001b[0;31m                                     dtype=self.dtype)\n\u001b[0m\u001b[1;32m    138\u001b[0m     \u001b[0;32mif\u001b[0m \u001b[0mself\u001b[0m\u001b[0;34m.\u001b[0m\u001b[0muse_bias\u001b[0m\u001b[0;34m:\u001b[0m\u001b[0;34m\u001b[0m\u001b[0m\n\u001b[1;32m    139\u001b[0m       self.bias = self.add_variable(name='bias',\n",
      "\u001b[0;32m~/pyenv/tf_py3/lib/python3.6/site-packages/tensorflow/python/layers/base.py\u001b[0m in \u001b[0;36madd_variable\u001b[0;34m(self, name, shape, dtype, initializer, regularizer, trainable)\u001b[0m\n\u001b[1;32m    381\u001b[0m                                    \u001b[0minitializer\u001b[0m\u001b[0;34m=\u001b[0m\u001b[0minitializer\u001b[0m\u001b[0;34m,\u001b[0m\u001b[0;34m\u001b[0m\u001b[0m\n\u001b[1;32m    382\u001b[0m                                    \u001b[0mdtype\u001b[0m\u001b[0;34m=\u001b[0m\u001b[0mdtypes\u001b[0m\u001b[0;34m.\u001b[0m\u001b[0mas_dtype\u001b[0m\u001b[0;34m(\u001b[0m\u001b[0mdtype\u001b[0m\u001b[0;34m)\u001b[0m\u001b[0;34m,\u001b[0m\u001b[0;34m\u001b[0m\u001b[0m\n\u001b[0;32m--> 383\u001b[0;31m                                    trainable=trainable and self.trainable)\n\u001b[0m\u001b[1;32m    384\u001b[0m         \u001b[0;32mif\u001b[0m \u001b[0mvariable\u001b[0m \u001b[0;32min\u001b[0m \u001b[0mexisting_variables\u001b[0m\u001b[0;34m:\u001b[0m\u001b[0;34m\u001b[0m\u001b[0m\n\u001b[1;32m    385\u001b[0m           \u001b[0;32mreturn\u001b[0m \u001b[0mvariable\u001b[0m\u001b[0;34m\u001b[0m\u001b[0m\n",
      "\u001b[0;32m~/pyenv/tf_py3/lib/python3.6/site-packages/tensorflow/python/ops/variable_scope.py\u001b[0m in \u001b[0;36mget_variable\u001b[0;34m(name, shape, dtype, initializer, regularizer, trainable, collections, caching_device, partitioner, validate_shape, use_resource, custom_getter)\u001b[0m\n\u001b[1;32m   1063\u001b[0m       \u001b[0mcollections\u001b[0m\u001b[0;34m=\u001b[0m\u001b[0mcollections\u001b[0m\u001b[0;34m,\u001b[0m \u001b[0mcaching_device\u001b[0m\u001b[0;34m=\u001b[0m\u001b[0mcaching_device\u001b[0m\u001b[0;34m,\u001b[0m\u001b[0;34m\u001b[0m\u001b[0m\n\u001b[1;32m   1064\u001b[0m       \u001b[0mpartitioner\u001b[0m\u001b[0;34m=\u001b[0m\u001b[0mpartitioner\u001b[0m\u001b[0;34m,\u001b[0m \u001b[0mvalidate_shape\u001b[0m\u001b[0;34m=\u001b[0m\u001b[0mvalidate_shape\u001b[0m\u001b[0;34m,\u001b[0m\u001b[0;34m\u001b[0m\u001b[0m\n\u001b[0;32m-> 1065\u001b[0;31m       use_resource=use_resource, custom_getter=custom_getter)\n\u001b[0m\u001b[1;32m   1066\u001b[0m get_variable_or_local_docstring = (\n\u001b[1;32m   1067\u001b[0m     \"\"\"%s\n",
      "\u001b[0;32m~/pyenv/tf_py3/lib/python3.6/site-packages/tensorflow/python/ops/variable_scope.py\u001b[0m in \u001b[0;36mget_variable\u001b[0;34m(self, var_store, name, shape, dtype, initializer, regularizer, reuse, trainable, collections, caching_device, partitioner, validate_shape, use_resource, custom_getter)\u001b[0m\n\u001b[1;32m    960\u001b[0m           \u001b[0mcollections\u001b[0m\u001b[0;34m=\u001b[0m\u001b[0mcollections\u001b[0m\u001b[0;34m,\u001b[0m \u001b[0mcaching_device\u001b[0m\u001b[0;34m=\u001b[0m\u001b[0mcaching_device\u001b[0m\u001b[0;34m,\u001b[0m\u001b[0;34m\u001b[0m\u001b[0m\n\u001b[1;32m    961\u001b[0m           \u001b[0mpartitioner\u001b[0m\u001b[0;34m=\u001b[0m\u001b[0mpartitioner\u001b[0m\u001b[0;34m,\u001b[0m \u001b[0mvalidate_shape\u001b[0m\u001b[0;34m=\u001b[0m\u001b[0mvalidate_shape\u001b[0m\u001b[0;34m,\u001b[0m\u001b[0;34m\u001b[0m\u001b[0m\n\u001b[0;32m--> 962\u001b[0;31m           use_resource=use_resource, custom_getter=custom_getter)\n\u001b[0m\u001b[1;32m    963\u001b[0m \u001b[0;34m\u001b[0m\u001b[0m\n\u001b[1;32m    964\u001b[0m   def _get_partitioned_variable(self,\n",
      "\u001b[0;32m~/pyenv/tf_py3/lib/python3.6/site-packages/tensorflow/python/ops/variable_scope.py\u001b[0m in \u001b[0;36mget_variable\u001b[0;34m(self, name, shape, dtype, initializer, regularizer, reuse, trainable, collections, caching_device, partitioner, validate_shape, use_resource, custom_getter)\u001b[0m\n\u001b[1;32m    358\u001b[0m           \u001b[0mreuse\u001b[0m\u001b[0;34m=\u001b[0m\u001b[0mreuse\u001b[0m\u001b[0;34m,\u001b[0m \u001b[0mtrainable\u001b[0m\u001b[0;34m=\u001b[0m\u001b[0mtrainable\u001b[0m\u001b[0;34m,\u001b[0m \u001b[0mcollections\u001b[0m\u001b[0;34m=\u001b[0m\u001b[0mcollections\u001b[0m\u001b[0;34m,\u001b[0m\u001b[0;34m\u001b[0m\u001b[0m\n\u001b[1;32m    359\u001b[0m           \u001b[0mcaching_device\u001b[0m\u001b[0;34m=\u001b[0m\u001b[0mcaching_device\u001b[0m\u001b[0;34m,\u001b[0m \u001b[0mpartitioner\u001b[0m\u001b[0;34m=\u001b[0m\u001b[0mpartitioner\u001b[0m\u001b[0;34m,\u001b[0m\u001b[0;34m\u001b[0m\u001b[0m\n\u001b[0;32m--> 360\u001b[0;31m           validate_shape=validate_shape, use_resource=use_resource)\n\u001b[0m\u001b[1;32m    361\u001b[0m     \u001b[0;32melse\u001b[0m\u001b[0;34m:\u001b[0m\u001b[0;34m\u001b[0m\u001b[0m\n\u001b[1;32m    362\u001b[0m       return _true_getter(\n",
      "\u001b[0;32m~/pyenv/tf_py3/lib/python3.6/site-packages/tensorflow/contrib/layers/python/layers/layers.py\u001b[0m in \u001b[0;36mlayer_variable_getter\u001b[0;34m(getter, *args, **kwargs)\u001b[0m\n\u001b[1;32m   1559\u001b[0m   \u001b[0;32mdef\u001b[0m \u001b[0mlayer_variable_getter\u001b[0m\u001b[0;34m(\u001b[0m\u001b[0mgetter\u001b[0m\u001b[0;34m,\u001b[0m \u001b[0;34m*\u001b[0m\u001b[0margs\u001b[0m\u001b[0;34m,\u001b[0m \u001b[0;34m**\u001b[0m\u001b[0mkwargs\u001b[0m\u001b[0;34m)\u001b[0m\u001b[0;34m:\u001b[0m\u001b[0;34m\u001b[0m\u001b[0m\n\u001b[1;32m   1560\u001b[0m     \u001b[0mkwargs\u001b[0m\u001b[0;34m[\u001b[0m\u001b[0;34m'rename'\u001b[0m\u001b[0;34m]\u001b[0m \u001b[0;34m=\u001b[0m \u001b[0mrename\u001b[0m\u001b[0;34m\u001b[0m\u001b[0m\n\u001b[0;32m-> 1561\u001b[0;31m     \u001b[0;32mreturn\u001b[0m \u001b[0m_model_variable_getter\u001b[0m\u001b[0;34m(\u001b[0m\u001b[0mgetter\u001b[0m\u001b[0;34m,\u001b[0m \u001b[0;34m*\u001b[0m\u001b[0margs\u001b[0m\u001b[0;34m,\u001b[0m \u001b[0;34m**\u001b[0m\u001b[0mkwargs\u001b[0m\u001b[0;34m)\u001b[0m\u001b[0;34m\u001b[0m\u001b[0m\n\u001b[0m\u001b[1;32m   1562\u001b[0m   \u001b[0;32mreturn\u001b[0m \u001b[0mlayer_variable_getter\u001b[0m\u001b[0;34m\u001b[0m\u001b[0m\n\u001b[1;32m   1563\u001b[0m \u001b[0;34m\u001b[0m\u001b[0m\n",
      "\u001b[0;32m~/pyenv/tf_py3/lib/python3.6/site-packages/tensorflow/contrib/layers/python/layers/layers.py\u001b[0m in \u001b[0;36m_model_variable_getter\u001b[0;34m(getter, name, shape, dtype, initializer, regularizer, trainable, collections, caching_device, partitioner, rename, use_resource, **_)\u001b[0m\n\u001b[1;32m   1551\u001b[0m       \u001b[0mregularizer\u001b[0m\u001b[0;34m=\u001b[0m\u001b[0mregularizer\u001b[0m\u001b[0;34m,\u001b[0m \u001b[0mcollections\u001b[0m\u001b[0;34m=\u001b[0m\u001b[0mcollections\u001b[0m\u001b[0;34m,\u001b[0m \u001b[0mtrainable\u001b[0m\u001b[0;34m=\u001b[0m\u001b[0mtrainable\u001b[0m\u001b[0;34m,\u001b[0m\u001b[0;34m\u001b[0m\u001b[0m\n\u001b[1;32m   1552\u001b[0m       \u001b[0mcaching_device\u001b[0m\u001b[0;34m=\u001b[0m\u001b[0mcaching_device\u001b[0m\u001b[0;34m,\u001b[0m \u001b[0mpartitioner\u001b[0m\u001b[0;34m=\u001b[0m\u001b[0mpartitioner\u001b[0m\u001b[0;34m,\u001b[0m\u001b[0;34m\u001b[0m\u001b[0m\n\u001b[0;32m-> 1553\u001b[0;31m       custom_getter=getter, use_resource=use_resource)\n\u001b[0m\u001b[1;32m   1554\u001b[0m \u001b[0;34m\u001b[0m\u001b[0m\n\u001b[1;32m   1555\u001b[0m \u001b[0;34m\u001b[0m\u001b[0m\n",
      "\u001b[0;32m~/pyenv/tf_py3/lib/python3.6/site-packages/tensorflow/contrib/framework/python/ops/arg_scope.py\u001b[0m in \u001b[0;36mfunc_with_args\u001b[0;34m(*args, **kwargs)\u001b[0m\n\u001b[1;32m    179\u001b[0m       \u001b[0mcurrent_args\u001b[0m \u001b[0;34m=\u001b[0m \u001b[0mcurrent_scope\u001b[0m\u001b[0;34m[\u001b[0m\u001b[0mkey_func\u001b[0m\u001b[0;34m]\u001b[0m\u001b[0;34m.\u001b[0m\u001b[0mcopy\u001b[0m\u001b[0;34m(\u001b[0m\u001b[0;34m)\u001b[0m\u001b[0;34m\u001b[0m\u001b[0m\n\u001b[1;32m    180\u001b[0m       \u001b[0mcurrent_args\u001b[0m\u001b[0;34m.\u001b[0m\u001b[0mupdate\u001b[0m\u001b[0;34m(\u001b[0m\u001b[0mkwargs\u001b[0m\u001b[0;34m)\u001b[0m\u001b[0;34m\u001b[0m\u001b[0m\n\u001b[0;32m--> 181\u001b[0;31m     \u001b[0;32mreturn\u001b[0m \u001b[0mfunc\u001b[0m\u001b[0;34m(\u001b[0m\u001b[0;34m*\u001b[0m\u001b[0margs\u001b[0m\u001b[0;34m,\u001b[0m \u001b[0;34m**\u001b[0m\u001b[0mcurrent_args\u001b[0m\u001b[0;34m)\u001b[0m\u001b[0;34m\u001b[0m\u001b[0m\n\u001b[0m\u001b[1;32m    182\u001b[0m   \u001b[0m_add_op\u001b[0m\u001b[0;34m(\u001b[0m\u001b[0mfunc\u001b[0m\u001b[0;34m)\u001b[0m\u001b[0;34m\u001b[0m\u001b[0m\n\u001b[1;32m    183\u001b[0m   \u001b[0msetattr\u001b[0m\u001b[0;34m(\u001b[0m\u001b[0mfunc_with_args\u001b[0m\u001b[0;34m,\u001b[0m \u001b[0;34m'_key_op'\u001b[0m\u001b[0;34m,\u001b[0m \u001b[0m_key_op\u001b[0m\u001b[0;34m(\u001b[0m\u001b[0mfunc\u001b[0m\u001b[0;34m)\u001b[0m\u001b[0;34m)\u001b[0m\u001b[0;34m\u001b[0m\u001b[0m\n",
      "\u001b[0;32m~/pyenv/tf_py3/lib/python3.6/site-packages/tensorflow/contrib/framework/python/ops/variables.py\u001b[0m in \u001b[0;36mmodel_variable\u001b[0;34m(name, shape, dtype, initializer, regularizer, trainable, collections, caching_device, device, partitioner, custom_getter, use_resource)\u001b[0m\n\u001b[1;32m    259\u001b[0m                  \u001b[0mcaching_device\u001b[0m\u001b[0;34m=\u001b[0m\u001b[0mcaching_device\u001b[0m\u001b[0;34m,\u001b[0m \u001b[0mdevice\u001b[0m\u001b[0;34m=\u001b[0m\u001b[0mdevice\u001b[0m\u001b[0;34m,\u001b[0m\u001b[0;34m\u001b[0m\u001b[0m\n\u001b[1;32m    260\u001b[0m                  \u001b[0mpartitioner\u001b[0m\u001b[0;34m=\u001b[0m\u001b[0mpartitioner\u001b[0m\u001b[0;34m,\u001b[0m \u001b[0mcustom_getter\u001b[0m\u001b[0;34m=\u001b[0m\u001b[0mcustom_getter\u001b[0m\u001b[0;34m,\u001b[0m\u001b[0;34m\u001b[0m\u001b[0m\n\u001b[0;32m--> 261\u001b[0;31m                  use_resource=use_resource)\n\u001b[0m\u001b[1;32m    262\u001b[0m   \u001b[0;32mreturn\u001b[0m \u001b[0mvar\u001b[0m\u001b[0;34m\u001b[0m\u001b[0m\n\u001b[1;32m    263\u001b[0m \u001b[0;34m\u001b[0m\u001b[0m\n",
      "\u001b[0;32m~/pyenv/tf_py3/lib/python3.6/site-packages/tensorflow/contrib/framework/python/ops/arg_scope.py\u001b[0m in \u001b[0;36mfunc_with_args\u001b[0;34m(*args, **kwargs)\u001b[0m\n\u001b[1;32m    179\u001b[0m       \u001b[0mcurrent_args\u001b[0m \u001b[0;34m=\u001b[0m \u001b[0mcurrent_scope\u001b[0m\u001b[0;34m[\u001b[0m\u001b[0mkey_func\u001b[0m\u001b[0;34m]\u001b[0m\u001b[0;34m.\u001b[0m\u001b[0mcopy\u001b[0m\u001b[0;34m(\u001b[0m\u001b[0;34m)\u001b[0m\u001b[0;34m\u001b[0m\u001b[0m\n\u001b[1;32m    180\u001b[0m       \u001b[0mcurrent_args\u001b[0m\u001b[0;34m.\u001b[0m\u001b[0mupdate\u001b[0m\u001b[0;34m(\u001b[0m\u001b[0mkwargs\u001b[0m\u001b[0;34m)\u001b[0m\u001b[0;34m\u001b[0m\u001b[0m\n\u001b[0;32m--> 181\u001b[0;31m     \u001b[0;32mreturn\u001b[0m \u001b[0mfunc\u001b[0m\u001b[0;34m(\u001b[0m\u001b[0;34m*\u001b[0m\u001b[0margs\u001b[0m\u001b[0;34m,\u001b[0m \u001b[0;34m**\u001b[0m\u001b[0mcurrent_args\u001b[0m\u001b[0;34m)\u001b[0m\u001b[0;34m\u001b[0m\u001b[0m\n\u001b[0m\u001b[1;32m    182\u001b[0m   \u001b[0m_add_op\u001b[0m\u001b[0;34m(\u001b[0m\u001b[0mfunc\u001b[0m\u001b[0;34m)\u001b[0m\u001b[0;34m\u001b[0m\u001b[0m\n\u001b[1;32m    183\u001b[0m   \u001b[0msetattr\u001b[0m\u001b[0;34m(\u001b[0m\u001b[0mfunc_with_args\u001b[0m\u001b[0;34m,\u001b[0m \u001b[0;34m'_key_op'\u001b[0m\u001b[0;34m,\u001b[0m \u001b[0m_key_op\u001b[0m\u001b[0;34m(\u001b[0m\u001b[0mfunc\u001b[0m\u001b[0;34m)\u001b[0m\u001b[0;34m)\u001b[0m\u001b[0;34m\u001b[0m\u001b[0m\n",
      "\u001b[0;32m~/pyenv/tf_py3/lib/python3.6/site-packages/tensorflow/contrib/framework/python/ops/variables.py\u001b[0m in \u001b[0;36mvariable\u001b[0;34m(name, shape, dtype, initializer, regularizer, trainable, collections, caching_device, device, partitioner, custom_getter, use_resource)\u001b[0m\n\u001b[1;32m    214\u001b[0m                   \u001b[0mcaching_device\u001b[0m\u001b[0;34m=\u001b[0m\u001b[0mcaching_device\u001b[0m\u001b[0;34m,\u001b[0m\u001b[0;34m\u001b[0m\u001b[0m\n\u001b[1;32m    215\u001b[0m                   \u001b[0mpartitioner\u001b[0m\u001b[0;34m=\u001b[0m\u001b[0mpartitioner\u001b[0m\u001b[0;34m,\u001b[0m\u001b[0;34m\u001b[0m\u001b[0m\n\u001b[0;32m--> 216\u001b[0;31m                   use_resource=use_resource)\n\u001b[0m\u001b[1;32m    217\u001b[0m \u001b[0;34m\u001b[0m\u001b[0m\n\u001b[1;32m    218\u001b[0m \u001b[0;34m\u001b[0m\u001b[0m\n",
      "\u001b[0;32m~/pyenv/tf_py3/lib/python3.6/site-packages/tensorflow/python/ops/variable_scope.py\u001b[0m in \u001b[0;36m_true_getter\u001b[0;34m(name, shape, dtype, initializer, regularizer, reuse, trainable, collections, caching_device, partitioner, validate_shape, use_resource)\u001b[0m\n\u001b[1;32m    350\u001b[0m           \u001b[0mtrainable\u001b[0m\u001b[0;34m=\u001b[0m\u001b[0mtrainable\u001b[0m\u001b[0;34m,\u001b[0m \u001b[0mcollections\u001b[0m\u001b[0;34m=\u001b[0m\u001b[0mcollections\u001b[0m\u001b[0;34m,\u001b[0m\u001b[0;34m\u001b[0m\u001b[0m\n\u001b[1;32m    351\u001b[0m           \u001b[0mcaching_device\u001b[0m\u001b[0;34m=\u001b[0m\u001b[0mcaching_device\u001b[0m\u001b[0;34m,\u001b[0m \u001b[0mvalidate_shape\u001b[0m\u001b[0;34m=\u001b[0m\u001b[0mvalidate_shape\u001b[0m\u001b[0;34m,\u001b[0m\u001b[0;34m\u001b[0m\u001b[0m\n\u001b[0;32m--> 352\u001b[0;31m           use_resource=use_resource)\n\u001b[0m\u001b[1;32m    353\u001b[0m \u001b[0;34m\u001b[0m\u001b[0m\n\u001b[1;32m    354\u001b[0m     \u001b[0;32mif\u001b[0m \u001b[0mcustom_getter\u001b[0m \u001b[0;32mis\u001b[0m \u001b[0;32mnot\u001b[0m \u001b[0;32mNone\u001b[0m\u001b[0;34m:\u001b[0m\u001b[0;34m\u001b[0m\u001b[0m\n",
      "\u001b[0;32m~/pyenv/tf_py3/lib/python3.6/site-packages/tensorflow/python/ops/variable_scope.py\u001b[0m in \u001b[0;36m_get_single_variable\u001b[0;34m(self, name, shape, dtype, initializer, regularizer, partition_info, reuse, trainable, collections, caching_device, validate_shape, use_resource)\u001b[0m\n\u001b[1;32m    662\u001b[0m                          \u001b[0;34m\" Did you mean to set reuse=True in VarScope? \"\u001b[0m\u001b[0;34m\u001b[0m\u001b[0m\n\u001b[1;32m    663\u001b[0m                          \"Originally defined at:\\n\\n%s\" % (\n\u001b[0;32m--> 664\u001b[0;31m                              name, \"\".join(traceback.format_list(tb))))\n\u001b[0m\u001b[1;32m    665\u001b[0m       \u001b[0mfound_var\u001b[0m \u001b[0;34m=\u001b[0m \u001b[0mself\u001b[0m\u001b[0;34m.\u001b[0m\u001b[0m_vars\u001b[0m\u001b[0;34m[\u001b[0m\u001b[0mname\u001b[0m\u001b[0;34m]\u001b[0m\u001b[0;34m\u001b[0m\u001b[0m\n\u001b[1;32m    666\u001b[0m       \u001b[0;32mif\u001b[0m \u001b[0;32mnot\u001b[0m \u001b[0mshape\u001b[0m\u001b[0;34m.\u001b[0m\u001b[0mis_compatible_with\u001b[0m\u001b[0;34m(\u001b[0m\u001b[0mfound_var\u001b[0m\u001b[0;34m.\u001b[0m\u001b[0mget_shape\u001b[0m\u001b[0;34m(\u001b[0m\u001b[0;34m)\u001b[0m\u001b[0;34m)\u001b[0m\u001b[0;34m:\u001b[0m\u001b[0;34m\u001b[0m\u001b[0m\n",
      "\u001b[0;31mValueError\u001b[0m: Variable vgg_16/conv1/conv1_1/weights already exists, disallowed. Did you mean to set reuse=True in VarScope? Originally defined at:\n\n  File \"/Users/junr/pyenv/tf_py3/lib/python3.6/site-packages/tensorflow/contrib/framework/python/ops/variables.py\", line 216, in variable\n    use_resource=use_resource)\n  File \"/Users/junr/pyenv/tf_py3/lib/python3.6/site-packages/tensorflow/contrib/framework/python/ops/arg_scope.py\", line 181, in func_with_args\n    return func(*args, **current_args)\n  File \"/Users/junr/pyenv/tf_py3/lib/python3.6/site-packages/tensorflow/contrib/framework/python/ops/variables.py\", line 261, in model_variable\n    use_resource=use_resource)\n"
     ]
    }
   ],
   "source": [
    "from lookback_ops import *\n",
    "\n",
    "config = return_a_config()\n",
    "output_layer = 'conv2'\n",
    "batch_img_list, result, labels, stage = test_lb_vgg(config, top_k_activation=5)\n",
    "simple_save_result_from_test_lb(batch_img_list, result, labels, stage, config, output_layer)"
   ]
  },
  {
   "cell_type": "code",
   "execution_count": 1,
   "metadata": {},
   "outputs": [
    {
     "name": "stdout",
     "output_type": "stream",
     "text": [
      "INFO:tensorflow:Restoring parameters from /Users/junr/Documents/prp/pic_data/model/6-10/max.ckpt\n"
     ]
    },
    {
     "name": "stderr",
     "output_type": "stream",
     "text": [
      "/Users/junr/pyenv/tf_py3/lib/python3.6/site-packages/skimage/util/dtype.py:122: UserWarning: Possible precision loss when converting from float64 to uint8\n",
      "  .format(dtypeobj_in, dtypeobj_out))\n",
      "/Users/junr/pyenv/tf_py3/lib/python3.6/site-packages/skimage/util/dtype.py:122: UserWarning: Possible precision loss when converting from float32 to uint8\n",
      "  .format(dtypeobj_in, dtypeobj_out))\n",
      "/Users/junr/pyenv/tf_py3/lib/python3.6/site-packages/skimage/io/_io.py:132: UserWarning: /Users/junr/Documents/prp/pic_data/model/6-10/CG74796/conv1/1/embryonic hindgut3.bmp is a low contrast image\n",
      "  warn('%s is a low contrast image' % fname)\n",
      "/Users/junr/pyenv/tf_py3/lib/python3.6/site-packages/skimage/io/_io.py:132: UserWarning: /Users/junr/Documents/prp/pic_data/model/6-10/CG74796/conv1/2/embryonic midgut3.bmp is a low contrast image\n",
      "  warn('%s is a low contrast image' % fname)\n"
     ]
    }
   ],
   "source": [
    "from lookback_ops import *\n",
    "\n",
    "config = return_a_config()\n",
    "output_layer = 'conv1'\n",
    "batch_img_list, result, labels, stage = test_lb_vgg(config, top_k_activation=5)\n",
    "simple_save_result_from_test_lb(batch_img_list, result, labels, stage, config, output_layer)"
   ]
  },
  {
   "cell_type": "code",
   "execution_count": 1,
   "metadata": {},
   "outputs": [
    {
     "name": "stdout",
     "output_type": "stream",
     "text": [
      "INFO:tensorflow:Restoring parameters from /Users/junr/Documents/prp/pic_data/model/6-10/max.ckpt\n"
     ]
    },
    {
     "name": "stderr",
     "output_type": "stream",
     "text": [
      "/Users/junr/pyenv/tf_py3/lib/python3.6/site-packages/skimage/util/dtype.py:122: UserWarning: Possible precision loss when converting from float64 to uint8\n",
      "  .format(dtypeobj_in, dtypeobj_out))\n",
      "/Users/junr/pyenv/tf_py3/lib/python3.6/site-packages/skimage/util/dtype.py:122: UserWarning: Possible precision loss when converting from float32 to uint8\n",
      "  .format(dtypeobj_in, dtypeobj_out))\n",
      "/Users/junr/pyenv/tf_py3/lib/python3.6/site-packages/skimage/io/_io.py:132: UserWarning: /Users/junr/Documents/prp/pic_data/model/6-10/CG74796/conv2/1/embryonic hindgut3.bmp is a low contrast image\n",
      "  warn('%s is a low contrast image' % fname)\n",
      "/Users/junr/pyenv/tf_py3/lib/python3.6/site-packages/skimage/io/_io.py:132: UserWarning: /Users/junr/Documents/prp/pic_data/model/6-10/CG74796/conv2/2/embryonic midgut3.bmp is a low contrast image\n",
      "  warn('%s is a low contrast image' % fname)\n"
     ]
    }
   ],
   "source": [
    "from lookback_ops import *\n",
    "\n",
    "config = return_a_config()\n",
    "output_layer = 'conv2'\n",
    "batch_img_list, result, labels, stage = test_lb_vgg(config, top_k_activation=5)\n",
    "simple_save_result_from_test_lb(batch_img_list, result, labels, stage, config, output_layer)"
   ]
  },
  {
   "cell_type": "code",
   "execution_count": 1,
   "metadata": {},
   "outputs": [
    {
     "name": "stdout",
     "output_type": "stream",
     "text": [
      "INFO:tensorflow:Restoring parameters from /Users/junr/Documents/prp/pic_data/model/6-10/max.ckpt\n"
     ]
    },
    {
     "name": "stderr",
     "output_type": "stream",
     "text": [
      "/Users/junr/pyenv/tf_py3/lib/python3.6/site-packages/skimage/util/dtype.py:122: UserWarning: Possible precision loss when converting from float64 to uint8\n",
      "  .format(dtypeobj_in, dtypeobj_out))\n",
      "/Users/junr/pyenv/tf_py3/lib/python3.6/site-packages/skimage/util/dtype.py:122: UserWarning: Possible precision loss when converting from float32 to uint8\n",
      "  .format(dtypeobj_in, dtypeobj_out))\n",
      "/Users/junr/pyenv/tf_py3/lib/python3.6/site-packages/skimage/io/_io.py:132: UserWarning: /Users/junr/Documents/prp/pic_data/model/6-10/CG74796/conv3/1/embryonic hindgut3.bmp is a low contrast image\n",
      "  warn('%s is a low contrast image' % fname)\n",
      "/Users/junr/pyenv/tf_py3/lib/python3.6/site-packages/skimage/io/_io.py:132: UserWarning: /Users/junr/Documents/prp/pic_data/model/6-10/CG74796/conv3/2/embryonic midgut3.bmp is a low contrast image\n",
      "  warn('%s is a low contrast image' % fname)\n"
     ]
    }
   ],
   "source": [
    "from lookback_ops import *\n",
    "\n",
    "config = return_a_config()\n",
    "output_layer = 'conv3'\n",
    "batch_img_list, result, labels, stage = test_lb_vgg(config, top_k_activation=5)\n",
    "simple_save_result_from_test_lb(batch_img_list, result, labels, stage, config, output_layer)"
   ]
  },
  {
   "cell_type": "code",
   "execution_count": 1,
   "metadata": {},
   "outputs": [
    {
     "name": "stdout",
     "output_type": "stream",
     "text": [
      "INFO:tensorflow:Restoring parameters from /Users/junr/Documents/prp/pic_data/model/6-10/max.ckpt\n"
     ]
    },
    {
     "name": "stderr",
     "output_type": "stream",
     "text": [
      "/Users/junr/pyenv/tf_py3/lib/python3.6/site-packages/skimage/util/dtype.py:122: UserWarning: Possible precision loss when converting from float64 to uint8\n",
      "  .format(dtypeobj_in, dtypeobj_out))\n",
      "/Users/junr/pyenv/tf_py3/lib/python3.6/site-packages/skimage/util/dtype.py:122: UserWarning: Possible precision loss when converting from float32 to uint8\n",
      "  .format(dtypeobj_in, dtypeobj_out))\n"
     ]
    }
   ],
   "source": [
    "from lookback_ops import *\n",
    "\n",
    "config = return_a_config()\n",
    "output_layer = 'conv2'\n",
    "batch_img_list, result, labels, stage = test_lb_vgg(config, output_layer, top_k_activation=5)\n",
    "simple_save_result_from_test_lb(batch_img_list, result, labels, stage, config, output_layer)"
   ]
  },
  {
   "cell_type": "code",
   "execution_count": 1,
   "metadata": {},
   "outputs": [
    {
     "name": "stdout",
     "output_type": "stream",
     "text": [
      "INFO:tensorflow:Restoring parameters from /Users/junr/Documents/prp/pic_data/model/6-10/max.ckpt\n"
     ]
    },
    {
     "name": "stderr",
     "output_type": "stream",
     "text": [
      "/Users/junr/pyenv/tf_py3/lib/python3.6/site-packages/skimage/util/dtype.py:122: UserWarning: Possible precision loss when converting from float64 to uint8\n",
      "  .format(dtypeobj_in, dtypeobj_out))\n",
      "/Users/junr/pyenv/tf_py3/lib/python3.6/site-packages/skimage/util/dtype.py:122: UserWarning: Possible precision loss when converting from float32 to uint8\n",
      "  .format(dtypeobj_in, dtypeobj_out))\n"
     ]
    }
   ],
   "source": [
    "from lookback_ops import *\n",
    "\n",
    "config = return_a_config()\n",
    "output_layer = 'conv2'\n",
    "batch_img_list, result, labels, stage = test_lb_vgg(config, output_layer, top_k_activation=5)\n",
    "simple_save_result_from_test_lb(batch_img_list, result, labels, stage, config, output_layer)"
   ]
  },
  {
   "cell_type": "code",
   "execution_count": 1,
   "metadata": {},
   "outputs": [
    {
     "name": "stdout",
     "output_type": "stream",
     "text": [
      "INFO:tensorflow:Restoring parameters from /Users/junr/Documents/prp/pic_data/model/6-10/max.ckpt\n"
     ]
    },
    {
     "name": "stderr",
     "output_type": "stream",
     "text": [
      "/Users/junr/pyenv/tf_py3/lib/python3.6/site-packages/skimage/util/dtype.py:122: UserWarning: Possible precision loss when converting from float64 to uint8\n",
      "  .format(dtypeobj_in, dtypeobj_out))\n",
      "/Users/junr/pyenv/tf_py3/lib/python3.6/site-packages/skimage/util/dtype.py:122: UserWarning: Possible precision loss when converting from float32 to uint8\n",
      "  .format(dtypeobj_in, dtypeobj_out))\n"
     ]
    }
   ],
   "source": [
    "from lookback_ops import *\n",
    "\n",
    "config = return_a_config()\n",
    "output_layer = 'conv2'\n",
    "batch_img_list, result, labels, stage = test_lb_vgg(config, output_layer, top_k_activation=20)\n",
    "simple_save_result_from_test_lb(batch_img_list, result, labels, stage, config, output_layer)"
   ]
  },
  {
   "cell_type": "code",
   "execution_count": 1,
   "metadata": {},
   "outputs": [
    {
     "name": "stdout",
     "output_type": "stream",
     "text": [
      "INFO:tensorflow:Restoring parameters from /Users/junr/Documents/prp/pic_data/model/6-10/max.ckpt\n"
     ]
    },
    {
     "name": "stderr",
     "output_type": "stream",
     "text": [
      "/Users/junr/pyenv/tf_py3/lib/python3.6/site-packages/skimage/util/dtype.py:122: UserWarning: Possible precision loss when converting from float64 to uint8\n",
      "  .format(dtypeobj_in, dtypeobj_out))\n",
      "/Users/junr/pyenv/tf_py3/lib/python3.6/site-packages/skimage/util/dtype.py:122: UserWarning: Possible precision loss when converting from float32 to uint8\n",
      "  .format(dtypeobj_in, dtypeobj_out))\n"
     ]
    }
   ],
   "source": [
    "from lookback_ops import *\n",
    "\n",
    "config = return_a_config()\n",
    "output_layer = 'conv2'\n",
    "batch_img_list, result, labels, stage = test_lb_vgg(config, output_layer, top_k_activation=50)\n",
    "simple_save_result_from_test_lb(batch_img_list, result, labels, stage, config, output_layer)"
   ]
  },
  {
   "cell_type": "code",
   "execution_count": 1,
   "metadata": {},
   "outputs": [
    {
     "name": "stdout",
     "output_type": "stream",
     "text": [
      "INFO:tensorflow:Restoring parameters from /Users/junr/Documents/prp/pic_data/model/6-10/max.ckpt\n"
     ]
    },
    {
     "name": "stderr",
     "output_type": "stream",
     "text": [
      "/Users/junr/pyenv/tf_py3/lib/python3.6/site-packages/skimage/util/dtype.py:122: UserWarning: Possible precision loss when converting from float64 to uint8\n",
      "  .format(dtypeobj_in, dtypeobj_out))\n",
      "/Users/junr/pyenv/tf_py3/lib/python3.6/site-packages/skimage/util/dtype.py:122: UserWarning: Possible precision loss when converting from float32 to uint8\n",
      "  .format(dtypeobj_in, dtypeobj_out))\n"
     ]
    }
   ],
   "source": [
    "from lookback_ops import *\n",
    "\n",
    "config = return_a_config()\n",
    "output_layer = 'conv1'\n",
    "batch_img_list, result, labels, stage = test_lb_vgg(config, output_layer, top_k_activation=50)\n",
    "simple_save_result_from_test_lb(batch_img_list, result, labels, stage, config, output_layer)"
   ]
  },
  {
   "cell_type": "code",
   "execution_count": 1,
   "metadata": {},
   "outputs": [
    {
     "name": "stdout",
     "output_type": "stream",
     "text": [
      "INFO:tensorflow:Restoring parameters from /Users/junr/Documents/prp/pic_data/model/6-10/max.ckpt\n"
     ]
    },
    {
     "name": "stderr",
     "output_type": "stream",
     "text": [
      "/Users/junr/pyenv/tf_py3/lib/python3.6/site-packages/skimage/util/dtype.py:122: UserWarning: Possible precision loss when converting from float64 to uint8\n",
      "  .format(dtypeobj_in, dtypeobj_out))\n",
      "/Users/junr/pyenv/tf_py3/lib/python3.6/site-packages/skimage/util/dtype.py:122: UserWarning: Possible precision loss when converting from float32 to uint8\n",
      "  .format(dtypeobj_in, dtypeobj_out))\n"
     ]
    }
   ],
   "source": [
    "from lookback_ops import *\n",
    "\n",
    "config = return_a_config()\n",
    "output_layer = 'conv1'\n",
    "batch_img_list, result, labels, stage = test_lb_vgg(config, output_layer, top_k_activation=50)\n",
    "simple_save_result_from_test_lb(batch_img_list, result, labels, stage, config, output_layer)"
   ]
  },
  {
   "cell_type": "code",
   "execution_count": 1,
   "metadata": {},
   "outputs": [
    {
     "name": "stdout",
     "output_type": "stream",
     "text": [
      "INFO:tensorflow:Restoring parameters from /Users/junr/Documents/prp/pic_data/model/6-10/max.ckpt\n"
     ]
    },
    {
     "name": "stderr",
     "output_type": "stream",
     "text": [
      "/Users/junr/pyenv/tf_py3/lib/python3.6/site-packages/skimage/util/dtype.py:122: UserWarning: Possible precision loss when converting from float64 to uint8\n",
      "  .format(dtypeobj_in, dtypeobj_out))\n",
      "/Users/junr/pyenv/tf_py3/lib/python3.6/site-packages/skimage/util/dtype.py:122: UserWarning: Possible precision loss when converting from float32 to uint8\n",
      "  .format(dtypeobj_in, dtypeobj_out))\n"
     ]
    }
   ],
   "source": [
    "from lookback_ops import *\n",
    "\n",
    "config = return_a_config()\n",
    "output_layer = 'conv2'\n",
    "batch_img_list, result, labels, stage = test_lb_vgg(config, output_layer, top_k_activation=50)\n",
    "simple_save_result_from_test_lb(batch_img_list, result, labels, stage, config, output_layer)"
   ]
  },
  {
   "cell_type": "code",
   "execution_count": 1,
   "metadata": {},
   "outputs": [
    {
     "ename": "NameError",
     "evalue": "name 'np' is not defined",
     "output_type": "error",
     "traceback": [
      "\u001b[0;31m---------------------------------------------------------------------------\u001b[0m",
      "\u001b[0;31mNameError\u001b[0m                                 Traceback (most recent call last)",
      "\u001b[0;32m<ipython-input-1-4e28fbe14f94>\u001b[0m in \u001b[0;36m<module>\u001b[0;34m()\u001b[0m\n\u001b[0;32m----> 1\u001b[0;31m \u001b[0minput_img\u001b[0m \u001b[0;34m=\u001b[0m \u001b[0mnp\u001b[0m\u001b[0;34m.\u001b[0m\u001b[0mones\u001b[0m\u001b[0;34m(\u001b[0m\u001b[0;34m(\u001b[0m\u001b[0;36m1\u001b[0m\u001b[0;34m,\u001b[0m \u001b[0;36m128\u001b[0m\u001b[0;34m,\u001b[0m \u001b[0;36m320\u001b[0m\u001b[0;34m,\u001b[0m \u001b[0;36m3\u001b[0m\u001b[0;34m)\u001b[0m\u001b[0;34m)\u001b[0m\u001b[0;34m\u001b[0m\u001b[0m\n\u001b[0m",
      "\u001b[0;31mNameError\u001b[0m: name 'np' is not defined"
     ]
    }
   ],
   "source": [
    "input_img = np.ones((1, 128, 320, 3))"
   ]
  },
  {
   "cell_type": "code",
   "execution_count": 2,
   "metadata": {},
   "outputs": [],
   "source": [
    "import numpy as np"
   ]
  },
  {
   "cell_type": "code",
   "execution_count": 3,
   "metadata": {},
   "outputs": [],
   "source": [
    "input_img = np.ones((1, 128, 320, 3))"
   ]
  },
  {
   "cell_type": "code",
   "execution_count": 4,
   "metadata": {},
   "outputs": [
    {
     "data": {
      "text/plain": [
       "(1, 128, 320, 3)"
      ]
     },
     "execution_count": 4,
     "metadata": {},
     "output_type": "execute_result"
    }
   ],
   "source": [
    "input_img.shape"
   ]
  },
  {
   "cell_type": "code",
   "execution_count": 5,
   "metadata": {},
   "outputs": [],
   "source": [
    "import matplotlib.pyplot as plt\n",
    "%matplotlib inline"
   ]
  },
  {
   "cell_type": "code",
   "execution_count": 6,
   "metadata": {},
   "outputs": [
    {
     "data": {
      "text/plain": [
       "<matplotlib.image.AxesImage at 0x10969a6a0>"
      ]
     },
     "execution_count": 6,
     "metadata": {},
     "output_type": "execute_result"
    },
    {
     "data": {
      "image/png": "[encoded data removed]",
      "text/plain": [
       "<matplotlib.figure.Figure at 0x108cfc828>"
      ]
     },
     "metadata": {},
     "output_type": "display_data"
    }
   ],
   "source": [
    "plt.imshow(input_img[0, :, :, 1])"
   ]
  },
  {
   "cell_type": "code",
   "execution_count": 7,
   "metadata": {},
   "outputs": [],
   "source": [
    "import numpy as np"
   ]
  },
  {
   "cell_type": "code",
   "execution_count": 8,
   "metadata": {},
   "outputs": [
    {
     "ename": "TypeError",
     "evalue": "unsupported operand type(s) for -: 'list' and 'int'",
     "output_type": "error",
     "traceback": [
      "\u001b[0;31m---------------------------------------------------------------------------\u001b[0m",
      "\u001b[0;31mTypeError\u001b[0m                                 Traceback (most recent call last)",
      "\u001b[0;32m<ipython-input-8-58701a856cf4>\u001b[0m in \u001b[0;36m<module>\u001b[0;34m()\u001b[0m\n\u001b[0;32m----> 1\u001b[0;31m \u001b[0ma\u001b[0m \u001b[0;34m=\u001b[0m \u001b[0mnp\u001b[0m\u001b[0;34m.\u001b[0m\u001b[0marange\u001b[0m\u001b[0;34m(\u001b[0m\u001b[0;34m[\u001b[0m\u001b[0;34m[\u001b[0m\u001b[0;36m1\u001b[0m\u001b[0;34m,\u001b[0m\u001b[0;36m2\u001b[0m\u001b[0;34m,\u001b[0m\u001b[0;36m3\u001b[0m\u001b[0;34m]\u001b[0m\u001b[0;34m,\u001b[0m\u001b[0;34m[\u001b[0m\u001b[0;36m4\u001b[0m\u001b[0;34m,\u001b[0m\u001b[0;36m5\u001b[0m\u001b[0;34m,\u001b[0m\u001b[0;36m6\u001b[0m\u001b[0;34m]\u001b[0m\u001b[0;34m]\u001b[0m\u001b[0;34m)\u001b[0m\u001b[0;34m\u001b[0m\u001b[0m\n\u001b[0m",
      "\u001b[0;31mTypeError\u001b[0m: unsupported operand type(s) for -: 'list' and 'int'"
     ]
    }
   ],
   "source": [
    "a = np.arange([[1,2,3],[4,5,6]])"
   ]
  },
  {
   "cell_type": "code",
   "execution_count": 9,
   "metadata": {},
   "outputs": [
    {
     "ename": "NameError",
     "evalue": "name 'a' is not defined",
     "output_type": "error",
     "traceback": [
      "\u001b[0;31m---------------------------------------------------------------------------\u001b[0m",
      "\u001b[0;31mNameError\u001b[0m                                 Traceback (most recent call last)",
      "\u001b[0;32m<ipython-input-9-3f786850e387>\u001b[0m in \u001b[0;36m<module>\u001b[0;34m()\u001b[0m\n\u001b[0;32m----> 1\u001b[0;31m \u001b[0ma\u001b[0m\u001b[0;34m\u001b[0m\u001b[0m\n\u001b[0m",
      "\u001b[0;31mNameError\u001b[0m: name 'a' is not defined"
     ]
    }
   ],
   "source": [
    "a"
   ]
  },
  {
   "cell_type": "code",
   "execution_count": 10,
   "metadata": {},
   "outputs": [],
   "source": [
    "a = np.array([[1,2,3],[4,5,6]])"
   ]
  },
  {
   "cell_type": "code",
   "execution_count": 11,
   "metadata": {},
   "outputs": [
    {
     "data": {
      "text/plain": [
       "array([[1, 2, 3],\n",
       "       [4, 5, 6]])"
      ]
     },
     "execution_count": 11,
     "metadata": {},
     "output_type": "execute_result"
    }
   ],
   "source": [
    "a"
   ]
  },
  {
   "cell_type": "code",
   "execution_count": 12,
   "metadata": {},
   "outputs": [
    {
     "ename": "AttributeError",
     "evalue": "'builtin_function_or_method' object has no attribute 'reshape'",
     "output_type": "error",
     "traceback": [
      "\u001b[0;31m---------------------------------------------------------------------------\u001b[0m",
      "\u001b[0;31mAttributeError\u001b[0m                            Traceback (most recent call last)",
      "\u001b[0;32m<ipython-input-12-19adb9b8c222>\u001b[0m in \u001b[0;36m<module>\u001b[0;34m()\u001b[0m\n\u001b[0;32m----> 1\u001b[0;31m \u001b[0ma\u001b[0m\u001b[0;34m.\u001b[0m\u001b[0mflatten\u001b[0m\u001b[0;34m.\u001b[0m\u001b[0mreshape\u001b[0m\u001b[0;34m(\u001b[0m\u001b[0ma\u001b[0m\u001b[0;34m.\u001b[0m\u001b[0mshape\u001b[0m\u001b[0;34m)\u001b[0m\u001b[0;34m\u001b[0m\u001b[0m\n\u001b[0m",
      "\u001b[0;31mAttributeError\u001b[0m: 'builtin_function_or_method' object has no attribute 'reshape'"
     ]
    }
   ],
   "source": [
    "a.flatten.reshape(a.shape)"
   ]
  },
  {
   "cell_type": "code",
   "execution_count": 13,
   "metadata": {},
   "outputs": [
    {
     "data": {
      "text/plain": [
       "(2, 3)"
      ]
     },
     "execution_count": 13,
     "metadata": {},
     "output_type": "execute_result"
    }
   ],
   "source": [
    "a.shape"
   ]
  },
  {
   "cell_type": "code",
   "execution_count": 14,
   "metadata": {},
   "outputs": [
    {
     "data": {
      "text/plain": [
       "array([[1, 2, 3],\n",
       "       [4, 5, 6]])"
      ]
     },
     "execution_count": 14,
     "metadata": {},
     "output_type": "execute_result"
    }
   ],
   "source": [
    "a.flatten().reshape(2,3)"
   ]
  },
  {
   "cell_type": "code",
   "execution_count": 1,
   "metadata": {},
   "outputs": [
    {
     "ename": "ValueError",
     "evalue": "attempted relative import beyond top-level package",
     "output_type": "error",
     "traceback": [
      "\u001b[0;31m---------------------------------------------------------------------------\u001b[0m",
      "\u001b[0;31mValueError\u001b[0m                                Traceback (most recent call last)",
      "\u001b[0;32m<ipython-input-1-4dd85f5f6b50>\u001b[0m in \u001b[0;36m<module>\u001b[0;34m()\u001b[0m\n\u001b[0;32m----> 1\u001b[0;31m \u001b[0;32mfrom\u001b[0m \u001b[0mlookback\u001b[0m\u001b[0;34m.\u001b[0m\u001b[0mlookback_ops\u001b[0m \u001b[0;32mimport\u001b[0m \u001b[0;34m*\u001b[0m\u001b[0;34m\u001b[0m\u001b[0m\n\u001b[0m",
      "\u001b[0;32m~/Desktop/keras_model/lookback/lookback_ops.py\u001b[0m in \u001b[0;36m<module>\u001b[0;34m()\u001b[0m\n\u001b[1;32m     11\u001b[0m \u001b[0;32mimport\u001b[0m \u001b[0mnumpy\u001b[0m \u001b[0;32mas\u001b[0m \u001b[0mnp\u001b[0m\u001b[0;34m\u001b[0m\u001b[0m\n\u001b[1;32m     12\u001b[0m \u001b[0;34m\u001b[0m\u001b[0m\n\u001b[0;32m---> 13\u001b[0;31m \u001b[0;32mfrom\u001b[0m \u001b[0;34m.\u001b[0m\u001b[0;34m.\u001b[0m\u001b[0mconfig\u001b[0m \u001b[0;32mimport\u001b[0m \u001b[0mModelConfig\u001b[0m\u001b[0;34m\u001b[0m\u001b[0m\n\u001b[0m\u001b[1;32m     14\u001b[0m \u001b[0;32mfrom\u001b[0m \u001b[0;34m.\u001b[0m\u001b[0;34m.\u001b[0m\u001b[0minput_ops\u001b[0m \u001b[0;32mimport\u001b[0m \u001b[0mDataset\u001b[0m\u001b[0;34m\u001b[0m\u001b[0m\n\u001b[1;32m     15\u001b[0m \u001b[0;32mfrom\u001b[0m \u001b[0;34m.\u001b[0m\u001b[0;34m.\u001b[0m\u001b[0mops\u001b[0m \u001b[0;32mimport\u001b[0m \u001b[0mnormalize\u001b[0m\u001b[0;34m\u001b[0m\u001b[0m\n",
      "\u001b[0;31mValueError\u001b[0m: attempted relative import beyond top-level package"
     ]
    }
   ],
   "source": [
    "from lookback.lookback_ops import *"
   ]
  },
  {
   "cell_type": "code",
   "execution_count": 1,
   "metadata": {},
   "outputs": [
    {
     "ename": "ModuleNotFoundError",
     "evalue": "No module named 'keras_model'",
     "output_type": "error",
     "traceback": [
      "\u001b[0;31m---------------------------------------------------------------------------\u001b[0m",
      "\u001b[0;31mModuleNotFoundError\u001b[0m                       Traceback (most recent call last)",
      "\u001b[0;32m<ipython-input-1-4dd85f5f6b50>\u001b[0m in \u001b[0;36m<module>\u001b[0;34m()\u001b[0m\n\u001b[0;32m----> 1\u001b[0;31m \u001b[0;32mfrom\u001b[0m \u001b[0mlookback\u001b[0m\u001b[0;34m.\u001b[0m\u001b[0mlookback_ops\u001b[0m \u001b[0;32mimport\u001b[0m \u001b[0;34m*\u001b[0m\u001b[0;34m\u001b[0m\u001b[0m\n\u001b[0m",
      "\u001b[0;32m~/Desktop/keras_model/lookback/lookback_ops.py\u001b[0m in \u001b[0;36m<module>\u001b[0;34m()\u001b[0m\n\u001b[1;32m     11\u001b[0m \u001b[0;32mimport\u001b[0m \u001b[0mnumpy\u001b[0m \u001b[0;32mas\u001b[0m \u001b[0mnp\u001b[0m\u001b[0;34m\u001b[0m\u001b[0m\n\u001b[1;32m     12\u001b[0m \u001b[0;34m\u001b[0m\u001b[0m\n\u001b[0;32m---> 13\u001b[0;31m \u001b[0;32mfrom\u001b[0m \u001b[0mkeras_model\u001b[0m\u001b[0;34m.\u001b[0m\u001b[0mconfig\u001b[0m \u001b[0;32mimport\u001b[0m \u001b[0mModelConfig\u001b[0m\u001b[0;34m\u001b[0m\u001b[0m\n\u001b[0m\u001b[1;32m     14\u001b[0m \u001b[0;32mfrom\u001b[0m \u001b[0;34m.\u001b[0m\u001b[0;34m.\u001b[0m\u001b[0minput_ops\u001b[0m \u001b[0;32mimport\u001b[0m \u001b[0mDataset\u001b[0m\u001b[0;34m\u001b[0m\u001b[0m\n\u001b[1;32m     15\u001b[0m \u001b[0;32mfrom\u001b[0m \u001b[0;34m.\u001b[0m\u001b[0;34m.\u001b[0m\u001b[0mops\u001b[0m \u001b[0;32mimport\u001b[0m \u001b[0mnormalize\u001b[0m\u001b[0;34m\u001b[0m\u001b[0m\n",
      "\u001b[0;31mModuleNotFoundError\u001b[0m: No module named 'keras_model'"
     ]
    }
   ],
   "source": [
    "from lookback.lookback_ops import *"
   ]
  },
  {
   "cell_type": "code",
   "execution_count": 1,
   "metadata": {},
   "outputs": [
    {
     "ename": "ModuleNotFoundError",
     "evalue": "No module named 'lookback.config'",
     "output_type": "error",
     "traceback": [
      "\u001b[0;31m---------------------------------------------------------------------------\u001b[0m",
      "\u001b[0;31mModuleNotFoundError\u001b[0m                       Traceback (most recent call last)",
      "\u001b[0;32m<ipython-input-1-4dd85f5f6b50>\u001b[0m in \u001b[0;36m<module>\u001b[0;34m()\u001b[0m\n\u001b[0;32m----> 1\u001b[0;31m \u001b[0;32mfrom\u001b[0m \u001b[0mlookback\u001b[0m\u001b[0;34m.\u001b[0m\u001b[0mlookback_ops\u001b[0m \u001b[0;32mimport\u001b[0m \u001b[0;34m*\u001b[0m\u001b[0;34m\u001b[0m\u001b[0m\n\u001b[0m",
      "\u001b[0;32m~/Desktop/keras_model/lookback/lookback_ops.py\u001b[0m in \u001b[0;36m<module>\u001b[0;34m()\u001b[0m\n\u001b[1;32m     11\u001b[0m \u001b[0;32mimport\u001b[0m \u001b[0mnumpy\u001b[0m \u001b[0;32mas\u001b[0m \u001b[0mnp\u001b[0m\u001b[0;34m\u001b[0m\u001b[0m\n\u001b[1;32m     12\u001b[0m \u001b[0;34m\u001b[0m\u001b[0m\n\u001b[0;32m---> 13\u001b[0;31m \u001b[0;32mfrom\u001b[0m \u001b[0;34m.\u001b[0m\u001b[0mconfig\u001b[0m \u001b[0;32mimport\u001b[0m \u001b[0mModelConfig\u001b[0m\u001b[0;34m\u001b[0m\u001b[0m\n\u001b[0m\u001b[1;32m     14\u001b[0m \u001b[0;32mfrom\u001b[0m \u001b[0;34m.\u001b[0m\u001b[0minput_ops\u001b[0m \u001b[0;32mimport\u001b[0m \u001b[0mDataset\u001b[0m\u001b[0;34m\u001b[0m\u001b[0m\n\u001b[1;32m     15\u001b[0m \u001b[0;32mfrom\u001b[0m \u001b[0;34m.\u001b[0m\u001b[0mops\u001b[0m \u001b[0;32mimport\u001b[0m \u001b[0mnormalize\u001b[0m\u001b[0;34m\u001b[0m\u001b[0m\n",
      "\u001b[0;31mModuleNotFoundError\u001b[0m: No module named 'lookback.config'"
     ]
    }
   ],
   "source": [
    "from lookback.lookback_ops import *"
   ]
  },
  {
   "cell_type": "code",
   "execution_count": 1,
   "metadata": {},
   "outputs": [
    {
     "ename": "ValueError",
     "evalue": "attempted relative import beyond top-level package",
     "output_type": "error",
     "traceback": [
      "\u001b[0;31m---------------------------------------------------------------------------\u001b[0m",
      "\u001b[0;31mValueError\u001b[0m                                Traceback (most recent call last)",
      "\u001b[0;32m<ipython-input-1-4dd85f5f6b50>\u001b[0m in \u001b[0;36m<module>\u001b[0;34m()\u001b[0m\n\u001b[0;32m----> 1\u001b[0;31m \u001b[0;32mfrom\u001b[0m \u001b[0mlookback\u001b[0m\u001b[0;34m.\u001b[0m\u001b[0mlookback_ops\u001b[0m \u001b[0;32mimport\u001b[0m \u001b[0;34m*\u001b[0m\u001b[0;34m\u001b[0m\u001b[0m\n\u001b[0m",
      "\u001b[0;32m~/Desktop/keras_model/lookback/lookback_ops.py\u001b[0m in \u001b[0;36m<module>\u001b[0;34m()\u001b[0m\n\u001b[1;32m     11\u001b[0m \u001b[0;32mimport\u001b[0m \u001b[0mnumpy\u001b[0m \u001b[0;32mas\u001b[0m \u001b[0mnp\u001b[0m\u001b[0;34m\u001b[0m\u001b[0m\n\u001b[1;32m     12\u001b[0m \u001b[0;34m\u001b[0m\u001b[0m\n\u001b[0;32m---> 13\u001b[0;31m \u001b[0;32mfrom\u001b[0m \u001b[0;34m.\u001b[0m\u001b[0;34m.\u001b[0m\u001b[0mconfig\u001b[0m \u001b[0;32mimport\u001b[0m \u001b[0mModelConfig\u001b[0m\u001b[0;34m\u001b[0m\u001b[0m\n\u001b[0m\u001b[1;32m     14\u001b[0m \u001b[0;32mfrom\u001b[0m \u001b[0;34m.\u001b[0m\u001b[0;34m.\u001b[0m\u001b[0minput_ops\u001b[0m \u001b[0;32mimport\u001b[0m \u001b[0mDataset\u001b[0m\u001b[0;34m\u001b[0m\u001b[0m\n\u001b[1;32m     15\u001b[0m \u001b[0;32mfrom\u001b[0m \u001b[0;34m.\u001b[0m\u001b[0;34m.\u001b[0m\u001b[0mops\u001b[0m \u001b[0;32mimport\u001b[0m \u001b[0mnormalize\u001b[0m\u001b[0;34m\u001b[0m\u001b[0m\n",
      "\u001b[0;31mValueError\u001b[0m: attempted relative import beyond top-level package"
     ]
    }
   ],
   "source": [
    "from lookback.lookback_ops import *"
   ]
  },
  {
   "cell_type": "code",
   "execution_count": 1,
   "metadata": {},
   "outputs": [],
   "source": [
    "from lookback.lookback_ops import *"
   ]
  },
  {
   "cell_type": "code",
   "execution_count": 2,
   "metadata": {},
   "outputs": [
    {
     "name": "stdout",
     "output_type": "stream",
     "text": [
      "INFO:tensorflow:Restoring parameters from /Users/junr/Documents/prp/pic_data/model/6-10/max.ckpt\n"
     ]
    },
    {
     "name": "stderr",
     "output_type": "stream",
     "text": [
      "/Users/junr/pyenv/tf_py3/lib/python3.6/site-packages/skimage/util/dtype.py:122: UserWarning: Possible precision loss when converting from float64 to uint8\n",
      "  .format(dtypeobj_in, dtypeobj_out))\n",
      "/Users/junr/pyenv/tf_py3/lib/python3.6/site-packages/skimage/util/dtype.py:122: UserWarning: Possible precision loss when converting from float32 to uint8\n",
      "  .format(dtypeobj_in, dtypeobj_out))\n"
     ]
    }
   ],
   "source": [
    "config = return_a_config()\n",
    "output_layer = 'conv2'\n",
    "batch_img_list, result, labels, stage = test_lb_vgg(config, output_layer, top_k_activation=5)\n",
    "simple_save_result_from_test_lb(batch_img_list, result, labels, stage, config, output_layer)"
   ]
  },
  {
   "cell_type": "code",
   "execution_count": 3,
   "metadata": {},
   "outputs": [
    {
     "ename": "ValueError",
     "evalue": "Variable vgg_16/conv1/conv1_1/weights already exists, disallowed. Did you mean to set reuse=True in VarScope? Originally defined at:\n\n  File \"/Users/junr/pyenv/tf_py3/lib/python3.6/site-packages/tensorflow/contrib/framework/python/ops/variables.py\", line 216, in variable\n    use_resource=use_resource)\n  File \"/Users/junr/pyenv/tf_py3/lib/python3.6/site-packages/tensorflow/contrib/framework/python/ops/arg_scope.py\", line 181, in func_with_args\n    return func(*args, **current_args)\n  File \"/Users/junr/pyenv/tf_py3/lib/python3.6/site-packages/tensorflow/contrib/framework/python/ops/variables.py\", line 261, in model_variable\n    use_resource=use_resource)\n",
     "output_type": "error",
     "traceback": [
      "\u001b[0;31m---------------------------------------------------------------------------\u001b[0m",
      "\u001b[0;31mValueError\u001b[0m                                Traceback (most recent call last)",
      "\u001b[0;32m<ipython-input-3-4a53fcea199d>\u001b[0m in \u001b[0;36m<module>\u001b[0;34m()\u001b[0m\n\u001b[1;32m      1\u001b[0m \u001b[0mconfig\u001b[0m \u001b[0;34m=\u001b[0m \u001b[0mreturn_a_config\u001b[0m\u001b[0;34m(\u001b[0m\u001b[0;34m)\u001b[0m\u001b[0;34m\u001b[0m\u001b[0m\n\u001b[1;32m      2\u001b[0m \u001b[0moutput_layer\u001b[0m \u001b[0;34m=\u001b[0m \u001b[0;34m'conv3'\u001b[0m\u001b[0;34m\u001b[0m\u001b[0m\n\u001b[0;32m----> 3\u001b[0;31m \u001b[0mbatch_img_list\u001b[0m\u001b[0;34m,\u001b[0m \u001b[0mresult\u001b[0m\u001b[0;34m,\u001b[0m \u001b[0mlabels\u001b[0m\u001b[0;34m,\u001b[0m \u001b[0mstage\u001b[0m \u001b[0;34m=\u001b[0m \u001b[0mtest_lb_vgg\u001b[0m\u001b[0;34m(\u001b[0m\u001b[0mconfig\u001b[0m\u001b[0;34m,\u001b[0m \u001b[0moutput_layer\u001b[0m\u001b[0;34m,\u001b[0m \u001b[0mtop_k_activation\u001b[0m\u001b[0;34m=\u001b[0m\u001b[0;36m5\u001b[0m\u001b[0;34m)\u001b[0m\u001b[0;34m\u001b[0m\u001b[0m\n\u001b[0m\u001b[1;32m      4\u001b[0m \u001b[0msimple_save_result_from_test_lb\u001b[0m\u001b[0;34m(\u001b[0m\u001b[0mbatch_img_list\u001b[0m\u001b[0;34m,\u001b[0m \u001b[0mresult\u001b[0m\u001b[0;34m,\u001b[0m \u001b[0mlabels\u001b[0m\u001b[0;34m,\u001b[0m \u001b[0mstage\u001b[0m\u001b[0;34m,\u001b[0m \u001b[0mconfig\u001b[0m\u001b[0;34m,\u001b[0m \u001b[0moutput_layer\u001b[0m\u001b[0;34m)\u001b[0m\u001b[0;34m\u001b[0m\u001b[0m\n",
      "\u001b[0;32m~/Desktop/keras_model/lookback/lookback_ops.py\u001b[0m in \u001b[0;36mtest_lb_vgg\u001b[0;34m(config, output_layer, top_k_activation)\u001b[0m\n\u001b[1;32m    406\u001b[0m   \u001b[0;31m# build forward model\u001b[0m\u001b[0;34m\u001b[0m\u001b[0;34m\u001b[0m\u001b[0m\n\u001b[1;32m    407\u001b[0m   \u001b[0mimages\u001b[0m \u001b[0;34m=\u001b[0m \u001b[0mtf\u001b[0m\u001b[0;34m.\u001b[0m\u001b[0mplaceholder\u001b[0m\u001b[0;34m(\u001b[0m\u001b[0mtf\u001b[0m\u001b[0;34m.\u001b[0m\u001b[0mfloat32\u001b[0m\u001b[0;34m,\u001b[0m \u001b[0;34m[\u001b[0m\u001b[0mconfig\u001b[0m\u001b[0;34m.\u001b[0m\u001b[0mmax_sequence_length\u001b[0m\u001b[0;34m,\u001b[0m \u001b[0;36m128\u001b[0m\u001b[0;34m,\u001b[0m \u001b[0;36m320\u001b[0m\u001b[0;34m,\u001b[0m \u001b[0;36m3\u001b[0m\u001b[0;34m]\u001b[0m\u001b[0;34m)\u001b[0m\u001b[0;34m\u001b[0m\u001b[0m\n\u001b[0;32m--> 408\u001b[0;31m   \u001b[0madaption_output\u001b[0m\u001b[0;34m,\u001b[0m \u001b[0mnet1m\u001b[0m\u001b[0;34m,\u001b[0m \u001b[0mnet2m\u001b[0m\u001b[0;34m,\u001b[0m \u001b[0mnet3m\u001b[0m\u001b[0;34m,\u001b[0m \u001b[0mvgg_out\u001b[0m\u001b[0;34m,\u001b[0m \u001b[0madaption_conv_output\u001b[0m\u001b[0;34m,\u001b[0m \u001b[0mnet_max_feature\u001b[0m \u001b[0;34m=\u001b[0m \u001b[0mforward_model\u001b[0m\u001b[0;34m(\u001b[0m\u001b[0mimages\u001b[0m\u001b[0;34m,\u001b[0m \u001b[0mconfig\u001b[0m\u001b[0;34m)\u001b[0m\u001b[0;34m\u001b[0m\u001b[0m\n\u001b[0m\u001b[1;32m    409\u001b[0m \u001b[0;34m\u001b[0m\u001b[0m\n\u001b[1;32m    410\u001b[0m   \u001b[0;31m# build model\u001b[0m\u001b[0;34m\u001b[0m\u001b[0;34m\u001b[0m\u001b[0m\n",
      "\u001b[0;32m~/Desktop/keras_model/lookback/lookback_ops.py\u001b[0m in \u001b[0;36mforward_model\u001b[0;34m(images, config)\u001b[0m\n\u001b[1;32m    388\u001b[0m     \u001b[0mimages\u001b[0m\u001b[0;34m:\u001b[0m \u001b[0mplaceholder\u001b[0m\u001b[0;34m\u001b[0m\u001b[0m\n\u001b[1;32m    389\u001b[0m   \"\"\"\n\u001b[0;32m--> 390\u001b[0;31m   \u001b[0madaption_output\u001b[0m\u001b[0;34m,\u001b[0m \u001b[0mnet1m\u001b[0m\u001b[0;34m,\u001b[0m \u001b[0mnet2m\u001b[0m\u001b[0;34m,\u001b[0m \u001b[0mnet3m\u001b[0m\u001b[0;34m,\u001b[0m \u001b[0mvgg_out\u001b[0m\u001b[0;34m,\u001b[0m \u001b[0madaption_conv_output\u001b[0m\u001b[0;34m,\u001b[0m \u001b[0mnet_max_feature\u001b[0m \u001b[0;34m=\u001b[0m \u001b[0mmax_model\u001b[0m\u001b[0;34m(\u001b[0m\u001b[0mimages\u001b[0m\u001b[0;34m,\u001b[0m \u001b[0mconfig\u001b[0m\u001b[0;34m)\u001b[0m\u001b[0;34m\u001b[0m\u001b[0m\n\u001b[0m\u001b[1;32m    391\u001b[0m   \u001b[0;32mreturn\u001b[0m \u001b[0madaption_output\u001b[0m\u001b[0;34m,\u001b[0m \u001b[0mnet1m\u001b[0m\u001b[0;34m,\u001b[0m \u001b[0mnet2m\u001b[0m\u001b[0;34m,\u001b[0m \u001b[0mnet3m\u001b[0m\u001b[0;34m,\u001b[0m \u001b[0mvgg_out\u001b[0m\u001b[0;34m,\u001b[0m \u001b[0madaption_conv_output\u001b[0m\u001b[0;34m,\u001b[0m \u001b[0mnet_max_feature\u001b[0m\u001b[0;34m\u001b[0m\u001b[0m\n\u001b[1;32m    392\u001b[0m \u001b[0;34m\u001b[0m\u001b[0m\n",
      "\u001b[0;32m~/Desktop/keras_model/lookback/lookback_ops.py\u001b[0m in \u001b[0;36mmax_model\u001b[0;34m(images, config)\u001b[0m\n\u001b[1;32m     68\u001b[0m      \u001b[0madaption_output\u001b[0m\u001b[0;34m,\u001b[0m \u001b[0mnet1m\u001b[0m\u001b[0;34m,\u001b[0m \u001b[0mnet2m\u001b[0m\u001b[0;34m,\u001b[0m \u001b[0mnet3m\u001b[0m\u001b[0;34m,\u001b[0m \u001b[0mnet4m\u001b[0m\u001b[0;34m,\u001b[0m \u001b[0mnet_max_feature\u001b[0m\u001b[0;34m\u001b[0m\u001b[0m\n\u001b[1;32m     69\u001b[0m   \"\"\"\n\u001b[0;32m---> 70\u001b[0;31m   \u001b[0mvgg_out\u001b[0m\u001b[0;34m,\u001b[0m \u001b[0mnet1m\u001b[0m\u001b[0;34m,\u001b[0m \u001b[0mnet2m\u001b[0m\u001b[0;34m,\u001b[0m \u001b[0mnet3m\u001b[0m\u001b[0;34m,\u001b[0m \u001b[0mnet4m\u001b[0m \u001b[0;34m=\u001b[0m \u001b[0mextract_feature\u001b[0m\u001b[0;34m(\u001b[0m\u001b[0mimages\u001b[0m\u001b[0;34m)\u001b[0m\u001b[0;34m\u001b[0m\u001b[0m\n\u001b[0m\u001b[1;32m     71\u001b[0m   \u001b[0mnet\u001b[0m \u001b[0;34m=\u001b[0m \u001b[0mvgg_out\u001b[0m\u001b[0;34m\u001b[0m\u001b[0m\n\u001b[1;32m     72\u001b[0m   \u001b[0;31m# if output_layer.startswith('vgg_16/'):\u001b[0m\u001b[0;34m\u001b[0m\u001b[0;34m\u001b[0m\u001b[0m\n",
      "\u001b[0;32m~/Desktop/keras_model/lookback/lookback_ops.py\u001b[0m in \u001b[0;36mextract_feature\u001b[0;34m(images, output_layer, stddev)\u001b[0m\n\u001b[1;32m     56\u001b[0m                         biases_initializer=tf.zeros_initializer()):\n\u001b[1;32m     57\u001b[0m       \u001b[0;32mwith\u001b[0m \u001b[0mslim\u001b[0m\u001b[0;34m.\u001b[0m\u001b[0marg_scope\u001b[0m\u001b[0;34m(\u001b[0m\u001b[0;34m[\u001b[0m\u001b[0mslim\u001b[0m\u001b[0;34m.\u001b[0m\u001b[0mconv2d\u001b[0m\u001b[0;34m]\u001b[0m\u001b[0;34m,\u001b[0m \u001b[0mpadding\u001b[0m\u001b[0;34m=\u001b[0m\u001b[0;34m'SAME'\u001b[0m\u001b[0;34m)\u001b[0m\u001b[0;34m:\u001b[0m\u001b[0;34m\u001b[0m\u001b[0m\n\u001b[0;32m---> 58\u001b[0;31m         \u001b[0m_\u001b[0m\u001b[0;34m,\u001b[0m \u001b[0mend_points\u001b[0m\u001b[0;34m,\u001b[0m \u001b[0mnet1m\u001b[0m\u001b[0;34m,\u001b[0m \u001b[0mnet2m\u001b[0m\u001b[0;34m,\u001b[0m \u001b[0mnet3m\u001b[0m\u001b[0;34m,\u001b[0m \u001b[0mnet4m\u001b[0m \u001b[0;34m=\u001b[0m \u001b[0mvgg_16\u001b[0m\u001b[0;34m(\u001b[0m\u001b[0mimages\u001b[0m\u001b[0;34m)\u001b[0m\u001b[0;34m\u001b[0m\u001b[0m\n\u001b[0m\u001b[1;32m     59\u001b[0m         \u001b[0moutput\u001b[0m \u001b[0;34m=\u001b[0m \u001b[0mend_points\u001b[0m\u001b[0;34m[\u001b[0m\u001b[0;34m'vgg_16/'\u001b[0m \u001b[0;34m+\u001b[0m \u001b[0moutput_layer\u001b[0m\u001b[0;34m]\u001b[0m\u001b[0;34m\u001b[0m\u001b[0m\n\u001b[1;32m     60\u001b[0m   \u001b[0;32mreturn\u001b[0m \u001b[0moutput\u001b[0m\u001b[0;34m,\u001b[0m \u001b[0mnet1m\u001b[0m\u001b[0;34m,\u001b[0m \u001b[0mnet2m\u001b[0m\u001b[0;34m,\u001b[0m \u001b[0mnet3m\u001b[0m\u001b[0;34m,\u001b[0m \u001b[0mnet4m\u001b[0m\u001b[0;34m\u001b[0m\u001b[0m\n",
      "\u001b[0;32m~/Desktop/keras_model/lookback/lookback_ops.py\u001b[0m in \u001b[0;36mvgg_16\u001b[0;34m(inputs, scope)\u001b[0m\n\u001b[1;32m     27\u001b[0m     with slim.arg_scope([slim.conv2d, slim.fully_connected, slim.max_pool2d],\n\u001b[1;32m     28\u001b[0m                         outputs_collections=end_points_collection):\n\u001b[0;32m---> 29\u001b[0;31m       \u001b[0mnet1\u001b[0m \u001b[0;34m=\u001b[0m \u001b[0mslim\u001b[0m\u001b[0;34m.\u001b[0m\u001b[0mrepeat\u001b[0m\u001b[0;34m(\u001b[0m\u001b[0minputs\u001b[0m\u001b[0;34m,\u001b[0m \u001b[0;36m2\u001b[0m\u001b[0;34m,\u001b[0m \u001b[0mslim\u001b[0m\u001b[0;34m.\u001b[0m\u001b[0mconv2d\u001b[0m\u001b[0;34m,\u001b[0m \u001b[0;36m64\u001b[0m\u001b[0;34m,\u001b[0m \u001b[0;34m[\u001b[0m\u001b[0;36m3\u001b[0m\u001b[0;34m,\u001b[0m \u001b[0;36m3\u001b[0m\u001b[0;34m]\u001b[0m\u001b[0;34m,\u001b[0m \u001b[0mscope\u001b[0m\u001b[0;34m=\u001b[0m\u001b[0;34m'conv1'\u001b[0m\u001b[0;34m)\u001b[0m\u001b[0;34m\u001b[0m\u001b[0m\n\u001b[0m\u001b[1;32m     30\u001b[0m       \u001b[0mnet1m\u001b[0m \u001b[0;34m=\u001b[0m \u001b[0mslim\u001b[0m\u001b[0;34m.\u001b[0m\u001b[0mmax_pool2d\u001b[0m\u001b[0;34m(\u001b[0m\u001b[0mnet1\u001b[0m\u001b[0;34m,\u001b[0m \u001b[0;34m[\u001b[0m\u001b[0;36m2\u001b[0m\u001b[0;34m,\u001b[0m \u001b[0;36m2\u001b[0m\u001b[0;34m]\u001b[0m\u001b[0;34m,\u001b[0m \u001b[0mscope\u001b[0m\u001b[0;34m=\u001b[0m\u001b[0;34m'pool1'\u001b[0m\u001b[0;34m)\u001b[0m\u001b[0;34m\u001b[0m\u001b[0m\n\u001b[1;32m     31\u001b[0m       \u001b[0mnet2\u001b[0m \u001b[0;34m=\u001b[0m \u001b[0mslim\u001b[0m\u001b[0;34m.\u001b[0m\u001b[0mrepeat\u001b[0m\u001b[0;34m(\u001b[0m\u001b[0mnet1m\u001b[0m\u001b[0;34m,\u001b[0m \u001b[0;36m2\u001b[0m\u001b[0;34m,\u001b[0m \u001b[0mslim\u001b[0m\u001b[0;34m.\u001b[0m\u001b[0mconv2d\u001b[0m\u001b[0;34m,\u001b[0m \u001b[0;36m128\u001b[0m\u001b[0;34m,\u001b[0m \u001b[0;34m[\u001b[0m\u001b[0;36m3\u001b[0m\u001b[0;34m,\u001b[0m \u001b[0;36m3\u001b[0m\u001b[0;34m]\u001b[0m\u001b[0;34m,\u001b[0m \u001b[0mscope\u001b[0m\u001b[0;34m=\u001b[0m\u001b[0;34m'conv2'\u001b[0m\u001b[0;34m)\u001b[0m\u001b[0;34m\u001b[0m\u001b[0m\n",
      "\u001b[0;32m~/pyenv/tf_py3/lib/python3.6/site-packages/tensorflow/contrib/layers/python/layers/layers.py\u001b[0m in \u001b[0;36mrepeat\u001b[0;34m(inputs, repetitions, layer, *args, **kwargs)\u001b[0m\n\u001b[1;32m   2058\u001b[0m     \u001b[0;32mfor\u001b[0m \u001b[0mi\u001b[0m \u001b[0;32min\u001b[0m \u001b[0mrange\u001b[0m\u001b[0;34m(\u001b[0m\u001b[0mrepetitions\u001b[0m\u001b[0;34m)\u001b[0m\u001b[0;34m:\u001b[0m\u001b[0;34m\u001b[0m\u001b[0m\n\u001b[1;32m   2059\u001b[0m       \u001b[0mkwargs\u001b[0m\u001b[0;34m[\u001b[0m\u001b[0;34m'scope'\u001b[0m\u001b[0;34m]\u001b[0m \u001b[0;34m=\u001b[0m \u001b[0mscope\u001b[0m \u001b[0;34m+\u001b[0m \u001b[0;34m'_'\u001b[0m \u001b[0;34m+\u001b[0m \u001b[0mstr\u001b[0m\u001b[0;34m(\u001b[0m\u001b[0mi\u001b[0m\u001b[0;34m+\u001b[0m\u001b[0;36m1\u001b[0m\u001b[0;34m)\u001b[0m\u001b[0;34m\u001b[0m\u001b[0m\n\u001b[0;32m-> 2060\u001b[0;31m       \u001b[0moutputs\u001b[0m \u001b[0;34m=\u001b[0m \u001b[0mlayer\u001b[0m\u001b[0;34m(\u001b[0m\u001b[0moutputs\u001b[0m\u001b[0;34m,\u001b[0m \u001b[0;34m*\u001b[0m\u001b[0margs\u001b[0m\u001b[0;34m,\u001b[0m \u001b[0;34m**\u001b[0m\u001b[0mkwargs\u001b[0m\u001b[0;34m)\u001b[0m\u001b[0;34m\u001b[0m\u001b[0m\n\u001b[0m\u001b[1;32m   2061\u001b[0m     \u001b[0;32mreturn\u001b[0m \u001b[0moutputs\u001b[0m\u001b[0;34m\u001b[0m\u001b[0m\n\u001b[1;32m   2062\u001b[0m \u001b[0;34m\u001b[0m\u001b[0m\n",
      "\u001b[0;32m~/pyenv/tf_py3/lib/python3.6/site-packages/tensorflow/contrib/framework/python/ops/arg_scope.py\u001b[0m in \u001b[0;36mfunc_with_args\u001b[0;34m(*args, **kwargs)\u001b[0m\n\u001b[1;32m    179\u001b[0m       \u001b[0mcurrent_args\u001b[0m \u001b[0;34m=\u001b[0m \u001b[0mcurrent_scope\u001b[0m\u001b[0;34m[\u001b[0m\u001b[0mkey_func\u001b[0m\u001b[0;34m]\u001b[0m\u001b[0;34m.\u001b[0m\u001b[0mcopy\u001b[0m\u001b[0;34m(\u001b[0m\u001b[0;34m)\u001b[0m\u001b[0;34m\u001b[0m\u001b[0m\n\u001b[1;32m    180\u001b[0m       \u001b[0mcurrent_args\u001b[0m\u001b[0;34m.\u001b[0m\u001b[0mupdate\u001b[0m\u001b[0;34m(\u001b[0m\u001b[0mkwargs\u001b[0m\u001b[0;34m)\u001b[0m\u001b[0;34m\u001b[0m\u001b[0m\n\u001b[0;32m--> 181\u001b[0;31m     \u001b[0;32mreturn\u001b[0m \u001b[0mfunc\u001b[0m\u001b[0;34m(\u001b[0m\u001b[0;34m*\u001b[0m\u001b[0margs\u001b[0m\u001b[0;34m,\u001b[0m \u001b[0;34m**\u001b[0m\u001b[0mcurrent_args\u001b[0m\u001b[0;34m)\u001b[0m\u001b[0;34m\u001b[0m\u001b[0m\n\u001b[0m\u001b[1;32m    182\u001b[0m   \u001b[0m_add_op\u001b[0m\u001b[0;34m(\u001b[0m\u001b[0mfunc\u001b[0m\u001b[0;34m)\u001b[0m\u001b[0;34m\u001b[0m\u001b[0m\n\u001b[1;32m    183\u001b[0m   \u001b[0msetattr\u001b[0m\u001b[0;34m(\u001b[0m\u001b[0mfunc_with_args\u001b[0m\u001b[0;34m,\u001b[0m \u001b[0;34m'_key_op'\u001b[0m\u001b[0;34m,\u001b[0m \u001b[0m_key_op\u001b[0m\u001b[0;34m(\u001b[0m\u001b[0mfunc\u001b[0m\u001b[0;34m)\u001b[0m\u001b[0;34m)\u001b[0m\u001b[0;34m\u001b[0m\u001b[0m\n",
      "\u001b[0;32m~/pyenv/tf_py3/lib/python3.6/site-packages/tensorflow/contrib/layers/python/layers/layers.py\u001b[0m in \u001b[0;36mconvolution\u001b[0;34m(inputs, num_outputs, kernel_size, stride, padding, data_format, rate, activation_fn, normalizer_fn, normalizer_params, weights_initializer, weights_regularizer, biases_initializer, biases_regularizer, reuse, variables_collections, outputs_collections, trainable, scope)\u001b[0m\n\u001b[1;32m   1025\u001b[0m                         \u001b[0m_scope\u001b[0m\u001b[0;34m=\u001b[0m\u001b[0msc\u001b[0m\u001b[0;34m,\u001b[0m\u001b[0;34m\u001b[0m\u001b[0m\n\u001b[1;32m   1026\u001b[0m                         _reuse=reuse)\n\u001b[0;32m-> 1027\u001b[0;31m     \u001b[0moutputs\u001b[0m \u001b[0;34m=\u001b[0m \u001b[0mlayer\u001b[0m\u001b[0;34m.\u001b[0m\u001b[0mapply\u001b[0m\u001b[0;34m(\u001b[0m\u001b[0minputs\u001b[0m\u001b[0;34m)\u001b[0m\u001b[0;34m\u001b[0m\u001b[0m\n\u001b[0m\u001b[1;32m   1028\u001b[0m \u001b[0;34m\u001b[0m\u001b[0m\n\u001b[1;32m   1029\u001b[0m     \u001b[0;31m# Add variables to collections.\u001b[0m\u001b[0;34m\u001b[0m\u001b[0;34m\u001b[0m\u001b[0m\n",
      "\u001b[0;32m~/pyenv/tf_py3/lib/python3.6/site-packages/tensorflow/python/layers/base.py\u001b[0m in \u001b[0;36mapply\u001b[0;34m(self, inputs, *args, **kwargs)\u001b[0m\n\u001b[1;32m    501\u001b[0m       \u001b[0mOutput\u001b[0m \u001b[0mtensor\u001b[0m\u001b[0;34m(\u001b[0m\u001b[0ms\u001b[0m\u001b[0;34m)\u001b[0m\u001b[0;34m.\u001b[0m\u001b[0;34m\u001b[0m\u001b[0m\n\u001b[1;32m    502\u001b[0m     \"\"\"\n\u001b[0;32m--> 503\u001b[0;31m     \u001b[0;32mreturn\u001b[0m \u001b[0mself\u001b[0m\u001b[0;34m.\u001b[0m\u001b[0m__call__\u001b[0m\u001b[0;34m(\u001b[0m\u001b[0minputs\u001b[0m\u001b[0;34m,\u001b[0m \u001b[0;34m*\u001b[0m\u001b[0margs\u001b[0m\u001b[0;34m,\u001b[0m \u001b[0;34m**\u001b[0m\u001b[0mkwargs\u001b[0m\u001b[0;34m)\u001b[0m\u001b[0;34m\u001b[0m\u001b[0m\n\u001b[0m\u001b[1;32m    504\u001b[0m \u001b[0;34m\u001b[0m\u001b[0m\n\u001b[1;32m    505\u001b[0m   \u001b[0;32mdef\u001b[0m \u001b[0m_assert_input_compatibility\u001b[0m\u001b[0;34m(\u001b[0m\u001b[0mself\u001b[0m\u001b[0;34m,\u001b[0m \u001b[0minputs\u001b[0m\u001b[0;34m)\u001b[0m\u001b[0;34m:\u001b[0m\u001b[0;34m\u001b[0m\u001b[0m\n",
      "\u001b[0;32m~/pyenv/tf_py3/lib/python3.6/site-packages/tensorflow/python/layers/base.py\u001b[0m in \u001b[0;36m__call__\u001b[0;34m(self, inputs, *args, **kwargs)\u001b[0m\n\u001b[1;32m    441\u001b[0m           \u001b[0minput_shapes\u001b[0m \u001b[0;34m=\u001b[0m \u001b[0;34m[\u001b[0m\u001b[0mx\u001b[0m\u001b[0;34m.\u001b[0m\u001b[0mget_shape\u001b[0m\u001b[0;34m(\u001b[0m\u001b[0;34m)\u001b[0m \u001b[0;32mfor\u001b[0m \u001b[0mx\u001b[0m \u001b[0;32min\u001b[0m \u001b[0minput_list\u001b[0m\u001b[0;34m]\u001b[0m\u001b[0;34m\u001b[0m\u001b[0m\n\u001b[1;32m    442\u001b[0m           \u001b[0;32mif\u001b[0m \u001b[0mlen\u001b[0m\u001b[0;34m(\u001b[0m\u001b[0minput_shapes\u001b[0m\u001b[0;34m)\u001b[0m \u001b[0;34m==\u001b[0m \u001b[0;36m1\u001b[0m\u001b[0;34m:\u001b[0m\u001b[0;34m\u001b[0m\u001b[0m\n\u001b[0;32m--> 443\u001b[0;31m             \u001b[0mself\u001b[0m\u001b[0;34m.\u001b[0m\u001b[0mbuild\u001b[0m\u001b[0;34m(\u001b[0m\u001b[0minput_shapes\u001b[0m\u001b[0;34m[\u001b[0m\u001b[0;36m0\u001b[0m\u001b[0;34m]\u001b[0m\u001b[0;34m)\u001b[0m\u001b[0;34m\u001b[0m\u001b[0m\n\u001b[0m\u001b[1;32m    444\u001b[0m           \u001b[0;32melse\u001b[0m\u001b[0;34m:\u001b[0m\u001b[0;34m\u001b[0m\u001b[0m\n\u001b[1;32m    445\u001b[0m             \u001b[0mself\u001b[0m\u001b[0;34m.\u001b[0m\u001b[0mbuild\u001b[0m\u001b[0;34m(\u001b[0m\u001b[0minput_shapes\u001b[0m\u001b[0;34m)\u001b[0m\u001b[0;34m\u001b[0m\u001b[0m\n",
      "\u001b[0;32m~/pyenv/tf_py3/lib/python3.6/site-packages/tensorflow/python/layers/convolutional.py\u001b[0m in \u001b[0;36mbuild\u001b[0;34m(self, input_shape)\u001b[0m\n\u001b[1;32m    135\u001b[0m                                     \u001b[0mregularizer\u001b[0m\u001b[0;34m=\u001b[0m\u001b[0mself\u001b[0m\u001b[0;34m.\u001b[0m\u001b[0mkernel_regularizer\u001b[0m\u001b[0;34m,\u001b[0m\u001b[0;34m\u001b[0m\u001b[0m\n\u001b[1;32m    136\u001b[0m                                     \u001b[0mtrainable\u001b[0m\u001b[0;34m=\u001b[0m\u001b[0;32mTrue\u001b[0m\u001b[0;34m,\u001b[0m\u001b[0;34m\u001b[0m\u001b[0m\n\u001b[0;32m--> 137\u001b[0;31m                                     dtype=self.dtype)\n\u001b[0m\u001b[1;32m    138\u001b[0m     \u001b[0;32mif\u001b[0m \u001b[0mself\u001b[0m\u001b[0;34m.\u001b[0m\u001b[0muse_bias\u001b[0m\u001b[0;34m:\u001b[0m\u001b[0;34m\u001b[0m\u001b[0m\n\u001b[1;32m    139\u001b[0m       self.bias = self.add_variable(name='bias',\n",
      "\u001b[0;32m~/pyenv/tf_py3/lib/python3.6/site-packages/tensorflow/python/layers/base.py\u001b[0m in \u001b[0;36madd_variable\u001b[0;34m(self, name, shape, dtype, initializer, regularizer, trainable)\u001b[0m\n\u001b[1;32m    381\u001b[0m                                    \u001b[0minitializer\u001b[0m\u001b[0;34m=\u001b[0m\u001b[0minitializer\u001b[0m\u001b[0;34m,\u001b[0m\u001b[0;34m\u001b[0m\u001b[0m\n\u001b[1;32m    382\u001b[0m                                    \u001b[0mdtype\u001b[0m\u001b[0;34m=\u001b[0m\u001b[0mdtypes\u001b[0m\u001b[0;34m.\u001b[0m\u001b[0mas_dtype\u001b[0m\u001b[0;34m(\u001b[0m\u001b[0mdtype\u001b[0m\u001b[0;34m)\u001b[0m\u001b[0;34m,\u001b[0m\u001b[0;34m\u001b[0m\u001b[0m\n\u001b[0;32m--> 383\u001b[0;31m                                    trainable=trainable and self.trainable)\n\u001b[0m\u001b[1;32m    384\u001b[0m         \u001b[0;32mif\u001b[0m \u001b[0mvariable\u001b[0m \u001b[0;32min\u001b[0m \u001b[0mexisting_variables\u001b[0m\u001b[0;34m:\u001b[0m\u001b[0;34m\u001b[0m\u001b[0m\n\u001b[1;32m    385\u001b[0m           \u001b[0;32mreturn\u001b[0m \u001b[0mvariable\u001b[0m\u001b[0;34m\u001b[0m\u001b[0m\n",
      "\u001b[0;32m~/pyenv/tf_py3/lib/python3.6/site-packages/tensorflow/python/ops/variable_scope.py\u001b[0m in \u001b[0;36mget_variable\u001b[0;34m(name, shape, dtype, initializer, regularizer, trainable, collections, caching_device, partitioner, validate_shape, use_resource, custom_getter)\u001b[0m\n\u001b[1;32m   1063\u001b[0m       \u001b[0mcollections\u001b[0m\u001b[0;34m=\u001b[0m\u001b[0mcollections\u001b[0m\u001b[0;34m,\u001b[0m \u001b[0mcaching_device\u001b[0m\u001b[0;34m=\u001b[0m\u001b[0mcaching_device\u001b[0m\u001b[0;34m,\u001b[0m\u001b[0;34m\u001b[0m\u001b[0m\n\u001b[1;32m   1064\u001b[0m       \u001b[0mpartitioner\u001b[0m\u001b[0;34m=\u001b[0m\u001b[0mpartitioner\u001b[0m\u001b[0;34m,\u001b[0m \u001b[0mvalidate_shape\u001b[0m\u001b[0;34m=\u001b[0m\u001b[0mvalidate_shape\u001b[0m\u001b[0;34m,\u001b[0m\u001b[0;34m\u001b[0m\u001b[0m\n\u001b[0;32m-> 1065\u001b[0;31m       use_resource=use_resource, custom_getter=custom_getter)\n\u001b[0m\u001b[1;32m   1066\u001b[0m get_variable_or_local_docstring = (\n\u001b[1;32m   1067\u001b[0m     \"\"\"%s\n",
      "\u001b[0;32m~/pyenv/tf_py3/lib/python3.6/site-packages/tensorflow/python/ops/variable_scope.py\u001b[0m in \u001b[0;36mget_variable\u001b[0;34m(self, var_store, name, shape, dtype, initializer, regularizer, reuse, trainable, collections, caching_device, partitioner, validate_shape, use_resource, custom_getter)\u001b[0m\n\u001b[1;32m    960\u001b[0m           \u001b[0mcollections\u001b[0m\u001b[0;34m=\u001b[0m\u001b[0mcollections\u001b[0m\u001b[0;34m,\u001b[0m \u001b[0mcaching_device\u001b[0m\u001b[0;34m=\u001b[0m\u001b[0mcaching_device\u001b[0m\u001b[0;34m,\u001b[0m\u001b[0;34m\u001b[0m\u001b[0m\n\u001b[1;32m    961\u001b[0m           \u001b[0mpartitioner\u001b[0m\u001b[0;34m=\u001b[0m\u001b[0mpartitioner\u001b[0m\u001b[0;34m,\u001b[0m \u001b[0mvalidate_shape\u001b[0m\u001b[0;34m=\u001b[0m\u001b[0mvalidate_shape\u001b[0m\u001b[0;34m,\u001b[0m\u001b[0;34m\u001b[0m\u001b[0m\n\u001b[0;32m--> 962\u001b[0;31m           use_resource=use_resource, custom_getter=custom_getter)\n\u001b[0m\u001b[1;32m    963\u001b[0m \u001b[0;34m\u001b[0m\u001b[0m\n\u001b[1;32m    964\u001b[0m   def _get_partitioned_variable(self,\n",
      "\u001b[0;32m~/pyenv/tf_py3/lib/python3.6/site-packages/tensorflow/python/ops/variable_scope.py\u001b[0m in \u001b[0;36mget_variable\u001b[0;34m(self, name, shape, dtype, initializer, regularizer, reuse, trainable, collections, caching_device, partitioner, validate_shape, use_resource, custom_getter)\u001b[0m\n\u001b[1;32m    358\u001b[0m           \u001b[0mreuse\u001b[0m\u001b[0;34m=\u001b[0m\u001b[0mreuse\u001b[0m\u001b[0;34m,\u001b[0m \u001b[0mtrainable\u001b[0m\u001b[0;34m=\u001b[0m\u001b[0mtrainable\u001b[0m\u001b[0;34m,\u001b[0m \u001b[0mcollections\u001b[0m\u001b[0;34m=\u001b[0m\u001b[0mcollections\u001b[0m\u001b[0;34m,\u001b[0m\u001b[0;34m\u001b[0m\u001b[0m\n\u001b[1;32m    359\u001b[0m           \u001b[0mcaching_device\u001b[0m\u001b[0;34m=\u001b[0m\u001b[0mcaching_device\u001b[0m\u001b[0;34m,\u001b[0m \u001b[0mpartitioner\u001b[0m\u001b[0;34m=\u001b[0m\u001b[0mpartitioner\u001b[0m\u001b[0;34m,\u001b[0m\u001b[0;34m\u001b[0m\u001b[0m\n\u001b[0;32m--> 360\u001b[0;31m           validate_shape=validate_shape, use_resource=use_resource)\n\u001b[0m\u001b[1;32m    361\u001b[0m     \u001b[0;32melse\u001b[0m\u001b[0;34m:\u001b[0m\u001b[0;34m\u001b[0m\u001b[0m\n\u001b[1;32m    362\u001b[0m       return _true_getter(\n",
      "\u001b[0;32m~/pyenv/tf_py3/lib/python3.6/site-packages/tensorflow/contrib/layers/python/layers/layers.py\u001b[0m in \u001b[0;36mlayer_variable_getter\u001b[0;34m(getter, *args, **kwargs)\u001b[0m\n\u001b[1;32m   1559\u001b[0m   \u001b[0;32mdef\u001b[0m \u001b[0mlayer_variable_getter\u001b[0m\u001b[0;34m(\u001b[0m\u001b[0mgetter\u001b[0m\u001b[0;34m,\u001b[0m \u001b[0;34m*\u001b[0m\u001b[0margs\u001b[0m\u001b[0;34m,\u001b[0m \u001b[0;34m**\u001b[0m\u001b[0mkwargs\u001b[0m\u001b[0;34m)\u001b[0m\u001b[0;34m:\u001b[0m\u001b[0;34m\u001b[0m\u001b[0m\n\u001b[1;32m   1560\u001b[0m     \u001b[0mkwargs\u001b[0m\u001b[0;34m[\u001b[0m\u001b[0;34m'rename'\u001b[0m\u001b[0;34m]\u001b[0m \u001b[0;34m=\u001b[0m \u001b[0mrename\u001b[0m\u001b[0;34m\u001b[0m\u001b[0m\n\u001b[0;32m-> 1561\u001b[0;31m     \u001b[0;32mreturn\u001b[0m \u001b[0m_model_variable_getter\u001b[0m\u001b[0;34m(\u001b[0m\u001b[0mgetter\u001b[0m\u001b[0;34m,\u001b[0m \u001b[0;34m*\u001b[0m\u001b[0margs\u001b[0m\u001b[0;34m,\u001b[0m \u001b[0;34m**\u001b[0m\u001b[0mkwargs\u001b[0m\u001b[0;34m)\u001b[0m\u001b[0;34m\u001b[0m\u001b[0m\n\u001b[0m\u001b[1;32m   1562\u001b[0m   \u001b[0;32mreturn\u001b[0m \u001b[0mlayer_variable_getter\u001b[0m\u001b[0;34m\u001b[0m\u001b[0m\n\u001b[1;32m   1563\u001b[0m \u001b[0;34m\u001b[0m\u001b[0m\n",
      "\u001b[0;32m~/pyenv/tf_py3/lib/python3.6/site-packages/tensorflow/contrib/layers/python/layers/layers.py\u001b[0m in \u001b[0;36m_model_variable_getter\u001b[0;34m(getter, name, shape, dtype, initializer, regularizer, trainable, collections, caching_device, partitioner, rename, use_resource, **_)\u001b[0m\n\u001b[1;32m   1551\u001b[0m       \u001b[0mregularizer\u001b[0m\u001b[0;34m=\u001b[0m\u001b[0mregularizer\u001b[0m\u001b[0;34m,\u001b[0m \u001b[0mcollections\u001b[0m\u001b[0;34m=\u001b[0m\u001b[0mcollections\u001b[0m\u001b[0;34m,\u001b[0m \u001b[0mtrainable\u001b[0m\u001b[0;34m=\u001b[0m\u001b[0mtrainable\u001b[0m\u001b[0;34m,\u001b[0m\u001b[0;34m\u001b[0m\u001b[0m\n\u001b[1;32m   1552\u001b[0m       \u001b[0mcaching_device\u001b[0m\u001b[0;34m=\u001b[0m\u001b[0mcaching_device\u001b[0m\u001b[0;34m,\u001b[0m \u001b[0mpartitioner\u001b[0m\u001b[0;34m=\u001b[0m\u001b[0mpartitioner\u001b[0m\u001b[0;34m,\u001b[0m\u001b[0;34m\u001b[0m\u001b[0m\n\u001b[0;32m-> 1553\u001b[0;31m       custom_getter=getter, use_resource=use_resource)\n\u001b[0m\u001b[1;32m   1554\u001b[0m \u001b[0;34m\u001b[0m\u001b[0m\n\u001b[1;32m   1555\u001b[0m \u001b[0;34m\u001b[0m\u001b[0m\n",
      "\u001b[0;32m~/pyenv/tf_py3/lib/python3.6/site-packages/tensorflow/contrib/framework/python/ops/arg_scope.py\u001b[0m in \u001b[0;36mfunc_with_args\u001b[0;34m(*args, **kwargs)\u001b[0m\n\u001b[1;32m    179\u001b[0m       \u001b[0mcurrent_args\u001b[0m \u001b[0;34m=\u001b[0m \u001b[0mcurrent_scope\u001b[0m\u001b[0;34m[\u001b[0m\u001b[0mkey_func\u001b[0m\u001b[0;34m]\u001b[0m\u001b[0;34m.\u001b[0m\u001b[0mcopy\u001b[0m\u001b[0;34m(\u001b[0m\u001b[0;34m)\u001b[0m\u001b[0;34m\u001b[0m\u001b[0m\n\u001b[1;32m    180\u001b[0m       \u001b[0mcurrent_args\u001b[0m\u001b[0;34m.\u001b[0m\u001b[0mupdate\u001b[0m\u001b[0;34m(\u001b[0m\u001b[0mkwargs\u001b[0m\u001b[0;34m)\u001b[0m\u001b[0;34m\u001b[0m\u001b[0m\n\u001b[0;32m--> 181\u001b[0;31m     \u001b[0;32mreturn\u001b[0m \u001b[0mfunc\u001b[0m\u001b[0;34m(\u001b[0m\u001b[0;34m*\u001b[0m\u001b[0margs\u001b[0m\u001b[0;34m,\u001b[0m \u001b[0;34m**\u001b[0m\u001b[0mcurrent_args\u001b[0m\u001b[0;34m)\u001b[0m\u001b[0;34m\u001b[0m\u001b[0m\n\u001b[0m\u001b[1;32m    182\u001b[0m   \u001b[0m_add_op\u001b[0m\u001b[0;34m(\u001b[0m\u001b[0mfunc\u001b[0m\u001b[0;34m)\u001b[0m\u001b[0;34m\u001b[0m\u001b[0m\n\u001b[1;32m    183\u001b[0m   \u001b[0msetattr\u001b[0m\u001b[0;34m(\u001b[0m\u001b[0mfunc_with_args\u001b[0m\u001b[0;34m,\u001b[0m \u001b[0;34m'_key_op'\u001b[0m\u001b[0;34m,\u001b[0m \u001b[0m_key_op\u001b[0m\u001b[0;34m(\u001b[0m\u001b[0mfunc\u001b[0m\u001b[0;34m)\u001b[0m\u001b[0;34m)\u001b[0m\u001b[0;34m\u001b[0m\u001b[0m\n",
      "\u001b[0;32m~/pyenv/tf_py3/lib/python3.6/site-packages/tensorflow/contrib/framework/python/ops/variables.py\u001b[0m in \u001b[0;36mmodel_variable\u001b[0;34m(name, shape, dtype, initializer, regularizer, trainable, collections, caching_device, device, partitioner, custom_getter, use_resource)\u001b[0m\n\u001b[1;32m    259\u001b[0m                  \u001b[0mcaching_device\u001b[0m\u001b[0;34m=\u001b[0m\u001b[0mcaching_device\u001b[0m\u001b[0;34m,\u001b[0m \u001b[0mdevice\u001b[0m\u001b[0;34m=\u001b[0m\u001b[0mdevice\u001b[0m\u001b[0;34m,\u001b[0m\u001b[0;34m\u001b[0m\u001b[0m\n\u001b[1;32m    260\u001b[0m                  \u001b[0mpartitioner\u001b[0m\u001b[0;34m=\u001b[0m\u001b[0mpartitioner\u001b[0m\u001b[0;34m,\u001b[0m \u001b[0mcustom_getter\u001b[0m\u001b[0;34m=\u001b[0m\u001b[0mcustom_getter\u001b[0m\u001b[0;34m,\u001b[0m\u001b[0;34m\u001b[0m\u001b[0m\n\u001b[0;32m--> 261\u001b[0;31m                  use_resource=use_resource)\n\u001b[0m\u001b[1;32m    262\u001b[0m   \u001b[0;32mreturn\u001b[0m \u001b[0mvar\u001b[0m\u001b[0;34m\u001b[0m\u001b[0m\n\u001b[1;32m    263\u001b[0m \u001b[0;34m\u001b[0m\u001b[0m\n",
      "\u001b[0;32m~/pyenv/tf_py3/lib/python3.6/site-packages/tensorflow/contrib/framework/python/ops/arg_scope.py\u001b[0m in \u001b[0;36mfunc_with_args\u001b[0;34m(*args, **kwargs)\u001b[0m\n\u001b[1;32m    179\u001b[0m       \u001b[0mcurrent_args\u001b[0m \u001b[0;34m=\u001b[0m \u001b[0mcurrent_scope\u001b[0m\u001b[0;34m[\u001b[0m\u001b[0mkey_func\u001b[0m\u001b[0;34m]\u001b[0m\u001b[0;34m.\u001b[0m\u001b[0mcopy\u001b[0m\u001b[0;34m(\u001b[0m\u001b[0;34m)\u001b[0m\u001b[0;34m\u001b[0m\u001b[0m\n\u001b[1;32m    180\u001b[0m       \u001b[0mcurrent_args\u001b[0m\u001b[0;34m.\u001b[0m\u001b[0mupdate\u001b[0m\u001b[0;34m(\u001b[0m\u001b[0mkwargs\u001b[0m\u001b[0;34m)\u001b[0m\u001b[0;34m\u001b[0m\u001b[0m\n\u001b[0;32m--> 181\u001b[0;31m     \u001b[0;32mreturn\u001b[0m \u001b[0mfunc\u001b[0m\u001b[0;34m(\u001b[0m\u001b[0;34m*\u001b[0m\u001b[0margs\u001b[0m\u001b[0;34m,\u001b[0m \u001b[0;34m**\u001b[0m\u001b[0mcurrent_args\u001b[0m\u001b[0;34m)\u001b[0m\u001b[0;34m\u001b[0m\u001b[0m\n\u001b[0m\u001b[1;32m    182\u001b[0m   \u001b[0m_add_op\u001b[0m\u001b[0;34m(\u001b[0m\u001b[0mfunc\u001b[0m\u001b[0;34m)\u001b[0m\u001b[0;34m\u001b[0m\u001b[0m\n\u001b[1;32m    183\u001b[0m   \u001b[0msetattr\u001b[0m\u001b[0;34m(\u001b[0m\u001b[0mfunc_with_args\u001b[0m\u001b[0;34m,\u001b[0m \u001b[0;34m'_key_op'\u001b[0m\u001b[0;34m,\u001b[0m \u001b[0m_key_op\u001b[0m\u001b[0;34m(\u001b[0m\u001b[0mfunc\u001b[0m\u001b[0;34m)\u001b[0m\u001b[0;34m)\u001b[0m\u001b[0;34m\u001b[0m\u001b[0m\n",
      "\u001b[0;32m~/pyenv/tf_py3/lib/python3.6/site-packages/tensorflow/contrib/framework/python/ops/variables.py\u001b[0m in \u001b[0;36mvariable\u001b[0;34m(name, shape, dtype, initializer, regularizer, trainable, collections, caching_device, device, partitioner, custom_getter, use_resource)\u001b[0m\n\u001b[1;32m    214\u001b[0m                   \u001b[0mcaching_device\u001b[0m\u001b[0;34m=\u001b[0m\u001b[0mcaching_device\u001b[0m\u001b[0;34m,\u001b[0m\u001b[0;34m\u001b[0m\u001b[0m\n\u001b[1;32m    215\u001b[0m                   \u001b[0mpartitioner\u001b[0m\u001b[0;34m=\u001b[0m\u001b[0mpartitioner\u001b[0m\u001b[0;34m,\u001b[0m\u001b[0;34m\u001b[0m\u001b[0m\n\u001b[0;32m--> 216\u001b[0;31m                   use_resource=use_resource)\n\u001b[0m\u001b[1;32m    217\u001b[0m \u001b[0;34m\u001b[0m\u001b[0m\n\u001b[1;32m    218\u001b[0m \u001b[0;34m\u001b[0m\u001b[0m\n",
      "\u001b[0;32m~/pyenv/tf_py3/lib/python3.6/site-packages/tensorflow/python/ops/variable_scope.py\u001b[0m in \u001b[0;36m_true_getter\u001b[0;34m(name, shape, dtype, initializer, regularizer, reuse, trainable, collections, caching_device, partitioner, validate_shape, use_resource)\u001b[0m\n\u001b[1;32m    350\u001b[0m           \u001b[0mtrainable\u001b[0m\u001b[0;34m=\u001b[0m\u001b[0mtrainable\u001b[0m\u001b[0;34m,\u001b[0m \u001b[0mcollections\u001b[0m\u001b[0;34m=\u001b[0m\u001b[0mcollections\u001b[0m\u001b[0;34m,\u001b[0m\u001b[0;34m\u001b[0m\u001b[0m\n\u001b[1;32m    351\u001b[0m           \u001b[0mcaching_device\u001b[0m\u001b[0;34m=\u001b[0m\u001b[0mcaching_device\u001b[0m\u001b[0;34m,\u001b[0m \u001b[0mvalidate_shape\u001b[0m\u001b[0;34m=\u001b[0m\u001b[0mvalidate_shape\u001b[0m\u001b[0;34m,\u001b[0m\u001b[0;34m\u001b[0m\u001b[0m\n\u001b[0;32m--> 352\u001b[0;31m           use_resource=use_resource)\n\u001b[0m\u001b[1;32m    353\u001b[0m \u001b[0;34m\u001b[0m\u001b[0m\n\u001b[1;32m    354\u001b[0m     \u001b[0;32mif\u001b[0m \u001b[0mcustom_getter\u001b[0m \u001b[0;32mis\u001b[0m \u001b[0;32mnot\u001b[0m \u001b[0;32mNone\u001b[0m\u001b[0;34m:\u001b[0m\u001b[0;34m\u001b[0m\u001b[0m\n",
      "\u001b[0;32m~/pyenv/tf_py3/lib/python3.6/site-packages/tensorflow/python/ops/variable_scope.py\u001b[0m in \u001b[0;36m_get_single_variable\u001b[0;34m(self, name, shape, dtype, initializer, regularizer, partition_info, reuse, trainable, collections, caching_device, validate_shape, use_resource)\u001b[0m\n\u001b[1;32m    662\u001b[0m                          \u001b[0;34m\" Did you mean to set reuse=True in VarScope? \"\u001b[0m\u001b[0;34m\u001b[0m\u001b[0m\n\u001b[1;32m    663\u001b[0m                          \"Originally defined at:\\n\\n%s\" % (\n\u001b[0;32m--> 664\u001b[0;31m                              name, \"\".join(traceback.format_list(tb))))\n\u001b[0m\u001b[1;32m    665\u001b[0m       \u001b[0mfound_var\u001b[0m \u001b[0;34m=\u001b[0m \u001b[0mself\u001b[0m\u001b[0;34m.\u001b[0m\u001b[0m_vars\u001b[0m\u001b[0;34m[\u001b[0m\u001b[0mname\u001b[0m\u001b[0;34m]\u001b[0m\u001b[0;34m\u001b[0m\u001b[0m\n\u001b[1;32m    666\u001b[0m       \u001b[0;32mif\u001b[0m \u001b[0;32mnot\u001b[0m \u001b[0mshape\u001b[0m\u001b[0;34m.\u001b[0m\u001b[0mis_compatible_with\u001b[0m\u001b[0;34m(\u001b[0m\u001b[0mfound_var\u001b[0m\u001b[0;34m.\u001b[0m\u001b[0mget_shape\u001b[0m\u001b[0;34m(\u001b[0m\u001b[0;34m)\u001b[0m\u001b[0;34m)\u001b[0m\u001b[0;34m:\u001b[0m\u001b[0;34m\u001b[0m\u001b[0m\n",
      "\u001b[0;31mValueError\u001b[0m: Variable vgg_16/conv1/conv1_1/weights already exists, disallowed. Did you mean to set reuse=True in VarScope? Originally defined at:\n\n  File \"/Users/junr/pyenv/tf_py3/lib/python3.6/site-packages/tensorflow/contrib/framework/python/ops/variables.py\", line 216, in variable\n    use_resource=use_resource)\n  File \"/Users/junr/pyenv/tf_py3/lib/python3.6/site-packages/tensorflow/contrib/framework/python/ops/arg_scope.py\", line 181, in func_with_args\n    return func(*args, **current_args)\n  File \"/Users/junr/pyenv/tf_py3/lib/python3.6/site-packages/tensorflow/contrib/framework/python/ops/variables.py\", line 261, in model_variable\n    use_resource=use_resource)\n"
     ]
    }
   ],
   "source": [
    "config = return_a_config()\n",
    "output_layer = 'conv3'\n",
    "batch_img_list, result, labels, stage = test_lb_vgg(config, output_layer, top_k_activation=5)\n",
    "simple_save_result_from_test_lb(batch_img_list, result, labels, stage, config, output_layer)"
   ]
  },
  {
   "cell_type": "code",
   "execution_count": 1,
   "metadata": {},
   "outputs": [
    {
     "name": "stdout",
     "output_type": "stream",
     "text": [
      "INFO:tensorflow:Restoring parameters from /Users/junr/Documents/prp/pic_data/model/6-10/max.ckpt\n"
     ]
    },
    {
     "name": "stderr",
     "output_type": "stream",
     "text": [
      "/Users/junr/pyenv/tf_py3/lib/python3.6/site-packages/skimage/util/dtype.py:122: UserWarning: Possible precision loss when converting from float64 to uint8\n",
      "  .format(dtypeobj_in, dtypeobj_out))\n",
      "/Users/junr/pyenv/tf_py3/lib/python3.6/site-packages/skimage/util/dtype.py:122: UserWarning: Possible precision loss when converting from float32 to uint8\n",
      "  .format(dtypeobj_in, dtypeobj_out))\n"
     ]
    }
   ],
   "source": [
    "from lookback.lookback_ops import *\n",
    "config = return_a_config()\n",
    "output_layer = 'conv2'\n",
    "batch_img_list, result, labels, stage = test_lb_vgg(config, output_layer, top_k_activation=5)\n",
    "simple_save_result_from_test_lb(batch_img_list, result, labels, stage, config, output_layer)"
   ]
  },
  {
   "cell_type": "code",
   "execution_count": 1,
   "metadata": {},
   "outputs": [
    {
     "name": "stdout",
     "output_type": "stream",
     "text": [
      "INFO:tensorflow:Restoring parameters from /Users/junr/Documents/prp/pic_data/model/6-10/max.ckpt\n"
     ]
    },
    {
     "name": "stderr",
     "output_type": "stream",
     "text": [
      "/Users/junr/pyenv/tf_py3/lib/python3.6/site-packages/skimage/util/dtype.py:122: UserWarning: Possible precision loss when converting from float64 to uint8\n",
      "  .format(dtypeobj_in, dtypeobj_out))\n",
      "/Users/junr/pyenv/tf_py3/lib/python3.6/site-packages/skimage/util/dtype.py:122: UserWarning: Possible precision loss when converting from float32 to uint8\n",
      "  .format(dtypeobj_in, dtypeobj_out))\n"
     ]
    }
   ],
   "source": [
    "from lookback.lookback_ops import *\n",
    "config = return_a_config()\n",
    "output_layer = 'conv3'\n",
    "batch_img_list, result, labels, stage = test_lb_vgg(config, output_layer, top_k_activation=5)\n",
    "simple_save_result_from_test_lb(batch_img_list, result, labels, stage, config, output_layer)"
   ]
  },
  {
   "cell_type": "code",
   "execution_count": 1,
   "metadata": {},
   "outputs": [
    {
     "name": "stdout",
     "output_type": "stream",
     "text": [
      "INFO:tensorflow:Restoring parameters from /Users/junr/Documents/prp/pic_data/model/6-10/max.ckpt\n"
     ]
    },
    {
     "name": "stderr",
     "output_type": "stream",
     "text": [
      "/Users/junr/pyenv/tf_py3/lib/python3.6/site-packages/skimage/util/dtype.py:122: UserWarning: Possible precision loss when converting from float64 to uint8\n",
      "  .format(dtypeobj_in, dtypeobj_out))\n",
      "/Users/junr/pyenv/tf_py3/lib/python3.6/site-packages/skimage/util/dtype.py:122: UserWarning: Possible precision loss when converting from float32 to uint8\n",
      "  .format(dtypeobj_in, dtypeobj_out))\n"
     ]
    }
   ],
   "source": [
    "from lookback.lookback_ops import *\n",
    "config = return_a_config()\n",
    "output_layer = 'conv4'\n",
    "batch_img_list, result, labels, stage = test_lb_vgg(config, output_layer, top_k_activation=5)\n",
    "simple_save_result_from_test_lb(batch_img_list, result, labels, stage, config, output_layer)"
   ]
  },
  {
   "cell_type": "code",
   "execution_count": null,
   "metadata": {},
   "outputs": [],
   "source": []
  }
 ],
 "metadata": {
  "kernelspec": {
   "display_name": "Python 3",
   "language": "python",
   "name": "python3"
  },
  "language_info": {
   "codemirror_mode": {
    "name": "ipython",
    "version": 3
   },
   "file_extension": ".py",
   "mimetype": "text/x-python",
   "name": "python",
   "nbconvert_exporter": "python",
   "pygments_lexer": "ipython3",
   "version": "3.6.2"
  }
 },
 "nbformat": 4,
 "nbformat_minor": 2
}
